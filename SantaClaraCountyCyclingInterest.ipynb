{
 "cells": [
  {
   "cell_type": "markdown",
   "metadata": {},
   "source": [
    "# Data Analysis for Santa Clara Master Gardener Club by Michelle Petersen"
   ]
  },
  {
   "cell_type": "code",
   "execution_count": 394,
   "metadata": {},
   "outputs": [],
   "source": [
    "# Imports\n",
    "%matplotlib inline\n",
    "import pandas as pd\n",
    "import numpy as np\n",
    "import json\n",
    "import geojson\n",
    "from bs4 import BeautifulSoup\n",
    "import matplotlib.pyplot as plt\n",
    "import seaborn as sns"
   ]
  },
  {
   "cell_type": "markdown",
   "metadata": {},
   "source": [
    "## Gather"
   ]
  },
  {
   "cell_type": "markdown",
   "metadata": {},
   "source": [
    "#### Read Master Gardener Contacts and Nextdoor Neighborhood Information from Google Doc Spreadsheet"
   ]
  },
  {
   "cell_type": "code",
   "execution_count": null,
   "metadata": {},
   "outputs": [],
   "source": [
    "import gspread\n",
    "from google.oauth2 import service_account\n",
    "from google.auth.transport.requests import AuthorizedSession\n",
    "\n",
    "# The scope to read the spreadsheet\n",
    "_GS_SCOPE = ['https://www.googleapis.com/auth/spreadsheets.readonly',\n",
    "            'https://www.googleapis.com/auth/drive']\n",
    "\n",
    "# The ID and range of the MasterGardener spreadsheet.\n",
    "_GS_ID = '1pPOuRZ9YsKwXGKgxzSm9tXCR_dgkCY4WNh3rg_cFX08'\n",
    "\n",
    "service_account_info = json.load(open('Master Gardener-7e906e507d9d.json'))\n",
    "credentials = service_account.Credentials.from_service_account_info(\n",
    "    service_account_info,\n",
    "    scopes=_GS_SCOPE)\n",
    "\n",
    "if credentials:\n",
    "    gc = gspread.Client(auth=credentials)\n",
    "    gc.session = AuthorizedSession(credentials)\n",
    "    book = gc.open_by_key(_GS_ID)\n",
    "    print(book.title)\n",
    "    worksheet_list = book.worksheets()\n",
    "    for worksheet in worksheet_list:\n",
    "        print(worksheet)"
   ]
  },
  {
   "cell_type": "code",
   "execution_count": null,
   "metadata": {},
   "outputs": [],
   "source": [
    "# Load the data from each sheet into a dataframe\n",
    "df_contacts = pd.DataFrame(book.get_worksheet(0).get_all_values())\n",
    "df_contact_neighborhood = pd.DataFrame(book.get_worksheet(1).get_all_values())\n",
    "df_nextdoor_neighborhoods = pd.DataFrame(book.get_worksheet(2).get_all_values())"
   ]
  },
  {
   "cell_type": "code",
   "execution_count": null,
   "metadata": {},
   "outputs": [],
   "source": [
    "# Update the column names for the contact worksheet\n",
    "df_contacts.reset_index()\n",
    "df_contacts.columns = ['Name', 'Email', 'Neighborhood', 'State', 'County', 'City']"
   ]
  },
  {
   "cell_type": "code",
   "execution_count": null,
   "metadata": {},
   "outputs": [],
   "source": [
    "# Remove the row with column names since gspread reads it as data\n",
    "df_contacts = df_contacts[df_contacts['Name'] != 'Name']"
   ]
  },
  {
   "cell_type": "code",
   "execution_count": null,
   "metadata": {},
   "outputs": [],
   "source": [
    "# Verify column names and data\n",
    "df_contacts.head()"
   ]
  },
  {
   "cell_type": "code",
   "execution_count": null,
   "metadata": {},
   "outputs": [],
   "source": [
    "# Update the column names for the contact to neighborhood mapping worksheet\n",
    "df_contact_neighborhood.reset_index()\n",
    "df_contact_neighborhood.columns = ['Name', 'Neighborhood', 'State', 'County', 'City']"
   ]
  },
  {
   "cell_type": "code",
   "execution_count": null,
   "metadata": {},
   "outputs": [],
   "source": [
    "# Remove the row with column names since gspread reads it as data\n",
    "df_contact_neighborhood = df_contact_neighborhood[df_contact_neighborhood['Name'] != 'Name']"
   ]
  },
  {
   "cell_type": "code",
   "execution_count": null,
   "metadata": {},
   "outputs": [],
   "source": [
    "# Verify column names and data\n",
    "df_contact_neighborhood.head()"
   ]
  },
  {
   "cell_type": "code",
   "execution_count": null,
   "metadata": {},
   "outputs": [],
   "source": [
    "# Update the column names for the nextdoor neighborhood worksheet\n",
    "df_nextdoor_neighborhoods.reset_index()\n",
    "df_nextdoor_neighborhoods.columns = ['State', 'County', 'City', 'Neighborhood', 'Link', 'Nextdoor ID', \n",
    "                                     'Geometry', 'Interests', 'Interest in Gardening', 'Percentage of Homeowners', \n",
    "                                     'Number of Residents', 'Average Age', 'Attributes', \"Level of Gardening Interest\",\n",
    "                                     'Interest in Cycling', 'Level of Cycling Interest']"
   ]
  },
  {
   "cell_type": "code",
   "execution_count": null,
   "metadata": {},
   "outputs": [],
   "source": [
    "# Remove the row with column names since gspread reads it as data\n",
    "df_nextdoor_neighborhoods = df_nextdoor_neighborhoods[df_nextdoor_neighborhoods['Neighborhood'] != 'Neighborhood']"
   ]
  },
  {
   "cell_type": "code",
   "execution_count": 423,
   "metadata": {},
   "outputs": [],
   "source": [
    "# Update columns to numeric data types\n",
    "df_nextdoor_neighborhoods[[\"Nextdoor ID\", \"Interest in Gardening\", \"Interest in Cycling\", \"Percentage of Homeowners\", \"Number of Residents\", \"Average Age\"]] = df_nextdoor_neighborhoods[[\"Nextdoor ID\", \"Interest in Gardening\", \"Interest in Cycling\", \"Percentage of Homeowners\", \"Number of Residents\", \"Average Age\"]].apply(pd.to_numeric)"
   ]
  },
  {
   "cell_type": "code",
   "execution_count": 429,
   "metadata": {},
   "outputs": [
    {
     "data": {
      "text/html": [
       "<div>\n",
       "<style scoped>\n",
       "    .dataframe tbody tr th:only-of-type {\n",
       "        vertical-align: middle;\n",
       "    }\n",
       "\n",
       "    .dataframe tbody tr th {\n",
       "        vertical-align: top;\n",
       "    }\n",
       "\n",
       "    .dataframe thead th {\n",
       "        text-align: right;\n",
       "    }\n",
       "</style>\n",
       "<table border=\"1\" class=\"dataframe\">\n",
       "  <thead>\n",
       "    <tr style=\"text-align: right;\">\n",
       "      <th></th>\n",
       "      <th>State</th>\n",
       "      <th>County</th>\n",
       "      <th>City</th>\n",
       "      <th>Neighborhood</th>\n",
       "      <th>Link</th>\n",
       "      <th>Nextdoor ID</th>\n",
       "      <th>Geometry</th>\n",
       "      <th>Interests</th>\n",
       "      <th>Interest in Gardening</th>\n",
       "      <th>Percentage of Homeowners</th>\n",
       "      <th>Number of Residents</th>\n",
       "      <th>Average Age</th>\n",
       "      <th>Attributes</th>\n",
       "      <th>Level of Gardening Interest</th>\n",
       "      <th>Interest in Cycling</th>\n",
       "    </tr>\n",
       "  </thead>\n",
       "  <tbody>\n",
       "    <tr>\n",
       "      <th>1023</th>\n",
       "      <td>CA</td>\n",
       "      <td>Santa Clara</td>\n",
       "      <td>San Jose</td>\n",
       "      <td>Wooster/Tripp</td>\n",
       "      <td>https://nextdoor.com/neighborhood/3woostertrip...</td>\n",
       "      <td>170274</td>\n",
       "      <td>{\"type\": \"Feature\", \"geometry\": {\"type\": \"Mult...</td>\n",
       "      <td>['Dogs', 'Hiking &amp; Trails', 'Cooking', 'Home I...</td>\n",
       "      <td>4</td>\n",
       "      <td>32</td>\n",
       "      <td>1796</td>\n",
       "      <td>45</td>\n",
       "      <td>['Friendly', 'Convenient', 'Dog Friendly', 'Do...</td>\n",
       "      <td>Medium</td>\n",
       "      <td>10</td>\n",
       "    </tr>\n",
       "    <tr>\n",
       "      <th>1024</th>\n",
       "      <td>CA</td>\n",
       "      <td>Santa Clara</td>\n",
       "      <td>Gilroy</td>\n",
       "      <td>Wren/ Wayland/ Welburn</td>\n",
       "      <td>https://nextdoor.com/neighborhood/wrenwaylandw...</td>\n",
       "      <td>288652</td>\n",
       "      <td>{\"type\": \"Feature\", \"geometry\": {\"type\": \"Mult...</td>\n",
       "      <td>['Cooking', 'Walking', 'Home Improvement &amp; DIY...</td>\n",
       "      <td>10</td>\n",
       "      <td>49</td>\n",
       "      <td>2400</td>\n",
       "      <td>51</td>\n",
       "      <td>['Family Friendly', 'Friendly', 'Kids', 'Quiet...</td>\n",
       "      <td>None</td>\n",
       "      <td>10</td>\n",
       "    </tr>\n",
       "    <tr>\n",
       "      <th>1025</th>\n",
       "      <td>CA</td>\n",
       "      <td>Santa Clara</td>\n",
       "      <td>San Jose</td>\n",
       "      <td>Yarwood Ct</td>\n",
       "      <td>https://nextdoor.com/neighborhood/yarwoodct--s...</td>\n",
       "      <td>248533</td>\n",
       "      <td>{\"type\": \"Feature\", \"geometry\": {\"type\": \"Mult...</td>\n",
       "      <td>['Hiking &amp; Trails', 'Walking', 'Yoga', 'Seeing...</td>\n",
       "      <td>10</td>\n",
       "      <td>56</td>\n",
       "      <td>633</td>\n",
       "      <td>44</td>\n",
       "      <td>['Dog Friendly', 'Proximity', 'Convenient', 'F...</td>\n",
       "      <td>None</td>\n",
       "      <td>10</td>\n",
       "    </tr>\n",
       "    <tr>\n",
       "      <th>1026</th>\n",
       "      <td>CA</td>\n",
       "      <td>Santa Clara</td>\n",
       "      <td>San Jose</td>\n",
       "      <td>Yerba Buena</td>\n",
       "      <td>https://nextdoor.com/neighborhood/7yerbabuena-...</td>\n",
       "      <td>170268</td>\n",
       "      <td>{\"type\": \"Feature\", \"geometry\": {\"type\": \"Mult...</td>\n",
       "      <td>['Home Improvement &amp; DIY', 'Dogs', 'Gardening ...</td>\n",
       "      <td>2</td>\n",
       "      <td>0</td>\n",
       "      <td>0</td>\n",
       "      <td>0</td>\n",
       "      <td>['Proximity', 'Quiet', 'Walkability', 'Weather']</td>\n",
       "      <td>High</td>\n",
       "      <td>10</td>\n",
       "    </tr>\n",
       "    <tr>\n",
       "      <th>1027</th>\n",
       "      <td>CA</td>\n",
       "      <td>Santa Clara</td>\n",
       "      <td>Los Gatos</td>\n",
       "      <td>Zayante</td>\n",
       "      <td>https://nextdoor.com/neighborhood/zayanteca--l...</td>\n",
       "      <td>250201</td>\n",
       "      <td>{\"type\": \"Feature\", \"geometry\": {\"type\": \"Mult...</td>\n",
       "      <td>['Hiking &amp; Trails', 'Books', 'Photography', 'D...</td>\n",
       "      <td>4</td>\n",
       "      <td>80</td>\n",
       "      <td>1933</td>\n",
       "      <td>53</td>\n",
       "      <td>['Secluded', 'Beautiful', 'Trees', 'Nature', '...</td>\n",
       "      <td>Medium</td>\n",
       "      <td>5</td>\n",
       "    </tr>\n",
       "  </tbody>\n",
       "</table>\n",
       "</div>"
      ],
      "text/plain": [
       "     State       County       City            Neighborhood  \\\n",
       "1023    CA  Santa Clara   San Jose           Wooster/Tripp   \n",
       "1024    CA  Santa Clara     Gilroy  Wren/ Wayland/ Welburn   \n",
       "1025    CA  Santa Clara   San Jose              Yarwood Ct   \n",
       "1026    CA  Santa Clara   San Jose             Yerba Buena   \n",
       "1027    CA  Santa Clara  Los Gatos                 Zayante   \n",
       "\n",
       "                                                   Link  Nextdoor ID  \\\n",
       "1023  https://nextdoor.com/neighborhood/3woostertrip...       170274   \n",
       "1024  https://nextdoor.com/neighborhood/wrenwaylandw...       288652   \n",
       "1025  https://nextdoor.com/neighborhood/yarwoodct--s...       248533   \n",
       "1026  https://nextdoor.com/neighborhood/7yerbabuena-...       170268   \n",
       "1027  https://nextdoor.com/neighborhood/zayanteca--l...       250201   \n",
       "\n",
       "                                               Geometry  \\\n",
       "1023  {\"type\": \"Feature\", \"geometry\": {\"type\": \"Mult...   \n",
       "1024  {\"type\": \"Feature\", \"geometry\": {\"type\": \"Mult...   \n",
       "1025  {\"type\": \"Feature\", \"geometry\": {\"type\": \"Mult...   \n",
       "1026  {\"type\": \"Feature\", \"geometry\": {\"type\": \"Mult...   \n",
       "1027  {\"type\": \"Feature\", \"geometry\": {\"type\": \"Mult...   \n",
       "\n",
       "                                              Interests  \\\n",
       "1023  ['Dogs', 'Hiking & Trails', 'Cooking', 'Home I...   \n",
       "1024  ['Cooking', 'Walking', 'Home Improvement & DIY...   \n",
       "1025  ['Hiking & Trails', 'Walking', 'Yoga', 'Seeing...   \n",
       "1026  ['Home Improvement & DIY', 'Dogs', 'Gardening ...   \n",
       "1027  ['Hiking & Trails', 'Books', 'Photography', 'D...   \n",
       "\n",
       "      Interest in Gardening  Percentage of Homeowners  Number of Residents  \\\n",
       "1023                      4                        32                 1796   \n",
       "1024                     10                        49                 2400   \n",
       "1025                     10                        56                  633   \n",
       "1026                      2                         0                    0   \n",
       "1027                      4                        80                 1933   \n",
       "\n",
       "      Average Age                                         Attributes  \\\n",
       "1023           45  ['Friendly', 'Convenient', 'Dog Friendly', 'Do...   \n",
       "1024           51  ['Family Friendly', 'Friendly', 'Kids', 'Quiet...   \n",
       "1025           44  ['Dog Friendly', 'Proximity', 'Convenient', 'F...   \n",
       "1026            0   ['Proximity', 'Quiet', 'Walkability', 'Weather']   \n",
       "1027           53  ['Secluded', 'Beautiful', 'Trees', 'Nature', '...   \n",
       "\n",
       "     Level of Gardening Interest  Interest in Cycling  \n",
       "1023                      Medium                   10  \n",
       "1024                        None                   10  \n",
       "1025                        None                   10  \n",
       "1026                        High                   10  \n",
       "1027                      Medium                    5  "
      ]
     },
     "execution_count": 429,
     "metadata": {},
     "output_type": "execute_result"
    }
   ],
   "source": [
    "# Verify column names and data\n",
    "df_nextdoor_neighborhoods.head()"
   ]
  },
  {
   "cell_type": "code",
   "execution_count": 380,
   "metadata": {},
   "outputs": [
    {
     "name": "stdout",
     "output_type": "stream",
     "text": [
      "<class 'pandas.core.frame.DataFrame'>\n",
      "Int64Index: 1027 entries, 1 to 1027\n",
      "Data columns (total 14 columns):\n",
      "State                          1027 non-null object\n",
      "County                         1027 non-null object\n",
      "City                           1027 non-null object\n",
      "Neighborhood                   1027 non-null object\n",
      "Link                           1027 non-null object\n",
      "Nextdoor ID                    1027 non-null int64\n",
      "Geometry                       1027 non-null object\n",
      "Interests                      1027 non-null object\n",
      "Interest in Gardening          1027 non-null int64\n",
      "Percentage of Homeowners       1027 non-null int64\n",
      "Number of Residents            1027 non-null int64\n",
      "Average Age                    1027 non-null int64\n",
      "Attributes                     1027 non-null object\n",
      "Level of Gardining Interest    1027 non-null object\n",
      "dtypes: int64(5), object(9)\n",
      "memory usage: 120.4+ KB\n"
     ]
    }
   ],
   "source": [
    "# Verify neighborhood columns and data\n",
    "df_nextdoor_neighborhoods.info()"
   ]
  },
  {
   "cell_type": "code",
   "execution_count": 344,
   "metadata": {},
   "outputs": [],
   "source": [
    "# Gather attribute data from neighborhoods\n",
    "df_attributes = pd.read_csv(\"nextdoor_attributes_master.csv\")"
   ]
  },
  {
   "cell_type": "code",
   "execution_count": 357,
   "metadata": {},
   "outputs": [],
   "source": [
    "# Gather interest data from neighborhoods\n",
    "df_interests = pd.read_csv(\"nextdoor_interests_master.csv\")"
   ]
  },
  {
   "cell_type": "markdown",
   "metadata": {},
   "source": [
    "## Store"
   ]
  },
  {
   "cell_type": "code",
   "execution_count": 519,
   "metadata": {},
   "outputs": [],
   "source": [
    "# Resave neighborhood information to csv files for input to Tableau\n",
    "df_nextdoor_neighborhoods.to_csv('nextdoor_with_properties_master.csv', index=False)"
   ]
  },
  {
   "cell_type": "code",
   "execution_count": null,
   "metadata": {},
   "outputs": [],
   "source": [
    "# Resave information to csv files for input to Tableau\n",
    "df_contacts.to_csv('mg_contacts_master.csv', index=False)\n",
    "df_contact_neighborhood.to_csv('mg_contact_neighborhood_master.csv', index=False)"
   ]
  },
  {
   "cell_type": "code",
   "execution_count": null,
   "metadata": {},
   "outputs": [],
   "source": [
    "# Save geographic information to geojson file for input to Tableau\n",
    "from geojson import Point, Feature, FeatureCollection, dumps\n",
    "\n",
    "features = []\n",
    "for index, row in df_nextdoor_neighborhoods.iterrows():\n",
    "    if (len(row[\"Geometry\"]) > 0):\n",
    "        features.append(json.loads(row[\"Geometry\"]))\n",
    "\n",
    "feature_collection = FeatureCollection(features)\n",
    "\n",
    "with open('nextdoor_neighborhoods.geojson', 'w') as f:\n",
    "   dump(feature_collection, f)"
   ]
  },
  {
   "cell_type": "markdown",
   "metadata": {},
   "source": [
    "## Analysis and Visualization"
   ]
  },
  {
   "cell_type": "markdown",
   "metadata": {},
   "source": [
    "### Viz 1:"
   ]
  },
  {
   "cell_type": "code",
   "execution_count": 388,
   "metadata": {},
   "outputs": [
    {
     "data": {
      "text/plain": [
       "158"
      ]
     },
     "execution_count": 388,
     "metadata": {},
     "output_type": "execute_result"
    }
   ],
   "source": [
    "df_interests[\"Interest\"].nunique()"
   ]
  },
  {
   "cell_type": "code",
   "execution_count": 362,
   "metadata": {},
   "outputs": [
    {
     "data": {
      "text/plain": [
       "Hiking & Trails           904\n",
       "Walking                   876\n",
       "Cooking                   839\n",
       "Home Improvement & DIY    765\n",
       "Dogs                      750\n",
       "Gardening & Landscape     722\n",
       "Seeing Live Music         591\n",
       "Books                     556\n",
       "Volunteering              518\n",
       "Biking & Cycling          501\n",
       "Name: Interest, dtype: int64"
      ]
     },
     "execution_count": 362,
     "metadata": {},
     "output_type": "execute_result"
    }
   ],
   "source": [
    "df_interests[\"Interest\"].value_counts().nlargest(10)"
   ]
  },
  {
   "cell_type": "code",
   "execution_count": 389,
   "metadata": {},
   "outputs": [
    {
     "data": {
      "text/plain": [
       "80"
      ]
     },
     "execution_count": 389,
     "metadata": {},
     "output_type": "execute_result"
    }
   ],
   "source": [
    "df_attributes[\"Attribute\"].nunique()"
   ]
  },
  {
   "cell_type": "code",
   "execution_count": 361,
   "metadata": {},
   "outputs": [
    {
     "data": {
      "text/plain": [
       "Family Friendly    694\n",
       "Peaceful           675\n",
       "Friendly           598\n",
       "Clean              546\n",
       "Dog Friendly       500\n",
       "Quiet              487\n",
       "Neighbors          462\n",
       "Safe               455\n",
       "Beautiful          414\n",
       "Walkability        398\n",
       "Name: Attribute, dtype: int64"
      ]
     },
     "execution_count": 361,
     "metadata": {},
     "output_type": "execute_result"
    }
   ],
   "source": [
    "df_attributes[\"Attribute\"].value_counts().nlargest(10)"
   ]
  },
  {
   "cell_type": "code",
   "execution_count": 435,
   "metadata": {},
   "outputs": [
    {
     "data": {
      "text/html": [
       "<div>\n",
       "<style scoped>\n",
       "    .dataframe tbody tr th:only-of-type {\n",
       "        vertical-align: middle;\n",
       "    }\n",
       "\n",
       "    .dataframe tbody tr th {\n",
       "        vertical-align: top;\n",
       "    }\n",
       "\n",
       "    .dataframe thead th {\n",
       "        text-align: right;\n",
       "    }\n",
       "</style>\n",
       "<table border=\"1\" class=\"dataframe\">\n",
       "  <thead>\n",
       "    <tr style=\"text-align: right;\">\n",
       "      <th></th>\n",
       "      <th>Nextdoor ID</th>\n",
       "      <th>Interest in Gardening</th>\n",
       "      <th>Percentage of Homeowners</th>\n",
       "      <th>Number of Residents</th>\n",
       "      <th>Average Age</th>\n",
       "      <th>Interest in Cycling</th>\n",
       "    </tr>\n",
       "  </thead>\n",
       "  <tbody>\n",
       "    <tr>\n",
       "      <th>count</th>\n",
       "      <td>1027.000000</td>\n",
       "      <td>1027.000000</td>\n",
       "      <td>1027.000000</td>\n",
       "      <td>1027.000000</td>\n",
       "      <td>1027.000000</td>\n",
       "      <td>1027.000000</td>\n",
       "    </tr>\n",
       "    <tr>\n",
       "      <th>mean</th>\n",
       "      <td>197889.446933</td>\n",
       "      <td>5.941577</td>\n",
       "      <td>60.799416</td>\n",
       "      <td>2647.576436</td>\n",
       "      <td>45.721519</td>\n",
       "      <td>8.646543</td>\n",
       "    </tr>\n",
       "    <tr>\n",
       "      <th>std</th>\n",
       "      <td>91670.136795</td>\n",
       "      <td>10.074309</td>\n",
       "      <td>28.420757</td>\n",
       "      <td>2727.503741</td>\n",
       "      <td>16.299833</td>\n",
       "      <td>9.525113</td>\n",
       "    </tr>\n",
       "    <tr>\n",
       "      <th>min</th>\n",
       "      <td>822.000000</td>\n",
       "      <td>0.000000</td>\n",
       "      <td>0.000000</td>\n",
       "      <td>0.000000</td>\n",
       "      <td>0.000000</td>\n",
       "      <td>0.000000</td>\n",
       "    </tr>\n",
       "    <tr>\n",
       "      <th>25%</th>\n",
       "      <td>167299.500000</td>\n",
       "      <td>2.000000</td>\n",
       "      <td>45.000000</td>\n",
       "      <td>809.000000</td>\n",
       "      <td>46.000000</td>\n",
       "      <td>6.000000</td>\n",
       "    </tr>\n",
       "    <tr>\n",
       "      <th>50%</th>\n",
       "      <td>179718.000000</td>\n",
       "      <td>4.000000</td>\n",
       "      <td>69.000000</td>\n",
       "      <td>1888.000000</td>\n",
       "      <td>50.000000</td>\n",
       "      <td>10.000000</td>\n",
       "    </tr>\n",
       "    <tr>\n",
       "      <th>75%</th>\n",
       "      <td>244652.000000</td>\n",
       "      <td>10.000000</td>\n",
       "      <td>83.000000</td>\n",
       "      <td>3633.500000</td>\n",
       "      <td>54.000000</td>\n",
       "      <td>10.000000</td>\n",
       "    </tr>\n",
       "    <tr>\n",
       "      <th>max</th>\n",
       "      <td>471965.000000</td>\n",
       "      <td>100.000000</td>\n",
       "      <td>98.000000</td>\n",
       "      <td>20571.000000</td>\n",
       "      <td>69.000000</td>\n",
       "      <td>100.000000</td>\n",
       "    </tr>\n",
       "  </tbody>\n",
       "</table>\n",
       "</div>"
      ],
      "text/plain": [
       "         Nextdoor ID  Interest in Gardening  Percentage of Homeowners  \\\n",
       "count    1027.000000            1027.000000               1027.000000   \n",
       "mean   197889.446933               5.941577                 60.799416   \n",
       "std     91670.136795              10.074309                 28.420757   \n",
       "min       822.000000               0.000000                  0.000000   \n",
       "25%    167299.500000               2.000000                 45.000000   \n",
       "50%    179718.000000               4.000000                 69.000000   \n",
       "75%    244652.000000              10.000000                 83.000000   \n",
       "max    471965.000000             100.000000                 98.000000   \n",
       "\n",
       "       Number of Residents  Average Age  Interest in Cycling  \n",
       "count          1027.000000  1027.000000          1027.000000  \n",
       "mean           2647.576436    45.721519             8.646543  \n",
       "std            2727.503741    16.299833             9.525113  \n",
       "min               0.000000     0.000000             0.000000  \n",
       "25%             809.000000    46.000000             6.000000  \n",
       "50%            1888.000000    50.000000            10.000000  \n",
       "75%            3633.500000    54.000000            10.000000  \n",
       "max           20571.000000    69.000000           100.000000  "
      ]
     },
     "execution_count": 435,
     "metadata": {},
     "output_type": "execute_result"
    }
   ],
   "source": [
    "df_nextdoor_neighborhoods.describe()"
   ]
  },
  {
   "cell_type": "code",
   "execution_count": 436,
   "metadata": {},
   "outputs": [
    {
     "data": {
      "text/plain": [
       "<matplotlib.axes._subplots.AxesSubplot at 0x1a1cfb2e80>"
      ]
     },
     "execution_count": 436,
     "metadata": {},
     "output_type": "execute_result"
    },
    {
     "data": {
      "image/png": "[encoded data removed]",
      "text/plain": [
       "<Figure size 360x360 with 2 Axes>"
      ]
     },
     "metadata": {
      "needs_background": "light"
     },
     "output_type": "display_data"
    }
   ],
   "source": [
    "f, ax = plt.subplots(figsize=(5, 5))\n",
    "corr = df_nextdoor_neighborhoods.corr()\n",
    "sns.heatmap(corr, mask=np.zeros_like(corr, dtype=np.bool), cmap=sns.diverging_palette(220, 20, as_cmap=True),\n",
    "            square=True, ax=ax)"
   ]
  },
  {
   "cell_type": "code",
   "execution_count": 440,
   "metadata": {},
   "outputs": [
    {
     "data": {
      "text/plain": [
       "<matplotlib.axes._subplots.AxesSubplot at 0x1a1d125278>"
      ]
     },
     "execution_count": 440,
     "metadata": {},
     "output_type": "execute_result"
    },
    {
     "data": {
      "image/png": "[encoded data removed]",
      "text/plain": [
       "<Figure size 432x288 with 1 Axes>"
      ]
     },
     "metadata": {
      "needs_background": "light"
     },
     "output_type": "display_data"
    }
   ],
   "source": [
    "# Plot a historgram and kernel density estimate for Average Age\n",
    "sns.distplot(df_nextdoor_neighborhoods[\"Average Age\"], color=\"m\")"
   ]
  },
  {
   "cell_type": "code",
   "execution_count": 441,
   "metadata": {},
   "outputs": [
    {
     "data": {
      "text/plain": [
       "<matplotlib.axes._subplots.AxesSubplot at 0x1a1d2ba2b0>"
      ]
     },
     "execution_count": 441,
     "metadata": {},
     "output_type": "execute_result"
    },
    {
     "data": {
      "image/png": "[encoded data removed]",
      "text/plain": [
       "<Figure size 432x288 with 1 Axes>"
      ]
     },
     "metadata": {
      "needs_background": "light"
     },
     "output_type": "display_data"
    }
   ],
   "source": [
    "# Plot a historgram and kernel density estimate for Percentage of Homeowners\n",
    "sns.distplot(df_nextdoor_neighborhoods[\"Percentage of Homeowners\"], color=\"m\")"
   ]
  },
  {
   "cell_type": "code",
   "execution_count": 443,
   "metadata": {},
   "outputs": [
    {
     "data": {
      "text/plain": [
       "<matplotlib.axes._subplots.AxesSubplot at 0x1a1d5e9d68>"
      ]
     },
     "execution_count": 443,
     "metadata": {},
     "output_type": "execute_result"
    },
    {
     "data": {
      "image/png": "[encoded data removed]",
      "text/plain": [
       "<Figure size 432x288 with 1 Axes>"
      ]
     },
     "metadata": {
      "needs_background": "light"
     },
     "output_type": "display_data"
    }
   ],
   "source": [
    "# Plot a historgram and kernel density estimate for Number of Residents\n",
    "sns.distplot(df_nextdoor_neighborhoods[\"Number of Residents\"], color=\"m\")"
   ]
  },
  {
   "cell_type": "code",
   "execution_count": 520,
   "metadata": {},
   "outputs": [
    {
     "data": {
      "text/plain": [
       "<matplotlib.axes._subplots.AxesSubplot at 0x1a1e304ac8>"
      ]
     },
     "execution_count": 520,
     "metadata": {},
     "output_type": "execute_result"
    },
    {
     "data": {
      "image/png": "[encoded data removed]",
      "text/plain": [
       "<Figure size 432x288 with 1 Axes>"
      ]
     },
     "metadata": {
      "needs_background": "light"
     },
     "output_type": "display_data"
    }
   ],
   "source": [
    "# Plot a historgram and kernel density estimate for Interest in Cycling\n",
    "df_plot = df_nextdoor_neighborhoods.loc[df_nextdoor_neighborhoods[\"Interest in Cycling\"] != 100]\n",
    "sns.distplot(df_plot[\"Interest in Cycling\"], color=\"m\")"
   ]
  },
  {
   "cell_type": "code",
   "execution_count": 521,
   "metadata": {},
   "outputs": [
    {
     "data": {
      "text/plain": [
       "<matplotlib.axes._subplots.AxesSubplot at 0x1a1e304710>"
      ]
     },
     "execution_count": 521,
     "metadata": {},
     "output_type": "execute_result"
    },
    {
     "data": {
      "image/png": "[encoded data removed]",
      "text/plain": [
       "<Figure size 432x288 with 1 Axes>"
      ]
     },
     "metadata": {
      "needs_background": "light"
     },
     "output_type": "display_data"
    }
   ],
   "source": [
    "# Plot a historgram and kernel density estimate for Interest in Cycling\n",
    "df_plot = df_plot.loc[df_plot[\"Interest in Cycling\"] != 10]\n",
    "sns.distplot(df_plot[\"Interest in Cycling\"], color=\"m\")"
   ]
  },
  {
   "cell_type": "code",
   "execution_count": 522,
   "metadata": {},
   "outputs": [
    {
     "data": {
      "text/html": [
       "<div>\n",
       "<style scoped>\n",
       "    .dataframe tbody tr th:only-of-type {\n",
       "        vertical-align: middle;\n",
       "    }\n",
       "\n",
       "    .dataframe tbody tr th {\n",
       "        vertical-align: top;\n",
       "    }\n",
       "\n",
       "    .dataframe thead th {\n",
       "        text-align: right;\n",
       "    }\n",
       "</style>\n",
       "<table border=\"1\" class=\"dataframe\">\n",
       "  <thead>\n",
       "    <tr style=\"text-align: right;\">\n",
       "      <th></th>\n",
       "      <th>Nextdoor ID</th>\n",
       "      <th>Interest in Gardening</th>\n",
       "      <th>Percentage of Homeowners</th>\n",
       "      <th>Number of Residents</th>\n",
       "      <th>Average Age</th>\n",
       "      <th>Interest in Cycling</th>\n",
       "    </tr>\n",
       "  </thead>\n",
       "  <tbody>\n",
       "    <tr>\n",
       "      <th>count</th>\n",
       "      <td>502.000000</td>\n",
       "      <td>502.000000</td>\n",
       "      <td>502.000000</td>\n",
       "      <td>502.000000</td>\n",
       "      <td>502.000000</td>\n",
       "      <td>502.000000</td>\n",
       "    </tr>\n",
       "    <tr>\n",
       "      <th>mean</th>\n",
       "      <td>185797.555777</td>\n",
       "      <td>5.115538</td>\n",
       "      <td>62.948207</td>\n",
       "      <td>2719.567729</td>\n",
       "      <td>47.123506</td>\n",
       "      <td>5.438247</td>\n",
       "    </tr>\n",
       "    <tr>\n",
       "      <th>std</th>\n",
       "      <td>89404.307818</td>\n",
       "      <td>3.861189</td>\n",
       "      <td>27.302791</td>\n",
       "      <td>2823.627267</td>\n",
       "      <td>14.737649</td>\n",
       "      <td>2.651247</td>\n",
       "    </tr>\n",
       "    <tr>\n",
       "      <th>min</th>\n",
       "      <td>822.000000</td>\n",
       "      <td>0.000000</td>\n",
       "      <td>0.000000</td>\n",
       "      <td>0.000000</td>\n",
       "      <td>0.000000</td>\n",
       "      <td>0.000000</td>\n",
       "    </tr>\n",
       "    <tr>\n",
       "      <th>25%</th>\n",
       "      <td>164659.500000</td>\n",
       "      <td>2.000000</td>\n",
       "      <td>46.000000</td>\n",
       "      <td>886.000000</td>\n",
       "      <td>46.000000</td>\n",
       "      <td>3.000000</td>\n",
       "    </tr>\n",
       "    <tr>\n",
       "      <th>50%</th>\n",
       "      <td>178651.000000</td>\n",
       "      <td>4.000000</td>\n",
       "      <td>70.000000</td>\n",
       "      <td>1890.000000</td>\n",
       "      <td>51.000000</td>\n",
       "      <td>6.000000</td>\n",
       "    </tr>\n",
       "    <tr>\n",
       "      <th>75%</th>\n",
       "      <td>224778.000000</td>\n",
       "      <td>10.000000</td>\n",
       "      <td>85.000000</td>\n",
       "      <td>3609.750000</td>\n",
       "      <td>54.000000</td>\n",
       "      <td>8.000000</td>\n",
       "    </tr>\n",
       "    <tr>\n",
       "      <th>max</th>\n",
       "      <td>460423.000000</td>\n",
       "      <td>10.000000</td>\n",
       "      <td>98.000000</td>\n",
       "      <td>20571.000000</td>\n",
       "      <td>67.000000</td>\n",
       "      <td>9.000000</td>\n",
       "    </tr>\n",
       "  </tbody>\n",
       "</table>\n",
       "</div>"
      ],
      "text/plain": [
       "         Nextdoor ID  Interest in Gardening  Percentage of Homeowners  \\\n",
       "count     502.000000             502.000000                502.000000   \n",
       "mean   185797.555777               5.115538                 62.948207   \n",
       "std     89404.307818               3.861189                 27.302791   \n",
       "min       822.000000               0.000000                  0.000000   \n",
       "25%    164659.500000               2.000000                 46.000000   \n",
       "50%    178651.000000               4.000000                 70.000000   \n",
       "75%    224778.000000              10.000000                 85.000000   \n",
       "max    460423.000000              10.000000                 98.000000   \n",
       "\n",
       "       Number of Residents  Average Age  Interest in Cycling  \n",
       "count           502.000000   502.000000           502.000000  \n",
       "mean           2719.567729    47.123506             5.438247  \n",
       "std            2823.627267    14.737649             2.651247  \n",
       "min               0.000000     0.000000             0.000000  \n",
       "25%             886.000000    46.000000             3.000000  \n",
       "50%            1890.000000    51.000000             6.000000  \n",
       "75%            3609.750000    54.000000             8.000000  \n",
       "max           20571.000000    67.000000             9.000000  "
      ]
     },
     "execution_count": 522,
     "metadata": {},
     "output_type": "execute_result"
    }
   ],
   "source": [
    "df_plot.describe()"
   ]
  },
  {
   "cell_type": "code",
   "execution_count": 523,
   "metadata": {},
   "outputs": [
    {
     "data": {
      "text/plain": [
       "<matplotlib.legend.Legend at 0x1a1f46a748>"
      ]
     },
     "execution_count": 523,
     "metadata": {},
     "output_type": "execute_result"
    },
    {
     "data": {
      "image/png": "[encoded data removed]",
      "text/plain": [
       "<Figure size 432x288 with 1 Axes>"
      ]
     },
     "metadata": {
      "needs_background": "light"
     },
     "output_type": "display_data"
    }
   ],
   "source": [
    "# Scatter plot for Interest in Cycling and Age and Homeownership\n",
    "df_cycling = df_nextdoor_neighborhoods.loc[(df_nextdoor_neighborhoods[\"Level of Cycling Interest\"] != \"None\") \n",
    "                                             & (df_nextdoor_neighborhoods[\"Level of Cycling Interest\"] != \"Other\")]\n",
    "interest_ranking = [\"High\", \"Medium\", \"Low\"]\n",
    "sns.scatterplot(x=\"Average Age\", y=\"Percentage of Homeowners\", data=df_cycling, \n",
    "           hue='Level of Cycling Interest', legend=\"full\", palette=\"Set2\",\n",
    "           hue_order=interest_ranking)\n",
    " \n",
    "# Move the legend to an empty part of the plot\n",
    "plt.legend(loc='lower left')"
   ]
  },
  {
   "cell_type": "code",
   "execution_count": 524,
   "metadata": {},
   "outputs": [],
   "source": [
    "df_high = df_nextdoor_neighborhoods.loc[df_nextdoor_neighborhoods[\"Level of Cycling Interest\"] == \"High\"]"
   ]
  },
  {
   "cell_type": "code",
   "execution_count": 525,
   "metadata": {},
   "outputs": [
    {
     "data": {
      "text/html": [
       "<div>\n",
       "<style scoped>\n",
       "    .dataframe tbody tr th:only-of-type {\n",
       "        vertical-align: middle;\n",
       "    }\n",
       "\n",
       "    .dataframe tbody tr th {\n",
       "        vertical-align: top;\n",
       "    }\n",
       "\n",
       "    .dataframe thead th {\n",
       "        text-align: right;\n",
       "    }\n",
       "</style>\n",
       "<table border=\"1\" class=\"dataframe\">\n",
       "  <thead>\n",
       "    <tr style=\"text-align: right;\">\n",
       "      <th></th>\n",
       "      <th>Nextdoor ID</th>\n",
       "      <th>Interest in Gardening</th>\n",
       "      <th>Percentage of Homeowners</th>\n",
       "      <th>Number of Residents</th>\n",
       "      <th>Average Age</th>\n",
       "      <th>Interest in Cycling</th>\n",
       "    </tr>\n",
       "  </thead>\n",
       "  <tbody>\n",
       "    <tr>\n",
       "      <th>count</th>\n",
       "      <td>360.000000</td>\n",
       "      <td>360.000000</td>\n",
       "      <td>360.000000</td>\n",
       "      <td>360.000000</td>\n",
       "      <td>360.000000</td>\n",
       "      <td>360.000000</td>\n",
       "    </tr>\n",
       "    <tr>\n",
       "      <th>mean</th>\n",
       "      <td>187143.505556</td>\n",
       "      <td>5.491667</td>\n",
       "      <td>62.030556</td>\n",
       "      <td>2168.158333</td>\n",
       "      <td>46.477778</td>\n",
       "      <td>4.238889</td>\n",
       "    </tr>\n",
       "    <tr>\n",
       "      <th>std</th>\n",
       "      <td>91701.439744</td>\n",
       "      <td>3.990230</td>\n",
       "      <td>28.581149</td>\n",
       "      <td>2329.501702</td>\n",
       "      <td>15.844458</td>\n",
       "      <td>2.147393</td>\n",
       "    </tr>\n",
       "    <tr>\n",
       "      <th>min</th>\n",
       "      <td>1126.000000</td>\n",
       "      <td>0.000000</td>\n",
       "      <td>0.000000</td>\n",
       "      <td>0.000000</td>\n",
       "      <td>0.000000</td>\n",
       "      <td>0.000000</td>\n",
       "    </tr>\n",
       "    <tr>\n",
       "      <th>25%</th>\n",
       "      <td>164664.500000</td>\n",
       "      <td>2.000000</td>\n",
       "      <td>44.750000</td>\n",
       "      <td>770.750000</td>\n",
       "      <td>46.000000</td>\n",
       "      <td>3.000000</td>\n",
       "    </tr>\n",
       "    <tr>\n",
       "      <th>50%</th>\n",
       "      <td>179742.500000</td>\n",
       "      <td>5.000000</td>\n",
       "      <td>69.000000</td>\n",
       "      <td>1493.500000</td>\n",
       "      <td>51.000000</td>\n",
       "      <td>4.000000</td>\n",
       "    </tr>\n",
       "    <tr>\n",
       "      <th>75%</th>\n",
       "      <td>231879.250000</td>\n",
       "      <td>10.000000</td>\n",
       "      <td>86.250000</td>\n",
       "      <td>2915.250000</td>\n",
       "      <td>55.000000</td>\n",
       "      <td>6.000000</td>\n",
       "    </tr>\n",
       "    <tr>\n",
       "      <th>max</th>\n",
       "      <td>460423.000000</td>\n",
       "      <td>10.000000</td>\n",
       "      <td>98.000000</td>\n",
       "      <td>20534.000000</td>\n",
       "      <td>64.000000</td>\n",
       "      <td>7.000000</td>\n",
       "    </tr>\n",
       "  </tbody>\n",
       "</table>\n",
       "</div>"
      ],
      "text/plain": [
       "         Nextdoor ID  Interest in Gardening  Percentage of Homeowners  \\\n",
       "count     360.000000             360.000000                360.000000   \n",
       "mean   187143.505556               5.491667                 62.030556   \n",
       "std     91701.439744               3.990230                 28.581149   \n",
       "min      1126.000000               0.000000                  0.000000   \n",
       "25%    164664.500000               2.000000                 44.750000   \n",
       "50%    179742.500000               5.000000                 69.000000   \n",
       "75%    231879.250000              10.000000                 86.250000   \n",
       "max    460423.000000              10.000000                 98.000000   \n",
       "\n",
       "       Number of Residents  Average Age  Interest in Cycling  \n",
       "count           360.000000   360.000000           360.000000  \n",
       "mean           2168.158333    46.477778             4.238889  \n",
       "std            2329.501702    15.844458             2.147393  \n",
       "min               0.000000     0.000000             0.000000  \n",
       "25%             770.750000    46.000000             3.000000  \n",
       "50%            1493.500000    51.000000             4.000000  \n",
       "75%            2915.250000    55.000000             6.000000  \n",
       "max           20534.000000    64.000000             7.000000  "
      ]
     },
     "execution_count": 525,
     "metadata": {},
     "output_type": "execute_result"
    }
   ],
   "source": [
    "df_high.describe()"
   ]
  },
  {
   "cell_type": "code",
   "execution_count": 526,
   "metadata": {},
   "outputs": [
    {
     "data": {
      "text/plain": [
       "<matplotlib.axes._subplots.AxesSubplot at 0x1a1e2b49e8>"
      ]
     },
     "execution_count": 526,
     "metadata": {},
     "output_type": "execute_result"
    },
    {
     "data": {
      "image/png": "[encoded data removed]",
      "text/plain": [
       "<Figure size 432x288 with 1 Axes>"
      ]
     },
     "metadata": {
      "needs_background": "light"
     },
     "output_type": "display_data"
    }
   ],
   "source": [
    "# Plot a historgram and kernel density estimate for Average Age for neighborhoods with a high interest in cycling\n",
    "sns.distplot(df_high[\"Average Age\"], color=\"m\")"
   ]
  },
  {
   "cell_type": "code",
   "execution_count": null,
   "metadata": {},
   "outputs": [],
   "source": []
  }
 ],
 "metadata": {
  "kernelspec": {
   "display_name": "Python 3",
   "language": "python",
   "name": "python3"
  },
  "language_info": {
   "codemirror_mode": {
    "name": "ipython",
    "version": 3
   },
   "file_extension": ".py",
   "mimetype": "text/x-python",
   "name": "python",
   "nbconvert_exporter": "python",
   "pygments_lexer": "ipython3",
   "version": "3.6.7"
  }
 },
 "nbformat": 4,
 "nbformat_minor": 2
}
