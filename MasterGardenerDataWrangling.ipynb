{
 "cells": [
  {
   "cell_type": "markdown",
   "metadata": {},
   "source": [
    "# Data Wrangling for Santa Clara Master Gardener Club by Michelle Petersen"
   ]
  },
  {
   "cell_type": "code",
   "execution_count": 82,
   "metadata": {},
   "outputs": [],
   "source": [
    "# Imports\n",
    "%matplotlib inline\n",
    "import pandas as pd\n",
    "import numpy as np\n",
    "import json\n",
    "import difflib\n",
    "import geopandas as gpd\n",
    "import matplotlib.pyplot as plt\n",
    "from timeit import default_timer as timer"
   ]
  },
  {
   "cell_type": "markdown",
   "metadata": {},
   "source": [
    "## Gather"
   ]
  },
  {
   "cell_type": "code",
   "execution_count": 6,
   "metadata": {},
   "outputs": [
    {
     "name": "stdout",
     "output_type": "stream",
     "text": [
      "     State          County            City                         Name  \\\n",
      "0       CA       Riverside         Menifee                     Sun City   \n",
      "1       CA     Santa Clara        San Jose                       Alviso   \n",
      "2       CA           Marin      San Rafael                Santa Venetia   \n",
      "3       CA           Marin      San Rafael                    Marinwood   \n",
      "4       CA     Los Angeles   Santa Clarita                      Newhall   \n",
      "5       CA     Los Angeles     Los Angeles                      Tujunga   \n",
      "6       CA         Ventura          Oxnard                     Cabrillo   \n",
      "7       CA     Los Angeles     Los Angeles                 Shadow Hills   \n",
      "8       CA     Los Angeles     Los Angeles                       Sylmar   \n",
      "9       CA   San Francisco   San Francisco                     Presidio   \n",
      "10      CA     Los Angeles   Santa Clarita               Canyon Country   \n",
      "11      CA         Alameda         Alameda                     East End   \n",
      "12      CA       San Mateo         Belmont                     McDougal   \n",
      "13      CA       Riverside         Menifee                     Romoland   \n",
      "14      CA     Los Angeles     Los Angeles                   Sun Valley   \n",
      "15      CA  San Bernardino  San Bernardino              Arrowhead Farms   \n",
      "16      CA     Los Angeles     Los Angeles              North Hollywood   \n",
      "17      CA           Marin     Mill Valley                      Almonte   \n",
      "18      CA           Marin     Mill Valley                         Alto   \n",
      "19      CA     Los Angeles     Los Angeles                      Bel Air   \n",
      "20      CA     Los Angeles      Long Beach                Belmont Shore   \n",
      "21      CA     Los Angeles     Los Angeles                 Beverly Glen   \n",
      "22      CA     Santa Clara        San Jose                Cambrian Park   \n",
      "23      CA         Alameda         Hayward                   Cherryland   \n",
      "24      CA         Alameda         Oakland                    Chinatown   \n",
      "25      CA     San Joaquin        Stockton                 Country Club   \n",
      "26      CA       San Diego       San Diego              Del Mar Heights   \n",
      "27      CA     Los Angeles     Los Angeles                   Eagle Rock   \n",
      "28      CA     San Joaquin        Stockton                    Fair Oaks   \n",
      "29      CA   San Francisco   San Francisco                Forest Knolls   \n",
      "...    ...             ...             ...                          ...   \n",
      "2021    CA            Napa            Napa                    Riverpark   \n",
      "2022    CA            Napa            Napa                    Shurtleff   \n",
      "2023    CA            Napa            Napa              Von Uhlit Ranch   \n",
      "2024    CA            Napa            Napa           Springwood Estates   \n",
      "2025    CA       San Mateo    Redwood City               Woodside Plaza   \n",
      "2026    CA       San Mateo    Redwood City                      Sequoia   \n",
      "2027    CA       San Mateo    Redwood City                 Greco Island   \n",
      "2028    CA       San Mateo    Redwood City                  Bair Island   \n",
      "2029    CA    Contra Costa        Richmond              Panhandle Annex   \n",
      "2030    CA    Contra Costa        Richmond               Richmond Annex   \n",
      "2031    CA    Contra Costa        Richmond         Carriage Hills North   \n",
      "2032    CA    Contra Costa        Richmond               North and East   \n",
      "2033    CA      Sacramento          Folsom                 Empire Ranch   \n",
      "2034    CA      Sacramento          Folsom               Natoma Station   \n",
      "2035    CA         Alameda         Alameda              Harbor Bay Isle   \n",
      "2036    CA         Alameda         Alameda                  Ballena Bay   \n",
      "2037    CA         Alameda         Alameda                 Bronze Coast   \n",
      "2038    CA           Marin      San Rafael   Mont Marin/San Rafael Park   \n",
      "2039    CA           Marin      San Rafael                  Peacock Gap   \n",
      "2040    CA           Marin      San Rafael       Montecito/Happy Valley   \n",
      "2041    CA           Marin      San Rafael                   Bret Harte   \n",
      "2042    CA           Marin      San Rafael             Canal Waterfront   \n",
      "2043    CA         Ventura         Ventura                       Thille   \n",
      "2044    CA         Ventura         Ventura                     Arundell   \n",
      "2045    CA         Ventura         Ventura                 Taylor Ranch   \n",
      "2046    CA         Ventura         Ventura                 North Avenue   \n",
      "2047    CA       San Diego        Carlsbad                La Costa Oaks   \n",
      "2048    CA       San Diego        Carlsbad  Rancho Carlsbad/Sunny Creek   \n",
      "2049    CA     Los Angeles          Malibu               Trancas Canyon   \n",
      "2050    CA     Los Angeles       Hawthorne               Burleigh Tract   \n",
      "\n",
      "     RegionID                                           geometry  \n",
      "0        7314  POLYGON ((-117.1935499999999 33.74306900000005...  \n",
      "1        8075  POLYGON ((-121.9423569999999 37.46496300000007...  \n",
      "2       20357  POLYGON ((-122.50308997 38.01594776500008, -12...  \n",
      "3       25757  POLYGON ((-122.56417078 38.02552641400007, -12...  \n",
      "4       26134  POLYGON ((-118.5364387599999 34.42379381100029...  \n",
      "5       27484  POLYGON ((-118.301990911 34.27442727300007, -1...  \n",
      "6       30685  POLYGON ((-119.194707444 34.20835268000008, -1...  \n",
      "7       33952  POLYGON ((-118.3255483124992 34.24788213427415...  \n",
      "8       34213  POLYGON ((-118.4372321519999 34.32990325900005...  \n",
      "9       35760  POLYGON ((-122.4743132059998 37.81001054900017...  \n",
      "10      37739  (POLYGON ((-118.557267818 34.42399760500007, -...  \n",
      "11      38307  POLYGON ((-122.2409623089999 37.76340228700008...  \n",
      "12      39702  POLYGON ((-122.294305648 37.51211001400003, -1...  \n",
      "13      40629  POLYGON ((-117.167138 33.75773400000003, -117....  \n",
      "14      41131  POLYGON ((-118.3659277679999 34.22936462700005...  \n",
      "15      43946  POLYGON ((-117.3030349999999 34.17533300000008...  \n",
      "16      46795  POLYGON ((-118.4042906399999 34.20288002800004...  \n",
      "17     113411  POLYGON ((-122.516433 37.880939, -122.516449 3...  \n",
      "18     113438  POLYGON ((-122.514450441 37.90791353600008, -1...  \n",
      "19     113688  POLYGON ((-118.4616545589999 34.13080135700005...  \n",
      "20     113713  POLYGON ((-118.1328637469999 33.76448143100004...  \n",
      "21     113749  POLYGON ((-118.4531605749999 34.13205667600005...  \n",
      "22     114074  POLYGON ((-121.878978755 37.27530488000008, -1...  \n",
      "23     114283  POLYGON ((-122.091469271 37.68257863600007, -1...  \n",
      "24     114292  POLYGON ((-122.2700929749999 37.80135293100005...  \n",
      "25     114490  (POLYGON ((-121.3359659999999 37.9666670000000...  \n",
      "26     114649  POLYGON ((-117.2506339559999 32.97254513900009...  \n",
      "27     114808  POLYGON ((-118.198192295 34.15079031400006, -1...  \n",
      "28     115008  POLYGON ((-121.2743348409999 37.94091935400007...  \n",
      "29     115133  POLYGON ((-122.4522605309999 37.75827979100008...  \n",
      "...       ...                                                ...  \n",
      "2021   763785  POLYGON ((-122.2848132939999 38.28162002300007...  \n",
      "2022   763787  POLYGON ((-122.264077942 38.28951369200007, -1...  \n",
      "2023   763794  POLYGON ((-122.285209125 38.31800811400007, -1...  \n",
      "2024   763796  POLYGON ((-122.309433561 38.34256500500004, -1...  \n",
      "2025   763887  POLYGON ((-122.246777 37.455338, -122.24689155...  \n",
      "2026   763889  POLYGON ((-122.2364081379999 37.47751288800004...  \n",
      "2027   763894  POLYGON ((-122.177675 37.498437, -122.17777139...  \n",
      "2028   763896  POLYGON ((-122.196393713 37.52967425500003, -1...  \n",
      "2029   763912  POLYGON ((-122.317281375 37.91095219800007, -1...  \n",
      "2030   763914  POLYGON ((-122.314277515 37.91885680600006, -1...  \n",
      "2031   763919  POLYGON ((-122.247079749 37.96386871700003, -1...  \n",
      "2032   763921  POLYGON ((-122.332723 37.951366, -122.32606044...  \n",
      "2033   763978  POLYGON ((-121.105591 38.689261, -121.105248 3...  \n",
      "2034   763980  POLYGON ((-121.1826302759999 38.65051391300005...  \n",
      "2035   764094  POLYGON ((-122.250415 37.748044, -122.249875 3...  \n",
      "2036   764096  POLYGON ((-122.285644 37.769494, -122.28539627...  \n",
      "2037   764098  POLYGON ((-122.2428412679999 37.76421413200006...  \n",
      "2038   764139  POLYGON ((-122.544256022 38.02454183400005, -1...  \n",
      "2039   764146  POLYGON ((-122.455828792 37.99721397900004, -1...  \n",
      "2040   764148  POLYGON ((-122.506555033 37.96832199600004, -1...  \n",
      "2041   764153  POLYGON ((-122.524203 37.955808, -122.52367953...  \n",
      "2042   764155  POLYGON ((-122.5060762849999 37.96694190900007...  \n",
      "2043   764221  POLYGON ((-119.210994795 34.25259807300006, -1...  \n",
      "2044   764223  POLYGON ((-119.210994795 34.25259807300006, -1...  \n",
      "2045   764228  POLYGON ((-119.3068706559999 34.29015552500005...  \n",
      "2046   764230  POLYGON ((-119.2855768969999 34.31911978900007...  \n",
      "2047   764287  POLYGON ((-117.210388 33.091854, -117.210319 3...  \n",
      "2048   764289  POLYGON ((-117.271297842 33.16848313300005, -1...  \n",
      "2049   764298  POLYGON ((-118.839893896 34.03436604200004, -1...  \n",
      "2050   764303  POLYGON ((-118.3437891459999 33.90245215300007...  \n",
      "\n",
      "[2051 rows x 6 columns]\n"
     ]
    }
   ],
   "source": [
    "df = gpd.read_file('ZillowNeighborhoods-CA/ZillowNeighborhoods-CA.shp')\n",
    "print(myShapefile)"
   ]
  },
  {
   "cell_type": "code",
   "execution_count": 24,
   "metadata": {},
   "outputs": [],
   "source": [
    "df.to_csv('California neighborhoods.csv')"
   ]
  },
  {
   "cell_type": "code",
   "execution_count": null,
   "metadata": {},
   "outputs": [],
   "source": [
    "cities = ['San Jose', 'Santa Clara', 'Sunnyvale', 'Palo Alto', 'Mountain View', 'Cupertino',\n",
    "         'Milpitas', 'Los Gatos', 'Gilroy', 'Morgan Hill', 'Campbell', 'Los Altos',\n",
    "         'Saratoga', 'Stanford', 'Los Altos Hills', 'Cambrian Park', \n",
    "          'Monte Sereno', 'San Martin', 'East Foothills', 'Alum Rock',\n",
    "          'Fruitdale', 'Lexington Hills', 'Loyola']"
   ]
  },
  {
   "cell_type": "code",
   "execution_count": 223,
   "metadata": {},
   "outputs": [
    {
     "name": "stdout",
     "output_type": "stream",
     "text": [
      "     State       County           City                      Name RegionID  \\\n",
      "1       CA  Santa Clara       San Jose                    Alviso     8075   \n",
      "22      CA  Santa Clara       San Jose             Cambrian Park   114074   \n",
      "42      CA  Santa Clara      Cupertino          Rancho Rinconada   117559   \n",
      "43      CA  Santa Clara       Campbell                 San Tomas   117891   \n",
      "68      CA  Santa Clara       San Jose                 Berryessa   113736   \n",
      "74      CA  Santa Clara       San Jose                 Evergreen   115003   \n",
      "94      CA  Santa Clara  Mountain View            Blossom Valley     3707   \n",
      "129     CA  Santa Clara      Los Altos                    Loyola   116334   \n",
      "207     CA  Santa Clara       Campbell                      Dell   178814   \n",
      "213     CA  Santa Clara       San Jose               Willow Glen   118987   \n",
      "241     CA  Santa Clara      Cupertino                Oak Valley   189743   \n",
      "242     CA  Santa Clara      Sunnyvale                 Ponderosa   191799   \n",
      "244     CA  Santa Clara       Saratoga                     Quito   229203   \n",
      "330     CA  Santa Clara  Mountain View                    Slater   263648   \n",
      "356     CA  Santa Clara      Sunnyvale                Washington   254627   \n",
      "379     CA  Santa Clara      Cupertino                Fair Grove   263576   \n",
      "387     CA  Santa Clara       Saratoga              Sunland Park   264339   \n",
      "636     CA  Santa Clara       San Jose               Fairgrounds   273674   \n",
      "664     CA  Santa Clara      Sunnyvale                  Lakewood   274256   \n",
      "688     CA  Santa Clara       San Jose            North San Jose   274741   \n",
      "742     CA  Santa Clara       San Jose            Almaden Valley   272756   \n",
      "746     CA  Santa Clara       San Jose               Rose Garden   275243   \n",
      "810     CA  Santa Clara       San Jose    Edenvale - Seven Trees   273594   \n",
      "879     CA  Santa Clara       San Jose            Blossom Valley   276215   \n",
      "881     CA  Santa Clara       San Jose  Alum Rock-East Foothills   272760   \n",
      "937     CA  Santa Clara       San Jose                  Downtown   273480   \n",
      "942     CA  Santa Clara       San Jose              North Valley   274756   \n",
      "947     CA  Santa Clara       San Jose             East San Jose   273565   \n",
      "998     CA  Santa Clara       San Jose              Santa Teresa   275306   \n",
      "1019    CA  Santa Clara      Palo Alto               Barron Park   343613   \n",
      "...    ...          ...            ...                       ...      ...   \n",
      "1679    CA  Santa Clara  Mountain View                Monta Loma   762466   \n",
      "1683    CA  Santa Clara  Mountain View              Gemello Park   762650   \n",
      "1684    CA  Santa Clara  Mountain View         Old Mountain View   762652   \n",
      "1685    CA  Santa Clara  Mountain View                 Rex Manor   762657   \n",
      "1741    CA  Santa Clara      Sunnyvale                   De Anza   623422   \n",
      "1742    CA  Santa Clara      Sunnyvale               East Murphy   623423   \n",
      "1743    CA  Santa Clara      Sunnyvale               West Murphy   623424   \n",
      "1756    CA  Santa Clara      Cupertino       Inspiration Heights   760932   \n",
      "1757    CA  Santa Clara      Cupertino              South Blaney   760933   \n",
      "1758    CA  Santa Clara      Cupertino              North Blaney   760934   \n",
      "1759    CA  Santa Clara      Cupertino               Garden Gate   760935   \n",
      "1762    CA  Santa Clara       Campbell                 Pruneyard   760982   \n",
      "1803    CA  Santa Clara      Cupertino         Monta Vista South   762203   \n",
      "1804    CA  Santa Clara      Cupertino           Creston-Pharlap   762204   \n",
      "1828    CA  Santa Clara  Mountain View               Sylvan Park   762653   \n",
      "1829    CA  Santa Clara  Mountain View               Wagon Wheel   762654   \n",
      "1830    CA  Santa Clara  Mountain View             North Wishman   762655   \n",
      "1831    CA  Santa Clara  Mountain View         Moffett Boulevard   762656   \n",
      "1838    CA  Santa Clara      Sunnyvale                     Serra   623419   \n",
      "1919    CA  Santa Clara      Cupertino         Monta Vista North   760931   \n",
      "1920    CA  Santa Clara      Cupertino                  Jollyman   760936   \n",
      "1922    CA  Santa Clara       Campbell                 Creekside   760961   \n",
      "1923    CA  Santa Clara       Campbell             West Campbell   760979   \n",
      "1924    CA  Santa Clara       Campbell             East Campbell   760981   \n",
      "1935    CA  Santa Clara       Saratoga          Congress Springs   761129   \n",
      "1961    CA  Santa Clara       Milpitas               Sunny Hills   761783   \n",
      "1989    CA  Santa Clara  Mountain View              Waverly Park   762644   \n",
      "1990    CA  Santa Clara  Mountain View       Saint Francis Acres   762649   \n",
      "1991    CA  Santa Clara  Mountain View            Shoreline West   762651   \n",
      "1992    CA  Santa Clara  Mountain View       Greater San Antonio   762658   \n",
      "\n",
      "                                               geometry  \n",
      "1     POLYGON ((-121.9423569999999 37.46496300000007...  \n",
      "22    POLYGON ((-121.878978755 37.27530488000008, -1...  \n",
      "42    POLYGON ((-122.00649 37.32295, -122.004603875 ...  \n",
      "43    POLYGON ((-121.9526834979999 37.27366922400006...  \n",
      "68    POLYGON ((-121.8202519999999 37.43812700000007...  \n",
      "74    (POLYGON ((-121.7826669999999 37.2649340000000...  \n",
      "94    POLYGON ((-122.088973 37.366841, -122.089673 3...  \n",
      "129   POLYGON ((-122.104645 37.345972, -122.103937 3...  \n",
      "207   POLYGON ((-121.9505843049999 37.27316315000007...  \n",
      "213   POLYGON ((-121.8874382369999 37.31590445900008...  \n",
      "241   POLYGON ((-122.0880922539999 37.33947771600003...  \n",
      "242   POLYGON ((-121.99647 37.370041, -121.99647 37....  \n",
      "244   POLYGON ((-121.994369 37.273143, -121.994069 3...  \n",
      "330   POLYGON ((-122.061683891 37.39218044400008, -1...  \n",
      "356   POLYGON ((-122.0524719999999 37.38554000000005...  \n",
      "379   POLYGON ((-122.0077537939999 37.31075411900008...  \n",
      "387   POLYGON ((-121.989769 37.278543, -121.98964282...  \n",
      "636   POLYGON ((-121.8666420729999 37.32674963100004...  \n",
      "664   POLYGON ((-122.051244 37.459007, -122.050313 3...  \n",
      "688   POLYGON ((-121.9262689999999 37.43683900000008...  \n",
      "742   (POLYGON ((-121.823902 37.20757, -121.82372407...  \n",
      "746   POLYGON ((-121.9246463649999 37.34204677500009...  \n",
      "810   POLYGON ((-121.8167705539999 37.30293083300006...  \n",
      "879   POLYGON ((-121.8325538629999 37.27554512100005...  \n",
      "881   (POLYGON ((-121.8348639999999 37.3753390000000...  \n",
      "937   POLYGON ((-121.8548126224163 37.34227180535527...  \n",
      "942   POLYGON ((-121.8774566643825 37.40456199673176...  \n",
      "947   POLYGON ((-121.8154314229999 37.37412807800007...  \n",
      "998   POLYGON ((-121.7412054959999 37.26219843300004...  \n",
      "1019  POLYGON ((-122.1303650299999 37.40788518000005...  \n",
      "...                                                 ...  \n",
      "1679  POLYGON ((-122.101901332 37.40501270600004, -1...  \n",
      "1683  POLYGON ((-122.101271979 37.39537662200007, -1...  \n",
      "1684  POLYGON ((-122.080989647 37.39695364300007, -1...  \n",
      "1685  POLYGON ((-122.078039116 37.40631920200008, -1...  \n",
      "1741  POLYGON ((-122.0506952379999 37.35213334500008...  \n",
      "1742  POLYGON ((-121.99807 37.373841, -121.9976308 3...  \n",
      "1743  POLYGON ((-122.013030374 37.39507013700006, -1...  \n",
      "1756  POLYGON ((-122.068630322 37.32196199300006, -1...  \n",
      "1757  POLYGON ((-122.01427885 37.32299760400008, -12...  \n",
      "1758  POLYGON ((-122.017348354 37.32302139900003, -1...  \n",
      "1759  POLYGON ((-122.034920356 37.32284170000003, -1...  \n",
      "1762  POLYGON ((-121.931805627 37.28992129800002, -1...  \n",
      "1803  POLYGON ((-122.035256712 37.303939, -122.03545...  \n",
      "1804  POLYGON ((-122.0566443819999 37.33120731100007...  \n",
      "1828  POLYGON ((-122.0643254729999 37.38428272800007...  \n",
      "1829  POLYGON ((-122.0621443159999 37.40588138100003...  \n",
      "1830  POLYGON ((-122.069511128 37.39887624800008, -1...  \n",
      "1831  POLYGON ((-122.068452773 37.39339847900004, -1...  \n",
      "1838  POLYGON ((-122.032634 37.339543, -122.032804 3...  \n",
      "1919  POLYGON ((-122.059484019 37.32245327400005, -1...  \n",
      "1920  POLYGON ((-122.034920356 37.32284170000003, -1...  \n",
      "1922  POLYGON ((-121.9316999759999 37.29578340800003...  \n",
      "1923  POLYGON ((-121.962967051 37.29554207700005, -1...  \n",
      "1924  POLYGON ((-121.922715421 37.29437318200007, -1...  \n",
      "1935  POLYGON ((-122.032048085 37.26697064700005, -1...  \n",
      "1961  POLYGON ((-121.912698212 37.46090922300004, -1...  \n",
      "1989  POLYGON ((-122.077826218 37.36802268100007, -1...  \n",
      "1990  POLYGON ((-122.096073 37.38863836600007, -122....  \n",
      "1991  POLYGON ((-122.088432602 37.39969478200004, -1...  \n",
      "1992  POLYGON ((-122.107741 37.408085, -122.10520304...  \n",
      "\n",
      "[105 rows x 6 columns]\n"
     ]
    }
   ],
   "source": [
    "sc_df = df[df['County'] == 'Santa Clara']\n",
    "print(sc_df)"
   ]
  },
  {
   "cell_type": "code",
   "execution_count": 224,
   "metadata": {},
   "outputs": [],
   "source": [
    "sc_df.to_csv('Santa Clara neighborhoods.csv')"
   ]
  },
  {
   "cell_type": "code",
   "execution_count": 225,
   "metadata": {},
   "outputs": [
    {
     "data": {
      "text/plain": [
       "<matplotlib.axes._subplots.AxesSubplot at 0x1207f8c50>"
      ]
     },
     "execution_count": 225,
     "metadata": {},
     "output_type": "execute_result"
    },
    {
     "data": {
      "image/png": "[encoded data removed]",
      "text/plain": [
       "<Figure size 432x288 with 1 Axes>"
      ]
     },
     "metadata": {
      "needs_background": "light"
     },
     "output_type": "display_data"
    }
   ],
   "source": [
    "sc_df.plot()"
   ]
  },
  {
   "cell_type": "markdown",
   "metadata": {},
   "source": [
    "## Assess"
   ]
  },
  {
   "cell_type": "code",
   "execution_count": 226,
   "metadata": {},
   "outputs": [
    {
     "name": "stdout",
     "output_type": "stream",
     "text": [
      "Santa Clara County Master Gardeners\n",
      "<Worksheet 'Contacts' id:0>\n",
      "<Worksheet 'Neighborhoods' id:1790253258>\n",
      "<Worksheet 'Contact-Neighborhood Mapping' id:1541812186>\n",
      "<Worksheet 'Contact-Neighborhood Mapping - old' id:1957701709>\n"
     ]
    }
   ],
   "source": [
    "#from googleapiclient.discovery import build\n",
    "#from httplib2 import Http\n",
    "import gspread\n",
    "from google.oauth2 import service_account\n",
    "from google.auth.transport.requests import AuthorizedSession\n",
    "\n",
    "# The scope to read the spreadsheet\n",
    "_GS_SCOPE = ['https://www.googleapis.com/auth/spreadsheets.readonly',\n",
    "            'https://www.googleapis.com/auth/drive']\n",
    "\n",
    "# The ID and range of the MasterGardener spreadsheet.\n",
    "_GS_ID = '1pPOuRZ9YsKwXGKgxzSm9tXCR_dgkCY4WNh3rg_cFX08'\n",
    "\n",
    "service_account_info = json.load(open('Master Gardener-7e906e507d9d.json'))\n",
    "credentials = service_account.Credentials.from_service_account_info(\n",
    "    service_account_info,\n",
    "    scopes=_GS_SCOPE)\n",
    "\n",
    "if credentials:\n",
    "    gc = gspread.Client(auth=credentials)\n",
    "    gc.session = AuthorizedSession(credentials)\n",
    "    book = gc.open_by_key(_GS_ID)\n",
    "    print(book.title)\n",
    "    worksheet_list = book.worksheets()\n",
    "    for worksheet in worksheet_list:\n",
    "        print(worksheet)"
   ]
  },
  {
   "cell_type": "code",
   "execution_count": 198,
   "metadata": {},
   "outputs": [],
   "source": [
    "df_contacts = pd.DataFrame(sheet.get_worksheet(0).get_all_values())\n",
    "df_neighborhoods = pd.DataFrame(sheet.get_worksheet(1).get_all_values())\n",
    "df_contact_neighborhood = pd.DataFrame(sheet.get_worksheet(2).get_all_values())"
   ]
  },
  {
   "cell_type": "code",
   "execution_count": 199,
   "metadata": {},
   "outputs": [
    {
     "data": {
      "text/html": [
       "<div>\n",
       "<style scoped>\n",
       "    .dataframe tbody tr th:only-of-type {\n",
       "        vertical-align: middle;\n",
       "    }\n",
       "\n",
       "    .dataframe tbody tr th {\n",
       "        vertical-align: top;\n",
       "    }\n",
       "\n",
       "    .dataframe thead th {\n",
       "        text-align: right;\n",
       "    }\n",
       "</style>\n",
       "<table border=\"1\" class=\"dataframe\">\n",
       "  <thead>\n",
       "    <tr style=\"text-align: right;\">\n",
       "      <th></th>\n",
       "      <th>0</th>\n",
       "      <th>1</th>\n",
       "      <th>2</th>\n",
       "      <th>3</th>\n",
       "    </tr>\n",
       "  </thead>\n",
       "  <tbody>\n",
       "    <tr>\n",
       "      <th>0</th>\n",
       "      <td>Name</td>\n",
       "      <td>e-mail</td>\n",
       "      <td>Assigned Neighborhood</td>\n",
       "      <td>Resides in Neighborhood</td>\n",
       "    </tr>\n",
       "    <tr>\n",
       "      <th>1</th>\n",
       "      <td>Anita Rosen</td>\n",
       "      <td>anita@readygo.com</td>\n",
       "      <td>Gemello</td>\n",
       "      <td>TRUE</td>\n",
       "    </tr>\n",
       "    <tr>\n",
       "      <th>2</th>\n",
       "      <td>Ann Ranish</td>\n",
       "      <td>annranish@gmail.com</td>\n",
       "      <td>Starbird</td>\n",
       "      <td>TRUE</td>\n",
       "    </tr>\n",
       "    <tr>\n",
       "      <th>3</th>\n",
       "      <td>Carol Peck</td>\n",
       "      <td>CAnative.carol@gmail.com</td>\n",
       "      <td>Northern Gilroy</td>\n",
       "      <td>TRUE</td>\n",
       "    </tr>\n",
       "    <tr>\n",
       "      <th>4</th>\n",
       "      <td>Don Krafft</td>\n",
       "      <td>dfk@donkrafft.com</td>\n",
       "      <td>Morse Park - Sunnyvale</td>\n",
       "      <td>TRUE</td>\n",
       "    </tr>\n",
       "  </tbody>\n",
       "</table>\n",
       "</div>"
      ],
      "text/plain": [
       "             0                         1                       2  \\\n",
       "0         Name                    e-mail   Assigned Neighborhood   \n",
       "1  Anita Rosen         anita@readygo.com                 Gemello   \n",
       "2   Ann Ranish       annranish@gmail.com                Starbird   \n",
       "3   Carol Peck  CAnative.carol@gmail.com         Northern Gilroy   \n",
       "4   Don Krafft         dfk@donkrafft.com  Morse Park - Sunnyvale   \n",
       "\n",
       "                         3  \n",
       "0  Resides in Neighborhood  \n",
       "1                     TRUE  \n",
       "2                     TRUE  \n",
       "3                     TRUE  \n",
       "4                     TRUE  "
      ]
     },
     "execution_count": 199,
     "metadata": {},
     "output_type": "execute_result"
    }
   ],
   "source": [
    "df_contacts.head()"
   ]
  },
  {
   "cell_type": "code",
   "execution_count": 200,
   "metadata": {},
   "outputs": [],
   "source": [
    "df_contacts.reset_index()\n",
    "df_contacts.columns = ['Name', 'email', 'Assigned Neighborhood', 'Resides in Neighborhood']"
   ]
  },
  {
   "cell_type": "code",
   "execution_count": 201,
   "metadata": {},
   "outputs": [],
   "source": [
    "df_contacts = df_contacts[df_contacts['Name'] != 'Name']"
   ]
  },
  {
   "cell_type": "code",
   "execution_count": 202,
   "metadata": {},
   "outputs": [],
   "source": [
    "df_contacts['Assigned Neighborhood'] = df_contacts['Assigned Neighborhood'].str.title()"
   ]
  },
  {
   "cell_type": "code",
   "execution_count": 203,
   "metadata": {},
   "outputs": [
    {
     "data": {
      "text/html": [
       "<div>\n",
       "<style scoped>\n",
       "    .dataframe tbody tr th:only-of-type {\n",
       "        vertical-align: middle;\n",
       "    }\n",
       "\n",
       "    .dataframe tbody tr th {\n",
       "        vertical-align: top;\n",
       "    }\n",
       "\n",
       "    .dataframe thead th {\n",
       "        text-align: right;\n",
       "    }\n",
       "</style>\n",
       "<table border=\"1\" class=\"dataframe\">\n",
       "  <thead>\n",
       "    <tr style=\"text-align: right;\">\n",
       "      <th></th>\n",
       "      <th>Name</th>\n",
       "      <th>email</th>\n",
       "      <th>Assigned Neighborhood</th>\n",
       "      <th>Resides in Neighborhood</th>\n",
       "    </tr>\n",
       "  </thead>\n",
       "  <tbody>\n",
       "    <tr>\n",
       "      <th>1</th>\n",
       "      <td>Anita Rosen</td>\n",
       "      <td>anita@readygo.com</td>\n",
       "      <td>Gemello</td>\n",
       "      <td>TRUE</td>\n",
       "    </tr>\n",
       "    <tr>\n",
       "      <th>2</th>\n",
       "      <td>Ann Ranish</td>\n",
       "      <td>annranish@gmail.com</td>\n",
       "      <td>Starbird</td>\n",
       "      <td>TRUE</td>\n",
       "    </tr>\n",
       "    <tr>\n",
       "      <th>3</th>\n",
       "      <td>Carol Peck</td>\n",
       "      <td>CAnative.carol@gmail.com</td>\n",
       "      <td>Northern Gilroy</td>\n",
       "      <td>TRUE</td>\n",
       "    </tr>\n",
       "    <tr>\n",
       "      <th>4</th>\n",
       "      <td>Don Krafft</td>\n",
       "      <td>dfk@donkrafft.com</td>\n",
       "      <td>Morse Park - Sunnyvale</td>\n",
       "      <td>TRUE</td>\n",
       "    </tr>\n",
       "    <tr>\n",
       "      <th>5</th>\n",
       "      <td>Jeff Jenks</td>\n",
       "      <td>jenks.jeff@gmail.com</td>\n",
       "      <td>Monta Vista</td>\n",
       "      <td>TRUE</td>\n",
       "    </tr>\n",
       "  </tbody>\n",
       "</table>\n",
       "</div>"
      ],
      "text/plain": [
       "          Name                     email   Assigned Neighborhood  \\\n",
       "1  Anita Rosen         anita@readygo.com                 Gemello   \n",
       "2   Ann Ranish       annranish@gmail.com                Starbird   \n",
       "3   Carol Peck  CAnative.carol@gmail.com         Northern Gilroy   \n",
       "4   Don Krafft         dfk@donkrafft.com  Morse Park - Sunnyvale   \n",
       "5   Jeff Jenks      jenks.jeff@gmail.com             Monta Vista   \n",
       "\n",
       "  Resides in Neighborhood  \n",
       "1                    TRUE  \n",
       "2                    TRUE  \n",
       "3                    TRUE  \n",
       "4                    TRUE  \n",
       "5                    TRUE  "
      ]
     },
     "execution_count": 203,
     "metadata": {},
     "output_type": "execute_result"
    }
   ],
   "source": [
    "df_contacts.head()"
   ]
  },
  {
   "cell_type": "code",
   "execution_count": 204,
   "metadata": {},
   "outputs": [
    {
     "data": {
      "text/html": [
       "<div>\n",
       "<style scoped>\n",
       "    .dataframe tbody tr th:only-of-type {\n",
       "        vertical-align: middle;\n",
       "    }\n",
       "\n",
       "    .dataframe tbody tr th {\n",
       "        vertical-align: top;\n",
       "    }\n",
       "\n",
       "    .dataframe thead th {\n",
       "        text-align: right;\n",
       "    }\n",
       "</style>\n",
       "<table border=\"1\" class=\"dataframe\">\n",
       "  <thead>\n",
       "    <tr style=\"text-align: right;\">\n",
       "      <th></th>\n",
       "      <th>0</th>\n",
       "      <th>1</th>\n",
       "    </tr>\n",
       "  </thead>\n",
       "  <tbody>\n",
       "    <tr>\n",
       "      <th>0</th>\n",
       "      <td>Name</td>\n",
       "      <td>Neighborhood</td>\n",
       "    </tr>\n",
       "    <tr>\n",
       "      <th>1</th>\n",
       "      <td>Allie Judy</td>\n",
       "      <td>San Tomas</td>\n",
       "    </tr>\n",
       "    <tr>\n",
       "      <th>2</th>\n",
       "      <td>Allie Judy</td>\n",
       "      <td>newport Apartments</td>\n",
       "    </tr>\n",
       "    <tr>\n",
       "      <th>3</th>\n",
       "      <td>Allie Judy</td>\n",
       "      <td>hacienda</td>\n",
       "    </tr>\n",
       "    <tr>\n",
       "      <th>4</th>\n",
       "      <td>Allie Judy</td>\n",
       "      <td>pollard Road</td>\n",
       "    </tr>\n",
       "  </tbody>\n",
       "</table>\n",
       "</div>"
      ],
      "text/plain": [
       "            0                   1\n",
       "0        Name        Neighborhood\n",
       "1  Allie Judy           San Tomas\n",
       "2  Allie Judy  newport Apartments\n",
       "3  Allie Judy            hacienda\n",
       "4  Allie Judy        pollard Road"
      ]
     },
     "execution_count": 204,
     "metadata": {},
     "output_type": "execute_result"
    }
   ],
   "source": [
    "df_contact_neighborhood.head()"
   ]
  },
  {
   "cell_type": "code",
   "execution_count": 205,
   "metadata": {},
   "outputs": [],
   "source": [
    "df_contact_neighborhood.reset_index()\n",
    "df_contact_neighborhood.columns = ['Name', 'Neighborhood']"
   ]
  },
  {
   "cell_type": "code",
   "execution_count": 206,
   "metadata": {},
   "outputs": [],
   "source": [
    "df_contact_neighborhood = df_contact_neighborhood[df_contact_neighborhood['Name'] != 'Name']"
   ]
  },
  {
   "cell_type": "code",
   "execution_count": 207,
   "metadata": {},
   "outputs": [
    {
     "data": {
      "text/html": [
       "<div>\n",
       "<style scoped>\n",
       "    .dataframe tbody tr th:only-of-type {\n",
       "        vertical-align: middle;\n",
       "    }\n",
       "\n",
       "    .dataframe tbody tr th {\n",
       "        vertical-align: top;\n",
       "    }\n",
       "\n",
       "    .dataframe thead th {\n",
       "        text-align: right;\n",
       "    }\n",
       "</style>\n",
       "<table border=\"1\" class=\"dataframe\">\n",
       "  <thead>\n",
       "    <tr style=\"text-align: right;\">\n",
       "      <th></th>\n",
       "      <th>Name</th>\n",
       "      <th>Neighborhood</th>\n",
       "    </tr>\n",
       "  </thead>\n",
       "  <tbody>\n",
       "    <tr>\n",
       "      <th>1</th>\n",
       "      <td>Allie Judy</td>\n",
       "      <td>San Tomas</td>\n",
       "    </tr>\n",
       "    <tr>\n",
       "      <th>2</th>\n",
       "      <td>Allie Judy</td>\n",
       "      <td>newport Apartments</td>\n",
       "    </tr>\n",
       "    <tr>\n",
       "      <th>3</th>\n",
       "      <td>Allie Judy</td>\n",
       "      <td>hacienda</td>\n",
       "    </tr>\n",
       "    <tr>\n",
       "      <th>4</th>\n",
       "      <td>Allie Judy</td>\n",
       "      <td>pollard Road</td>\n",
       "    </tr>\n",
       "    <tr>\n",
       "      <th>5</th>\n",
       "      <td>Allie Judy</td>\n",
       "      <td>los gatos woods</td>\n",
       "    </tr>\n",
       "  </tbody>\n",
       "</table>\n",
       "</div>"
      ],
      "text/plain": [
       "         Name        Neighborhood\n",
       "1  Allie Judy           San Tomas\n",
       "2  Allie Judy  newport Apartments\n",
       "3  Allie Judy            hacienda\n",
       "4  Allie Judy        pollard Road\n",
       "5  Allie Judy     los gatos woods"
      ]
     },
     "execution_count": 207,
     "metadata": {},
     "output_type": "execute_result"
    }
   ],
   "source": [
    "df_contact_neighborhood.head()"
   ]
  },
  {
   "cell_type": "code",
   "execution_count": 208,
   "metadata": {},
   "outputs": [],
   "source": [
    "df_contact_neighborhood['Neighborhood'] = df_contact_neighborhood['Neighborhood'].str.title()"
   ]
  },
  {
   "cell_type": "code",
   "execution_count": 209,
   "metadata": {},
   "outputs": [
    {
     "data": {
      "text/html": [
       "<div>\n",
       "<style scoped>\n",
       "    .dataframe tbody tr th:only-of-type {\n",
       "        vertical-align: middle;\n",
       "    }\n",
       "\n",
       "    .dataframe tbody tr th {\n",
       "        vertical-align: top;\n",
       "    }\n",
       "\n",
       "    .dataframe thead th {\n",
       "        text-align: right;\n",
       "    }\n",
       "</style>\n",
       "<table border=\"1\" class=\"dataframe\">\n",
       "  <thead>\n",
       "    <tr style=\"text-align: right;\">\n",
       "      <th></th>\n",
       "      <th>Name</th>\n",
       "      <th>Neighborhood</th>\n",
       "    </tr>\n",
       "  </thead>\n",
       "  <tbody>\n",
       "    <tr>\n",
       "      <th>1</th>\n",
       "      <td>Allie Judy</td>\n",
       "      <td>San Tomas</td>\n",
       "    </tr>\n",
       "    <tr>\n",
       "      <th>2</th>\n",
       "      <td>Allie Judy</td>\n",
       "      <td>Newport Apartments</td>\n",
       "    </tr>\n",
       "    <tr>\n",
       "      <th>3</th>\n",
       "      <td>Allie Judy</td>\n",
       "      <td>Hacienda</td>\n",
       "    </tr>\n",
       "    <tr>\n",
       "      <th>4</th>\n",
       "      <td>Allie Judy</td>\n",
       "      <td>Pollard Road</td>\n",
       "    </tr>\n",
       "    <tr>\n",
       "      <th>5</th>\n",
       "      <td>Allie Judy</td>\n",
       "      <td>Los Gatos Woods</td>\n",
       "    </tr>\n",
       "  </tbody>\n",
       "</table>\n",
       "</div>"
      ],
      "text/plain": [
       "         Name        Neighborhood\n",
       "1  Allie Judy           San Tomas\n",
       "2  Allie Judy  Newport Apartments\n",
       "3  Allie Judy            Hacienda\n",
       "4  Allie Judy        Pollard Road\n",
       "5  Allie Judy     Los Gatos Woods"
      ]
     },
     "execution_count": 209,
     "metadata": {},
     "output_type": "execute_result"
    }
   ],
   "source": [
    "df_contact_neighborhood.head()"
   ]
  },
  {
   "cell_type": "code",
   "execution_count": 210,
   "metadata": {},
   "outputs": [
    {
     "data": {
      "text/html": [
       "<div>\n",
       "<style scoped>\n",
       "    .dataframe tbody tr th:only-of-type {\n",
       "        vertical-align: middle;\n",
       "    }\n",
       "\n",
       "    .dataframe tbody tr th {\n",
       "        vertical-align: top;\n",
       "    }\n",
       "\n",
       "    .dataframe thead th {\n",
       "        text-align: right;\n",
       "    }\n",
       "</style>\n",
       "<table border=\"1\" class=\"dataframe\">\n",
       "  <thead>\n",
       "    <tr style=\"text-align: right;\">\n",
       "      <th></th>\n",
       "      <th>0</th>\n",
       "      <th>1</th>\n",
       "      <th>2</th>\n",
       "      <th>3</th>\n",
       "      <th>4</th>\n",
       "      <th>5</th>\n",
       "    </tr>\n",
       "  </thead>\n",
       "  <tbody>\n",
       "    <tr>\n",
       "      <th>0</th>\n",
       "      <td>State</td>\n",
       "      <td>County</td>\n",
       "      <td>City</td>\n",
       "      <td>Name</td>\n",
       "      <td>RegionID</td>\n",
       "      <td>geometry</td>\n",
       "    </tr>\n",
       "    <tr>\n",
       "      <th>1</th>\n",
       "      <td>CA</td>\n",
       "      <td>Santa Clara</td>\n",
       "      <td>San Jose</td>\n",
       "      <td>Alviso</td>\n",
       "      <td>8075</td>\n",
       "      <td>POLYGON ((-121.9423569999999 37.46496300000007...</td>\n",
       "    </tr>\n",
       "    <tr>\n",
       "      <th>2</th>\n",
       "      <td>CA</td>\n",
       "      <td>Santa Clara</td>\n",
       "      <td>San Jose</td>\n",
       "      <td>Cambrian Park</td>\n",
       "      <td>114074</td>\n",
       "      <td>POLYGON ((-121.878978755 37.27530488000008, -1...</td>\n",
       "    </tr>\n",
       "    <tr>\n",
       "      <th>3</th>\n",
       "      <td>CA</td>\n",
       "      <td>Santa Clara</td>\n",
       "      <td>Cupertino</td>\n",
       "      <td>Rancho Rinconada</td>\n",
       "      <td>117559</td>\n",
       "      <td>POLYGON ((-122.00649 37.32295, -122.004603875 ...</td>\n",
       "    </tr>\n",
       "    <tr>\n",
       "      <th>4</th>\n",
       "      <td>CA</td>\n",
       "      <td>Santa Clara</td>\n",
       "      <td>Campbell</td>\n",
       "      <td>San Tomas</td>\n",
       "      <td>117891</td>\n",
       "      <td>POLYGON ((-121.9526834979999 37.27366922400006...</td>\n",
       "    </tr>\n",
       "  </tbody>\n",
       "</table>\n",
       "</div>"
      ],
      "text/plain": [
       "       0            1          2                 3         4  \\\n",
       "0  State       County       City              Name  RegionID   \n",
       "1     CA  Santa Clara   San Jose            Alviso      8075   \n",
       "2     CA  Santa Clara   San Jose     Cambrian Park    114074   \n",
       "3     CA  Santa Clara  Cupertino  Rancho Rinconada    117559   \n",
       "4     CA  Santa Clara   Campbell         San Tomas    117891   \n",
       "\n",
       "                                                   5  \n",
       "0                                           geometry  \n",
       "1  POLYGON ((-121.9423569999999 37.46496300000007...  \n",
       "2  POLYGON ((-121.878978755 37.27530488000008, -1...  \n",
       "3  POLYGON ((-122.00649 37.32295, -122.004603875 ...  \n",
       "4  POLYGON ((-121.9526834979999 37.27366922400006...  "
      ]
     },
     "execution_count": 210,
     "metadata": {},
     "output_type": "execute_result"
    }
   ],
   "source": [
    "df_neighborhoods.head()"
   ]
  },
  {
   "cell_type": "code",
   "execution_count": 211,
   "metadata": {},
   "outputs": [],
   "source": [
    "df_neighborhoods.reset_index()\n",
    "df_neighborhoods.columns = ['State', 'County', 'City', 'Name', 'RegionID', 'geometry']"
   ]
  },
  {
   "cell_type": "code",
   "execution_count": 212,
   "metadata": {},
   "outputs": [],
   "source": [
    "df_neighborhoods = df_neighborhoods[df_neighborhoods['Name'] != 'Name']"
   ]
  },
  {
   "cell_type": "code",
   "execution_count": 213,
   "metadata": {},
   "outputs": [
    {
     "data": {
      "text/html": [
       "<div>\n",
       "<style scoped>\n",
       "    .dataframe tbody tr th:only-of-type {\n",
       "        vertical-align: middle;\n",
       "    }\n",
       "\n",
       "    .dataframe tbody tr th {\n",
       "        vertical-align: top;\n",
       "    }\n",
       "\n",
       "    .dataframe thead th {\n",
       "        text-align: right;\n",
       "    }\n",
       "</style>\n",
       "<table border=\"1\" class=\"dataframe\">\n",
       "  <thead>\n",
       "    <tr style=\"text-align: right;\">\n",
       "      <th></th>\n",
       "      <th>State</th>\n",
       "      <th>County</th>\n",
       "      <th>City</th>\n",
       "      <th>Name</th>\n",
       "      <th>RegionID</th>\n",
       "      <th>geometry</th>\n",
       "    </tr>\n",
       "  </thead>\n",
       "  <tbody>\n",
       "    <tr>\n",
       "      <th>1</th>\n",
       "      <td>CA</td>\n",
       "      <td>Santa Clara</td>\n",
       "      <td>San Jose</td>\n",
       "      <td>Alviso</td>\n",
       "      <td>8075</td>\n",
       "      <td>POLYGON ((-121.9423569999999 37.46496300000007...</td>\n",
       "    </tr>\n",
       "    <tr>\n",
       "      <th>2</th>\n",
       "      <td>CA</td>\n",
       "      <td>Santa Clara</td>\n",
       "      <td>San Jose</td>\n",
       "      <td>Cambrian Park</td>\n",
       "      <td>114074</td>\n",
       "      <td>POLYGON ((-121.878978755 37.27530488000008, -1...</td>\n",
       "    </tr>\n",
       "    <tr>\n",
       "      <th>3</th>\n",
       "      <td>CA</td>\n",
       "      <td>Santa Clara</td>\n",
       "      <td>Cupertino</td>\n",
       "      <td>Rancho Rinconada</td>\n",
       "      <td>117559</td>\n",
       "      <td>POLYGON ((-122.00649 37.32295, -122.004603875 ...</td>\n",
       "    </tr>\n",
       "    <tr>\n",
       "      <th>4</th>\n",
       "      <td>CA</td>\n",
       "      <td>Santa Clara</td>\n",
       "      <td>Campbell</td>\n",
       "      <td>San Tomas</td>\n",
       "      <td>117891</td>\n",
       "      <td>POLYGON ((-121.9526834979999 37.27366922400006...</td>\n",
       "    </tr>\n",
       "    <tr>\n",
       "      <th>5</th>\n",
       "      <td>CA</td>\n",
       "      <td>Santa Clara</td>\n",
       "      <td>San Jose</td>\n",
       "      <td>Berryessa</td>\n",
       "      <td>113736</td>\n",
       "      <td>POLYGON ((-121.8202519999999 37.43812700000007...</td>\n",
       "    </tr>\n",
       "  </tbody>\n",
       "</table>\n",
       "</div>"
      ],
      "text/plain": [
       "  State       County       City              Name RegionID  \\\n",
       "1    CA  Santa Clara   San Jose            Alviso     8075   \n",
       "2    CA  Santa Clara   San Jose     Cambrian Park   114074   \n",
       "3    CA  Santa Clara  Cupertino  Rancho Rinconada   117559   \n",
       "4    CA  Santa Clara   Campbell         San Tomas   117891   \n",
       "5    CA  Santa Clara   San Jose         Berryessa   113736   \n",
       "\n",
       "                                            geometry  \n",
       "1  POLYGON ((-121.9423569999999 37.46496300000007...  \n",
       "2  POLYGON ((-121.878978755 37.27530488000008, -1...  \n",
       "3  POLYGON ((-122.00649 37.32295, -122.004603875 ...  \n",
       "4  POLYGON ((-121.9526834979999 37.27366922400006...  \n",
       "5  POLYGON ((-121.8202519999999 37.43812700000007...  "
      ]
     },
     "execution_count": 213,
     "metadata": {},
     "output_type": "execute_result"
    }
   ],
   "source": [
    "df_neighborhoods.head()"
   ]
  },
  {
   "cell_type": "code",
   "execution_count": 214,
   "metadata": {},
   "outputs": [],
   "source": [
    "df_contact_neighborhood['Similar Neighborhood'] = 'None'\n",
    "df_contacts['Similar Neighborhood'] = 'None'"
   ]
  },
  {
   "cell_type": "code",
   "execution_count": 215,
   "metadata": {},
   "outputs": [],
   "source": [
    "neighborhoods = list(df_neighborhoods['Name'])\n",
    "for index, row in df_contact_neighborhood.iterrows():\n",
    "    row['Similar Neighborhood'] = difflib.get_close_matches(row['Neighborhood'].lower(), neighborhoods)"
   ]
  },
  {
   "cell_type": "code",
   "execution_count": 216,
   "metadata": {},
   "outputs": [
    {
     "data": {
      "text/html": [
       "<div>\n",
       "<style scoped>\n",
       "    .dataframe tbody tr th:only-of-type {\n",
       "        vertical-align: middle;\n",
       "    }\n",
       "\n",
       "    .dataframe tbody tr th {\n",
       "        vertical-align: top;\n",
       "    }\n",
       "\n",
       "    .dataframe thead th {\n",
       "        text-align: right;\n",
       "    }\n",
       "</style>\n",
       "<table border=\"1\" class=\"dataframe\">\n",
       "  <thead>\n",
       "    <tr style=\"text-align: right;\">\n",
       "      <th></th>\n",
       "      <th>Name</th>\n",
       "      <th>Neighborhood</th>\n",
       "      <th>Similar Neighborhood</th>\n",
       "    </tr>\n",
       "  </thead>\n",
       "  <tbody>\n",
       "    <tr>\n",
       "      <th>1</th>\n",
       "      <td>Allie Judy</td>\n",
       "      <td>San Tomas</td>\n",
       "      <td>[San Tomas]</td>\n",
       "    </tr>\n",
       "    <tr>\n",
       "      <th>2</th>\n",
       "      <td>Allie Judy</td>\n",
       "      <td>Newport Apartments</td>\n",
       "      <td>[]</td>\n",
       "    </tr>\n",
       "    <tr>\n",
       "      <th>3</th>\n",
       "      <td>Allie Judy</td>\n",
       "      <td>Hacienda</td>\n",
       "      <td>[]</td>\n",
       "    </tr>\n",
       "    <tr>\n",
       "      <th>4</th>\n",
       "      <td>Allie Judy</td>\n",
       "      <td>Pollard Road</td>\n",
       "      <td>[]</td>\n",
       "    </tr>\n",
       "    <tr>\n",
       "      <th>5</th>\n",
       "      <td>Allie Judy</td>\n",
       "      <td>Los Gatos Woods</td>\n",
       "      <td>[]</td>\n",
       "    </tr>\n",
       "  </tbody>\n",
       "</table>\n",
       "</div>"
      ],
      "text/plain": [
       "         Name        Neighborhood Similar Neighborhood\n",
       "1  Allie Judy           San Tomas          [San Tomas]\n",
       "2  Allie Judy  Newport Apartments                   []\n",
       "3  Allie Judy            Hacienda                   []\n",
       "4  Allie Judy        Pollard Road                   []\n",
       "5  Allie Judy     Los Gatos Woods                   []"
      ]
     },
     "execution_count": 216,
     "metadata": {},
     "output_type": "execute_result"
    }
   ],
   "source": [
    "df_contact_neighborhood.head()"
   ]
  },
  {
   "cell_type": "code",
   "execution_count": 217,
   "metadata": {},
   "outputs": [],
   "source": [
    "for index, row in df_contacts.iterrows():\n",
    "    row['Similar Neighborhood'] = difflib.get_close_matches(row['Assigned Neighborhood'].lower(), neighborhoods)"
   ]
  },
  {
   "cell_type": "code",
   "execution_count": 218,
   "metadata": {},
   "outputs": [
    {
     "data": {
      "text/html": [
       "<div>\n",
       "<style scoped>\n",
       "    .dataframe tbody tr th:only-of-type {\n",
       "        vertical-align: middle;\n",
       "    }\n",
       "\n",
       "    .dataframe tbody tr th {\n",
       "        vertical-align: top;\n",
       "    }\n",
       "\n",
       "    .dataframe thead th {\n",
       "        text-align: right;\n",
       "    }\n",
       "</style>\n",
       "<table border=\"1\" class=\"dataframe\">\n",
       "  <thead>\n",
       "    <tr style=\"text-align: right;\">\n",
       "      <th></th>\n",
       "      <th>Name</th>\n",
       "      <th>email</th>\n",
       "      <th>Assigned Neighborhood</th>\n",
       "      <th>Resides in Neighborhood</th>\n",
       "      <th>Similar Neighborhood</th>\n",
       "    </tr>\n",
       "  </thead>\n",
       "  <tbody>\n",
       "    <tr>\n",
       "      <th>1</th>\n",
       "      <td>Anita Rosen</td>\n",
       "      <td>anita@readygo.com</td>\n",
       "      <td>Gemello</td>\n",
       "      <td>TRUE</td>\n",
       "      <td>[Gemello Park]</td>\n",
       "    </tr>\n",
       "    <tr>\n",
       "      <th>2</th>\n",
       "      <td>Ann Ranish</td>\n",
       "      <td>annranish@gmail.com</td>\n",
       "      <td>Starbird</td>\n",
       "      <td>TRUE</td>\n",
       "      <td>[]</td>\n",
       "    </tr>\n",
       "    <tr>\n",
       "      <th>3</th>\n",
       "      <td>Carol Peck</td>\n",
       "      <td>CAnative.carol@gmail.com</td>\n",
       "      <td>Northern Gilroy</td>\n",
       "      <td>TRUE</td>\n",
       "      <td>[]</td>\n",
       "    </tr>\n",
       "    <tr>\n",
       "      <th>4</th>\n",
       "      <td>Don Krafft</td>\n",
       "      <td>dfk@donkrafft.com</td>\n",
       "      <td>Morse Park - Sunnyvale</td>\n",
       "      <td>TRUE</td>\n",
       "      <td>[]</td>\n",
       "    </tr>\n",
       "    <tr>\n",
       "      <th>5</th>\n",
       "      <td>Jeff Jenks</td>\n",
       "      <td>jenks.jeff@gmail.com</td>\n",
       "      <td>Monta Vista</td>\n",
       "      <td>TRUE</td>\n",
       "      <td>[Monta Vista South, Monta Vista North]</td>\n",
       "    </tr>\n",
       "  </tbody>\n",
       "</table>\n",
       "</div>"
      ],
      "text/plain": [
       "          Name                     email   Assigned Neighborhood  \\\n",
       "1  Anita Rosen         anita@readygo.com                 Gemello   \n",
       "2   Ann Ranish       annranish@gmail.com                Starbird   \n",
       "3   Carol Peck  CAnative.carol@gmail.com         Northern Gilroy   \n",
       "4   Don Krafft         dfk@donkrafft.com  Morse Park - Sunnyvale   \n",
       "5   Jeff Jenks      jenks.jeff@gmail.com             Monta Vista   \n",
       "\n",
       "  Resides in Neighborhood                    Similar Neighborhood  \n",
       "1                    TRUE                          [Gemello Park]  \n",
       "2                    TRUE                                      []  \n",
       "3                    TRUE                                      []  \n",
       "4                    TRUE                                      []  \n",
       "5                    TRUE  [Monta Vista South, Monta Vista North]  "
      ]
     },
     "execution_count": 218,
     "metadata": {},
     "output_type": "execute_result"
    }
   ],
   "source": [
    "df_contacts.head()"
   ]
  },
  {
   "cell_type": "code",
   "execution_count": 219,
   "metadata": {},
   "outputs": [],
   "source": [
    "df_contacts.to_csv('ms_contacts_master.csv', index=False)\n",
    "df_contact_neighborhood.to_csv('ms_contact_neighborhood_master.csv', index=False)"
   ]
  },
  {
   "cell_type": "markdown",
   "metadata": {},
   "source": [
    "### Quality\n",
    "\n",
    "##### Data Quality Dimensions\n",
    "Completeness: Do we have all of the records that we should? Do we have missing records or not? Are there specific rows, columns, or cells missing? \n",
    "\n",
    "Validity: We have the records, but they're not valid, i.e., they don't conform to a defined schema. A schema is a defined set of rules for data. These rules can be real-world constraints (e.g. negative height is impossible) and table-specific constraints (e.g. unique key constraints in tables). \n",
    "\n",
    "Accuracy: Inaccurate data is wrong data that is valid. It adheres to the defined schema, but it is still incorrect. Example: a patient's weight that is 5 lbs too heavy because the scale was faulty. \n",
    "\n",
    "Consistency: Inconsistent data is both valid and accurate, but there are multiple correct ways of referring to the same thing. Consistency, i.e., a standard format, in columns that represent the same data across tables and/or within tables is desired. \n",
    "\n",
    "##### `df_tweets` Table Actions \n",
    "- Blah Blah\n",
    "##### `df_tweet_additional_info` Table Actions\n",
    "- Remove retweets.\n",
    "- \n",
    "\n",
    "### Tidiness\n",
    "##### Tidiness Criteria:\n",
    "- Each variable you measure should be in one column.\n",
    "- Each different observation of that variable should be in a different row.\n",
    "- There should be one table for each “kind” of variable.\n",
    "- Related tables should each include a column that allows them to be linked.\n",
    "##### Tidiness Actions\n",
    "- "
   ]
  },
  {
   "cell_type": "code",
   "execution_count": null,
   "metadata": {},
   "outputs": [],
   "source": []
  },
  {
   "cell_type": "markdown",
   "metadata": {},
   "source": [
    "## Clean"
   ]
  },
  {
   "cell_type": "markdown",
   "metadata": {},
   "source": [
    "##### Define\n",
    "Remove tweets from the df_tweets and df_tweet_additional_info tables that do not have images in the df_image_predict table.\n",
    "\n",
    "##### Code"
   ]
  },
  {
   "cell_type": "code",
   "execution_count": null,
   "metadata": {},
   "outputs": [],
   "source": []
  },
  {
   "cell_type": "markdown",
   "metadata": {},
   "source": [
    "##### Test"
   ]
  },
  {
   "cell_type": "code",
   "execution_count": null,
   "metadata": {},
   "outputs": [],
   "source": []
  },
  {
   "cell_type": "markdown",
   "metadata": {},
   "source": [
    "## Storing\n",
    "\n",
    "Store the clean DataFrame in a CSV file named SantaClaraMasterGardener_master.csv."
   ]
  },
  {
   "cell_type": "code",
   "execution_count": null,
   "metadata": {},
   "outputs": [],
   "source": []
  },
  {
   "cell_type": "markdown",
   "metadata": {},
   "source": [
    "## Analysis and Visualization"
   ]
  },
  {
   "cell_type": "markdown",
   "metadata": {},
   "source": [
    "### Viz 1:"
   ]
  },
  {
   "cell_type": "code",
   "execution_count": null,
   "metadata": {},
   "outputs": [],
   "source": []
  }
 ],
 "metadata": {
  "kernelspec": {
   "display_name": "Python 3",
   "language": "python",
   "name": "python3"
  },
  "language_info": {
   "codemirror_mode": {
    "name": "ipython",
    "version": 3
   },
   "file_extension": ".py",
   "mimetype": "text/x-python",
   "name": "python",
   "nbconvert_exporter": "python",
   "pygments_lexer": "ipython3",
   "version": "3.6.7"
  }
 },
 "nbformat": 4,
 "nbformat_minor": 2
}
