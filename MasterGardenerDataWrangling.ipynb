{
 "cells": [
  {
   "cell_type": "markdown",
   "metadata": {},
   "source": [
    "# Data Analysis for Santa Clara Master Gardener Club by Michelle Petersen"
   ]
  },
  {
   "cell_type": "code",
   "execution_count": null,
   "metadata": {},
   "outputs": [],
   "source": [
    "# Imports\n",
    "%matplotlib inline\n",
    "import pandas as pd\n",
    "import numpy as np\n",
    "import json\n",
    "import geojson\n",
    "import shapefile\n",
    "import requests\n",
    "from bs4 import BeautifulSoup\n",
    "import pprint as pp\n",
    "import matplotlib.pyplot as plt\n",
    "from timeit import default_timer as timer"
   ]
  },
  {
   "cell_type": "markdown",
   "metadata": {},
   "source": [
    "## Gather"
   ]
  },
  {
   "cell_type": "markdown",
   "metadata": {},
   "source": [
    "#### Read Master Gardener Contacts and Nextdoor Neighborhood Information from Google Doc Spreadsheet"
   ]
  },
  {
   "cell_type": "code",
   "execution_count": null,
   "metadata": {},
   "outputs": [],
   "source": [
    "import gspread\n",
    "from google.oauth2 import service_account\n",
    "from google.auth.transport.requests import AuthorizedSession\n",
    "\n",
    "# The scope to read the spreadsheet\n",
    "_GS_SCOPE = ['https://www.googleapis.com/auth/spreadsheets.readonly',\n",
    "            'https://www.googleapis.com/auth/drive']\n",
    "\n",
    "# The ID and range of the MasterGardener spreadsheet.\n",
    "_GS_ID = '1pPOuRZ9YsKwXGKgxzSm9tXCR_dgkCY4WNh3rg_cFX08'\n",
    "\n",
    "service_account_info = json.load(open('Master Gardener-7e906e507d9d.json'))\n",
    "credentials = service_account.Credentials.from_service_account_info(\n",
    "    service_account_info,\n",
    "    scopes=_GS_SCOPE)\n",
    "\n",
    "if credentials:\n",
    "    gc = gspread.Client(auth=credentials)\n",
    "    gc.session = AuthorizedSession(credentials)\n",
    "    book = gc.open_by_key(_GS_ID)\n",
    "    print(book.title)\n",
    "    worksheet_list = book.worksheets()\n",
    "    for worksheet in worksheet_list:\n",
    "        print(worksheet)"
   ]
  },
  {
   "cell_type": "code",
   "execution_count": null,
   "metadata": {},
   "outputs": [],
   "source": [
    "# Load the data from each sheet into a dataframe\n",
    "df_contacts = pd.DataFrame(book.get_worksheet(0).get_all_values())\n",
    "df_contact_neighborhood = pd.DataFrame(book.get_worksheet(1).get_all_values())\n",
    "df_nextdoor_neighborhoods = pd.DataFrame(book.get_worksheet(2).get_all_values())"
   ]
  },
  {
   "cell_type": "code",
   "execution_count": null,
   "metadata": {},
   "outputs": [],
   "source": [
    "# Update the column names for the contact worksheet\n",
    "df_contacts.reset_index()\n",
    "df_contacts.columns = ['Name', 'Email', 'Neighborhood', 'State', 'County', 'City']"
   ]
  },
  {
   "cell_type": "code",
   "execution_count": null,
   "metadata": {},
   "outputs": [],
   "source": [
    "# Remove the row with column names since gspread reads it as data\n",
    "df_contacts = df_contacts[df_contacts['Name'] != 'Name']"
   ]
  },
  {
   "cell_type": "code",
   "execution_count": null,
   "metadata": {},
   "outputs": [],
   "source": [
    "# Verify column names and data\n",
    "df_contacts.head()"
   ]
  },
  {
   "cell_type": "code",
   "execution_count": null,
   "metadata": {},
   "outputs": [],
   "source": [
    "# Update the column names for the contact to neighborhood mapping worksheet\n",
    "df_contact_neighborhood.reset_index()\n",
    "df_contact_neighborhood.columns = ['Name', 'Neighborhood', 'State', 'County', 'City']"
   ]
  },
  {
   "cell_type": "code",
   "execution_count": null,
   "metadata": {},
   "outputs": [],
   "source": [
    "# Remove the row with column names since gspread reads it as data\n",
    "df_contact_neighborhood = df_contact_neighborhood[df_contact_neighborhood['Name'] != 'Name']"
   ]
  },
  {
   "cell_type": "code",
   "execution_count": null,
   "metadata": {},
   "outputs": [],
   "source": [
    "# Verify column names and data\n",
    "df_contact_neighborhood.head()"
   ]
  },
  {
   "cell_type": "markdown",
   "metadata": {},
   "source": [
    "### Store"
   ]
  },
  {
   "cell_type": "code",
   "execution_count": null,
   "metadata": {},
   "outputs": [],
   "source": [
    "# Resave information to csv files for input to Tableau\n",
    "df_contacts.to_csv('mg_contacts_master.csv', index=False)\n",
    "df_contact_neighborhood.to_csv('mg_contact_neighborhood_master.csv', index=False)"
   ]
  },
  {
   "cell_type": "code",
   "execution_count": null,
   "metadata": {},
   "outputs": [],
   "source": [
    "# Update the column names for the nextdoor neighborhood worksheet\n",
    "df_nextdoor_neighborhoods.reset_index()\n",
    "df_nextdoor_neighborhoods.columns = ['State', 'County', 'City', 'Neighborhood', 'Link', 'Nextdoor ID', \n",
    "                                     'Geometry', 'Interests', 'Interest in Gardening', 'Percentage of Homeowners', \n",
    "                                     'Number of Residents', 'Average Age', 'Attributes']"
   ]
  },
  {
   "cell_type": "code",
   "execution_count": null,
   "metadata": {},
   "outputs": [],
   "source": [
    "# Remove the row with column names since gspread reads it as data\n",
    "df_nextdoor_neighborhoods = df_nextdoor_neighborhoods[df_nextdoor_neighborhoods['Neighborhood'] != 'Neighborhood']"
   ]
  },
  {
   "cell_type": "code",
   "execution_count": null,
   "metadata": {},
   "outputs": [],
   "source": [
    "# Verify column names and data\n",
    "df_nextdoor_neighborhoods.head()"
   ]
  },
  {
   "cell_type": "code",
   "execution_count": null,
   "metadata": {},
   "outputs": [],
   "source": [
    "# Verify neighborhood columns and data\n",
    "df_nextdoor_neighborhoods.info()"
   ]
  },
  {
   "cell_type": "code",
   "execution_count": null,
   "metadata": {},
   "outputs": [],
   "source": [
    "# Run some stats\n",
    "df_nextdoor_neighborhoods.describe()"
   ]
  },
  {
   "cell_type": "code",
   "execution_count": null,
   "metadata": {},
   "outputs": [],
   "source": [
    "# Resave neighborhood information to csv files for input to Tableau\n",
    "df_nextdoor_neighborhoods.to_csv('nextdoor_with_properties_master.csv', index=False)"
   ]
  },
  {
   "cell_type": "code",
   "execution_count": null,
   "metadata": {},
   "outputs": [],
   "source": [
    "# Save geographic information to geojson file for input to Tableau\n",
    "from geojson import Point, Feature, FeatureCollection, dumps\n",
    "\n",
    "features = []\n",
    "for index, row in df_nextdoor_neighborhoods.iterrows():\n",
    "    if (len(row[\"Geometry\"]) > 0):\n",
    "        features.append(json.loads(row[\"Geometry\"]))\n",
    "\n",
    "feature_collection = FeatureCollection(features)\n",
    "\n",
    "with open('nextdoor_neighborhoods.geojson', 'w') as f:\n",
    "   dump(feature_collection, f)"
   ]
  },
  {
   "cell_type": "markdown",
   "metadata": {},
   "source": [
    "## Analysis and Visualization"
   ]
  },
  {
   "cell_type": "markdown",
   "metadata": {},
   "source": [
    "### Viz 1:"
   ]
  },
  {
   "cell_type": "code",
   "execution_count": null,
   "metadata": {},
   "outputs": [],
   "source": [
    "attribute_columns = ['State', 'County', 'City', 'Neighborhood', \"Nextdoor ID\", \"Attribute\", \"Position\"]\n",
    "df_nextdoor_attributes = pd.DataFrame(columns=attribute_columns)"
   ]
  },
  {
   "cell_type": "code",
   "execution_count": null,
   "metadata": {},
   "outputs": [],
   "source": [
    "def iterateOneNeighborhoodInterestActivity(currentRowIndex):\n",
    "    global df_nextdoor_attributes\n",
    "    entry = df_nextdoor_neighborhoods.iloc[currentRowIndex]\n",
    "        \n",
    "    attributes = entry[\"Attributes\"]\n",
    "    attributes = attributes.replace(\"[\", \"\")\n",
    "    attributes = attributes.replace(\"]\", \"\")\n",
    "    attributes = attributes.replace(\"'\", \"\")\n",
    "    attributes = attributes.split(\", \")\n",
    "    print(len(attributes))\n",
    "    index = 0\n",
    "    for attribute in attributes:\n",
    "        print(attribute)\n",
    "        df_nextdoor_attributes = df_nextdoor_attributes.append(\n",
    "            {\"State\": entry['State'],\n",
    "             \"County\": entry['County'],\n",
    "             \"City\": entry['City'],\n",
    "             \"Neighborhood\": entry['Neighborhood'],\n",
    "             \"Nextdoor ID\": entry['Nextdoor ID'],\n",
    "             \"Attribute\": attribute,\n",
    "             \"Position\": index\n",
    "             }, ignore_index=True)   \n",
    "        index += 1"
   ]
  },
  {
   "cell_type": "code",
   "execution_count": null,
   "metadata": {},
   "outputs": [],
   "source": [
    "iterateOneNeighborhoodInterestActivity(0) "
   ]
  },
  {
   "cell_type": "code",
   "execution_count": null,
   "metadata": {},
   "outputs": [],
   "source": [
    "currentIndex = 1\n",
    "endIndex = len(df_nextdoor_neighborhoods) - 1\n",
    "print(\"Number of Neighborhoods: \" + str(len(df_nextdoor_neighborhoods)))\n",
    "print(\"End Index: \" , str(endIndex))\n",
    "while True:\n",
    "    print(\"Current Index: \" + str(currentIndex))\n",
    "    iterateOneNeighborhoodInterestActivity(currentIndex) \n",
    "    currentIndex += 1\n",
    "    if currentIndex > endIndex:\n",
    "        break"
   ]
  },
  {
   "cell_type": "code",
   "execution_count": null,
   "metadata": {},
   "outputs": [],
   "source": [
    "df_nextdoor_attributes.tail()"
   ]
  },
  {
   "cell_type": "code",
   "execution_count": null,
   "metadata": {},
   "outputs": [],
   "source": [
    "df_nextdoor_attributes.to_csv('nextdoor_attributes_master.csv', index=False)"
   ]
  },
  {
   "cell_type": "code",
   "execution_count": null,
   "metadata": {},
   "outputs": [],
   "source": []
  }
 ],
 "metadata": {
  "kernelspec": {
   "display_name": "Python 3",
   "language": "python",
   "name": "python3"
  },
  "language_info": {
   "codemirror_mode": {
    "name": "ipython",
    "version": 3
   },
   "file_extension": ".py",
   "mimetype": "text/x-python",
   "name": "python",
   "nbconvert_exporter": "python",
   "pygments_lexer": "ipython3",
   "version": "3.6.7"
  }
 },
 "nbformat": 4,
 "nbformat_minor": 2
}
