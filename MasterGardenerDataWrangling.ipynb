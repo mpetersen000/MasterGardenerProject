{
 "cells": [
  {
   "cell_type": "markdown",
   "metadata": {},
   "source": [
    "# Data Analysis for Santa Clara Master Gardener Club by Michelle Petersen"
   ]
  },
  {
   "cell_type": "markdown",
   "metadata": {},
   "source": [
    "## Overview"
   ]
  },
  {
   "cell_type": "markdown",
   "metadata": {},
   "source": [
    "Since 1981, the University of California Master Gardener Program has been extending UC research-based information about home horticulture and pest management to the public. The UC Master Gardener Program is a public service and outreach program under the University of California Division of Agriculture and Natural Resources, administered locally by participating UC Cooperative Extension county offices.\n",
    "\n",
    "The UC Master Gardener Program is an example of an effective partnership between the University of California and passionate volunteers. In exchange for training from the University, UC Master Gardeners offer volunteer services and outreach to the general public in more than 50 California counties. Last year 6,116 active UC Master Gardener volunteers donated 398,265 hours, and 5.4+ million hours have been donated since the program's inception.\n",
    "\n",
    "Volunteers complete a 16-week, 60+ hour training program in home horticulture and remain certified on a yearly basis.\n",
    "\n",
    "The Master Gardeners of Santa Clara have begun using the Nextdoor App to increase local community outreach. Each week the assigned Master Gardener for a neighborhood will send tips of the week and answer questions. The Nextdoor App is opt-in. Each household must sign up with the app and verify thier identity. The number of residences that are members of Nextdoor is hidden except to a logged in member or to the neighborhood leaders. The Nextdoor platform allows members to communicate with their neighborhood and nearby neighborhoods only. This goal is to provide a sense of connectedness among members.\n",
    "\n",
    "Questions to be Answered by this analysis:\n",
    "* What are all the Nextdoor neighborhoods in Santa Clara County?\n",
    "* Which Neighborhoods are reached by each Master Gardener?\n",
    "* Which Neighborhoods do not have a Master Gardener assigned or are not able to be reached?\n",
    "* What is the interest level in gardening for each Nextdoor Neighborhood?"
   ]
  },
  {
   "cell_type": "code",
   "execution_count": 55,
   "metadata": {},
   "outputs": [],
   "source": [
    "# Imports\n",
    "%matplotlib inline\n",
    "import pandas as pd\n",
    "import numpy as np\n",
    "import json\n",
    "import geojson\n",
    "from bs4 import BeautifulSoup\n",
    "import matplotlib.pyplot as plt\n",
    "import seaborn as sns"
   ]
  },
  {
   "cell_type": "markdown",
   "metadata": {},
   "source": [
    "## Gather"
   ]
  },
  {
   "cell_type": "markdown",
   "metadata": {},
   "source": [
    "#### Read Master Gardener Contacts and Nextdoor Neighborhood Information from Google Doc Spreadsheet"
   ]
  },
  {
   "cell_type": "code",
   "execution_count": 2,
   "metadata": {},
   "outputs": [
    {
     "name": "stdout",
     "output_type": "stream",
     "text": [
      "Santa Clara County Master Gardeners\n",
      "<Worksheet 'Contacts' id:0>\n",
      "<Worksheet 'Contact - Neighborhod Mapping' id:1690020129>\n",
      "<Worksheet 'Nextdoor Neighborhoods' id:354027930>\n"
     ]
    }
   ],
   "source": [
    "import gspread\n",
    "from google.oauth2 import service_account\n",
    "from google.auth.transport.requests import AuthorizedSession\n",
    "\n",
    "# The scope to read the spreadsheet\n",
    "_GS_SCOPE = ['https://www.googleapis.com/auth/spreadsheets.readonly',\n",
    "            'https://www.googleapis.com/auth/drive']\n",
    "\n",
    "# The ID and range of the MasterGardener spreadsheet.\n",
    "_GS_ID = '1pPOuRZ9YsKwXGKgxzSm9tXCR_dgkCY4WNh3rg_cFX08'\n",
    "\n",
    "service_account_info = json.load(open('Master Gardener-7e906e507d9d.json'))\n",
    "credentials = service_account.Credentials.from_service_account_info(\n",
    "    service_account_info,\n",
    "    scopes=_GS_SCOPE)\n",
    "\n",
    "if credentials:\n",
    "    gc = gspread.Client(auth=credentials)\n",
    "    gc.session = AuthorizedSession(credentials)\n",
    "    book = gc.open_by_key(_GS_ID)\n",
    "    print(book.title)\n",
    "    worksheet_list = book.worksheets()\n",
    "    for worksheet in worksheet_list:\n",
    "        print(worksheet)"
   ]
  },
  {
   "cell_type": "code",
   "execution_count": 3,
   "metadata": {},
   "outputs": [],
   "source": [
    "# Load the data from each sheet into a dataframe\n",
    "df_contacts = pd.DataFrame(book.get_worksheet(0).get_all_values())\n",
    "df_contact_neighborhood = pd.DataFrame(book.get_worksheet(1).get_all_values())\n",
    "df_nextdoor_neighborhoods = pd.DataFrame(book.get_worksheet(2).get_all_values())"
   ]
  },
  {
   "cell_type": "code",
   "execution_count": 4,
   "metadata": {},
   "outputs": [],
   "source": [
    "# Update the column names for the contact worksheet\n",
    "df_contacts.reset_index()\n",
    "df_contacts.columns = ['Name', 'Email', 'Neighborhood', 'State', 'County', 'City']"
   ]
  },
  {
   "cell_type": "code",
   "execution_count": 5,
   "metadata": {},
   "outputs": [],
   "source": [
    "# Remove the row with column names since gspread reads it as data\n",
    "df_contacts = df_contacts[df_contacts['Name'] != 'Name']"
   ]
  },
  {
   "cell_type": "code",
   "execution_count": null,
   "metadata": {},
   "outputs": [],
   "source": [
    "# Verify column names and data\n",
    "df_contacts.head()"
   ]
  },
  {
   "cell_type": "code",
   "execution_count": 7,
   "metadata": {},
   "outputs": [],
   "source": [
    "# Update the column names for the contact to neighborhood mapping worksheet\n",
    "df_contact_neighborhood.reset_index()\n",
    "df_contact_neighborhood.columns = ['Name', 'Neighborhood', 'State', 'County', 'City']"
   ]
  },
  {
   "cell_type": "code",
   "execution_count": 8,
   "metadata": {},
   "outputs": [],
   "source": [
    "# Remove the row with column names since gspread reads it as data\n",
    "df_contact_neighborhood = df_contact_neighborhood[df_contact_neighborhood['Name'] != 'Name']"
   ]
  },
  {
   "cell_type": "code",
   "execution_count": null,
   "metadata": {},
   "outputs": [],
   "source": [
    "# Verify column names and data\n",
    "df_contact_neighborhood.head()"
   ]
  },
  {
   "cell_type": "code",
   "execution_count": 12,
   "metadata": {},
   "outputs": [],
   "source": [
    "# Update the column names for the nextdoor neighborhood worksheet\n",
    "df_nextdoor_neighborhoods.reset_index()\n",
    "df_nextdoor_neighborhoods.columns = ['State', 'County', 'City', 'Neighborhood', 'Link', 'Nextdoor ID', \n",
    "                                     'Geometry', 'Interests', 'Interest in Gardening', 'Percentage of Homeowners', \n",
    "                                     'Number of Residents', 'Average Age', 'Attributes']"
   ]
  },
  {
   "cell_type": "code",
   "execution_count": 13,
   "metadata": {},
   "outputs": [],
   "source": [
    "# Remove the row with column names since gspread reads it as data\n",
    "df_nextdoor_neighborhoods = df_nextdoor_neighborhoods[df_nextdoor_neighborhoods['Neighborhood'] != 'Neighborhood']"
   ]
  },
  {
   "cell_type": "code",
   "execution_count": 16,
   "metadata": {},
   "outputs": [],
   "source": [
    "# Update columns to numeric data types\n",
    "df_nextdoor_neighborhoods[[\"Nextdoor ID\", \"Interest in Gardening\", \"Percentage of Homeowners\", \"Number of Residents\", \"Average Age\"]] = df_nextdoor_neighborhoods[[\"Nextdoor ID\", \"Interest in Gardening\", \"Percentage of Homeowners\", \"Number of Residents\", \"Average Age\"]].apply(pd.to_numeric)"
   ]
  },
  {
   "cell_type": "code",
   "execution_count": 17,
   "metadata": {},
   "outputs": [
    {
     "data": {
      "text/html": [
       "<div>\n",
       "<style scoped>\n",
       "    .dataframe tbody tr th:only-of-type {\n",
       "        vertical-align: middle;\n",
       "    }\n",
       "\n",
       "    .dataframe tbody tr th {\n",
       "        vertical-align: top;\n",
       "    }\n",
       "\n",
       "    .dataframe thead th {\n",
       "        text-align: right;\n",
       "    }\n",
       "</style>\n",
       "<table border=\"1\" class=\"dataframe\">\n",
       "  <thead>\n",
       "    <tr style=\"text-align: right;\">\n",
       "      <th></th>\n",
       "      <th>State</th>\n",
       "      <th>County</th>\n",
       "      <th>City</th>\n",
       "      <th>Neighborhood</th>\n",
       "      <th>Link</th>\n",
       "      <th>Nextdoor ID</th>\n",
       "      <th>Geometry</th>\n",
       "      <th>Interests</th>\n",
       "      <th>Interest in Gardening</th>\n",
       "      <th>Percentage of Homeowners</th>\n",
       "      <th>Number of Residents</th>\n",
       "      <th>Average Age</th>\n",
       "      <th>Attributes</th>\n",
       "    </tr>\n",
       "  </thead>\n",
       "  <tbody>\n",
       "    <tr>\n",
       "      <th>1</th>\n",
       "      <td>CA</td>\n",
       "      <td>Santa Clara</td>\n",
       "      <td>Gilroy</td>\n",
       "      <td>1st St.</td>\n",
       "      <td>https://nextdoor.com/neighborhood/1stst--gilro...</td>\n",
       "      <td>389933</td>\n",
       "      <td>{\"type\": \"Feature\", \"geometry\": {\"type\": \"Mult...</td>\n",
       "      <td>['SF Giants', 'Golden State Warriors', 'Hiking...</td>\n",
       "      <td>10</td>\n",
       "      <td>0</td>\n",
       "      <td>0</td>\n",
       "      <td>0</td>\n",
       "      <td>['Bay', 'Community', 'Diversity', 'Dog Friendl...</td>\n",
       "    </tr>\n",
       "    <tr>\n",
       "      <th>2</th>\n",
       "      <td>CA</td>\n",
       "      <td>Santa Clara</td>\n",
       "      <td>Sunnyvale</td>\n",
       "      <td>37 Degrees North</td>\n",
       "      <td>https://nextdoor.com/neighborhood/37degreesnor...</td>\n",
       "      <td>235506</td>\n",
       "      <td>{\"type\": \"Feature\", \"geometry\": {\"type\": \"Mult...</td>\n",
       "      <td>['Biking &amp; Cycling', 'Hiking &amp; Trails', 'Cooki...</td>\n",
       "      <td>10</td>\n",
       "      <td>69</td>\n",
       "      <td>1715</td>\n",
       "      <td>47</td>\n",
       "      <td>['Clean', 'Freeway Access', 'Peaceful', 'Well ...</td>\n",
       "    </tr>\n",
       "    <tr>\n",
       "      <th>3</th>\n",
       "      <td>CA</td>\n",
       "      <td>Santa Clara</td>\n",
       "      <td>Gilroy</td>\n",
       "      <td>3rd Street</td>\n",
       "      <td>https://nextdoor.com/neighborhood/3rdstreetgil...</td>\n",
       "      <td>350380</td>\n",
       "      <td>{\"type\": \"Feature\", \"geometry\": {\"type\": \"Mult...</td>\n",
       "      <td>['Dogs', 'Wine Tasting', 'Seeing Live Music', ...</td>\n",
       "      <td>5</td>\n",
       "      <td>0</td>\n",
       "      <td>0</td>\n",
       "      <td>0</td>\n",
       "      <td>['Peaceful', 'Safe', 'Quiet', 'Clean', 'Family...</td>\n",
       "    </tr>\n",
       "    <tr>\n",
       "      <th>4</th>\n",
       "      <td>CA</td>\n",
       "      <td>Santa Clara</td>\n",
       "      <td>Santa Clara</td>\n",
       "      <td>49ers-Backdoor-Community</td>\n",
       "      <td>https://nextdoor.com/neighborhood/49ersbackdoo...</td>\n",
       "      <td>197902</td>\n",
       "      <td>{\"type\": \"Feature\", \"geometry\": {\"type\": \"Mult...</td>\n",
       "      <td>['Hiking &amp; Trails', 'Walking', 'Home Improveme...</td>\n",
       "      <td>3</td>\n",
       "      <td>81</td>\n",
       "      <td>3006</td>\n",
       "      <td>46</td>\n",
       "      <td>[\"Well Maintained\", \"Clean\", \"Safe\", \"Walkabil...</td>\n",
       "    </tr>\n",
       "    <tr>\n",
       "      <th>5</th>\n",
       "      <td>CA</td>\n",
       "      <td>Santa Clara</td>\n",
       "      <td>Saratoga</td>\n",
       "      <td>4th Street</td>\n",
       "      <td>https://nextdoor.com/neighborhood/4thstreetsar...</td>\n",
       "      <td>198597</td>\n",
       "      <td>{\"type\": \"Feature\", \"geometry\": {\"type\": \"Mult...</td>\n",
       "      <td>['Walking', 'Hiking &amp; Trails', 'Biking &amp; Cycli...</td>\n",
       "      <td>4</td>\n",
       "      <td>66</td>\n",
       "      <td>679</td>\n",
       "      <td>48</td>\n",
       "      <td>['Events', 'Food', 'Parks', 'Restaurants', 'Sc...</td>\n",
       "    </tr>\n",
       "  </tbody>\n",
       "</table>\n",
       "</div>"
      ],
      "text/plain": [
       "  State       County         City              Neighborhood  \\\n",
       "1    CA  Santa Clara       Gilroy                   1st St.   \n",
       "2    CA  Santa Clara    Sunnyvale          37 Degrees North   \n",
       "3    CA  Santa Clara       Gilroy                3rd Street   \n",
       "4    CA  Santa Clara  Santa Clara  49ers-Backdoor-Community   \n",
       "5    CA  Santa Clara     Saratoga                4th Street   \n",
       "\n",
       "                                                Link  Nextdoor ID  \\\n",
       "1  https://nextdoor.com/neighborhood/1stst--gilro...       389933   \n",
       "2  https://nextdoor.com/neighborhood/37degreesnor...       235506   \n",
       "3  https://nextdoor.com/neighborhood/3rdstreetgil...       350380   \n",
       "4  https://nextdoor.com/neighborhood/49ersbackdoo...       197902   \n",
       "5  https://nextdoor.com/neighborhood/4thstreetsar...       198597   \n",
       "\n",
       "                                            Geometry  \\\n",
       "1  {\"type\": \"Feature\", \"geometry\": {\"type\": \"Mult...   \n",
       "2  {\"type\": \"Feature\", \"geometry\": {\"type\": \"Mult...   \n",
       "3  {\"type\": \"Feature\", \"geometry\": {\"type\": \"Mult...   \n",
       "4  {\"type\": \"Feature\", \"geometry\": {\"type\": \"Mult...   \n",
       "5  {\"type\": \"Feature\", \"geometry\": {\"type\": \"Mult...   \n",
       "\n",
       "                                           Interests  Interest in Gardening  \\\n",
       "1  ['SF Giants', 'Golden State Warriors', 'Hiking...                     10   \n",
       "2  ['Biking & Cycling', 'Hiking & Trails', 'Cooki...                     10   \n",
       "3  ['Dogs', 'Wine Tasting', 'Seeing Live Music', ...                      5   \n",
       "4  ['Hiking & Trails', 'Walking', 'Home Improveme...                      3   \n",
       "5  ['Walking', 'Hiking & Trails', 'Biking & Cycli...                      4   \n",
       "\n",
       "   Percentage of Homeowners  Number of Residents  Average Age  \\\n",
       "1                         0                    0            0   \n",
       "2                        69                 1715           47   \n",
       "3                         0                    0            0   \n",
       "4                        81                 3006           46   \n",
       "5                        66                  679           48   \n",
       "\n",
       "                                          Attributes  \n",
       "1  ['Bay', 'Community', 'Diversity', 'Dog Friendl...  \n",
       "2  ['Clean', 'Freeway Access', 'Peaceful', 'Well ...  \n",
       "3  ['Peaceful', 'Safe', 'Quiet', 'Clean', 'Family...  \n",
       "4  [\"Well Maintained\", \"Clean\", \"Safe\", \"Walkabil...  \n",
       "5  ['Events', 'Food', 'Parks', 'Restaurants', 'Sc...  "
      ]
     },
     "execution_count": 17,
     "metadata": {},
     "output_type": "execute_result"
    }
   ],
   "source": [
    "# Verify column names and data\n",
    "df_nextdoor_neighborhoods.head()"
   ]
  },
  {
   "cell_type": "code",
   "execution_count": 18,
   "metadata": {},
   "outputs": [
    {
     "name": "stdout",
     "output_type": "stream",
     "text": [
      "<class 'pandas.core.frame.DataFrame'>\n",
      "Int64Index: 1027 entries, 1 to 1027\n",
      "Data columns (total 13 columns):\n",
      "State                       1027 non-null object\n",
      "County                      1027 non-null object\n",
      "City                        1027 non-null object\n",
      "Neighborhood                1027 non-null object\n",
      "Link                        1027 non-null object\n",
      "Nextdoor ID                 1027 non-null int64\n",
      "Geometry                    1027 non-null object\n",
      "Interests                   1027 non-null object\n",
      "Interest in Gardening       1027 non-null int64\n",
      "Percentage of Homeowners    1027 non-null int64\n",
      "Number of Residents         1027 non-null int64\n",
      "Average Age                 1027 non-null int64\n",
      "Attributes                  1027 non-null object\n",
      "dtypes: int64(5), object(8)\n",
      "memory usage: 112.3+ KB\n"
     ]
    }
   ],
   "source": [
    "# Verify neighborhood columns and data\n",
    "df_nextdoor_neighborhoods.info()"
   ]
  },
  {
   "cell_type": "code",
   "execution_count": 19,
   "metadata": {},
   "outputs": [],
   "source": [
    "# Gather attribute data from neighborhoods\n",
    "df_attributes = pd.read_csv(\"nextdoor_attributes_master.csv\")"
   ]
  },
  {
   "cell_type": "code",
   "execution_count": 20,
   "metadata": {},
   "outputs": [],
   "source": [
    "# Gather interest data from neighborhoods\n",
    "df_interests = pd.read_csv(\"nextdoor_interests_master.csv\")"
   ]
  },
  {
   "cell_type": "markdown",
   "metadata": {},
   "source": [
    "## Store"
   ]
  },
  {
   "cell_type": "code",
   "execution_count": 21,
   "metadata": {},
   "outputs": [],
   "source": [
    "# Resave neighborhood information to csv files for input to Tableau\n",
    "df_nextdoor_neighborhoods.to_csv('nextdoor_with_properties_master.csv', index=False)"
   ]
  },
  {
   "cell_type": "code",
   "execution_count": 22,
   "metadata": {},
   "outputs": [],
   "source": [
    "# Resave information to csv files for input to Tableau\n",
    "df_contacts.to_csv('mg_contacts_master.csv', index=False)\n",
    "df_contact_neighborhood.to_csv('mg_contact_neighborhood_master.csv', index=False)"
   ]
  },
  {
   "cell_type": "code",
   "execution_count": 27,
   "metadata": {},
   "outputs": [],
   "source": [
    "# Save geographic information to geojson file for input to Tableau\n",
    "from geojson import Point, Feature, FeatureCollection, dumps\n",
    "\n",
    "features = []\n",
    "for index, row in df_nextdoor_neighborhoods.iterrows():\n",
    "    if (len(row[\"Geometry\"]) > 0):\n",
    "        features.append(json.loads(row[\"Geometry\"]))\n",
    "\n",
    "feature_collection = FeatureCollection(features)\n",
    "\n",
    "with open('nextdoor_neighborhoods.geojson', 'w') as f:\n",
    "   geojson.dump(feature_collection, f)"
   ]
  },
  {
   "cell_type": "markdown",
   "metadata": {},
   "source": [
    "## Add Attributes for Visualization "
   ]
  },
  {
   "cell_type": "code",
   "execution_count": 46,
   "metadata": {},
   "outputs": [],
   "source": [
    "df_nextdoor_neighborhoods[\"Level of Gardening Interest\"] = \"Other\""
   ]
  },
  {
   "cell_type": "code",
   "execution_count": 48,
   "metadata": {},
   "outputs": [],
   "source": [
    "def label_interest(row):\n",
    "    if row['Interest in Gardening'] == 10:\n",
    "        return 'None'\n",
    "    if row['Interest in Gardening'] >= 0 and row['Interest in Gardening'] < 3:\n",
    "        return 'High'\n",
    "    if row['Interest in Gardening'] >= 3 and row['Interest in Gardening'] < 8:\n",
    "        return 'Medium'\n",
    "    if row['Interest in Gardening'] >= 8 and row['Interest in Gardening'] < 10:\n",
    "        return 'Low'\n",
    "    return 'Other'"
   ]
  },
  {
   "cell_type": "code",
   "execution_count": 49,
   "metadata": {},
   "outputs": [],
   "source": [
    "df_nextdoor_neighborhoods['Level of Gardening Interest'] = df_nextdoor_neighborhoods.apply (lambda row: label_interest (row),axis=1)"
   ]
  },
  {
   "cell_type": "markdown",
   "metadata": {},
   "source": [
    "## Analysis and Visualization"
   ]
  },
  {
   "cell_type": "markdown",
   "metadata": {},
   "source": [
    "### Analysis 1: Neighborhood Interests and Attributes"
   ]
  },
  {
   "cell_type": "markdown",
   "metadata": {},
   "source": [
    "#### Number of Unique Neighborhood Interests"
   ]
  },
  {
   "cell_type": "code",
   "execution_count": 388,
   "metadata": {},
   "outputs": [
    {
     "data": {
      "text/plain": [
       "158"
      ]
     },
     "execution_count": 388,
     "metadata": {},
     "output_type": "execute_result"
    }
   ],
   "source": [
    "df_interests[\"Interest\"].nunique()"
   ]
  },
  {
   "cell_type": "markdown",
   "metadata": {},
   "source": [
    "#### Top 10 Interests"
   ]
  },
  {
   "cell_type": "code",
   "execution_count": 362,
   "metadata": {},
   "outputs": [
    {
     "data": {
      "text/plain": [
       "Hiking & Trails           904\n",
       "Walking                   876\n",
       "Cooking                   839\n",
       "Home Improvement & DIY    765\n",
       "Dogs                      750\n",
       "Gardening & Landscape     722\n",
       "Seeing Live Music         591\n",
       "Books                     556\n",
       "Volunteering              518\n",
       "Biking & Cycling          501\n",
       "Name: Interest, dtype: int64"
      ]
     },
     "execution_count": 362,
     "metadata": {},
     "output_type": "execute_result"
    }
   ],
   "source": [
    "df_interests[\"Interest\"].value_counts().nlargest(10)"
   ]
  },
  {
   "cell_type": "markdown",
   "metadata": {},
   "source": [
    "#### Number of Unique Neighborhood Attributes"
   ]
  },
  {
   "cell_type": "code",
   "execution_count": 389,
   "metadata": {},
   "outputs": [
    {
     "data": {
      "text/plain": [
       "80"
      ]
     },
     "execution_count": 389,
     "metadata": {},
     "output_type": "execute_result"
    }
   ],
   "source": [
    "df_attributes[\"Attribute\"].nunique()"
   ]
  },
  {
   "cell_type": "markdown",
   "metadata": {},
   "source": [
    "#### Top 10 Attributes"
   ]
  },
  {
   "cell_type": "code",
   "execution_count": 361,
   "metadata": {},
   "outputs": [
    {
     "data": {
      "text/plain": [
       "Family Friendly    694\n",
       "Peaceful           675\n",
       "Friendly           598\n",
       "Clean              546\n",
       "Dog Friendly       500\n",
       "Quiet              487\n",
       "Neighbors          462\n",
       "Safe               455\n",
       "Beautiful          414\n",
       "Walkability        398\n",
       "Name: Attribute, dtype: int64"
      ]
     },
     "execution_count": 361,
     "metadata": {},
     "output_type": "execute_result"
    }
   ],
   "source": [
    "df_attributes[\"Attribute\"].value_counts().nlargest(10)"
   ]
  },
  {
   "cell_type": "markdown",
   "metadata": {},
   "source": [
    "### Analysis 2: Descriptive Statistics"
   ]
  },
  {
   "cell_type": "code",
   "execution_count": 435,
   "metadata": {},
   "outputs": [
    {
     "data": {
      "text/html": [
       "<div>\n",
       "<style scoped>\n",
       "    .dataframe tbody tr th:only-of-type {\n",
       "        vertical-align: middle;\n",
       "    }\n",
       "\n",
       "    .dataframe tbody tr th {\n",
       "        vertical-align: top;\n",
       "    }\n",
       "\n",
       "    .dataframe thead th {\n",
       "        text-align: right;\n",
       "    }\n",
       "</style>\n",
       "<table border=\"1\" class=\"dataframe\">\n",
       "  <thead>\n",
       "    <tr style=\"text-align: right;\">\n",
       "      <th></th>\n",
       "      <th>Nextdoor ID</th>\n",
       "      <th>Interest in Gardening</th>\n",
       "      <th>Percentage of Homeowners</th>\n",
       "      <th>Number of Residents</th>\n",
       "      <th>Average Age</th>\n",
       "      <th>Interest in Cycling</th>\n",
       "    </tr>\n",
       "  </thead>\n",
       "  <tbody>\n",
       "    <tr>\n",
       "      <th>count</th>\n",
       "      <td>1027.000000</td>\n",
       "      <td>1027.000000</td>\n",
       "      <td>1027.000000</td>\n",
       "      <td>1027.000000</td>\n",
       "      <td>1027.000000</td>\n",
       "      <td>1027.000000</td>\n",
       "    </tr>\n",
       "    <tr>\n",
       "      <th>mean</th>\n",
       "      <td>197889.446933</td>\n",
       "      <td>5.941577</td>\n",
       "      <td>60.799416</td>\n",
       "      <td>2647.576436</td>\n",
       "      <td>45.721519</td>\n",
       "      <td>8.646543</td>\n",
       "    </tr>\n",
       "    <tr>\n",
       "      <th>std</th>\n",
       "      <td>91670.136795</td>\n",
       "      <td>10.074309</td>\n",
       "      <td>28.420757</td>\n",
       "      <td>2727.503741</td>\n",
       "      <td>16.299833</td>\n",
       "      <td>9.525113</td>\n",
       "    </tr>\n",
       "    <tr>\n",
       "      <th>min</th>\n",
       "      <td>822.000000</td>\n",
       "      <td>0.000000</td>\n",
       "      <td>0.000000</td>\n",
       "      <td>0.000000</td>\n",
       "      <td>0.000000</td>\n",
       "      <td>0.000000</td>\n",
       "    </tr>\n",
       "    <tr>\n",
       "      <th>25%</th>\n",
       "      <td>167299.500000</td>\n",
       "      <td>2.000000</td>\n",
       "      <td>45.000000</td>\n",
       "      <td>809.000000</td>\n",
       "      <td>46.000000</td>\n",
       "      <td>6.000000</td>\n",
       "    </tr>\n",
       "    <tr>\n",
       "      <th>50%</th>\n",
       "      <td>179718.000000</td>\n",
       "      <td>4.000000</td>\n",
       "      <td>69.000000</td>\n",
       "      <td>1888.000000</td>\n",
       "      <td>50.000000</td>\n",
       "      <td>10.000000</td>\n",
       "    </tr>\n",
       "    <tr>\n",
       "      <th>75%</th>\n",
       "      <td>244652.000000</td>\n",
       "      <td>10.000000</td>\n",
       "      <td>83.000000</td>\n",
       "      <td>3633.500000</td>\n",
       "      <td>54.000000</td>\n",
       "      <td>10.000000</td>\n",
       "    </tr>\n",
       "    <tr>\n",
       "      <th>max</th>\n",
       "      <td>471965.000000</td>\n",
       "      <td>100.000000</td>\n",
       "      <td>98.000000</td>\n",
       "      <td>20571.000000</td>\n",
       "      <td>69.000000</td>\n",
       "      <td>100.000000</td>\n",
       "    </tr>\n",
       "  </tbody>\n",
       "</table>\n",
       "</div>"
      ],
      "text/plain": [
       "         Nextdoor ID  Interest in Gardening  Percentage of Homeowners  \\\n",
       "count    1027.000000            1027.000000               1027.000000   \n",
       "mean   197889.446933               5.941577                 60.799416   \n",
       "std     91670.136795              10.074309                 28.420757   \n",
       "min       822.000000               0.000000                  0.000000   \n",
       "25%    167299.500000               2.000000                 45.000000   \n",
       "50%    179718.000000               4.000000                 69.000000   \n",
       "75%    244652.000000              10.000000                 83.000000   \n",
       "max    471965.000000             100.000000                 98.000000   \n",
       "\n",
       "       Number of Residents  Average Age  Interest in Cycling  \n",
       "count          1027.000000  1027.000000          1027.000000  \n",
       "mean           2647.576436    45.721519             8.646543  \n",
       "std            2727.503741    16.299833             9.525113  \n",
       "min               0.000000     0.000000             0.000000  \n",
       "25%             809.000000    46.000000             6.000000  \n",
       "50%            1888.000000    50.000000            10.000000  \n",
       "75%            3633.500000    54.000000            10.000000  \n",
       "max           20571.000000    69.000000           100.000000  "
      ]
     },
     "execution_count": 435,
     "metadata": {},
     "output_type": "execute_result"
    }
   ],
   "source": [
    "df_nextdoor_neighborhoods.describe()"
   ]
  },
  {
   "cell_type": "markdown",
   "metadata": {},
   "source": [
    "### Analysis 2: Correlation"
   ]
  },
  {
   "cell_type": "code",
   "execution_count": 30,
   "metadata": {},
   "outputs": [
    {
     "data": {
      "text/plain": [
       "<matplotlib.axes._subplots.AxesSubplot at 0x1a229dc7f0>"
      ]
     },
     "execution_count": 30,
     "metadata": {},
     "output_type": "execute_result"
    },
    {
     "data": {
      "image/png": "[encoded data removed]",
      "text/plain": [
       "<Figure size 360x360 with 2 Axes>"
      ]
     },
     "metadata": {
      "needs_background": "light"
     },
     "output_type": "display_data"
    }
   ],
   "source": [
    "f, ax = plt.subplots(figsize=(5, 5))\n",
    "corr = df_nextdoor_neighborhoods.corr()\n",
    "sns.heatmap(corr, mask=np.zeros_like(corr, dtype=np.bool), cmap=sns.diverging_palette(220, 20, as_cmap=True),\n",
    "            square=True, ax=ax)"
   ]
  },
  {
   "cell_type": "markdown",
   "metadata": {},
   "source": [
    "### Visualization 1: Univariate Plot of Average Age"
   ]
  },
  {
   "cell_type": "code",
   "execution_count": 440,
   "metadata": {},
   "outputs": [
    {
     "data": {
      "text/plain": [
       "<matplotlib.axes._subplots.AxesSubplot at 0x1a1d125278>"
      ]
     },
     "execution_count": 440,
     "metadata": {},
     "output_type": "execute_result"
    },
    {
     "data": {
      "image/png": "[encoded data removed]",
      "text/plain": [
       "<Figure size 432x288 with 1 Axes>"
      ]
     },
     "metadata": {
      "needs_background": "light"
     },
     "output_type": "display_data"
    }
   ],
   "source": [
    "# Plot a historgram and kernel density estimate for Average Age\n",
    "sns.distplot(df_nextdoor_neighborhoods[\"Average Age\"], color=\"m\")"
   ]
  },
  {
   "cell_type": "markdown",
   "metadata": {},
   "source": [
    "### Visualization 2: Univariate Plot of Percentage of Homeowners"
   ]
  },
  {
   "cell_type": "code",
   "execution_count": 441,
   "metadata": {},
   "outputs": [
    {
     "data": {
      "text/plain": [
       "<matplotlib.axes._subplots.AxesSubplot at 0x1a1d2ba2b0>"
      ]
     },
     "execution_count": 441,
     "metadata": {},
     "output_type": "execute_result"
    },
    {
     "data": {
      "image/png": "[encoded data removed]",
      "text/plain": [
       "<Figure size 432x288 with 1 Axes>"
      ]
     },
     "metadata": {
      "needs_background": "light"
     },
     "output_type": "display_data"
    }
   ],
   "source": [
    "# Plot a historgram and kernel density estimate for Percentage of Homeowners\n",
    "sns.distplot(df_nextdoor_neighborhoods[\"Percentage of Homeowners\"], color=\"m\")"
   ]
  },
  {
   "cell_type": "markdown",
   "metadata": {},
   "source": [
    "### Visualization 3: Univariate Plot of Number of Residents"
   ]
  },
  {
   "cell_type": "code",
   "execution_count": 443,
   "metadata": {},
   "outputs": [
    {
     "data": {
      "text/plain": [
       "<matplotlib.axes._subplots.AxesSubplot at 0x1a1d5e9d68>"
      ]
     },
     "execution_count": 443,
     "metadata": {},
     "output_type": "execute_result"
    },
    {
     "data": {
      "image/png": "[encoded data removed]",
      "text/plain": [
       "<Figure size 432x288 with 1 Axes>"
      ]
     },
     "metadata": {
      "needs_background": "light"
     },
     "output_type": "display_data"
    }
   ],
   "source": [
    "# Plot a historgram and kernel density estimate for Number of Residents\n",
    "sns.distplot(df_nextdoor_neighborhoods[\"Number of Residents\"], color=\"m\")"
   ]
  },
  {
   "cell_type": "markdown",
   "metadata": {},
   "source": [
    "### Visualization 4: Univariate Plot for Interest in Gardening\n",
    "* Interest in Gardening is determined by the stack rank of `Gardening and Landscaping` by residents of a neighborhood.  Rank 10 means there was no interest in `Gardening and Landscaping` for that neighborhood."
   ]
  },
  {
   "cell_type": "code",
   "execution_count": 34,
   "metadata": {},
   "outputs": [
    {
     "data": {
      "text/plain": [
       "<matplotlib.axes._subplots.AxesSubplot at 0x1a22039a58>"
      ]
     },
     "execution_count": 34,
     "metadata": {},
     "output_type": "execute_result"
    },
    {
     "data": {
      "image/png": "[encoded data removed]",
      "text/plain": [
       "<Figure size 432x288 with 1 Axes>"
      ]
     },
     "metadata": {
      "needs_background": "light"
     },
     "output_type": "display_data"
    }
   ],
   "source": [
    "# Plot a historgram and kernel density estimate for Interest in Gardening\n",
    "df_plot = df_nextdoor_neighborhoods.loc[df_nextdoor_neighborhoods[\"Interest in Gardening\"] != 100]\n",
    "sns.distplot(df_plot[\"Interest in Gardening\"], color=\"m\")"
   ]
  },
  {
   "cell_type": "markdown",
   "metadata": {},
   "source": [
    "### Visualization 5: Univariate Plot for Neighborhoods with an Interest in Gardening "
   ]
  },
  {
   "cell_type": "code",
   "execution_count": 33,
   "metadata": {},
   "outputs": [
    {
     "data": {
      "text/plain": [
       "<matplotlib.axes._subplots.AxesSubplot at 0x1a22076400>"
      ]
     },
     "execution_count": 33,
     "metadata": {},
     "output_type": "execute_result"
    },
    {
     "data": {
      "image/png": "[encoded data removed]",
      "text/plain": [
       "<Figure size 432x288 with 1 Axes>"
      ]
     },
     "metadata": {
      "needs_background": "light"
     },
     "output_type": "display_data"
    }
   ],
   "source": [
    "# Plot a historgram and kernel density estimate for Interest in Gardening\n",
    "df_plot = df_plot.loc[df_plot[\"Interest in Gardening\"] != 10]\n",
    "sns.distplot(df_plot[\"Interest in Gardening\"], color=\"m\")"
   ]
  },
  {
   "cell_type": "markdown",
   "metadata": {},
   "source": [
    "### Analysis 3: Descriptive Statistics of Neighborhoods with an Interest in Gardening"
   ]
  },
  {
   "cell_type": "code",
   "execution_count": 512,
   "metadata": {},
   "outputs": [
    {
     "data": {
      "text/html": [
       "<div>\n",
       "<style scoped>\n",
       "    .dataframe tbody tr th:only-of-type {\n",
       "        vertical-align: middle;\n",
       "    }\n",
       "\n",
       "    .dataframe tbody tr th {\n",
       "        vertical-align: top;\n",
       "    }\n",
       "\n",
       "    .dataframe thead th {\n",
       "        text-align: right;\n",
       "    }\n",
       "</style>\n",
       "<table border=\"1\" class=\"dataframe\">\n",
       "  <thead>\n",
       "    <tr style=\"text-align: right;\">\n",
       "      <th></th>\n",
       "      <th>Nextdoor ID</th>\n",
       "      <th>Interest in Gardening</th>\n",
       "      <th>Percentage of Homeowners</th>\n",
       "      <th>Number of Residents</th>\n",
       "      <th>Average Age</th>\n",
       "      <th>Interest in Cycling</th>\n",
       "    </tr>\n",
       "  </thead>\n",
       "  <tbody>\n",
       "    <tr>\n",
       "      <th>count</th>\n",
       "      <td>724.000000</td>\n",
       "      <td>724.000000</td>\n",
       "      <td>724.000000</td>\n",
       "      <td>724.000000</td>\n",
       "      <td>724.000000</td>\n",
       "      <td>724.000000</td>\n",
       "    </tr>\n",
       "    <tr>\n",
       "      <th>mean</th>\n",
       "      <td>183065.138122</td>\n",
       "      <td>3.000000</td>\n",
       "      <td>67.455801</td>\n",
       "      <td>3088.755525</td>\n",
       "      <td>48.875691</td>\n",
       "      <td>7.969613</td>\n",
       "    </tr>\n",
       "    <tr>\n",
       "      <th>std</th>\n",
       "      <td>86445.832726</td>\n",
       "      <td>2.514137</td>\n",
       "      <td>24.694302</td>\n",
       "      <td>2852.271537</td>\n",
       "      <td>13.275296</td>\n",
       "      <td>2.737813</td>\n",
       "    </tr>\n",
       "    <tr>\n",
       "      <th>min</th>\n",
       "      <td>822.000000</td>\n",
       "      <td>0.000000</td>\n",
       "      <td>0.000000</td>\n",
       "      <td>0.000000</td>\n",
       "      <td>0.000000</td>\n",
       "      <td>0.000000</td>\n",
       "    </tr>\n",
       "    <tr>\n",
       "      <th>25%</th>\n",
       "      <td>164624.750000</td>\n",
       "      <td>1.000000</td>\n",
       "      <td>55.000000</td>\n",
       "      <td>1112.000000</td>\n",
       "      <td>48.000000</td>\n",
       "      <td>6.000000</td>\n",
       "    </tr>\n",
       "    <tr>\n",
       "      <th>50%</th>\n",
       "      <td>172876.000000</td>\n",
       "      <td>2.000000</td>\n",
       "      <td>74.000000</td>\n",
       "      <td>2311.500000</td>\n",
       "      <td>52.000000</td>\n",
       "      <td>10.000000</td>\n",
       "    </tr>\n",
       "    <tr>\n",
       "      <th>75%</th>\n",
       "      <td>214783.000000</td>\n",
       "      <td>5.000000</td>\n",
       "      <td>86.000000</td>\n",
       "      <td>4069.500000</td>\n",
       "      <td>55.000000</td>\n",
       "      <td>10.000000</td>\n",
       "    </tr>\n",
       "    <tr>\n",
       "      <th>max</th>\n",
       "      <td>470322.000000</td>\n",
       "      <td>9.000000</td>\n",
       "      <td>98.000000</td>\n",
       "      <td>20571.000000</td>\n",
       "      <td>69.000000</td>\n",
       "      <td>10.000000</td>\n",
       "    </tr>\n",
       "  </tbody>\n",
       "</table>\n",
       "</div>"
      ],
      "text/plain": [
       "         Nextdoor ID  Interest in Gardening  Percentage of Homeowners  \\\n",
       "count     724.000000             724.000000                724.000000   \n",
       "mean   183065.138122               3.000000                 67.455801   \n",
       "std     86445.832726               2.514137                 24.694302   \n",
       "min       822.000000               0.000000                  0.000000   \n",
       "25%    164624.750000               1.000000                 55.000000   \n",
       "50%    172876.000000               2.000000                 74.000000   \n",
       "75%    214783.000000               5.000000                 86.000000   \n",
       "max    470322.000000               9.000000                 98.000000   \n",
       "\n",
       "       Number of Residents  Average Age  Interest in Cycling  \n",
       "count           724.000000   724.000000           724.000000  \n",
       "mean           3088.755525    48.875691             7.969613  \n",
       "std            2852.271537    13.275296             2.737813  \n",
       "min               0.000000     0.000000             0.000000  \n",
       "25%            1112.000000    48.000000             6.000000  \n",
       "50%            2311.500000    52.000000            10.000000  \n",
       "75%            4069.500000    55.000000            10.000000  \n",
       "max           20571.000000    69.000000            10.000000  "
      ]
     },
     "execution_count": 512,
     "metadata": {},
     "output_type": "execute_result"
    }
   ],
   "source": [
    "df_plot.describe()"
   ]
  },
  {
   "cell_type": "markdown",
   "metadata": {},
   "source": [
    "### Visualization 6: Bivariate Plot for Interest in Gardening and Age vs Homeownership"
   ]
  },
  {
   "cell_type": "code",
   "execution_count": 52,
   "metadata": {},
   "outputs": [
    {
     "data": {
      "text/plain": [
       "<matplotlib.legend.Legend at 0x1a1e6b5c50>"
      ]
     },
     "execution_count": 52,
     "metadata": {},
     "output_type": "execute_result"
    },
    {
     "data": {
      "image/png": "[encoded data removed]",
      "text/plain": [
       "<Figure size 432x288 with 1 Axes>"
      ]
     },
     "metadata": {
      "needs_background": "light"
     },
     "output_type": "display_data"
    }
   ],
   "source": [
    "# Scatter plot for Interest in Gardening and Age and Homeownership\n",
    "df_gardening = df_nextdoor_neighborhoods.loc[(df_nextdoor_neighborhoods[\"Level of Gardening Interest\"] != 'Other') \n",
    "                                             & (df_nextdoor_neighborhoods[\"Level of Gardening Interest\"] != 'None')]\n",
    "interest_ranking = [\"High\", \"Medium\", \"Low\"]\n",
    "sns.scatterplot(x=\"Average Age\", y=\"Percentage of Homeowners\", data=df_gardening, \n",
    "               hue='Level of Gardening Interest', legend=\"full\", palette=\"Set2\",\n",
    "               hue_order=interest_ranking)\n",
    " \n",
    "# Move the legend to an empty part of the plot\n",
    "plt.legend(loc='lower left')"
   ]
  },
  {
   "cell_type": "markdown",
   "metadata": {},
   "source": [
    "### Analysis 3: Descriptive Statistics of Neighborhoods with a `High` Interest in Gardening"
   ]
  },
  {
   "cell_type": "code",
   "execution_count": 53,
   "metadata": {},
   "outputs": [
    {
     "data": {
      "text/html": [
       "<div>\n",
       "<style scoped>\n",
       "    .dataframe tbody tr th:only-of-type {\n",
       "        vertical-align: middle;\n",
       "    }\n",
       "\n",
       "    .dataframe tbody tr th {\n",
       "        vertical-align: top;\n",
       "    }\n",
       "\n",
       "    .dataframe thead th {\n",
       "        text-align: right;\n",
       "    }\n",
       "</style>\n",
       "<table border=\"1\" class=\"dataframe\">\n",
       "  <thead>\n",
       "    <tr style=\"text-align: right;\">\n",
       "      <th></th>\n",
       "      <th>Nextdoor ID</th>\n",
       "      <th>Interest in Gardening</th>\n",
       "      <th>Percentage of Homeowners</th>\n",
       "      <th>Number of Residents</th>\n",
       "      <th>Average Age</th>\n",
       "    </tr>\n",
       "  </thead>\n",
       "  <tbody>\n",
       "    <tr>\n",
       "      <th>count</th>\n",
       "      <td>372.000000</td>\n",
       "      <td>372.000000</td>\n",
       "      <td>372.000000</td>\n",
       "      <td>372.000000</td>\n",
       "      <td>372.000000</td>\n",
       "    </tr>\n",
       "    <tr>\n",
       "      <th>mean</th>\n",
       "      <td>188608.932796</td>\n",
       "      <td>1.008065</td>\n",
       "      <td>71.575269</td>\n",
       "      <td>2932.220430</td>\n",
       "      <td>49.771505</td>\n",
       "    </tr>\n",
       "    <tr>\n",
       "      <th>std</th>\n",
       "      <td>84272.832723</td>\n",
       "      <td>0.832260</td>\n",
       "      <td>23.780493</td>\n",
       "      <td>2456.178282</td>\n",
       "      <td>13.269097</td>\n",
       "    </tr>\n",
       "    <tr>\n",
       "      <th>min</th>\n",
       "      <td>1127.000000</td>\n",
       "      <td>0.000000</td>\n",
       "      <td>0.000000</td>\n",
       "      <td>0.000000</td>\n",
       "      <td>0.000000</td>\n",
       "    </tr>\n",
       "    <tr>\n",
       "      <th>25%</th>\n",
       "      <td>164784.500000</td>\n",
       "      <td>0.000000</td>\n",
       "      <td>64.750000</td>\n",
       "      <td>1172.000000</td>\n",
       "      <td>49.000000</td>\n",
       "    </tr>\n",
       "    <tr>\n",
       "      <th>50%</th>\n",
       "      <td>174517.000000</td>\n",
       "      <td>1.000000</td>\n",
       "      <td>78.000000</td>\n",
       "      <td>2337.500000</td>\n",
       "      <td>52.000000</td>\n",
       "    </tr>\n",
       "    <tr>\n",
       "      <th>75%</th>\n",
       "      <td>218581.500000</td>\n",
       "      <td>2.000000</td>\n",
       "      <td>88.000000</td>\n",
       "      <td>3863.250000</td>\n",
       "      <td>56.000000</td>\n",
       "    </tr>\n",
       "    <tr>\n",
       "      <th>max</th>\n",
       "      <td>460423.000000</td>\n",
       "      <td>2.000000</td>\n",
       "      <td>98.000000</td>\n",
       "      <td>13870.000000</td>\n",
       "      <td>65.000000</td>\n",
       "    </tr>\n",
       "  </tbody>\n",
       "</table>\n",
       "</div>"
      ],
      "text/plain": [
       "         Nextdoor ID  Interest in Gardening  Percentage of Homeowners  \\\n",
       "count     372.000000             372.000000                372.000000   \n",
       "mean   188608.932796               1.008065                 71.575269   \n",
       "std     84272.832723               0.832260                 23.780493   \n",
       "min      1127.000000               0.000000                  0.000000   \n",
       "25%    164784.500000               0.000000                 64.750000   \n",
       "50%    174517.000000               1.000000                 78.000000   \n",
       "75%    218581.500000               2.000000                 88.000000   \n",
       "max    460423.000000               2.000000                 98.000000   \n",
       "\n",
       "       Number of Residents  Average Age  \n",
       "count           372.000000   372.000000  \n",
       "mean           2932.220430    49.771505  \n",
       "std            2456.178282    13.269097  \n",
       "min               0.000000     0.000000  \n",
       "25%            1172.000000    49.000000  \n",
       "50%            2337.500000    52.000000  \n",
       "75%            3863.250000    56.000000  \n",
       "max           13870.000000    65.000000  "
      ]
     },
     "execution_count": 53,
     "metadata": {},
     "output_type": "execute_result"
    }
   ],
   "source": [
    "df_high = df_nextdoor_neighborhoods.loc[df_nextdoor_neighborhoods[\"Level of Gardening Interest\"] == \"High\"]\n",
    "df_high.describe()"
   ]
  },
  {
   "cell_type": "markdown",
   "metadata": {},
   "source": [
    "## Conclusions"
   ]
  },
  {
   "cell_type": "markdown",
   "metadata": {},
   "source": [
    "Please see [this Tableau Story](https://public.tableau.com/profile/mpetersen000#!/vizhome/SantaClaraCountyMasterGardeners/SantaClaraMasterGardener?publish=yes) for additional visualizations for the Santa Clara Master Gardeners answering their questions:\n",
    "\n",
    "* What are all the Nextdoor neighborhoods in Santa Clara County?\n",
    "* Which Neighborhoods are being reached by each Master Gardener?\n",
    "* Which Neighborhoods do not have a Master Gardener assigned or are not able to be reached?\n",
    "* What is the interest level in gardening for each Neighborhood?"
   ]
  },
  {
   "cell_type": "code",
   "execution_count": null,
   "metadata": {},
   "outputs": [],
   "source": []
  }
 ],
 "metadata": {
  "kernelspec": {
   "display_name": "Python 3",
   "language": "python",
   "name": "python3"
  },
  "language_info": {
   "codemirror_mode": {
    "name": "ipython",
    "version": 3
   },
   "file_extension": ".py",
   "mimetype": "text/x-python",
   "name": "python",
   "nbconvert_exporter": "python",
   "pygments_lexer": "ipython3",
   "version": "3.6.7"
  }
 },
 "nbformat": 4,
 "nbformat_minor": 2
}
