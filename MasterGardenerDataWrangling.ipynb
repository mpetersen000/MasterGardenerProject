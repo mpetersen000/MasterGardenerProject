{
 "cells": [
  {
   "cell_type": "markdown",
   "metadata": {},
   "source": [
    "# Data Wrangling for Santa Clara Master Gardener Club by Michelle Petersen"
   ]
  },
  {
   "cell_type": "code",
   "execution_count": 148,
   "metadata": {},
   "outputs": [],
   "source": [
    "# Imports\n",
    "%matplotlib inline\n",
    "import pandas as pd\n",
    "import numpy as np\n",
    "import json\n",
    "import geojson\n",
    "import shapefile\n",
    "import requests\n",
    "from bs4 import BeautifulSoup\n",
    "import difflib\n",
    "import geopandas as gpd\n",
    "import pprint \n",
    "import six.moves.urllib as urllib\n",
    "import matplotlib.pyplot as plt\n",
    "from timeit import default_timer as timer"
   ]
  },
  {
   "cell_type": "markdown",
   "metadata": {},
   "source": [
    "## Gather"
   ]
  },
  {
   "cell_type": "code",
   "execution_count": 5,
   "metadata": {},
   "outputs": [
    {
     "name": "stdout",
     "output_type": "stream",
     "text": [
      "     State          County            City                         Name  \\\n",
      "0       CA       Riverside         Menifee                     Sun City   \n",
      "1       CA     Santa Clara        San Jose                       Alviso   \n",
      "2       CA           Marin      San Rafael                Santa Venetia   \n",
      "3       CA           Marin      San Rafael                    Marinwood   \n",
      "4       CA     Los Angeles   Santa Clarita                      Newhall   \n",
      "5       CA     Los Angeles     Los Angeles                      Tujunga   \n",
      "6       CA         Ventura          Oxnard                     Cabrillo   \n",
      "7       CA     Los Angeles     Los Angeles                 Shadow Hills   \n",
      "8       CA     Los Angeles     Los Angeles                       Sylmar   \n",
      "9       CA   San Francisco   San Francisco                     Presidio   \n",
      "10      CA     Los Angeles   Santa Clarita               Canyon Country   \n",
      "11      CA         Alameda         Alameda                     East End   \n",
      "12      CA       San Mateo         Belmont                     McDougal   \n",
      "13      CA       Riverside         Menifee                     Romoland   \n",
      "14      CA     Los Angeles     Los Angeles                   Sun Valley   \n",
      "15      CA  San Bernardino  San Bernardino              Arrowhead Farms   \n",
      "16      CA     Los Angeles     Los Angeles              North Hollywood   \n",
      "17      CA           Marin     Mill Valley                      Almonte   \n",
      "18      CA           Marin     Mill Valley                         Alto   \n",
      "19      CA     Los Angeles     Los Angeles                      Bel Air   \n",
      "20      CA     Los Angeles      Long Beach                Belmont Shore   \n",
      "21      CA     Los Angeles     Los Angeles                 Beverly Glen   \n",
      "22      CA     Santa Clara        San Jose                Cambrian Park   \n",
      "23      CA         Alameda         Hayward                   Cherryland   \n",
      "24      CA         Alameda         Oakland                    Chinatown   \n",
      "25      CA     San Joaquin        Stockton                 Country Club   \n",
      "26      CA       San Diego       San Diego              Del Mar Heights   \n",
      "27      CA     Los Angeles     Los Angeles                   Eagle Rock   \n",
      "28      CA     San Joaquin        Stockton                    Fair Oaks   \n",
      "29      CA   San Francisco   San Francisco                Forest Knolls   \n",
      "...    ...             ...             ...                          ...   \n",
      "2021    CA            Napa            Napa                    Riverpark   \n",
      "2022    CA            Napa            Napa                    Shurtleff   \n",
      "2023    CA            Napa            Napa              Von Uhlit Ranch   \n",
      "2024    CA            Napa            Napa           Springwood Estates   \n",
      "2025    CA       San Mateo    Redwood City               Woodside Plaza   \n",
      "2026    CA       San Mateo    Redwood City                      Sequoia   \n",
      "2027    CA       San Mateo    Redwood City                 Greco Island   \n",
      "2028    CA       San Mateo    Redwood City                  Bair Island   \n",
      "2029    CA    Contra Costa        Richmond              Panhandle Annex   \n",
      "2030    CA    Contra Costa        Richmond               Richmond Annex   \n",
      "2031    CA    Contra Costa        Richmond         Carriage Hills North   \n",
      "2032    CA    Contra Costa        Richmond               North and East   \n",
      "2033    CA      Sacramento          Folsom                 Empire Ranch   \n",
      "2034    CA      Sacramento          Folsom               Natoma Station   \n",
      "2035    CA         Alameda         Alameda              Harbor Bay Isle   \n",
      "2036    CA         Alameda         Alameda                  Ballena Bay   \n",
      "2037    CA         Alameda         Alameda                 Bronze Coast   \n",
      "2038    CA           Marin      San Rafael   Mont Marin/San Rafael Park   \n",
      "2039    CA           Marin      San Rafael                  Peacock Gap   \n",
      "2040    CA           Marin      San Rafael       Montecito/Happy Valley   \n",
      "2041    CA           Marin      San Rafael                   Bret Harte   \n",
      "2042    CA           Marin      San Rafael             Canal Waterfront   \n",
      "2043    CA         Ventura         Ventura                       Thille   \n",
      "2044    CA         Ventura         Ventura                     Arundell   \n",
      "2045    CA         Ventura         Ventura                 Taylor Ranch   \n",
      "2046    CA         Ventura         Ventura                 North Avenue   \n",
      "2047    CA       San Diego        Carlsbad                La Costa Oaks   \n",
      "2048    CA       San Diego        Carlsbad  Rancho Carlsbad/Sunny Creek   \n",
      "2049    CA     Los Angeles          Malibu               Trancas Canyon   \n",
      "2050    CA     Los Angeles       Hawthorne               Burleigh Tract   \n",
      "\n",
      "     RegionID                                           geometry  \n",
      "0        7314  POLYGON ((-117.1935499999999 33.74306900000005...  \n",
      "1        8075  POLYGON ((-121.9423569999999 37.46496300000007...  \n",
      "2       20357  POLYGON ((-122.50308997 38.01594776500008, -12...  \n",
      "3       25757  POLYGON ((-122.56417078 38.02552641400007, -12...  \n",
      "4       26134  POLYGON ((-118.5364387599999 34.42379381100029...  \n",
      "5       27484  POLYGON ((-118.301990911 34.27442727300007, -1...  \n",
      "6       30685  POLYGON ((-119.194707444 34.20835268000008, -1...  \n",
      "7       33952  POLYGON ((-118.3255483124992 34.24788213427415...  \n",
      "8       34213  POLYGON ((-118.4372321519999 34.32990325900005...  \n",
      "9       35760  POLYGON ((-122.4743132059998 37.81001054900017...  \n",
      "10      37739  (POLYGON ((-118.557267818 34.42399760500007, -...  \n",
      "11      38307  POLYGON ((-122.2409623089999 37.76340228700008...  \n",
      "12      39702  POLYGON ((-122.294305648 37.51211001400003, -1...  \n",
      "13      40629  POLYGON ((-117.167138 33.75773400000003, -117....  \n",
      "14      41131  POLYGON ((-118.3659277679999 34.22936462700005...  \n",
      "15      43946  POLYGON ((-117.3030349999999 34.17533300000008...  \n",
      "16      46795  POLYGON ((-118.4042906399999 34.20288002800004...  \n",
      "17     113411  POLYGON ((-122.516433 37.880939, -122.516449 3...  \n",
      "18     113438  POLYGON ((-122.514450441 37.90791353600008, -1...  \n",
      "19     113688  POLYGON ((-118.4616545589999 34.13080135700005...  \n",
      "20     113713  POLYGON ((-118.1328637469999 33.76448143100004...  \n",
      "21     113749  POLYGON ((-118.4531605749999 34.13205667600005...  \n",
      "22     114074  POLYGON ((-121.878978755 37.27530488000008, -1...  \n",
      "23     114283  POLYGON ((-122.091469271 37.68257863600007, -1...  \n",
      "24     114292  POLYGON ((-122.2700929749999 37.80135293100005...  \n",
      "25     114490  (POLYGON ((-121.3359659999999 37.9666670000000...  \n",
      "26     114649  POLYGON ((-117.2506339559999 32.97254513900009...  \n",
      "27     114808  POLYGON ((-118.198192295 34.15079031400006, -1...  \n",
      "28     115008  POLYGON ((-121.2743348409999 37.94091935400007...  \n",
      "29     115133  POLYGON ((-122.4522605309999 37.75827979100008...  \n",
      "...       ...                                                ...  \n",
      "2021   763785  POLYGON ((-122.2848132939999 38.28162002300007...  \n",
      "2022   763787  POLYGON ((-122.264077942 38.28951369200007, -1...  \n",
      "2023   763794  POLYGON ((-122.285209125 38.31800811400007, -1...  \n",
      "2024   763796  POLYGON ((-122.309433561 38.34256500500004, -1...  \n",
      "2025   763887  POLYGON ((-122.246777 37.455338, -122.24689155...  \n",
      "2026   763889  POLYGON ((-122.2364081379999 37.47751288800004...  \n",
      "2027   763894  POLYGON ((-122.177675 37.498437, -122.17777139...  \n",
      "2028   763896  POLYGON ((-122.196393713 37.52967425500003, -1...  \n",
      "2029   763912  POLYGON ((-122.317281375 37.91095219800007, -1...  \n",
      "2030   763914  POLYGON ((-122.314277515 37.91885680600006, -1...  \n",
      "2031   763919  POLYGON ((-122.247079749 37.96386871700003, -1...  \n",
      "2032   763921  POLYGON ((-122.332723 37.951366, -122.32606044...  \n",
      "2033   763978  POLYGON ((-121.105591 38.689261, -121.105248 3...  \n",
      "2034   763980  POLYGON ((-121.1826302759999 38.65051391300005...  \n",
      "2035   764094  POLYGON ((-122.250415 37.748044, -122.249875 3...  \n",
      "2036   764096  POLYGON ((-122.285644 37.769494, -122.28539627...  \n",
      "2037   764098  POLYGON ((-122.2428412679999 37.76421413200006...  \n",
      "2038   764139  POLYGON ((-122.544256022 38.02454183400005, -1...  \n",
      "2039   764146  POLYGON ((-122.455828792 37.99721397900004, -1...  \n",
      "2040   764148  POLYGON ((-122.506555033 37.96832199600004, -1...  \n",
      "2041   764153  POLYGON ((-122.524203 37.955808, -122.52367953...  \n",
      "2042   764155  POLYGON ((-122.5060762849999 37.96694190900007...  \n",
      "2043   764221  POLYGON ((-119.210994795 34.25259807300006, -1...  \n",
      "2044   764223  POLYGON ((-119.210994795 34.25259807300006, -1...  \n",
      "2045   764228  POLYGON ((-119.3068706559999 34.29015552500005...  \n",
      "2046   764230  POLYGON ((-119.2855768969999 34.31911978900007...  \n",
      "2047   764287  POLYGON ((-117.210388 33.091854, -117.210319 3...  \n",
      "2048   764289  POLYGON ((-117.271297842 33.16848313300005, -1...  \n",
      "2049   764298  POLYGON ((-118.839893896 34.03436604200004, -1...  \n",
      "2050   764303  POLYGON ((-118.3437891459999 33.90245215300007...  \n",
      "\n",
      "[2051 rows x 6 columns]\n"
     ]
    }
   ],
   "source": [
    "df = gpd.read_file('ZillowNeighborhoods-CA/ZillowNeighborhoods-CA.shp')\n",
    "print(df)"
   ]
  },
  {
   "cell_type": "code",
   "execution_count": 6,
   "metadata": {},
   "outputs": [],
   "source": [
    "df.to_csv('California neighborhoods.csv')"
   ]
  },
  {
   "cell_type": "code",
   "execution_count": 7,
   "metadata": {},
   "outputs": [
    {
     "name": "stdout",
     "output_type": "stream",
     "text": [
      "     State       County           City                      Name RegionID  \\\n",
      "1       CA  Santa Clara       San Jose                    Alviso     8075   \n",
      "22      CA  Santa Clara       San Jose             Cambrian Park   114074   \n",
      "42      CA  Santa Clara      Cupertino          Rancho Rinconada   117559   \n",
      "43      CA  Santa Clara       Campbell                 San Tomas   117891   \n",
      "68      CA  Santa Clara       San Jose                 Berryessa   113736   \n",
      "74      CA  Santa Clara       San Jose                 Evergreen   115003   \n",
      "94      CA  Santa Clara  Mountain View            Blossom Valley     3707   \n",
      "129     CA  Santa Clara      Los Altos                    Loyola   116334   \n",
      "207     CA  Santa Clara       Campbell                      Dell   178814   \n",
      "213     CA  Santa Clara       San Jose               Willow Glen   118987   \n",
      "241     CA  Santa Clara      Cupertino                Oak Valley   189743   \n",
      "242     CA  Santa Clara      Sunnyvale                 Ponderosa   191799   \n",
      "244     CA  Santa Clara       Saratoga                     Quito   229203   \n",
      "330     CA  Santa Clara  Mountain View                    Slater   263648   \n",
      "356     CA  Santa Clara      Sunnyvale                Washington   254627   \n",
      "379     CA  Santa Clara      Cupertino                Fair Grove   263576   \n",
      "387     CA  Santa Clara       Saratoga              Sunland Park   264339   \n",
      "636     CA  Santa Clara       San Jose               Fairgrounds   273674   \n",
      "664     CA  Santa Clara      Sunnyvale                  Lakewood   274256   \n",
      "688     CA  Santa Clara       San Jose            North San Jose   274741   \n",
      "742     CA  Santa Clara       San Jose            Almaden Valley   272756   \n",
      "746     CA  Santa Clara       San Jose               Rose Garden   275243   \n",
      "810     CA  Santa Clara       San Jose    Edenvale - Seven Trees   273594   \n",
      "879     CA  Santa Clara       San Jose            Blossom Valley   276215   \n",
      "881     CA  Santa Clara       San Jose  Alum Rock-East Foothills   272760   \n",
      "937     CA  Santa Clara       San Jose                  Downtown   273480   \n",
      "942     CA  Santa Clara       San Jose              North Valley   274756   \n",
      "947     CA  Santa Clara       San Jose             East San Jose   273565   \n",
      "998     CA  Santa Clara       San Jose              Santa Teresa   275306   \n",
      "1019    CA  Santa Clara      Palo Alto               Barron Park   343613   \n",
      "...    ...          ...            ...                       ...      ...   \n",
      "1679    CA  Santa Clara  Mountain View                Monta Loma   762466   \n",
      "1683    CA  Santa Clara  Mountain View              Gemello Park   762650   \n",
      "1684    CA  Santa Clara  Mountain View         Old Mountain View   762652   \n",
      "1685    CA  Santa Clara  Mountain View                 Rex Manor   762657   \n",
      "1741    CA  Santa Clara      Sunnyvale                   De Anza   623422   \n",
      "1742    CA  Santa Clara      Sunnyvale               East Murphy   623423   \n",
      "1743    CA  Santa Clara      Sunnyvale               West Murphy   623424   \n",
      "1756    CA  Santa Clara      Cupertino       Inspiration Heights   760932   \n",
      "1757    CA  Santa Clara      Cupertino              South Blaney   760933   \n",
      "1758    CA  Santa Clara      Cupertino              North Blaney   760934   \n",
      "1759    CA  Santa Clara      Cupertino               Garden Gate   760935   \n",
      "1762    CA  Santa Clara       Campbell                 Pruneyard   760982   \n",
      "1803    CA  Santa Clara      Cupertino         Monta Vista South   762203   \n",
      "1804    CA  Santa Clara      Cupertino           Creston-Pharlap   762204   \n",
      "1828    CA  Santa Clara  Mountain View               Sylvan Park   762653   \n",
      "1829    CA  Santa Clara  Mountain View               Wagon Wheel   762654   \n",
      "1830    CA  Santa Clara  Mountain View             North Wishman   762655   \n",
      "1831    CA  Santa Clara  Mountain View         Moffett Boulevard   762656   \n",
      "1838    CA  Santa Clara      Sunnyvale                     Serra   623419   \n",
      "1919    CA  Santa Clara      Cupertino         Monta Vista North   760931   \n",
      "1920    CA  Santa Clara      Cupertino                  Jollyman   760936   \n",
      "1922    CA  Santa Clara       Campbell                 Creekside   760961   \n",
      "1923    CA  Santa Clara       Campbell             West Campbell   760979   \n",
      "1924    CA  Santa Clara       Campbell             East Campbell   760981   \n",
      "1935    CA  Santa Clara       Saratoga          Congress Springs   761129   \n",
      "1961    CA  Santa Clara       Milpitas               Sunny Hills   761783   \n",
      "1989    CA  Santa Clara  Mountain View              Waverly Park   762644   \n",
      "1990    CA  Santa Clara  Mountain View       Saint Francis Acres   762649   \n",
      "1991    CA  Santa Clara  Mountain View            Shoreline West   762651   \n",
      "1992    CA  Santa Clara  Mountain View       Greater San Antonio   762658   \n",
      "\n",
      "                                               geometry  \n",
      "1     POLYGON ((-121.9423569999999 37.46496300000007...  \n",
      "22    POLYGON ((-121.878978755 37.27530488000008, -1...  \n",
      "42    POLYGON ((-122.00649 37.32295, -122.004603875 ...  \n",
      "43    POLYGON ((-121.9526834979999 37.27366922400006...  \n",
      "68    POLYGON ((-121.8202519999999 37.43812700000007...  \n",
      "74    (POLYGON ((-121.7826669999999 37.2649340000000...  \n",
      "94    POLYGON ((-122.088973 37.366841, -122.089673 3...  \n",
      "129   POLYGON ((-122.104645 37.345972, -122.103937 3...  \n",
      "207   POLYGON ((-121.9505843049999 37.27316315000007...  \n",
      "213   POLYGON ((-121.8874382369999 37.31590445900008...  \n",
      "241   POLYGON ((-122.0880922539999 37.33947771600003...  \n",
      "242   POLYGON ((-121.99647 37.370041, -121.99647 37....  \n",
      "244   POLYGON ((-121.994369 37.273143, -121.994069 3...  \n",
      "330   POLYGON ((-122.061683891 37.39218044400008, -1...  \n",
      "356   POLYGON ((-122.0524719999999 37.38554000000005...  \n",
      "379   POLYGON ((-122.0077537939999 37.31075411900008...  \n",
      "387   POLYGON ((-121.989769 37.278543, -121.98964282...  \n",
      "636   POLYGON ((-121.8666420729999 37.32674963100004...  \n",
      "664   POLYGON ((-122.051244 37.459007, -122.050313 3...  \n",
      "688   POLYGON ((-121.9262689999999 37.43683900000008...  \n",
      "742   (POLYGON ((-121.823902 37.20757, -121.82372407...  \n",
      "746   POLYGON ((-121.9246463649999 37.34204677500009...  \n",
      "810   POLYGON ((-121.8167705539999 37.30293083300006...  \n",
      "879   POLYGON ((-121.8325538629999 37.27554512100005...  \n",
      "881   (POLYGON ((-121.8348639999999 37.3753390000000...  \n",
      "937   POLYGON ((-121.8548126224163 37.34227180535527...  \n",
      "942   POLYGON ((-121.8774566643825 37.40456199673176...  \n",
      "947   POLYGON ((-121.8154314229999 37.37412807800007...  \n",
      "998   POLYGON ((-121.7412054959999 37.26219843300004...  \n",
      "1019  POLYGON ((-122.1303650299999 37.40788518000005...  \n",
      "...                                                 ...  \n",
      "1679  POLYGON ((-122.101901332 37.40501270600004, -1...  \n",
      "1683  POLYGON ((-122.101271979 37.39537662200007, -1...  \n",
      "1684  POLYGON ((-122.080989647 37.39695364300007, -1...  \n",
      "1685  POLYGON ((-122.078039116 37.40631920200008, -1...  \n",
      "1741  POLYGON ((-122.0506952379999 37.35213334500008...  \n",
      "1742  POLYGON ((-121.99807 37.373841, -121.9976308 3...  \n",
      "1743  POLYGON ((-122.013030374 37.39507013700006, -1...  \n",
      "1756  POLYGON ((-122.068630322 37.32196199300006, -1...  \n",
      "1757  POLYGON ((-122.01427885 37.32299760400008, -12...  \n",
      "1758  POLYGON ((-122.017348354 37.32302139900003, -1...  \n",
      "1759  POLYGON ((-122.034920356 37.32284170000003, -1...  \n",
      "1762  POLYGON ((-121.931805627 37.28992129800002, -1...  \n",
      "1803  POLYGON ((-122.035256712 37.303939, -122.03545...  \n",
      "1804  POLYGON ((-122.0566443819999 37.33120731100007...  \n",
      "1828  POLYGON ((-122.0643254729999 37.38428272800007...  \n",
      "1829  POLYGON ((-122.0621443159999 37.40588138100003...  \n",
      "1830  POLYGON ((-122.069511128 37.39887624800008, -1...  \n",
      "1831  POLYGON ((-122.068452773 37.39339847900004, -1...  \n",
      "1838  POLYGON ((-122.032634 37.339543, -122.032804 3...  \n",
      "1919  POLYGON ((-122.059484019 37.32245327400005, -1...  \n",
      "1920  POLYGON ((-122.034920356 37.32284170000003, -1...  \n",
      "1922  POLYGON ((-121.9316999759999 37.29578340800003...  \n",
      "1923  POLYGON ((-121.962967051 37.29554207700005, -1...  \n",
      "1924  POLYGON ((-121.922715421 37.29437318200007, -1...  \n",
      "1935  POLYGON ((-122.032048085 37.26697064700005, -1...  \n",
      "1961  POLYGON ((-121.912698212 37.46090922300004, -1...  \n",
      "1989  POLYGON ((-122.077826218 37.36802268100007, -1...  \n",
      "1990  POLYGON ((-122.096073 37.38863836600007, -122....  \n",
      "1991  POLYGON ((-122.088432602 37.39969478200004, -1...  \n",
      "1992  POLYGON ((-122.107741 37.408085, -122.10520304...  \n",
      "\n",
      "[105 rows x 6 columns]\n"
     ]
    }
   ],
   "source": [
    "sc_df = df[df['County'] == 'Santa Clara']\n",
    "print(sc_df)"
   ]
  },
  {
   "cell_type": "code",
   "execution_count": 8,
   "metadata": {},
   "outputs": [],
   "source": [
    "sc_df.to_csv('Santa Clara neighborhoods.csv')"
   ]
  },
  {
   "cell_type": "code",
   "execution_count": 9,
   "metadata": {},
   "outputs": [
    {
     "data": {
      "text/plain": [
       "<matplotlib.axes._subplots.AxesSubplot at 0x1295de2e8>"
      ]
     },
     "execution_count": 9,
     "metadata": {},
     "output_type": "execute_result"
    },
    {
     "data": {
      "image/png": "[encoded data removed]",
      "text/plain": [
       "<Figure size 432x288 with 1 Axes>"
      ]
     },
     "metadata": {
      "needs_background": "light"
     },
     "output_type": "display_data"
    }
   ],
   "source": [
    "sc_df.plot()"
   ]
  },
  {
   "cell_type": "markdown",
   "metadata": {},
   "source": [
    "## Assess"
   ]
  },
  {
   "cell_type": "code",
   "execution_count": 10,
   "metadata": {},
   "outputs": [
    {
     "name": "stdout",
     "output_type": "stream",
     "text": [
      "Santa Clara County Master Gardeners\n",
      "<Worksheet 'Contacts' id:0>\n",
      "<Worksheet 'Contact-Neighborhood Mapping' id:1541812186>\n",
      "<Worksheet 'Zillow Neighborhoods' id:1790253258>\n",
      "<Worksheet 'Google Neighborhoods' id:1302983281>\n",
      "<Worksheet 'Nextdoor Neighborhoods' id:284535610>\n"
     ]
    }
   ],
   "source": [
    "import gspread\n",
    "from google.oauth2 import service_account\n",
    "from google.auth.transport.requests import AuthorizedSession\n",
    "\n",
    "# The scope to read the spreadsheet\n",
    "_GS_SCOPE = ['https://www.googleapis.com/auth/spreadsheets.readonly',\n",
    "            'https://www.googleapis.com/auth/drive']\n",
    "\n",
    "# The ID and range of the MasterGardener spreadsheet.\n",
    "_GS_ID = '1pPOuRZ9YsKwXGKgxzSm9tXCR_dgkCY4WNh3rg_cFX08'\n",
    "\n",
    "service_account_info = json.load(open('Master Gardener-7e906e507d9d.json'))\n",
    "credentials = service_account.Credentials.from_service_account_info(\n",
    "    service_account_info,\n",
    "    scopes=_GS_SCOPE)\n",
    "\n",
    "if credentials:\n",
    "    gc = gspread.Client(auth=credentials)\n",
    "    gc.session = AuthorizedSession(credentials)\n",
    "    book = gc.open_by_key(_GS_ID)\n",
    "    print(book.title)\n",
    "    worksheet_list = book.worksheets()\n",
    "    for worksheet in worksheet_list:\n",
    "        print(worksheet)"
   ]
  },
  {
   "cell_type": "code",
   "execution_count": 34,
   "metadata": {},
   "outputs": [],
   "source": [
    "df_contacts = pd.DataFrame(book.get_worksheet(0).get_all_values())\n",
    "df_contact_neighborhood = pd.DataFrame(book.get_worksheet(1).get_all_values())\n",
    "df_zillow_neighborhoods = pd.DataFrame(book.get_worksheet(2).get_all_values())\n",
    "df_nextdoor_neighborhoods = pd.DataFrame(book.get_worksheet(4).get_all_values())"
   ]
  },
  {
   "cell_type": "code",
   "execution_count": 35,
   "metadata": {},
   "outputs": [
    {
     "data": {
      "text/html": [
       "<div>\n",
       "<style scoped>\n",
       "    .dataframe tbody tr th:only-of-type {\n",
       "        vertical-align: middle;\n",
       "    }\n",
       "\n",
       "    .dataframe tbody tr th {\n",
       "        vertical-align: top;\n",
       "    }\n",
       "\n",
       "    .dataframe thead th {\n",
       "        text-align: right;\n",
       "    }\n",
       "</style>\n",
       "<table border=\"1\" class=\"dataframe\">\n",
       "  <thead>\n",
       "    <tr style=\"text-align: right;\">\n",
       "      <th></th>\n",
       "      <th>0</th>\n",
       "      <th>1</th>\n",
       "      <th>2</th>\n",
       "      <th>3</th>\n",
       "      <th>4</th>\n",
       "    </tr>\n",
       "  </thead>\n",
       "  <tbody>\n",
       "    <tr>\n",
       "      <th>0</th>\n",
       "      <td>Name</td>\n",
       "      <td>e-mail</td>\n",
       "      <td>Residence - Nextdoor Neighborhood</td>\n",
       "      <td>Unknown Neighborhood</td>\n",
       "      <td>Notes</td>\n",
       "    </tr>\n",
       "    <tr>\n",
       "      <th>1</th>\n",
       "      <td>Anita Rosen</td>\n",
       "      <td>anita@readygo.com</td>\n",
       "      <td>Gemello</td>\n",
       "      <td>FALSE</td>\n",
       "      <td></td>\n",
       "    </tr>\n",
       "    <tr>\n",
       "      <th>2</th>\n",
       "      <td>Ann Ranish</td>\n",
       "      <td>annranish@gmail.com</td>\n",
       "      <td>Starbird</td>\n",
       "      <td>FALSE</td>\n",
       "      <td></td>\n",
       "    </tr>\n",
       "    <tr>\n",
       "      <th>3</th>\n",
       "      <td>Carol Peck</td>\n",
       "      <td>CAnative.carol@gmail.com</td>\n",
       "      <td>Gilroy</td>\n",
       "      <td>FALSE</td>\n",
       "      <td>Northern Gilroy?</td>\n",
       "    </tr>\n",
       "    <tr>\n",
       "      <th>4</th>\n",
       "      <td>Don Krafft</td>\n",
       "      <td>dfk@donkrafft.com</td>\n",
       "      <td>Morse Park</td>\n",
       "      <td>FALSE</td>\n",
       "      <td>Sunnyvale</td>\n",
       "    </tr>\n",
       "  </tbody>\n",
       "</table>\n",
       "</div>"
      ],
      "text/plain": [
       "             0                         1                                  2  \\\n",
       "0         Name                    e-mail  Residence - Nextdoor Neighborhood   \n",
       "1  Anita Rosen         anita@readygo.com                            Gemello   \n",
       "2   Ann Ranish       annranish@gmail.com                           Starbird   \n",
       "3   Carol Peck  CAnative.carol@gmail.com                             Gilroy   \n",
       "4   Don Krafft         dfk@donkrafft.com                         Morse Park   \n",
       "\n",
       "                      3                 4  \n",
       "0  Unknown Neighborhood             Notes  \n",
       "1                 FALSE                    \n",
       "2                 FALSE                    \n",
       "3                 FALSE  Northern Gilroy?  \n",
       "4                 FALSE         Sunnyvale  "
      ]
     },
     "execution_count": 35,
     "metadata": {},
     "output_type": "execute_result"
    }
   ],
   "source": [
    "df_contacts.head()"
   ]
  },
  {
   "cell_type": "code",
   "execution_count": 36,
   "metadata": {},
   "outputs": [],
   "source": [
    "df_contacts.reset_index()\n",
    "df_contacts.columns = ['Name', 'email', 'Residence - Nextdoor Neighborhood', 'Unknown Neighborhood', 'Notes']"
   ]
  },
  {
   "cell_type": "code",
   "execution_count": 37,
   "metadata": {},
   "outputs": [],
   "source": [
    "df_contacts = df_contacts[df_contacts['Name'] != 'Name']"
   ]
  },
  {
   "cell_type": "code",
   "execution_count": 38,
   "metadata": {},
   "outputs": [],
   "source": [
    "df_contacts['Residence - Nextdoor Neighborhood'] = df_contacts['Residence - Nextdoor Neighborhood'].str.title()"
   ]
  },
  {
   "cell_type": "code",
   "execution_count": 39,
   "metadata": {},
   "outputs": [
    {
     "data": {
      "text/html": [
       "<div>\n",
       "<style scoped>\n",
       "    .dataframe tbody tr th:only-of-type {\n",
       "        vertical-align: middle;\n",
       "    }\n",
       "\n",
       "    .dataframe tbody tr th {\n",
       "        vertical-align: top;\n",
       "    }\n",
       "\n",
       "    .dataframe thead th {\n",
       "        text-align: right;\n",
       "    }\n",
       "</style>\n",
       "<table border=\"1\" class=\"dataframe\">\n",
       "  <thead>\n",
       "    <tr style=\"text-align: right;\">\n",
       "      <th></th>\n",
       "      <th>Name</th>\n",
       "      <th>email</th>\n",
       "      <th>Residence - Nextdoor Neighborhood</th>\n",
       "      <th>Unknown Neighborhood</th>\n",
       "      <th>Notes</th>\n",
       "    </tr>\n",
       "  </thead>\n",
       "  <tbody>\n",
       "    <tr>\n",
       "      <th>1</th>\n",
       "      <td>Anita Rosen</td>\n",
       "      <td>anita@readygo.com</td>\n",
       "      <td>Gemello</td>\n",
       "      <td>FALSE</td>\n",
       "      <td></td>\n",
       "    </tr>\n",
       "    <tr>\n",
       "      <th>2</th>\n",
       "      <td>Ann Ranish</td>\n",
       "      <td>annranish@gmail.com</td>\n",
       "      <td>Starbird</td>\n",
       "      <td>FALSE</td>\n",
       "      <td></td>\n",
       "    </tr>\n",
       "    <tr>\n",
       "      <th>3</th>\n",
       "      <td>Carol Peck</td>\n",
       "      <td>CAnative.carol@gmail.com</td>\n",
       "      <td>Gilroy</td>\n",
       "      <td>FALSE</td>\n",
       "      <td>Northern Gilroy?</td>\n",
       "    </tr>\n",
       "    <tr>\n",
       "      <th>4</th>\n",
       "      <td>Don Krafft</td>\n",
       "      <td>dfk@donkrafft.com</td>\n",
       "      <td>Morse Park</td>\n",
       "      <td>FALSE</td>\n",
       "      <td>Sunnyvale</td>\n",
       "    </tr>\n",
       "    <tr>\n",
       "      <th>5</th>\n",
       "      <td>Jeff Jenks</td>\n",
       "      <td>jenks.jeff@gmail.com</td>\n",
       "      <td>Monta Vista</td>\n",
       "      <td>FALSE</td>\n",
       "      <td>Cupertino</td>\n",
       "    </tr>\n",
       "  </tbody>\n",
       "</table>\n",
       "</div>"
      ],
      "text/plain": [
       "          Name                     email Residence - Nextdoor Neighborhood  \\\n",
       "1  Anita Rosen         anita@readygo.com                           Gemello   \n",
       "2   Ann Ranish       annranish@gmail.com                          Starbird   \n",
       "3   Carol Peck  CAnative.carol@gmail.com                            Gilroy   \n",
       "4   Don Krafft         dfk@donkrafft.com                        Morse Park   \n",
       "5   Jeff Jenks      jenks.jeff@gmail.com                       Monta Vista   \n",
       "\n",
       "  Unknown Neighborhood             Notes  \n",
       "1                FALSE                    \n",
       "2                FALSE                    \n",
       "3                FALSE  Northern Gilroy?  \n",
       "4                FALSE         Sunnyvale  \n",
       "5                FALSE         Cupertino  "
      ]
     },
     "execution_count": 39,
     "metadata": {},
     "output_type": "execute_result"
    }
   ],
   "source": [
    "df_contacts.head()"
   ]
  },
  {
   "cell_type": "code",
   "execution_count": 40,
   "metadata": {},
   "outputs": [
    {
     "data": {
      "text/html": [
       "<div>\n",
       "<style scoped>\n",
       "    .dataframe tbody tr th:only-of-type {\n",
       "        vertical-align: middle;\n",
       "    }\n",
       "\n",
       "    .dataframe tbody tr th {\n",
       "        vertical-align: top;\n",
       "    }\n",
       "\n",
       "    .dataframe thead th {\n",
       "        text-align: right;\n",
       "    }\n",
       "</style>\n",
       "<table border=\"1\" class=\"dataframe\">\n",
       "  <thead>\n",
       "    <tr style=\"text-align: right;\">\n",
       "      <th></th>\n",
       "      <th>0</th>\n",
       "      <th>1</th>\n",
       "      <th>2</th>\n",
       "    </tr>\n",
       "  </thead>\n",
       "  <tbody>\n",
       "    <tr>\n",
       "      <th>0</th>\n",
       "      <td>Allie Judy</td>\n",
       "      <td>San Tomas</td>\n",
       "      <td>FALSE</td>\n",
       "    </tr>\n",
       "    <tr>\n",
       "      <th>1</th>\n",
       "      <td>Allie Judy</td>\n",
       "      <td>Newport Apartments</td>\n",
       "      <td>FALSE</td>\n",
       "    </tr>\n",
       "    <tr>\n",
       "      <th>2</th>\n",
       "      <td>Allie Judy</td>\n",
       "      <td>Hacienda</td>\n",
       "      <td>FALSE</td>\n",
       "    </tr>\n",
       "    <tr>\n",
       "      <th>3</th>\n",
       "      <td>Allie Judy</td>\n",
       "      <td>Pollard Road</td>\n",
       "      <td>FALSE</td>\n",
       "    </tr>\n",
       "    <tr>\n",
       "      <th>4</th>\n",
       "      <td>Allie Judy</td>\n",
       "      <td>Los Gatos Woods</td>\n",
       "      <td>FALSE</td>\n",
       "    </tr>\n",
       "  </tbody>\n",
       "</table>\n",
       "</div>"
      ],
      "text/plain": [
       "            0                   1      2\n",
       "0  Allie Judy           San Tomas  FALSE\n",
       "1  Allie Judy  Newport Apartments  FALSE\n",
       "2  Allie Judy            Hacienda  FALSE\n",
       "3  Allie Judy        Pollard Road  FALSE\n",
       "4  Allie Judy     Los Gatos Woods  FALSE"
      ]
     },
     "execution_count": 40,
     "metadata": {},
     "output_type": "execute_result"
    }
   ],
   "source": [
    "df_contact_neighborhood.head()"
   ]
  },
  {
   "cell_type": "code",
   "execution_count": 41,
   "metadata": {},
   "outputs": [],
   "source": [
    "df_contact_neighborhood.reset_index()\n",
    "df_contact_neighborhood.columns = ['Name', 'Nextdoor Neighborhood', 'Unknown Neighborhood']"
   ]
  },
  {
   "cell_type": "code",
   "execution_count": 42,
   "metadata": {},
   "outputs": [],
   "source": [
    "df_contact_neighborhood = df_contact_neighborhood[df_contact_neighborhood['Name'] != 'Name']"
   ]
  },
  {
   "cell_type": "code",
   "execution_count": 43,
   "metadata": {},
   "outputs": [
    {
     "data": {
      "text/html": [
       "<div>\n",
       "<style scoped>\n",
       "    .dataframe tbody tr th:only-of-type {\n",
       "        vertical-align: middle;\n",
       "    }\n",
       "\n",
       "    .dataframe tbody tr th {\n",
       "        vertical-align: top;\n",
       "    }\n",
       "\n",
       "    .dataframe thead th {\n",
       "        text-align: right;\n",
       "    }\n",
       "</style>\n",
       "<table border=\"1\" class=\"dataframe\">\n",
       "  <thead>\n",
       "    <tr style=\"text-align: right;\">\n",
       "      <th></th>\n",
       "      <th>Name</th>\n",
       "      <th>Nextdoor Neighborhood</th>\n",
       "      <th>Unknown Neighborhood</th>\n",
       "    </tr>\n",
       "  </thead>\n",
       "  <tbody>\n",
       "    <tr>\n",
       "      <th>0</th>\n",
       "      <td>Allie Judy</td>\n",
       "      <td>San Tomas</td>\n",
       "      <td>FALSE</td>\n",
       "    </tr>\n",
       "    <tr>\n",
       "      <th>1</th>\n",
       "      <td>Allie Judy</td>\n",
       "      <td>Newport Apartments</td>\n",
       "      <td>FALSE</td>\n",
       "    </tr>\n",
       "    <tr>\n",
       "      <th>2</th>\n",
       "      <td>Allie Judy</td>\n",
       "      <td>Hacienda</td>\n",
       "      <td>FALSE</td>\n",
       "    </tr>\n",
       "    <tr>\n",
       "      <th>3</th>\n",
       "      <td>Allie Judy</td>\n",
       "      <td>Pollard Road</td>\n",
       "      <td>FALSE</td>\n",
       "    </tr>\n",
       "    <tr>\n",
       "      <th>4</th>\n",
       "      <td>Allie Judy</td>\n",
       "      <td>Los Gatos Woods</td>\n",
       "      <td>FALSE</td>\n",
       "    </tr>\n",
       "  </tbody>\n",
       "</table>\n",
       "</div>"
      ],
      "text/plain": [
       "         Name Nextdoor Neighborhood Unknown Neighborhood\n",
       "0  Allie Judy             San Tomas                FALSE\n",
       "1  Allie Judy    Newport Apartments                FALSE\n",
       "2  Allie Judy              Hacienda                FALSE\n",
       "3  Allie Judy          Pollard Road                FALSE\n",
       "4  Allie Judy       Los Gatos Woods                FALSE"
      ]
     },
     "execution_count": 43,
     "metadata": {},
     "output_type": "execute_result"
    }
   ],
   "source": [
    "df_contact_neighborhood.head()"
   ]
  },
  {
   "cell_type": "code",
   "execution_count": 44,
   "metadata": {},
   "outputs": [],
   "source": [
    "df_contact_neighborhood['Nextdoor Neighborhood'] = df_contact_neighborhood['Nextdoor Neighborhood'].str.title()"
   ]
  },
  {
   "cell_type": "code",
   "execution_count": 45,
   "metadata": {},
   "outputs": [
    {
     "data": {
      "text/html": [
       "<div>\n",
       "<style scoped>\n",
       "    .dataframe tbody tr th:only-of-type {\n",
       "        vertical-align: middle;\n",
       "    }\n",
       "\n",
       "    .dataframe tbody tr th {\n",
       "        vertical-align: top;\n",
       "    }\n",
       "\n",
       "    .dataframe thead th {\n",
       "        text-align: right;\n",
       "    }\n",
       "</style>\n",
       "<table border=\"1\" class=\"dataframe\">\n",
       "  <thead>\n",
       "    <tr style=\"text-align: right;\">\n",
       "      <th></th>\n",
       "      <th>Name</th>\n",
       "      <th>Nextdoor Neighborhood</th>\n",
       "      <th>Unknown Neighborhood</th>\n",
       "    </tr>\n",
       "  </thead>\n",
       "  <tbody>\n",
       "    <tr>\n",
       "      <th>0</th>\n",
       "      <td>Allie Judy</td>\n",
       "      <td>San Tomas</td>\n",
       "      <td>FALSE</td>\n",
       "    </tr>\n",
       "    <tr>\n",
       "      <th>1</th>\n",
       "      <td>Allie Judy</td>\n",
       "      <td>Newport Apartments</td>\n",
       "      <td>FALSE</td>\n",
       "    </tr>\n",
       "    <tr>\n",
       "      <th>2</th>\n",
       "      <td>Allie Judy</td>\n",
       "      <td>Hacienda</td>\n",
       "      <td>FALSE</td>\n",
       "    </tr>\n",
       "    <tr>\n",
       "      <th>3</th>\n",
       "      <td>Allie Judy</td>\n",
       "      <td>Pollard Road</td>\n",
       "      <td>FALSE</td>\n",
       "    </tr>\n",
       "    <tr>\n",
       "      <th>4</th>\n",
       "      <td>Allie Judy</td>\n",
       "      <td>Los Gatos Woods</td>\n",
       "      <td>FALSE</td>\n",
       "    </tr>\n",
       "  </tbody>\n",
       "</table>\n",
       "</div>"
      ],
      "text/plain": [
       "         Name Nextdoor Neighborhood Unknown Neighborhood\n",
       "0  Allie Judy             San Tomas                FALSE\n",
       "1  Allie Judy    Newport Apartments                FALSE\n",
       "2  Allie Judy              Hacienda                FALSE\n",
       "3  Allie Judy          Pollard Road                FALSE\n",
       "4  Allie Judy       Los Gatos Woods                FALSE"
      ]
     },
     "execution_count": 45,
     "metadata": {},
     "output_type": "execute_result"
    }
   ],
   "source": [
    "df_contact_neighborhood.head()"
   ]
  },
  {
   "cell_type": "code",
   "execution_count": 46,
   "metadata": {},
   "outputs": [
    {
     "data": {
      "text/html": [
       "<div>\n",
       "<style scoped>\n",
       "    .dataframe tbody tr th:only-of-type {\n",
       "        vertical-align: middle;\n",
       "    }\n",
       "\n",
       "    .dataframe tbody tr th {\n",
       "        vertical-align: top;\n",
       "    }\n",
       "\n",
       "    .dataframe thead th {\n",
       "        text-align: right;\n",
       "    }\n",
       "</style>\n",
       "<table border=\"1\" class=\"dataframe\">\n",
       "  <thead>\n",
       "    <tr style=\"text-align: right;\">\n",
       "      <th></th>\n",
       "      <th>0</th>\n",
       "      <th>1</th>\n",
       "      <th>2</th>\n",
       "      <th>3</th>\n",
       "      <th>4</th>\n",
       "    </tr>\n",
       "  </thead>\n",
       "  <tbody>\n",
       "    <tr>\n",
       "      <th>0</th>\n",
       "      <td>State</td>\n",
       "      <td>County</td>\n",
       "      <td>City</td>\n",
       "      <td>Neighborhood</td>\n",
       "      <td>link</td>\n",
       "    </tr>\n",
       "    <tr>\n",
       "      <th>1</th>\n",
       "      <td>CA</td>\n",
       "      <td>Santa Clara</td>\n",
       "      <td>San Jose</td>\n",
       "      <td>Albanese Circle</td>\n",
       "      <td>https://nextdoor.com/neighborhood/albanesecirc...</td>\n",
       "    </tr>\n",
       "    <tr>\n",
       "      <th>2</th>\n",
       "      <td>CA</td>\n",
       "      <td>Santa Clara</td>\n",
       "      <td>San Jose</td>\n",
       "      <td>Almaden</td>\n",
       "      <td>https://nextdoor.com/neighborhood/almadenca--s...</td>\n",
       "    </tr>\n",
       "    <tr>\n",
       "      <th>3</th>\n",
       "      <td>CA</td>\n",
       "      <td>Santa Clara</td>\n",
       "      <td>San Jose</td>\n",
       "      <td>Alvin/Burdette</td>\n",
       "      <td>https://nextdoor.com/neighborhood/7alvinburdet...</td>\n",
       "    </tr>\n",
       "    <tr>\n",
       "      <th>4</th>\n",
       "      <td>CA</td>\n",
       "      <td>Santa Clara</td>\n",
       "      <td>San Jose</td>\n",
       "      <td>Alviso</td>\n",
       "      <td>https://nextdoor.com/neighborhood/4alviso--san...</td>\n",
       "    </tr>\n",
       "  </tbody>\n",
       "</table>\n",
       "</div>"
      ],
      "text/plain": [
       "       0            1         2                3  \\\n",
       "0  State       County      City     Neighborhood   \n",
       "1     CA  Santa Clara  San Jose  Albanese Circle   \n",
       "2     CA  Santa Clara  San Jose          Almaden   \n",
       "3     CA  Santa Clara  San Jose   Alvin/Burdette   \n",
       "4     CA  Santa Clara  San Jose           Alviso   \n",
       "\n",
       "                                                   4  \n",
       "0                                               link  \n",
       "1  https://nextdoor.com/neighborhood/albanesecirc...  \n",
       "2  https://nextdoor.com/neighborhood/almadenca--s...  \n",
       "3  https://nextdoor.com/neighborhood/7alvinburdet...  \n",
       "4  https://nextdoor.com/neighborhood/4alviso--san...  "
      ]
     },
     "execution_count": 46,
     "metadata": {},
     "output_type": "execute_result"
    }
   ],
   "source": [
    "df_nextdoor_neighborhoods.head()"
   ]
  },
  {
   "cell_type": "code",
   "execution_count": 47,
   "metadata": {},
   "outputs": [],
   "source": [
    "df_nextdoor_neighborhoods.reset_index()\n",
    "df_nextdoor_neighborhoods.columns = ['State', 'County', 'City', 'Neighborhood', 'Link']"
   ]
  },
  {
   "cell_type": "code",
   "execution_count": 48,
   "metadata": {},
   "outputs": [],
   "source": [
    "df_nextdoor_neighborhoods = df_nextdoor_neighborhoods[df_nextdoor_neighborhoods['Neighborhood'] != 'Neighborhood']"
   ]
  },
  {
   "cell_type": "code",
   "execution_count": 49,
   "metadata": {},
   "outputs": [
    {
     "data": {
      "text/html": [
       "<div>\n",
       "<style scoped>\n",
       "    .dataframe tbody tr th:only-of-type {\n",
       "        vertical-align: middle;\n",
       "    }\n",
       "\n",
       "    .dataframe tbody tr th {\n",
       "        vertical-align: top;\n",
       "    }\n",
       "\n",
       "    .dataframe thead th {\n",
       "        text-align: right;\n",
       "    }\n",
       "</style>\n",
       "<table border=\"1\" class=\"dataframe\">\n",
       "  <thead>\n",
       "    <tr style=\"text-align: right;\">\n",
       "      <th></th>\n",
       "      <th>State</th>\n",
       "      <th>County</th>\n",
       "      <th>City</th>\n",
       "      <th>Neighborhood</th>\n",
       "      <th>Link</th>\n",
       "    </tr>\n",
       "  </thead>\n",
       "  <tbody>\n",
       "    <tr>\n",
       "      <th>1</th>\n",
       "      <td>CA</td>\n",
       "      <td>Santa Clara</td>\n",
       "      <td>San Jose</td>\n",
       "      <td>Albanese Circle</td>\n",
       "      <td>https://nextdoor.com/neighborhood/albanesecirc...</td>\n",
       "    </tr>\n",
       "    <tr>\n",
       "      <th>2</th>\n",
       "      <td>CA</td>\n",
       "      <td>Santa Clara</td>\n",
       "      <td>San Jose</td>\n",
       "      <td>Almaden</td>\n",
       "      <td>https://nextdoor.com/neighborhood/almadenca--s...</td>\n",
       "    </tr>\n",
       "    <tr>\n",
       "      <th>3</th>\n",
       "      <td>CA</td>\n",
       "      <td>Santa Clara</td>\n",
       "      <td>San Jose</td>\n",
       "      <td>Alvin/Burdette</td>\n",
       "      <td>https://nextdoor.com/neighborhood/7alvinburdet...</td>\n",
       "    </tr>\n",
       "    <tr>\n",
       "      <th>4</th>\n",
       "      <td>CA</td>\n",
       "      <td>Santa Clara</td>\n",
       "      <td>San Jose</td>\n",
       "      <td>Alviso</td>\n",
       "      <td>https://nextdoor.com/neighborhood/4alviso--san...</td>\n",
       "    </tr>\n",
       "    <tr>\n",
       "      <th>5</th>\n",
       "      <td>CA</td>\n",
       "      <td>Santa Clara</td>\n",
       "      <td>San Jose</td>\n",
       "      <td>Anne Darling - Little Portugal North</td>\n",
       "      <td>https://nextdoor.com/neighborhood/3littleportu...</td>\n",
       "    </tr>\n",
       "  </tbody>\n",
       "</table>\n",
       "</div>"
      ],
      "text/plain": [
       "  State       County      City                          Neighborhood  \\\n",
       "1    CA  Santa Clara  San Jose                       Albanese Circle   \n",
       "2    CA  Santa Clara  San Jose                               Almaden   \n",
       "3    CA  Santa Clara  San Jose                        Alvin/Burdette   \n",
       "4    CA  Santa Clara  San Jose                                Alviso   \n",
       "5    CA  Santa Clara  San Jose  Anne Darling - Little Portugal North   \n",
       "\n",
       "                                                Link  \n",
       "1  https://nextdoor.com/neighborhood/albanesecirc...  \n",
       "2  https://nextdoor.com/neighborhood/almadenca--s...  \n",
       "3  https://nextdoor.com/neighborhood/7alvinburdet...  \n",
       "4  https://nextdoor.com/neighborhood/4alviso--san...  \n",
       "5  https://nextdoor.com/neighborhood/3littleportu...  "
      ]
     },
     "execution_count": 49,
     "metadata": {},
     "output_type": "execute_result"
    }
   ],
   "source": [
    "df_nextdoor_neighborhoods.head()"
   ]
  },
  {
   "cell_type": "code",
   "execution_count": 61,
   "metadata": {},
   "outputs": [
    {
     "data": {
      "text/html": [
       "<div>\n",
       "<style scoped>\n",
       "    .dataframe tbody tr th:only-of-type {\n",
       "        vertical-align: middle;\n",
       "    }\n",
       "\n",
       "    .dataframe tbody tr th {\n",
       "        vertical-align: top;\n",
       "    }\n",
       "\n",
       "    .dataframe thead th {\n",
       "        text-align: right;\n",
       "    }\n",
       "</style>\n",
       "<table border=\"1\" class=\"dataframe\">\n",
       "  <thead>\n",
       "    <tr style=\"text-align: right;\">\n",
       "      <th></th>\n",
       "      <th>Name</th>\n",
       "      <th>Nextdoor Neighborhood</th>\n",
       "      <th>Unknown Neighborhood</th>\n",
       "      <th>Similar Google Neighborhood</th>\n",
       "    </tr>\n",
       "  </thead>\n",
       "  <tbody>\n",
       "    <tr>\n",
       "      <th>1</th>\n",
       "      <td>Allie Judy</td>\n",
       "      <td>San Tomas</td>\n",
       "      <td>FALSE</td>\n",
       "      <td>[San Tomas]</td>\n",
       "    </tr>\n",
       "    <tr>\n",
       "      <th>2</th>\n",
       "      <td>Allie Judy</td>\n",
       "      <td>Newport Apartments</td>\n",
       "      <td>FALSE</td>\n",
       "      <td>[]</td>\n",
       "    </tr>\n",
       "    <tr>\n",
       "      <th>3</th>\n",
       "      <td>Allie Judy</td>\n",
       "      <td>Hacienda</td>\n",
       "      <td>FALSE</td>\n",
       "      <td>[]</td>\n",
       "    </tr>\n",
       "    <tr>\n",
       "      <th>4</th>\n",
       "      <td>Allie Judy</td>\n",
       "      <td>Pollard Road</td>\n",
       "      <td>FALSE</td>\n",
       "      <td>[]</td>\n",
       "    </tr>\n",
       "    <tr>\n",
       "      <th>5</th>\n",
       "      <td>Allie Judy</td>\n",
       "      <td>Los Gatos Woods</td>\n",
       "      <td>FALSE</td>\n",
       "      <td>[]</td>\n",
       "    </tr>\n",
       "  </tbody>\n",
       "</table>\n",
       "</div>"
      ],
      "text/plain": [
       "         Name Nextdoor Neighborhood Unknown Neighborhood  \\\n",
       "1  Allie Judy             San Tomas                FALSE   \n",
       "2  Allie Judy    Newport Apartments                FALSE   \n",
       "3  Allie Judy              Hacienda                FALSE   \n",
       "4  Allie Judy          Pollard Road                FALSE   \n",
       "5  Allie Judy       Los Gatos Woods                FALSE   \n",
       "\n",
       "  Similar Google Neighborhood  \n",
       "1                 [San Tomas]  \n",
       "2                          []  \n",
       "3                          []  \n",
       "4                          []  \n",
       "5                          []  "
      ]
     },
     "execution_count": 61,
     "metadata": {},
     "output_type": "execute_result"
    }
   ],
   "source": [
    "df_contact_neighborhood.head()"
   ]
  },
  {
   "cell_type": "code",
   "execution_count": 50,
   "metadata": {
    "scrolled": true
   },
   "outputs": [
    {
     "data": {
      "text/html": [
       "<div>\n",
       "<style scoped>\n",
       "    .dataframe tbody tr th:only-of-type {\n",
       "        vertical-align: middle;\n",
       "    }\n",
       "\n",
       "    .dataframe tbody tr th {\n",
       "        vertical-align: top;\n",
       "    }\n",
       "\n",
       "    .dataframe thead th {\n",
       "        text-align: right;\n",
       "    }\n",
       "</style>\n",
       "<table border=\"1\" class=\"dataframe\">\n",
       "  <thead>\n",
       "    <tr style=\"text-align: right;\">\n",
       "      <th></th>\n",
       "      <th>0</th>\n",
       "      <th>1</th>\n",
       "      <th>2</th>\n",
       "      <th>3</th>\n",
       "      <th>4</th>\n",
       "      <th>5</th>\n",
       "    </tr>\n",
       "  </thead>\n",
       "  <tbody>\n",
       "    <tr>\n",
       "      <th>0</th>\n",
       "      <td>State</td>\n",
       "      <td>County</td>\n",
       "      <td>City</td>\n",
       "      <td>Neighborhood</td>\n",
       "      <td>RegionID</td>\n",
       "      <td>geometry</td>\n",
       "    </tr>\n",
       "    <tr>\n",
       "      <th>1</th>\n",
       "      <td>CA</td>\n",
       "      <td>Santa Clara</td>\n",
       "      <td>San Jose</td>\n",
       "      <td>Alviso</td>\n",
       "      <td>8075</td>\n",
       "      <td>POLYGON ((-121.9423569999999 37.46496300000007...</td>\n",
       "    </tr>\n",
       "    <tr>\n",
       "      <th>2</th>\n",
       "      <td>CA</td>\n",
       "      <td>Santa Clara</td>\n",
       "      <td>San Jose</td>\n",
       "      <td>Cambrian Park</td>\n",
       "      <td>114074</td>\n",
       "      <td>POLYGON ((-121.878978755 37.27530488000008, -1...</td>\n",
       "    </tr>\n",
       "    <tr>\n",
       "      <th>3</th>\n",
       "      <td>CA</td>\n",
       "      <td>Santa Clara</td>\n",
       "      <td>Cupertino</td>\n",
       "      <td>Rancho Rinconada</td>\n",
       "      <td>117559</td>\n",
       "      <td>POLYGON ((-122.00649 37.32295, -122.004603875 ...</td>\n",
       "    </tr>\n",
       "    <tr>\n",
       "      <th>4</th>\n",
       "      <td>CA</td>\n",
       "      <td>Santa Clara</td>\n",
       "      <td>Campbell</td>\n",
       "      <td>San Tomas</td>\n",
       "      <td>117891</td>\n",
       "      <td>POLYGON ((-121.9526834979999 37.27366922400006...</td>\n",
       "    </tr>\n",
       "  </tbody>\n",
       "</table>\n",
       "</div>"
      ],
      "text/plain": [
       "       0            1          2                 3         4  \\\n",
       "0  State       County       City      Neighborhood  RegionID   \n",
       "1     CA  Santa Clara   San Jose            Alviso      8075   \n",
       "2     CA  Santa Clara   San Jose     Cambrian Park    114074   \n",
       "3     CA  Santa Clara  Cupertino  Rancho Rinconada    117559   \n",
       "4     CA  Santa Clara   Campbell         San Tomas    117891   \n",
       "\n",
       "                                                   5  \n",
       "0                                           geometry  \n",
       "1  POLYGON ((-121.9423569999999 37.46496300000007...  \n",
       "2  POLYGON ((-121.878978755 37.27530488000008, -1...  \n",
       "3  POLYGON ((-122.00649 37.32295, -122.004603875 ...  \n",
       "4  POLYGON ((-121.9526834979999 37.27366922400006...  "
      ]
     },
     "execution_count": 50,
     "metadata": {},
     "output_type": "execute_result"
    }
   ],
   "source": [
    "df_zillow_neighborhoods.head()"
   ]
  },
  {
   "cell_type": "code",
   "execution_count": 51,
   "metadata": {},
   "outputs": [],
   "source": [
    "df_zillow_neighborhoods.reset_index()\n",
    "df_zillow_neighborhoods.columns = ['State', 'County', 'City', 'Neighborhood', 'RegionID', 'Geometry']"
   ]
  },
  {
   "cell_type": "code",
   "execution_count": 52,
   "metadata": {},
   "outputs": [],
   "source": [
    "df_zillow_neighborhoods = df_zillow_neighborhoods[df_zillow_neighborhoods['Neighborhood'] != 'Neighborhood']"
   ]
  },
  {
   "cell_type": "code",
   "execution_count": 53,
   "metadata": {},
   "outputs": [
    {
     "data": {
      "text/html": [
       "<div>\n",
       "<style scoped>\n",
       "    .dataframe tbody tr th:only-of-type {\n",
       "        vertical-align: middle;\n",
       "    }\n",
       "\n",
       "    .dataframe tbody tr th {\n",
       "        vertical-align: top;\n",
       "    }\n",
       "\n",
       "    .dataframe thead th {\n",
       "        text-align: right;\n",
       "    }\n",
       "</style>\n",
       "<table border=\"1\" class=\"dataframe\">\n",
       "  <thead>\n",
       "    <tr style=\"text-align: right;\">\n",
       "      <th></th>\n",
       "      <th>State</th>\n",
       "      <th>County</th>\n",
       "      <th>City</th>\n",
       "      <th>Neighborhood</th>\n",
       "      <th>RegionID</th>\n",
       "      <th>Geometry</th>\n",
       "    </tr>\n",
       "  </thead>\n",
       "  <tbody>\n",
       "    <tr>\n",
       "      <th>1</th>\n",
       "      <td>CA</td>\n",
       "      <td>Santa Clara</td>\n",
       "      <td>San Jose</td>\n",
       "      <td>Alviso</td>\n",
       "      <td>8075</td>\n",
       "      <td>POLYGON ((-121.9423569999999 37.46496300000007...</td>\n",
       "    </tr>\n",
       "    <tr>\n",
       "      <th>2</th>\n",
       "      <td>CA</td>\n",
       "      <td>Santa Clara</td>\n",
       "      <td>San Jose</td>\n",
       "      <td>Cambrian Park</td>\n",
       "      <td>114074</td>\n",
       "      <td>POLYGON ((-121.878978755 37.27530488000008, -1...</td>\n",
       "    </tr>\n",
       "    <tr>\n",
       "      <th>3</th>\n",
       "      <td>CA</td>\n",
       "      <td>Santa Clara</td>\n",
       "      <td>Cupertino</td>\n",
       "      <td>Rancho Rinconada</td>\n",
       "      <td>117559</td>\n",
       "      <td>POLYGON ((-122.00649 37.32295, -122.004603875 ...</td>\n",
       "    </tr>\n",
       "    <tr>\n",
       "      <th>4</th>\n",
       "      <td>CA</td>\n",
       "      <td>Santa Clara</td>\n",
       "      <td>Campbell</td>\n",
       "      <td>San Tomas</td>\n",
       "      <td>117891</td>\n",
       "      <td>POLYGON ((-121.9526834979999 37.27366922400006...</td>\n",
       "    </tr>\n",
       "    <tr>\n",
       "      <th>5</th>\n",
       "      <td>CA</td>\n",
       "      <td>Santa Clara</td>\n",
       "      <td>San Jose</td>\n",
       "      <td>Berryessa</td>\n",
       "      <td>113736</td>\n",
       "      <td>POLYGON ((-121.8202519999999 37.43812700000007...</td>\n",
       "    </tr>\n",
       "  </tbody>\n",
       "</table>\n",
       "</div>"
      ],
      "text/plain": [
       "  State       County       City      Neighborhood RegionID  \\\n",
       "1    CA  Santa Clara   San Jose            Alviso     8075   \n",
       "2    CA  Santa Clara   San Jose     Cambrian Park   114074   \n",
       "3    CA  Santa Clara  Cupertino  Rancho Rinconada   117559   \n",
       "4    CA  Santa Clara   Campbell         San Tomas   117891   \n",
       "5    CA  Santa Clara   San Jose         Berryessa   113736   \n",
       "\n",
       "                                            Geometry  \n",
       "1  POLYGON ((-121.9423569999999 37.46496300000007...  \n",
       "2  POLYGON ((-121.878978755 37.27530488000008, -1...  \n",
       "3  POLYGON ((-122.00649 37.32295, -122.004603875 ...  \n",
       "4  POLYGON ((-121.9526834979999 37.27366922400006...  \n",
       "5  POLYGON ((-121.8202519999999 37.43812700000007...  "
      ]
     },
     "execution_count": 53,
     "metadata": {},
     "output_type": "execute_result"
    }
   ],
   "source": [
    "df_zillow_neighborhoods.head()"
   ]
  },
  {
   "cell_type": "code",
   "execution_count": 54,
   "metadata": {},
   "outputs": [],
   "source": [
    "df_contacts.to_csv('mg_contacts_master.csv', index=False)\n",
    "df_contact_neighborhood.to_csv('mg_contact_neighborhood_master.csv', index=False)"
   ]
  },
  {
   "cell_type": "markdown",
   "metadata": {},
   "source": [
    "## Scraping nextdoor "
   ]
  },
  {
   "cell_type": "code",
   "execution_count": 77,
   "metadata": {},
   "outputs": [],
   "source": [
    "state = 'CA'\n",
    "state_url = 'https://nextdoor.com/find-neighborhood/' + state + '/'"
   ]
  },
  {
   "cell_type": "code",
   "execution_count": 78,
   "metadata": {},
   "outputs": [
    {
     "data": {
      "text/plain": [
       "bs4.BeautifulSoup"
      ]
     },
     "execution_count": 78,
     "metadata": {},
     "output_type": "execute_result"
    }
   ],
   "source": [
    "from requests import get\n",
    "response = requests.get(state_url)\n",
    "html_soup = BeautifulSoup(response.text, 'html.parser')\n",
    "type(html_soup)"
   ]
  },
  {
   "cell_type": "code",
   "execution_count": 79,
   "metadata": {},
   "outputs": [
    {
     "name": "stdout",
     "output_type": "stream",
     "text": [
      "<class 'bs4.element.ResultSet'>\n",
      "24\n"
     ]
    }
   ],
   "source": [
    "hood_city_group = html_soup.find_all('div', class_ = 'hood_group')\n",
    "print(type(hood_city_group))\n",
    "print(len(hood_city_group))"
   ]
  },
  {
   "cell_type": "code",
   "execution_count": 80,
   "metadata": {},
   "outputs": [
    {
     "data": {
      "text/html": [
       "<div>\n",
       "<style scoped>\n",
       "    .dataframe tbody tr th:only-of-type {\n",
       "        vertical-align: middle;\n",
       "    }\n",
       "\n",
       "    .dataframe tbody tr th {\n",
       "        vertical-align: top;\n",
       "    }\n",
       "\n",
       "    .dataframe thead th {\n",
       "        text-align: right;\n",
       "    }\n",
       "</style>\n",
       "<table border=\"1\" class=\"dataframe\">\n",
       "  <thead>\n",
       "    <tr style=\"text-align: right;\">\n",
       "      <th></th>\n",
       "      <th>State</th>\n",
       "      <th>City</th>\n",
       "      <th>Link</th>\n",
       "    </tr>\n",
       "  </thead>\n",
       "  <tbody>\n",
       "    <tr>\n",
       "      <th>0</th>\n",
       "      <td>NaN</td>\n",
       "      <td>NaN</td>\n",
       "      <td>NaN</td>\n",
       "    </tr>\n",
       "  </tbody>\n",
       "</table>\n",
       "</div>"
      ],
      "text/plain": [
       "  State City Link\n",
       "0   NaN  NaN  NaN"
      ]
     },
     "execution_count": 80,
     "metadata": {},
     "output_type": "execute_result"
    }
   ],
   "source": [
    "df_cities = pd.DataFrame(index=range(5000), columns = ['State', 'City', 'Link'])\n",
    "df_loc = 0\n",
    "df_cities.head(1)"
   ]
  },
  {
   "cell_type": "markdown",
   "metadata": {
    "scrolled": false
   },
   "source": [
    "for div in hood_city_group:\n",
    "    city_links = div.findAll('a')\n",
    "    for a in city_links:\n",
    "        df_cities.iloc[df_loc, df_cities.columns.get_loc(\"State\")] = 'CA'\n",
    "        df_cities.iloc[df_loc, df_cities.columns.get_loc(\"City\")] = a.string\n",
    "        df_cities.iloc[df_loc, df_cities.columns.get_loc(\"Link\")] = a['href'].strip()\n",
    "        df_loc += 1\n",
    "\n",
    "df_cities.dropna(axis = 0, inplace=True)\n",
    "print(df_loc)"
   ]
  },
  {
   "cell_type": "markdown",
   "metadata": {},
   "source": [
    "df_cities.reindex(columns=['State','County','City', 'Link'])\n",
    "df_cities.head(1)"
   ]
  },
  {
   "cell_type": "markdown",
   "metadata": {},
   "source": [
    "df_cities.to_csv('mg_nextdoor_california_cities.csv', index=False)"
   ]
  },
  {
   "cell_type": "code",
   "execution_count": 84,
   "metadata": {},
   "outputs": [],
   "source": [
    "cities = ['San Jose','Santa Clara','Sunnyvale', 'Palo Alto','Mountain View',\\\n",
    "          'Cupertino','Milpitas','Los Gatos', 'Gilroy', 'Morgan Hill', 'Campbell',\\\n",
    "          'Los Altos','Saratoga', 'Stanford', 'Los Altos Hills',\\\n",
    "          'San Martin']"
   ]
  },
  {
   "cell_type": "markdown",
   "metadata": {},
   "source": [
    "df_nextdoor_neighborhoods = pd.DataFrame(index=range(7000), columns = ['State', 'County', 'City', 'Neighborhood', 'Link'])\n",
    "df_loc = 0\n",
    "df_nextdoor_neighborhoods.head(1)"
   ]
  },
  {
   "cell_type": "markdown",
   "metadata": {},
   "source": [
    "for city in cities:\n",
    "    print(city)\n",
    "    city_lookup = df_cities[df_cities['City'] == city][\"Link\"].values[0]\n",
    "    print(city_lookup)\n",
    "    response = requests.get(city_lookup)\n",
    "    responseTxt = response.text.encode('UTF-8')\n",
    "    html_soup = BeautifulSoup(responseTxt, 'html.parser')\n",
    "    type(html_soup) \n",
    "    hood_neighborhood_group = html_soup.find_all('div', class_ = 'hood_group')\n",
    "    print(type(hood_neighborhood_group))\n",
    "    print(len(hood_neighborhood_group))\n",
    "   \n",
    "    for div in hood_neighborhood_group:\n",
    "        neighborhood_links = div.findAll('a')\n",
    "        for a in neighborhood_links:\n",
    "            print(city + \" \" + a.string + \" \" +  a['href'])\n",
    "            df_nextdoor_neighborhoods.iloc[df_loc, df_nextdoor_neighborhoods.columns.get_loc(\"State\")] = 'CA'\n",
    "            df_nextdoor_neighborhoods.iloc[df_loc, df_nextdoor_neighborhoods.columns.get_loc(\"County\")] = 'Santa Clara'\n",
    "            df_nextdoor_neighborhoods.iloc[df_loc, df_nextdoor_neighborhoods.columns.get_loc(\"City\")] = city\n",
    "            df_nextdoor_neighborhoods.iloc[df_loc, df_nextdoor_neighborhoods.columns.get_loc(\"Neighborhood\")] = str(a.string.encode('UTF-8'))\n",
    "            df_nextdoor_neighborhoods.iloc[df_loc, df_nextdoor_neighborhoods.columns.get_loc(\"Link\")] = str(a['href'].strip())\n",
    "            df_loc += 1\n",
    "\n",
    "df_nextdoor_neighborhoods.dropna(axis = 0, inplace=True)\n",
    "print(df_loc)"
   ]
  },
  {
   "cell_type": "markdown",
   "metadata": {},
   "source": [
    "df_nextdoor_neighborhoods.head(3)"
   ]
  },
  {
   "cell_type": "markdown",
   "metadata": {},
   "source": [
    "df_nextdoor_neighborhoods.to_csv('mg_nextdoor_neighborhoods_master.csv', index=False)"
   ]
  },
  {
   "cell_type": "code",
   "execution_count": 55,
   "metadata": {},
   "outputs": [],
   "source": [
    "df_contact_neighborhood['Similar Nextdoor Neighborhood'] = 'None'\n",
    "df_contacts['Similar Nextdoor Neighborhood'] = 'None'"
   ]
  },
  {
   "cell_type": "code",
   "execution_count": 56,
   "metadata": {},
   "outputs": [],
   "source": [
    "neighborhoods = list(df_nextdoor_neighborhoods['Neighborhood'])\n",
    "for index, row in df_contact_neighborhood.iterrows():\n",
    "    row['Similar Nextdoor Neighborhood'] = difflib.get_close_matches(row['Nextdoor Neighborhood'].lower(), neighborhoods)"
   ]
  },
  {
   "cell_type": "code",
   "execution_count": 57,
   "metadata": {},
   "outputs": [],
   "source": [
    "for index, row in df_contacts.iterrows():\n",
    "    row['Similar Nextdoor Neighborhood'] = difflib.get_close_matches(row['Residence - Nextdoor Neighborhood'].lower(), neighborhoods)"
   ]
  },
  {
   "cell_type": "code",
   "execution_count": 58,
   "metadata": {},
   "outputs": [
    {
     "data": {
      "text/html": [
       "<div>\n",
       "<style scoped>\n",
       "    .dataframe tbody tr th:only-of-type {\n",
       "        vertical-align: middle;\n",
       "    }\n",
       "\n",
       "    .dataframe tbody tr th {\n",
       "        vertical-align: top;\n",
       "    }\n",
       "\n",
       "    .dataframe thead th {\n",
       "        text-align: right;\n",
       "    }\n",
       "</style>\n",
       "<table border=\"1\" class=\"dataframe\">\n",
       "  <thead>\n",
       "    <tr style=\"text-align: right;\">\n",
       "      <th></th>\n",
       "      <th>Name</th>\n",
       "      <th>email</th>\n",
       "      <th>Residence - Nextdoor Neighborhood</th>\n",
       "      <th>Unknown Neighborhood</th>\n",
       "      <th>Notes</th>\n",
       "      <th>Similar Nextdoor Neighborhood</th>\n",
       "    </tr>\n",
       "  </thead>\n",
       "  <tbody>\n",
       "    <tr>\n",
       "      <th>1</th>\n",
       "      <td>Anita Rosen</td>\n",
       "      <td>anita@readygo.com</td>\n",
       "      <td>Gemello</td>\n",
       "      <td>FALSE</td>\n",
       "      <td></td>\n",
       "      <td>[Gemello]</td>\n",
       "    </tr>\n",
       "  </tbody>\n",
       "</table>\n",
       "</div>"
      ],
      "text/plain": [
       "          Name              email Residence - Nextdoor Neighborhood  \\\n",
       "1  Anita Rosen  anita@readygo.com                           Gemello   \n",
       "\n",
       "  Unknown Neighborhood Notes Similar Nextdoor Neighborhood  \n",
       "1                FALSE                           [Gemello]  "
      ]
     },
     "execution_count": 58,
     "metadata": {},
     "output_type": "execute_result"
    }
   ],
   "source": [
    "df_contacts.head(1)"
   ]
  },
  {
   "cell_type": "code",
   "execution_count": 59,
   "metadata": {},
   "outputs": [
    {
     "data": {
      "text/html": [
       "<div>\n",
       "<style scoped>\n",
       "    .dataframe tbody tr th:only-of-type {\n",
       "        vertical-align: middle;\n",
       "    }\n",
       "\n",
       "    .dataframe tbody tr th {\n",
       "        vertical-align: top;\n",
       "    }\n",
       "\n",
       "    .dataframe thead th {\n",
       "        text-align: right;\n",
       "    }\n",
       "</style>\n",
       "<table border=\"1\" class=\"dataframe\">\n",
       "  <thead>\n",
       "    <tr style=\"text-align: right;\">\n",
       "      <th></th>\n",
       "      <th>Name</th>\n",
       "      <th>Nextdoor Neighborhood</th>\n",
       "      <th>Unknown Neighborhood</th>\n",
       "      <th>Similar Nextdoor Neighborhood</th>\n",
       "    </tr>\n",
       "  </thead>\n",
       "  <tbody>\n",
       "    <tr>\n",
       "      <th>0</th>\n",
       "      <td>Allie Judy</td>\n",
       "      <td>San Tomas</td>\n",
       "      <td>FALSE</td>\n",
       "      <td>[San Tomas]</td>\n",
       "    </tr>\n",
       "  </tbody>\n",
       "</table>\n",
       "</div>"
      ],
      "text/plain": [
       "         Name Nextdoor Neighborhood Unknown Neighborhood  \\\n",
       "0  Allie Judy             San Tomas                FALSE   \n",
       "\n",
       "  Similar Nextdoor Neighborhood  \n",
       "0                   [San Tomas]  "
      ]
     },
     "execution_count": 59,
     "metadata": {},
     "output_type": "execute_result"
    }
   ],
   "source": [
    "df_contact_neighborhood.head(1)"
   ]
  },
  {
   "cell_type": "code",
   "execution_count": 60,
   "metadata": {},
   "outputs": [
    {
     "data": {
      "text/plain": [
       "319"
      ]
     },
     "execution_count": 60,
     "metadata": {},
     "output_type": "execute_result"
    }
   ],
   "source": [
    "df_contact_neighborhood['Nextdoor Neighborhood'].nunique()"
   ]
  },
  {
   "cell_type": "code",
   "execution_count": 61,
   "metadata": {
    "collapsed": true
   },
   "outputs": [
    {
     "data": {
      "text/plain": [
       "Upper Sierra                        3\n",
       "Mccollam                            2\n",
       "Woodland Acres                      2\n",
       "Summerdale                          2\n",
       "Sunshine                            2\n",
       "Pollard Road                        2\n",
       "Piedmont                            2\n",
       "Old Mountain View                   2\n",
       "Remington                           2\n",
       "Cumberland South                    2\n",
       "Cuesta Park                         2\n",
       "Coyote Creek                        2\n",
       "Village Green                       2\n",
       "Varsity Park                        2\n",
       "Lowlanders                          2\n",
       "Somerset Knolls                     2\n",
       "Sunnyvale                           2\n",
       "North Los Gatos                     2\n",
       "Boulder                             2\n",
       "Rinconada Hills                     2\n",
       "Saratoga Village                    2\n",
       "Westgate Village                    2\n",
       "San Tomas                           2\n",
       "Los Gatos Woods                     2\n",
       "Rinconada                           2\n",
       "Los Altos Hills Town Hall Circle    2\n",
       "Sobrato                             2\n",
       "Noble                               2\n",
       "Knights Bridge                      2\n",
       "Penitencia                          2\n",
       "                                   ..\n",
       "Egan                                1\n",
       "South Clark                         1\n",
       "Primrose                            1\n",
       "Old Oak                             1\n",
       "North Village                       1\n",
       "Country Lane                        1\n",
       "Almond-Edith-Jardin                 1\n",
       "Paradise                            1\n",
       "Saratoga Place                      1\n",
       "Stonegate                           1\n",
       "St. John Vianney                    1\n",
       "Good Sam                            1\n",
       "Meadowlands                         1\n",
       "East Quimby Road Hill               1\n",
       "Piercy                              1\n",
       "Sepana Oaks                         1\n",
       "Hellyer-Christopher                 1\n",
       "Santa Rita Court                    1\n",
       "Starbird                            1\n",
       "Highland Park                       1\n",
       "Loyola Country Club-Zone 38         1\n",
       "Bellgrove                           1\n",
       "Country Club                        1\n",
       "Foothill/Main                       1\n",
       "Vasona                              1\n",
       "Hidden Glen                         1\n",
       "Sylvan Park                         1\n",
       "Americana                           1\n",
       "Evergreen                           1\n",
       "Rengstorff Park                     1\n",
       "Name: Nextdoor Neighborhood, Length: 319, dtype: int64"
      ]
     },
     "execution_count": 61,
     "metadata": {},
     "output_type": "execute_result"
    }
   ],
   "source": [
    "df_contact_neighborhood['Nextdoor Neighborhood'].value_counts()"
   ]
  },
  {
   "cell_type": "code",
   "execution_count": 62,
   "metadata": {},
   "outputs": [],
   "source": [
    "df_contacts.to_csv('mg_contacts_master.csv', index=False)\n",
    "df_contact_neighborhood.to_csv('mg_contact_neighborhood_master.csv', index=False)"
   ]
  },
  {
   "cell_type": "code",
   "execution_count": 65,
   "metadata": {},
   "outputs": [],
   "source": [
    "_GM_API_KEY = '#####'"
   ]
  },
  {
   "cell_type": "markdown",
   "metadata": {},
   "source": [
    "df_nextdoor_neighborhoods['Similar Google Neighborhood'] = 'None'\n",
    "df_nextdoor_neighborhoods['Google Place ID'] = 'None'"
   ]
  },
  {
   "cell_type": "markdown",
   "metadata": {},
   "source": [
    "import six.moves.urllib as urllib\n",
    "\n",
    "for index, row in df_nextdoor_neighborhoods.iterrows():\n",
    "    neighborhoodquery = urllib.parse.quote(row[\"Neighborhood\"] + ', ' +  row[\"City\"] + ', ' +  row[\"State\"], safe='')\n",
    "    print(neighborhoodquery)\n",
    "    response = requests.get('https://maps.googleapis.com/maps/api/place/findplacefromtext/json?input=' + neighborhoodquery + '&inputtype=textquery&fields=name,id,place_id,plus_code,types,geometry&key=' + _GM_API_KEY)\n",
    "    resp_json_payload = response.json()\n",
    "    print(resp_json_payload)                                           \n",
    "    for k, v in resp_json_payload.items():\n",
    "        print(k)\n",
    "        if ((k == 'candidates') & (len(v) > 0)):\n",
    "            for pair in v:\n",
    "                if (('neighborhood' == pair['types'][0]) or ('locality' in pair['types'][0])):\n",
    "                    if ('political' == pair['types'][1]):\n",
    "                        print(pair['name'])\n",
    "                        print(pair['place_id'])\n",
    "                        row[\"Similar Google Neighborhood\"] = pair['name']\n",
    "                        row[\"Google Place ID\"] = pair['place_id']"
   ]
  },
  {
   "cell_type": "code",
   "execution_count": 91,
   "metadata": {},
   "outputs": [
    {
     "data": {
      "text/html": [
       "<div>\n",
       "<style scoped>\n",
       "    .dataframe tbody tr th:only-of-type {\n",
       "        vertical-align: middle;\n",
       "    }\n",
       "\n",
       "    .dataframe tbody tr th {\n",
       "        vertical-align: top;\n",
       "    }\n",
       "\n",
       "    .dataframe thead th {\n",
       "        text-align: right;\n",
       "    }\n",
       "</style>\n",
       "<table border=\"1\" class=\"dataframe\">\n",
       "  <thead>\n",
       "    <tr style=\"text-align: right;\">\n",
       "      <th></th>\n",
       "      <th>State</th>\n",
       "      <th>County</th>\n",
       "      <th>City</th>\n",
       "      <th>Neighborhood</th>\n",
       "      <th>Link</th>\n",
       "      <th>Similar Google Neighborhood</th>\n",
       "      <th>Google Place ID</th>\n",
       "      <th>Hood Name</th>\n",
       "      <th>Hood ID</th>\n",
       "      <th>GeoJSON</th>\n",
       "      <th>Interests</th>\n",
       "      <th>Homeowners</th>\n",
       "      <th>Population</th>\n",
       "      <th>Average Age</th>\n",
       "      <th>Attributes</th>\n",
       "    </tr>\n",
       "  </thead>\n",
       "  <tbody>\n",
       "    <tr>\n",
       "      <th>1</th>\n",
       "      <td>CA</td>\n",
       "      <td>Santa Clara</td>\n",
       "      <td>San Jose</td>\n",
       "      <td>Albanese Circle</td>\n",
       "      <td>https://nextdoor.com/neighborhood/albanesecirc...</td>\n",
       "      <td>None</td>\n",
       "      <td>None</td>\n",
       "      <td>None</td>\n",
       "      <td>None</td>\n",
       "      <td>None</td>\n",
       "      <td>None</td>\n",
       "      <td>None</td>\n",
       "      <td>None</td>\n",
       "      <td>None</td>\n",
       "      <td>None</td>\n",
       "    </tr>\n",
       "    <tr>\n",
       "      <th>2</th>\n",
       "      <td>CA</td>\n",
       "      <td>Santa Clara</td>\n",
       "      <td>San Jose</td>\n",
       "      <td>Almaden</td>\n",
       "      <td>https://nextdoor.com/neighborhood/almadenca--s...</td>\n",
       "      <td>Almaden</td>\n",
       "      <td>ChIJ8RtyWWkwjoARKOALmJ4lSgU</td>\n",
       "      <td>None</td>\n",
       "      <td>None</td>\n",
       "      <td>None</td>\n",
       "      <td>None</td>\n",
       "      <td>None</td>\n",
       "      <td>None</td>\n",
       "      <td>None</td>\n",
       "      <td>None</td>\n",
       "    </tr>\n",
       "    <tr>\n",
       "      <th>3</th>\n",
       "      <td>CA</td>\n",
       "      <td>Santa Clara</td>\n",
       "      <td>San Jose</td>\n",
       "      <td>Alvin/Burdette</td>\n",
       "      <td>https://nextdoor.com/neighborhood/7alvinburdet...</td>\n",
       "      <td>Alvin - Burdette</td>\n",
       "      <td>ChIJn5Y5-ZUyjoARiM0tE09NqXY</td>\n",
       "      <td>None</td>\n",
       "      <td>None</td>\n",
       "      <td>None</td>\n",
       "      <td>None</td>\n",
       "      <td>None</td>\n",
       "      <td>None</td>\n",
       "      <td>None</td>\n",
       "      <td>None</td>\n",
       "    </tr>\n",
       "  </tbody>\n",
       "</table>\n",
       "</div>"
      ],
      "text/plain": [
       "  State       County      City     Neighborhood  \\\n",
       "1    CA  Santa Clara  San Jose  Albanese Circle   \n",
       "2    CA  Santa Clara  San Jose          Almaden   \n",
       "3    CA  Santa Clara  San Jose   Alvin/Burdette   \n",
       "\n",
       "                                                Link  \\\n",
       "1  https://nextdoor.com/neighborhood/albanesecirc...   \n",
       "2  https://nextdoor.com/neighborhood/almadenca--s...   \n",
       "3  https://nextdoor.com/neighborhood/7alvinburdet...   \n",
       "\n",
       "  Similar Google Neighborhood              Google Place ID Hood Name Hood ID  \\\n",
       "1                        None                         None      None    None   \n",
       "2                     Almaden  ChIJ8RtyWWkwjoARKOALmJ4lSgU      None    None   \n",
       "3            Alvin - Burdette  ChIJn5Y5-ZUyjoARiM0tE09NqXY      None    None   \n",
       "\n",
       "  GeoJSON Interests Homeowners Population Average Age Attributes  \n",
       "1    None      None       None       None        None       None  \n",
       "2    None      None       None       None        None       None  \n",
       "3    None      None       None       None        None       None  "
      ]
     },
     "execution_count": 91,
     "metadata": {},
     "output_type": "execute_result"
    }
   ],
   "source": [
    "df_nextdoor_neighborhoods.head(3)"
   ]
  },
  {
   "cell_type": "code",
   "execution_count": 69,
   "metadata": {},
   "outputs": [],
   "source": [
    "df_nextdoor_neighborhoods.to_csv('mg_nextdoor_with_google_master.csv', index=False)"
   ]
  },
  {
   "cell_type": "markdown",
   "metadata": {},
   "source": [
    "## Parsing geoJSON"
   ]
  },
  {
   "cell_type": "code",
   "execution_count": 75,
   "metadata": {},
   "outputs": [],
   "source": [
    "df_nextdoor_neighborhoods[\"Hood Name\"] = 'None'\n",
    "df_nextdoor_neighborhoods[\"Hood ID\"] = 'None'\n",
    "df_nextdoor_neighborhoods[\"GeoJSON\"] = 'None'\n",
    "df_nextdoor_neighborhoods[\"Interests\"] = 'None'\n",
    "df_nextdoor_neighborhoods[\"Homeowners\"] = 'None'\n",
    "df_nextdoor_neighborhoods[\"Population\"] = 'None'\n",
    "df_nextdoor_neighborhoods[\"Average Age\"] = 'None'\n",
    "df_nextdoor_neighborhoods['Attributes'] = 'None'"
   ]
  },
  {
   "cell_type": "code",
   "execution_count": 76,
   "metadata": {},
   "outputs": [
    {
     "name": "stdout",
     "output_type": "stream",
     "text": [
      "State                                                                         CA\n",
      "County                                                               Santa Clara\n",
      "City                                                                    San Jose\n",
      "Neighborhood                                                        Avana Skyway\n",
      "Link                           https://nextdoor.com/neighborhood/avanaskyway-...\n",
      "Similar Google Neighborhood                                                 None\n",
      "Google Place ID                                                             None\n",
      "Hood Name                                                                   None\n",
      "Hood ID                                                                     None\n",
      "GeoJSON                                                                     None\n",
      "Interests                                                                   None\n",
      "Homeowners                                                                  None\n",
      "Population                                                                  None\n",
      "Average Age                                                                 None\n",
      "Attributes                                                                  None\n",
      "Name: 11, dtype: object\n",
      "https://nextdoor.com/neighborhood/avanaskyway--san-jose--ca/\n"
     ]
    }
   ],
   "source": [
    "#for index, row in df_nextdoor_neighborhoods.iterrows():\n",
    "row = df_nextdoor_neighborhoods.iloc[10]\n",
    "print(row)\n",
    "neighborhood_lookup = row[\"Link\"]\n",
    "print(neighborhood_lookup)\n",
    "response = requests.get(neighborhood_lookup)\n",
    "responseTxt = response.text.encode('UTF-8')\n",
    "html_soup = BeautifulSoup(responseTxt, 'html.parser')"
   ]
  },
  {
   "cell_type": "code",
   "execution_count": 79,
   "metadata": {},
   "outputs": [
    {
     "name": "stdout",
     "output_type": "stream",
     "text": [
      "[{\"agencyName\": \"Santa Clara Valley Water District\", \"hostname\": \"avanaskyway\", \"subject\": \"Temporary Bay Trail Closure in East Palo Alto\", \"postId\": \"101458364\", \"urlSlug\": \"santa-clara-valley-water-district-1\", \"avatarPhoto\": \"https://d3926qxcw0e1bh.cloudfront.net/pages_avatar_photos/01/03/010310b823d05ffa89499baf1d1221f8.jpg\", \"groupId\": \"1458946\"}, {\"agencyName\": \"San Jos\\u00e9 City Council\", \"hostname\": \"avanaskyway\", \"subject\": \"Join CM Carrasco tomorrow! 1st Pancake Breakfast of the year!\", \"postId\": \"101447625\", \"urlSlug\": \"san-jose-city-council\", \"avatarPhoto\": \"https://d3926qxcw0e1bh.cloudfront.net/pages_avatar_photos/fc/92/fc923118a79f09820c9a021fc54a6087.jpg\", \"groupId\": \"533104\"}, {\"agencyName\": \"San Jos\\u00e9 City Council\", \"hostname\": \"avanaskyway\", \"subject\": \"Join me tomorrow! 1st Pancake Breakfast of the year!\", \"postId\": \"101447354\", \"urlSlug\": \"san-jose-city-council\", \"avatarPhoto\": \"https://d3926qxcw0e1bh.cloudfront.net/pages_avatar_photos/fc/92/fc923118a79f09820c9a021fc54a6087.jpg\", \"groupId\": \"533104\"}, {\"agencyName\": \"San Jos\\u00e9 City Council\", \"hostname\": \"avanaskyway\", \"subject\": \"Santa Clara County 2016 Measure B update\", \"postId\": \"101446036\", \"urlSlug\": \"san-jose-city-council\", \"avatarPhoto\": \"https://d3926qxcw0e1bh.cloudfront.net/pages_avatar_photos/fc/92/fc923118a79f09820c9a021fc54a6087.jpg\", \"groupId\": \"533104\"}, {\"agencyName\": \"City of San Jos\\u00e9\", \"hostname\": \"avanaskyway\", \"subject\": \"Learn About Constructing ADUs (Granny Flats) on February 2\", \"postId\": \"101445204\", \"urlSlug\": \"city-of-san-jose\", \"avatarPhoto\": \"https://d3926qxcw0e1bh.cloudfront.net/pages_avatar_photos/4e/06/4e0614dadf896a3bfdd2429416f80731.jpg\", \"groupId\": \"542761\"}],\n",
      "          agencyInfo: [{\"hostname\": \"avanaskyway\", \"postCount\": \"32160\", \"agencyName\": \"City of San Jos\\u00e9\", \"urlSlug\": \"city-of-san-jose\", \"avatarPhoto\": \"https://d3926qxcw0e1bh.cloudfront.net/pages_avatar_photos/4e/06/4e0614dadf896a3bfdd2429416f80731.jpg\", \"groupId\": \"542761\"}, {\"hostname\": \"avanaskyway\", \"postCount\": \"19514\", \"agencyName\": \"San Jos\\u00e9 City Council\", \"urlSlug\": \"san-jose-city-council\", \"avatarPhoto\": \"https://d3926qxcw0e1bh.cloudfront.net/pages_avatar_photos/fc/92/fc923118a79f09820c9a021fc54a6087.jpg\", \"groupId\": \"533104\"}, {\"hostname\": \"avanaskyway\", \"postCount\": \"9168\", \"agencyName\": \"San Jos\\u00e9 Police Department\", \"urlSlug\": \"san-jose-police-department\", \"avatarPhoto\": \"https://d3926qxcw0e1bh.cloudfront.net/pages_avatar_photos/c6/bf/c6bf1ff992743dcd771b3492ab5cf519.jpg\", \"groupId\": \"533084\"}, {\"hostname\": \"avanaskyway\", \"postCount\": \"8471\", \"agencyName\": \"Santa Clara County Sheriff\", \"urlSlug\": \"santa-clara-county-sheriff\", \"avatarPhoto\": \"https://d3926qxcw0e1bh.cloudfront.net/pages_avatar_photos/46/5d/465de869c4404e0ec10fc03dda5024f0.jpg\", \"groupId\": \"533171\"}, {\"hostname\": \"avanaskyway\", \"postCount\": \"4410\", \"agencyName\": \"Valley Transportation Authority\", \"urlSlug\": \"valley-transportation-authority\", \"avatarPhoto\": \"https://d3926qxcw0e1bh.cloudfront.net/pages_avatar_photos/82/d5/82d5f6e0d2a18453e7011e25c71d5582.png\", \"groupId\": \"618410\"}, {\"hostname\": \"avanaskyway\", \"postCount\": \"4168\", \"agencyName\": \"County of Santa Clara\", \"urlSlug\": \"county-of-santa-clara-office-of-public-affairs\", \"avatarPhoto\": \"https://d3926qxcw0e1bh.cloudfront.net/pages_avatar_photos/a5/c4/a5c47d514be1dc1984f98c77247cd237.jpg\", \"groupId\": \"691024\"}, {\"hostname\": \"avanaskyway\", \"postCount\": \"1693\", \"agencyName\": \"Santa Clara Valley Water District\", \"urlSlug\": \"santa-clara-valley-water-district-1\", \"avatarPhoto\": \"https://d3926qxcw0e1bh.cloudfront.net/pages_avatar_photos/01/03/010310b823d05ffa89499baf1d1221f8.jpg\", \"groupId\": \"1458946\"}, {\"hostname\": \"avanaskyway\", \"postCount\": \"667\", \"agencyName\": \"California Office of Emergency Services\", \"urlSlug\": \"state-of-california-4\", \"avatarPhoto\": \"https://d3926qxcw0e1bh.cloudfront.net/pages_avatar_photos/77/42/774237c0b3b3724ceeb88eeba6be92c6.png\", \"groupId\": \"16715694\"}, {\"hostname\": \"avanaskyway\", \"postCount\": \"216\", \"agencyName\": \"Santa Clara County District 1\", \"urlSlug\": \"santa-clara-county-district-1\", \"avatarPhoto\": \"https://d3926qxcw0e1bh.cloudfront.net/pages_avatar_photos/d0/64/d0642ae916aa90c3c4aa72ae95b9a87b.jpg\", \"groupId\": \"1430691\"}, {\"hostname\": \"avanaskyway\", \"postCount\": \"27\", \"agencyName\": \"Super Bowl 50 Host Committee\", \"urlSlug\": \"super-bowl-committee\", \"avatarPhoto\": \"https://d3926qxcw0e1bh.cloudfront.net/pages_avatar_photos/03/c8/03c8e05d3115b4645096257a38c2cbc6\", \"groupId\": \"1457782\"}, {\"hostname\": \"avanaskyway\", \"postCount\": \"25\", \"agencyName\": \"Santa Clara County Office of Emergency Services\", \"urlSlug\": \"santa-clara-county-office-of-emergency-services\", \"avatarPhoto\": \"https://d3926qxcw0e1bh.cloudfront.net/pages_avatar_photos/ba/d3/bad3352c2df1d39cd93db1b444138213.jpg\", \"groupId\": \"18951930\"}],\n",
      "          attributes: [\"Dog Friendly\", \"Friendly\", \"Clean\", \"Family Friendly\", \"Neighbors\", \"Walking\", \"Atmosphere\", \"Community\", \"Creek\", \"Diversity\"],\n",
      "          census: {\"homeowners\": \"47\", \"population\": \"2114\", \"age\": \"43\"},\n",
      "          city: \"San Jose\",\n",
      "          countryCodeToUrls: {\"US\": \"https://nextdoor.com?noredirect=True\", \"NL\": \"https://nextdoor.nl\", \"GB\": \"https://nextdoor.co.uk\", \"DE\": \"https://nextdoor.de\", \"FR\": \"https://fr.nextdoor.com\", \"IT\": \"https://it.nextdoor.com\", \"ES\": \"https://es.nextdoor.com\", \"AU\": \"https://au.nextdoor.com\", \"DK\": \"https://dk.nextdoor.com\", \"SE\": \"https://se.nextdoor.com\"},\n",
      "          currentCountry: CURRENT_COUNTRY,\n",
      "          events: null,\n",
      "          favoritesInfo: {\"hasFavorites\": false},\n",
      "          hostName: \"avanaskyway\",\n",
      "          interests: [\"Walking\", \"Hiking & Trails\", \"Dogs\", \"Seeing Live Music\", \"Volunteering\", \"Wine Tasting\", \"Cooking\", \"Family Activities\", \"Photography\", \"Baking\"],\n",
      "          iosUrl: \"https://itunes.apple.com/us/app/nextdoor/id640360962?ls=1&amp;mt=8\",\n",
      "          nearbyNeighborhoods: [{\"shortName\": \"Berry Park\", \"hostname\": \"10berrypark2\", \"city\": \"San Jose\", \"state\": \"CA\"}, {\"shortName\": \"Blossom Hill Homes\", \"hostname\": \"10blossomhillhomes\", \"city\": \"San Jose\", \"state\": \"CA\"}, {\"shortName\": \"Blossom Village\", \"hostname\": \"10blossomvillage\", \"city\": \"San Jose\", \"state\": \"CA\"}, {\"shortName\": \"Carson\", \"hostname\": \"10carsonsj\", \"city\": \"San Jose\", \"state\": \"CA\"}, {\"shortName\": \"Colony  Green\", \"hostname\": \"10colonygreen\", \"city\": \"San Jose\", \"state\": \"CA\"}, {\"shortName\": \"Del Robles\", \"hostname\": \"10delrobles\", \"city\": \"San Jose\", \"state\": \"CA\"}, {\"shortName\": \"Park Place\", \"hostname\": \"10parkplace\", \"city\": \"San Jose\", \"state\": \"CA\"}, {\"shortName\": \"Parkview\", \"hostname\": \"10parkview\", \"city\": \"San Jose\", \"state\": \"CA\"}, {\"shortName\": \"Playa Del Rey\", \"hostname\": \"10playadelreysanjose\", \"city\": \"San Jose\", \"state\": \"CA\"}, {\"shortName\": \"Vista  Park\", \"hostname\": \"10vistapark\", \"city\": \"San Jose\", \"state\": \"CA\"}, {\"shortName\": \"Hayes\", \"hostname\": \"2hayes\", \"city\": \"San Jose\", \"state\": \"CA\"}, {\"shortName\": \"Oak Grove\", \"hostname\": \"2oakgrovesanjose\", \"city\": \"San Jose\", \"state\": \"CA\"}, {\"shortName\": \"San  Ramon\", \"hostname\": \"2sanramon\", \"city\": \"San Jose\", \"state\": \"CA\"}, {\"shortName\": \"Rancho\", \"hostname\": \"7ranchosanjose\", \"city\": \"San Jose\", \"state\": \"CA\"}, {\"shortName\": \"Seven Trees\", \"hostname\": \"7seventrees\", \"city\": \"San Jose\", \"state\": \"CA\"}, {\"shortName\": \"Bella Villagio\", \"hostname\": \"bellavillagio\", \"city\": \"San Jose\", \"state\": \"CA\"}, {\"shortName\": \"California Hawaiian Estates\", \"hostname\": \"californiahawaiianestates\", \"city\": \"San Jose\", \"state\": \"CA\"}, {\"shortName\": \"Capitol Village - Baroni\", \"hostname\": \"capitolvillagebaroni\", \"city\": \"San Jose\", \"state\": \"CA\"}, {\"shortName\": \"Dolce Hayes\", \"hostname\": \"dolcehayes\", \"city\": \"San Jose\", \"state\": \"CA\"}, {\"shortName\": \"Eden Hill\", \"hostname\": \"edenhill\", \"city\": \"San Jose\", \"state\": \"CA\"}, {\"shortName\": \"Edenvale\", \"hostname\": \"edenvaleca\", \"city\": \"San Jose\", \"state\": \"CA\"}, {\"shortName\": \"Ellmar Oaks\", \"hostname\": \"ellmaroaks\", \"city\": \"San Jose\", \"state\": \"CA\"}, {\"shortName\": \"Frontier Village\", \"hostname\": \"frontiervillage\", \"city\": \"San Jose\", \"state\": \"CA\"}, {\"shortName\": \"Havens-Monterey-Edenvale\", \"hostname\": \"havensmontereyedenvale\", \"city\": \"San Jose\", \"state\": \"CA\"}, {\"shortName\": \"River View Skyway\", \"hostname\": \"riverviewskyway\", \"city\": \"San Jose\", \"state\": \"CA\"}, {\"shortName\": \"The Woods\", \"hostname\": \"thewoodsca\", \"city\": \"San Jose\", \"state\": \"CA\"}, {\"shortName\": \"Vistapark-Martial Cottle\", \"hostname\": \"vistaparkmartialcottle\", \"city\": \"San Jose\", \"state\": \"CA\"}],\n",
      "          neighborhoodGeometriesJSON: {\"type\": \"FeatureCollection\", \"features\": [{\"type\": \"Feature\", \"geometry\": {\"type\": \"MultiPolygon\", \"coordinates\": [[[[-121.8360515683695, 37.26602677202032], [-121.83610459616466, 37.268594418464495], [-121.83564294802147, 37.269459849542486], [-121.83517055787303, 37.26970890275868], [-121.8350307616426, 37.26954813424238], [-121.83474044034551, 37.26933759003701], [-121.83429927262011, 37.26907872226406], [-121.8331883202012, 37.268711473979835], [-121.83260308074921, 37.26847229522604], [-121.83218950267411, 37.268207501384175], [-121.8318325099317, 37.26790007233028], [-121.83162719147037, 37.26766951382514], [-121.83143906919531, 37.267377073816505], [-121.83124021808413, 37.26704194146938], [-121.83115365210756, 37.2666619745875], [-121.83111072948645, 37.26599701818959], [-121.83099270501282, 37.263684119568765], [-121.83831246442287, 37.26350892516025], [-121.83830308219552, 37.265999957023055], [-121.8360515683695, 37.26602677202032]]]]}, \"properties\": {\"hood_id\": 322348, \"hood_name\": \"Avana Skyway\", \"fill\": \"#00b246\", \"stroke\": \"#00b246\", \"fill-opacity\": 0.45}}, {\"type\": \"Feature\", \"geometry\": {\"type\": \"MultiPolygon\", \"coordinates\": [[[[-121.83699970441677, 37.27342245329562], [-121.83038285666015, 37.27344147165533], [-121.82896005955195, 37.27246012434002], [-121.83124295873398, 37.27041192773851], [-121.83170601776925, 37.27011396438045], [-121.83153071105897, 37.269909916997925], [-121.83149879572295, 37.26833972957125], [-121.83167585541446, 37.26800897836], [-121.83185291510603, 37.267908755956775], [-121.83218551749803, 37.2682049474521], [-121.83260395057846, 37.268475523545504], [-121.83316722294569, 37.26870767743262], [-121.83383778367352, 37.268914216516414], [-121.83383795315603, 37.26891258565532], [-121.83431401199527, 37.269076294775545], [-121.83472569781821, 37.269325383429425], [-121.8350193664445, 37.26954885738726], [-121.8352915773986, 37.26984063411841], [-121.83758372298132, 37.27315543556455], [-121.83699970441677, 37.27342245329562], [-121.83699970441677, 37.27342245329562], [-121.83699970441677, 37.27342245329562]]]]}, \"properties\": {\"hood_id\": 182946, \"hood_name\": \"Berry Park\", \"fill\": \"#67C2A5\", \"stroke\": \"#67C2A5\", \"fill-opacity\": 0.45}}, {\"type\": \"Feature\", \"geometry\": {\"type\": \"MultiPolygon\", \"coordinates\": [[[[-121.84278227477262, 37.254974003832274], [-121.83996227134372, 37.25500861488878], [-121.83997537408851, 37.25405862058821], [-121.83578174179507, 37.25410417152173], [-121.83575006156235, 37.25098132701665], [-121.83694901367448, 37.25076956253645], [-121.84245131069872, 37.25344219984745], [-121.84278227477262, 37.254974003832274], [-121.84278227477262, 37.254974003832274], [-121.84278227477262, 37.254974003832274]]]]}, \"properties\": {\"hood_id\": 170220, \"hood_name\": \"Blossom Hill Homes\", \"fill\": \"#67C2A5\", \"stroke\": \"#67C2A5\", \"fill-opacity\": 0.45}}, {\"type\": \"Feature\", \"geometry\": {\"type\": \"MultiPolygon\", \"coordinates\": [[[[-121.83413810188654, 37.25401763215795], [-121.83411907692044, 37.25311610929816], [-121.8351407490523, 37.253115532242745], [-121.83514909451105, 37.25400615500221], [-121.83413810188654, 37.25401763215795]]]]}, \"properties\": {\"hood_id\": 155750, \"hood_name\": \"Blossom Village\", \"fill\": \"#67C2A5\", \"stroke\": \"#67C2A5\", \"fill-opacity\": 0.45}}, {\"type\": \"Feature\", \"geometry\": {\"type\": \"MultiPolygon\", \"coordinates\": [[[[-121.86314216615165, 37.27461073664113], [-121.86188527989805, 37.27447944592068], [-121.86110046243107, 37.274442073042565], [-121.86035543212898, 37.27443043561924], [-121.85927496610032, 37.274437535435375], [-121.85465398417193, 37.2745470840692], [-121.84982952449866, 37.274594217498866], [-121.84979293972526, 37.27242727288935], [-121.84971694693803, 37.272134673030315], [-121.849611286955, 37.271875523869525], [-121.84656916581679, 37.26590334653383], [-121.84731367750061, 37.26587099856733], [-121.84799844413646, 37.265837228775666], [-121.84853291681839, 37.26581091680343], [-121.84958237363128, 37.265613837851944], [-121.85035287388632, 37.265521253353214], [-121.85146669689527, 37.26552259241172], [-121.8536351199715, 37.26582316760373], [-121.85447316737645, 37.26593589829198], [-121.8551706795298, 37.26598239360709], [-121.85580701993968, 37.26597330187408], [-121.85906160517379, 37.26596210278129], [-121.85948145859686, 37.26758662567601], [-121.85976733198663, 37.268321041818744], [-121.86010688624305, 37.26898407439269], [-121.86045361390961, 37.26948834692667], [-121.8609037648622, 37.270042643664176], [-121.86137187690281, 37.270683684636914], [-121.86189364808985, 37.27143502172705], [-121.86227642254335, 37.272054760664666], [-121.86256367691601, 37.27259135828711], [-121.86280858014084, 37.27330355819361], [-121.86297301597625, 37.27389234217862], [-121.86313745181178, 37.27460065064306], [-121.86314216615165, 37.27461073664113], [-121.86314216615165, 37.27461073664113]]]]}, \"properties\": {\"hood_id\": 1740, \"hood_name\": \"Carson\", \"fill\": \"#67C2A5\", \"stroke\": \"#67C2A5\", \"fill-opacity\": 0.45}}, {\"type\": \"Feature\", \"geometry\": {\"type\": \"MultiPolygon\", \"coordinates\": [[[[-121.84296843665373, 37.25901123574521], [-121.84031487434032, 37.259015986016465], [-121.8402988671279, 37.25828534029487], [-121.84045534482834, 37.25774533117827], [-121.84043470595458, 37.25594295965149], [-121.8405748695236, 37.25536042105384], [-121.8405849407244, 37.255000716271816], [-121.84278227477262, 37.254974003832274], [-121.84325974530651, 37.257106653628135], [-121.84354562789844, 37.25755150430286], [-121.84296061046746, 37.25868357844244], [-121.84296843665373, 37.25901123574521], [-121.84296843665373, 37.25901123574521]]]]}, \"properties\": {\"hood_id\": 170221, \"hood_name\": \"Colony  Green\", \"fill\": \"#67C2A5\", \"stroke\": \"#67C2A5\", \"fill-opacity\": 0.45}}, {\"type\": \"Feature\", \"geometry\": {\"type\": \"MultiPolygon\", \"coordinates\": [[[[-121.84031487434032, 37.259015986016465], [-121.8326404809477, 37.25901031101274], [-121.83181479832024, 37.2587509767178], [-121.83094112468126, 37.25874303961868], [-121.83082572156428, 37.251273755778136], [-121.83349173944845, 37.251266317178285], [-121.83464235817746, 37.25116865746883], [-121.83575410934492, 37.25099172673684], [-121.83575006156235, 37.251241798511096], [-121.83576871045665, 37.253093207163076], [-121.83514171245724, 37.25311998885189], [-121.83412311194161, 37.253121151071916], [-121.8341371618967, 37.25401685423951], [-121.83515269746385, 37.2540078281574], [-121.83514548111657, 37.253123718695726], [-121.83576858388773, 37.2530978560447], [-121.83578174179507, 37.25410417152173], [-121.83997537408851, 37.25405862058821], [-121.83996227134372, 37.25500861488878], [-121.8405849407244, 37.255000716271816], [-121.8405748695236, 37.25536042105384], [-121.84043470595458, 37.25594295965149], [-121.84045534482834, 37.25774533117827], [-121.8402988671279, 37.25828534029487], [-121.84031487434032, 37.259015986016465], [-121.84031487434032, 37.259015986016465], [-121.84031487434032, 37.259015986016465], [-121.84031487434032, 37.259015986016465]]]]}, \"properties\": {\"hood_id\": 170222, \"hood_name\": \"Del Robles\", \"fill\": \"#67C2A5\", \"stroke\": \"#67C2A5\", \"fill-opacity\": 0.45}}, {\"type\": \"Feature\", \"geometry\": {\"type\": \"MultiPolygon\", \"coordinates\": [[[[-121.83165928559964, 37.26801537939611], [-121.8316591278857, 37.26801581677803], [-121.83150089788398, 37.26834787322138], [-121.8315001580209, 37.26835003035562], [-121.83149992612005, 37.26835229902208], [-121.831519022566, 37.269891296052194], [-121.8315192403872, 37.26989325140972], [-121.83151983683388, 37.269895126275166], [-121.83152078881847, 37.26989684807495], [-121.83169900320286, 37.270134131526156], [-121.83133294677941, 37.27034139463027], [-121.82895984599168, 37.27246115712966], [-121.8246832839339, 37.26938333683985], [-121.82466440329677, 37.26617061979949], [-121.8253405412404, 37.26604584811916], [-121.8311231513909, 37.26600077898902], [-121.83115504526569, 37.266683445383364], [-121.83124609405547, 37.26704185274775], [-121.8314096356471, 37.26734059081326], [-121.83163088131164, 37.26766072305232], [-121.83183806366844, 37.26790617016012], [-121.83165900792716, 37.268015006469064], [-121.83165928559964, 37.26801537939611], [-121.83165928559964, 37.26801537939611], [-121.83165928559964, 37.26801537939611]]]]}, \"properties\": {\"hood_id\": 170042, \"hood_name\": \"Park Place\", \"fill\": \"#67C2A5\", \"stroke\": \"#67C2A5\", \"fill-opacity\": 0.45}}, {\"type\": \"Feature\", \"geometry\": {\"type\": \"MultiPolygon\", \"coordinates\": [[[[-121.84733042075891, 37.27323730912491], [-121.84732616808958, 37.27323825271329], [-121.84732420444891, 37.27323436431117], [-121.8464685780225, 37.27344502914228], [-121.84602333045063, 37.273490598778075], [-121.84530449755937, 37.273493480841466], [-121.84465003680907, 37.27378098229641], [-121.8440733601202, 37.274179469372754], [-121.84406925710778, 37.27418127569801], [-121.84406539175995, 37.274179004881496], [-121.84298624298049, 37.27339918360302], [-121.84296801623645, 37.27338873529427], [-121.84294800879081, 37.27338232565509], [-121.84292710373501, 37.273380237595006], [-121.83797756954266, 37.27340838448702], [-121.83797295335103, 37.273407962156405], [-121.83796995227772, 37.27340442928968], [-121.83774095351902, 37.273430038922605], [-121.83757632777667, 37.27316537245267], [-121.83556634223214, 37.270245471266705], [-121.83517641093255, 37.26970757999306], [-121.83562733416579, 37.26947978102128], [-121.83609971507116, 37.2685860150065], [-121.83604878426223, 37.26602740296853], [-121.84657296082037, 37.26590509870344], [-121.84973281307975, 37.2721215743719], [-121.84978111801848, 37.272265480572955], [-121.84980260086718, 37.27244780584407], [-121.84733042075891, 37.27323730912491], [-121.84733042075891, 37.27323730912491], [-121.84733042075891, 37.27323730912491]]]]}, \"properties\": {\"hood_id\": 170041, \"hood_name\": \"Parkview\", \"fill\": \"#67C2A5\", \"stroke\": \"#67C2A5\", \"fill-opacity\": 0.45}}, {\"type\": \"Feature\", \"geometry\": {\"type\": \"MultiPolygon\", \"coordinates\": [[[[-121.85891236721955, 37.25033001567477], [-121.85295669926325, 37.2503281235563], [-121.84889963336792, 37.25055662046267], [-121.84179557803168, 37.25058015433331], [-121.83867149417705, 37.25065418202774], [-121.83694215901, 37.25076237001149], [-121.8424527956218, 37.253455323384166], [-121.84403235550087, 37.25421621467454], [-121.84501110056067, 37.25463551307222], [-121.84590401493199, 37.25489682633306], [-121.8467969293032, 37.25508982193402], [-121.84764692833028, 37.25524011914755], [-121.84841109666883, 37.25527086207059], [-121.85890180848969, 37.255482646796935], [-121.85891236721955, 37.25033001567477], [-121.85891236721955, 37.25033001567477]]]]}, \"properties\": {\"hood_id\": 35469, \"hood_name\": \"Playa Del Rey\", \"fill\": \"#67C2A5\", \"stroke\": \"#67C2A5\", \"fill-opacity\": 0.45}}, {\"type\": \"Feature\", \"geometry\": {\"type\": \"MultiPolygon\", \"coordinates\": [[[[-121.85851571273525, 37.265590315769025], [-121.8585152652205, 37.26559039801272], [-121.85671771895252, 37.265738104754575], [-121.85671730361729, 37.265738103694986], [-121.85671691215451, 37.26573796490989], [-121.85666507613577, 37.265714489650385], [-121.85666472835253, 37.26571429717649], [-121.85666441578934, 37.2657140516086], [-121.8565065938483, 37.26556815164067], [-121.8565051309944, 37.26556703058186], [-121.85650348725102, 37.26556619702204], [-121.85638829226453, 37.26552058183343], [-121.85638656209873, 37.265520071694446], [-121.85638476843611, 37.26551988067112], [-121.85638296963738, 37.265520014978804], [-121.85628294497226, 37.265536654017936], [-121.8562810625959, 37.265537159713766], [-121.8562793140729, 37.26553802095499], [-121.85627776583091, 37.26553920502247], [-121.85620338898116, 37.2656085644982], [-121.85620219007727, 37.2656099033433], [-121.85620125017685, 37.265611435160494], [-121.85620059963753, 37.265613110474], [-121.8561663744761, 37.265731949971695], [-121.8561660405289, 37.26573365476969], [-121.85616600665858, 37.265735391637484], [-121.85616895664327, 37.265779047429184], [-121.85616894580578, 37.265779492789854], [-121.85616870348181, 37.265779866611666], [-121.85614928436271, 37.26580453287294], [-121.85614897169408, 37.26580486205262], [-121.8561485609572, 37.26580505548525], [-121.85610967401465, 37.265819135176756], [-121.85610923092523, 37.2658192505288], [-121.85610877416502, 37.265819282223276], [-121.85553285487448, 37.265805789864224], [-121.85553236195892, 37.26580572773901], [-121.85553193410482, 37.2658054752193], [-121.85549485937231, 37.265778150816104], [-121.85549452092141, 37.26577784931505], [-121.85549431454552, 37.26577744575499], [-121.85545880152286, 37.265688565605664], [-121.85545789748794, 37.26568682257824], [-121.8554566702861, 37.26568528980318], [-121.85545516723117, 37.26568402637546], [-121.85545344627228, 37.26568308100558], [-121.85537511719264, 37.265649594782154], [-121.85537348297304, 37.2656490570877], [-121.85537178077588, 37.265648807460195], [-121.85537006098264, 37.26564885328808], [-121.85536837449553, 37.26564919321495], [-121.85529123641322, 37.265671794541255], [-121.85528945952078, 37.26567250604806], [-121.85528785073822, 37.26567354306659], [-121.85528646900477, 37.26567486760475], [-121.85528536494141, 37.26567643113692], [-121.85523409447987, 37.26576618869227], [-121.85523386412787, 37.26576652413844], [-121.85523353724965, 37.26576676649513], [-121.85518345391256, 37.26579783427475], [-121.85518301209696, 37.265798050088605], [-121.8551825210283, 37.26579807515248], [-121.85463447836842, 37.26577073182552], [-121.85463406931352, 37.26577067674705], [-121.85463370128649, 37.26577048988975], [-121.85459554841162, 37.26574689811594], [-121.85459518570835, 37.2657466237289], [-121.85459502547478, 37.26574619809165], [-121.85458482737755, 37.265708796891055], [-121.8545847438703, 37.26570827570688], [-121.85458477329031, 37.265707748695625], [-121.85462128947822, 37.265485831607585], [-121.85462138975895, 37.265485432547955], [-121.85462155468241, 37.26548505557943], [-121.8546635507276, 37.26540735651862], [-121.85466412896544, 37.265406508752754], [-121.85475660169536, 37.265297092125905], [-121.854757305618, 37.26529640870736], [-121.85483070240248, 37.26523800717795], [-121.85483200057503, 37.26523676850705], [-121.85483305648987, 37.265235317782604], [-121.8548338361512, 37.26523370171151], [-121.85483431445739, 37.265231972324116], [-121.85484781898948, 37.2651577566172], [-121.85484798003796, 37.26515586601059], [-121.85484778107158, 37.26515397901764], [-121.85484722925379, 37.265152163576346], [-121.85484634445184, 37.26515048504857], [-121.85481815922873, 37.26510747750057], [-121.8548169032204, 37.26510592479224], [-121.85481536371624, 37.265104652633816], [-121.85481360211877, 37.265103711764844], [-121.85469396134432, 37.26505445847626], [-121.85469357657409, 37.265054259059], [-121.8546932324693, 37.26505399560659], [-121.85448931413009, 37.2648674065063], [-121.85448899925076, 37.26486709148161], [-121.85443856732344, 37.26481192465292], [-121.85443786259899, 37.26481093383247], [-121.85439629806902, 37.26473410122737], [-121.85439493924419, 37.26473217382097], [-121.85439316684541, 37.264730618217236], [-121.8543614492064, 37.26470881827006], [-121.85435970086287, 37.26470785800973], [-121.85435779671339, 37.264707263855115], [-121.85430157984874, 37.26469571839], [-121.85429936805116, 37.26469551594455], [-121.85429716612205, 37.264695806703656], [-121.85421522770197, 37.26471608170084], [-121.85421355228712, 37.264716657956505], [-121.8542120048651, 37.26471752084157], [-121.85421063401083, 37.26471864326934], [-121.85418151061741, 37.26474715530266], [-121.85418028084561, 37.26474861396007], [-121.85417935048152, 37.264750279625936], [-121.85417875339054, 37.26475209166967], [-121.85416911211215, 37.264794652753984], [-121.85416886637441, 37.26479669674353], [-121.85416904440677, 37.264798747739576], [-121.85416963866375, 37.26480071881516], [-121.85419339247048, 37.264857543965675], [-121.85419422268, 37.2648591190522], [-121.85419531905917, 37.26486052194139], [-121.85419664685121, 37.264861708159614], [-121.85419816396318, 37.26486264010204], [-121.85431247743242, 37.26491952110156], [-121.85431281310508, 37.26491972264295], [-121.85431311288285, 37.264919974493], [-121.85459147694294, 37.265194105627025], [-121.85459176661514, 37.26519445006958], [-121.85459174352647, 37.2651948995332], [-121.85458489539187, 37.2652417491756], [-121.85458474485479, 37.26524230785235], [-121.85458446780515, 37.26524281581366], [-121.85446562498231, 37.26541021164233], [-121.85446460531469, 37.265412020208714], [-121.85446398109116, 37.26541400035502], [-121.85440840641586, 37.26568622545927], [-121.85440825465798, 37.26568670726444], [-121.85440792151049, 37.26568708697435], [-121.85437038597546, 37.265721835813935], [-121.85436996359587, 37.265722148400215], [-121.85436943825036, 37.26572213714126], [-121.8536837644331, 37.265631667813814], [-121.85368328742531, 37.26563155464936], [-121.85368296145256, 37.265631188474075], [-121.85365403813022, 37.26559115320908], [-121.85365378760085, 37.26559071455263], [-121.85365395357428, 37.265590237439156], [-121.85369285255413, 37.26550792889515], [-121.85369309747269, 37.265507518746524], [-121.85369341674689, 37.265507163400216], [-121.85379324232609, 37.26541564927893], [-121.85379451412298, 37.26541423869003], [-121.85379549628333, 37.265412613085694], [-121.85379615337835, 37.26541083110519], [-121.85381034230942, 37.265357097555466], [-121.85381066470194, 37.2653549689652], [-121.85381052402893, 37.265352820699725], [-121.85380992681033, 37.265350752327564], [-121.85380890072622, 37.26534885971432], [-121.85375972793733, 37.265277696429244], [-121.85375824390223, 37.26527599657448], [-121.85375641652386, 37.2652746727336], [-121.8537543388499, 37.265273792314794], [-121.85370356103165, 37.2652587640902], [-121.85370183411962, 37.265258414856966], [-121.85370007271973, 37.265258374120855], [-121.85369833150916, 37.26525864314641], [-121.85369666453838, 37.26525921358256], [-121.85357445809832, 37.26531348250187], [-121.85357271755615, 37.26531447507122], [-121.85357120982987, 37.26531579470846], [-121.85356999544986, 37.26531738843434], [-121.85356912316963, 37.26531919226587], [-121.85355623631143, 37.26535448869735], [-121.85355576453888, 37.26535628232607], [-121.85355563209947, 37.26535813222691], [-121.85355584354866, 37.265359974769325], [-121.8535672486821, 37.26541424913477], [-121.85356730071284, 37.26541476231747], [-121.85356713684797, 37.26541525141059], [-121.85349122207367, 37.26558105712762], [-121.85349098326506, 37.265581467870156], [-121.85349060649531, 37.2655817573239], [-121.8534376357095, 37.265614805927896], [-121.85343725895387, 37.26561499776731], [-121.8534368366985, 37.265614976610756], [-121.85166497405828, 37.265370880679725], [-121.85166458413211, 37.265370794503326], [-121.85166421309566, 37.26537064685254], [-121.85152880945532, 37.26530367247182], [-121.8515266074525, 37.26530288809708], [-121.85152428351549, 37.265302636349396], [-121.8514626310383, 37.26530320585387], [-121.85146074939284, 37.26530340219996], [-121.85145893840016, 37.26530394941743], [-121.85138578683204, 37.26533386287281], [-121.85138531792845, 37.26533400173188], [-121.85138483202444, 37.265333946508484], [-121.85123555805342, 37.26530159367584], [-121.85123407504345, 37.26530138696148], [-121.85123257779293, 37.26530140399936], [-121.85115428679548, 37.26530817863298], [-121.85115212895265, 37.265308608303876], [-121.85105081746023, 37.26534070218916], [-121.8510504238997, 37.26534079237422], [-121.85105002091954, 37.265340817480556], [-121.8506024101685, 37.265332177799245], [-121.85060202952357, 37.2653321409777], [-121.85060165905716, 37.265332046103865], [-121.8505533388281, 37.26531561174836], [-121.85055284406143, 37.26531537835075], [-121.85055250081754, 37.26531495237866], [-121.85053395884643, 37.265285724283686], [-121.85053376823886, 37.26528535957861], [-121.85053370810023, 37.26528495248602], [-121.85052383552892, 37.26512829088094], [-121.85052395118988, 37.26512686773414], [-121.85055108877873, 37.26500836457304], [-121.85055132800501, 37.26500664408556], [-121.85055126589604, 37.26500490815674], [-121.85055090432581, 37.265003209164874], [-121.85055025420401, 37.26500159837376], [-121.85052526345068, 37.264952470166385], [-121.85052430673136, 37.26495094639042], [-121.85052309244782, 37.26494961871556], [-121.8505216599089, 37.26494853012136], [-121.85052005548886, 37.264947715847846], [-121.85042704279425, 37.26491061266037], [-121.85042529617591, 37.26491009459611], [-121.85042348455316, 37.264909902010615], [-121.85042166805493, 37.264910041295934], [-121.85034456378324, 37.26492309793678], [-121.85034225727655, 37.26492378203271], [-121.85034018090566, 37.26492499720524], [-121.85029757426081, 37.264957392193054], [-121.85029604911269, 37.264958827263115], [-121.8502948562818, 37.26496054850027], [-121.85027739651177, 37.26499242367464], [-121.85027672130175, 37.264993944553815], [-121.8502763076407, 37.26499555634368], [-121.85027616698282, 37.26499721441406], [-121.85027609764491, 37.26504926729612], [-121.85027630222518, 37.265051293059656], [-121.85027691288117, 37.265053235395946], [-121.85031824269399, 37.26514922158965], [-121.8503183858396, 37.26514966513071], [-121.85031844319072, 37.26515012765654], [-121.85032295369083, 37.26530584211663], [-121.85032292716171, 37.26530627517808], [-121.85032262131463, 37.26530658291747], [-121.8502772516342, 37.26534466876692], [-121.85027685485069, 37.26534494014399], [-121.85027638430125, 37.26534503845958], [-121.84966273328673, 37.2654112621501], [-121.84966214823555, 37.26541125516614], [-121.84966158144978, 37.26541110995086], [-121.84959429619184, 37.265384993004346], [-121.84959260921974, 37.265384503680856], [-121.84959086265398, 37.265384317078556], [-121.84952021053859, 37.26538301006206], [-121.8495181424744, 37.26538318725547], [-121.84951615553966, 37.26538378756989], [-121.8494102781731, 37.265428225165536], [-121.84940885410279, 37.265428962290706], [-121.84940756616146, 37.26542991755864], [-121.84937347593268, 37.265459722550524], [-121.84937312397786, 37.26545997896898], [-121.84937270481764, 37.26546009698334], [-121.84917005143474, 37.265498157364846], [-121.84916958366462, 37.265498198320806], [-121.84916922427878, 37.26549789611537], [-121.8475894294136, 37.26387939912663], [-121.84758863369666, 37.26387866755034], [-121.84748439132856, 37.263792745602785], [-121.8474825291127, 37.26379153096556], [-121.84748044454332, 37.26379075781485], [-121.8474127001027, 37.26377390883123], [-121.84740990163847, 37.26377362059426], [-121.84733042339874, 37.263776681633146], [-121.84732777407744, 37.26377714564842], [-121.84705596985665, 37.26386369607218], [-121.84705484393136, 37.263863916018], [-121.84700133001328, 37.26386807474306], [-121.84700078731959, 37.26386805685115], [-121.84700026175067, 37.26386792041845], [-121.84693058861514, 37.26384133682756], [-121.84692878534517, 37.26384083622789], [-121.84692692037946, 37.2638406803897], [-121.84686101757951, 37.263841362056475], [-121.84685934503639, 37.26384152048907], [-121.84685772262011, 37.26384195668495], [-121.84685619612343, 37.26384265833248], [-121.84674332380378, 37.26390652954918], [-121.84674285224055, 37.26390673476975], [-121.84674234836461, 37.26390683770873], [-121.84636668856461, 37.263943408902236], [-121.8463649004606, 37.263943749424286], [-121.84591127604637, 37.26407385828547], [-121.84590957451928, 37.264074519668306], [-121.84590802157945, 37.264075479355505], [-121.84578680697574, 37.264166663227726], [-121.84578568480251, 37.26416764668913], [-121.8457847214585, 37.26416878617911], [-121.84574001538824, 37.264230470113624], [-121.84573921172019, 37.26423178026803], [-121.84573861832096, 37.26423319810592], [-121.8456912481381, 37.26437640766975], [-121.84569081709428, 37.264378326752166], [-121.84569077002189, 37.26438029308384], [-121.84570190707008, 37.2645293677033], [-121.84570223835357, 37.264531278362014], [-121.84572511866058, 37.26461434142198], [-121.84572586384208, 37.26461625366187], [-121.84618238459929, 37.26550530358231], [-121.8461825640261, 37.26550575938206], [-121.8461826499394, 37.26550624163331], [-121.84618899514959, 37.265588548429754], [-121.84618897461064, 37.2655891004782], [-121.84618871282133, 37.26558958694063], [-121.84614559053988, 37.26565157192232], [-121.84614520871635, 37.2656520026797], [-121.84614473713927, 37.265652332764496], [-121.84608491574693, 37.26568449288978], [-121.846084543271, 37.26568465532049], [-121.84608414926274, 37.26568475471662], [-121.84602728161029, 37.26569422742927], [-121.84602650256463, 37.265694295111224], [-121.84504364730495, 37.26570241531519], [-121.84504319687308, 37.26570237298607], [-121.84504326639492, 37.26570192594312], [-121.8454588821284, 37.26411560376959], [-121.8454590481281, 37.26411515493847], [-121.84545937301627, 37.26411480357967], [-121.84553555735818, 37.264047101569865], [-121.84553740986806, 37.26404490220218], [-121.84561739843399, 37.26391609754919], [-121.84561825869153, 37.26391435404626], [-121.84561876532746, 37.26391247703652], [-121.84564294780816, 37.26376837976061], [-121.84564308492342, 37.2637665984463], [-121.845642902876, 37.263764821161864], [-121.84561620632671, 37.26362713850104], [-121.8456161626735, 37.263626589107936], [-121.84561624240136, 37.263626043780675], [-121.84625645334246, 37.26119404842661], [-121.84625695058111, 37.261192836540005], [-121.84631264383171, 37.261095859964264], [-121.84631339796987, 37.26109421953847], [-121.84631384485196, 37.2610924702479], [-121.84631396991091, 37.26109066911454], [-121.8463117339625, 37.26098458665782], [-121.84631175497799, 37.26098420790069], [-121.84631183347416, 37.26098383677129], [-121.84641056152577, 37.26064677450388], [-121.84641079977622, 37.26064612950078], [-121.8464828407363, 37.26048598524567], [-121.8464834334615, 37.26048426355294], [-121.84648370416564, 37.260482462922965], [-121.84649267686396, 37.260328072296936], [-121.84649286687126, 37.26032696921641], [-121.84665845857208, 37.25975776449256], [-121.84665859482207, 37.259757361081746], [-121.84685190662469, 37.25925647647934], [-121.84685238770679, 37.259255539131466], [-121.84693642661091, 37.25912727824064], [-121.84693730380603, 37.25912561769259], [-121.84693785505893, 37.25912382241786], [-121.84696813959096, 37.25897734565169], [-121.84696840055197, 37.25897648432948], [-121.84813549818811, 37.25609212742162], [-121.8481359745502, 37.25609122735125], [-121.84817836023458, 37.256027793434946], [-121.84817931254986, 37.2560259957532], [-121.84817988134517, 37.2560240425415], [-121.84819737639981, 37.255928701056156], [-121.84819772061668, 37.25592758437759], [-121.84833101113234, 37.25562631274324], [-121.8483312480887, 37.255625897363025], [-121.84833172603268, 37.25562588128292], [-121.85256007335585, 37.255914887363886], [-121.85256046555767, 37.255914952679746], [-121.85256020238442, 37.255915250720385], [-121.85223931786732, 37.256214586574686], [-121.85223894298746, 37.25621487188613], [-121.85223850054753, 37.25621471007015], [-121.85213924234012, 37.25616667212132], [-121.85213755686776, 37.2561660366378], [-121.85213578473532, 37.256165713833], [-121.85213398344239, 37.25616571418081], [-121.8520447488428, 37.25617380123105], [-121.85204257480171, 37.256174245455995], [-121.85204055224648, 37.25617515817765], [-121.85198886061578, 37.25620579952728], [-121.85198720299145, 37.25620702980632], [-121.85198583329456, 37.25620857422703], [-121.85195984603023, 37.25624481339689], [-121.85195872154247, 37.256246843638586], [-121.85195809534498, 37.25624907841615], [-121.85194765800469, 37.25631505609365], [-121.85194755403838, 37.25631547290306], [-121.85194731337984, 37.25631582874377], [-121.85188329255462, 37.256394642426635], [-121.8518827733287, 37.25639519100733], [-121.85135417449168, 37.2568751103656], [-121.8513538192763, 37.25687544914055], [-121.85117805787567, 37.25705151322993], [-121.85117642493442, 37.25705366554094], [-121.85112011365591, 37.25715350457605], [-121.85111929545403, 37.257155382175895], [-121.85111887694832, 37.25715738709197], [-121.8511188756944, 37.25715943522134], [-121.8511299973284, 37.25726812023862], [-121.851130315029, 37.25726979602391], [-121.8511309128948, 37.25727139344261], [-121.85113177353276, 37.25727286602277], [-121.85119607033148, 37.25736402591186], [-121.85119718615461, 37.257365348232824], [-121.85119851320644, 37.25736645842533], [-121.8512996227595, 37.25743713126253], [-121.85129991956532, 37.25743737498498], [-121.85130017520456, 37.25743766159074], [-121.85138940143426, 37.2575548181322], [-121.85139066850199, 37.25755619328437], [-121.85139216943078, 37.25755730850496], [-121.85139385174055, 37.25755812480022], [-121.8515513166277, 37.25761705814999], [-121.85155238060565, 37.25761761035127], [-121.8519766133499, 37.25790742900738], [-121.85197738766698, 37.25790808267158], [-121.85209059862332, 37.25802532247968], [-121.85209202331112, 37.25802654431118], [-121.85209365121464, 37.258027478408415], [-121.85222343687877, 37.258086522952894], [-121.85222429541527, 37.25808702216145], [-121.85251309737932, 37.25829600567648], [-121.8525134283049, 37.25829629886779], [-121.8525131328325, 37.258296627758355], [-121.85216089310516, 37.25861842464306], [-121.8521595965266, 37.25861986315776], [-121.85215860153619, 37.258621524613325], [-121.85215794545044, 37.258623346697846], [-121.85214774264824, 37.25866353217255], [-121.8521474371669, 37.25866579121838], [-121.85214765124043, 37.25866806075124], [-121.85214837374424, 37.25867022283244], [-121.85216808374264, 37.258712446943505], [-121.85216915073455, 37.258714224601974], [-121.85217056136881, 37.25871574402699], [-121.85217225500871, 37.25871693990544], [-121.85230638335418, 37.25879213433108], [-121.85230828685962, 37.25879295515177], [-121.8523103187023, 37.25879336587674], [-121.85231239157227, 37.25879334885683], [-121.8523144163967, 37.25879290482338], [-121.85231630616722, 37.258792052856876], [-121.85231797967894, 37.25879082956698], [-121.85271146820244, 37.258435098603655], [-121.85271182791803, 37.25843483129998], [-121.85271221846635, 37.25843505111494], [-121.85284321011899, 37.2585263351181], [-121.8528458164362, 37.25852763450298], [-121.85293401987614, 37.25855650788482], [-121.85293561744804, 37.25855688893551], [-121.85293725584509, 37.25855700334995], [-121.853006658335, 37.25855613633138], [-121.853009078891, 37.25855580771502], [-121.85301134755663, 37.258554902046015], [-121.85317834846026, 37.25846317684141], [-121.85317877829803, 37.258462993543574], [-121.85317916691679, 37.258463253031685], [-121.8532073678618, 37.25848642948448], [-121.85320773102562, 37.25848680061173], [-121.85320779554239, 37.25848731584075], [-121.8532085020336, 37.25853081299841], [-121.85320845975825, 37.25853130964544], [-121.85320831854987, 37.25853178766826], [-121.85317809556499, 37.258605651101966], [-121.85317754624532, 37.258607470504806], [-121.85317735106285, 37.25860936097633], [-121.85317681970994, 37.2586782659311], [-121.8531769968707, 37.25868021858802], [-121.85317755163503, 37.25868209914419], [-121.8532047079552, 37.2587491044519], [-121.85320537390723, 37.25875044821285], [-121.85320623333028, 37.258751677268435], [-121.85325908104687, 37.25881632786004], [-121.85326109816275, 37.25881819778906], [-121.85461400856252, 37.2597629403606], [-121.8546144073809, 37.25976328817425], [-121.85461472272318, 37.259763713132664], [-121.85465017537116, 37.25982411135358], [-121.85465040945031, 37.259824648076105], [-121.85465050977676, 37.25982522496351], [-121.85465392195252, 37.259889970063234], [-121.85465385552642, 37.25989108422391], [-121.85462620217041, 37.26005050570952], [-121.85462606070911, 37.26005255148696], [-121.85462633953107, 37.26005458310575], [-121.8546628996636, 37.26020456351884], [-121.85466336203268, 37.260205987227515], [-121.85466403173979, 37.2602073259672], [-121.8547003054278, 37.260268009525646], [-121.8547011597001, 37.260269223849974], [-121.85470218435128, 37.26027029830551], [-121.8548148552083, 37.260372110926184], [-121.8548162608091, 37.26037317204579], [-121.85481783076553, 37.260373970121776], [-121.85497191720577, 37.260435894604186], [-121.85497429192874, 37.26043652374825], [-121.85650450217389, 37.26064567590956], [-121.85650594593506, 37.260645767629796], [-121.85692517055062, 37.26064201404933], [-121.85692644672321, 37.26064192075365], [-121.85719729670903, 37.260604580766014], [-121.85719830049769, 37.260604389682456], [-121.85747296186624, 37.26053740113825], [-121.85747345033421, 37.260537333266704], [-121.85747392607536, 37.260537463181606], [-121.85752904027431, 37.26055869678837], [-121.85752947422898, 37.26055891647028], [-121.85752970608883, 37.26055934404225], [-121.85756163611103, 37.26063571400256], [-121.8575624398309, 37.26063724770246], [-121.85756349607, 37.26063861976658], [-121.85756477316019, 37.260639789057684], [-121.8575662328117, 37.26064072051807], [-121.85764071964348, 37.260679622963714], [-121.85764245008592, 37.26068032964494], [-121.85764428181221, 37.26068070194612], [-121.85764615082498, 37.26068072685968], [-121.85771489115868, 37.26067519743207], [-121.85771672486047, 37.26067487608424], [-121.85771846722285, 37.26067422041661], [-121.85772005786029, 37.26067325315283], [-121.85776303152429, 37.260641286086475], [-121.85776430533942, 37.260640158125454], [-121.85776536949655, 37.2606388305447], [-121.85776619318936, 37.260637341776345], [-121.85779766899593, 37.26056689206455], [-121.85779832885314, 37.26056485132045], [-121.85779853836436, 37.260562716805744], [-121.85779828789201, 37.26056058670912], [-121.85779758895792, 37.26055855901606], [-121.85775927843456, 37.26047705247536], [-121.85775912643925, 37.26047663265204], [-121.85775921722261, 37.2604761954878], [-121.8577724733751, 37.260432847101505], [-121.85777265492297, 37.260432411044796], [-121.85777304744884, 37.26043214831199], [-121.85811433018054, 37.26024918550559], [-121.8581147165124, 37.26024902312596], [-121.85811482940153, 37.2602494267043], [-121.85816724715924, 37.260539907199046], [-121.85816730472335, 37.260540327663875], [-121.85835077913887, 37.262495019827234], [-121.85835079262725, 37.26249519750945], [-121.85842155693578, 37.263715044641394], [-121.85842156329285, 37.263715191577795], [-121.85846041780147, 37.26507676941293], [-121.85846047135867, 37.26507755617554], [-121.85851570925725, 37.26558986077303], [-121.85851571273525, 37.265590315769025]]]]}, \"properties\": {\"hood_id\": 170223, \"hood_name\": \"Vista  Park\", \"fill\": \"#67C2A5\", \"stroke\": \"#67C2A5\", \"fill-opacity\": 0.45}}, {\"type\": \"Feature\", \"geometry\": {\"type\": \"MultiPolygon\", \"coordinates\": [[[[-121.82537500000001, 37.266041], [-121.82471299999997, 37.26613], [-121.82469800000001, 37.262985], [-121.824637, 37.262983], [-121.82461899999998, 37.262657], [-121.82374400000003, 37.262598], [-121.823712, 37.261688], [-121.821778, 37.261693], [-121.82095800000002, 37.261457], [-121.82074, 37.261431], [-121.82046500000001, 37.261425], [-121.81997000000001, 37.261535], [-121.81957899999998, 37.261666], [-121.81942400000003, 37.26168], [-121.819432, 37.258885], [-121.83095600000001, 37.258765], [-121.83107060185245, 37.2606413480703], [-121.83103499999999, 37.264584], [-121.83111100000002, 37.265994], [-121.82537500000001, 37.266041], [-121.82537500000001, 37.266041]]]]}, \"properties\": {\"hood_id\": 170018, \"hood_name\": \"Hayes\", \"fill\": \"#67C2A5\", \"stroke\": \"#67C2A5\", \"fill-opacity\": 0.45}}, {\"type\": \"Feature\", \"geometry\": {\"type\": \"MultiPolygon\", \"coordinates\": [[[[-121.83097065459589, 37.258750608587555], [-121.81938373741264, 37.25888918280493], [-121.81281791550532, 37.258882591049556], [-121.8122368225919, 37.258943198582145], [-121.81174156036701, 37.259106275848715], [-121.81144067850931, 37.259215374472475], [-121.8110498840984, 37.25939798157055], [-121.810723462704, 37.25964036182506], [-121.81014309405072, 37.26025932729414], [-121.8025146814723, 37.2557487687562], [-121.80761652315232, 37.25188547620086], [-121.80842930251725, 37.25152169469035], [-121.8091347935216, 37.25131163205396], [-121.8098080980177, 37.25123820951014], [-121.81033584014972, 37.25126682405036], [-121.81168970265838, 37.25146623894921], [-121.8127130004143, 37.25150638783897], [-121.82833896854004, 37.2513940422519], [-121.82918893800019, 37.25131224932116], [-121.83085429900086, 37.251298776554805], [-121.83086956145411, 37.254768596111944], [-121.83097065459589, 37.258750608587555], [-121.83097065459589, 37.258750608587555], [-121.83097065459589, 37.258750608587555], [-121.83097065459589, 37.258750608587555], [-121.83097065459589, 37.258750608587555]]]]}, \"properties\": {\"hood_id\": 170016, \"hood_name\": \"Oak Grove\", \"fill\": \"#67C2A5\", \"stroke\": \"#67C2A5\", \"fill-opacity\": 0.45}}, {\"type\": \"Feature\", \"geometry\": {\"type\": \"MultiPolygon\", \"coordinates\": [[[[-121.82460686490413, 37.27811530245245], [-121.82329109039637, 37.27812509096151], [-121.82326277621564, 37.27753728814342], [-121.82251843040933, 37.277282622760936], [-121.82218178037317, 37.277079179163266], [-121.82213075279242, 37.2729926883377], [-121.82474531432297, 37.273970318464265], [-121.82719465885498, 37.27464081931172], [-121.82794390081443, 37.27458185172144], [-121.82975574689283, 37.27301189681796], [-121.82992204255544, 37.2731272842364], [-121.8304145246035, 37.27345687719502], [-121.83176531353627, 37.27460606215782], [-121.83519471922273, 37.27795608234067], [-121.83469918687388, 37.27810002001433], [-121.82460686490413, 37.27811530245245], [-121.82460686490413, 37.27811530245245]]]]}, \"properties\": {\"hood_id\": 169869, \"hood_name\": \"San  Ramon\", \"fill\": \"#67C2A5\", \"stroke\": \"#67C2A5\", \"fill-opacity\": 0.45}}, {\"type\": \"Feature\", \"geometry\": {\"type\": \"MultiPolygon\", \"coordinates\": [[[[-121.83400926554617, 37.28427314126671], [-121.83399160222893, 37.28366444886438], [-121.83414963730183, 37.28271591451669], [-121.83445332410656, 37.28215491837067], [-121.83490501548295, 37.281295970783304], [-121.83564638543294, 37.28101750838301], [-121.8372385742174, 37.279963405946], [-121.83991101733238, 37.28254121603021], [-121.83589584732033, 37.284260012231925], [-121.83400926554617, 37.28427314126671], [-121.83400926554617, 37.28427314126671], [-121.83400926554617, 37.28427314126671]]]]}, \"properties\": {\"hood_id\": 169868, \"hood_name\": \"Rancho\", \"fill\": \"#67C2A5\", \"stroke\": \"#67C2A5\", \"fill-opacity\": 0.45}}, {\"type\": \"Feature\", \"geometry\": {\"type\": \"MultiPolygon\", \"coordinates\": [[[[-121.82726086128412, 37.28713246473534], [-121.82374692452555, 37.28312352386413], [-121.8234520605368, 37.28255446314101], [-121.82328818979602, 37.27811529147252], [-121.83216047936014, 37.27805145419698], [-121.83470827234822, 37.27810206923897], [-121.83519612881287, 37.27794779637539], [-121.83726174921486, 37.27997302069957], [-121.83495083000048, 37.28166408943609], [-121.83445336935029, 37.28239835238626], [-121.83420267192946, 37.283098462492404], [-121.83410897285808, 37.28383283168717], [-121.83411469376438, 37.28478937650506], [-121.83222943908794, 37.284377257425525], [-121.82726086128412, 37.28713246473534], [-121.82726086128412, 37.28713246473534]]]]}, \"properties\": {\"hood_id\": 169964, \"hood_name\": \"Seven Trees\", \"fill\": \"#67C2A5\", \"stroke\": \"#67C2A5\", \"fill-opacity\": 0.45}}, {\"type\": \"Feature\", \"geometry\": {\"type\": \"MultiPolygon\", \"coordinates\": [[[[-121.84387937936151, 37.27569507950239], [-121.84440003209164, 37.27533468239675], [-121.84526400757568, 37.27497428356594], [-121.84609073631492, 37.274748649764106], [-121.84695025992488, 37.27463887616797], [-121.84982802143918, 37.27459007643061], [-121.84989875768633, 37.275090573604636], [-121.85003068533445, 37.27543473120655], [-121.85025758169951, 37.2757434056419], [-121.85063925078344, 37.276059949746944], [-121.8510875773909, 37.2762779816936], [-121.85087237109536, 37.27650734006765], [-121.84750462126112, 37.276092673664294], [-121.84387937936151, 37.27569507950239], [-121.84387937936151, 37.27569507950239]]]]}, \"properties\": {\"hood_id\": 179040, \"hood_name\": \"Bella Villagio\", \"fill\": \"#67C2A5\", \"stroke\": \"#67C2A5\", \"fill-opacity\": 0.45}}, {\"type\": \"Feature\", \"geometry\": {\"type\": \"MultiPolygon\", \"coordinates\": [[[[-121.84915473875498, 37.27809387709783], [-121.8491546185752, 37.27809399317341], [-121.8489350897035, 37.2783095988191], [-121.8489345235123, 37.27831020293482], [-121.84877577675257, 37.278494299060334], [-121.84877524524887, 37.278494971708255], [-121.84863533174621, 37.278688554042944], [-121.84863484420435, 37.27868929585905], [-121.84851437834823, 37.27889161886075], [-121.8485142100692, 37.27889191269178], [-121.84765225053007, 37.280458807977986], [-121.84694310448924, 37.28037603183146], [-121.84630906030088, 37.28028471885342], [-121.84560960023526, 37.280085019039134], [-121.84492951212007, 37.27978805946143], [-121.84423452372539, 37.27935633704971], [-121.8433273445587, 37.27845873701185], [-121.84489026395147, 37.27579905179336], [-121.84489053086168, 37.275798682528745], [-121.84489098641188, 37.275798690983606], [-121.85090133681899, 37.276498092661484], [-121.84915473875498, 37.27809387709783]]]]}, \"properties\": {\"hood_id\": 178007, \"hood_name\": \"California Hawaiian Estates\", \"fill\": \"#67C2A5\", \"stroke\": \"#67C2A5\", \"fill-opacity\": 0.45}}, {\"type\": \"Feature\", \"geometry\": {\"type\": \"MultiPolygon\", \"coordinates\": [[[[-121.83966666788069, 37.27460532490846], [-121.8391531890432, 37.27428546040314], [-121.83841174471746, 37.27397987214029], [-121.83796592070212, 37.273664865370414], [-121.83774540224397, 37.273418157473486], [-121.84295459074093, 37.273386760831634], [-121.84358266016642, 37.27382772246036], [-121.84406465305824, 37.27419036552828], [-121.844437169235, 37.27393003739412], [-121.84492233763768, 37.274437099031644], [-121.8452680311716, 37.27497403796228], [-121.84441209506684, 37.275323152610646], [-121.84196829122527, 37.277004067097316], [-121.84082820838898, 37.275796168307565], [-121.83966666788069, 37.27460532490846], [-121.83966666788069, 37.27460532490846], [-121.83966666788069, 37.27460532490846]]]]}, \"properties\": {\"hood_id\": 223440, \"hood_name\": \"Capitol Village - Baroni\", \"fill\": \"#67C2A5\", \"stroke\": \"#67C2A5\", \"fill-opacity\": 0.45}}, {\"type\": \"Feature\", \"geometry\": {\"type\": \"MultiPolygon\", \"coordinates\": [[[[-121.8192858497996, 37.26486924583863], [-121.8190423693906, 37.26488345588419], [-121.8142900953402, 37.2622801058678], [-121.8142900411739, 37.26228051019572], [-121.8142896726769, 37.26228033519562], [-121.8105495841442, 37.26005152076979], [-121.8105492248492, 37.26005125457472], [-121.8105495026663, 37.26005090418877], [-121.8107670465804, 37.25982682975575], [-121.810767455393, 37.25982649083934], [-121.8107679273408, 37.25982624741098], [-121.810974806241, 37.25967509961789], [-121.8109746747848, 37.2596746019806], [-121.8109748683188, 37.25967412504448], [-121.8109967425489, 37.25963338774283], [-121.8109969758877, 37.25963303126489], [-121.810997316605, 37.25963277546145], [-121.8112864200841, 37.25945264971749], [-121.8112870481454, 37.25945231792615], [-121.8116282386206, 37.25930206168515], [-121.811628662719, 37.25930191988952], [-121.8116290980814, 37.25930202199213], [-121.8118900780369, 37.2592169833969], [-121.8118902250817, 37.25921654001632], [-121.8118905909105, 37.25921624953784], [-121.8119244731733, 37.25919431587182], [-121.811924841447, 37.25919411935681], [-121.8119252374838, 37.25919398745377], [-121.8121765659341, 37.25913323746486], [-121.8121770111098, 37.25913315102741], [-121.8142778403768, 37.25902927019872], [-121.8142782704253, 37.25902930270277], [-121.8142784361863, 37.25902970085042], [-121.8143044680855, 37.26072029509102], [-121.8167973370495, 37.26073351796582], [-121.8193838195821, 37.26070421085791], [-121.8193125157643, 37.26321049911281], [-121.8192858497996, 37.26486924583863]]]]}, \"properties\": {\"hood_id\": 347256, \"hood_name\": \"Dolce Hayes\", \"fill\": \"#67C2A5\", \"stroke\": \"#67C2A5\", \"fill-opacity\": 0.45}}, {\"type\": \"Feature\", \"geometry\": {\"type\": \"MultiPolygon\", \"coordinates\": [[[[-121.81364692411847, 37.269661398391094], [-121.81362708711015, 37.27298687217585], [-121.8107117458552, 37.27297234024629], [-121.81068152995243, 37.27164558242695], [-121.80975507306346, 37.27154376907664], [-121.80961182120683, 37.270946764803476], [-121.81136379634495, 37.27067483345809], [-121.81133795955748, 37.269695534031555], [-121.81147320241234, 37.26967846621313], [-121.81364692411847, 37.269661398391094]]]]}, \"properties\": {\"hood_id\": 169870, \"hood_name\": \"Eden Hill\", \"fill\": \"#67C2A5\", \"stroke\": \"#67C2A5\", \"fill-opacity\": 0.45}}, {\"type\": \"Feature\", \"geometry\": {\"type\": \"MultiPolygon\", \"coordinates\": [[[[-121.81675628165516, 37.26072292816119], [-121.8167559978034, 37.26072333837757], [-121.81675550277714, 37.260723400007876], [-121.81430770670545, 37.260733224954976], [-121.8142689482155, 37.25889250528281], [-121.81944089637295, 37.258903008972254], [-121.81942510334085, 37.260683254757545], [-121.81675495240859, 37.26068601353658], [-121.81675628165516, 37.26072292816119]]]]}, \"properties\": {\"hood_id\": 267261, \"hood_name\": \"Edenvale\", \"fill\": \"#67C2A5\", \"stroke\": \"#67C2A5\", \"fill-opacity\": 0.45}}, {\"type\": \"Feature\", \"geometry\": {\"type\": \"MultiPolygon\", \"coordinates\": [[[[-121.849626, 37.272495], [-121.849626, 37.272496], [-121.84978899999999, 37.272446], [-121.849828, 37.274591], [-121.84696600000001, 37.274644], [-121.84609, 37.274749], [-121.84527200000002, 37.274967], [-121.84492399999999, 37.27444], [-121.84442100000001, 37.273935], [-121.84465399999999, 37.273769], [-121.84465499999999, 37.273769], [-121.84531400000003, 37.273496], [-121.84531400000003, 37.273496], [-121.84531500000003, 37.273496], [-121.84603199999998, 37.273493], [-121.84648099999998, 37.273448], [-121.84732600000001, 37.273239], [-121.84732600000001, 37.273239], [-121.849626, 37.272495], [-121.849626, 37.272495], [-121.849626, 37.272495], [-121.849626, 37.272495], [-121.849626, 37.272495]]]]}, \"properties\": {\"hood_id\": 257800, \"hood_name\": \"Ellmar Oaks\", \"fill\": \"#67C2A5\", \"stroke\": \"#67C2A5\", \"fill-opacity\": 0.45}}, {\"type\": \"Feature\", \"geometry\": {\"type\": \"MultiPolygon\", \"coordinates\": [[[[-121.8247250233552, 37.26611237329981], [-121.82467886112295, 37.2661616995813], [-121.8246830961831, 37.26938531658402], [-121.82374499253763, 37.26869418738375], [-121.82199149735169, 37.26744807108217], [-121.81935354270058, 37.265826696492375], [-121.81942887177968, 37.26166389484042], [-121.81957239836538, 37.26165586141937], [-121.81999487468852, 37.2615282839382], [-121.82047504690877, 37.26142682831831], [-121.82094449029313, 37.26145772525838], [-121.82177086002605, 37.26169955539019], [-121.82371595121964, 37.26170607315902], [-121.82375253498935, 37.26259704050595], [-121.82460987471768, 37.26264693598788], [-121.82463991785482, 37.26299513389762], [-121.82470214750003, 37.26299751357733], [-121.8247250233552, 37.26611237329981], [-121.8247250233552, 37.26611237329981]]]]}, \"properties\": {\"hood_id\": 176961, \"hood_name\": \"Frontier Village\", \"fill\": \"#67C2A5\", \"stroke\": \"#67C2A5\", \"fill-opacity\": 0.45}}, {\"type\": \"Feature\", \"geometry\": {\"type\": \"MultiPolygon\", \"coordinates\": [[[[-121.82672285217467, 37.27451139803789], [-121.82524686536487, 37.27410062974259], [-121.82524228449728, 37.27409885768063], [-121.82524048708001, 37.274094286702386], [-121.82470053083875, 37.27396036619833], [-121.82216501109042, 37.2730068435217], [-121.82207215152539, 37.272995125881295], [-121.81817635902996, 37.272963918137904], [-121.81363683637096, 37.27298393581455], [-121.8136323020974, 37.27298347775662], [-121.8136319809472, 37.27297893173458], [-121.81365329496248, 37.26919586192734], [-121.8152453035986, 37.26916844975757], [-121.8152714689819, 37.26625681923488], [-121.81383381375122, 37.26623534649336], [-121.81385238171845, 37.26245402785914], [-121.82201120656532, 37.267457894107906], [-121.82976233564199, 37.273016697386424], [-121.82796364417078, 37.27458364511259], [-121.82721450214001, 37.2746328954544], [-121.82672285217467, 37.27451139803789]]]]}, \"properties\": {\"hood_id\": 169867, \"hood_name\": \"Havens-Monterey-Edenvale\", \"fill\": \"#67C2A5\", \"stroke\": \"#67C2A5\", \"fill-opacity\": 0.45}}, {\"type\": \"Feature\", \"geometry\": {\"type\": \"MultiPolygon\", \"coordinates\": [[[[-121.8221687083037, 37.277060591173864], [-121.8221683366811, 37.27706476938372], [-121.82216467651017, 37.27706272031324], [-121.82131956875116, 37.27647404998017], [-121.82031352845132, 37.27644883078688], [-121.82030911988318, 37.2764483172023], [-121.82030487395707, 37.27644702439393], [-121.81988639486337, 37.27630673599994], [-121.81936062740897, 37.27606400077543], [-121.81934352079554, 37.27605878729342], [-121.81932575911719, 37.27605670417187], [-121.81696227601947, 37.275988671137554], [-121.81694840801879, 37.27635603582799], [-121.81694753380566, 37.27636021559519], [-121.81694327565083, 37.276360536249555], [-121.81422828809235, 37.27630170688398], [-121.81436825040453, 37.2767913785766], [-121.81397404788686, 37.27687157007556], [-121.81357984536919, 37.277011521300274], [-121.81330102118841, 37.2765486182489], [-121.8132855729175, 37.27623861576188], [-121.81261059557232, 37.276200921005234], [-121.81219264062935, 37.27632720599097], [-121.81134553224388, 37.2766669198562], [-121.8113203624003, 37.27668062666917], [-121.81085180700222, 37.27703128317058], [-121.81084714885685, 37.27703401892426], [-121.8107773933906, 37.2770857018918], [-121.81053368762315, 37.27705554932702], [-121.81001103211827, 37.27706808229264], [-121.80972746846862, 37.27710168532031], [-121.80902086630056, 37.27733963302932], [-121.80899559180165, 37.275729813372195], [-121.80899595362075, 37.27572535684342], [-121.80900039037743, 37.275724802990524], [-121.8089419535861, 37.27294609249894], [-121.81243743361239, 37.27299097371896], [-121.81243732938003, 37.272986709986725], [-121.81244157576697, 37.27298631189771], [-121.82211940879569, 37.27299004463313], [-121.82212385595352, 37.27299048120109], [-121.82212433931147, 37.27299492351699], [-121.8221687083037, 37.277060591173864], [-121.8221687083037, 37.277060591173864]]]]}, \"properties\": {\"hood_id\": 234689, \"hood_name\": \"River View Skyway\", \"fill\": \"#67C2A5\", \"stroke\": \"#67C2A5\", \"fill-opacity\": 0.45}}, {\"type\": \"Feature\", \"geometry\": {\"type\": \"MultiPolygon\", \"coordinates\": [[[[-121.84196844863874, 37.27698961714544], [-121.83726508712277, 37.279979574524575], [-121.83186813936402, 37.27468123748597], [-121.83038721676706, 37.27343795766438], [-121.83700424676078, 37.273413010695094], [-121.83753802670867, 37.273174625330384], [-121.83794367411195, 37.27364304709147], [-121.83839223685953, 37.27397486675258], [-121.83914120701684, 37.27426399784286], [-121.83965414278077, 37.27458727738021], [-121.84009656042758, 37.275026652730986], [-121.84196844863874, 37.27698961714544], [-121.84196844863874, 37.27698961714544]]]]}, \"properties\": {\"hood_id\": 257380, \"hood_name\": \"The Woods\", \"fill\": \"#67C2A5\", \"stroke\": \"#67C2A5\", \"fill-opacity\": 0.45}}, {\"type\": \"Feature\", \"geometry\": {\"type\": \"MultiPolygon\", \"coordinates\": [[[[-121.84854493907164, 37.26581092138027], [-121.84654773354936, 37.265905631464385], [-121.84575903715995, 37.26426483568457], [-121.8457821921022, 37.264207094969244], [-121.84590190656911, 37.26413227706593], [-121.84636664106011, 37.264033872558194], [-121.84686159218165, 37.26398648862079], [-121.84710584031865, 37.26395149083424], [-121.84732594857451, 37.26389514653482], [-121.84752996357616, 37.26381318637041], [-121.84933823416128, 37.26566273208048], [-121.84854493907164, 37.26581092138027], [-121.84854493907164, 37.26581092138027]]]]}, \"properties\": {\"hood_id\": 253069, \"hood_name\": \"Vistapark-Martial Cottle\", \"fill\": \"#67C2A5\", \"stroke\": \"#67C2A5\", \"fill-opacity\": 0.45}}]},\n",
      "          neighborhoodMapOptions:{\n",
      "            tileServerHosts: [\"https://tiles-0.nextdoor.com\", \"https://tiles-1.nextdoor.com\", \"https://tiles-2.nextdoor.com\", \"https://tiles-3.nextdoor.com\"],\n",
      "            domSelector: 'neighborhood-map',\n",
      "            mapBounds: '37.26350892516025,-121.83831246442287,37.26970890275868,-121.83099270501282',\n",
      "            hoodFeatures: [{\"type\": \"MULTIPOLYGON\", \"name\": \"Nextdoor Edenvale\", \"info\": \"\", \"id\": 267261, \"geometry\": \"{\\\"type\\\": \\\"MultiPolygon\\\", \\\"coordinates\\\": [[[[-121.81675628165516, 37.26072292816119], [-121.8167559978034, 37.26072333837757], [-121.81675550277714, 37.260723400007876], [-121.81430770670545, 37.260733224954976], [-121.8142689482155, 37.25889250528281], [-121.81944089637295, 37.258903008972254], [-121.81942510334085, 37.260683254757545], [-121.81675495240859, 37.26068601353658], [-121.81675628165516, 37.26072292816119]]]]}\", \"centroid\": [-121.8168419312562, 37.25980018874453], \"page_url\": \"https://nextdoor.com/neighborhood/edenvaleca--san-jose--ca\", \"short_name\": \"Edenvale\", \"stroke_color\": \"#67C2A5\", \"fill_color\": \"#67C2A5\", \"stroke_weight\": 1, \"fill_opacity\": 0.35}, {\"type\": \"MULTIPOLYGON\", \"name\": \"Nextdoor Dolce Hayes\", \"info\": \"\", \"id\": 347256, \"geometry\": \"{\\\"type\\\": \\\"MultiPolygon\\\", \\\"coordinates\\\": [[[[-121.8192858497996, 37.26486924583863], [-121.8190423693906, 37.26488345588419], [-121.8142900953402, 37.2622801058678], [-121.8142900411739, 37.26228051019572], [-121.8142896726769, 37.26228033519562], [-121.8105495841442, 37.26005152076979], [-121.8105492248492, 37.26005125457472], [-121.8105495026663, 37.26005090418877], [-121.8107670465804, 37.25982682975575], [-121.810767455393, 37.25982649083934], [-121.8107679273408, 37.25982624741098], [-121.810974806241, 37.25967509961789], [-121.8109746747848, 37.2596746019806], [-121.8109748683188, 37.25967412504448], [-121.8109967425489, 37.25963338774283], [-121.8109969758877, 37.25963303126489], [-121.810997316605, 37.25963277546145], [-121.8112864200841, 37.25945264971749], [-121.8112870481454, 37.25945231792615], [-121.8116282386206, 37.25930206168515], [-121.811628662719, 37.25930191988952], [-121.8116290980814, 37.25930202199213], [-121.8118900780369, 37.2592169833969], [-121.8118902250817, 37.25921654001632], [-121.8118905909105, 37.25921624953784], [-121.8119244731733, 37.25919431587182], [-121.811924841447, 37.25919411935681], [-121.8119252374838, 37.25919398745377], [-121.8121765659341, 37.25913323746486], [-121.8121770111098, 37.25913315102741], [-121.8142778403768, 37.25902927019872], [-121.8142782704253, 37.25902930270277], [-121.8142784361863, 37.25902970085042], [-121.8143044680855, 37.26072029509102], [-121.8167973370495, 37.26073351796582], [-121.8193838195821, 37.26070421085791], [-121.8193125157643, 37.26321049911281], [-121.8192858497996, 37.26486924583863]]]]}\", \"centroid\": [-121.8158025611938, 37.26163781609426], \"page_url\": \"https://nextdoor.com/neighborhood/dolcehayes--san-jose--ca\", \"short_name\": \"Dolce Hayes\", \"stroke_color\": \"#67C2A5\", \"fill_color\": \"#67C2A5\", \"stroke_weight\": 1, \"fill_opacity\": 0.35}, {\"type\": \"MULTIPOLYGON\", \"name\": \"Nextdoor California Hawaiian Estates\", \"info\": \"\", \"id\": 178007, \"geometry\": \"{\\\"type\\\": \\\"MultiPolygon\\\", \\\"coordinates\\\": [[[[-121.84915473875498, 37.27809387709783], [-121.8491546185752, 37.27809399317341], [-121.8489350897035, 37.2783095988191], [-121.8489345235123, 37.27831020293482], [-121.84877577675257, 37.278494299060334], [-121.84877524524887, 37.278494971708255], [-121.84863533174621, 37.278688554042944], [-121.84863484420435, 37.27868929585905], [-121.84851437834823, 37.27889161886075], [-121.8485142100692, 37.27889191269178], [-121.84765225053007, 37.280458807977986], [-121.84694310448924, 37.28037603183146], [-121.84630906030088, 37.28028471885342], [-121.84560960023526, 37.280085019039134], [-121.84492951212007, 37.27978805946143], [-121.84423452372539, 37.27935633704971], [-121.8433273445587, 37.27845873701185], [-121.84489026395147, 37.27579905179336], [-121.84489053086168, 37.275798682528745], [-121.84489098641188, 37.275798690983606], [-121.85090133681899, 37.276498092661484], [-121.84915473875498, 37.27809387709783]]]]}\", \"centroid\": [-121.8466757899503, 37.277929664771065], \"page_url\": \"https://nextdoor.com/neighborhood/californiahawaiianestates--san-jose--ca\", \"short_name\": \"California Hawaiian Estates\", \"stroke_color\": \"#67C2A5\", \"fill_color\": \"#67C2A5\", \"stroke_weight\": 1, \"fill_opacity\": 0.35}, {\"type\": \"MULTIPOLYGON\", \"name\": \"Nextdoor Vistapark-Martial Cottle\", \"info\": \"\", \"id\": 253069, \"geometry\": \"{\\\"type\\\": \\\"MultiPolygon\\\", \\\"coordinates\\\": [[[[-121.84854493907164, 37.26581092138027], [-121.84654773354936, 37.265905631464385], [-121.84575903715995, 37.26426483568457], [-121.8457821921022, 37.264207094969244], [-121.84590190656911, 37.26413227706593], [-121.84636664106011, 37.264033872558194], [-121.84686159218165, 37.26398648862079], [-121.84710584031865, 37.26395149083424], [-121.84732594857451, 37.26389514653482], [-121.84752996357616, 37.26381318637041], [-121.84933823416128, 37.26566273208048], [-121.84854493907164, 37.26581092138027], [-121.84854493907164, 37.26581092138027]]]]}\", \"centroid\": [-121.84736811694883, 37.26496657611789], \"page_url\": \"https://nextdoor.com/neighborhood/vistaparkmartialcottle--san-jose--ca\", \"short_name\": \"Vistapark-Martial Cottle\", \"stroke_color\": \"#67C2A5\", \"fill_color\": \"#67C2A5\", \"stroke_weight\": 1, \"fill_opacity\": 0.35}, {\"type\": \"MULTIPOLYGON\", \"name\": \"Nextdoor Vista  Park\", \"info\": \"\", \"id\": 170223, \"geometry\": \"{\\\"type\\\": \\\"MultiPolygon\\\", \\\"coordinates\\\": [[[[-121.85851571273525, 37.265590315769025], [-121.8585152652205, 37.26559039801272], [-121.85671771895252, 37.265738104754575], [-121.85671730361729, 37.265738103694986], [-121.85671691215451, 37.26573796490989], [-121.85666507613577, 37.265714489650385], [-121.85666472835253, 37.26571429717649], [-121.85666441578934, 37.2657140516086], [-121.8565065938483, 37.26556815164067], [-121.8565051309944, 37.26556703058186], [-121.85650348725102, 37.26556619702204], [-121.85638829226453, 37.26552058183343], [-121.85638656209873, 37.265520071694446], [-121.85638476843611, 37.26551988067112], [-121.85638296963738, 37.265520014978804], [-121.85628294497226, 37.265536654017936], [-121.8562810625959, 37.265537159713766], [-121.8562793140729, 37.26553802095499], [-121.85627776583091, 37.26553920502247], [-121.85620338898116, 37.2656085644982], [-121.85620219007727, 37.2656099033433], [-121.85620125017685, 37.265611435160494], [-121.85620059963753, 37.265613110474], [-121.8561663744761, 37.265731949971695], [-121.8561660405289, 37.26573365476969], [-121.85616600665858, 37.265735391637484], [-121.85616895664327, 37.265779047429184], [-121.85616894580578, 37.265779492789854], [-121.85616870348181, 37.265779866611666], [-121.85614928436271, 37.26580453287294], [-121.85614897169408, 37.26580486205262], [-121.8561485609572, 37.26580505548525], [-121.85610967401465, 37.265819135176756], [-121.85610923092523, 37.2658192505288], [-121.85610877416502, 37.265819282223276], [-121.85553285487448, 37.265805789864224], [-121.85553236195892, 37.26580572773901], [-121.85553193410482, 37.2658054752193], [-121.85549485937231, 37.265778150816104], [-121.85549452092141, 37.26577784931505], [-121.85549431454552, 37.26577744575499], [-121.85545880152286, 37.265688565605664], [-121.85545789748794, 37.26568682257824], [-121.8554566702861, 37.26568528980318], [-121.85545516723117, 37.26568402637546], [-121.85545344627228, 37.26568308100558], [-121.85537511719264, 37.265649594782154], [-121.85537348297304, 37.2656490570877], [-121.85537178077588, 37.265648807460195], [-121.85537006098264, 37.26564885328808], [-121.85536837449553, 37.26564919321495], [-121.85529123641322, 37.265671794541255], [-121.85528945952078, 37.26567250604806], [-121.85528785073822, 37.26567354306659], [-121.85528646900477, 37.26567486760475], [-121.85528536494141, 37.26567643113692], [-121.85523409447987, 37.26576618869227], [-121.85523386412787, 37.26576652413844], [-121.85523353724965, 37.26576676649513], [-121.85518345391256, 37.26579783427475], [-121.85518301209696, 37.265798050088605], [-121.8551825210283, 37.26579807515248], [-121.85463447836842, 37.26577073182552], [-121.85463406931352, 37.26577067674705], [-121.85463370128649, 37.26577048988975], [-121.85459554841162, 37.26574689811594], [-121.85459518570835, 37.2657466237289], [-121.85459502547478, 37.26574619809165], [-121.85458482737755, 37.265708796891055], [-121.8545847438703, 37.26570827570688], [-121.85458477329031, 37.265707748695625], [-121.85462128947822, 37.265485831607585], [-121.85462138975895, 37.265485432547955], [-121.85462155468241, 37.26548505557943], [-121.8546635507276, 37.26540735651862], [-121.85466412896544, 37.265406508752754], [-121.85475660169536, 37.265297092125905], [-121.854757305618, 37.26529640870736], [-121.85483070240248, 37.26523800717795], [-121.85483200057503, 37.26523676850705], [-121.85483305648987, 37.265235317782604], [-121.8548338361512, 37.26523370171151], [-121.85483431445739, 37.265231972324116], [-121.85484781898948, 37.2651577566172], [-121.85484798003796, 37.26515586601059], [-121.85484778107158, 37.26515397901764], [-121.85484722925379, 37.265152163576346], [-121.85484634445184, 37.26515048504857], [-121.85481815922873, 37.26510747750057], [-121.8548169032204, 37.26510592479224], [-121.85481536371624, 37.265104652633816], [-121.85481360211877, 37.265103711764844], [-121.85469396134432, 37.26505445847626], [-121.85469357657409, 37.265054259059], [-121.8546932324693, 37.26505399560659], [-121.85448931413009, 37.2648674065063], [-121.85448899925076, 37.26486709148161], [-121.85443856732344, 37.26481192465292], [-121.85443786259899, 37.26481093383247], [-121.85439629806902, 37.26473410122737], [-121.85439493924419, 37.26473217382097], [-121.85439316684541, 37.264730618217236], [-121.8543614492064, 37.26470881827006], [-121.85435970086287, 37.26470785800973], [-121.85435779671339, 37.264707263855115], [-121.85430157984874, 37.26469571839], [-121.85429936805116, 37.26469551594455], [-121.85429716612205, 37.264695806703656], [-121.85421522770197, 37.26471608170084], [-121.85421355228712, 37.264716657956505], [-121.8542120048651, 37.26471752084157], [-121.85421063401083, 37.26471864326934], [-121.85418151061741, 37.26474715530266], [-121.85418028084561, 37.26474861396007], [-121.85417935048152, 37.264750279625936], [-121.85417875339054, 37.26475209166967], [-121.85416911211215, 37.264794652753984], [-121.85416886637441, 37.26479669674353], [-121.85416904440677, 37.264798747739576], [-121.85416963866375, 37.26480071881516], [-121.85419339247048, 37.264857543965675], [-121.85419422268, 37.2648591190522], [-121.85419531905917, 37.26486052194139], [-121.85419664685121, 37.264861708159614], [-121.85419816396318, 37.26486264010204], [-121.85431247743242, 37.26491952110156], [-121.85431281310508, 37.26491972264295], [-121.85431311288285, 37.264919974493], [-121.85459147694294, 37.265194105627025], [-121.85459176661514, 37.26519445006958], [-121.85459174352647, 37.2651948995332], [-121.85458489539187, 37.2652417491756], [-121.85458474485479, 37.26524230785235], [-121.85458446780515, 37.26524281581366], [-121.85446562498231, 37.26541021164233], [-121.85446460531469, 37.265412020208714], [-121.85446398109116, 37.26541400035502], [-121.85440840641586, 37.26568622545927], [-121.85440825465798, 37.26568670726444], [-121.85440792151049, 37.26568708697435], [-121.85437038597546, 37.265721835813935], [-121.85436996359587, 37.265722148400215], [-121.85436943825036, 37.26572213714126], [-121.8536837644331, 37.265631667813814], [-121.85368328742531, 37.26563155464936], [-121.85368296145256, 37.265631188474075], [-121.85365403813022, 37.26559115320908], [-121.85365378760085, 37.26559071455263], [-121.85365395357428, 37.265590237439156], [-121.85369285255413, 37.26550792889515], [-121.85369309747269, 37.265507518746524], [-121.85369341674689, 37.265507163400216], [-121.85379324232609, 37.26541564927893], [-121.85379451412298, 37.26541423869003], [-121.85379549628333, 37.265412613085694], [-121.85379615337835, 37.26541083110519], [-121.85381034230942, 37.265357097555466], [-121.85381066470194, 37.2653549689652], [-121.85381052402893, 37.265352820699725], [-121.85380992681033, 37.265350752327564], [-121.85380890072622, 37.26534885971432], [-121.85375972793733, 37.265277696429244], [-121.85375824390223, 37.26527599657448], [-121.85375641652386, 37.2652746727336], [-121.8537543388499, 37.265273792314794], [-121.85370356103165, 37.2652587640902], [-121.85370183411962, 37.265258414856966], [-121.85370007271973, 37.265258374120855], [-121.85369833150916, 37.26525864314641], [-121.85369666453838, 37.26525921358256], [-121.85357445809832, 37.26531348250187], [-121.85357271755615, 37.26531447507122], [-121.85357120982987, 37.26531579470846], [-121.85356999544986, 37.26531738843434], [-121.85356912316963, 37.26531919226587], [-121.85355623631143, 37.26535448869735], [-121.85355576453888, 37.26535628232607], [-121.85355563209947, 37.26535813222691], [-121.85355584354866, 37.265359974769325], [-121.8535672486821, 37.26541424913477], [-121.85356730071284, 37.26541476231747], [-121.85356713684797, 37.26541525141059], [-121.85349122207367, 37.26558105712762], [-121.85349098326506, 37.265581467870156], [-121.85349060649531, 37.2655817573239], [-121.8534376357095, 37.265614805927896], [-121.85343725895387, 37.26561499776731], [-121.8534368366985, 37.265614976610756], [-121.85166497405828, 37.265370880679725], [-121.85166458413211, 37.265370794503326], [-121.85166421309566, 37.26537064685254], [-121.85152880945532, 37.26530367247182], [-121.8515266074525, 37.26530288809708], [-121.85152428351549, 37.265302636349396], [-121.8514626310383, 37.26530320585387], [-121.85146074939284, 37.26530340219996], [-121.85145893840016, 37.26530394941743], [-121.85138578683204, 37.26533386287281], [-121.85138531792845, 37.26533400173188], [-121.85138483202444, 37.265333946508484], [-121.85123555805342, 37.26530159367584], [-121.85123407504345, 37.26530138696148], [-121.85123257779293, 37.26530140399936], [-121.85115428679548, 37.26530817863298], [-121.85115212895265, 37.265308608303876], [-121.85105081746023, 37.26534070218916], [-121.8510504238997, 37.26534079237422], [-121.85105002091954, 37.265340817480556], [-121.8506024101685, 37.265332177799245], [-121.85060202952357, 37.2653321409777], [-121.85060165905716, 37.265332046103865], [-121.8505533388281, 37.26531561174836], [-121.85055284406143, 37.26531537835075], [-121.85055250081754, 37.26531495237866], [-121.85053395884643, 37.265285724283686], [-121.85053376823886, 37.26528535957861], [-121.85053370810023, 37.26528495248602], [-121.85052383552892, 37.26512829088094], [-121.85052395118988, 37.26512686773414], [-121.85055108877873, 37.26500836457304], [-121.85055132800501, 37.26500664408556], [-121.85055126589604, 37.26500490815674], [-121.85055090432581, 37.265003209164874], [-121.85055025420401, 37.26500159837376], [-121.85052526345068, 37.264952470166385], [-121.85052430673136, 37.26495094639042], [-121.85052309244782, 37.26494961871556], [-121.8505216599089, 37.26494853012136], [-121.85052005548886, 37.264947715847846], [-121.85042704279425, 37.26491061266037], [-121.85042529617591, 37.26491009459611], [-121.85042348455316, 37.264909902010615], [-121.85042166805493, 37.264910041295934], [-121.85034456378324, 37.26492309793678], [-121.85034225727655, 37.26492378203271], [-121.85034018090566, 37.26492499720524], [-121.85029757426081, 37.264957392193054], [-121.85029604911269, 37.264958827263115], [-121.8502948562818, 37.26496054850027], [-121.85027739651177, 37.26499242367464], [-121.85027672130175, 37.264993944553815], [-121.8502763076407, 37.26499555634368], [-121.85027616698282, 37.26499721441406], [-121.85027609764491, 37.26504926729612], [-121.85027630222518, 37.265051293059656], [-121.85027691288117, 37.265053235395946], [-121.85031824269399, 37.26514922158965], [-121.8503183858396, 37.26514966513071], [-121.85031844319072, 37.26515012765654], [-121.85032295369083, 37.26530584211663], [-121.85032292716171, 37.26530627517808], [-121.85032262131463, 37.26530658291747], [-121.8502772516342, 37.26534466876692], [-121.85027685485069, 37.26534494014399], [-121.85027638430125, 37.26534503845958], [-121.84966273328673, 37.2654112621501], [-121.84966214823555, 37.26541125516614], [-121.84966158144978, 37.26541110995086], [-121.84959429619184, 37.265384993004346], [-121.84959260921974, 37.265384503680856], [-121.84959086265398, 37.265384317078556], [-121.84952021053859, 37.26538301006206], [-121.8495181424744, 37.26538318725547], [-121.84951615553966, 37.26538378756989], [-121.8494102781731, 37.265428225165536], [-121.84940885410279, 37.265428962290706], [-121.84940756616146, 37.26542991755864], [-121.84937347593268, 37.265459722550524], [-121.84937312397786, 37.26545997896898], [-121.84937270481764, 37.26546009698334], [-121.84917005143474, 37.265498157364846], [-121.84916958366462, 37.265498198320806], [-121.84916922427878, 37.26549789611537], [-121.8475894294136, 37.26387939912663], [-121.84758863369666, 37.26387866755034], [-121.84748439132856, 37.263792745602785], [-121.8474825291127, 37.26379153096556], [-121.84748044454332, 37.26379075781485], [-121.8474127001027, 37.26377390883123], [-121.84740990163847, 37.26377362059426], [-121.84733042339874, 37.263776681633146], [-121.84732777407744, 37.26377714564842], [-121.84705596985665, 37.26386369607218], [-121.84705484393136, 37.263863916018], [-121.84700133001328, 37.26386807474306], [-121.84700078731959, 37.26386805685115], [-121.84700026175067, 37.26386792041845], [-121.84693058861514, 37.26384133682756], [-121.84692878534517, 37.26384083622789], [-121.84692692037946, 37.2638406803897], [-121.84686101757951, 37.263841362056475], [-121.84685934503639, 37.26384152048907], [-121.84685772262011, 37.26384195668495], [-121.84685619612343, 37.26384265833248], [-121.84674332380378, 37.26390652954918], [-121.84674285224055, 37.26390673476975], [-121.84674234836461, 37.26390683770873], [-121.84636668856461, 37.263943408902236], [-121.8463649004606, 37.263943749424286], [-121.84591127604637, 37.26407385828547], [-121.84590957451928, 37.264074519668306], [-121.84590802157945, 37.264075479355505], [-121.84578680697574, 37.264166663227726], [-121.84578568480251, 37.26416764668913], [-121.8457847214585, 37.26416878617911], [-121.84574001538824, 37.264230470113624], [-121.84573921172019, 37.26423178026803], [-121.84573861832096, 37.26423319810592], [-121.8456912481381, 37.26437640766975], [-121.84569081709428, 37.264378326752166], [-121.84569077002189, 37.26438029308384], [-121.84570190707008, 37.2645293677033], [-121.84570223835357, 37.264531278362014], [-121.84572511866058, 37.26461434142198], [-121.84572586384208, 37.26461625366187], [-121.84618238459929, 37.26550530358231], [-121.8461825640261, 37.26550575938206], [-121.8461826499394, 37.26550624163331], [-121.84618899514959, 37.265588548429754], [-121.84618897461064, 37.2655891004782], [-121.84618871282133, 37.26558958694063], [-121.84614559053988, 37.26565157192232], [-121.84614520871635, 37.2656520026797], [-121.84614473713927, 37.265652332764496], [-121.84608491574693, 37.26568449288978], [-121.846084543271, 37.26568465532049], [-121.84608414926274, 37.26568475471662], [-121.84602728161029, 37.26569422742927], [-121.84602650256463, 37.265694295111224], [-121.84504364730495, 37.26570241531519], [-121.84504319687308, 37.26570237298607], [-121.84504326639492, 37.26570192594312], [-121.8454588821284, 37.26411560376959], [-121.8454590481281, 37.26411515493847], [-121.84545937301627, 37.26411480357967], [-121.84553555735818, 37.264047101569865], [-121.84553740986806, 37.26404490220218], [-121.84561739843399, 37.26391609754919], [-121.84561825869153, 37.26391435404626], [-121.84561876532746, 37.26391247703652], [-121.84564294780816, 37.26376837976061], [-121.84564308492342, 37.2637665984463], [-121.845642902876, 37.263764821161864], [-121.84561620632671, 37.26362713850104], [-121.8456161626735, 37.263626589107936], [-121.84561624240136, 37.263626043780675], [-121.84625645334246, 37.26119404842661], [-121.84625695058111, 37.261192836540005], [-121.84631264383171, 37.261095859964264], [-121.84631339796987, 37.26109421953847], [-121.84631384485196, 37.2610924702479], [-121.84631396991091, 37.26109066911454], [-121.8463117339625, 37.26098458665782], [-121.84631175497799, 37.26098420790069], [-121.84631183347416, 37.26098383677129], [-121.84641056152577, 37.26064677450388], [-121.84641079977622, 37.26064612950078], [-121.8464828407363, 37.26048598524567], [-121.8464834334615, 37.26048426355294], [-121.84648370416564, 37.260482462922965], [-121.84649267686396, 37.260328072296936], [-121.84649286687126, 37.26032696921641], [-121.84665845857208, 37.25975776449256], [-121.84665859482207, 37.259757361081746], [-121.84685190662469, 37.25925647647934], [-121.84685238770679, 37.259255539131466], [-121.84693642661091, 37.25912727824064], [-121.84693730380603, 37.25912561769259], [-121.84693785505893, 37.25912382241786], [-121.84696813959096, 37.25897734565169], [-121.84696840055197, 37.25897648432948], [-121.84813549818811, 37.25609212742162], [-121.8481359745502, 37.25609122735125], [-121.84817836023458, 37.256027793434946], [-121.84817931254986, 37.2560259957532], [-121.84817988134517, 37.2560240425415], [-121.84819737639981, 37.255928701056156], [-121.84819772061668, 37.25592758437759], [-121.84833101113234, 37.25562631274324], [-121.8483312480887, 37.255625897363025], [-121.84833172603268, 37.25562588128292], [-121.85256007335585, 37.255914887363886], [-121.85256046555767, 37.255914952679746], [-121.85256020238442, 37.255915250720385], [-121.85223931786732, 37.256214586574686], [-121.85223894298746, 37.25621487188613], [-121.85223850054753, 37.25621471007015], [-121.85213924234012, 37.25616667212132], [-121.85213755686776, 37.2561660366378], [-121.85213578473532, 37.256165713833], [-121.85213398344239, 37.25616571418081], [-121.8520447488428, 37.25617380123105], [-121.85204257480171, 37.256174245455995], [-121.85204055224648, 37.25617515817765], [-121.85198886061578, 37.25620579952728], [-121.85198720299145, 37.25620702980632], [-121.85198583329456, 37.25620857422703], [-121.85195984603023, 37.25624481339689], [-121.85195872154247, 37.256246843638586], [-121.85195809534498, 37.25624907841615], [-121.85194765800469, 37.25631505609365], [-121.85194755403838, 37.25631547290306], [-121.85194731337984, 37.25631582874377], [-121.85188329255462, 37.256394642426635], [-121.8518827733287, 37.25639519100733], [-121.85135417449168, 37.2568751103656], [-121.8513538192763, 37.25687544914055], [-121.85117805787567, 37.25705151322993], [-121.85117642493442, 37.25705366554094], [-121.85112011365591, 37.25715350457605], [-121.85111929545403, 37.257155382175895], [-121.85111887694832, 37.25715738709197], [-121.8511188756944, 37.25715943522134], [-121.8511299973284, 37.25726812023862], [-121.851130315029, 37.25726979602391], [-121.8511309128948, 37.25727139344261], [-121.85113177353276, 37.25727286602277], [-121.85119607033148, 37.25736402591186], [-121.85119718615461, 37.257365348232824], [-121.85119851320644, 37.25736645842533], [-121.8512996227595, 37.25743713126253], [-121.85129991956532, 37.25743737498498], [-121.85130017520456, 37.25743766159074], [-121.85138940143426, 37.2575548181322], [-121.85139066850199, 37.25755619328437], [-121.85139216943078, 37.25755730850496], [-121.85139385174055, 37.25755812480022], [-121.8515513166277, 37.25761705814999], [-121.85155238060565, 37.25761761035127], [-121.8519766133499, 37.25790742900738], [-121.85197738766698, 37.25790808267158], [-121.85209059862332, 37.25802532247968], [-121.85209202331112, 37.25802654431118], [-121.85209365121464, 37.258027478408415], [-121.85222343687877, 37.258086522952894], [-121.85222429541527, 37.25808702216145], [-121.85251309737932, 37.25829600567648], [-121.8525134283049, 37.25829629886779], [-121.8525131328325, 37.258296627758355], [-121.85216089310516, 37.25861842464306], [-121.8521595965266, 37.25861986315776], [-121.85215860153619, 37.258621524613325], [-121.85215794545044, 37.258623346697846], [-121.85214774264824, 37.25866353217255], [-121.8521474371669, 37.25866579121838], [-121.85214765124043, 37.25866806075124], [-121.85214837374424, 37.25867022283244], [-121.85216808374264, 37.258712446943505], [-121.85216915073455, 37.258714224601974], [-121.85217056136881, 37.25871574402699], [-121.85217225500871, 37.25871693990544], [-121.85230638335418, 37.25879213433108], [-121.85230828685962, 37.25879295515177], [-121.8523103187023, 37.25879336587674], [-121.85231239157227, 37.25879334885683], [-121.8523144163967, 37.25879290482338], [-121.85231630616722, 37.258792052856876], [-121.85231797967894, 37.25879082956698], [-121.85271146820244, 37.258435098603655], [-121.85271182791803, 37.25843483129998], [-121.85271221846635, 37.25843505111494], [-121.85284321011899, 37.2585263351181], [-121.8528458164362, 37.25852763450298], [-121.85293401987614, 37.25855650788482], [-121.85293561744804, 37.25855688893551], [-121.85293725584509, 37.25855700334995], [-121.853006658335, 37.25855613633138], [-121.853009078891, 37.25855580771502], [-121.85301134755663, 37.258554902046015], [-121.85317834846026, 37.25846317684141], [-121.85317877829803, 37.258462993543574], [-121.85317916691679, 37.258463253031685], [-121.8532073678618, 37.25848642948448], [-121.85320773102562, 37.25848680061173], [-121.85320779554239, 37.25848731584075], [-121.8532085020336, 37.25853081299841], [-121.85320845975825, 37.25853130964544], [-121.85320831854987, 37.25853178766826], [-121.85317809556499, 37.258605651101966], [-121.85317754624532, 37.258607470504806], [-121.85317735106285, 37.25860936097633], [-121.85317681970994, 37.2586782659311], [-121.8531769968707, 37.25868021858802], [-121.85317755163503, 37.25868209914419], [-121.8532047079552, 37.2587491044519], [-121.85320537390723, 37.25875044821285], [-121.85320623333028, 37.258751677268435], [-121.85325908104687, 37.25881632786004], [-121.85326109816275, 37.25881819778906], [-121.85461400856252, 37.2597629403606], [-121.8546144073809, 37.25976328817425], [-121.85461472272318, 37.259763713132664], [-121.85465017537116, 37.25982411135358], [-121.85465040945031, 37.259824648076105], [-121.85465050977676, 37.25982522496351], [-121.85465392195252, 37.259889970063234], [-121.85465385552642, 37.25989108422391], [-121.85462620217041, 37.26005050570952], [-121.85462606070911, 37.26005255148696], [-121.85462633953107, 37.26005458310575], [-121.8546628996636, 37.26020456351884], [-121.85466336203268, 37.260205987227515], [-121.85466403173979, 37.2602073259672], [-121.8547003054278, 37.260268009525646], [-121.8547011597001, 37.260269223849974], [-121.85470218435128, 37.26027029830551], [-121.8548148552083, 37.260372110926184], [-121.8548162608091, 37.26037317204579], [-121.85481783076553, 37.260373970121776], [-121.85497191720577, 37.260435894604186], [-121.85497429192874, 37.26043652374825], [-121.85650450217389, 37.26064567590956], [-121.85650594593506, 37.260645767629796], [-121.85692517055062, 37.26064201404933], [-121.85692644672321, 37.26064192075365], [-121.85719729670903, 37.260604580766014], [-121.85719830049769, 37.260604389682456], [-121.85747296186624, 37.26053740113825], [-121.85747345033421, 37.260537333266704], [-121.85747392607536, 37.260537463181606], [-121.85752904027431, 37.26055869678837], [-121.85752947422898, 37.26055891647028], [-121.85752970608883, 37.26055934404225], [-121.85756163611103, 37.26063571400256], [-121.8575624398309, 37.26063724770246], [-121.85756349607, 37.26063861976658], [-121.85756477316019, 37.260639789057684], [-121.8575662328117, 37.26064072051807], [-121.85764071964348, 37.260679622963714], [-121.85764245008592, 37.26068032964494], [-121.85764428181221, 37.26068070194612], [-121.85764615082498, 37.26068072685968], [-121.85771489115868, 37.26067519743207], [-121.85771672486047, 37.26067487608424], [-121.85771846722285, 37.26067422041661], [-121.85772005786029, 37.26067325315283], [-121.85776303152429, 37.260641286086475], [-121.85776430533942, 37.260640158125454], [-121.85776536949655, 37.2606388305447], [-121.85776619318936, 37.260637341776345], [-121.85779766899593, 37.26056689206455], [-121.85779832885314, 37.26056485132045], [-121.85779853836436, 37.260562716805744], [-121.85779828789201, 37.26056058670912], [-121.85779758895792, 37.26055855901606], [-121.85775927843456, 37.26047705247536], [-121.85775912643925, 37.26047663265204], [-121.85775921722261, 37.2604761954878], [-121.8577724733751, 37.260432847101505], [-121.85777265492297, 37.260432411044796], [-121.85777304744884, 37.26043214831199], [-121.85811433018054, 37.26024918550559], [-121.8581147165124, 37.26024902312596], [-121.85811482940153, 37.2602494267043], [-121.85816724715924, 37.260539907199046], [-121.85816730472335, 37.260540327663875], [-121.85835077913887, 37.262495019827234], [-121.85835079262725, 37.26249519750945], [-121.85842155693578, 37.263715044641394], [-121.85842156329285, 37.263715191577795], [-121.85846041780147, 37.26507676941293], [-121.85846047135867, 37.26507755617554], [-121.85851570925725, 37.26558986077303], [-121.85851571273525, 37.265590315769025]]]]}\", \"centroid\": [-121.85173107097286, 37.26162122320782], \"page_url\": \"https://nextdoor.com/neighborhood/10vistapark--san-jose--ca\", \"short_name\": \"Vista  Park\", \"stroke_color\": \"#67C2A5\", \"fill_color\": \"#67C2A5\", \"stroke_weight\": 1, \"fill_opacity\": 0.35}, {\"type\": \"MULTIPOLYGON\", \"name\": \"Nextdoor Eden Hill\", \"info\": \"\", \"id\": 169870, \"geometry\": \"{\\\"type\\\": \\\"MultiPolygon\\\", \\\"coordinates\\\": [[[[-121.81364692411847, 37.269661398391094], [-121.81362708711015, 37.27298687217585], [-121.8107117458552, 37.27297234024629], [-121.81068152995243, 37.27164558242695], [-121.80975507306346, 37.27154376907664], [-121.80961182120683, 37.270946764803476], [-121.81136379634495, 37.27067483345809], [-121.81133795955748, 37.269695534031555], [-121.81147320241234, 37.26967846621313], [-121.81364692411847, 37.269661398391094]]]]}\", \"centroid\": [-121.81210168890888, 37.27139405609792], \"page_url\": \"https://nextdoor.com/neighborhood/edenhill--san-jose--ca\", \"short_name\": \"Eden Hill\", \"stroke_color\": \"#67C2A5\", \"fill_color\": \"#67C2A5\", \"stroke_weight\": 1, \"fill_opacity\": 0.35}, {\"type\": \"MULTIPOLYGON\", \"name\": \"Nextdoor Playa Del Rey\", \"info\": \"\", \"id\": 35469, \"geometry\": \"{\\\"type\\\": \\\"MultiPolygon\\\", \\\"coordinates\\\": [[[[-121.85891236721955, 37.25033001567477], [-121.85295669926325, 37.2503281235563], [-121.84889963336792, 37.25055662046267], [-121.84179557803168, 37.25058015433331], [-121.83867149417705, 37.25065418202774], [-121.83694215901, 37.25076237001149], [-121.8424527956218, 37.253455323384166], [-121.84403235550087, 37.25421621467454], [-121.84501110056067, 37.25463551307222], [-121.84590401493199, 37.25489682633306], [-121.8467969293032, 37.25508982193402], [-121.84764692833028, 37.25524011914755], [-121.84841109666883, 37.25527086207059], [-121.85890180848969, 37.255482646796935], [-121.85891236721955, 37.25033001567477], [-121.85891236721955, 37.25033001567477]]]]}\", \"centroid\": [-121.85017893726186, 37.25268422886372], \"page_url\": \"https://nextdoor.com/neighborhood/10playadelreysanjose--san-jose--ca\", \"short_name\": \"Playa Del Rey\", \"stroke_color\": \"#67C2A5\", \"fill_color\": \"#67C2A5\", \"stroke_weight\": 1, \"fill_opacity\": 0.35}, {\"type\": \"MULTIPOLYGON\", \"name\": \"Nextdoor Carson\", \"info\": \"\", \"id\": 1740, \"geometry\": \"{\\\"type\\\": \\\"MultiPolygon\\\", \\\"coordinates\\\": [[[[-121.86314216615165, 37.27461073664113], [-121.86188527989805, 37.27447944592068], [-121.86110046243107, 37.274442073042565], [-121.86035543212898, 37.27443043561924], [-121.85927496610032, 37.274437535435375], [-121.85465398417193, 37.2745470840692], [-121.84982952449866, 37.274594217498866], [-121.84979293972526, 37.27242727288935], [-121.84971694693803, 37.272134673030315], [-121.849611286955, 37.271875523869525], [-121.84656916581679, 37.26590334653383], [-121.84731367750061, 37.26587099856733], [-121.84799844413646, 37.265837228775666], [-121.84853291681839, 37.26581091680343], [-121.84958237363128, 37.265613837851944], [-121.85035287388632, 37.265521253353214], [-121.85146669689527, 37.26552259241172], [-121.8536351199715, 37.26582316760373], [-121.85447316737645, 37.26593589829198], [-121.8551706795298, 37.26598239360709], [-121.85580701993968, 37.26597330187408], [-121.85906160517379, 37.26596210278129], [-121.85948145859686, 37.26758662567601], [-121.85976733198663, 37.268321041818744], [-121.86010688624305, 37.26898407439269], [-121.86045361390961, 37.26948834692667], [-121.8609037648622, 37.270042643664176], [-121.86137187690281, 37.270683684636914], [-121.86189364808985, 37.27143502172705], [-121.86227642254335, 37.272054760664666], [-121.86256367691601, 37.27259135828711], [-121.86280858014084, 37.27330355819361], [-121.86297301597625, 37.27389234217862], [-121.86313745181178, 37.27460065064306], [-121.86314216615165, 37.27461073664113], [-121.86314216615165, 37.27461073664113]]]]}\", \"centroid\": [-121.85478123854439, 37.270223451892285], \"page_url\": \"https://nextdoor.com/neighborhood/10carsonsj--san-jose--ca\", \"short_name\": \"Carson\", \"stroke_color\": \"#67C2A5\", \"fill_color\": \"#67C2A5\", \"stroke_weight\": 1, \"fill_opacity\": 0.35}, {\"type\": \"MULTIPOLYGON\", \"name\": \"Nextdoor Blossom Hill Homes\", \"info\": \"\", \"id\": 170220, \"geometry\": \"{\\\"type\\\": \\\"MultiPolygon\\\", \\\"coordinates\\\": [[[[-121.84278227477262, 37.254974003832274], [-121.83996227134372, 37.25500861488878], [-121.83997537408851, 37.25405862058821], [-121.83578174179507, 37.25410417152173], [-121.83575006156235, 37.25098132701665], [-121.83694901367448, 37.25076956253645], [-121.84245131069872, 37.25344219984745], [-121.84278227477262, 37.254974003832274], [-121.84278227477262, 37.254974003832274], [-121.84278227477262, 37.254974003832274]]]]}\", \"centroid\": [-121.83880732849286, 37.25307128678868], \"page_url\": \"https://nextdoor.com/neighborhood/10blossomhillhomes--san-jose--ca\", \"short_name\": \"Blossom Hill Homes\", \"stroke_color\": \"#67C2A5\", \"fill_color\": \"#67C2A5\", \"stroke_weight\": 1, \"fill_opacity\": 0.35}, {\"type\": \"MULTIPOLYGON\", \"name\": \"Nextdoor Ellmar Oaks\", \"info\": \"\", \"id\": 257800, \"geometry\": \"{\\\"type\\\": \\\"MultiPolygon\\\", \\\"coordinates\\\": [[[[-121.849626, 37.272495], [-121.849626, 37.272496], [-121.84978899999999, 37.272446], [-121.849828, 37.274591], [-121.84696600000001, 37.274644], [-121.84609, 37.274749], [-121.84527200000002, 37.274967], [-121.84492399999999, 37.27444], [-121.84442100000001, 37.273935], [-121.84465399999999, 37.273769], [-121.84465499999999, 37.273769], [-121.84531400000003, 37.273496], [-121.84531400000003, 37.273496], [-121.84531500000003, 37.273496], [-121.84603199999998, 37.273493], [-121.84648099999998, 37.273448], [-121.84732600000001, 37.273239], [-121.84732600000001, 37.273239], [-121.849626, 37.272495], [-121.849626, 37.272495], [-121.849626, 37.272495], [-121.849626, 37.272495], [-121.849626, 37.272495]]]]}\", \"centroid\": [-121.84753996609894, 37.27387654110272], \"page_url\": \"https://nextdoor.com/neighborhood/ellmaroaks--san-jose--ca\", \"short_name\": \"Ellmar Oaks\", \"stroke_color\": \"#67C2A5\", \"fill_color\": \"#67C2A5\", \"stroke_weight\": 1, \"fill_opacity\": 0.35}, {\"type\": \"MULTIPOLYGON\", \"name\": \"Nextdoor Bella Villagio\", \"info\": \"\", \"id\": 179040, \"geometry\": \"{\\\"type\\\": \\\"MultiPolygon\\\", \\\"coordinates\\\": [[[[-121.84387937936151, 37.27569507950239], [-121.84440003209164, 37.27533468239675], [-121.84526400757568, 37.27497428356594], [-121.84609073631492, 37.274748649764106], [-121.84695025992488, 37.27463887616797], [-121.84982802143918, 37.27459007643061], [-121.84989875768633, 37.275090573604636], [-121.85003068533445, 37.27543473120655], [-121.85025758169951, 37.2757434056419], [-121.85063925078344, 37.276059949746944], [-121.8510875773909, 37.2762779816936], [-121.85087237109536, 37.27650734006765], [-121.84750462126112, 37.276092673664294], [-121.84387937936151, 37.27569507950239], [-121.84387937936151, 37.27569507950239]]]]}\", \"centroid\": [-121.84775876582309, 37.275462331769106], \"page_url\": \"https://nextdoor.com/neighborhood/bellavillagio--san-jose--ca\", \"short_name\": \"Bella Villagio\", \"stroke_color\": \"#67C2A5\", \"fill_color\": \"#67C2A5\", \"stroke_weight\": 1, \"fill_opacity\": 0.35}, {\"type\": \"MULTIPOLYGON\", \"name\": \"Nextdoor Blossom Village\", \"info\": \"\", \"id\": 155750, \"geometry\": \"{\\\"type\\\": \\\"MultiPolygon\\\", \\\"coordinates\\\": [[[[-121.83413810188654, 37.25401763215795], [-121.83411907692044, 37.25311610929816], [-121.8351407490523, 37.253115532242745], [-121.83514909451105, 37.25400615500221], [-121.83413810188654, 37.25401763215795]]]]}\", \"centroid\": [-121.83463570765691, 37.2535630909681], \"page_url\": \"https://nextdoor.com/neighborhood/10blossomvillage--san-jose--ca\", \"short_name\": \"Blossom Village\", \"stroke_color\": \"#67C2A5\", \"fill_color\": \"#67C2A5\", \"stroke_weight\": 1, \"fill_opacity\": 0.35}, {\"type\": \"MULTIPOLYGON\", \"name\": \"Nextdoor San  Ramon\", \"info\": \"\", \"id\": 169869, \"geometry\": \"{\\\"type\\\": \\\"MultiPolygon\\\", \\\"coordinates\\\": [[[[-121.82460686490413, 37.27811530245245], [-121.82329109039637, 37.27812509096151], [-121.82326277621564, 37.27753728814342], [-121.82251843040933, 37.277282622760936], [-121.82218178037317, 37.277079179163266], [-121.82213075279242, 37.2729926883377], [-121.82474531432297, 37.273970318464265], [-121.82719465885498, 37.27464081931172], [-121.82794390081443, 37.27458185172144], [-121.82975574689283, 37.27301189681796], [-121.82992204255544, 37.2731272842364], [-121.8304145246035, 37.27345687719502], [-121.83176531353627, 37.27460606215782], [-121.83519471922273, 37.27795608234067], [-121.83469918687388, 37.27810002001433], [-121.82460686490413, 37.27811530245245], [-121.82460686490413, 37.27811530245245]]]]}\", \"centroid\": [-121.82779111834789, 37.27607120521887], \"page_url\": \"https://nextdoor.com/neighborhood/2sanramon--san-jose--ca\", \"short_name\": \"San  Ramon\", \"stroke_color\": \"#67C2A5\", \"fill_color\": \"#67C2A5\", \"stroke_weight\": 1, \"fill_opacity\": 0.35}, {\"type\": \"MULTIPOLYGON\", \"name\": \"Nextdoor Rancho\", \"info\": \"\", \"id\": 169868, \"geometry\": \"{\\\"type\\\": \\\"MultiPolygon\\\", \\\"coordinates\\\": [[[[-121.83400926554617, 37.28427314126671], [-121.83399160222893, 37.28366444886438], [-121.83414963730183, 37.28271591451669], [-121.83445332410656, 37.28215491837067], [-121.83490501548295, 37.281295970783304], [-121.83564638543294, 37.28101750838301], [-121.8372385742174, 37.279963405946], [-121.83991101733238, 37.28254121603021], [-121.83589584732033, 37.284260012231925], [-121.83400926554617, 37.28427314126671], [-121.83400926554617, 37.28427314126671], [-121.83400926554617, 37.28427314126671]]]]}\", \"centroid\": [-121.83659221963752, 37.28237188228939], \"page_url\": \"https://nextdoor.com/neighborhood/7ranchosanjose--san-jose--ca\", \"short_name\": \"Rancho\", \"stroke_color\": \"#67C2A5\", \"fill_color\": \"#67C2A5\", \"stroke_weight\": 1, \"fill_opacity\": 0.35}, {\"type\": \"MULTIPOLYGON\", \"name\": \"Nextdoor River View Skyway\", \"info\": \"\", \"id\": 234689, \"geometry\": \"{\\\"type\\\": \\\"MultiPolygon\\\", \\\"coordinates\\\": [[[[-121.8221687083037, 37.277060591173864], [-121.8221683366811, 37.27706476938372], [-121.82216467651017, 37.27706272031324], [-121.82131956875116, 37.27647404998017], [-121.82031352845132, 37.27644883078688], [-121.82030911988318, 37.2764483172023], [-121.82030487395707, 37.27644702439393], [-121.81988639486337, 37.27630673599994], [-121.81936062740897, 37.27606400077543], [-121.81934352079554, 37.27605878729342], [-121.81932575911719, 37.27605670417187], [-121.81696227601947, 37.275988671137554], [-121.81694840801879, 37.27635603582799], [-121.81694753380566, 37.27636021559519], [-121.81694327565083, 37.276360536249555], [-121.81422828809235, 37.27630170688398], [-121.81436825040453, 37.2767913785766], [-121.81397404788686, 37.27687157007556], [-121.81357984536919, 37.277011521300274], [-121.81330102118841, 37.2765486182489], [-121.8132855729175, 37.27623861576188], [-121.81261059557232, 37.276200921005234], [-121.81219264062935, 37.27632720599097], [-121.81134553224388, 37.2766669198562], [-121.8113203624003, 37.27668062666917], [-121.81085180700222, 37.27703128317058], [-121.81084714885685, 37.27703401892426], [-121.8107773933906, 37.2770857018918], [-121.81053368762315, 37.27705554932702], [-121.81001103211827, 37.27706808229264], [-121.80972746846862, 37.27710168532031], [-121.80902086630056, 37.27733963302932], [-121.80899559180165, 37.275729813372195], [-121.80899595362075, 37.27572535684342], [-121.80900039037743, 37.275724802990524], [-121.8089419535861, 37.27294609249894], [-121.81243743361239, 37.27299097371896], [-121.81243732938003, 37.272986709986725], [-121.81244157576697, 37.27298631189771], [-121.82211940879569, 37.27299004463313], [-121.82212385595352, 37.27299048120109], [-121.82212433931147, 37.27299492351699], [-121.8221687083037, 37.277060591173864], [-121.8221687083037, 37.277060591173864]]]]}\", \"centroid\": [-121.81533967150412, 37.27475184732709], \"page_url\": \"https://nextdoor.com/neighborhood/riverviewskyway--san-jose--ca\", \"short_name\": \"River View Skyway\", \"stroke_color\": \"#67C2A5\", \"fill_color\": \"#67C2A5\", \"stroke_weight\": 1, \"fill_opacity\": 0.35}, {\"type\": \"MULTIPOLYGON\", \"name\": \"Nextdoor The Woods\", \"info\": \"\", \"id\": 257380, \"geometry\": \"{\\\"type\\\": \\\"MultiPolygon\\\", \\\"coordinates\\\": [[[[-121.84196844863874, 37.27698961714544], [-121.83726508712277, 37.279979574524575], [-121.83186813936402, 37.27468123748597], [-121.83038721676706, 37.27343795766438], [-121.83700424676078, 37.273413010695094], [-121.83753802670867, 37.273174625330384], [-121.83794367411195, 37.27364304709147], [-121.83839223685953, 37.27397486675258], [-121.83914120701684, 37.27426399784286], [-121.83965414278077, 37.27458727738021], [-121.84009656042758, 37.275026652730986], [-121.84196844863874, 37.27698961714544], [-121.84196844863874, 37.27698961714544]]]]}\", \"centroid\": [-121.8367183729801, 37.276033854252645], \"page_url\": \"https://nextdoor.com/neighborhood/thewoodsca--san-jose--ca\", \"short_name\": \"The Woods\", \"stroke_color\": \"#67C2A5\", \"fill_color\": \"#67C2A5\", \"stroke_weight\": 1, \"fill_opacity\": 0.35}, {\"type\": \"MULTIPOLYGON\", \"name\": \"Nextdoor Havens-Monterey-Edenvale\", \"info\": \"\", \"id\": 169867, \"geometry\": \"{\\\"type\\\": \\\"MultiPolygon\\\", \\\"coordinates\\\": [[[[-121.82672285217467, 37.27451139803789], [-121.82524686536487, 37.27410062974259], [-121.82524228449728, 37.27409885768063], [-121.82524048708001, 37.274094286702386], [-121.82470053083875, 37.27396036619833], [-121.82216501109042, 37.2730068435217], [-121.82207215152539, 37.272995125881295], [-121.81817635902996, 37.272963918137904], [-121.81363683637096, 37.27298393581455], [-121.8136323020974, 37.27298347775662], [-121.8136319809472, 37.27297893173458], [-121.81365329496248, 37.26919586192734], [-121.8152453035986, 37.26916844975757], [-121.8152714689819, 37.26625681923488], [-121.81383381375122, 37.26623534649336], [-121.81385238171845, 37.26245402785914], [-121.82201120656532, 37.267457894107906], [-121.82976233564199, 37.273016697386424], [-121.82796364417078, 37.27458364511259], [-121.82721450214001, 37.2746328954544], [-121.82672285217467, 37.27451139803789]]]]}\", \"centroid\": [-121.81998311213086, 37.26982761251733], \"page_url\": \"https://nextdoor.com/neighborhood/havensmontereyedenvale--san-jose--ca\", \"short_name\": \"Havens-Monterey-Edenvale\", \"stroke_color\": \"#67C2A5\", \"fill_color\": \"#67C2A5\", \"stroke_weight\": 1, \"fill_opacity\": 0.35}, {\"type\": \"MULTIPOLYGON\", \"name\": \"Nextdoor Park Place\", \"info\": \"\", \"id\": 170042, \"geometry\": \"{\\\"type\\\": \\\"MultiPolygon\\\", \\\"coordinates\\\": [[[[-121.83165928559964, 37.26801537939611], [-121.8316591278857, 37.26801581677803], [-121.83150089788398, 37.26834787322138], [-121.8315001580209, 37.26835003035562], [-121.83149992612005, 37.26835229902208], [-121.831519022566, 37.269891296052194], [-121.8315192403872, 37.26989325140972], [-121.83151983683388, 37.269895126275166], [-121.83152078881847, 37.26989684807495], [-121.83169900320286, 37.270134131526156], [-121.83133294677941, 37.27034139463027], [-121.82895984599168, 37.27246115712966], [-121.8246832839339, 37.26938333683985], [-121.82466440329677, 37.26617061979949], [-121.8253405412404, 37.26604584811916], [-121.8311231513909, 37.26600077898902], [-121.83115504526569, 37.266683445383364], [-121.83124609405547, 37.26704185274775], [-121.8314096356471, 37.26734059081326], [-121.83163088131164, 37.26766072305232], [-121.83183806366844, 37.26790617016012], [-121.83165900792716, 37.268015006469064], [-121.83165928559964, 37.26801537939611], [-121.83165928559964, 37.26801537939611], [-121.83165928559964, 37.26801537939611]]]]}\", \"centroid\": [-121.82824331341612, 37.2686428372683], \"page_url\": \"https://nextdoor.com/neighborhood/10parkplace--san-jose--ca\", \"short_name\": \"Park Place\", \"stroke_color\": \"#67C2A5\", \"fill_color\": \"#67C2A5\", \"stroke_weight\": 1, \"fill_opacity\": 0.35}, {\"type\": \"MULTIPOLYGON\", \"name\": \"Nextdoor Hayes\", \"info\": \"\", \"id\": 170018, \"geometry\": \"{\\\"type\\\": \\\"MultiPolygon\\\", \\\"coordinates\\\": [[[[-121.82537500000001, 37.266041], [-121.82471299999997, 37.26613], [-121.82469800000001, 37.262985], [-121.824637, 37.262983], [-121.82461899999998, 37.262657], [-121.82374400000003, 37.262598], [-121.823712, 37.261688], [-121.821778, 37.261693], [-121.82095800000002, 37.261457], [-121.82074, 37.261431], [-121.82046500000001, 37.261425], [-121.81997000000001, 37.261535], [-121.81957899999998, 37.261666], [-121.81942400000003, 37.26168], [-121.819432, 37.258885], [-121.83095600000001, 37.258765], [-121.83107060185245, 37.2606413480703], [-121.83103499999999, 37.264584], [-121.83111100000002, 37.265994], [-121.82537500000001, 37.266041], [-121.82537500000001, 37.266041]]]]}\", \"centroid\": [-121.82644906103155, 37.26189606709322], \"page_url\": \"https://nextdoor.com/neighborhood/2hayes--san-jose--ca\", \"short_name\": \"Hayes\", \"stroke_color\": \"#67C2A5\", \"fill_color\": \"#67C2A5\", \"stroke_weight\": 1, \"fill_opacity\": 0.35}, {\"type\": \"MULTIPOLYGON\", \"name\": \"Nextdoor Capitol Village - Baroni\", \"info\": \"\", \"id\": 223440, \"geometry\": \"{\\\"type\\\": \\\"MultiPolygon\\\", \\\"coordinates\\\": [[[[-121.83966666788069, 37.27460532490846], [-121.8391531890432, 37.27428546040314], [-121.83841174471746, 37.27397987214029], [-121.83796592070212, 37.273664865370414], [-121.83774540224397, 37.273418157473486], [-121.84295459074093, 37.273386760831634], [-121.84358266016642, 37.27382772246036], [-121.84406465305824, 37.27419036552828], [-121.844437169235, 37.27393003739412], [-121.84492233763768, 37.274437099031644], [-121.8452680311716, 37.27497403796228], [-121.84441209506684, 37.275323152610646], [-121.84196829122527, 37.277004067097316], [-121.84082820838898, 37.275796168307565], [-121.83966666788069, 37.27460532490846], [-121.83966666788069, 37.27460532490846], [-121.83966666788069, 37.27460532490846]]]]}\", \"centroid\": [-121.84188208644096, 37.27472624279541], \"page_url\": \"https://nextdoor.com/neighborhood/capitolvillagebaroni--san-jose--ca\", \"short_name\": \"Capitol Village - Baroni\", \"stroke_color\": \"#67C2A5\", \"fill_color\": \"#67C2A5\", \"stroke_weight\": 1, \"fill_opacity\": 0.35}, {\"type\": \"MULTIPOLYGON\", \"name\": \"Nextdoor Frontier Village\", \"info\": \"\", \"id\": 176961, \"geometry\": \"{\\\"type\\\": \\\"MultiPolygon\\\", \\\"coordinates\\\": [[[[-121.8247250233552, 37.26611237329981], [-121.82467886112295, 37.2661616995813], [-121.8246830961831, 37.26938531658402], [-121.82374499253763, 37.26869418738375], [-121.82199149735169, 37.26744807108217], [-121.81935354270058, 37.265826696492375], [-121.81942887177968, 37.26166389484042], [-121.81957239836538, 37.26165586141937], [-121.81999487468852, 37.2615282839382], [-121.82047504690877, 37.26142682831831], [-121.82094449029313, 37.26145772525838], [-121.82177086002605, 37.26169955539019], [-121.82371595121964, 37.26170607315902], [-121.82375253498935, 37.26259704050595], [-121.82460987471768, 37.26264693598788], [-121.82463991785482, 37.26299513389762], [-121.82470214750003, 37.26299751357733], [-121.8247250233552, 37.26611237329981], [-121.8247250233552, 37.26611237329981]]]]}\", \"centroid\": [-121.82223200749688, 37.26475017410156], \"page_url\": \"https://nextdoor.com/neighborhood/frontiervillage--san-jose--ca\", \"short_name\": \"Frontier Village\", \"stroke_color\": \"#67C2A5\", \"fill_color\": \"#67C2A5\", \"stroke_weight\": 1, \"fill_opacity\": 0.35}, {\"type\": \"MULTIPOLYGON\", \"name\": \"Nextdoor Parkview\", \"info\": \"\", \"id\": 170041, \"geometry\": \"{\\\"type\\\": \\\"MultiPolygon\\\", \\\"coordinates\\\": [[[[-121.84733042075891, 37.27323730912491], [-121.84732616808958, 37.27323825271329], [-121.84732420444891, 37.27323436431117], [-121.8464685780225, 37.27344502914228], [-121.84602333045063, 37.273490598778075], [-121.84530449755937, 37.273493480841466], [-121.84465003680907, 37.27378098229641], [-121.8440733601202, 37.274179469372754], [-121.84406925710778, 37.27418127569801], [-121.84406539175995, 37.274179004881496], [-121.84298624298049, 37.27339918360302], [-121.84296801623645, 37.27338873529427], [-121.84294800879081, 37.27338232565509], [-121.84292710373501, 37.273380237595006], [-121.83797756954266, 37.27340838448702], [-121.83797295335103, 37.273407962156405], [-121.83796995227772, 37.27340442928968], [-121.83774095351902, 37.273430038922605], [-121.83757632777667, 37.27316537245267], [-121.83556634223214, 37.270245471266705], [-121.83517641093255, 37.26970757999306], [-121.83562733416579, 37.26947978102128], [-121.83609971507116, 37.2685860150065], [-121.83604878426223, 37.26602740296853], [-121.84657296082037, 37.26590509870344], [-121.84973281307975, 37.2721215743719], [-121.84978111801848, 37.272265480572955], [-121.84980260086718, 37.27244780584407], [-121.84733042075891, 37.27323730912491], [-121.84733042075891, 37.27323730912491], [-121.84733042075891, 37.27323730912491]]]]}\", \"centroid\": [-121.84229644489677, 37.269789156611104], \"page_url\": \"https://nextdoor.com/neighborhood/10parkview--san-jose--ca\", \"short_name\": \"Parkview\", \"stroke_color\": \"#67C2A5\", \"fill_color\": \"#67C2A5\", \"stroke_weight\": 1, \"fill_opacity\": 0.35}, {\"type\": \"MULTIPOLYGON\", \"name\": \"Nextdoor Colony  Green\", \"info\": \"\", \"id\": 170221, \"geometry\": \"{\\\"type\\\": \\\"MultiPolygon\\\", \\\"coordinates\\\": [[[[-121.84296843665373, 37.25901123574521], [-121.84031487434032, 37.259015986016465], [-121.8402988671279, 37.25828534029487], [-121.84045534482834, 37.25774533117827], [-121.84043470595458, 37.25594295965149], [-121.8405748695236, 37.25536042105384], [-121.8405849407244, 37.255000716271816], [-121.84278227477262, 37.254974003832274], [-121.84325974530651, 37.257106653628135], [-121.84354562789844, 37.25755150430286], [-121.84296061046746, 37.25868357844244], [-121.84296843665373, 37.25901123574521], [-121.84296843665373, 37.25901123574521]]]]}\", \"centroid\": [-121.84178516581903, 37.257072011784565], \"page_url\": \"https://nextdoor.com/neighborhood/10colonygreen--san-jose--ca\", \"short_name\": \"Colony  Green\", \"stroke_color\": \"#67C2A5\", \"fill_color\": \"#67C2A5\", \"stroke_weight\": 1, \"fill_opacity\": 0.35}, {\"type\": \"MULTIPOLYGON\", \"name\": \"Nextdoor Del Robles\", \"info\": \"\", \"id\": 170222, \"geometry\": \"{\\\"type\\\": \\\"MultiPolygon\\\", \\\"coordinates\\\": [[[[-121.84031487434032, 37.259015986016465], [-121.8326404809477, 37.25901031101274], [-121.83181479832024, 37.2587509767178], [-121.83094112468126, 37.25874303961868], [-121.83082572156428, 37.251273755778136], [-121.83349173944845, 37.251266317178285], [-121.83464235817746, 37.25116865746883], [-121.83575410934492, 37.25099172673684], [-121.83575006156235, 37.251241798511096], [-121.83576871045665, 37.253093207163076], [-121.83514171245724, 37.25311998885189], [-121.83412311194161, 37.253121151071916], [-121.8341371618967, 37.25401685423951], [-121.83515269746385, 37.2540078281574], [-121.83514548111657, 37.253123718695726], [-121.83576858388773, 37.2530978560447], [-121.83578174179507, 37.25410417152173], [-121.83997537408851, 37.25405862058821], [-121.83996227134372, 37.25500861488878], [-121.8405849407244, 37.255000716271816], [-121.8405748695236, 37.25536042105384], [-121.84043470595458, 37.25594295965149], [-121.84045534482834, 37.25774533117827], [-121.8402988671279, 37.25828534029487], [-121.84031487434032, 37.259015986016465], [-121.84031487434032, 37.259015986016465], [-121.84031487434032, 37.259015986016465], [-121.84031487434032, 37.259015986016465]]]]}\", \"centroid\": [-121.83512477709799, 37.25565975827236], \"page_url\": \"https://nextdoor.com/neighborhood/10delrobles--san-jose--ca\", \"short_name\": \"Del Robles\", \"stroke_color\": \"#67C2A5\", \"fill_color\": \"#67C2A5\", \"stroke_weight\": 1, \"fill_opacity\": 0.35}, {\"type\": \"MULTIPOLYGON\", \"name\": \"Nextdoor Berry Park\", \"info\": \"\", \"id\": 182946, \"geometry\": \"{\\\"type\\\": \\\"MultiPolygon\\\", \\\"coordinates\\\": [[[[-121.83699970441677, 37.27342245329562], [-121.83038285666015, 37.27344147165533], [-121.82896005955195, 37.27246012434002], [-121.83124295873398, 37.27041192773851], [-121.83170601776925, 37.27011396438045], [-121.83153071105897, 37.269909916997925], [-121.83149879572295, 37.26833972957125], [-121.83167585541446, 37.26800897836], [-121.83185291510603, 37.267908755956775], [-121.83218551749803, 37.2682049474521], [-121.83260395057846, 37.268475523545504], [-121.83316722294569, 37.26870767743262], [-121.83383778367352, 37.268914216516414], [-121.83383795315603, 37.26891258565532], [-121.83431401199527, 37.269076294775545], [-121.83472569781821, 37.269325383429425], [-121.8350193664445, 37.26954885738726], [-121.8352915773986, 37.26984063411841], [-121.83758372298132, 37.27315543556455], [-121.83699970441677, 37.27342245329562], [-121.83699970441677, 37.27342245329562], [-121.83699970441677, 37.27342245329562]]]]}\", \"centroid\": [-121.8332721182949, 37.27145124812787], \"page_url\": \"https://nextdoor.com/neighborhood/10berrypark2--san-jose--ca\", \"short_name\": \"Berry Park\", \"stroke_color\": \"#67C2A5\", \"fill_color\": \"#67C2A5\", \"stroke_weight\": 1, \"fill_opacity\": 0.35}, {\"type\": \"MULTIPOLYGON\", \"name\": \"Nextdoor Oak Grove\", \"info\": \"\", \"id\": 170016, \"geometry\": \"{\\\"type\\\": \\\"MultiPolygon\\\", \\\"coordinates\\\": [[[[-121.83097065459589, 37.258750608587555], [-121.81938373741264, 37.25888918280493], [-121.81281791550532, 37.258882591049556], [-121.8122368225919, 37.258943198582145], [-121.81174156036701, 37.259106275848715], [-121.81144067850931, 37.259215374472475], [-121.8110498840984, 37.25939798157055], [-121.810723462704, 37.25964036182506], [-121.81014309405072, 37.26025932729414], [-121.8025146814723, 37.2557487687562], [-121.80761652315232, 37.25188547620086], [-121.80842930251725, 37.25152169469035], [-121.8091347935216, 37.25131163205396], [-121.8098080980177, 37.25123820951014], [-121.81033584014972, 37.25126682405036], [-121.81168970265838, 37.25146623894921], [-121.8127130004143, 37.25150638783897], [-121.82833896854004, 37.2513940422519], [-121.82918893800019, 37.25131224932116], [-121.83085429900086, 37.251298776554805], [-121.83086956145411, 37.254768596111944], [-121.83097065459589, 37.258750608587555], [-121.83097065459589, 37.258750608587555], [-121.83097065459589, 37.258750608587555], [-121.83097065459589, 37.258750608587555], [-121.83097065459589, 37.258750608587555]]]]}\", \"centroid\": [-121.81790595736643, 37.25523352398664], \"page_url\": \"https://nextdoor.com/neighborhood/2oakgrovesanjose--san-jose--ca\", \"short_name\": \"Oak Grove\", \"stroke_color\": \"#67C2A5\", \"fill_color\": \"#67C2A5\", \"stroke_weight\": 1, \"fill_opacity\": 0.35}, {\"type\": \"MULTIPOLYGON\", \"name\": \"Nextdoor Seven Trees\", \"info\": \"\", \"id\": 169964, \"geometry\": \"{\\\"type\\\": \\\"MultiPolygon\\\", \\\"coordinates\\\": [[[[-121.82726086128412, 37.28713246473534], [-121.82374692452555, 37.28312352386413], [-121.8234520605368, 37.28255446314101], [-121.82328818979602, 37.27811529147252], [-121.83216047936014, 37.27805145419698], [-121.83470827234822, 37.27810206923897], [-121.83519612881287, 37.27794779637539], [-121.83726174921486, 37.27997302069957], [-121.83495083000048, 37.28166408943609], [-121.83445336935029, 37.28239835238626], [-121.83420267192946, 37.283098462492404], [-121.83410897285808, 37.28383283168717], [-121.83411469376438, 37.28478937650506], [-121.83222943908794, 37.284377257425525], [-121.82726086128412, 37.28713246473534], [-121.82726086128412, 37.28713246473534]]]]}\", \"centroid\": [-121.82938496050137, 37.28157164493533], \"page_url\": \"https://nextdoor.com/neighborhood/7seventrees--san-jose--ca\", \"short_name\": \"Seven Trees\", \"stroke_color\": \"#67C2A5\", \"fill_color\": \"#67C2A5\", \"stroke_weight\": 1, \"fill_opacity\": 0.35}, {\"type\": \"MULTIPOLYGON\", \"name\": \"Nextdoor Avana Skyway\", \"info\": \"\", \"id\": 322348, \"geometry\": \"{\\\"type\\\": \\\"MultiPolygon\\\", \\\"coordinates\\\": [[[[-121.8360515683695, 37.26602677202032], [-121.83610459616466, 37.268594418464495], [-121.83564294802147, 37.269459849542486], [-121.83517055787303, 37.26970890275868], [-121.8350307616426, 37.26954813424238], [-121.83474044034551, 37.26933759003701], [-121.83429927262011, 37.26907872226406], [-121.8331883202012, 37.268711473979835], [-121.83260308074921, 37.26847229522604], [-121.83218950267411, 37.268207501384175], [-121.8318325099317, 37.26790007233028], [-121.83162719147037, 37.26766951382514], [-121.83143906919531, 37.267377073816505], [-121.83124021808413, 37.26704194146938], [-121.83115365210756, 37.2666619745875], [-121.83111072948645, 37.26599701818959], [-121.83099270501282, 37.263684119568765], [-121.83831246442287, 37.26350892516025], [-121.83830308219552, 37.265999957023055], [-121.8360515683695, 37.26602677202032]]]]}\", \"centroid\": [-121.83438410511644, 37.2659425090514], \"page_url\": null, \"short_name\": \"Avana Skyway\", \"stroke_color\": \"#00b246\", \"fill_color\": \"#00b246\", \"stroke_weight\": 1, \"fill_opacity\": 0.45}],\n",
      "            hoodId: 322348\n",
      "          },\n",
      "          realestateUrl: \"https://realestate.nextdoor.com\",\n",
      "          shortName: \"Avana Skyway\",\n",
      "          snippets: [{\"subject\": \"Water Bill\", \"commentCount\": \"0\", \"postId\": \"100452153\", \"category\": \"General\"}, {\"subject\": \"Fantasy of Lights\", \"commentCount\": \"0\", \"postId\": \"97754465\", \"category\": \"General\"}],\n",
      "          stateName: \"California\",\n",
      "          stateAbbreviation: \"CA\"\n",
      "        }\n"
     ]
    }
   ],
   "source": [
    "scripts = html_soup.findAll('script')\n",
    "neighborhood_info = scripts[5].string.strip()\n",
    "neighborhood_info = neighborhood_info[neighborhood_info.index('['):-1]\n",
    "print(neighborhood_info)"
   ]
  },
  {
   "cell_type": "code",
   "execution_count": 151,
   "metadata": {},
   "outputs": [],
   "source": [
    "neighborhoodGeometries = neighborhood_info[neighborhood_info.index('neighborhoodGeometriesJSON: '): neighborhood_info.index('neighborhoodMapOptions:{')]\n",
    "neighborhoodGeometries = neighborhoodGeometries.lstrip()\n",
    "neighborhoodGeometries = neighborhoodGeometries.rstrip()\n",
    "begIndex = len('neighborhoodGeometriesJSON: ')\n",
    "neighborhoodGeometries = neighborhoodGeometries[begIndex: -1]\n",
    "neighborhood_json = json.loads(neighborhoodGeometries)"
   ]
  },
  {
   "cell_type": "code",
   "execution_count": 159,
   "metadata": {},
   "outputs": [
    {
     "data": {
      "text/plain": [
       "[0, 5, 10, 15]"
      ]
     },
     "execution_count": 159,
     "metadata": {},
     "output_type": "execute_result"
    }
   ],
   "source": [
    "def find_all(a_str, sub):\n",
    "    start = 0\n",
    "    while True:\n",
    "        start = a_str.find(sub, start)\n",
    "        if start == -1: return\n",
    "        yield start\n",
    "        start += len(sub) # use start += 1 to find overlapping matches"
   ]
  },
  {
   "cell_type": "code",
   "execution_count": 162,
   "metadata": {},
   "outputs": [
    {
     "name": "stdout",
     "output_type": "stream",
     "text": [
      "[581, 2529, 3873, 4867, 29004, 29828, 30895, 32821, 33649, 34774, 35811, 36432, 37557, 38455, 40707, 41668, 42962, 44433, 45507, 46629, 47852, 49569, 50518, 52104, 53428, 54923, 56002]\n",
      "[653, 2601, 3960, 4951, 29077, 29898, 30977, 32893, 33729, 34846, 35886, 36510, 37628, 38531, 40784, 41740, 43046, 44506, 45575, 46711, 47929, 49641, 50593, 52177, 53502, 55001, 56075, 57262]\n"
     ]
    }
   ],
   "source": [
    "neighborhoodMaps = neighborhood_info[neighborhood_info.index('hoodFeatures: '): neighborhood_info.index('realestateUrl: ')]\n",
    "neighborhoodMaps = neighborhoodMaps.lstrip()\n",
    "neighborhoodMaps = neighborhoodMaps.rstrip()\n",
    "begIndex = len('hoodFeatures: ')\n",
    "neighborhoodMaps = neighborhoodMaps[begIndex: -1]\n",
    "begIndexes = list(find_all(neighborhoodMaps, \"\\\"page_url\\\": \\\"\")) \n",
    "endIndexes = list(find_all(neighborhoodMaps, \", \\\"short_name\\\": \")) \n",
    "print(begIndexes)\n",
    "print(endIndexes)\n",
    "print(neighborhoodMaps[581: 653]) \n",
    "#pp = pprint.PrettyPrinter(indent=4)\n",
    "#pp.pprint(neighborhoodMaps)"
   ]
  },
  {
   "cell_type": "code",
   "execution_count": 163,
   "metadata": {},
   "outputs": [
    {
     "name": "stdout",
     "output_type": "stream",
     "text": [
      "\"page_url\": \"https://nextdoor.com/neighborhood/edenvaleca--san-jose--ca\"\n"
     ]
    }
   ],
   "source": [
    "print(neighborhoodMaps[581 : 653]) "
   ]
  },
  {
   "cell_type": "code",
   "execution_count": 129,
   "metadata": {},
   "outputs": [
    {
     "name": "stdout",
     "output_type": "stream",
     "text": [
      "{   'geometry': {   'coordinates': [   [   [   [   -121.8360515683695,\n",
      "                                                   37.26602677202032],\n",
      "                                               [   -121.83610459616466,\n",
      "                                                   37.268594418464495],\n",
      "                                               [   -121.83564294802147,\n",
      "                                                   37.269459849542486],\n",
      "                                               [   -121.83517055787303,\n",
      "                                                   37.26970890275868],\n",
      "                                               [   -121.8350307616426,\n",
      "                                                   37.26954813424238],\n",
      "                                               [   -121.83474044034551,\n",
      "                                                   37.26933759003701],\n",
      "                                               [   -121.83429927262011,\n",
      "                                                   37.26907872226406],\n",
      "                                               [   -121.8331883202012,\n",
      "                                                   37.268711473979835],\n",
      "                                               [   -121.83260308074921,\n",
      "                                                   37.26847229522604],\n",
      "                                               [   -121.83218950267411,\n",
      "                                                   37.268207501384175],\n",
      "                                               [   -121.8318325099317,\n",
      "                                                   37.26790007233028],\n",
      "                                               [   -121.83162719147037,\n",
      "                                                   37.26766951382514],\n",
      "                                               [   -121.83143906919531,\n",
      "                                                   37.267377073816505],\n",
      "                                               [   -121.83124021808413,\n",
      "                                                   37.26704194146938],\n",
      "                                               [   -121.83115365210756,\n",
      "                                                   37.2666619745875],\n",
      "                                               [   -121.83111072948645,\n",
      "                                                   37.26599701818959],\n",
      "                                               [   -121.83099270501282,\n",
      "                                                   37.263684119568765],\n",
      "                                               [   -121.83831246442287,\n",
      "                                                   37.26350892516025],\n",
      "                                               [   -121.83830308219552,\n",
      "                                                   37.265999957023055],\n",
      "                                               [   -121.8360515683695,\n",
      "                                                   37.26602677202032]]]],\n",
      "                    'type': 'MultiPolygon'},\n",
      "    'properties': {   'City': 'San Jose',\n",
      "                      'County': 'Santa Clara',\n",
      "                      'State': 'CA',\n",
      "                      'fill': '#00b246',\n",
      "                      'fill-opacity': 0.45,\n",
      "                      'hood_id': 322348,\n",
      "                      'hood_name': 'Avana Skyway',\n",
      "                      'stroke': '#00b246'},\n",
      "    'type': 'Feature'}\n"
     ]
    }
   ],
   "source": [
    "feature = neighborhood_json[\"features\"][0]\n",
    "feature['properties']['State'] = 'CA'\n",
    "feature['properties']['City'] = 'San Jose'\n",
    "feature['properties']['County'] = 'Santa Clara'\n",
    "pp.pprint(feature)"
   ]
  },
  {
   "cell_type": "code",
   "execution_count": 99,
   "metadata": {},
   "outputs": [
    {
     "name": "stdout",
     "output_type": "stream",
     "text": [
      "28\n",
      "b\"{'type': 'MultiPolygon', 'coordinates': [[[[-121.8360515683695, 37.26602677202032], [-121.83610459616466, 37.268594418464495], [-121.83564294802147, 37.269459849542486], [-121.83517055787303, 37.26970890275868], [-121.8350307616426, 37.26954813424238], [-121.83474044034551, 37.26933759003701], [-121.83429927262011, 37.26907872226406], [-121.8331883202012, 37.268711473979835], [-121.83260308074921, 37.26847229522604], [-121.83218950267411, 37.268207501384175], [-121.8318325099317, 37.26790007233028], [-121.83162719147037, 37.26766951382514], [-121.83143906919531, 37.267377073816505], [-121.83124021808413, 37.26704194146938], [-121.83115365210756, 37.2666619745875], [-121.83111072948645, 37.26599701818959], [-121.83099270501282, 37.263684119568765], [-121.83831246442287, 37.26350892516025], [-121.83830308219552, 37.265999957023055], [-121.8360515683695, 37.26602677202032]]]]}\"\n",
      "Name Avana Skyway, id 322348 \n",
      "\n"
     ]
    }
   ],
   "source": [
    "\n",
    "print(len(neighborhood_json[\"features\"]))\n",
    "feature = neighborhood_json[\"features\"][0]\n",
    "geojson = str(feature[\"geometry\"]).encode('UTF-8')\n",
    "print(geojson)\n",
    "\n",
    "props = feature[\"properties\"]\n",
    "print(\"Name %s, id %s \\n\" % (props[\"hood_name\"], props[\"hood_id\"]))  "
   ]
  },
  {
   "cell_type": "code",
   "execution_count": 147,
   "metadata": {},
   "outputs": [
    {
     "name": "stdout",
     "output_type": "stream",
     "text": [
      "47\n",
      "2114\n",
      "43\n"
     ]
    }
   ],
   "source": [
    "try:\n",
    "    begCensusIndex = neighborhood_info.index('census: {')\n",
    "    endCensusIndex = neighborhood_info.index('city: ')\n",
    "    if ((begCensusIndex > 0) and (endCensusIndex > 0)):\n",
    "        census = neighborhood_info[begCensusIndex: endCensusIndex]\n",
    "        census = census[census.index('{'): census.index('}')+1]\n",
    "        census = json.loads(census)\n",
    "        print(census['homeowners'])\n",
    "        print(census['population'])\n",
    "        print(census['age'])\n",
    "except:\n",
    "    print(\"No census found for: %s\", row[\"Hood Name\"])"
   ]
  },
  {
   "cell_type": "code",
   "execution_count": 89,
   "metadata": {},
   "outputs": [
    {
     "name": "stdout",
     "output_type": "stream",
     "text": [
      "Interests: b'\"Walking\", \"Hiking & Trails\", \"Dogs\", \"Seeing Live Music\", \"Volunteering\", \"Wine Tasting\", \"Cooking\", \"Family Activities\", \"Photography\", \"Baking\"'\n",
      "\n"
     ]
    }
   ],
   "source": [
    "try:\n",
    "    begInterestIndex = neighborhood_info.index('interests: [')\n",
    "    endInterestIndex = neighborhood_info.index('iosUrl: \"https://')\n",
    "    if ((begInterestIndex > 0) and (endInterestIndex > 0)):\n",
    "        interests = neighborhood_info[begInterestIndex: endInterestIndex]\n",
    "        interests = interests[interests.index('[') +1: interests.index(']')]\n",
    "        print(\"Interests: %s\\n\" % interests.encode('UTF-8'))\n",
    "except:\n",
    "    print(\"No interests found for: %s\", row[\"Hood Name\"])"
   ]
  },
  {
   "cell_type": "code",
   "execution_count": 87,
   "metadata": {},
   "outputs": [
    {
     "name": "stdout",
     "output_type": "stream",
     "text": [
      "Attributes: b'\"Dog Friendly\", \"Friendly\", \"Clean\", \"Family Friendly\", \"Neighbors\", \"Walking\", \"Atmosphere\", \"Community\", \"Creek\", \"Diversity\"'\n",
      "\n"
     ]
    }
   ],
   "source": [
    "try:\n",
    "    begAttrIndex = neighborhood_info.index('attributes: [')\n",
    "    endAttrIndex = neighborhood_info.index('census:')\n",
    "    if ((begAttrIndex > 0) and (endAttrIndex > 0)):\n",
    "        attributes = neighborhood_info[begAttrIndex: endAttrIndex]\n",
    "        attributes = attributes[attributes.index('[') + 1: attributes.index(']')]\n",
    "        print(\"Attributes: %s\\n\" % attributes.encode('UTF-8'))\n",
    "except:\n",
    "    print(\"No attributes found for: %s\", row[\"Hood Name\"])"
   ]
  },
  {
   "cell_type": "code",
   "execution_count": 82,
   "metadata": {},
   "outputs": [
    {
     "name": "stdout",
     "output_type": "stream",
     "text": [
      "[{\"agencyName\": \"Santa Clara Valley Water District\", \"hostname\": \"avanaskyway\", \"subject\": \"Temporary Bay Trail Closure in East Palo Alto\", \"postId\": \"101458364\", \"urlSlug\": \"santa-clara-valley-water-district-1\", \"avatarPhoto\": \"https://d3926qxcw0e1bh.cloudfront.net/pages_avatar_photos/01/03/010310b823d05ffa89499baf1d1221f8.jpg\", \"groupId\": \"1458946\"}, {\"agencyName\": \"San Jos\\u00e9 City Council\", \"hostname\": \"avanaskyway\", \"subject\": \"Join CM Carrasco tomorrow! 1st Pancake Breakfast of the year!\", \"postId\": \"101447625\", \"urlSlug\": \"san-jose-city-council\", \"avatarPhoto\": \"https://d3926qxcw0e1bh.cloudfront.net/pages_avatar_photos/fc/92/fc923118a79f09820c9a021fc54a6087.jpg\", \"groupId\": \"533104\"}, {\"agencyName\": \"San Jos\\u00e9 City Council\", \"hostname\": \"avanaskyway\", \"subject\": \"Join me tomorrow! 1st Pancake Breakfast of the year!\", \"postId\": \"101447354\", \"urlSlug\": \"san-jose-city-council\", \"avatarPhoto\": \"https://d3926qxcw0e1bh.cloudfront.net/pages_avatar_photos/fc/92/fc923118a79f09820c9a021fc54a6087.jpg\", \"groupId\": \"533104\"}, {\"agencyName\": \"San Jos\\u00e9 City Council\", \"hostname\": \"avanaskyway\", \"subject\": \"Santa Clara County 2016 Measure B update\", \"postId\": \"101446036\", \"urlSlug\": \"san-jose-city-council\", \"avatarPhoto\": \"https://d3926qxcw0e1bh.cloudfront.net/pages_avatar_photos/fc/92/fc923118a79f09820c9a021fc54a6087.jpg\", \"groupId\": \"533104\"}, {\"agencyName\": \"City of San Jos\\u00e9\", \"hostname\": \"avanaskyway\", \"subject\": \"Learn About Constructing ADUs (Granny Flats) on February 2\", \"postId\": \"101445204\", \"urlSlug\": \"city-of-san-jose\", \"avatarPhoto\": \"https://d3926qxcw0e1bh.cloudfront.net/pages_avatar_photos/4e/06/4e0614dadf896a3bfdd2429416f80731.jpg\", \"groupId\": \"542761\"}],\n",
      "          agencyInfo: [{\"hostname\": \"avanaskyway\", \"postCount\": \"32160\", \"agencyName\": \"City of San Jos\\u00e9\", \"urlSlug\": \"city-of-san-jose\", \"avatarPhoto\": \"https://d3926qxcw0e1bh.cloudfront.net/pages_avatar_photos/4e/06/4e0614dadf896a3bfdd2429416f80731.jpg\", \"groupId\": \"542761\"}, {\"hostname\": \"avanaskyway\", \"postCount\": \"19514\", \"agencyName\": \"San Jos\\u00e9 City Council\", \"urlSlug\": \"san-jose-city-council\", \"avatarPhoto\": \"https://d3926qxcw0e1bh.cloudfront.net/pages_avatar_photos/fc/92/fc923118a79f09820c9a021fc54a6087.jpg\", \"groupId\": \"533104\"}, {\"hostname\": \"avanaskyway\", \"postCount\": \"9168\", \"agencyName\": \"San Jos\\u00e9 Police Department\", \"urlSlug\": \"san-jose-police-department\", \"avatarPhoto\": \"https://d3926qxcw0e1bh.cloudfront.net/pages_avatar_photos/c6/bf/c6bf1ff992743dcd771b3492ab5cf519.jpg\", \"groupId\": \"533084\"}, {\"hostname\": \"avanaskyway\", \"postCount\": \"8471\", \"agencyName\": \"Santa Clara County Sheriff\", \"urlSlug\": \"santa-clara-county-sheriff\", \"avatarPhoto\": \"https://d3926qxcw0e1bh.cloudfront.net/pages_avatar_photos/46/5d/465de869c4404e0ec10fc03dda5024f0.jpg\", \"groupId\": \"533171\"}, {\"hostname\": \"avanaskyway\", \"postCount\": \"4410\", \"agencyName\": \"Valley Transportation Authority\", \"urlSlug\": \"valley-transportation-authority\", \"avatarPhoto\": \"https://d3926qxcw0e1bh.cloudfront.net/pages_avatar_photos/82/d5/82d5f6e0d2a18453e7011e25c71d5582.png\", \"groupId\": \"618410\"}, {\"hostname\": \"avanaskyway\", \"postCount\": \"4168\", \"agencyName\": \"County of Santa Clara\", \"urlSlug\": \"county-of-santa-clara-office-of-public-affairs\", \"avatarPhoto\": \"https://d3926qxcw0e1bh.cloudfront.net/pages_avatar_photos/a5/c4/a5c47d514be1dc1984f98c77247cd237.jpg\", \"groupId\": \"691024\"}, {\"hostname\": \"avanaskyway\", \"postCount\": \"1693\", \"agencyName\": \"Santa Clara Valley Water District\", \"urlSlug\": \"santa-clara-valley-water-district-1\", \"avatarPhoto\": \"https://d3926qxcw0e1bh.cloudfront.net/pages_avatar_photos/01/03/010310b823d05ffa89499baf1d1221f8.jpg\", \"groupId\": \"1458946\"}, {\"hostname\": \"avanaskyway\", \"postCount\": \"667\", \"agencyName\": \"California Office of Emergency Services\", \"urlSlug\": \"state-of-california-4\", \"avatarPhoto\": \"https://d3926qxcw0e1bh.cloudfront.net/pages_avatar_photos/77/42/774237c0b3b3724ceeb88eeba6be92c6.png\", \"groupId\": \"16715694\"}, {\"hostname\": \"avanaskyway\", \"postCount\": \"216\", \"agencyName\": \"Santa Clara County District 1\", \"urlSlug\": \"santa-clara-county-district-1\", \"avatarPhoto\": \"https://d3926qxcw0e1bh.cloudfront.net/pages_avatar_photos/d0/64/d0642ae916aa90c3c4aa72ae95b9a87b.jpg\", \"groupId\": \"1430691\"}, {\"hostname\": \"avanaskyway\", \"postCount\": \"27\", \"agencyName\": \"Super Bowl 50 Host Committee\", \"urlSlug\": \"super-bowl-committee\", \"avatarPhoto\": \"https://d3926qxcw0e1bh.cloudfront.net/pages_avatar_photos/03/c8/03c8e05d3115b4645096257a38c2cbc6\", \"groupId\": \"1457782\"}, {\"hostname\": \"avanaskyway\", \"postCount\": \"25\", \"agencyName\": \"Santa Clara County Office of Emergency Services\", \"urlSlug\": \"santa-clara-county-office-of-emergency-services\", \"avatarPhoto\": \"https://d3926qxcw0e1bh.cloudfront.net/pages_avatar_photos/ba/d3/bad3352c2df1d39cd93db1b444138213.jpg\", \"groupId\": \"18951930\"}],\n",
      "          attributes: [\"Dog Friendly\", \"Friendly\", \"Clean\", \"Family Friendly\", \"Neighbors\", \"Walking\", \"Atmosphere\", \"Community\", \"Creek\", \"Diversity\"],\n",
      "          census: {\"homeowners\": \"47\", \"population\": \"2114\", \"age\": \"43\"},\n",
      "          city: \"San Jose\",\n",
      "          countryCodeToUrls: {\"US\": \"https://nextdoor.com?noredirect=True\", \"NL\": \"https://nextdoor.nl\", \"GB\": \"https://nextdoor.co.uk\", \"DE\": \"https://nextdoor.de\", \"FR\": \"https://fr.nextdoor.com\", \"IT\": \"https://it.nextdoor.com\", \"ES\": \"https://es.nextdoor.com\", \"AU\": \"https://au.nextdoor.com\", \"DK\": \"https://dk.nextdoor.com\", \"SE\": \"https://se.nextdoor.com\"},\n",
      "          currentCountry: CURRENT_COUNTRY,\n",
      "          events: null,\n",
      "          favoritesInfo: {\"hasFavorites\": false},\n",
      "          hostName: \"avanaskyway\",\n",
      "          interests: [\"Walking\", \"Hiking & Trails\", \"Dogs\", \"Seeing Live Music\", \"Volunteering\", \"Wine Tasting\", \"Cooking\", \"Family Activities\", \"Photography\", \"Baking\"],\n",
      "          iosUrl: \"https://itunes.apple.com/us/app/nextdoor/id640360962?ls=1&amp;mt=8\",\n",
      "          nearbyNeighborhoods: [{\"shortName\": \"Berry Park\", \"hostname\": \"10berrypark2\", \"city\": \"San Jose\", \"state\": \"CA\"}, {\"shortName\": \"Blossom Hill Homes\", \"hostname\": \"10blossomhillhomes\", \"city\": \"San Jose\", \"state\": \"CA\"}, {\"shortName\": \"Blossom Village\", \"hostname\": \"10blossomvillage\", \"city\": \"San Jose\", \"state\": \"CA\"}, {\"shortName\": \"Carson\", \"hostname\": \"10carsonsj\", \"city\": \"San Jose\", \"state\": \"CA\"}, {\"shortName\": \"Colony  Green\", \"hostname\": \"10colonygreen\", \"city\": \"San Jose\", \"state\": \"CA\"}, {\"shortName\": \"Del Robles\", \"hostname\": \"10delrobles\", \"city\": \"San Jose\", \"state\": \"CA\"}, {\"shortName\": \"Park Place\", \"hostname\": \"10parkplace\", \"city\": \"San Jose\", \"state\": \"CA\"}, {\"shortName\": \"Parkview\", \"hostname\": \"10parkview\", \"city\": \"San Jose\", \"state\": \"CA\"}, {\"shortName\": \"Playa Del Rey\", \"hostname\": \"10playadelreysanjose\", \"city\": \"San Jose\", \"state\": \"CA\"}, {\"shortName\": \"Vista  Park\", \"hostname\": \"10vistapark\", \"city\": \"San Jose\", \"state\": \"CA\"}, {\"shortName\": \"Hayes\", \"hostname\": \"2hayes\", \"city\": \"San Jose\", \"state\": \"CA\"}, {\"shortName\": \"Oak Grove\", \"hostname\": \"2oakgrovesanjose\", \"city\": \"San Jose\", \"state\": \"CA\"}, {\"shortName\": \"San  Ramon\", \"hostname\": \"2sanramon\", \"city\": \"San Jose\", \"state\": \"CA\"}, {\"shortName\": \"Rancho\", \"hostname\": \"7ranchosanjose\", \"city\": \"San Jose\", \"state\": \"CA\"}, {\"shortName\": \"Seven Trees\", \"hostname\": \"7seventrees\", \"city\": \"San Jose\", \"state\": \"CA\"}, {\"shortName\": \"Bella Villagio\", \"hostname\": \"bellavillagio\", \"city\": \"San Jose\", \"state\": \"CA\"}, {\"shortName\": \"California Hawaiian Estates\", \"hostname\": \"californiahawaiianestates\", \"city\": \"San Jose\", \"state\": \"CA\"}, {\"shortName\": \"Capitol Village - Baroni\", \"hostname\": \"capitolvillagebaroni\", \"city\": \"San Jose\", \"state\": \"CA\"}, {\"shortName\": \"Dolce Hayes\", \"hostname\": \"dolcehayes\", \"city\": \"San Jose\", \"state\": \"CA\"}, {\"shortName\": \"Eden Hill\", \"hostname\": \"edenhill\", \"city\": \"San Jose\", \"state\": \"CA\"}, {\"shortName\": \"Edenvale\", \"hostname\": \"edenvaleca\", \"city\": \"San Jose\", \"state\": \"CA\"}, {\"shortName\": \"Ellmar Oaks\", \"hostname\": \"ellmaroaks\", \"city\": \"San Jose\", \"state\": \"CA\"}, {\"shortName\": \"Frontier Village\", \"hostname\": \"frontiervillage\", \"city\": \"San Jose\", \"state\": \"CA\"}, {\"shortName\": \"Havens-Monterey-Edenvale\", \"hostname\": \"havensmontereyedenvale\", \"city\": \"San Jose\", \"state\": \"CA\"}, {\"shortName\": \"River View Skyway\", \"hostname\": \"riverviewskyway\", \"city\": \"San Jose\", \"state\": \"CA\"}, {\"shortName\": \"The Woods\", \"hostname\": \"thewoodsca\", \"city\": \"San Jose\", \"state\": \"CA\"}, {\"shortName\": \"Vistapark-Martial Cottle\", \"hostname\": \"vistaparkmartialcottle\", \"city\": \"San Jose\", \"state\": \"CA\"}],\n",
      "          neighborhoodGeometriesJSON: {\"type\": \"FeatureCollection\", \"features\": [{\"type\": \"Feature\", \"geometry\": {\"type\": \"MultiPolygon\", \"coordinates\": [[[[-121.8360515683695, 37.26602677202032], [-121.83610459616466, 37.268594418464495], [-121.83564294802147, 37.269459849542486], [-121.83517055787303, 37.26970890275868], [-121.8350307616426, 37.26954813424238], [-121.83474044034551, 37.26933759003701], [-121.83429927262011, 37.26907872226406], [-121.8331883202012, 37.268711473979835], [-121.83260308074921, 37.26847229522604], [-121.83218950267411, 37.268207501384175], [-121.8318325099317, 37.26790007233028], [-121.83162719147037, 37.26766951382514], [-121.83143906919531, 37.267377073816505], [-121.83124021808413, 37.26704194146938], [-121.83115365210756, 37.2666619745875], [-121.83111072948645, 37.26599701818959], [-121.83099270501282, 37.263684119568765], [-121.83831246442287, 37.26350892516025], [-121.83830308219552, 37.265999957023055], [-121.8360515683695, 37.26602677202032]]]]}, \"properties\": {\"hood_id\": 322348, \"hood_name\": \"Avana Skyway\", \"fill\": \"#00b246\", \"stroke\": \"#00b246\", \"fill-opacity\": 0.45}}, {\"type\": \"Feature\", \"geometry\": {\"type\": \"MultiPolygon\", \"coordinates\": [[[[-121.83699970441677, 37.27342245329562], [-121.83038285666015, 37.27344147165533], [-121.82896005955195, 37.27246012434002], [-121.83124295873398, 37.27041192773851], [-121.83170601776925, 37.27011396438045], [-121.83153071105897, 37.269909916997925], [-121.83149879572295, 37.26833972957125], [-121.83167585541446, 37.26800897836], [-121.83185291510603, 37.267908755956775], [-121.83218551749803, 37.2682049474521], [-121.83260395057846, 37.268475523545504], [-121.83316722294569, 37.26870767743262], [-121.83383778367352, 37.268914216516414], [-121.83383795315603, 37.26891258565532], [-121.83431401199527, 37.269076294775545], [-121.83472569781821, 37.269325383429425], [-121.8350193664445, 37.26954885738726], [-121.8352915773986, 37.26984063411841], [-121.83758372298132, 37.27315543556455], [-121.83699970441677, 37.27342245329562], [-121.83699970441677, 37.27342245329562], [-121.83699970441677, 37.27342245329562]]]]}, \"properties\": {\"hood_id\": 182946, \"hood_name\": \"Berry Park\", \"fill\": \"#67C2A5\", \"stroke\": \"#67C2A5\", \"fill-opacity\": 0.45}}, {\"type\": \"Feature\", \"geometry\": {\"type\": \"MultiPolygon\", \"coordinates\": [[[[-121.84278227477262, 37.254974003832274], [-121.83996227134372, 37.25500861488878], [-121.83997537408851, 37.25405862058821], [-121.83578174179507, 37.25410417152173], [-121.83575006156235, 37.25098132701665], [-121.83694901367448, 37.25076956253645], [-121.84245131069872, 37.25344219984745], [-121.84278227477262, 37.254974003832274], [-121.84278227477262, 37.254974003832274], [-121.84278227477262, 37.254974003832274]]]]}, \"properties\": {\"hood_id\": 170220, \"hood_name\": \"Blossom Hill Homes\", \"fill\": \"#67C2A5\", \"stroke\": \"#67C2A5\", \"fill-opacity\": 0.45}}, {\"type\": \"Feature\", \"geometry\": {\"type\": \"MultiPolygon\", \"coordinates\": [[[[-121.83413810188654, 37.25401763215795], [-121.83411907692044, 37.25311610929816], [-121.8351407490523, 37.253115532242745], [-121.83514909451105, 37.25400615500221], [-121.83413810188654, 37.25401763215795]]]]}, \"properties\": {\"hood_id\": 155750, \"hood_name\": \"Blossom Village\", \"fill\": \"#67C2A5\", \"stroke\": \"#67C2A5\", \"fill-opacity\": 0.45}}, {\"type\": \"Feature\", \"geometry\": {\"type\": \"MultiPolygon\", \"coordinates\": [[[[-121.86314216615165, 37.27461073664113], [-121.86188527989805, 37.27447944592068], [-121.86110046243107, 37.274442073042565], [-121.86035543212898, 37.27443043561924], [-121.85927496610032, 37.274437535435375], [-121.85465398417193, 37.2745470840692], [-121.84982952449866, 37.274594217498866], [-121.84979293972526, 37.27242727288935], [-121.84971694693803, 37.272134673030315], [-121.849611286955, 37.271875523869525], [-121.84656916581679, 37.26590334653383], [-121.84731367750061, 37.26587099856733], [-121.84799844413646, 37.265837228775666], [-121.84853291681839, 37.26581091680343], [-121.84958237363128, 37.265613837851944], [-121.85035287388632, 37.265521253353214], [-121.85146669689527, 37.26552259241172], [-121.8536351199715, 37.26582316760373], [-121.85447316737645, 37.26593589829198], [-121.8551706795298, 37.26598239360709], [-121.85580701993968, 37.26597330187408], [-121.85906160517379, 37.26596210278129], [-121.85948145859686, 37.26758662567601], [-121.85976733198663, 37.268321041818744], [-121.86010688624305, 37.26898407439269], [-121.86045361390961, 37.26948834692667], [-121.8609037648622, 37.270042643664176], [-121.86137187690281, 37.270683684636914], [-121.86189364808985, 37.27143502172705], [-121.86227642254335, 37.272054760664666], [-121.86256367691601, 37.27259135828711], [-121.86280858014084, 37.27330355819361], [-121.86297301597625, 37.27389234217862], [-121.86313745181178, 37.27460065064306], [-121.86314216615165, 37.27461073664113], [-121.86314216615165, 37.27461073664113]]]]}, \"properties\": {\"hood_id\": 1740, \"hood_name\": \"Carson\", \"fill\": \"#67C2A5\", \"stroke\": \"#67C2A5\", \"fill-opacity\": 0.45}}, {\"type\": \"Feature\", \"geometry\": {\"type\": \"MultiPolygon\", \"coordinates\": [[[[-121.84296843665373, 37.25901123574521], [-121.84031487434032, 37.259015986016465], [-121.8402988671279, 37.25828534029487], [-121.84045534482834, 37.25774533117827], [-121.84043470595458, 37.25594295965149], [-121.8405748695236, 37.25536042105384], [-121.8405849407244, 37.255000716271816], [-121.84278227477262, 37.254974003832274], [-121.84325974530651, 37.257106653628135], [-121.84354562789844, 37.25755150430286], [-121.84296061046746, 37.25868357844244], [-121.84296843665373, 37.25901123574521], [-121.84296843665373, 37.25901123574521]]]]}, \"properties\": {\"hood_id\": 170221, \"hood_name\": \"Colony  Green\", \"fill\": \"#67C2A5\", \"stroke\": \"#67C2A5\", \"fill-opacity\": 0.45}}, {\"type\": \"Feature\", \"geometry\": {\"type\": \"MultiPolygon\", \"coordinates\": [[[[-121.84031487434032, 37.259015986016465], [-121.8326404809477, 37.25901031101274], [-121.83181479832024, 37.2587509767178], [-121.83094112468126, 37.25874303961868], [-121.83082572156428, 37.251273755778136], [-121.83349173944845, 37.251266317178285], [-121.83464235817746, 37.25116865746883], [-121.83575410934492, 37.25099172673684], [-121.83575006156235, 37.251241798511096], [-121.83576871045665, 37.253093207163076], [-121.83514171245724, 37.25311998885189], [-121.83412311194161, 37.253121151071916], [-121.8341371618967, 37.25401685423951], [-121.83515269746385, 37.2540078281574], [-121.83514548111657, 37.253123718695726], [-121.83576858388773, 37.2530978560447], [-121.83578174179507, 37.25410417152173], [-121.83997537408851, 37.25405862058821], [-121.83996227134372, 37.25500861488878], [-121.8405849407244, 37.255000716271816], [-121.8405748695236, 37.25536042105384], [-121.84043470595458, 37.25594295965149], [-121.84045534482834, 37.25774533117827], [-121.8402988671279, 37.25828534029487], [-121.84031487434032, 37.259015986016465], [-121.84031487434032, 37.259015986016465], [-121.84031487434032, 37.259015986016465], [-121.84031487434032, 37.259015986016465]]]]}, \"properties\": {\"hood_id\": 170222, \"hood_name\": \"Del Robles\", \"fill\": \"#67C2A5\", \"stroke\": \"#67C2A5\", \"fill-opacity\": 0.45}}, {\"type\": \"Feature\", \"geometry\": {\"type\": \"MultiPolygon\", \"coordinates\": [[[[-121.83165928559964, 37.26801537939611], [-121.8316591278857, 37.26801581677803], [-121.83150089788398, 37.26834787322138], [-121.8315001580209, 37.26835003035562], [-121.83149992612005, 37.26835229902208], [-121.831519022566, 37.269891296052194], [-121.8315192403872, 37.26989325140972], [-121.83151983683388, 37.269895126275166], [-121.83152078881847, 37.26989684807495], [-121.83169900320286, 37.270134131526156], [-121.83133294677941, 37.27034139463027], [-121.82895984599168, 37.27246115712966], [-121.8246832839339, 37.26938333683985], [-121.82466440329677, 37.26617061979949], [-121.8253405412404, 37.26604584811916], [-121.8311231513909, 37.26600077898902], [-121.83115504526569, 37.266683445383364], [-121.83124609405547, 37.26704185274775], [-121.8314096356471, 37.26734059081326], [-121.83163088131164, 37.26766072305232], [-121.83183806366844, 37.26790617016012], [-121.83165900792716, 37.268015006469064], [-121.83165928559964, 37.26801537939611], [-121.83165928559964, 37.26801537939611], [-121.83165928559964, 37.26801537939611]]]]}, \"properties\": {\"hood_id\": 170042, \"hood_name\": \"Park Place\", \"fill\": \"#67C2A5\", \"stroke\": \"#67C2A5\", \"fill-opacity\": 0.45}}, {\"type\": \"Feature\", \"geometry\": {\"type\": \"MultiPolygon\", \"coordinates\": [[[[-121.84733042075891, 37.27323730912491], [-121.84732616808958, 37.27323825271329], [-121.84732420444891, 37.27323436431117], [-121.8464685780225, 37.27344502914228], [-121.84602333045063, 37.273490598778075], [-121.84530449755937, 37.273493480841466], [-121.84465003680907, 37.27378098229641], [-121.8440733601202, 37.274179469372754], [-121.84406925710778, 37.27418127569801], [-121.84406539175995, 37.274179004881496], [-121.84298624298049, 37.27339918360302], [-121.84296801623645, 37.27338873529427], [-121.84294800879081, 37.27338232565509], [-121.84292710373501, 37.273380237595006], [-121.83797756954266, 37.27340838448702], [-121.83797295335103, 37.273407962156405], [-121.83796995227772, 37.27340442928968], [-121.83774095351902, 37.273430038922605], [-121.83757632777667, 37.27316537245267], [-121.83556634223214, 37.270245471266705], [-121.83517641093255, 37.26970757999306], [-121.83562733416579, 37.26947978102128], [-121.83609971507116, 37.2685860150065], [-121.83604878426223, 37.26602740296853], [-121.84657296082037, 37.26590509870344], [-121.84973281307975, 37.2721215743719], [-121.84978111801848, 37.272265480572955], [-121.84980260086718, 37.27244780584407], [-121.84733042075891, 37.27323730912491], [-121.84733042075891, 37.27323730912491], [-121.84733042075891, 37.27323730912491]]]]}, \"properties\": {\"hood_id\": 170041, \"hood_name\": \"Parkview\", \"fill\": \"#67C2A5\", \"stroke\": \"#67C2A5\", \"fill-opacity\": 0.45}}, {\"type\": \"Feature\", \"geometry\": {\"type\": \"MultiPolygon\", \"coordinates\": [[[[-121.85891236721955, 37.25033001567477], [-121.85295669926325, 37.2503281235563], [-121.84889963336792, 37.25055662046267], [-121.84179557803168, 37.25058015433331], [-121.83867149417705, 37.25065418202774], [-121.83694215901, 37.25076237001149], [-121.8424527956218, 37.253455323384166], [-121.84403235550087, 37.25421621467454], [-121.84501110056067, 37.25463551307222], [-121.84590401493199, 37.25489682633306], [-121.8467969293032, 37.25508982193402], [-121.84764692833028, 37.25524011914755], [-121.84841109666883, 37.25527086207059], [-121.85890180848969, 37.255482646796935], [-121.85891236721955, 37.25033001567477], [-121.85891236721955, 37.25033001567477]]]]}, \"properties\": {\"hood_id\": 35469, \"hood_name\": \"Playa Del Rey\", \"fill\": \"#67C2A5\", \"stroke\": \"#67C2A5\", \"fill-opacity\": 0.45}}, {\"type\": \"Feature\", \"geometry\": {\"type\": \"MultiPolygon\", \"coordinates\": [[[[-121.85851571273525, 37.265590315769025], [-121.8585152652205, 37.26559039801272], [-121.85671771895252, 37.265738104754575], [-121.85671730361729, 37.265738103694986], [-121.85671691215451, 37.26573796490989], [-121.85666507613577, 37.265714489650385], [-121.85666472835253, 37.26571429717649], [-121.85666441578934, 37.2657140516086], [-121.8565065938483, 37.26556815164067], [-121.8565051309944, 37.26556703058186], [-121.85650348725102, 37.26556619702204], [-121.85638829226453, 37.26552058183343], [-121.85638656209873, 37.265520071694446], [-121.85638476843611, 37.26551988067112], [-121.85638296963738, 37.265520014978804], [-121.85628294497226, 37.265536654017936], [-121.8562810625959, 37.265537159713766], [-121.8562793140729, 37.26553802095499], [-121.85627776583091, 37.26553920502247], [-121.85620338898116, 37.2656085644982], [-121.85620219007727, 37.2656099033433], [-121.85620125017685, 37.265611435160494], [-121.85620059963753, 37.265613110474], [-121.8561663744761, 37.265731949971695], [-121.8561660405289, 37.26573365476969], [-121.85616600665858, 37.265735391637484], [-121.85616895664327, 37.265779047429184], [-121.85616894580578, 37.265779492789854], [-121.85616870348181, 37.265779866611666], [-121.85614928436271, 37.26580453287294], [-121.85614897169408, 37.26580486205262], [-121.8561485609572, 37.26580505548525], [-121.85610967401465, 37.265819135176756], [-121.85610923092523, 37.2658192505288], [-121.85610877416502, 37.265819282223276], [-121.85553285487448, 37.265805789864224], [-121.85553236195892, 37.26580572773901], [-121.85553193410482, 37.2658054752193], [-121.85549485937231, 37.265778150816104], [-121.85549452092141, 37.26577784931505], [-121.85549431454552, 37.26577744575499], [-121.85545880152286, 37.265688565605664], [-121.85545789748794, 37.26568682257824], [-121.8554566702861, 37.26568528980318], [-121.85545516723117, 37.26568402637546], [-121.85545344627228, 37.26568308100558], [-121.85537511719264, 37.265649594782154], [-121.85537348297304, 37.2656490570877], [-121.85537178077588, 37.265648807460195], [-121.85537006098264, 37.26564885328808], [-121.85536837449553, 37.26564919321495], [-121.85529123641322, 37.265671794541255], [-121.85528945952078, 37.26567250604806], [-121.85528785073822, 37.26567354306659], [-121.85528646900477, 37.26567486760475], [-121.85528536494141, 37.26567643113692], [-121.85523409447987, 37.26576618869227], [-121.85523386412787, 37.26576652413844], [-121.85523353724965, 37.26576676649513], [-121.85518345391256, 37.26579783427475], [-121.85518301209696, 37.265798050088605], [-121.8551825210283, 37.26579807515248], [-121.85463447836842, 37.26577073182552], [-121.85463406931352, 37.26577067674705], [-121.85463370128649, 37.26577048988975], [-121.85459554841162, 37.26574689811594], [-121.85459518570835, 37.2657466237289], [-121.85459502547478, 37.26574619809165], [-121.85458482737755, 37.265708796891055], [-121.8545847438703, 37.26570827570688], [-121.85458477329031, 37.265707748695625], [-121.85462128947822, 37.265485831607585], [-121.85462138975895, 37.265485432547955], [-121.85462155468241, 37.26548505557943], [-121.8546635507276, 37.26540735651862], [-121.85466412896544, 37.265406508752754], [-121.85475660169536, 37.265297092125905], [-121.854757305618, 37.26529640870736], [-121.85483070240248, 37.26523800717795], [-121.85483200057503, 37.26523676850705], [-121.85483305648987, 37.265235317782604], [-121.8548338361512, 37.26523370171151], [-121.85483431445739, 37.265231972324116], [-121.85484781898948, 37.2651577566172], [-121.85484798003796, 37.26515586601059], [-121.85484778107158, 37.26515397901764], [-121.85484722925379, 37.265152163576346], [-121.85484634445184, 37.26515048504857], [-121.85481815922873, 37.26510747750057], [-121.8548169032204, 37.26510592479224], [-121.85481536371624, 37.265104652633816], [-121.85481360211877, 37.265103711764844], [-121.85469396134432, 37.26505445847626], [-121.85469357657409, 37.265054259059], [-121.8546932324693, 37.26505399560659], [-121.85448931413009, 37.2648674065063], [-121.85448899925076, 37.26486709148161], [-121.85443856732344, 37.26481192465292], [-121.85443786259899, 37.26481093383247], [-121.85439629806902, 37.26473410122737], [-121.85439493924419, 37.26473217382097], [-121.85439316684541, 37.264730618217236], [-121.8543614492064, 37.26470881827006], [-121.85435970086287, 37.26470785800973], [-121.85435779671339, 37.264707263855115], [-121.85430157984874, 37.26469571839], [-121.85429936805116, 37.26469551594455], [-121.85429716612205, 37.264695806703656], [-121.85421522770197, 37.26471608170084], [-121.85421355228712, 37.264716657956505], [-121.8542120048651, 37.26471752084157], [-121.85421063401083, 37.26471864326934], [-121.85418151061741, 37.26474715530266], [-121.85418028084561, 37.26474861396007], [-121.85417935048152, 37.264750279625936], [-121.85417875339054, 37.26475209166967], [-121.85416911211215, 37.264794652753984], [-121.85416886637441, 37.26479669674353], [-121.85416904440677, 37.264798747739576], [-121.85416963866375, 37.26480071881516], [-121.85419339247048, 37.264857543965675], [-121.85419422268, 37.2648591190522], [-121.85419531905917, 37.26486052194139], [-121.85419664685121, 37.264861708159614], [-121.85419816396318, 37.26486264010204], [-121.85431247743242, 37.26491952110156], [-121.85431281310508, 37.26491972264295], [-121.85431311288285, 37.264919974493], [-121.85459147694294, 37.265194105627025], [-121.85459176661514, 37.26519445006958], [-121.85459174352647, 37.2651948995332], [-121.85458489539187, 37.2652417491756], [-121.85458474485479, 37.26524230785235], [-121.85458446780515, 37.26524281581366], [-121.85446562498231, 37.26541021164233], [-121.85446460531469, 37.265412020208714], [-121.85446398109116, 37.26541400035502], [-121.85440840641586, 37.26568622545927], [-121.85440825465798, 37.26568670726444], [-121.85440792151049, 37.26568708697435], [-121.85437038597546, 37.265721835813935], [-121.85436996359587, 37.265722148400215], [-121.85436943825036, 37.26572213714126], [-121.8536837644331, 37.265631667813814], [-121.85368328742531, 37.26563155464936], [-121.85368296145256, 37.265631188474075], [-121.85365403813022, 37.26559115320908], [-121.85365378760085, 37.26559071455263], [-121.85365395357428, 37.265590237439156], [-121.85369285255413, 37.26550792889515], [-121.85369309747269, 37.265507518746524], [-121.85369341674689, 37.265507163400216], [-121.85379324232609, 37.26541564927893], [-121.85379451412298, 37.26541423869003], [-121.85379549628333, 37.265412613085694], [-121.85379615337835, 37.26541083110519], [-121.85381034230942, 37.265357097555466], [-121.85381066470194, 37.2653549689652], [-121.85381052402893, 37.265352820699725], [-121.85380992681033, 37.265350752327564], [-121.85380890072622, 37.26534885971432], [-121.85375972793733, 37.265277696429244], [-121.85375824390223, 37.26527599657448], [-121.85375641652386, 37.2652746727336], [-121.8537543388499, 37.265273792314794], [-121.85370356103165, 37.2652587640902], [-121.85370183411962, 37.265258414856966], [-121.85370007271973, 37.265258374120855], [-121.85369833150916, 37.26525864314641], [-121.85369666453838, 37.26525921358256], [-121.85357445809832, 37.26531348250187], [-121.85357271755615, 37.26531447507122], [-121.85357120982987, 37.26531579470846], [-121.85356999544986, 37.26531738843434], [-121.85356912316963, 37.26531919226587], [-121.85355623631143, 37.26535448869735], [-121.85355576453888, 37.26535628232607], [-121.85355563209947, 37.26535813222691], [-121.85355584354866, 37.265359974769325], [-121.8535672486821, 37.26541424913477], [-121.85356730071284, 37.26541476231747], [-121.85356713684797, 37.26541525141059], [-121.85349122207367, 37.26558105712762], [-121.85349098326506, 37.265581467870156], [-121.85349060649531, 37.2655817573239], [-121.8534376357095, 37.265614805927896], [-121.85343725895387, 37.26561499776731], [-121.8534368366985, 37.265614976610756], [-121.85166497405828, 37.265370880679725], [-121.85166458413211, 37.265370794503326], [-121.85166421309566, 37.26537064685254], [-121.85152880945532, 37.26530367247182], [-121.8515266074525, 37.26530288809708], [-121.85152428351549, 37.265302636349396], [-121.8514626310383, 37.26530320585387], [-121.85146074939284, 37.26530340219996], [-121.85145893840016, 37.26530394941743], [-121.85138578683204, 37.26533386287281], [-121.85138531792845, 37.26533400173188], [-121.85138483202444, 37.265333946508484], [-121.85123555805342, 37.26530159367584], [-121.85123407504345, 37.26530138696148], [-121.85123257779293, 37.26530140399936], [-121.85115428679548, 37.26530817863298], [-121.85115212895265, 37.265308608303876], [-121.85105081746023, 37.26534070218916], [-121.8510504238997, 37.26534079237422], [-121.85105002091954, 37.265340817480556], [-121.8506024101685, 37.265332177799245], [-121.85060202952357, 37.2653321409777], [-121.85060165905716, 37.265332046103865], [-121.8505533388281, 37.26531561174836], [-121.85055284406143, 37.26531537835075], [-121.85055250081754, 37.26531495237866], [-121.85053395884643, 37.265285724283686], [-121.85053376823886, 37.26528535957861], [-121.85053370810023, 37.26528495248602], [-121.85052383552892, 37.26512829088094], [-121.85052395118988, 37.26512686773414], [-121.85055108877873, 37.26500836457304], [-121.85055132800501, 37.26500664408556], [-121.85055126589604, 37.26500490815674], [-121.85055090432581, 37.265003209164874], [-121.85055025420401, 37.26500159837376], [-121.85052526345068, 37.264952470166385], [-121.85052430673136, 37.26495094639042], [-121.85052309244782, 37.26494961871556], [-121.8505216599089, 37.26494853012136], [-121.85052005548886, 37.264947715847846], [-121.85042704279425, 37.26491061266037], [-121.85042529617591, 37.26491009459611], [-121.85042348455316, 37.264909902010615], [-121.85042166805493, 37.264910041295934], [-121.85034456378324, 37.26492309793678], [-121.85034225727655, 37.26492378203271], [-121.85034018090566, 37.26492499720524], [-121.85029757426081, 37.264957392193054], [-121.85029604911269, 37.264958827263115], [-121.8502948562818, 37.26496054850027], [-121.85027739651177, 37.26499242367464], [-121.85027672130175, 37.264993944553815], [-121.8502763076407, 37.26499555634368], [-121.85027616698282, 37.26499721441406], [-121.85027609764491, 37.26504926729612], [-121.85027630222518, 37.265051293059656], [-121.85027691288117, 37.265053235395946], [-121.85031824269399, 37.26514922158965], [-121.8503183858396, 37.26514966513071], [-121.85031844319072, 37.26515012765654], [-121.85032295369083, 37.26530584211663], [-121.85032292716171, 37.26530627517808], [-121.85032262131463, 37.26530658291747], [-121.8502772516342, 37.26534466876692], [-121.85027685485069, 37.26534494014399], [-121.85027638430125, 37.26534503845958], [-121.84966273328673, 37.2654112621501], [-121.84966214823555, 37.26541125516614], [-121.84966158144978, 37.26541110995086], [-121.84959429619184, 37.265384993004346], [-121.84959260921974, 37.265384503680856], [-121.84959086265398, 37.265384317078556], [-121.84952021053859, 37.26538301006206], [-121.8495181424744, 37.26538318725547], [-121.84951615553966, 37.26538378756989], [-121.8494102781731, 37.265428225165536], [-121.84940885410279, 37.265428962290706], [-121.84940756616146, 37.26542991755864], [-121.84937347593268, 37.265459722550524], [-121.84937312397786, 37.26545997896898], [-121.84937270481764, 37.26546009698334], [-121.84917005143474, 37.265498157364846], [-121.84916958366462, 37.265498198320806], [-121.84916922427878, 37.26549789611537], [-121.8475894294136, 37.26387939912663], [-121.84758863369666, 37.26387866755034], [-121.84748439132856, 37.263792745602785], [-121.8474825291127, 37.26379153096556], [-121.84748044454332, 37.26379075781485], [-121.8474127001027, 37.26377390883123], [-121.84740990163847, 37.26377362059426], [-121.84733042339874, 37.263776681633146], [-121.84732777407744, 37.26377714564842], [-121.84705596985665, 37.26386369607218], [-121.84705484393136, 37.263863916018], [-121.84700133001328, 37.26386807474306], [-121.84700078731959, 37.26386805685115], [-121.84700026175067, 37.26386792041845], [-121.84693058861514, 37.26384133682756], [-121.84692878534517, 37.26384083622789], [-121.84692692037946, 37.2638406803897], [-121.84686101757951, 37.263841362056475], [-121.84685934503639, 37.26384152048907], [-121.84685772262011, 37.26384195668495], [-121.84685619612343, 37.26384265833248], [-121.84674332380378, 37.26390652954918], [-121.84674285224055, 37.26390673476975], [-121.84674234836461, 37.26390683770873], [-121.84636668856461, 37.263943408902236], [-121.8463649004606, 37.263943749424286], [-121.84591127604637, 37.26407385828547], [-121.84590957451928, 37.264074519668306], [-121.84590802157945, 37.264075479355505], [-121.84578680697574, 37.264166663227726], [-121.84578568480251, 37.26416764668913], [-121.8457847214585, 37.26416878617911], [-121.84574001538824, 37.264230470113624], [-121.84573921172019, 37.26423178026803], [-121.84573861832096, 37.26423319810592], [-121.8456912481381, 37.26437640766975], [-121.84569081709428, 37.264378326752166], [-121.84569077002189, 37.26438029308384], [-121.84570190707008, 37.2645293677033], [-121.84570223835357, 37.264531278362014], [-121.84572511866058, 37.26461434142198], [-121.84572586384208, 37.26461625366187], [-121.84618238459929, 37.26550530358231], [-121.8461825640261, 37.26550575938206], [-121.8461826499394, 37.26550624163331], [-121.84618899514959, 37.265588548429754], [-121.84618897461064, 37.2655891004782], [-121.84618871282133, 37.26558958694063], [-121.84614559053988, 37.26565157192232], [-121.84614520871635, 37.2656520026797], [-121.84614473713927, 37.265652332764496], [-121.84608491574693, 37.26568449288978], [-121.846084543271, 37.26568465532049], [-121.84608414926274, 37.26568475471662], [-121.84602728161029, 37.26569422742927], [-121.84602650256463, 37.265694295111224], [-121.84504364730495, 37.26570241531519], [-121.84504319687308, 37.26570237298607], [-121.84504326639492, 37.26570192594312], [-121.8454588821284, 37.26411560376959], [-121.8454590481281, 37.26411515493847], [-121.84545937301627, 37.26411480357967], [-121.84553555735818, 37.264047101569865], [-121.84553740986806, 37.26404490220218], [-121.84561739843399, 37.26391609754919], [-121.84561825869153, 37.26391435404626], [-121.84561876532746, 37.26391247703652], [-121.84564294780816, 37.26376837976061], [-121.84564308492342, 37.2637665984463], [-121.845642902876, 37.263764821161864], [-121.84561620632671, 37.26362713850104], [-121.8456161626735, 37.263626589107936], [-121.84561624240136, 37.263626043780675], [-121.84625645334246, 37.26119404842661], [-121.84625695058111, 37.261192836540005], [-121.84631264383171, 37.261095859964264], [-121.84631339796987, 37.26109421953847], [-121.84631384485196, 37.2610924702479], [-121.84631396991091, 37.26109066911454], [-121.8463117339625, 37.26098458665782], [-121.84631175497799, 37.26098420790069], [-121.84631183347416, 37.26098383677129], [-121.84641056152577, 37.26064677450388], [-121.84641079977622, 37.26064612950078], [-121.8464828407363, 37.26048598524567], [-121.8464834334615, 37.26048426355294], [-121.84648370416564, 37.260482462922965], [-121.84649267686396, 37.260328072296936], [-121.84649286687126, 37.26032696921641], [-121.84665845857208, 37.25975776449256], [-121.84665859482207, 37.259757361081746], [-121.84685190662469, 37.25925647647934], [-121.84685238770679, 37.259255539131466], [-121.84693642661091, 37.25912727824064], [-121.84693730380603, 37.25912561769259], [-121.84693785505893, 37.25912382241786], [-121.84696813959096, 37.25897734565169], [-121.84696840055197, 37.25897648432948], [-121.84813549818811, 37.25609212742162], [-121.8481359745502, 37.25609122735125], [-121.84817836023458, 37.256027793434946], [-121.84817931254986, 37.2560259957532], [-121.84817988134517, 37.2560240425415], [-121.84819737639981, 37.255928701056156], [-121.84819772061668, 37.25592758437759], [-121.84833101113234, 37.25562631274324], [-121.8483312480887, 37.255625897363025], [-121.84833172603268, 37.25562588128292], [-121.85256007335585, 37.255914887363886], [-121.85256046555767, 37.255914952679746], [-121.85256020238442, 37.255915250720385], [-121.85223931786732, 37.256214586574686], [-121.85223894298746, 37.25621487188613], [-121.85223850054753, 37.25621471007015], [-121.85213924234012, 37.25616667212132], [-121.85213755686776, 37.2561660366378], [-121.85213578473532, 37.256165713833], [-121.85213398344239, 37.25616571418081], [-121.8520447488428, 37.25617380123105], [-121.85204257480171, 37.256174245455995], [-121.85204055224648, 37.25617515817765], [-121.85198886061578, 37.25620579952728], [-121.85198720299145, 37.25620702980632], [-121.85198583329456, 37.25620857422703], [-121.85195984603023, 37.25624481339689], [-121.85195872154247, 37.256246843638586], [-121.85195809534498, 37.25624907841615], [-121.85194765800469, 37.25631505609365], [-121.85194755403838, 37.25631547290306], [-121.85194731337984, 37.25631582874377], [-121.85188329255462, 37.256394642426635], [-121.8518827733287, 37.25639519100733], [-121.85135417449168, 37.2568751103656], [-121.8513538192763, 37.25687544914055], [-121.85117805787567, 37.25705151322993], [-121.85117642493442, 37.25705366554094], [-121.85112011365591, 37.25715350457605], [-121.85111929545403, 37.257155382175895], [-121.85111887694832, 37.25715738709197], [-121.8511188756944, 37.25715943522134], [-121.8511299973284, 37.25726812023862], [-121.851130315029, 37.25726979602391], [-121.8511309128948, 37.25727139344261], [-121.85113177353276, 37.25727286602277], [-121.85119607033148, 37.25736402591186], [-121.85119718615461, 37.257365348232824], [-121.85119851320644, 37.25736645842533], [-121.8512996227595, 37.25743713126253], [-121.85129991956532, 37.25743737498498], [-121.85130017520456, 37.25743766159074], [-121.85138940143426, 37.2575548181322], [-121.85139066850199, 37.25755619328437], [-121.85139216943078, 37.25755730850496], [-121.85139385174055, 37.25755812480022], [-121.8515513166277, 37.25761705814999], [-121.85155238060565, 37.25761761035127], [-121.8519766133499, 37.25790742900738], [-121.85197738766698, 37.25790808267158], [-121.85209059862332, 37.25802532247968], [-121.85209202331112, 37.25802654431118], [-121.85209365121464, 37.258027478408415], [-121.85222343687877, 37.258086522952894], [-121.85222429541527, 37.25808702216145], [-121.85251309737932, 37.25829600567648], [-121.8525134283049, 37.25829629886779], [-121.8525131328325, 37.258296627758355], [-121.85216089310516, 37.25861842464306], [-121.8521595965266, 37.25861986315776], [-121.85215860153619, 37.258621524613325], [-121.85215794545044, 37.258623346697846], [-121.85214774264824, 37.25866353217255], [-121.8521474371669, 37.25866579121838], [-121.85214765124043, 37.25866806075124], [-121.85214837374424, 37.25867022283244], [-121.85216808374264, 37.258712446943505], [-121.85216915073455, 37.258714224601974], [-121.85217056136881, 37.25871574402699], [-121.85217225500871, 37.25871693990544], [-121.85230638335418, 37.25879213433108], [-121.85230828685962, 37.25879295515177], [-121.8523103187023, 37.25879336587674], [-121.85231239157227, 37.25879334885683], [-121.8523144163967, 37.25879290482338], [-121.85231630616722, 37.258792052856876], [-121.85231797967894, 37.25879082956698], [-121.85271146820244, 37.258435098603655], [-121.85271182791803, 37.25843483129998], [-121.85271221846635, 37.25843505111494], [-121.85284321011899, 37.2585263351181], [-121.8528458164362, 37.25852763450298], [-121.85293401987614, 37.25855650788482], [-121.85293561744804, 37.25855688893551], [-121.85293725584509, 37.25855700334995], [-121.853006658335, 37.25855613633138], [-121.853009078891, 37.25855580771502], [-121.85301134755663, 37.258554902046015], [-121.85317834846026, 37.25846317684141], [-121.85317877829803, 37.258462993543574], [-121.85317916691679, 37.258463253031685], [-121.8532073678618, 37.25848642948448], [-121.85320773102562, 37.25848680061173], [-121.85320779554239, 37.25848731584075], [-121.8532085020336, 37.25853081299841], [-121.85320845975825, 37.25853130964544], [-121.85320831854987, 37.25853178766826], [-121.85317809556499, 37.258605651101966], [-121.85317754624532, 37.258607470504806], [-121.85317735106285, 37.25860936097633], [-121.85317681970994, 37.2586782659311], [-121.8531769968707, 37.25868021858802], [-121.85317755163503, 37.25868209914419], [-121.8532047079552, 37.2587491044519], [-121.85320537390723, 37.25875044821285], [-121.85320623333028, 37.258751677268435], [-121.85325908104687, 37.25881632786004], [-121.85326109816275, 37.25881819778906], [-121.85461400856252, 37.2597629403606], [-121.8546144073809, 37.25976328817425], [-121.85461472272318, 37.259763713132664], [-121.85465017537116, 37.25982411135358], [-121.85465040945031, 37.259824648076105], [-121.85465050977676, 37.25982522496351], [-121.85465392195252, 37.259889970063234], [-121.85465385552642, 37.25989108422391], [-121.85462620217041, 37.26005050570952], [-121.85462606070911, 37.26005255148696], [-121.85462633953107, 37.26005458310575], [-121.8546628996636, 37.26020456351884], [-121.85466336203268, 37.260205987227515], [-121.85466403173979, 37.2602073259672], [-121.8547003054278, 37.260268009525646], [-121.8547011597001, 37.260269223849974], [-121.85470218435128, 37.26027029830551], [-121.8548148552083, 37.260372110926184], [-121.8548162608091, 37.26037317204579], [-121.85481783076553, 37.260373970121776], [-121.85497191720577, 37.260435894604186], [-121.85497429192874, 37.26043652374825], [-121.85650450217389, 37.26064567590956], [-121.85650594593506, 37.260645767629796], [-121.85692517055062, 37.26064201404933], [-121.85692644672321, 37.26064192075365], [-121.85719729670903, 37.260604580766014], [-121.85719830049769, 37.260604389682456], [-121.85747296186624, 37.26053740113825], [-121.85747345033421, 37.260537333266704], [-121.85747392607536, 37.260537463181606], [-121.85752904027431, 37.26055869678837], [-121.85752947422898, 37.26055891647028], [-121.85752970608883, 37.26055934404225], [-121.85756163611103, 37.26063571400256], [-121.8575624398309, 37.26063724770246], [-121.85756349607, 37.26063861976658], [-121.85756477316019, 37.260639789057684], [-121.8575662328117, 37.26064072051807], [-121.85764071964348, 37.260679622963714], [-121.85764245008592, 37.26068032964494], [-121.85764428181221, 37.26068070194612], [-121.85764615082498, 37.26068072685968], [-121.85771489115868, 37.26067519743207], [-121.85771672486047, 37.26067487608424], [-121.85771846722285, 37.26067422041661], [-121.85772005786029, 37.26067325315283], [-121.85776303152429, 37.260641286086475], [-121.85776430533942, 37.260640158125454], [-121.85776536949655, 37.2606388305447], [-121.85776619318936, 37.260637341776345], [-121.85779766899593, 37.26056689206455], [-121.85779832885314, 37.26056485132045], [-121.85779853836436, 37.260562716805744], [-121.85779828789201, 37.26056058670912], [-121.85779758895792, 37.26055855901606], [-121.85775927843456, 37.26047705247536], [-121.85775912643925, 37.26047663265204], [-121.85775921722261, 37.2604761954878], [-121.8577724733751, 37.260432847101505], [-121.85777265492297, 37.260432411044796], [-121.85777304744884, 37.26043214831199], [-121.85811433018054, 37.26024918550559], [-121.8581147165124, 37.26024902312596], [-121.85811482940153, 37.2602494267043], [-121.85816724715924, 37.260539907199046], [-121.85816730472335, 37.260540327663875], [-121.85835077913887, 37.262495019827234], [-121.85835079262725, 37.26249519750945], [-121.85842155693578, 37.263715044641394], [-121.85842156329285, 37.263715191577795], [-121.85846041780147, 37.26507676941293], [-121.85846047135867, 37.26507755617554], [-121.85851570925725, 37.26558986077303], [-121.85851571273525, 37.265590315769025]]]]}, \"properties\": {\"hood_id\": 170223, \"hood_name\": \"Vista  Park\", \"fill\": \"#67C2A5\", \"stroke\": \"#67C2A5\", \"fill-opacity\": 0.45}}, {\"type\": \"Feature\", \"geometry\": {\"type\": \"MultiPolygon\", \"coordinates\": [[[[-121.82537500000001, 37.266041], [-121.82471299999997, 37.26613], [-121.82469800000001, 37.262985], [-121.824637, 37.262983], [-121.82461899999998, 37.262657], [-121.82374400000003, 37.262598], [-121.823712, 37.261688], [-121.821778, 37.261693], [-121.82095800000002, 37.261457], [-121.82074, 37.261431], [-121.82046500000001, 37.261425], [-121.81997000000001, 37.261535], [-121.81957899999998, 37.261666], [-121.81942400000003, 37.26168], [-121.819432, 37.258885], [-121.83095600000001, 37.258765], [-121.83107060185245, 37.2606413480703], [-121.83103499999999, 37.264584], [-121.83111100000002, 37.265994], [-121.82537500000001, 37.266041], [-121.82537500000001, 37.266041]]]]}, \"properties\": {\"hood_id\": 170018, \"hood_name\": \"Hayes\", \"fill\": \"#67C2A5\", \"stroke\": \"#67C2A5\", \"fill-opacity\": 0.45}}, {\"type\": \"Feature\", \"geometry\": {\"type\": \"MultiPolygon\", \"coordinates\": [[[[-121.83097065459589, 37.258750608587555], [-121.81938373741264, 37.25888918280493], [-121.81281791550532, 37.258882591049556], [-121.8122368225919, 37.258943198582145], [-121.81174156036701, 37.259106275848715], [-121.81144067850931, 37.259215374472475], [-121.8110498840984, 37.25939798157055], [-121.810723462704, 37.25964036182506], [-121.81014309405072, 37.26025932729414], [-121.8025146814723, 37.2557487687562], [-121.80761652315232, 37.25188547620086], [-121.80842930251725, 37.25152169469035], [-121.8091347935216, 37.25131163205396], [-121.8098080980177, 37.25123820951014], [-121.81033584014972, 37.25126682405036], [-121.81168970265838, 37.25146623894921], [-121.8127130004143, 37.25150638783897], [-121.82833896854004, 37.2513940422519], [-121.82918893800019, 37.25131224932116], [-121.83085429900086, 37.251298776554805], [-121.83086956145411, 37.254768596111944], [-121.83097065459589, 37.258750608587555], [-121.83097065459589, 37.258750608587555], [-121.83097065459589, 37.258750608587555], [-121.83097065459589, 37.258750608587555], [-121.83097065459589, 37.258750608587555]]]]}, \"properties\": {\"hood_id\": 170016, \"hood_name\": \"Oak Grove\", \"fill\": \"#67C2A5\", \"stroke\": \"#67C2A5\", \"fill-opacity\": 0.45}}, {\"type\": \"Feature\", \"geometry\": {\"type\": \"MultiPolygon\", \"coordinates\": [[[[-121.82460686490413, 37.27811530245245], [-121.82329109039637, 37.27812509096151], [-121.82326277621564, 37.27753728814342], [-121.82251843040933, 37.277282622760936], [-121.82218178037317, 37.277079179163266], [-121.82213075279242, 37.2729926883377], [-121.82474531432297, 37.273970318464265], [-121.82719465885498, 37.27464081931172], [-121.82794390081443, 37.27458185172144], [-121.82975574689283, 37.27301189681796], [-121.82992204255544, 37.2731272842364], [-121.8304145246035, 37.27345687719502], [-121.83176531353627, 37.27460606215782], [-121.83519471922273, 37.27795608234067], [-121.83469918687388, 37.27810002001433], [-121.82460686490413, 37.27811530245245], [-121.82460686490413, 37.27811530245245]]]]}, \"properties\": {\"hood_id\": 169869, \"hood_name\": \"San  Ramon\", \"fill\": \"#67C2A5\", \"stroke\": \"#67C2A5\", \"fill-opacity\": 0.45}}, {\"type\": \"Feature\", \"geometry\": {\"type\": \"MultiPolygon\", \"coordinates\": [[[[-121.83400926554617, 37.28427314126671], [-121.83399160222893, 37.28366444886438], [-121.83414963730183, 37.28271591451669], [-121.83445332410656, 37.28215491837067], [-121.83490501548295, 37.281295970783304], [-121.83564638543294, 37.28101750838301], [-121.8372385742174, 37.279963405946], [-121.83991101733238, 37.28254121603021], [-121.83589584732033, 37.284260012231925], [-121.83400926554617, 37.28427314126671], [-121.83400926554617, 37.28427314126671], [-121.83400926554617, 37.28427314126671]]]]}, \"properties\": {\"hood_id\": 169868, \"hood_name\": \"Rancho\", \"fill\": \"#67C2A5\", \"stroke\": \"#67C2A5\", \"fill-opacity\": 0.45}}, {\"type\": \"Feature\", \"geometry\": {\"type\": \"MultiPolygon\", \"coordinates\": [[[[-121.82726086128412, 37.28713246473534], [-121.82374692452555, 37.28312352386413], [-121.8234520605368, 37.28255446314101], [-121.82328818979602, 37.27811529147252], [-121.83216047936014, 37.27805145419698], [-121.83470827234822, 37.27810206923897], [-121.83519612881287, 37.27794779637539], [-121.83726174921486, 37.27997302069957], [-121.83495083000048, 37.28166408943609], [-121.83445336935029, 37.28239835238626], [-121.83420267192946, 37.283098462492404], [-121.83410897285808, 37.28383283168717], [-121.83411469376438, 37.28478937650506], [-121.83222943908794, 37.284377257425525], [-121.82726086128412, 37.28713246473534], [-121.82726086128412, 37.28713246473534]]]]}, \"properties\": {\"hood_id\": 169964, \"hood_name\": \"Seven Trees\", \"fill\": \"#67C2A5\", \"stroke\": \"#67C2A5\", \"fill-opacity\": 0.45}}, {\"type\": \"Feature\", \"geometry\": {\"type\": \"MultiPolygon\", \"coordinates\": [[[[-121.84387937936151, 37.27569507950239], [-121.84440003209164, 37.27533468239675], [-121.84526400757568, 37.27497428356594], [-121.84609073631492, 37.274748649764106], [-121.84695025992488, 37.27463887616797], [-121.84982802143918, 37.27459007643061], [-121.84989875768633, 37.275090573604636], [-121.85003068533445, 37.27543473120655], [-121.85025758169951, 37.2757434056419], [-121.85063925078344, 37.276059949746944], [-121.8510875773909, 37.2762779816936], [-121.85087237109536, 37.27650734006765], [-121.84750462126112, 37.276092673664294], [-121.84387937936151, 37.27569507950239], [-121.84387937936151, 37.27569507950239]]]]}, \"properties\": {\"hood_id\": 179040, \"hood_name\": \"Bella Villagio\", \"fill\": \"#67C2A5\", \"stroke\": \"#67C2A5\", \"fill-opacity\": 0.45}}, {\"type\": \"Feature\", \"geometry\": {\"type\": \"MultiPolygon\", \"coordinates\": [[[[-121.84915473875498, 37.27809387709783], [-121.8491546185752, 37.27809399317341], [-121.8489350897035, 37.2783095988191], [-121.8489345235123, 37.27831020293482], [-121.84877577675257, 37.278494299060334], [-121.84877524524887, 37.278494971708255], [-121.84863533174621, 37.278688554042944], [-121.84863484420435, 37.27868929585905], [-121.84851437834823, 37.27889161886075], [-121.8485142100692, 37.27889191269178], [-121.84765225053007, 37.280458807977986], [-121.84694310448924, 37.28037603183146], [-121.84630906030088, 37.28028471885342], [-121.84560960023526, 37.280085019039134], [-121.84492951212007, 37.27978805946143], [-121.84423452372539, 37.27935633704971], [-121.8433273445587, 37.27845873701185], [-121.84489026395147, 37.27579905179336], [-121.84489053086168, 37.275798682528745], [-121.84489098641188, 37.275798690983606], [-121.85090133681899, 37.276498092661484], [-121.84915473875498, 37.27809387709783]]]]}, \"properties\": {\"hood_id\": 178007, \"hood_name\": \"California Hawaiian Estates\", \"fill\": \"#67C2A5\", \"stroke\": \"#67C2A5\", \"fill-opacity\": 0.45}}, {\"type\": \"Feature\", \"geometry\": {\"type\": \"MultiPolygon\", \"coordinates\": [[[[-121.83966666788069, 37.27460532490846], [-121.8391531890432, 37.27428546040314], [-121.83841174471746, 37.27397987214029], [-121.83796592070212, 37.273664865370414], [-121.83774540224397, 37.273418157473486], [-121.84295459074093, 37.273386760831634], [-121.84358266016642, 37.27382772246036], [-121.84406465305824, 37.27419036552828], [-121.844437169235, 37.27393003739412], [-121.84492233763768, 37.274437099031644], [-121.8452680311716, 37.27497403796228], [-121.84441209506684, 37.275323152610646], [-121.84196829122527, 37.277004067097316], [-121.84082820838898, 37.275796168307565], [-121.83966666788069, 37.27460532490846], [-121.83966666788069, 37.27460532490846], [-121.83966666788069, 37.27460532490846]]]]}, \"properties\": {\"hood_id\": 223440, \"hood_name\": \"Capitol Village - Baroni\", \"fill\": \"#67C2A5\", \"stroke\": \"#67C2A5\", \"fill-opacity\": 0.45}}, {\"type\": \"Feature\", \"geometry\": {\"type\": \"MultiPolygon\", \"coordinates\": [[[[-121.8192858497996, 37.26486924583863], [-121.8190423693906, 37.26488345588419], [-121.8142900953402, 37.2622801058678], [-121.8142900411739, 37.26228051019572], [-121.8142896726769, 37.26228033519562], [-121.8105495841442, 37.26005152076979], [-121.8105492248492, 37.26005125457472], [-121.8105495026663, 37.26005090418877], [-121.8107670465804, 37.25982682975575], [-121.810767455393, 37.25982649083934], [-121.8107679273408, 37.25982624741098], [-121.810974806241, 37.25967509961789], [-121.8109746747848, 37.2596746019806], [-121.8109748683188, 37.25967412504448], [-121.8109967425489, 37.25963338774283], [-121.8109969758877, 37.25963303126489], [-121.810997316605, 37.25963277546145], [-121.8112864200841, 37.25945264971749], [-121.8112870481454, 37.25945231792615], [-121.8116282386206, 37.25930206168515], [-121.811628662719, 37.25930191988952], [-121.8116290980814, 37.25930202199213], [-121.8118900780369, 37.2592169833969], [-121.8118902250817, 37.25921654001632], [-121.8118905909105, 37.25921624953784], [-121.8119244731733, 37.25919431587182], [-121.811924841447, 37.25919411935681], [-121.8119252374838, 37.25919398745377], [-121.8121765659341, 37.25913323746486], [-121.8121770111098, 37.25913315102741], [-121.8142778403768, 37.25902927019872], [-121.8142782704253, 37.25902930270277], [-121.8142784361863, 37.25902970085042], [-121.8143044680855, 37.26072029509102], [-121.8167973370495, 37.26073351796582], [-121.8193838195821, 37.26070421085791], [-121.8193125157643, 37.26321049911281], [-121.8192858497996, 37.26486924583863]]]]}, \"properties\": {\"hood_id\": 347256, \"hood_name\": \"Dolce Hayes\", \"fill\": \"#67C2A5\", \"stroke\": \"#67C2A5\", \"fill-opacity\": 0.45}}, {\"type\": \"Feature\", \"geometry\": {\"type\": \"MultiPolygon\", \"coordinates\": [[[[-121.81364692411847, 37.269661398391094], [-121.81362708711015, 37.27298687217585], [-121.8107117458552, 37.27297234024629], [-121.81068152995243, 37.27164558242695], [-121.80975507306346, 37.27154376907664], [-121.80961182120683, 37.270946764803476], [-121.81136379634495, 37.27067483345809], [-121.81133795955748, 37.269695534031555], [-121.81147320241234, 37.26967846621313], [-121.81364692411847, 37.269661398391094]]]]}, \"properties\": {\"hood_id\": 169870, \"hood_name\": \"Eden Hill\", \"fill\": \"#67C2A5\", \"stroke\": \"#67C2A5\", \"fill-opacity\": 0.45}}, {\"type\": \"Feature\", \"geometry\": {\"type\": \"MultiPolygon\", \"coordinates\": [[[[-121.81675628165516, 37.26072292816119], [-121.8167559978034, 37.26072333837757], [-121.81675550277714, 37.260723400007876], [-121.81430770670545, 37.260733224954976], [-121.8142689482155, 37.25889250528281], [-121.81944089637295, 37.258903008972254], [-121.81942510334085, 37.260683254757545], [-121.81675495240859, 37.26068601353658], [-121.81675628165516, 37.26072292816119]]]]}, \"properties\": {\"hood_id\": 267261, \"hood_name\": \"Edenvale\", \"fill\": \"#67C2A5\", \"stroke\": \"#67C2A5\", \"fill-opacity\": 0.45}}, {\"type\": \"Feature\", \"geometry\": {\"type\": \"MultiPolygon\", \"coordinates\": [[[[-121.849626, 37.272495], [-121.849626, 37.272496], [-121.84978899999999, 37.272446], [-121.849828, 37.274591], [-121.84696600000001, 37.274644], [-121.84609, 37.274749], [-121.84527200000002, 37.274967], [-121.84492399999999, 37.27444], [-121.84442100000001, 37.273935], [-121.84465399999999, 37.273769], [-121.84465499999999, 37.273769], [-121.84531400000003, 37.273496], [-121.84531400000003, 37.273496], [-121.84531500000003, 37.273496], [-121.84603199999998, 37.273493], [-121.84648099999998, 37.273448], [-121.84732600000001, 37.273239], [-121.84732600000001, 37.273239], [-121.849626, 37.272495], [-121.849626, 37.272495], [-121.849626, 37.272495], [-121.849626, 37.272495], [-121.849626, 37.272495]]]]}, \"properties\": {\"hood_id\": 257800, \"hood_name\": \"Ellmar Oaks\", \"fill\": \"#67C2A5\", \"stroke\": \"#67C2A5\", \"fill-opacity\": 0.45}}, {\"type\": \"Feature\", \"geometry\": {\"type\": \"MultiPolygon\", \"coordinates\": [[[[-121.8247250233552, 37.26611237329981], [-121.82467886112295, 37.2661616995813], [-121.8246830961831, 37.26938531658402], [-121.82374499253763, 37.26869418738375], [-121.82199149735169, 37.26744807108217], [-121.81935354270058, 37.265826696492375], [-121.81942887177968, 37.26166389484042], [-121.81957239836538, 37.26165586141937], [-121.81999487468852, 37.2615282839382], [-121.82047504690877, 37.26142682831831], [-121.82094449029313, 37.26145772525838], [-121.82177086002605, 37.26169955539019], [-121.82371595121964, 37.26170607315902], [-121.82375253498935, 37.26259704050595], [-121.82460987471768, 37.26264693598788], [-121.82463991785482, 37.26299513389762], [-121.82470214750003, 37.26299751357733], [-121.8247250233552, 37.26611237329981], [-121.8247250233552, 37.26611237329981]]]]}, \"properties\": {\"hood_id\": 176961, \"hood_name\": \"Frontier Village\", \"fill\": \"#67C2A5\", \"stroke\": \"#67C2A5\", \"fill-opacity\": 0.45}}, {\"type\": \"Feature\", \"geometry\": {\"type\": \"MultiPolygon\", \"coordinates\": [[[[-121.82672285217467, 37.27451139803789], [-121.82524686536487, 37.27410062974259], [-121.82524228449728, 37.27409885768063], [-121.82524048708001, 37.274094286702386], [-121.82470053083875, 37.27396036619833], [-121.82216501109042, 37.2730068435217], [-121.82207215152539, 37.272995125881295], [-121.81817635902996, 37.272963918137904], [-121.81363683637096, 37.27298393581455], [-121.8136323020974, 37.27298347775662], [-121.8136319809472, 37.27297893173458], [-121.81365329496248, 37.26919586192734], [-121.8152453035986, 37.26916844975757], [-121.8152714689819, 37.26625681923488], [-121.81383381375122, 37.26623534649336], [-121.81385238171845, 37.26245402785914], [-121.82201120656532, 37.267457894107906], [-121.82976233564199, 37.273016697386424], [-121.82796364417078, 37.27458364511259], [-121.82721450214001, 37.2746328954544], [-121.82672285217467, 37.27451139803789]]]]}, \"properties\": {\"hood_id\": 169867, \"hood_name\": \"Havens-Monterey-Edenvale\", \"fill\": \"#67C2A5\", \"stroke\": \"#67C2A5\", \"fill-opacity\": 0.45}}, {\"type\": \"Feature\", \"geometry\": {\"type\": \"MultiPolygon\", \"coordinates\": [[[[-121.8221687083037, 37.277060591173864], [-121.8221683366811, 37.27706476938372], [-121.82216467651017, 37.27706272031324], [-121.82131956875116, 37.27647404998017], [-121.82031352845132, 37.27644883078688], [-121.82030911988318, 37.2764483172023], [-121.82030487395707, 37.27644702439393], [-121.81988639486337, 37.27630673599994], [-121.81936062740897, 37.27606400077543], [-121.81934352079554, 37.27605878729342], [-121.81932575911719, 37.27605670417187], [-121.81696227601947, 37.275988671137554], [-121.81694840801879, 37.27635603582799], [-121.81694753380566, 37.27636021559519], [-121.81694327565083, 37.276360536249555], [-121.81422828809235, 37.27630170688398], [-121.81436825040453, 37.2767913785766], [-121.81397404788686, 37.27687157007556], [-121.81357984536919, 37.277011521300274], [-121.81330102118841, 37.2765486182489], [-121.8132855729175, 37.27623861576188], [-121.81261059557232, 37.276200921005234], [-121.81219264062935, 37.27632720599097], [-121.81134553224388, 37.2766669198562], [-121.8113203624003, 37.27668062666917], [-121.81085180700222, 37.27703128317058], [-121.81084714885685, 37.27703401892426], [-121.8107773933906, 37.2770857018918], [-121.81053368762315, 37.27705554932702], [-121.81001103211827, 37.27706808229264], [-121.80972746846862, 37.27710168532031], [-121.80902086630056, 37.27733963302932], [-121.80899559180165, 37.275729813372195], [-121.80899595362075, 37.27572535684342], [-121.80900039037743, 37.275724802990524], [-121.8089419535861, 37.27294609249894], [-121.81243743361239, 37.27299097371896], [-121.81243732938003, 37.272986709986725], [-121.81244157576697, 37.27298631189771], [-121.82211940879569, 37.27299004463313], [-121.82212385595352, 37.27299048120109], [-121.82212433931147, 37.27299492351699], [-121.8221687083037, 37.277060591173864], [-121.8221687083037, 37.277060591173864]]]]}, \"properties\": {\"hood_id\": 234689, \"hood_name\": \"River View Skyway\", \"fill\": \"#67C2A5\", \"stroke\": \"#67C2A5\", \"fill-opacity\": 0.45}}, {\"type\": \"Feature\", \"geometry\": {\"type\": \"MultiPolygon\", \"coordinates\": [[[[-121.84196844863874, 37.27698961714544], [-121.83726508712277, 37.279979574524575], [-121.83186813936402, 37.27468123748597], [-121.83038721676706, 37.27343795766438], [-121.83700424676078, 37.273413010695094], [-121.83753802670867, 37.273174625330384], [-121.83794367411195, 37.27364304709147], [-121.83839223685953, 37.27397486675258], [-121.83914120701684, 37.27426399784286], [-121.83965414278077, 37.27458727738021], [-121.84009656042758, 37.275026652730986], [-121.84196844863874, 37.27698961714544], [-121.84196844863874, 37.27698961714544]]]]}, \"properties\": {\"hood_id\": 257380, \"hood_name\": \"The Woods\", \"fill\": \"#67C2A5\", \"stroke\": \"#67C2A5\", \"fill-opacity\": 0.45}}, {\"type\": \"Feature\", \"geometry\": {\"type\": \"MultiPolygon\", \"coordinates\": [[[[-121.84854493907164, 37.26581092138027], [-121.84654773354936, 37.265905631464385], [-121.84575903715995, 37.26426483568457], [-121.8457821921022, 37.264207094969244], [-121.84590190656911, 37.26413227706593], [-121.84636664106011, 37.264033872558194], [-121.84686159218165, 37.26398648862079], [-121.84710584031865, 37.26395149083424], [-121.84732594857451, 37.26389514653482], [-121.84752996357616, 37.26381318637041], [-121.84933823416128, 37.26566273208048], [-121.84854493907164, 37.26581092138027], [-121.84854493907164, 37.26581092138027]]]]}, \"properties\": {\"hood_id\": 253069, \"hood_name\": \"Vistapark-Martial Cottle\", \"fill\": \"#67C2A5\", \"stroke\": \"#67C2A5\", \"fill-opacity\": 0.45}}]},\n",
      "          neighborhoodMapOptions:{\n",
      "            tileServerHosts: [\"https://tiles-0.nextdoor.com\", \"https://tiles-1.nextdoor.com\", \"https://tiles-2.nextdoor.com\", \"https://tiles-3.nextdoor.com\"],\n",
      "            domSelector: 'neighborhood-map',\n",
      "            mapBounds: '37.26350892516025,-121.83831246442287,37.26970890275868,-121.83099270501282',\n",
      "            hoodFeatures: [{\"type\": \"MULTIPOLYGON\", \"name\": \"Nextdoor Edenvale\", \"info\": \"\", \"id\": 267261, \"geometry\": \"{\\\"type\\\": \\\"MultiPolygon\\\", \\\"coordinates\\\": [[[[-121.81675628165516, 37.26072292816119], [-121.8167559978034, 37.26072333837757], [-121.81675550277714, 37.260723400007876], [-121.81430770670545, 37.260733224954976], [-121.8142689482155, 37.25889250528281], [-121.81944089637295, 37.258903008972254], [-121.81942510334085, 37.260683254757545], [-121.81675495240859, 37.26068601353658], [-121.81675628165516, 37.26072292816119]]]]}\", \"centroid\": [-121.8168419312562, 37.25980018874453], \"page_url\": \"https://nextdoor.com/neighborhood/edenvaleca--san-jose--ca\", \"short_name\": \"Edenvale\", \"stroke_color\": \"#67C2A5\", \"fill_color\": \"#67C2A5\", \"stroke_weight\": 1, \"fill_opacity\": 0.35}, {\"type\": \"MULTIPOLYGON\", \"name\": \"Nextdoor Dolce Hayes\", \"info\": \"\", \"id\": 347256, \"geometry\": \"{\\\"type\\\": \\\"MultiPolygon\\\", \\\"coordinates\\\": [[[[-121.8192858497996, 37.26486924583863], [-121.8190423693906, 37.26488345588419], [-121.8142900953402, 37.2622801058678], [-121.8142900411739, 37.26228051019572], [-121.8142896726769, 37.26228033519562], [-121.8105495841442, 37.26005152076979], [-121.8105492248492, 37.26005125457472], [-121.8105495026663, 37.26005090418877], [-121.8107670465804, 37.25982682975575], [-121.810767455393, 37.25982649083934], [-121.8107679273408, 37.25982624741098], [-121.810974806241, 37.25967509961789], [-121.8109746747848, 37.2596746019806], [-121.8109748683188, 37.25967412504448], [-121.8109967425489, 37.25963338774283], [-121.8109969758877, 37.25963303126489], [-121.810997316605, 37.25963277546145], [-121.8112864200841, 37.25945264971749], [-121.8112870481454, 37.25945231792615], [-121.8116282386206, 37.25930206168515], [-121.811628662719, 37.25930191988952], [-121.8116290980814, 37.25930202199213], [-121.8118900780369, 37.2592169833969], [-121.8118902250817, 37.25921654001632], [-121.8118905909105, 37.25921624953784], [-121.8119244731733, 37.25919431587182], [-121.811924841447, 37.25919411935681], [-121.8119252374838, 37.25919398745377], [-121.8121765659341, 37.25913323746486], [-121.8121770111098, 37.25913315102741], [-121.8142778403768, 37.25902927019872], [-121.8142782704253, 37.25902930270277], [-121.8142784361863, 37.25902970085042], [-121.8143044680855, 37.26072029509102], [-121.8167973370495, 37.26073351796582], [-121.8193838195821, 37.26070421085791], [-121.8193125157643, 37.26321049911281], [-121.8192858497996, 37.26486924583863]]]]}\", \"centroid\": [-121.8158025611938, 37.26163781609426], \"page_url\": \"https://nextdoor.com/neighborhood/dolcehayes--san-jose--ca\", \"short_name\": \"Dolce Hayes\", \"stroke_color\": \"#67C2A5\", \"fill_color\": \"#67C2A5\", \"stroke_weight\": 1, \"fill_opacity\": 0.35}, {\"type\": \"MULTIPOLYGON\", \"name\": \"Nextdoor California Hawaiian Estates\", \"info\": \"\", \"id\": 178007, \"geometry\": \"{\\\"type\\\": \\\"MultiPolygon\\\", \\\"coordinates\\\": [[[[-121.84915473875498, 37.27809387709783], [-121.8491546185752, 37.27809399317341], [-121.8489350897035, 37.2783095988191], [-121.8489345235123, 37.27831020293482], [-121.84877577675257, 37.278494299060334], [-121.84877524524887, 37.278494971708255], [-121.84863533174621, 37.278688554042944], [-121.84863484420435, 37.27868929585905], [-121.84851437834823, 37.27889161886075], [-121.8485142100692, 37.27889191269178], [-121.84765225053007, 37.280458807977986], [-121.84694310448924, 37.28037603183146], [-121.84630906030088, 37.28028471885342], [-121.84560960023526, 37.280085019039134], [-121.84492951212007, 37.27978805946143], [-121.84423452372539, 37.27935633704971], [-121.8433273445587, 37.27845873701185], [-121.84489026395147, 37.27579905179336], [-121.84489053086168, 37.275798682528745], [-121.84489098641188, 37.275798690983606], [-121.85090133681899, 37.276498092661484], [-121.84915473875498, 37.27809387709783]]]]}\", \"centroid\": [-121.8466757899503, 37.277929664771065], \"page_url\": \"https://nextdoor.com/neighborhood/californiahawaiianestates--san-jose--ca\", \"short_name\": \"California Hawaiian Estates\", \"stroke_color\": \"#67C2A5\", \"fill_color\": \"#67C2A5\", \"stroke_weight\": 1, \"fill_opacity\": 0.35}, {\"type\": \"MULTIPOLYGON\", \"name\": \"Nextdoor Vistapark-Martial Cottle\", \"info\": \"\", \"id\": 253069, \"geometry\": \"{\\\"type\\\": \\\"MultiPolygon\\\", \\\"coordinates\\\": [[[[-121.84854493907164, 37.26581092138027], [-121.84654773354936, 37.265905631464385], [-121.84575903715995, 37.26426483568457], [-121.8457821921022, 37.264207094969244], [-121.84590190656911, 37.26413227706593], [-121.84636664106011, 37.264033872558194], [-121.84686159218165, 37.26398648862079], [-121.84710584031865, 37.26395149083424], [-121.84732594857451, 37.26389514653482], [-121.84752996357616, 37.26381318637041], [-121.84933823416128, 37.26566273208048], [-121.84854493907164, 37.26581092138027], [-121.84854493907164, 37.26581092138027]]]]}\", \"centroid\": [-121.84736811694883, 37.26496657611789], \"page_url\": \"https://nextdoor.com/neighborhood/vistaparkmartialcottle--san-jose--ca\", \"short_name\": \"Vistapark-Martial Cottle\", \"stroke_color\": \"#67C2A5\", \"fill_color\": \"#67C2A5\", \"stroke_weight\": 1, \"fill_opacity\": 0.35}, {\"type\": \"MULTIPOLYGON\", \"name\": \"Nextdoor Vista  Park\", \"info\": \"\", \"id\": 170223, \"geometry\": \"{\\\"type\\\": \\\"MultiPolygon\\\", \\\"coordinates\\\": [[[[-121.85851571273525, 37.265590315769025], [-121.8585152652205, 37.26559039801272], [-121.85671771895252, 37.265738104754575], [-121.85671730361729, 37.265738103694986], [-121.85671691215451, 37.26573796490989], [-121.85666507613577, 37.265714489650385], [-121.85666472835253, 37.26571429717649], [-121.85666441578934, 37.2657140516086], [-121.8565065938483, 37.26556815164067], [-121.8565051309944, 37.26556703058186], [-121.85650348725102, 37.26556619702204], [-121.85638829226453, 37.26552058183343], [-121.85638656209873, 37.265520071694446], [-121.85638476843611, 37.26551988067112], [-121.85638296963738, 37.265520014978804], [-121.85628294497226, 37.265536654017936], [-121.8562810625959, 37.265537159713766], [-121.8562793140729, 37.26553802095499], [-121.85627776583091, 37.26553920502247], [-121.85620338898116, 37.2656085644982], [-121.85620219007727, 37.2656099033433], [-121.85620125017685, 37.265611435160494], [-121.85620059963753, 37.265613110474], [-121.8561663744761, 37.265731949971695], [-121.8561660405289, 37.26573365476969], [-121.85616600665858, 37.265735391637484], [-121.85616895664327, 37.265779047429184], [-121.85616894580578, 37.265779492789854], [-121.85616870348181, 37.265779866611666], [-121.85614928436271, 37.26580453287294], [-121.85614897169408, 37.26580486205262], [-121.8561485609572, 37.26580505548525], [-121.85610967401465, 37.265819135176756], [-121.85610923092523, 37.2658192505288], [-121.85610877416502, 37.265819282223276], [-121.85553285487448, 37.265805789864224], [-121.85553236195892, 37.26580572773901], [-121.85553193410482, 37.2658054752193], [-121.85549485937231, 37.265778150816104], [-121.85549452092141, 37.26577784931505], [-121.85549431454552, 37.26577744575499], [-121.85545880152286, 37.265688565605664], [-121.85545789748794, 37.26568682257824], [-121.8554566702861, 37.26568528980318], [-121.85545516723117, 37.26568402637546], [-121.85545344627228, 37.26568308100558], [-121.85537511719264, 37.265649594782154], [-121.85537348297304, 37.2656490570877], [-121.85537178077588, 37.265648807460195], [-121.85537006098264, 37.26564885328808], [-121.85536837449553, 37.26564919321495], [-121.85529123641322, 37.265671794541255], [-121.85528945952078, 37.26567250604806], [-121.85528785073822, 37.26567354306659], [-121.85528646900477, 37.26567486760475], [-121.85528536494141, 37.26567643113692], [-121.85523409447987, 37.26576618869227], [-121.85523386412787, 37.26576652413844], [-121.85523353724965, 37.26576676649513], [-121.85518345391256, 37.26579783427475], [-121.85518301209696, 37.265798050088605], [-121.8551825210283, 37.26579807515248], [-121.85463447836842, 37.26577073182552], [-121.85463406931352, 37.26577067674705], [-121.85463370128649, 37.26577048988975], [-121.85459554841162, 37.26574689811594], [-121.85459518570835, 37.2657466237289], [-121.85459502547478, 37.26574619809165], [-121.85458482737755, 37.265708796891055], [-121.8545847438703, 37.26570827570688], [-121.85458477329031, 37.265707748695625], [-121.85462128947822, 37.265485831607585], [-121.85462138975895, 37.265485432547955], [-121.85462155468241, 37.26548505557943], [-121.8546635507276, 37.26540735651862], [-121.85466412896544, 37.265406508752754], [-121.85475660169536, 37.265297092125905], [-121.854757305618, 37.26529640870736], [-121.85483070240248, 37.26523800717795], [-121.85483200057503, 37.26523676850705], [-121.85483305648987, 37.265235317782604], [-121.8548338361512, 37.26523370171151], [-121.85483431445739, 37.265231972324116], [-121.85484781898948, 37.2651577566172], [-121.85484798003796, 37.26515586601059], [-121.85484778107158, 37.26515397901764], [-121.85484722925379, 37.265152163576346], [-121.85484634445184, 37.26515048504857], [-121.85481815922873, 37.26510747750057], [-121.8548169032204, 37.26510592479224], [-121.85481536371624, 37.265104652633816], [-121.85481360211877, 37.265103711764844], [-121.85469396134432, 37.26505445847626], [-121.85469357657409, 37.265054259059], [-121.8546932324693, 37.26505399560659], [-121.85448931413009, 37.2648674065063], [-121.85448899925076, 37.26486709148161], [-121.85443856732344, 37.26481192465292], [-121.85443786259899, 37.26481093383247], [-121.85439629806902, 37.26473410122737], [-121.85439493924419, 37.26473217382097], [-121.85439316684541, 37.264730618217236], [-121.8543614492064, 37.26470881827006], [-121.85435970086287, 37.26470785800973], [-121.85435779671339, 37.264707263855115], [-121.85430157984874, 37.26469571839], [-121.85429936805116, 37.26469551594455], [-121.85429716612205, 37.264695806703656], [-121.85421522770197, 37.26471608170084], [-121.85421355228712, 37.264716657956505], [-121.8542120048651, 37.26471752084157], [-121.85421063401083, 37.26471864326934], [-121.85418151061741, 37.26474715530266], [-121.85418028084561, 37.26474861396007], [-121.85417935048152, 37.264750279625936], [-121.85417875339054, 37.26475209166967], [-121.85416911211215, 37.264794652753984], [-121.85416886637441, 37.26479669674353], [-121.85416904440677, 37.264798747739576], [-121.85416963866375, 37.26480071881516], [-121.85419339247048, 37.264857543965675], [-121.85419422268, 37.2648591190522], [-121.85419531905917, 37.26486052194139], [-121.85419664685121, 37.264861708159614], [-121.85419816396318, 37.26486264010204], [-121.85431247743242, 37.26491952110156], [-121.85431281310508, 37.26491972264295], [-121.85431311288285, 37.264919974493], [-121.85459147694294, 37.265194105627025], [-121.85459176661514, 37.26519445006958], [-121.85459174352647, 37.2651948995332], [-121.85458489539187, 37.2652417491756], [-121.85458474485479, 37.26524230785235], [-121.85458446780515, 37.26524281581366], [-121.85446562498231, 37.26541021164233], [-121.85446460531469, 37.265412020208714], [-121.85446398109116, 37.26541400035502], [-121.85440840641586, 37.26568622545927], [-121.85440825465798, 37.26568670726444], [-121.85440792151049, 37.26568708697435], [-121.85437038597546, 37.265721835813935], [-121.85436996359587, 37.265722148400215], [-121.85436943825036, 37.26572213714126], [-121.8536837644331, 37.265631667813814], [-121.85368328742531, 37.26563155464936], [-121.85368296145256, 37.265631188474075], [-121.85365403813022, 37.26559115320908], [-121.85365378760085, 37.26559071455263], [-121.85365395357428, 37.265590237439156], [-121.85369285255413, 37.26550792889515], [-121.85369309747269, 37.265507518746524], [-121.85369341674689, 37.265507163400216], [-121.85379324232609, 37.26541564927893], [-121.85379451412298, 37.26541423869003], [-121.85379549628333, 37.265412613085694], [-121.85379615337835, 37.26541083110519], [-121.85381034230942, 37.265357097555466], [-121.85381066470194, 37.2653549689652], [-121.85381052402893, 37.265352820699725], [-121.85380992681033, 37.265350752327564], [-121.85380890072622, 37.26534885971432], [-121.85375972793733, 37.265277696429244], [-121.85375824390223, 37.26527599657448], [-121.85375641652386, 37.2652746727336], [-121.8537543388499, 37.265273792314794], [-121.85370356103165, 37.2652587640902], [-121.85370183411962, 37.265258414856966], [-121.85370007271973, 37.265258374120855], [-121.85369833150916, 37.26525864314641], [-121.85369666453838, 37.26525921358256], [-121.85357445809832, 37.26531348250187], [-121.85357271755615, 37.26531447507122], [-121.85357120982987, 37.26531579470846], [-121.85356999544986, 37.26531738843434], [-121.85356912316963, 37.26531919226587], [-121.85355623631143, 37.26535448869735], [-121.85355576453888, 37.26535628232607], [-121.85355563209947, 37.26535813222691], [-121.85355584354866, 37.265359974769325], [-121.8535672486821, 37.26541424913477], [-121.85356730071284, 37.26541476231747], [-121.85356713684797, 37.26541525141059], [-121.85349122207367, 37.26558105712762], [-121.85349098326506, 37.265581467870156], [-121.85349060649531, 37.2655817573239], [-121.8534376357095, 37.265614805927896], [-121.85343725895387, 37.26561499776731], [-121.8534368366985, 37.265614976610756], [-121.85166497405828, 37.265370880679725], [-121.85166458413211, 37.265370794503326], [-121.85166421309566, 37.26537064685254], [-121.85152880945532, 37.26530367247182], [-121.8515266074525, 37.26530288809708], [-121.85152428351549, 37.265302636349396], [-121.8514626310383, 37.26530320585387], [-121.85146074939284, 37.26530340219996], [-121.85145893840016, 37.26530394941743], [-121.85138578683204, 37.26533386287281], [-121.85138531792845, 37.26533400173188], [-121.85138483202444, 37.265333946508484], [-121.85123555805342, 37.26530159367584], [-121.85123407504345, 37.26530138696148], [-121.85123257779293, 37.26530140399936], [-121.85115428679548, 37.26530817863298], [-121.85115212895265, 37.265308608303876], [-121.85105081746023, 37.26534070218916], [-121.8510504238997, 37.26534079237422], [-121.85105002091954, 37.265340817480556], [-121.8506024101685, 37.265332177799245], [-121.85060202952357, 37.2653321409777], [-121.85060165905716, 37.265332046103865], [-121.8505533388281, 37.26531561174836], [-121.85055284406143, 37.26531537835075], [-121.85055250081754, 37.26531495237866], [-121.85053395884643, 37.265285724283686], [-121.85053376823886, 37.26528535957861], [-121.85053370810023, 37.26528495248602], [-121.85052383552892, 37.26512829088094], [-121.85052395118988, 37.26512686773414], [-121.85055108877873, 37.26500836457304], [-121.85055132800501, 37.26500664408556], [-121.85055126589604, 37.26500490815674], [-121.85055090432581, 37.265003209164874], [-121.85055025420401, 37.26500159837376], [-121.85052526345068, 37.264952470166385], [-121.85052430673136, 37.26495094639042], [-121.85052309244782, 37.26494961871556], [-121.8505216599089, 37.26494853012136], [-121.85052005548886, 37.264947715847846], [-121.85042704279425, 37.26491061266037], [-121.85042529617591, 37.26491009459611], [-121.85042348455316, 37.264909902010615], [-121.85042166805493, 37.264910041295934], [-121.85034456378324, 37.26492309793678], [-121.85034225727655, 37.26492378203271], [-121.85034018090566, 37.26492499720524], [-121.85029757426081, 37.264957392193054], [-121.85029604911269, 37.264958827263115], [-121.8502948562818, 37.26496054850027], [-121.85027739651177, 37.26499242367464], [-121.85027672130175, 37.264993944553815], [-121.8502763076407, 37.26499555634368], [-121.85027616698282, 37.26499721441406], [-121.85027609764491, 37.26504926729612], [-121.85027630222518, 37.265051293059656], [-121.85027691288117, 37.265053235395946], [-121.85031824269399, 37.26514922158965], [-121.8503183858396, 37.26514966513071], [-121.85031844319072, 37.26515012765654], [-121.85032295369083, 37.26530584211663], [-121.85032292716171, 37.26530627517808], [-121.85032262131463, 37.26530658291747], [-121.8502772516342, 37.26534466876692], [-121.85027685485069, 37.26534494014399], [-121.85027638430125, 37.26534503845958], [-121.84966273328673, 37.2654112621501], [-121.84966214823555, 37.26541125516614], [-121.84966158144978, 37.26541110995086], [-121.84959429619184, 37.265384993004346], [-121.84959260921974, 37.265384503680856], [-121.84959086265398, 37.265384317078556], [-121.84952021053859, 37.26538301006206], [-121.8495181424744, 37.26538318725547], [-121.84951615553966, 37.26538378756989], [-121.8494102781731, 37.265428225165536], [-121.84940885410279, 37.265428962290706], [-121.84940756616146, 37.26542991755864], [-121.84937347593268, 37.265459722550524], [-121.84937312397786, 37.26545997896898], [-121.84937270481764, 37.26546009698334], [-121.84917005143474, 37.265498157364846], [-121.84916958366462, 37.265498198320806], [-121.84916922427878, 37.26549789611537], [-121.8475894294136, 37.26387939912663], [-121.84758863369666, 37.26387866755034], [-121.84748439132856, 37.263792745602785], [-121.8474825291127, 37.26379153096556], [-121.84748044454332, 37.26379075781485], [-121.8474127001027, 37.26377390883123], [-121.84740990163847, 37.26377362059426], [-121.84733042339874, 37.263776681633146], [-121.84732777407744, 37.26377714564842], [-121.84705596985665, 37.26386369607218], [-121.84705484393136, 37.263863916018], [-121.84700133001328, 37.26386807474306], [-121.84700078731959, 37.26386805685115], [-121.84700026175067, 37.26386792041845], [-121.84693058861514, 37.26384133682756], [-121.84692878534517, 37.26384083622789], [-121.84692692037946, 37.2638406803897], [-121.84686101757951, 37.263841362056475], [-121.84685934503639, 37.26384152048907], [-121.84685772262011, 37.26384195668495], [-121.84685619612343, 37.26384265833248], [-121.84674332380378, 37.26390652954918], [-121.84674285224055, 37.26390673476975], [-121.84674234836461, 37.26390683770873], [-121.84636668856461, 37.263943408902236], [-121.8463649004606, 37.263943749424286], [-121.84591127604637, 37.26407385828547], [-121.84590957451928, 37.264074519668306], [-121.84590802157945, 37.264075479355505], [-121.84578680697574, 37.264166663227726], [-121.84578568480251, 37.26416764668913], [-121.8457847214585, 37.26416878617911], [-121.84574001538824, 37.264230470113624], [-121.84573921172019, 37.26423178026803], [-121.84573861832096, 37.26423319810592], [-121.8456912481381, 37.26437640766975], [-121.84569081709428, 37.264378326752166], [-121.84569077002189, 37.26438029308384], [-121.84570190707008, 37.2645293677033], [-121.84570223835357, 37.264531278362014], [-121.84572511866058, 37.26461434142198], [-121.84572586384208, 37.26461625366187], [-121.84618238459929, 37.26550530358231], [-121.8461825640261, 37.26550575938206], [-121.8461826499394, 37.26550624163331], [-121.84618899514959, 37.265588548429754], [-121.84618897461064, 37.2655891004782], [-121.84618871282133, 37.26558958694063], [-121.84614559053988, 37.26565157192232], [-121.84614520871635, 37.2656520026797], [-121.84614473713927, 37.265652332764496], [-121.84608491574693, 37.26568449288978], [-121.846084543271, 37.26568465532049], [-121.84608414926274, 37.26568475471662], [-121.84602728161029, 37.26569422742927], [-121.84602650256463, 37.265694295111224], [-121.84504364730495, 37.26570241531519], [-121.84504319687308, 37.26570237298607], [-121.84504326639492, 37.26570192594312], [-121.8454588821284, 37.26411560376959], [-121.8454590481281, 37.26411515493847], [-121.84545937301627, 37.26411480357967], [-121.84553555735818, 37.264047101569865], [-121.84553740986806, 37.26404490220218], [-121.84561739843399, 37.26391609754919], [-121.84561825869153, 37.26391435404626], [-121.84561876532746, 37.26391247703652], [-121.84564294780816, 37.26376837976061], [-121.84564308492342, 37.2637665984463], [-121.845642902876, 37.263764821161864], [-121.84561620632671, 37.26362713850104], [-121.8456161626735, 37.263626589107936], [-121.84561624240136, 37.263626043780675], [-121.84625645334246, 37.26119404842661], [-121.84625695058111, 37.261192836540005], [-121.84631264383171, 37.261095859964264], [-121.84631339796987, 37.26109421953847], [-121.84631384485196, 37.2610924702479], [-121.84631396991091, 37.26109066911454], [-121.8463117339625, 37.26098458665782], [-121.84631175497799, 37.26098420790069], [-121.84631183347416, 37.26098383677129], [-121.84641056152577, 37.26064677450388], [-121.84641079977622, 37.26064612950078], [-121.8464828407363, 37.26048598524567], [-121.8464834334615, 37.26048426355294], [-121.84648370416564, 37.260482462922965], [-121.84649267686396, 37.260328072296936], [-121.84649286687126, 37.26032696921641], [-121.84665845857208, 37.25975776449256], [-121.84665859482207, 37.259757361081746], [-121.84685190662469, 37.25925647647934], [-121.84685238770679, 37.259255539131466], [-121.84693642661091, 37.25912727824064], [-121.84693730380603, 37.25912561769259], [-121.84693785505893, 37.25912382241786], [-121.84696813959096, 37.25897734565169], [-121.84696840055197, 37.25897648432948], [-121.84813549818811, 37.25609212742162], [-121.8481359745502, 37.25609122735125], [-121.84817836023458, 37.256027793434946], [-121.84817931254986, 37.2560259957532], [-121.84817988134517, 37.2560240425415], [-121.84819737639981, 37.255928701056156], [-121.84819772061668, 37.25592758437759], [-121.84833101113234, 37.25562631274324], [-121.8483312480887, 37.255625897363025], [-121.84833172603268, 37.25562588128292], [-121.85256007335585, 37.255914887363886], [-121.85256046555767, 37.255914952679746], [-121.85256020238442, 37.255915250720385], [-121.85223931786732, 37.256214586574686], [-121.85223894298746, 37.25621487188613], [-121.85223850054753, 37.25621471007015], [-121.85213924234012, 37.25616667212132], [-121.85213755686776, 37.2561660366378], [-121.85213578473532, 37.256165713833], [-121.85213398344239, 37.25616571418081], [-121.8520447488428, 37.25617380123105], [-121.85204257480171, 37.256174245455995], [-121.85204055224648, 37.25617515817765], [-121.85198886061578, 37.25620579952728], [-121.85198720299145, 37.25620702980632], [-121.85198583329456, 37.25620857422703], [-121.85195984603023, 37.25624481339689], [-121.85195872154247, 37.256246843638586], [-121.85195809534498, 37.25624907841615], [-121.85194765800469, 37.25631505609365], [-121.85194755403838, 37.25631547290306], [-121.85194731337984, 37.25631582874377], [-121.85188329255462, 37.256394642426635], [-121.8518827733287, 37.25639519100733], [-121.85135417449168, 37.2568751103656], [-121.8513538192763, 37.25687544914055], [-121.85117805787567, 37.25705151322993], [-121.85117642493442, 37.25705366554094], [-121.85112011365591, 37.25715350457605], [-121.85111929545403, 37.257155382175895], [-121.85111887694832, 37.25715738709197], [-121.8511188756944, 37.25715943522134], [-121.8511299973284, 37.25726812023862], [-121.851130315029, 37.25726979602391], [-121.8511309128948, 37.25727139344261], [-121.85113177353276, 37.25727286602277], [-121.85119607033148, 37.25736402591186], [-121.85119718615461, 37.257365348232824], [-121.85119851320644, 37.25736645842533], [-121.8512996227595, 37.25743713126253], [-121.85129991956532, 37.25743737498498], [-121.85130017520456, 37.25743766159074], [-121.85138940143426, 37.2575548181322], [-121.85139066850199, 37.25755619328437], [-121.85139216943078, 37.25755730850496], [-121.85139385174055, 37.25755812480022], [-121.8515513166277, 37.25761705814999], [-121.85155238060565, 37.25761761035127], [-121.8519766133499, 37.25790742900738], [-121.85197738766698, 37.25790808267158], [-121.85209059862332, 37.25802532247968], [-121.85209202331112, 37.25802654431118], [-121.85209365121464, 37.258027478408415], [-121.85222343687877, 37.258086522952894], [-121.85222429541527, 37.25808702216145], [-121.85251309737932, 37.25829600567648], [-121.8525134283049, 37.25829629886779], [-121.8525131328325, 37.258296627758355], [-121.85216089310516, 37.25861842464306], [-121.8521595965266, 37.25861986315776], [-121.85215860153619, 37.258621524613325], [-121.85215794545044, 37.258623346697846], [-121.85214774264824, 37.25866353217255], [-121.8521474371669, 37.25866579121838], [-121.85214765124043, 37.25866806075124], [-121.85214837374424, 37.25867022283244], [-121.85216808374264, 37.258712446943505], [-121.85216915073455, 37.258714224601974], [-121.85217056136881, 37.25871574402699], [-121.85217225500871, 37.25871693990544], [-121.85230638335418, 37.25879213433108], [-121.85230828685962, 37.25879295515177], [-121.8523103187023, 37.25879336587674], [-121.85231239157227, 37.25879334885683], [-121.8523144163967, 37.25879290482338], [-121.85231630616722, 37.258792052856876], [-121.85231797967894, 37.25879082956698], [-121.85271146820244, 37.258435098603655], [-121.85271182791803, 37.25843483129998], [-121.85271221846635, 37.25843505111494], [-121.85284321011899, 37.2585263351181], [-121.8528458164362, 37.25852763450298], [-121.85293401987614, 37.25855650788482], [-121.85293561744804, 37.25855688893551], [-121.85293725584509, 37.25855700334995], [-121.853006658335, 37.25855613633138], [-121.853009078891, 37.25855580771502], [-121.85301134755663, 37.258554902046015], [-121.85317834846026, 37.25846317684141], [-121.85317877829803, 37.258462993543574], [-121.85317916691679, 37.258463253031685], [-121.8532073678618, 37.25848642948448], [-121.85320773102562, 37.25848680061173], [-121.85320779554239, 37.25848731584075], [-121.8532085020336, 37.25853081299841], [-121.85320845975825, 37.25853130964544], [-121.85320831854987, 37.25853178766826], [-121.85317809556499, 37.258605651101966], [-121.85317754624532, 37.258607470504806], [-121.85317735106285, 37.25860936097633], [-121.85317681970994, 37.2586782659311], [-121.8531769968707, 37.25868021858802], [-121.85317755163503, 37.25868209914419], [-121.8532047079552, 37.2587491044519], [-121.85320537390723, 37.25875044821285], [-121.85320623333028, 37.258751677268435], [-121.85325908104687, 37.25881632786004], [-121.85326109816275, 37.25881819778906], [-121.85461400856252, 37.2597629403606], [-121.8546144073809, 37.25976328817425], [-121.85461472272318, 37.259763713132664], [-121.85465017537116, 37.25982411135358], [-121.85465040945031, 37.259824648076105], [-121.85465050977676, 37.25982522496351], [-121.85465392195252, 37.259889970063234], [-121.85465385552642, 37.25989108422391], [-121.85462620217041, 37.26005050570952], [-121.85462606070911, 37.26005255148696], [-121.85462633953107, 37.26005458310575], [-121.8546628996636, 37.26020456351884], [-121.85466336203268, 37.260205987227515], [-121.85466403173979, 37.2602073259672], [-121.8547003054278, 37.260268009525646], [-121.8547011597001, 37.260269223849974], [-121.85470218435128, 37.26027029830551], [-121.8548148552083, 37.260372110926184], [-121.8548162608091, 37.26037317204579], [-121.85481783076553, 37.260373970121776], [-121.85497191720577, 37.260435894604186], [-121.85497429192874, 37.26043652374825], [-121.85650450217389, 37.26064567590956], [-121.85650594593506, 37.260645767629796], [-121.85692517055062, 37.26064201404933], [-121.85692644672321, 37.26064192075365], [-121.85719729670903, 37.260604580766014], [-121.85719830049769, 37.260604389682456], [-121.85747296186624, 37.26053740113825], [-121.85747345033421, 37.260537333266704], [-121.85747392607536, 37.260537463181606], [-121.85752904027431, 37.26055869678837], [-121.85752947422898, 37.26055891647028], [-121.85752970608883, 37.26055934404225], [-121.85756163611103, 37.26063571400256], [-121.8575624398309, 37.26063724770246], [-121.85756349607, 37.26063861976658], [-121.85756477316019, 37.260639789057684], [-121.8575662328117, 37.26064072051807], [-121.85764071964348, 37.260679622963714], [-121.85764245008592, 37.26068032964494], [-121.85764428181221, 37.26068070194612], [-121.85764615082498, 37.26068072685968], [-121.85771489115868, 37.26067519743207], [-121.85771672486047, 37.26067487608424], [-121.85771846722285, 37.26067422041661], [-121.85772005786029, 37.26067325315283], [-121.85776303152429, 37.260641286086475], [-121.85776430533942, 37.260640158125454], [-121.85776536949655, 37.2606388305447], [-121.85776619318936, 37.260637341776345], [-121.85779766899593, 37.26056689206455], [-121.85779832885314, 37.26056485132045], [-121.85779853836436, 37.260562716805744], [-121.85779828789201, 37.26056058670912], [-121.85779758895792, 37.26055855901606], [-121.85775927843456, 37.26047705247536], [-121.85775912643925, 37.26047663265204], [-121.85775921722261, 37.2604761954878], [-121.8577724733751, 37.260432847101505], [-121.85777265492297, 37.260432411044796], [-121.85777304744884, 37.26043214831199], [-121.85811433018054, 37.26024918550559], [-121.8581147165124, 37.26024902312596], [-121.85811482940153, 37.2602494267043], [-121.85816724715924, 37.260539907199046], [-121.85816730472335, 37.260540327663875], [-121.85835077913887, 37.262495019827234], [-121.85835079262725, 37.26249519750945], [-121.85842155693578, 37.263715044641394], [-121.85842156329285, 37.263715191577795], [-121.85846041780147, 37.26507676941293], [-121.85846047135867, 37.26507755617554], [-121.85851570925725, 37.26558986077303], [-121.85851571273525, 37.265590315769025]]]]}\", \"centroid\": [-121.85173107097286, 37.26162122320782], \"page_url\": \"https://nextdoor.com/neighborhood/10vistapark--san-jose--ca\", \"short_name\": \"Vista  Park\", \"stroke_color\": \"#67C2A5\", \"fill_color\": \"#67C2A5\", \"stroke_weight\": 1, \"fill_opacity\": 0.35}, {\"type\": \"MULTIPOLYGON\", \"name\": \"Nextdoor Eden Hill\", \"info\": \"\", \"id\": 169870, \"geometry\": \"{\\\"type\\\": \\\"MultiPolygon\\\", \\\"coordinates\\\": [[[[-121.81364692411847, 37.269661398391094], [-121.81362708711015, 37.27298687217585], [-121.8107117458552, 37.27297234024629], [-121.81068152995243, 37.27164558242695], [-121.80975507306346, 37.27154376907664], [-121.80961182120683, 37.270946764803476], [-121.81136379634495, 37.27067483345809], [-121.81133795955748, 37.269695534031555], [-121.81147320241234, 37.26967846621313], [-121.81364692411847, 37.269661398391094]]]]}\", \"centroid\": [-121.81210168890888, 37.27139405609792], \"page_url\": \"https://nextdoor.com/neighborhood/edenhill--san-jose--ca\", \"short_name\": \"Eden Hill\", \"stroke_color\": \"#67C2A5\", \"fill_color\": \"#67C2A5\", \"stroke_weight\": 1, \"fill_opacity\": 0.35}, {\"type\": \"MULTIPOLYGON\", \"name\": \"Nextdoor Playa Del Rey\", \"info\": \"\", \"id\": 35469, \"geometry\": \"{\\\"type\\\": \\\"MultiPolygon\\\", \\\"coordinates\\\": [[[[-121.85891236721955, 37.25033001567477], [-121.85295669926325, 37.2503281235563], [-121.84889963336792, 37.25055662046267], [-121.84179557803168, 37.25058015433331], [-121.83867149417705, 37.25065418202774], [-121.83694215901, 37.25076237001149], [-121.8424527956218, 37.253455323384166], [-121.84403235550087, 37.25421621467454], [-121.84501110056067, 37.25463551307222], [-121.84590401493199, 37.25489682633306], [-121.8467969293032, 37.25508982193402], [-121.84764692833028, 37.25524011914755], [-121.84841109666883, 37.25527086207059], [-121.85890180848969, 37.255482646796935], [-121.85891236721955, 37.25033001567477], [-121.85891236721955, 37.25033001567477]]]]}\", \"centroid\": [-121.85017893726186, 37.25268422886372], \"page_url\": \"https://nextdoor.com/neighborhood/10playadelreysanjose--san-jose--ca\", \"short_name\": \"Playa Del Rey\", \"stroke_color\": \"#67C2A5\", \"fill_color\": \"#67C2A5\", \"stroke_weight\": 1, \"fill_opacity\": 0.35}, {\"type\": \"MULTIPOLYGON\", \"name\": \"Nextdoor Carson\", \"info\": \"\", \"id\": 1740, \"geometry\": \"{\\\"type\\\": \\\"MultiPolygon\\\", \\\"coordinates\\\": [[[[-121.86314216615165, 37.27461073664113], [-121.86188527989805, 37.27447944592068], [-121.86110046243107, 37.274442073042565], [-121.86035543212898, 37.27443043561924], [-121.85927496610032, 37.274437535435375], [-121.85465398417193, 37.2745470840692], [-121.84982952449866, 37.274594217498866], [-121.84979293972526, 37.27242727288935], [-121.84971694693803, 37.272134673030315], [-121.849611286955, 37.271875523869525], [-121.84656916581679, 37.26590334653383], [-121.84731367750061, 37.26587099856733], [-121.84799844413646, 37.265837228775666], [-121.84853291681839, 37.26581091680343], [-121.84958237363128, 37.265613837851944], [-121.85035287388632, 37.265521253353214], [-121.85146669689527, 37.26552259241172], [-121.8536351199715, 37.26582316760373], [-121.85447316737645, 37.26593589829198], [-121.8551706795298, 37.26598239360709], [-121.85580701993968, 37.26597330187408], [-121.85906160517379, 37.26596210278129], [-121.85948145859686, 37.26758662567601], [-121.85976733198663, 37.268321041818744], [-121.86010688624305, 37.26898407439269], [-121.86045361390961, 37.26948834692667], [-121.8609037648622, 37.270042643664176], [-121.86137187690281, 37.270683684636914], [-121.86189364808985, 37.27143502172705], [-121.86227642254335, 37.272054760664666], [-121.86256367691601, 37.27259135828711], [-121.86280858014084, 37.27330355819361], [-121.86297301597625, 37.27389234217862], [-121.86313745181178, 37.27460065064306], [-121.86314216615165, 37.27461073664113], [-121.86314216615165, 37.27461073664113]]]]}\", \"centroid\": [-121.85478123854439, 37.270223451892285], \"page_url\": \"https://nextdoor.com/neighborhood/10carsonsj--san-jose--ca\", \"short_name\": \"Carson\", \"stroke_color\": \"#67C2A5\", \"fill_color\": \"#67C2A5\", \"stroke_weight\": 1, \"fill_opacity\": 0.35}, {\"type\": \"MULTIPOLYGON\", \"name\": \"Nextdoor Blossom Hill Homes\", \"info\": \"\", \"id\": 170220, \"geometry\": \"{\\\"type\\\": \\\"MultiPolygon\\\", \\\"coordinates\\\": [[[[-121.84278227477262, 37.254974003832274], [-121.83996227134372, 37.25500861488878], [-121.83997537408851, 37.25405862058821], [-121.83578174179507, 37.25410417152173], [-121.83575006156235, 37.25098132701665], [-121.83694901367448, 37.25076956253645], [-121.84245131069872, 37.25344219984745], [-121.84278227477262, 37.254974003832274], [-121.84278227477262, 37.254974003832274], [-121.84278227477262, 37.254974003832274]]]]}\", \"centroid\": [-121.83880732849286, 37.25307128678868], \"page_url\": \"https://nextdoor.com/neighborhood/10blossomhillhomes--san-jose--ca\", \"short_name\": \"Blossom Hill Homes\", \"stroke_color\": \"#67C2A5\", \"fill_color\": \"#67C2A5\", \"stroke_weight\": 1, \"fill_opacity\": 0.35}, {\"type\": \"MULTIPOLYGON\", \"name\": \"Nextdoor Ellmar Oaks\", \"info\": \"\", \"id\": 257800, \"geometry\": \"{\\\"type\\\": \\\"MultiPolygon\\\", \\\"coordinates\\\": [[[[-121.849626, 37.272495], [-121.849626, 37.272496], [-121.84978899999999, 37.272446], [-121.849828, 37.274591], [-121.84696600000001, 37.274644], [-121.84609, 37.274749], [-121.84527200000002, 37.274967], [-121.84492399999999, 37.27444], [-121.84442100000001, 37.273935], [-121.84465399999999, 37.273769], [-121.84465499999999, 37.273769], [-121.84531400000003, 37.273496], [-121.84531400000003, 37.273496], [-121.84531500000003, 37.273496], [-121.84603199999998, 37.273493], [-121.84648099999998, 37.273448], [-121.84732600000001, 37.273239], [-121.84732600000001, 37.273239], [-121.849626, 37.272495], [-121.849626, 37.272495], [-121.849626, 37.272495], [-121.849626, 37.272495], [-121.849626, 37.272495]]]]}\", \"centroid\": [-121.84753996609894, 37.27387654110272], \"page_url\": \"https://nextdoor.com/neighborhood/ellmaroaks--san-jose--ca\", \"short_name\": \"Ellmar Oaks\", \"stroke_color\": \"#67C2A5\", \"fill_color\": \"#67C2A5\", \"stroke_weight\": 1, \"fill_opacity\": 0.35}, {\"type\": \"MULTIPOLYGON\", \"name\": \"Nextdoor Bella Villagio\", \"info\": \"\", \"id\": 179040, \"geometry\": \"{\\\"type\\\": \\\"MultiPolygon\\\", \\\"coordinates\\\": [[[[-121.84387937936151, 37.27569507950239], [-121.84440003209164, 37.27533468239675], [-121.84526400757568, 37.27497428356594], [-121.84609073631492, 37.274748649764106], [-121.84695025992488, 37.27463887616797], [-121.84982802143918, 37.27459007643061], [-121.84989875768633, 37.275090573604636], [-121.85003068533445, 37.27543473120655], [-121.85025758169951, 37.2757434056419], [-121.85063925078344, 37.276059949746944], [-121.8510875773909, 37.2762779816936], [-121.85087237109536, 37.27650734006765], [-121.84750462126112, 37.276092673664294], [-121.84387937936151, 37.27569507950239], [-121.84387937936151, 37.27569507950239]]]]}\", \"centroid\": [-121.84775876582309, 37.275462331769106], \"page_url\": \"https://nextdoor.com/neighborhood/bellavillagio--san-jose--ca\", \"short_name\": \"Bella Villagio\", \"stroke_color\": \"#67C2A5\", \"fill_color\": \"#67C2A5\", \"stroke_weight\": 1, \"fill_opacity\": 0.35}, {\"type\": \"MULTIPOLYGON\", \"name\": \"Nextdoor Blossom Village\", \"info\": \"\", \"id\": 155750, \"geometry\": \"{\\\"type\\\": \\\"MultiPolygon\\\", \\\"coordinates\\\": [[[[-121.83413810188654, 37.25401763215795], [-121.83411907692044, 37.25311610929816], [-121.8351407490523, 37.253115532242745], [-121.83514909451105, 37.25400615500221], [-121.83413810188654, 37.25401763215795]]]]}\", \"centroid\": [-121.83463570765691, 37.2535630909681], \"page_url\": \"https://nextdoor.com/neighborhood/10blossomvillage--san-jose--ca\", \"short_name\": \"Blossom Village\", \"stroke_color\": \"#67C2A5\", \"fill_color\": \"#67C2A5\", \"stroke_weight\": 1, \"fill_opacity\": 0.35}, {\"type\": \"MULTIPOLYGON\", \"name\": \"Nextdoor San  Ramon\", \"info\": \"\", \"id\": 169869, \"geometry\": \"{\\\"type\\\": \\\"MultiPolygon\\\", \\\"coordinates\\\": [[[[-121.82460686490413, 37.27811530245245], [-121.82329109039637, 37.27812509096151], [-121.82326277621564, 37.27753728814342], [-121.82251843040933, 37.277282622760936], [-121.82218178037317, 37.277079179163266], [-121.82213075279242, 37.2729926883377], [-121.82474531432297, 37.273970318464265], [-121.82719465885498, 37.27464081931172], [-121.82794390081443, 37.27458185172144], [-121.82975574689283, 37.27301189681796], [-121.82992204255544, 37.2731272842364], [-121.8304145246035, 37.27345687719502], [-121.83176531353627, 37.27460606215782], [-121.83519471922273, 37.27795608234067], [-121.83469918687388, 37.27810002001433], [-121.82460686490413, 37.27811530245245], [-121.82460686490413, 37.27811530245245]]]]}\", \"centroid\": [-121.82779111834789, 37.27607120521887], \"page_url\": \"https://nextdoor.com/neighborhood/2sanramon--san-jose--ca\", \"short_name\": \"San  Ramon\", \"stroke_color\": \"#67C2A5\", \"fill_color\": \"#67C2A5\", \"stroke_weight\": 1, \"fill_opacity\": 0.35}, {\"type\": \"MULTIPOLYGON\", \"name\": \"Nextdoor Rancho\", \"info\": \"\", \"id\": 169868, \"geometry\": \"{\\\"type\\\": \\\"MultiPolygon\\\", \\\"coordinates\\\": [[[[-121.83400926554617, 37.28427314126671], [-121.83399160222893, 37.28366444886438], [-121.83414963730183, 37.28271591451669], [-121.83445332410656, 37.28215491837067], [-121.83490501548295, 37.281295970783304], [-121.83564638543294, 37.28101750838301], [-121.8372385742174, 37.279963405946], [-121.83991101733238, 37.28254121603021], [-121.83589584732033, 37.284260012231925], [-121.83400926554617, 37.28427314126671], [-121.83400926554617, 37.28427314126671], [-121.83400926554617, 37.28427314126671]]]]}\", \"centroid\": [-121.83659221963752, 37.28237188228939], \"page_url\": \"https://nextdoor.com/neighborhood/7ranchosanjose--san-jose--ca\", \"short_name\": \"Rancho\", \"stroke_color\": \"#67C2A5\", \"fill_color\": \"#67C2A5\", \"stroke_weight\": 1, \"fill_opacity\": 0.35}, {\"type\": \"MULTIPOLYGON\", \"name\": \"Nextdoor River View Skyway\", \"info\": \"\", \"id\": 234689, \"geometry\": \"{\\\"type\\\": \\\"MultiPolygon\\\", \\\"coordinates\\\": [[[[-121.8221687083037, 37.277060591173864], [-121.8221683366811, 37.27706476938372], [-121.82216467651017, 37.27706272031324], [-121.82131956875116, 37.27647404998017], [-121.82031352845132, 37.27644883078688], [-121.82030911988318, 37.2764483172023], [-121.82030487395707, 37.27644702439393], [-121.81988639486337, 37.27630673599994], [-121.81936062740897, 37.27606400077543], [-121.81934352079554, 37.27605878729342], [-121.81932575911719, 37.27605670417187], [-121.81696227601947, 37.275988671137554], [-121.81694840801879, 37.27635603582799], [-121.81694753380566, 37.27636021559519], [-121.81694327565083, 37.276360536249555], [-121.81422828809235, 37.27630170688398], [-121.81436825040453, 37.2767913785766], [-121.81397404788686, 37.27687157007556], [-121.81357984536919, 37.277011521300274], [-121.81330102118841, 37.2765486182489], [-121.8132855729175, 37.27623861576188], [-121.81261059557232, 37.276200921005234], [-121.81219264062935, 37.27632720599097], [-121.81134553224388, 37.2766669198562], [-121.8113203624003, 37.27668062666917], [-121.81085180700222, 37.27703128317058], [-121.81084714885685, 37.27703401892426], [-121.8107773933906, 37.2770857018918], [-121.81053368762315, 37.27705554932702], [-121.81001103211827, 37.27706808229264], [-121.80972746846862, 37.27710168532031], [-121.80902086630056, 37.27733963302932], [-121.80899559180165, 37.275729813372195], [-121.80899595362075, 37.27572535684342], [-121.80900039037743, 37.275724802990524], [-121.8089419535861, 37.27294609249894], [-121.81243743361239, 37.27299097371896], [-121.81243732938003, 37.272986709986725], [-121.81244157576697, 37.27298631189771], [-121.82211940879569, 37.27299004463313], [-121.82212385595352, 37.27299048120109], [-121.82212433931147, 37.27299492351699], [-121.8221687083037, 37.277060591173864], [-121.8221687083037, 37.277060591173864]]]]}\", \"centroid\": [-121.81533967150412, 37.27475184732709], \"page_url\": \"https://nextdoor.com/neighborhood/riverviewskyway--san-jose--ca\", \"short_name\": \"River View Skyway\", \"stroke_color\": \"#67C2A5\", \"fill_color\": \"#67C2A5\", \"stroke_weight\": 1, \"fill_opacity\": 0.35}, {\"type\": \"MULTIPOLYGON\", \"name\": \"Nextdoor The Woods\", \"info\": \"\", \"id\": 257380, \"geometry\": \"{\\\"type\\\": \\\"MultiPolygon\\\", \\\"coordinates\\\": [[[[-121.84196844863874, 37.27698961714544], [-121.83726508712277, 37.279979574524575], [-121.83186813936402, 37.27468123748597], [-121.83038721676706, 37.27343795766438], [-121.83700424676078, 37.273413010695094], [-121.83753802670867, 37.273174625330384], [-121.83794367411195, 37.27364304709147], [-121.83839223685953, 37.27397486675258], [-121.83914120701684, 37.27426399784286], [-121.83965414278077, 37.27458727738021], [-121.84009656042758, 37.275026652730986], [-121.84196844863874, 37.27698961714544], [-121.84196844863874, 37.27698961714544]]]]}\", \"centroid\": [-121.8367183729801, 37.276033854252645], \"page_url\": \"https://nextdoor.com/neighborhood/thewoodsca--san-jose--ca\", \"short_name\": \"The Woods\", \"stroke_color\": \"#67C2A5\", \"fill_color\": \"#67C2A5\", \"stroke_weight\": 1, \"fill_opacity\": 0.35}, {\"type\": \"MULTIPOLYGON\", \"name\": \"Nextdoor Havens-Monterey-Edenvale\", \"info\": \"\", \"id\": 169867, \"geometry\": \"{\\\"type\\\": \\\"MultiPolygon\\\", \\\"coordinates\\\": [[[[-121.82672285217467, 37.27451139803789], [-121.82524686536487, 37.27410062974259], [-121.82524228449728, 37.27409885768063], [-121.82524048708001, 37.274094286702386], [-121.82470053083875, 37.27396036619833], [-121.82216501109042, 37.2730068435217], [-121.82207215152539, 37.272995125881295], [-121.81817635902996, 37.272963918137904], [-121.81363683637096, 37.27298393581455], [-121.8136323020974, 37.27298347775662], [-121.8136319809472, 37.27297893173458], [-121.81365329496248, 37.26919586192734], [-121.8152453035986, 37.26916844975757], [-121.8152714689819, 37.26625681923488], [-121.81383381375122, 37.26623534649336], [-121.81385238171845, 37.26245402785914], [-121.82201120656532, 37.267457894107906], [-121.82976233564199, 37.273016697386424], [-121.82796364417078, 37.27458364511259], [-121.82721450214001, 37.2746328954544], [-121.82672285217467, 37.27451139803789]]]]}\", \"centroid\": [-121.81998311213086, 37.26982761251733], \"page_url\": \"https://nextdoor.com/neighborhood/havensmontereyedenvale--san-jose--ca\", \"short_name\": \"Havens-Monterey-Edenvale\", \"stroke_color\": \"#67C2A5\", \"fill_color\": \"#67C2A5\", \"stroke_weight\": 1, \"fill_opacity\": 0.35}, {\"type\": \"MULTIPOLYGON\", \"name\": \"Nextdoor Park Place\", \"info\": \"\", \"id\": 170042, \"geometry\": \"{\\\"type\\\": \\\"MultiPolygon\\\", \\\"coordinates\\\": [[[[-121.83165928559964, 37.26801537939611], [-121.8316591278857, 37.26801581677803], [-121.83150089788398, 37.26834787322138], [-121.8315001580209, 37.26835003035562], [-121.83149992612005, 37.26835229902208], [-121.831519022566, 37.269891296052194], [-121.8315192403872, 37.26989325140972], [-121.83151983683388, 37.269895126275166], [-121.83152078881847, 37.26989684807495], [-121.83169900320286, 37.270134131526156], [-121.83133294677941, 37.27034139463027], [-121.82895984599168, 37.27246115712966], [-121.8246832839339, 37.26938333683985], [-121.82466440329677, 37.26617061979949], [-121.8253405412404, 37.26604584811916], [-121.8311231513909, 37.26600077898902], [-121.83115504526569, 37.266683445383364], [-121.83124609405547, 37.26704185274775], [-121.8314096356471, 37.26734059081326], [-121.83163088131164, 37.26766072305232], [-121.83183806366844, 37.26790617016012], [-121.83165900792716, 37.268015006469064], [-121.83165928559964, 37.26801537939611], [-121.83165928559964, 37.26801537939611], [-121.83165928559964, 37.26801537939611]]]]}\", \"centroid\": [-121.82824331341612, 37.2686428372683], \"page_url\": \"https://nextdoor.com/neighborhood/10parkplace--san-jose--ca\", \"short_name\": \"Park Place\", \"stroke_color\": \"#67C2A5\", \"fill_color\": \"#67C2A5\", \"stroke_weight\": 1, \"fill_opacity\": 0.35}, {\"type\": \"MULTIPOLYGON\", \"name\": \"Nextdoor Hayes\", \"info\": \"\", \"id\": 170018, \"geometry\": \"{\\\"type\\\": \\\"MultiPolygon\\\", \\\"coordinates\\\": [[[[-121.82537500000001, 37.266041], [-121.82471299999997, 37.26613], [-121.82469800000001, 37.262985], [-121.824637, 37.262983], [-121.82461899999998, 37.262657], [-121.82374400000003, 37.262598], [-121.823712, 37.261688], [-121.821778, 37.261693], [-121.82095800000002, 37.261457], [-121.82074, 37.261431], [-121.82046500000001, 37.261425], [-121.81997000000001, 37.261535], [-121.81957899999998, 37.261666], [-121.81942400000003, 37.26168], [-121.819432, 37.258885], [-121.83095600000001, 37.258765], [-121.83107060185245, 37.2606413480703], [-121.83103499999999, 37.264584], [-121.83111100000002, 37.265994], [-121.82537500000001, 37.266041], [-121.82537500000001, 37.266041]]]]}\", \"centroid\": [-121.82644906103155, 37.26189606709322], \"page_url\": \"https://nextdoor.com/neighborhood/2hayes--san-jose--ca\", \"short_name\": \"Hayes\", \"stroke_color\": \"#67C2A5\", \"fill_color\": \"#67C2A5\", \"stroke_weight\": 1, \"fill_opacity\": 0.35}, {\"type\": \"MULTIPOLYGON\", \"name\": \"Nextdoor Capitol Village - Baroni\", \"info\": \"\", \"id\": 223440, \"geometry\": \"{\\\"type\\\": \\\"MultiPolygon\\\", \\\"coordinates\\\": [[[[-121.83966666788069, 37.27460532490846], [-121.8391531890432, 37.27428546040314], [-121.83841174471746, 37.27397987214029], [-121.83796592070212, 37.273664865370414], [-121.83774540224397, 37.273418157473486], [-121.84295459074093, 37.273386760831634], [-121.84358266016642, 37.27382772246036], [-121.84406465305824, 37.27419036552828], [-121.844437169235, 37.27393003739412], [-121.84492233763768, 37.274437099031644], [-121.8452680311716, 37.27497403796228], [-121.84441209506684, 37.275323152610646], [-121.84196829122527, 37.277004067097316], [-121.84082820838898, 37.275796168307565], [-121.83966666788069, 37.27460532490846], [-121.83966666788069, 37.27460532490846], [-121.83966666788069, 37.27460532490846]]]]}\", \"centroid\": [-121.84188208644096, 37.27472624279541], \"page_url\": \"https://nextdoor.com/neighborhood/capitolvillagebaroni--san-jose--ca\", \"short_name\": \"Capitol Village - Baroni\", \"stroke_color\": \"#67C2A5\", \"fill_color\": \"#67C2A5\", \"stroke_weight\": 1, \"fill_opacity\": 0.35}, {\"type\": \"MULTIPOLYGON\", \"name\": \"Nextdoor Frontier Village\", \"info\": \"\", \"id\": 176961, \"geometry\": \"{\\\"type\\\": \\\"MultiPolygon\\\", \\\"coordinates\\\": [[[[-121.8247250233552, 37.26611237329981], [-121.82467886112295, 37.2661616995813], [-121.8246830961831, 37.26938531658402], [-121.82374499253763, 37.26869418738375], [-121.82199149735169, 37.26744807108217], [-121.81935354270058, 37.265826696492375], [-121.81942887177968, 37.26166389484042], [-121.81957239836538, 37.26165586141937], [-121.81999487468852, 37.2615282839382], [-121.82047504690877, 37.26142682831831], [-121.82094449029313, 37.26145772525838], [-121.82177086002605, 37.26169955539019], [-121.82371595121964, 37.26170607315902], [-121.82375253498935, 37.26259704050595], [-121.82460987471768, 37.26264693598788], [-121.82463991785482, 37.26299513389762], [-121.82470214750003, 37.26299751357733], [-121.8247250233552, 37.26611237329981], [-121.8247250233552, 37.26611237329981]]]]}\", \"centroid\": [-121.82223200749688, 37.26475017410156], \"page_url\": \"https://nextdoor.com/neighborhood/frontiervillage--san-jose--ca\", \"short_name\": \"Frontier Village\", \"stroke_color\": \"#67C2A5\", \"fill_color\": \"#67C2A5\", \"stroke_weight\": 1, \"fill_opacity\": 0.35}, {\"type\": \"MULTIPOLYGON\", \"name\": \"Nextdoor Parkview\", \"info\": \"\", \"id\": 170041, \"geometry\": \"{\\\"type\\\": \\\"MultiPolygon\\\", \\\"coordinates\\\": [[[[-121.84733042075891, 37.27323730912491], [-121.84732616808958, 37.27323825271329], [-121.84732420444891, 37.27323436431117], [-121.8464685780225, 37.27344502914228], [-121.84602333045063, 37.273490598778075], [-121.84530449755937, 37.273493480841466], [-121.84465003680907, 37.27378098229641], [-121.8440733601202, 37.274179469372754], [-121.84406925710778, 37.27418127569801], [-121.84406539175995, 37.274179004881496], [-121.84298624298049, 37.27339918360302], [-121.84296801623645, 37.27338873529427], [-121.84294800879081, 37.27338232565509], [-121.84292710373501, 37.273380237595006], [-121.83797756954266, 37.27340838448702], [-121.83797295335103, 37.273407962156405], [-121.83796995227772, 37.27340442928968], [-121.83774095351902, 37.273430038922605], [-121.83757632777667, 37.27316537245267], [-121.83556634223214, 37.270245471266705], [-121.83517641093255, 37.26970757999306], [-121.83562733416579, 37.26947978102128], [-121.83609971507116, 37.2685860150065], [-121.83604878426223, 37.26602740296853], [-121.84657296082037, 37.26590509870344], [-121.84973281307975, 37.2721215743719], [-121.84978111801848, 37.272265480572955], [-121.84980260086718, 37.27244780584407], [-121.84733042075891, 37.27323730912491], [-121.84733042075891, 37.27323730912491], [-121.84733042075891, 37.27323730912491]]]]}\", \"centroid\": [-121.84229644489677, 37.269789156611104], \"page_url\": \"https://nextdoor.com/neighborhood/10parkview--san-jose--ca\", \"short_name\": \"Parkview\", \"stroke_color\": \"#67C2A5\", \"fill_color\": \"#67C2A5\", \"stroke_weight\": 1, \"fill_opacity\": 0.35}, {\"type\": \"MULTIPOLYGON\", \"name\": \"Nextdoor Colony  Green\", \"info\": \"\", \"id\": 170221, \"geometry\": \"{\\\"type\\\": \\\"MultiPolygon\\\", \\\"coordinates\\\": [[[[-121.84296843665373, 37.25901123574521], [-121.84031487434032, 37.259015986016465], [-121.8402988671279, 37.25828534029487], [-121.84045534482834, 37.25774533117827], [-121.84043470595458, 37.25594295965149], [-121.8405748695236, 37.25536042105384], [-121.8405849407244, 37.255000716271816], [-121.84278227477262, 37.254974003832274], [-121.84325974530651, 37.257106653628135], [-121.84354562789844, 37.25755150430286], [-121.84296061046746, 37.25868357844244], [-121.84296843665373, 37.25901123574521], [-121.84296843665373, 37.25901123574521]]]]}\", \"centroid\": [-121.84178516581903, 37.257072011784565], \"page_url\": \"https://nextdoor.com/neighborhood/10colonygreen--san-jose--ca\", \"short_name\": \"Colony  Green\", \"stroke_color\": \"#67C2A5\", \"fill_color\": \"#67C2A5\", \"stroke_weight\": 1, \"fill_opacity\": 0.35}, {\"type\": \"MULTIPOLYGON\", \"name\": \"Nextdoor Del Robles\", \"info\": \"\", \"id\": 170222, \"geometry\": \"{\\\"type\\\": \\\"MultiPolygon\\\", \\\"coordinates\\\": [[[[-121.84031487434032, 37.259015986016465], [-121.8326404809477, 37.25901031101274], [-121.83181479832024, 37.2587509767178], [-121.83094112468126, 37.25874303961868], [-121.83082572156428, 37.251273755778136], [-121.83349173944845, 37.251266317178285], [-121.83464235817746, 37.25116865746883], [-121.83575410934492, 37.25099172673684], [-121.83575006156235, 37.251241798511096], [-121.83576871045665, 37.253093207163076], [-121.83514171245724, 37.25311998885189], [-121.83412311194161, 37.253121151071916], [-121.8341371618967, 37.25401685423951], [-121.83515269746385, 37.2540078281574], [-121.83514548111657, 37.253123718695726], [-121.83576858388773, 37.2530978560447], [-121.83578174179507, 37.25410417152173], [-121.83997537408851, 37.25405862058821], [-121.83996227134372, 37.25500861488878], [-121.8405849407244, 37.255000716271816], [-121.8405748695236, 37.25536042105384], [-121.84043470595458, 37.25594295965149], [-121.84045534482834, 37.25774533117827], [-121.8402988671279, 37.25828534029487], [-121.84031487434032, 37.259015986016465], [-121.84031487434032, 37.259015986016465], [-121.84031487434032, 37.259015986016465], [-121.84031487434032, 37.259015986016465]]]]}\", \"centroid\": [-121.83512477709799, 37.25565975827236], \"page_url\": \"https://nextdoor.com/neighborhood/10delrobles--san-jose--ca\", \"short_name\": \"Del Robles\", \"stroke_color\": \"#67C2A5\", \"fill_color\": \"#67C2A5\", \"stroke_weight\": 1, \"fill_opacity\": 0.35}, {\"type\": \"MULTIPOLYGON\", \"name\": \"Nextdoor Berry Park\", \"info\": \"\", \"id\": 182946, \"geometry\": \"{\\\"type\\\": \\\"MultiPolygon\\\", \\\"coordinates\\\": [[[[-121.83699970441677, 37.27342245329562], [-121.83038285666015, 37.27344147165533], [-121.82896005955195, 37.27246012434002], [-121.83124295873398, 37.27041192773851], [-121.83170601776925, 37.27011396438045], [-121.83153071105897, 37.269909916997925], [-121.83149879572295, 37.26833972957125], [-121.83167585541446, 37.26800897836], [-121.83185291510603, 37.267908755956775], [-121.83218551749803, 37.2682049474521], [-121.83260395057846, 37.268475523545504], [-121.83316722294569, 37.26870767743262], [-121.83383778367352, 37.268914216516414], [-121.83383795315603, 37.26891258565532], [-121.83431401199527, 37.269076294775545], [-121.83472569781821, 37.269325383429425], [-121.8350193664445, 37.26954885738726], [-121.8352915773986, 37.26984063411841], [-121.83758372298132, 37.27315543556455], [-121.83699970441677, 37.27342245329562], [-121.83699970441677, 37.27342245329562], [-121.83699970441677, 37.27342245329562]]]]}\", \"centroid\": [-121.8332721182949, 37.27145124812787], \"page_url\": \"https://nextdoor.com/neighborhood/10berrypark2--san-jose--ca\", \"short_name\": \"Berry Park\", \"stroke_color\": \"#67C2A5\", \"fill_color\": \"#67C2A5\", \"stroke_weight\": 1, \"fill_opacity\": 0.35}, {\"type\": \"MULTIPOLYGON\", \"name\": \"Nextdoor Oak Grove\", \"info\": \"\", \"id\": 170016, \"geometry\": \"{\\\"type\\\": \\\"MultiPolygon\\\", \\\"coordinates\\\": [[[[-121.83097065459589, 37.258750608587555], [-121.81938373741264, 37.25888918280493], [-121.81281791550532, 37.258882591049556], [-121.8122368225919, 37.258943198582145], [-121.81174156036701, 37.259106275848715], [-121.81144067850931, 37.259215374472475], [-121.8110498840984, 37.25939798157055], [-121.810723462704, 37.25964036182506], [-121.81014309405072, 37.26025932729414], [-121.8025146814723, 37.2557487687562], [-121.80761652315232, 37.25188547620086], [-121.80842930251725, 37.25152169469035], [-121.8091347935216, 37.25131163205396], [-121.8098080980177, 37.25123820951014], [-121.81033584014972, 37.25126682405036], [-121.81168970265838, 37.25146623894921], [-121.8127130004143, 37.25150638783897], [-121.82833896854004, 37.2513940422519], [-121.82918893800019, 37.25131224932116], [-121.83085429900086, 37.251298776554805], [-121.83086956145411, 37.254768596111944], [-121.83097065459589, 37.258750608587555], [-121.83097065459589, 37.258750608587555], [-121.83097065459589, 37.258750608587555], [-121.83097065459589, 37.258750608587555], [-121.83097065459589, 37.258750608587555]]]]}\", \"centroid\": [-121.81790595736643, 37.25523352398664], \"page_url\": \"https://nextdoor.com/neighborhood/2oakgrovesanjose--san-jose--ca\", \"short_name\": \"Oak Grove\", \"stroke_color\": \"#67C2A5\", \"fill_color\": \"#67C2A5\", \"stroke_weight\": 1, \"fill_opacity\": 0.35}, {\"type\": \"MULTIPOLYGON\", \"name\": \"Nextdoor Seven Trees\", \"info\": \"\", \"id\": 169964, \"geometry\": \"{\\\"type\\\": \\\"MultiPolygon\\\", \\\"coordinates\\\": [[[[-121.82726086128412, 37.28713246473534], [-121.82374692452555, 37.28312352386413], [-121.8234520605368, 37.28255446314101], [-121.82328818979602, 37.27811529147252], [-121.83216047936014, 37.27805145419698], [-121.83470827234822, 37.27810206923897], [-121.83519612881287, 37.27794779637539], [-121.83726174921486, 37.27997302069957], [-121.83495083000048, 37.28166408943609], [-121.83445336935029, 37.28239835238626], [-121.83420267192946, 37.283098462492404], [-121.83410897285808, 37.28383283168717], [-121.83411469376438, 37.28478937650506], [-121.83222943908794, 37.284377257425525], [-121.82726086128412, 37.28713246473534], [-121.82726086128412, 37.28713246473534]]]]}\", \"centroid\": [-121.82938496050137, 37.28157164493533], \"page_url\": \"https://nextdoor.com/neighborhood/7seventrees--san-jose--ca\", \"short_name\": \"Seven Trees\", \"stroke_color\": \"#67C2A5\", \"fill_color\": \"#67C2A5\", \"stroke_weight\": 1, \"fill_opacity\": 0.35}, {\"type\": \"MULTIPOLYGON\", \"name\": \"Nextdoor Avana Skyway\", \"info\": \"\", \"id\": 322348, \"geometry\": \"{\\\"type\\\": \\\"MultiPolygon\\\", \\\"coordinates\\\": [[[[-121.8360515683695, 37.26602677202032], [-121.83610459616466, 37.268594418464495], [-121.83564294802147, 37.269459849542486], [-121.83517055787303, 37.26970890275868], [-121.8350307616426, 37.26954813424238], [-121.83474044034551, 37.26933759003701], [-121.83429927262011, 37.26907872226406], [-121.8331883202012, 37.268711473979835], [-121.83260308074921, 37.26847229522604], [-121.83218950267411, 37.268207501384175], [-121.8318325099317, 37.26790007233028], [-121.83162719147037, 37.26766951382514], [-121.83143906919531, 37.267377073816505], [-121.83124021808413, 37.26704194146938], [-121.83115365210756, 37.2666619745875], [-121.83111072948645, 37.26599701818959], [-121.83099270501282, 37.263684119568765], [-121.83831246442287, 37.26350892516025], [-121.83830308219552, 37.265999957023055], [-121.8360515683695, 37.26602677202032]]]]}\", \"centroid\": [-121.83438410511644, 37.2659425090514], \"page_url\": null, \"short_name\": \"Avana Skyway\", \"stroke_color\": \"#00b246\", \"fill_color\": \"#00b246\", \"stroke_weight\": 1, \"fill_opacity\": 0.45}],\n",
      "            hoodId: 322348\n",
      "          },\n",
      "          realestateUrl: \"https://realestate.nextdoor.com\",\n",
      "          shortName: \"Avana Skyway\",\n",
      "          snippets: [{\"subject\": \"Water Bill\", \"commentCount\": \"0\", \"postId\": \"100452153\", \"category\": \"General\"}, {\"subject\": \"Fantasy of Lights\", \"commentCount\": \"0\", \"postId\": \"97754465\", \"category\": \"General\"}],\n",
      "          stateName: \"California\",\n",
      "          stateAbbreviation: \"CA\"\n",
      "        }\n",
      "b\"{'type': 'MultiPolygon', 'coordinates': [[[[-121.8360515683695, 37.26602677202032], [-121.83610459616466, 37.268594418464495], [-121.83564294802147, 37.269459849542486], [-121.83517055787303, 37.26970890275868], [-121.8350307616426, 37.26954813424238], [-121.83474044034551, 37.26933759003701], [-121.83429927262011, 37.26907872226406], [-121.8331883202012, 37.268711473979835], [-121.83260308074921, 37.26847229522604], [-121.83218950267411, 37.268207501384175], [-121.8318325099317, 37.26790007233028], [-121.83162719147037, 37.26766951382514], [-121.83143906919531, 37.267377073816505], [-121.83124021808413, 37.26704194146938], [-121.83115365210756, 37.2666619745875], [-121.83111072948645, 37.26599701818959], [-121.83099270501282, 37.263684119568765], [-121.83831246442287, 37.26350892516025], [-121.83830308219552, 37.265999957023055], [-121.8360515683695, 37.26602677202032]]]]}\"\n",
      "Error parsing\n"
     ]
    }
   ],
   "source": [
    "#for index, row in df_nextdoor_neighborhoods.iterrows():\n",
    "#row = df_nextdoor_neighborhoods.iloc[10]\n",
    "#print(row)\n",
    "#neighborhood_lookup = row[\"Link\"]\n",
    "#print(neighborhood_lookup)\n",
    "#response = requests.get(neighborhood_lookup)\n",
    "#responseTxt = response.text.encode('UTF-8')\n",
    "#html_soup = BeautifulSoup(responseTxt, 'html.parser')\n",
    "     \n",
    "try:\n",
    "    scripts = html_soup.findAll('script')\n",
    "    neighborhood_info = scripts[5].string.strip()\n",
    "    neighborhood_info = neighborhood_info[neighborhood_info.index('['):-1]\n",
    "    print(neighborhood_info)\n",
    "\n",
    "    neighborhoodGeometries = neighborhood_info[neighborhood_info.index('neighborhoodGeometriesJSON: '): neighborhood_info.index('neighborhoodMapOptions:{')]\n",
    "    neighborhoodGeometries = neighborhoodGeometries.lstrip()\n",
    "    neighborhoodGeometries = neighborhoodGeometries.rstrip()\n",
    "    begIndex = len('neighborhoodGeometriesJSON: ')\n",
    "    neighborhoodGeometries = neighborhoodGeometries[begIndex: -1]\n",
    "    neighborhood_json = json.loads(neighborhoodGeometries)\n",
    "\n",
    "    feature = neighborhood_json[\"features\"][0]\n",
    "    geojson = str(feature[\"geometry\"]).encode('UTF-8')\n",
    "    print(geojson)\n",
    "    row[\"GeoJSON\"] = geometry  \n",
    "\n",
    "    props = feature[\"properties\"]\n",
    "    print(\"Name %s, id %s \\n\" % (props[\"hood_name\"], props[\"hood_id\"]))   \n",
    "\n",
    "    row[\"Hood Name\"] = props[\"hood_name\"].encode('UTF-8')\n",
    "    row[\"Hood ID\"] = props[\"hood_id\"]                                        \n",
    "\n",
    "    try:\n",
    "        begInterestIndex = neighborhood_info.index('interests: [')\n",
    "        endInterestIndex = neighborhood_info.index('iosUrl: \"https://')\n",
    "        if ((begInterestIndex > 0) and (endInterestIndex > 0)):\n",
    "            interests = neighborhood_info[begInterestIndex: endInterestIndex]\n",
    "            interests = interests[interests.index('[') +1: interests.index(']')]\n",
    "            print(\"Interests: %s\\n\" % interests.encode('UTF-8'))\n",
    "            row[\"Interests\"] = interests \n",
    "    except:\n",
    "        print(\"No interests found for: %s\", row[\"Hood Name\"])\n",
    "        \n",
    "    try:\n",
    "        begAttrIndex = neighborhood_info.index('attributes: [')\n",
    "        endAttrIndex = neighborhood_info.index('census:')\n",
    "        if ((begAttrIndex > 0) and (endAttrIndex > 0)):\n",
    "        attributes = neighborhood_info[begAttrIndex: endAttrIndex]\n",
    "        attributes = attributes[attributes.index('[') + 1: attributes.index(']')]\n",
    "        print(\"Attributes: %s\\n\" % attributes.encode('UTF-8'))\n",
    "        row[\"Attributes\"] = attributes \n",
    "    except:\n",
    "        print(\"No attributes found for: %s\", row[\"Hood Name\"])\n",
    "except:\n",
    "    print(\"Error parsing\")"
   ]
  },
  {
   "cell_type": "code",
   "execution_count": 78,
   "metadata": {},
   "outputs": [
    {
     "name": "stdout",
     "output_type": "stream",
     "text": [
      "State                                                                         CA\n",
      "County                                                               Santa Clara\n",
      "City                                                                    San Jose\n",
      "Neighborhood                                                        Avana Skyway\n",
      "Link                           https://nextdoor.com/neighborhood/avanaskyway-...\n",
      "Similar Google Neighborhood                                                 None\n",
      "Google Place ID                                                             None\n",
      "Hood Name                                                                   None\n",
      "Hood ID                                                                     None\n",
      "GeoJSON                                                                     None\n",
      "Interests                                                                   None\n",
      "Homeowners                                                                  None\n",
      "Population                                                                  None\n",
      "Average Age                                                                 None\n",
      "Attributes                                                                  None\n",
      "Name: 11, dtype: object\n"
     ]
    }
   ],
   "source": [
    "print(row)"
   ]
  },
  {
   "cell_type": "code",
   "execution_count": 241,
   "metadata": {},
   "outputs": [
    {
     "data": {
      "text/html": [
       "<div>\n",
       "<style scoped>\n",
       "    .dataframe tbody tr th:only-of-type {\n",
       "        vertical-align: middle;\n",
       "    }\n",
       "\n",
       "    .dataframe tbody tr th {\n",
       "        vertical-align: top;\n",
       "    }\n",
       "\n",
       "    .dataframe thead th {\n",
       "        text-align: right;\n",
       "    }\n",
       "</style>\n",
       "<table border=\"1\" class=\"dataframe\">\n",
       "  <thead>\n",
       "    <tr style=\"text-align: right;\">\n",
       "      <th></th>\n",
       "      <th>State</th>\n",
       "      <th>County</th>\n",
       "      <th>City</th>\n",
       "      <th>Neighborhood</th>\n",
       "      <th>Link</th>\n",
       "      <th>Similar Google Neighborhood</th>\n",
       "      <th>Google Place ID</th>\n",
       "      <th>Hood Name</th>\n",
       "      <th>Hood ID</th>\n",
       "      <th>Geometry</th>\n",
       "      <th>Interests</th>\n",
       "      <th>encoded</th>\n",
       "    </tr>\n",
       "  </thead>\n",
       "  <tbody>\n",
       "    <tr>\n",
       "      <th>0</th>\n",
       "      <td>CA</td>\n",
       "      <td>Santa Clara</td>\n",
       "      <td>San Jose</td>\n",
       "      <td>Albanese Circle</td>\n",
       "      <td>https://nextdoor.com/neighborhood/albanesecirc...</td>\n",
       "      <td>None</td>\n",
       "      <td>None</td>\n",
       "      <td>Albanese Circle</td>\n",
       "      <td>374270</td>\n",
       "      <td>{u'type': u'MultiPolygon', u'coordinates': [[[...</td>\n",
       "      <td>\"Hiking &amp; Trails\", \"Walking\", \"Travel\", \"Campi...</td>\n",
       "      <td>{u'type': u'MultiPolygon', u'coordinates': [[[...</td>\n",
       "    </tr>\n",
       "    <tr>\n",
       "      <th>1</th>\n",
       "      <td>CA</td>\n",
       "      <td>Santa Clara</td>\n",
       "      <td>San Jose</td>\n",
       "      <td>Almaden</td>\n",
       "      <td>https://nextdoor.com/neighborhood/almadenca--s...</td>\n",
       "      <td>Almaden</td>\n",
       "      <td>ChIJ8RtyWWkwjoARKOALmJ4lSgU</td>\n",
       "      <td>Almaden</td>\n",
       "      <td>154788</td>\n",
       "      <td>{u'type': u'MultiPolygon', u'coordinates': [[[...</td>\n",
       "      <td>\"Hiking &amp; Trails\", \"Gardening &amp; Landscape\", \"W...</td>\n",
       "      <td>{u'type': u'MultiPolygon', u'coordinates': [[[...</td>\n",
       "    </tr>\n",
       "    <tr>\n",
       "      <th>2</th>\n",
       "      <td>CA</td>\n",
       "      <td>Santa Clara</td>\n",
       "      <td>San Jose</td>\n",
       "      <td>Alvin/Burdette</td>\n",
       "      <td>https://nextdoor.com/neighborhood/7alvinburdet...</td>\n",
       "      <td>Alvin - Burdette</td>\n",
       "      <td>ChIJn5Y5-ZUyjoARiM0tE09NqXY</td>\n",
       "      <td>Alvin/Burdette</td>\n",
       "      <td>169900</td>\n",
       "      <td>{u'type': u'MultiPolygon', u'coordinates': [[[...</td>\n",
       "      <td>\"Cards &amp; Board Games\", \"Home Improvement &amp; DIY...</td>\n",
       "      <td>{u'type': u'MultiPolygon', u'coordinates': [[[...</td>\n",
       "    </tr>\n",
       "  </tbody>\n",
       "</table>\n",
       "</div>"
      ],
      "text/plain": [
       "  State       County      City     Neighborhood  \\\n",
       "0    CA  Santa Clara  San Jose  Albanese Circle   \n",
       "1    CA  Santa Clara  San Jose          Almaden   \n",
       "2    CA  Santa Clara  San Jose   Alvin/Burdette   \n",
       "\n",
       "                                                Link  \\\n",
       "0  https://nextdoor.com/neighborhood/albanesecirc...   \n",
       "1  https://nextdoor.com/neighborhood/almadenca--s...   \n",
       "2  https://nextdoor.com/neighborhood/7alvinburdet...   \n",
       "\n",
       "  Similar Google Neighborhood              Google Place ID        Hood Name  \\\n",
       "0                        None                         None  Albanese Circle   \n",
       "1                     Almaden  ChIJ8RtyWWkwjoARKOALmJ4lSgU          Almaden   \n",
       "2            Alvin - Burdette  ChIJn5Y5-ZUyjoARiM0tE09NqXY   Alvin/Burdette   \n",
       "\n",
       "  Hood ID                                           Geometry  \\\n",
       "0  374270  {u'type': u'MultiPolygon', u'coordinates': [[[...   \n",
       "1  154788  {u'type': u'MultiPolygon', u'coordinates': [[[...   \n",
       "2  169900  {u'type': u'MultiPolygon', u'coordinates': [[[...   \n",
       "\n",
       "                                           Interests  \\\n",
       "0  \"Hiking & Trails\", \"Walking\", \"Travel\", \"Campi...   \n",
       "1  \"Hiking & Trails\", \"Gardening & Landscape\", \"W...   \n",
       "2  \"Cards & Board Games\", \"Home Improvement & DIY...   \n",
       "\n",
       "                                             encoded  \n",
       "0  {u'type': u'MultiPolygon', u'coordinates': [[[...  \n",
       "1  {u'type': u'MultiPolygon', u'coordinates': [[[...  \n",
       "2  {u'type': u'MultiPolygon', u'coordinates': [[[...  "
      ]
     },
     "execution_count": 241,
     "metadata": {},
     "output_type": "execute_result"
    }
   ],
   "source": [
    "df_nextdoor_neighborhoods.head(3)"
   ]
  },
  {
   "cell_type": "code",
   "execution_count": 234,
   "metadata": {},
   "outputs": [
    {
     "ename": "UnicodeEncodeError",
     "evalue": "'ascii' codec can't encode character u'\\u2019' in position 11: ordinal not in range(128)",
     "output_type": "error",
     "traceback": [
      "\u001b[0;31m---------------------------------------------------------------------------\u001b[0m",
      "\u001b[0;31mUnicodeEncodeError\u001b[0m                        Traceback (most recent call last)",
      "\u001b[0;32m<ipython-input-234-8a5628ff11fb>\u001b[0m in \u001b[0;36m<module>\u001b[0;34m()\u001b[0m\n\u001b[0;32m----> 1\u001b[0;31m \u001b[0mdf_nextdoor_neighborhoods\u001b[0m\u001b[0;34m.\u001b[0m\u001b[0mto_csv\u001b[0m\u001b[0;34m(\u001b[0m\u001b[0;34m'mg_nextdoor_withprops_master.csv'\u001b[0m\u001b[0;34m,\u001b[0m \u001b[0mindex\u001b[0m\u001b[0;34m=\u001b[0m\u001b[0mFalse\u001b[0m\u001b[0;34m)\u001b[0m\u001b[0;34m\u001b[0m\u001b[0m\n\u001b[0m",
      "\u001b[0;32m/Users/michellepetersen/anaconda3/envs/geospatial/lib/python2.7/site-packages/pandas/core/frame.pyc\u001b[0m in \u001b[0;36mto_csv\u001b[0;34m(self, path_or_buf, sep, na_rep, float_format, columns, header, index, index_label, mode, encoding, compression, quoting, quotechar, line_terminator, chunksize, tupleize_cols, date_format, doublequote, escapechar, decimal)\u001b[0m\n\u001b[1;32m   1743\u001b[0m                                  \u001b[0mdoublequote\u001b[0m\u001b[0;34m=\u001b[0m\u001b[0mdoublequote\u001b[0m\u001b[0;34m,\u001b[0m\u001b[0;34m\u001b[0m\u001b[0m\n\u001b[1;32m   1744\u001b[0m                                  escapechar=escapechar, decimal=decimal)\n\u001b[0;32m-> 1745\u001b[0;31m         \u001b[0mformatter\u001b[0m\u001b[0;34m.\u001b[0m\u001b[0msave\u001b[0m\u001b[0;34m(\u001b[0m\u001b[0;34m)\u001b[0m\u001b[0;34m\u001b[0m\u001b[0m\n\u001b[0m\u001b[1;32m   1746\u001b[0m \u001b[0;34m\u001b[0m\u001b[0m\n\u001b[1;32m   1747\u001b[0m         \u001b[0;32mif\u001b[0m \u001b[0mpath_or_buf\u001b[0m \u001b[0;32mis\u001b[0m \u001b[0mNone\u001b[0m\u001b[0;34m:\u001b[0m\u001b[0;34m\u001b[0m\u001b[0m\n",
      "\u001b[0;32m/Users/michellepetersen/anaconda3/envs/geospatial/lib/python2.7/site-packages/pandas/io/formats/csvs.pyc\u001b[0m in \u001b[0;36msave\u001b[0;34m(self)\u001b[0m\n\u001b[1;32m    169\u001b[0m                 \u001b[0mself\u001b[0m\u001b[0;34m.\u001b[0m\u001b[0mwriter\u001b[0m \u001b[0;34m=\u001b[0m \u001b[0mUnicodeWriter\u001b[0m\u001b[0;34m(\u001b[0m\u001b[0mf\u001b[0m\u001b[0;34m,\u001b[0m \u001b[0;34m**\u001b[0m\u001b[0mwriter_kwargs\u001b[0m\u001b[0;34m)\u001b[0m\u001b[0;34m\u001b[0m\u001b[0m\n\u001b[1;32m    170\u001b[0m \u001b[0;34m\u001b[0m\u001b[0m\n\u001b[0;32m--> 171\u001b[0;31m             \u001b[0mself\u001b[0m\u001b[0;34m.\u001b[0m\u001b[0m_save\u001b[0m\u001b[0;34m(\u001b[0m\u001b[0;34m)\u001b[0m\u001b[0;34m\u001b[0m\u001b[0m\n\u001b[0m\u001b[1;32m    172\u001b[0m \u001b[0;34m\u001b[0m\u001b[0m\n\u001b[1;32m    173\u001b[0m         \u001b[0;32mfinally\u001b[0m\u001b[0;34m:\u001b[0m\u001b[0;34m\u001b[0m\u001b[0m\n",
      "\u001b[0;32m/Users/michellepetersen/anaconda3/envs/geospatial/lib/python2.7/site-packages/pandas/io/formats/csvs.pyc\u001b[0m in \u001b[0;36m_save\u001b[0;34m(self)\u001b[0m\n\u001b[1;32m    284\u001b[0m                 \u001b[0;32mbreak\u001b[0m\u001b[0;34m\u001b[0m\u001b[0m\n\u001b[1;32m    285\u001b[0m \u001b[0;34m\u001b[0m\u001b[0m\n\u001b[0;32m--> 286\u001b[0;31m             \u001b[0mself\u001b[0m\u001b[0;34m.\u001b[0m\u001b[0m_save_chunk\u001b[0m\u001b[0;34m(\u001b[0m\u001b[0mstart_i\u001b[0m\u001b[0;34m,\u001b[0m \u001b[0mend_i\u001b[0m\u001b[0;34m)\u001b[0m\u001b[0;34m\u001b[0m\u001b[0m\n\u001b[0m\u001b[1;32m    287\u001b[0m \u001b[0;34m\u001b[0m\u001b[0m\n\u001b[1;32m    288\u001b[0m     \u001b[0;32mdef\u001b[0m \u001b[0m_save_chunk\u001b[0m\u001b[0;34m(\u001b[0m\u001b[0mself\u001b[0m\u001b[0;34m,\u001b[0m \u001b[0mstart_i\u001b[0m\u001b[0;34m,\u001b[0m \u001b[0mend_i\u001b[0m\u001b[0;34m)\u001b[0m\u001b[0;34m:\u001b[0m\u001b[0;34m\u001b[0m\u001b[0m\n",
      "\u001b[0;32m/Users/michellepetersen/anaconda3/envs/geospatial/lib/python2.7/site-packages/pandas/io/formats/csvs.pyc\u001b[0m in \u001b[0;36m_save_chunk\u001b[0;34m(self, start_i, end_i)\u001b[0m\n\u001b[1;32m    311\u001b[0m \u001b[0;34m\u001b[0m\u001b[0m\n\u001b[1;32m    312\u001b[0m         libwriters.write_csv_rows(self.data, ix, self.nlevels,\n\u001b[0;32m--> 313\u001b[0;31m                                   self.cols, self.writer)\n\u001b[0m",
      "\u001b[0;32mpandas/_libs/writers.pyx\u001b[0m in \u001b[0;36mpandas._libs.writers.write_csv_rows\u001b[0;34m()\u001b[0m\n",
      "\u001b[0;31mUnicodeEncodeError\u001b[0m: 'ascii' codec can't encode character u'\\u2019' in position 11: ordinal not in range(128)"
     ]
    }
   ],
   "source": [
    "df_nextdoor_neighborhoods.to_csv('mg_nextdoor_withprops_master.csv', index=False)"
   ]
  },
  {
   "cell_type": "code",
   "execution_count": null,
   "metadata": {},
   "outputs": [],
   "source": [
    "#Explode the Interests field\n",
    "df_nextdoor_explode_interests_neighborhoods = df_nextdoor_neighborhoods.drop('Interests', axis=1).join(df_nextdoor_neighborhoods['Interests'].str.split(',', expand=True).stack().reset_index(level=1, drop=True).rename('Interests'))\n",
    "df_nextdoor_explode_interests_neighborhoods.reset_index(drop=True, inplace=True)\n",
    "\n",
    "# List a row to verify data was exploded correctly\n",
    "df_nextdoor_explode_interests_neighborhoods.head(1)"
   ]
  },
  {
   "cell_type": "markdown",
   "metadata": {},
   "source": [
    "### Quality\n",
    "\n",
    "##### Data Quality Dimensions\n",
    "Completeness: Do we have all of the records that we should? Do we have missing records or not? Are there specific rows, columns, or cells missing? \n",
    "\n",
    "Validity: We have the records, but they're not valid, i.e., they don't conform to a defined schema. A schema is a defined set of rules for data. These rules can be real-world constraints (e.g. negative height is impossible) and table-specific constraints (e.g. unique key constraints in tables). \n",
    "\n",
    "Accuracy: Inaccurate data is wrong data that is valid. It adheres to the defined schema, but it is still incorrect. Example: a patient's weight that is 5 lbs too heavy because the scale was faulty. \n",
    "\n",
    "Consistency: Inconsistent data is both valid and accurate, but there are multiple correct ways of referring to the same thing. Consistency, i.e., a standard format, in columns that represent the same data across tables and/or within tables is desired. \n",
    "\n",
    "##### `df_tweets` Table Actions \n",
    "- Blah Blah\n",
    "##### `df_tweet_additional_info` Table Actions\n",
    "- Remove retweets.\n",
    "- \n",
    "\n",
    "### Tidiness\n",
    "##### Tidiness Criteria:\n",
    "- Each variable you measure should be in one column.\n",
    "- Each different observation of that variable should be in a different row.\n",
    "- There should be one table for each “kind” of variable.\n",
    "- Related tables should each include a column that allows them to be linked.\n",
    "##### Tidiness Actions\n",
    "- "
   ]
  },
  {
   "cell_type": "markdown",
   "metadata": {},
   "source": [
    "## Clean"
   ]
  },
  {
   "cell_type": "markdown",
   "metadata": {},
   "source": [
    "##### Define\n",
    "Remove tweets from the df_tweets and df_tweet_additional_info tables that do not have images in the df_image_predict table.\n",
    "\n",
    "##### Code"
   ]
  },
  {
   "cell_type": "code",
   "execution_count": null,
   "metadata": {},
   "outputs": [],
   "source": []
  },
  {
   "cell_type": "markdown",
   "metadata": {},
   "source": [
    "##### Test"
   ]
  },
  {
   "cell_type": "code",
   "execution_count": null,
   "metadata": {},
   "outputs": [],
   "source": []
  },
  {
   "cell_type": "markdown",
   "metadata": {},
   "source": [
    "## Storing\n",
    "\n",
    "Store the clean DataFrame in a CSV file named SantaClaraMasterGardener_master.csv."
   ]
  },
  {
   "cell_type": "code",
   "execution_count": null,
   "metadata": {},
   "outputs": [],
   "source": []
  },
  {
   "cell_type": "markdown",
   "metadata": {},
   "source": [
    "## Analysis and Visualization"
   ]
  },
  {
   "cell_type": "markdown",
   "metadata": {},
   "source": [
    "### Viz 1:"
   ]
  },
  {
   "cell_type": "code",
   "execution_count": null,
   "metadata": {},
   "outputs": [],
   "source": []
  }
 ],
 "metadata": {
  "kernelspec": {
   "display_name": "Python 3",
   "language": "python",
   "name": "python3"
  },
  "language_info": {
   "codemirror_mode": {
    "name": "ipython",
    "version": 3
   },
   "file_extension": ".py",
   "mimetype": "text/x-python",
   "name": "python",
   "nbconvert_exporter": "python",
   "pygments_lexer": "ipython3",
   "version": "3.6.7"
  }
 },
 "nbformat": 4,
 "nbformat_minor": 2
}
