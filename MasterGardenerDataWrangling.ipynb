{
 "cells": [
  {
   "cell_type": "markdown",
   "metadata": {},
   "source": [
    "# Data Wrangling for Santa Clara Master Gardener Club by Michelle Petersen"
   ]
  },
  {
   "cell_type": "code",
   "execution_count": 148,
   "metadata": {},
   "outputs": [],
   "source": [
    "# Imports\n",
    "%matplotlib inline\n",
    "import pandas as pd\n",
    "import numpy as np\n",
    "import json\n",
    "import geojson\n",
    "import shapefile\n",
    "import requests\n",
    "from bs4 import BeautifulSoup\n",
    "import difflib\n",
    "import geopandas as gpd\n",
    "import pprint \n",
    "import six.moves.urllib as urllib\n",
    "import matplotlib.pyplot as plt\n",
    "from timeit import default_timer as timer"
   ]
  },
  {
   "cell_type": "markdown",
   "metadata": {},
   "source": [
    "## Gather"
   ]
  },
  {
   "cell_type": "code",
   "execution_count": 5,
   "metadata": {},
   "outputs": [
    {
     "name": "stdout",
     "output_type": "stream",
     "text": [
      "     State          County            City                         Name  \\\n",
      "0       CA       Riverside         Menifee                     Sun City   \n",
      "1       CA     Santa Clara        San Jose                       Alviso   \n",
      "2       CA           Marin      San Rafael                Santa Venetia   \n",
      "3       CA           Marin      San Rafael                    Marinwood   \n",
      "4       CA     Los Angeles   Santa Clarita                      Newhall   \n",
      "5       CA     Los Angeles     Los Angeles                      Tujunga   \n",
      "6       CA         Ventura          Oxnard                     Cabrillo   \n",
      "7       CA     Los Angeles     Los Angeles                 Shadow Hills   \n",
      "8       CA     Los Angeles     Los Angeles                       Sylmar   \n",
      "9       CA   San Francisco   San Francisco                     Presidio   \n",
      "10      CA     Los Angeles   Santa Clarita               Canyon Country   \n",
      "11      CA         Alameda         Alameda                     East End   \n",
      "12      CA       San Mateo         Belmont                     McDougal   \n",
      "13      CA       Riverside         Menifee                     Romoland   \n",
      "14      CA     Los Angeles     Los Angeles                   Sun Valley   \n",
      "15      CA  San Bernardino  San Bernardino              Arrowhead Farms   \n",
      "16      CA     Los Angeles     Los Angeles              North Hollywood   \n",
      "17      CA           Marin     Mill Valley                      Almonte   \n",
      "18      CA           Marin     Mill Valley                         Alto   \n",
      "19      CA     Los Angeles     Los Angeles                      Bel Air   \n",
      "20      CA     Los Angeles      Long Beach                Belmont Shore   \n",
      "21      CA     Los Angeles     Los Angeles                 Beverly Glen   \n",
      "22      CA     Santa Clara        San Jose                Cambrian Park   \n",
      "23      CA         Alameda         Hayward                   Cherryland   \n",
      "24      CA         Alameda         Oakland                    Chinatown   \n",
      "25      CA     San Joaquin        Stockton                 Country Club   \n",
      "26      CA       San Diego       San Diego              Del Mar Heights   \n",
      "27      CA     Los Angeles     Los Angeles                   Eagle Rock   \n",
      "28      CA     San Joaquin        Stockton                    Fair Oaks   \n",
      "29      CA   San Francisco   San Francisco                Forest Knolls   \n",
      "...    ...             ...             ...                          ...   \n",
      "2021    CA            Napa            Napa                    Riverpark   \n",
      "2022    CA            Napa            Napa                    Shurtleff   \n",
      "2023    CA            Napa            Napa              Von Uhlit Ranch   \n",
      "2024    CA            Napa            Napa           Springwood Estates   \n",
      "2025    CA       San Mateo    Redwood City               Woodside Plaza   \n",
      "2026    CA       San Mateo    Redwood City                      Sequoia   \n",
      "2027    CA       San Mateo    Redwood City                 Greco Island   \n",
      "2028    CA       San Mateo    Redwood City                  Bair Island   \n",
      "2029    CA    Contra Costa        Richmond              Panhandle Annex   \n",
      "2030    CA    Contra Costa        Richmond               Richmond Annex   \n",
      "2031    CA    Contra Costa        Richmond         Carriage Hills North   \n",
      "2032    CA    Contra Costa        Richmond               North and East   \n",
      "2033    CA      Sacramento          Folsom                 Empire Ranch   \n",
      "2034    CA      Sacramento          Folsom               Natoma Station   \n",
      "2035    CA         Alameda         Alameda              Harbor Bay Isle   \n",
      "2036    CA         Alameda         Alameda                  Ballena Bay   \n",
      "2037    CA         Alameda         Alameda                 Bronze Coast   \n",
      "2038    CA           Marin      San Rafael   Mont Marin/San Rafael Park   \n",
      "2039    CA           Marin      San Rafael                  Peacock Gap   \n",
      "2040    CA           Marin      San Rafael       Montecito/Happy Valley   \n",
      "2041    CA           Marin      San Rafael                   Bret Harte   \n",
      "2042    CA           Marin      San Rafael             Canal Waterfront   \n",
      "2043    CA         Ventura         Ventura                       Thille   \n",
      "2044    CA         Ventura         Ventura                     Arundell   \n",
      "2045    CA         Ventura         Ventura                 Taylor Ranch   \n",
      "2046    CA         Ventura         Ventura                 North Avenue   \n",
      "2047    CA       San Diego        Carlsbad                La Costa Oaks   \n",
      "2048    CA       San Diego        Carlsbad  Rancho Carlsbad/Sunny Creek   \n",
      "2049    CA     Los Angeles          Malibu               Trancas Canyon   \n",
      "2050    CA     Los Angeles       Hawthorne               Burleigh Tract   \n",
      "\n",
      "     RegionID                                           geometry  \n",
      "0        7314  POLYGON ((-117.1935499999999 33.74306900000005...  \n",
      "1        8075  POLYGON ((-121.9423569999999 37.46496300000007...  \n",
      "2       20357  POLYGON ((-122.50308997 38.01594776500008, -12...  \n",
      "3       25757  POLYGON ((-122.56417078 38.02552641400007, -12...  \n",
      "4       26134  POLYGON ((-118.5364387599999 34.42379381100029...  \n",
      "5       27484  POLYGON ((-118.301990911 34.27442727300007, -1...  \n",
      "6       30685  POLYGON ((-119.194707444 34.20835268000008, -1...  \n",
      "7       33952  POLYGON ((-118.3255483124992 34.24788213427415...  \n",
      "8       34213  POLYGON ((-118.4372321519999 34.32990325900005...  \n",
      "9       35760  POLYGON ((-122.4743132059998 37.81001054900017...  \n",
      "10      37739  (POLYGON ((-118.557267818 34.42399760500007, -...  \n",
      "11      38307  POLYGON ((-122.2409623089999 37.76340228700008...  \n",
      "12      39702  POLYGON ((-122.294305648 37.51211001400003, -1...  \n",
      "13      40629  POLYGON ((-117.167138 33.75773400000003, -117....  \n",
      "14      41131  POLYGON ((-118.3659277679999 34.22936462700005...  \n",
      "15      43946  POLYGON ((-117.3030349999999 34.17533300000008...  \n",
      "16      46795  POLYGON ((-118.4042906399999 34.20288002800004...  \n",
      "17     113411  POLYGON ((-122.516433 37.880939, -122.516449 3...  \n",
      "18     113438  POLYGON ((-122.514450441 37.90791353600008, -1...  \n",
      "19     113688  POLYGON ((-118.4616545589999 34.13080135700005...  \n",
      "20     113713  POLYGON ((-118.1328637469999 33.76448143100004...  \n",
      "21     113749  POLYGON ((-118.4531605749999 34.13205667600005...  \n",
      "22     114074  POLYGON ((-121.878978755 37.27530488000008, -1...  \n",
      "23     114283  POLYGON ((-122.091469271 37.68257863600007, -1...  \n",
      "24     114292  POLYGON ((-122.2700929749999 37.80135293100005...  \n",
      "25     114490  (POLYGON ((-121.3359659999999 37.9666670000000...  \n",
      "26     114649  POLYGON ((-117.2506339559999 32.97254513900009...  \n",
      "27     114808  POLYGON ((-118.198192295 34.15079031400006, -1...  \n",
      "28     115008  POLYGON ((-121.2743348409999 37.94091935400007...  \n",
      "29     115133  POLYGON ((-122.4522605309999 37.75827979100008...  \n",
      "...       ...                                                ...  \n",
      "2021   763785  POLYGON ((-122.2848132939999 38.28162002300007...  \n",
      "2022   763787  POLYGON ((-122.264077942 38.28951369200007, -1...  \n",
      "2023   763794  POLYGON ((-122.285209125 38.31800811400007, -1...  \n",
      "2024   763796  POLYGON ((-122.309433561 38.34256500500004, -1...  \n",
      "2025   763887  POLYGON ((-122.246777 37.455338, -122.24689155...  \n",
      "2026   763889  POLYGON ((-122.2364081379999 37.47751288800004...  \n",
      "2027   763894  POLYGON ((-122.177675 37.498437, -122.17777139...  \n",
      "2028   763896  POLYGON ((-122.196393713 37.52967425500003, -1...  \n",
      "2029   763912  POLYGON ((-122.317281375 37.91095219800007, -1...  \n",
      "2030   763914  POLYGON ((-122.314277515 37.91885680600006, -1...  \n",
      "2031   763919  POLYGON ((-122.247079749 37.96386871700003, -1...  \n",
      "2032   763921  POLYGON ((-122.332723 37.951366, -122.32606044...  \n",
      "2033   763978  POLYGON ((-121.105591 38.689261, -121.105248 3...  \n",
      "2034   763980  POLYGON ((-121.1826302759999 38.65051391300005...  \n",
      "2035   764094  POLYGON ((-122.250415 37.748044, -122.249875 3...  \n",
      "2036   764096  POLYGON ((-122.285644 37.769494, -122.28539627...  \n",
      "2037   764098  POLYGON ((-122.2428412679999 37.76421413200006...  \n",
      "2038   764139  POLYGON ((-122.544256022 38.02454183400005, -1...  \n",
      "2039   764146  POLYGON ((-122.455828792 37.99721397900004, -1...  \n",
      "2040   764148  POLYGON ((-122.506555033 37.96832199600004, -1...  \n",
      "2041   764153  POLYGON ((-122.524203 37.955808, -122.52367953...  \n",
      "2042   764155  POLYGON ((-122.5060762849999 37.96694190900007...  \n",
      "2043   764221  POLYGON ((-119.210994795 34.25259807300006, -1...  \n",
      "2044   764223  POLYGON ((-119.210994795 34.25259807300006, -1...  \n",
      "2045   764228  POLYGON ((-119.3068706559999 34.29015552500005...  \n",
      "2046   764230  POLYGON ((-119.2855768969999 34.31911978900007...  \n",
      "2047   764287  POLYGON ((-117.210388 33.091854, -117.210319 3...  \n",
      "2048   764289  POLYGON ((-117.271297842 33.16848313300005, -1...  \n",
      "2049   764298  POLYGON ((-118.839893896 34.03436604200004, -1...  \n",
      "2050   764303  POLYGON ((-118.3437891459999 33.90245215300007...  \n",
      "\n",
      "[2051 rows x 6 columns]\n"
     ]
    }
   ],
   "source": [
    "df = gpd.read_file('ZillowNeighborhoods-CA/ZillowNeighborhoods-CA.shp')\n",
    "print(df)"
   ]
  },
  {
   "cell_type": "code",
   "execution_count": 6,
   "metadata": {},
   "outputs": [],
   "source": [
    "df.to_csv('California neighborhoods.csv')"
   ]
  },
  {
   "cell_type": "code",
   "execution_count": 7,
   "metadata": {},
   "outputs": [
    {
     "name": "stdout",
     "output_type": "stream",
     "text": [
      "     State       County           City                      Name RegionID  \\\n",
      "1       CA  Santa Clara       San Jose                    Alviso     8075   \n",
      "22      CA  Santa Clara       San Jose             Cambrian Park   114074   \n",
      "42      CA  Santa Clara      Cupertino          Rancho Rinconada   117559   \n",
      "43      CA  Santa Clara       Campbell                 San Tomas   117891   \n",
      "68      CA  Santa Clara       San Jose                 Berryessa   113736   \n",
      "74      CA  Santa Clara       San Jose                 Evergreen   115003   \n",
      "94      CA  Santa Clara  Mountain View            Blossom Valley     3707   \n",
      "129     CA  Santa Clara      Los Altos                    Loyola   116334   \n",
      "207     CA  Santa Clara       Campbell                      Dell   178814   \n",
      "213     CA  Santa Clara       San Jose               Willow Glen   118987   \n",
      "241     CA  Santa Clara      Cupertino                Oak Valley   189743   \n",
      "242     CA  Santa Clara      Sunnyvale                 Ponderosa   191799   \n",
      "244     CA  Santa Clara       Saratoga                     Quito   229203   \n",
      "330     CA  Santa Clara  Mountain View                    Slater   263648   \n",
      "356     CA  Santa Clara      Sunnyvale                Washington   254627   \n",
      "379     CA  Santa Clara      Cupertino                Fair Grove   263576   \n",
      "387     CA  Santa Clara       Saratoga              Sunland Park   264339   \n",
      "636     CA  Santa Clara       San Jose               Fairgrounds   273674   \n",
      "664     CA  Santa Clara      Sunnyvale                  Lakewood   274256   \n",
      "688     CA  Santa Clara       San Jose            North San Jose   274741   \n",
      "742     CA  Santa Clara       San Jose            Almaden Valley   272756   \n",
      "746     CA  Santa Clara       San Jose               Rose Garden   275243   \n",
      "810     CA  Santa Clara       San Jose    Edenvale - Seven Trees   273594   \n",
      "879     CA  Santa Clara       San Jose            Blossom Valley   276215   \n",
      "881     CA  Santa Clara       San Jose  Alum Rock-East Foothills   272760   \n",
      "937     CA  Santa Clara       San Jose                  Downtown   273480   \n",
      "942     CA  Santa Clara       San Jose              North Valley   274756   \n",
      "947     CA  Santa Clara       San Jose             East San Jose   273565   \n",
      "998     CA  Santa Clara       San Jose              Santa Teresa   275306   \n",
      "1019    CA  Santa Clara      Palo Alto               Barron Park   343613   \n",
      "...    ...          ...            ...                       ...      ...   \n",
      "1679    CA  Santa Clara  Mountain View                Monta Loma   762466   \n",
      "1683    CA  Santa Clara  Mountain View              Gemello Park   762650   \n",
      "1684    CA  Santa Clara  Mountain View         Old Mountain View   762652   \n",
      "1685    CA  Santa Clara  Mountain View                 Rex Manor   762657   \n",
      "1741    CA  Santa Clara      Sunnyvale                   De Anza   623422   \n",
      "1742    CA  Santa Clara      Sunnyvale               East Murphy   623423   \n",
      "1743    CA  Santa Clara      Sunnyvale               West Murphy   623424   \n",
      "1756    CA  Santa Clara      Cupertino       Inspiration Heights   760932   \n",
      "1757    CA  Santa Clara      Cupertino              South Blaney   760933   \n",
      "1758    CA  Santa Clara      Cupertino              North Blaney   760934   \n",
      "1759    CA  Santa Clara      Cupertino               Garden Gate   760935   \n",
      "1762    CA  Santa Clara       Campbell                 Pruneyard   760982   \n",
      "1803    CA  Santa Clara      Cupertino         Monta Vista South   762203   \n",
      "1804    CA  Santa Clara      Cupertino           Creston-Pharlap   762204   \n",
      "1828    CA  Santa Clara  Mountain View               Sylvan Park   762653   \n",
      "1829    CA  Santa Clara  Mountain View               Wagon Wheel   762654   \n",
      "1830    CA  Santa Clara  Mountain View             North Wishman   762655   \n",
      "1831    CA  Santa Clara  Mountain View         Moffett Boulevard   762656   \n",
      "1838    CA  Santa Clara      Sunnyvale                     Serra   623419   \n",
      "1919    CA  Santa Clara      Cupertino         Monta Vista North   760931   \n",
      "1920    CA  Santa Clara      Cupertino                  Jollyman   760936   \n",
      "1922    CA  Santa Clara       Campbell                 Creekside   760961   \n",
      "1923    CA  Santa Clara       Campbell             West Campbell   760979   \n",
      "1924    CA  Santa Clara       Campbell             East Campbell   760981   \n",
      "1935    CA  Santa Clara       Saratoga          Congress Springs   761129   \n",
      "1961    CA  Santa Clara       Milpitas               Sunny Hills   761783   \n",
      "1989    CA  Santa Clara  Mountain View              Waverly Park   762644   \n",
      "1990    CA  Santa Clara  Mountain View       Saint Francis Acres   762649   \n",
      "1991    CA  Santa Clara  Mountain View            Shoreline West   762651   \n",
      "1992    CA  Santa Clara  Mountain View       Greater San Antonio   762658   \n",
      "\n",
      "                                               geometry  \n",
      "1     POLYGON ((-121.9423569999999 37.46496300000007...  \n",
      "22    POLYGON ((-121.878978755 37.27530488000008, -1...  \n",
      "42    POLYGON ((-122.00649 37.32295, -122.004603875 ...  \n",
      "43    POLYGON ((-121.9526834979999 37.27366922400006...  \n",
      "68    POLYGON ((-121.8202519999999 37.43812700000007...  \n",
      "74    (POLYGON ((-121.7826669999999 37.2649340000000...  \n",
      "94    POLYGON ((-122.088973 37.366841, -122.089673 3...  \n",
      "129   POLYGON ((-122.104645 37.345972, -122.103937 3...  \n",
      "207   POLYGON ((-121.9505843049999 37.27316315000007...  \n",
      "213   POLYGON ((-121.8874382369999 37.31590445900008...  \n",
      "241   POLYGON ((-122.0880922539999 37.33947771600003...  \n",
      "242   POLYGON ((-121.99647 37.370041, -121.99647 37....  \n",
      "244   POLYGON ((-121.994369 37.273143, -121.994069 3...  \n",
      "330   POLYGON ((-122.061683891 37.39218044400008, -1...  \n",
      "356   POLYGON ((-122.0524719999999 37.38554000000005...  \n",
      "379   POLYGON ((-122.0077537939999 37.31075411900008...  \n",
      "387   POLYGON ((-121.989769 37.278543, -121.98964282...  \n",
      "636   POLYGON ((-121.8666420729999 37.32674963100004...  \n",
      "664   POLYGON ((-122.051244 37.459007, -122.050313 3...  \n",
      "688   POLYGON ((-121.9262689999999 37.43683900000008...  \n",
      "742   (POLYGON ((-121.823902 37.20757, -121.82372407...  \n",
      "746   POLYGON ((-121.9246463649999 37.34204677500009...  \n",
      "810   POLYGON ((-121.8167705539999 37.30293083300006...  \n",
      "879   POLYGON ((-121.8325538629999 37.27554512100005...  \n",
      "881   (POLYGON ((-121.8348639999999 37.3753390000000...  \n",
      "937   POLYGON ((-121.8548126224163 37.34227180535527...  \n",
      "942   POLYGON ((-121.8774566643825 37.40456199673176...  \n",
      "947   POLYGON ((-121.8154314229999 37.37412807800007...  \n",
      "998   POLYGON ((-121.7412054959999 37.26219843300004...  \n",
      "1019  POLYGON ((-122.1303650299999 37.40788518000005...  \n",
      "...                                                 ...  \n",
      "1679  POLYGON ((-122.101901332 37.40501270600004, -1...  \n",
      "1683  POLYGON ((-122.101271979 37.39537662200007, -1...  \n",
      "1684  POLYGON ((-122.080989647 37.39695364300007, -1...  \n",
      "1685  POLYGON ((-122.078039116 37.40631920200008, -1...  \n",
      "1741  POLYGON ((-122.0506952379999 37.35213334500008...  \n",
      "1742  POLYGON ((-121.99807 37.373841, -121.9976308 3...  \n",
      "1743  POLYGON ((-122.013030374 37.39507013700006, -1...  \n",
      "1756  POLYGON ((-122.068630322 37.32196199300006, -1...  \n",
      "1757  POLYGON ((-122.01427885 37.32299760400008, -12...  \n",
      "1758  POLYGON ((-122.017348354 37.32302139900003, -1...  \n",
      "1759  POLYGON ((-122.034920356 37.32284170000003, -1...  \n",
      "1762  POLYGON ((-121.931805627 37.28992129800002, -1...  \n",
      "1803  POLYGON ((-122.035256712 37.303939, -122.03545...  \n",
      "1804  POLYGON ((-122.0566443819999 37.33120731100007...  \n",
      "1828  POLYGON ((-122.0643254729999 37.38428272800007...  \n",
      "1829  POLYGON ((-122.0621443159999 37.40588138100003...  \n",
      "1830  POLYGON ((-122.069511128 37.39887624800008, -1...  \n",
      "1831  POLYGON ((-122.068452773 37.39339847900004, -1...  \n",
      "1838  POLYGON ((-122.032634 37.339543, -122.032804 3...  \n",
      "1919  POLYGON ((-122.059484019 37.32245327400005, -1...  \n",
      "1920  POLYGON ((-122.034920356 37.32284170000003, -1...  \n",
      "1922  POLYGON ((-121.9316999759999 37.29578340800003...  \n",
      "1923  POLYGON ((-121.962967051 37.29554207700005, -1...  \n",
      "1924  POLYGON ((-121.922715421 37.29437318200007, -1...  \n",
      "1935  POLYGON ((-122.032048085 37.26697064700005, -1...  \n",
      "1961  POLYGON ((-121.912698212 37.46090922300004, -1...  \n",
      "1989  POLYGON ((-122.077826218 37.36802268100007, -1...  \n",
      "1990  POLYGON ((-122.096073 37.38863836600007, -122....  \n",
      "1991  POLYGON ((-122.088432602 37.39969478200004, -1...  \n",
      "1992  POLYGON ((-122.107741 37.408085, -122.10520304...  \n",
      "\n",
      "[105 rows x 6 columns]\n"
     ]
    }
   ],
   "source": [
    "sc_df = df[df['County'] == 'Santa Clara']\n",
    "print(sc_df)"
   ]
  },
  {
   "cell_type": "code",
   "execution_count": 8,
   "metadata": {},
   "outputs": [],
   "source": [
    "sc_df.to_csv('Santa Clara neighborhoods.csv')"
   ]
  },
  {
   "cell_type": "code",
   "execution_count": 9,
   "metadata": {},
   "outputs": [
    {
     "data": {
      "text/plain": [
       "<matplotlib.axes._subplots.AxesSubplot at 0x1295de2e8>"
      ]
     },
     "execution_count": 9,
     "metadata": {},
     "output_type": "execute_result"
    },
    {
     "data": {
      "image/png": "[encoded data removed]",
      "text/plain": [
       "<Figure size 432x288 with 1 Axes>"
      ]
     },
     "metadata": {
      "needs_background": "light"
     },
     "output_type": "display_data"
    }
   ],
   "source": [
    "sc_df.plot()"
   ]
  },
  {
   "cell_type": "markdown",
   "metadata": {},
   "source": [
    "## Assess"
   ]
  },
  {
   "cell_type": "code",
   "execution_count": 10,
   "metadata": {},
   "outputs": [
    {
     "name": "stdout",
     "output_type": "stream",
     "text": [
      "Santa Clara County Master Gardeners\n",
      "<Worksheet 'Contacts' id:0>\n",
      "<Worksheet 'Contact-Neighborhood Mapping' id:1541812186>\n",
      "<Worksheet 'Zillow Neighborhoods' id:1790253258>\n",
      "<Worksheet 'Google Neighborhoods' id:1302983281>\n",
      "<Worksheet 'Nextdoor Neighborhoods' id:284535610>\n"
     ]
    }
   ],
   "source": [
    "import gspread\n",
    "from google.oauth2 import service_account\n",
    "from google.auth.transport.requests import AuthorizedSession\n",
    "\n",
    "# The scope to read the spreadsheet\n",
    "_GS_SCOPE = ['https://www.googleapis.com/auth/spreadsheets.readonly',\n",
    "            'https://www.googleapis.com/auth/drive']\n",
    "\n",
    "# The ID and range of the MasterGardener spreadsheet.\n",
    "_GS_ID = '1pPOuRZ9YsKwXGKgxzSm9tXCR_dgkCY4WNh3rg_cFX08'\n",
    "\n",
    "service_account_info = json.load(open('Master Gardener-7e906e507d9d.json'))\n",
    "credentials = service_account.Credentials.from_service_account_info(\n",
    "    service_account_info,\n",
    "    scopes=_GS_SCOPE)\n",
    "\n",
    "if credentials:\n",
    "    gc = gspread.Client(auth=credentials)\n",
    "    gc.session = AuthorizedSession(credentials)\n",
    "    book = gc.open_by_key(_GS_ID)\n",
    "    print(book.title)\n",
    "    worksheet_list = book.worksheets()\n",
    "    for worksheet in worksheet_list:\n",
    "        print(worksheet)"
   ]
  },
  {
   "cell_type": "code",
   "execution_count": 34,
   "metadata": {},
   "outputs": [],
   "source": [
    "df_contacts = pd.DataFrame(book.get_worksheet(0).get_all_values())\n",
    "df_contact_neighborhood = pd.DataFrame(book.get_worksheet(1).get_all_values())\n",
    "df_zillow_neighborhoods = pd.DataFrame(book.get_worksheet(2).get_all_values())\n",
    "df_nextdoor_neighborhoods = pd.DataFrame(book.get_worksheet(4).get_all_values())"
   ]
  },
  {
   "cell_type": "code",
   "execution_count": 35,
   "metadata": {},
   "outputs": [
    {
     "data": {
      "text/html": [
       "<div>\n",
       "<style scoped>\n",
       "    .dataframe tbody tr th:only-of-type {\n",
       "        vertical-align: middle;\n",
       "    }\n",
       "\n",
       "    .dataframe tbody tr th {\n",
       "        vertical-align: top;\n",
       "    }\n",
       "\n",
       "    .dataframe thead th {\n",
       "        text-align: right;\n",
       "    }\n",
       "</style>\n",
       "<table border=\"1\" class=\"dataframe\">\n",
       "  <thead>\n",
       "    <tr style=\"text-align: right;\">\n",
       "      <th></th>\n",
       "      <th>0</th>\n",
       "      <th>1</th>\n",
       "      <th>2</th>\n",
       "      <th>3</th>\n",
       "      <th>4</th>\n",
       "    </tr>\n",
       "  </thead>\n",
       "  <tbody>\n",
       "    <tr>\n",
       "      <th>0</th>\n",
       "      <td>Name</td>\n",
       "      <td>e-mail</td>\n",
       "      <td>Residence - Nextdoor Neighborhood</td>\n",
       "      <td>Unknown Neighborhood</td>\n",
       "      <td>Notes</td>\n",
       "    </tr>\n",
       "    <tr>\n",
       "      <th>1</th>\n",
       "      <td>Anita Rosen</td>\n",
       "      <td>anita@readygo.com</td>\n",
       "      <td>Gemello</td>\n",
       "      <td>FALSE</td>\n",
       "      <td></td>\n",
       "    </tr>\n",
       "    <tr>\n",
       "      <th>2</th>\n",
       "      <td>Ann Ranish</td>\n",
       "      <td>annranish@gmail.com</td>\n",
       "      <td>Starbird</td>\n",
       "      <td>FALSE</td>\n",
       "      <td></td>\n",
       "    </tr>\n",
       "    <tr>\n",
       "      <th>3</th>\n",
       "      <td>Carol Peck</td>\n",
       "      <td>CAnative.carol@gmail.com</td>\n",
       "      <td>Gilroy</td>\n",
       "      <td>FALSE</td>\n",
       "      <td>Northern Gilroy?</td>\n",
       "    </tr>\n",
       "    <tr>\n",
       "      <th>4</th>\n",
       "      <td>Don Krafft</td>\n",
       "      <td>dfk@donkrafft.com</td>\n",
       "      <td>Morse Park</td>\n",
       "      <td>FALSE</td>\n",
       "      <td>Sunnyvale</td>\n",
       "    </tr>\n",
       "  </tbody>\n",
       "</table>\n",
       "</div>"
      ],
      "text/plain": [
       "             0                         1                                  2  \\\n",
       "0         Name                    e-mail  Residence - Nextdoor Neighborhood   \n",
       "1  Anita Rosen         anita@readygo.com                            Gemello   \n",
       "2   Ann Ranish       annranish@gmail.com                           Starbird   \n",
       "3   Carol Peck  CAnative.carol@gmail.com                             Gilroy   \n",
       "4   Don Krafft         dfk@donkrafft.com                         Morse Park   \n",
       "\n",
       "                      3                 4  \n",
       "0  Unknown Neighborhood             Notes  \n",
       "1                 FALSE                    \n",
       "2                 FALSE                    \n",
       "3                 FALSE  Northern Gilroy?  \n",
       "4                 FALSE         Sunnyvale  "
      ]
     },
     "execution_count": 35,
     "metadata": {},
     "output_type": "execute_result"
    }
   ],
   "source": [
    "df_contacts.head()"
   ]
  },
  {
   "cell_type": "code",
   "execution_count": 36,
   "metadata": {},
   "outputs": [],
   "source": [
    "df_contacts.reset_index()\n",
    "df_contacts.columns = ['Name', 'email', 'Residence - Nextdoor Neighborhood', 'Unknown Neighborhood', 'Notes']"
   ]
  },
  {
   "cell_type": "code",
   "execution_count": 37,
   "metadata": {},
   "outputs": [],
   "source": [
    "df_contacts = df_contacts[df_contacts['Name'] != 'Name']"
   ]
  },
  {
   "cell_type": "code",
   "execution_count": 38,
   "metadata": {},
   "outputs": [],
   "source": [
    "df_contacts['Residence - Nextdoor Neighborhood'] = df_contacts['Residence - Nextdoor Neighborhood'].str.title()"
   ]
  },
  {
   "cell_type": "code",
   "execution_count": 39,
   "metadata": {},
   "outputs": [
    {
     "data": {
      "text/html": [
       "<div>\n",
       "<style scoped>\n",
       "    .dataframe tbody tr th:only-of-type {\n",
       "        vertical-align: middle;\n",
       "    }\n",
       "\n",
       "    .dataframe tbody tr th {\n",
       "        vertical-align: top;\n",
       "    }\n",
       "\n",
       "    .dataframe thead th {\n",
       "        text-align: right;\n",
       "    }\n",
       "</style>\n",
       "<table border=\"1\" class=\"dataframe\">\n",
       "  <thead>\n",
       "    <tr style=\"text-align: right;\">\n",
       "      <th></th>\n",
       "      <th>Name</th>\n",
       "      <th>email</th>\n",
       "      <th>Residence - Nextdoor Neighborhood</th>\n",
       "      <th>Unknown Neighborhood</th>\n",
       "      <th>Notes</th>\n",
       "    </tr>\n",
       "  </thead>\n",
       "  <tbody>\n",
       "    <tr>\n",
       "      <th>1</th>\n",
       "      <td>Anita Rosen</td>\n",
       "      <td>anita@readygo.com</td>\n",
       "      <td>Gemello</td>\n",
       "      <td>FALSE</td>\n",
       "      <td></td>\n",
       "    </tr>\n",
       "    <tr>\n",
       "      <th>2</th>\n",
       "      <td>Ann Ranish</td>\n",
       "      <td>annranish@gmail.com</td>\n",
       "      <td>Starbird</td>\n",
       "      <td>FALSE</td>\n",
       "      <td></td>\n",
       "    </tr>\n",
       "    <tr>\n",
       "      <th>3</th>\n",
       "      <td>Carol Peck</td>\n",
       "      <td>CAnative.carol@gmail.com</td>\n",
       "      <td>Gilroy</td>\n",
       "      <td>FALSE</td>\n",
       "      <td>Northern Gilroy?</td>\n",
       "    </tr>\n",
       "    <tr>\n",
       "      <th>4</th>\n",
       "      <td>Don Krafft</td>\n",
       "      <td>dfk@donkrafft.com</td>\n",
       "      <td>Morse Park</td>\n",
       "      <td>FALSE</td>\n",
       "      <td>Sunnyvale</td>\n",
       "    </tr>\n",
       "    <tr>\n",
       "      <th>5</th>\n",
       "      <td>Jeff Jenks</td>\n",
       "      <td>jenks.jeff@gmail.com</td>\n",
       "      <td>Monta Vista</td>\n",
       "      <td>FALSE</td>\n",
       "      <td>Cupertino</td>\n",
       "    </tr>\n",
       "  </tbody>\n",
       "</table>\n",
       "</div>"
      ],
      "text/plain": [
       "          Name                     email Residence - Nextdoor Neighborhood  \\\n",
       "1  Anita Rosen         anita@readygo.com                           Gemello   \n",
       "2   Ann Ranish       annranish@gmail.com                          Starbird   \n",
       "3   Carol Peck  CAnative.carol@gmail.com                            Gilroy   \n",
       "4   Don Krafft         dfk@donkrafft.com                        Morse Park   \n",
       "5   Jeff Jenks      jenks.jeff@gmail.com                       Monta Vista   \n",
       "\n",
       "  Unknown Neighborhood             Notes  \n",
       "1                FALSE                    \n",
       "2                FALSE                    \n",
       "3                FALSE  Northern Gilroy?  \n",
       "4                FALSE         Sunnyvale  \n",
       "5                FALSE         Cupertino  "
      ]
     },
     "execution_count": 39,
     "metadata": {},
     "output_type": "execute_result"
    }
   ],
   "source": [
    "df_contacts.head()"
   ]
  },
  {
   "cell_type": "code",
   "execution_count": 40,
   "metadata": {},
   "outputs": [
    {
     "data": {
      "text/html": [
       "<div>\n",
       "<style scoped>\n",
       "    .dataframe tbody tr th:only-of-type {\n",
       "        vertical-align: middle;\n",
       "    }\n",
       "\n",
       "    .dataframe tbody tr th {\n",
       "        vertical-align: top;\n",
       "    }\n",
       "\n",
       "    .dataframe thead th {\n",
       "        text-align: right;\n",
       "    }\n",
       "</style>\n",
       "<table border=\"1\" class=\"dataframe\">\n",
       "  <thead>\n",
       "    <tr style=\"text-align: right;\">\n",
       "      <th></th>\n",
       "      <th>0</th>\n",
       "      <th>1</th>\n",
       "      <th>2</th>\n",
       "    </tr>\n",
       "  </thead>\n",
       "  <tbody>\n",
       "    <tr>\n",
       "      <th>0</th>\n",
       "      <td>Allie Judy</td>\n",
       "      <td>San Tomas</td>\n",
       "      <td>FALSE</td>\n",
       "    </tr>\n",
       "    <tr>\n",
       "      <th>1</th>\n",
       "      <td>Allie Judy</td>\n",
       "      <td>Newport Apartments</td>\n",
       "      <td>FALSE</td>\n",
       "    </tr>\n",
       "    <tr>\n",
       "      <th>2</th>\n",
       "      <td>Allie Judy</td>\n",
       "      <td>Hacienda</td>\n",
       "      <td>FALSE</td>\n",
       "    </tr>\n",
       "    <tr>\n",
       "      <th>3</th>\n",
       "      <td>Allie Judy</td>\n",
       "      <td>Pollard Road</td>\n",
       "      <td>FALSE</td>\n",
       "    </tr>\n",
       "    <tr>\n",
       "      <th>4</th>\n",
       "      <td>Allie Judy</td>\n",
       "      <td>Los Gatos Woods</td>\n",
       "      <td>FALSE</td>\n",
       "    </tr>\n",
       "  </tbody>\n",
       "</table>\n",
       "</div>"
      ],
      "text/plain": [
       "            0                   1      2\n",
       "0  Allie Judy           San Tomas  FALSE\n",
       "1  Allie Judy  Newport Apartments  FALSE\n",
       "2  Allie Judy            Hacienda  FALSE\n",
       "3  Allie Judy        Pollard Road  FALSE\n",
       "4  Allie Judy     Los Gatos Woods  FALSE"
      ]
     },
     "execution_count": 40,
     "metadata": {},
     "output_type": "execute_result"
    }
   ],
   "source": [
    "df_contact_neighborhood.head()"
   ]
  },
  {
   "cell_type": "code",
   "execution_count": 41,
   "metadata": {},
   "outputs": [],
   "source": [
    "df_contact_neighborhood.reset_index()\n",
    "df_contact_neighborhood.columns = ['Name', 'Nextdoor Neighborhood', 'Unknown Neighborhood']"
   ]
  },
  {
   "cell_type": "code",
   "execution_count": 42,
   "metadata": {},
   "outputs": [],
   "source": [
    "df_contact_neighborhood = df_contact_neighborhood[df_contact_neighborhood['Name'] != 'Name']"
   ]
  },
  {
   "cell_type": "code",
   "execution_count": 43,
   "metadata": {},
   "outputs": [
    {
     "data": {
      "text/html": [
       "<div>\n",
       "<style scoped>\n",
       "    .dataframe tbody tr th:only-of-type {\n",
       "        vertical-align: middle;\n",
       "    }\n",
       "\n",
       "    .dataframe tbody tr th {\n",
       "        vertical-align: top;\n",
       "    }\n",
       "\n",
       "    .dataframe thead th {\n",
       "        text-align: right;\n",
       "    }\n",
       "</style>\n",
       "<table border=\"1\" class=\"dataframe\">\n",
       "  <thead>\n",
       "    <tr style=\"text-align: right;\">\n",
       "      <th></th>\n",
       "      <th>Name</th>\n",
       "      <th>Nextdoor Neighborhood</th>\n",
       "      <th>Unknown Neighborhood</th>\n",
       "    </tr>\n",
       "  </thead>\n",
       "  <tbody>\n",
       "    <tr>\n",
       "      <th>0</th>\n",
       "      <td>Allie Judy</td>\n",
       "      <td>San Tomas</td>\n",
       "      <td>FALSE</td>\n",
       "    </tr>\n",
       "    <tr>\n",
       "      <th>1</th>\n",
       "      <td>Allie Judy</td>\n",
       "      <td>Newport Apartments</td>\n",
       "      <td>FALSE</td>\n",
       "    </tr>\n",
       "    <tr>\n",
       "      <th>2</th>\n",
       "      <td>Allie Judy</td>\n",
       "      <td>Hacienda</td>\n",
       "      <td>FALSE</td>\n",
       "    </tr>\n",
       "    <tr>\n",
       "      <th>3</th>\n",
       "      <td>Allie Judy</td>\n",
       "      <td>Pollard Road</td>\n",
       "      <td>FALSE</td>\n",
       "    </tr>\n",
       "    <tr>\n",
       "      <th>4</th>\n",
       "      <td>Allie Judy</td>\n",
       "      <td>Los Gatos Woods</td>\n",
       "      <td>FALSE</td>\n",
       "    </tr>\n",
       "  </tbody>\n",
       "</table>\n",
       "</div>"
      ],
      "text/plain": [
       "         Name Nextdoor Neighborhood Unknown Neighborhood\n",
       "0  Allie Judy             San Tomas                FALSE\n",
       "1  Allie Judy    Newport Apartments                FALSE\n",
       "2  Allie Judy              Hacienda                FALSE\n",
       "3  Allie Judy          Pollard Road                FALSE\n",
       "4  Allie Judy       Los Gatos Woods                FALSE"
      ]
     },
     "execution_count": 43,
     "metadata": {},
     "output_type": "execute_result"
    }
   ],
   "source": [
    "df_contact_neighborhood.head()"
   ]
  },
  {
   "cell_type": "code",
   "execution_count": 44,
   "metadata": {},
   "outputs": [],
   "source": [
    "df_contact_neighborhood['Nextdoor Neighborhood'] = df_contact_neighborhood['Nextdoor Neighborhood'].str.title()"
   ]
  },
  {
   "cell_type": "code",
   "execution_count": 45,
   "metadata": {},
   "outputs": [
    {
     "data": {
      "text/html": [
       "<div>\n",
       "<style scoped>\n",
       "    .dataframe tbody tr th:only-of-type {\n",
       "        vertical-align: middle;\n",
       "    }\n",
       "\n",
       "    .dataframe tbody tr th {\n",
       "        vertical-align: top;\n",
       "    }\n",
       "\n",
       "    .dataframe thead th {\n",
       "        text-align: right;\n",
       "    }\n",
       "</style>\n",
       "<table border=\"1\" class=\"dataframe\">\n",
       "  <thead>\n",
       "    <tr style=\"text-align: right;\">\n",
       "      <th></th>\n",
       "      <th>Name</th>\n",
       "      <th>Nextdoor Neighborhood</th>\n",
       "      <th>Unknown Neighborhood</th>\n",
       "    </tr>\n",
       "  </thead>\n",
       "  <tbody>\n",
       "    <tr>\n",
       "      <th>0</th>\n",
       "      <td>Allie Judy</td>\n",
       "      <td>San Tomas</td>\n",
       "      <td>FALSE</td>\n",
       "    </tr>\n",
       "    <tr>\n",
       "      <th>1</th>\n",
       "      <td>Allie Judy</td>\n",
       "      <td>Newport Apartments</td>\n",
       "      <td>FALSE</td>\n",
       "    </tr>\n",
       "    <tr>\n",
       "      <th>2</th>\n",
       "      <td>Allie Judy</td>\n",
       "      <td>Hacienda</td>\n",
       "      <td>FALSE</td>\n",
       "    </tr>\n",
       "    <tr>\n",
       "      <th>3</th>\n",
       "      <td>Allie Judy</td>\n",
       "      <td>Pollard Road</td>\n",
       "      <td>FALSE</td>\n",
       "    </tr>\n",
       "    <tr>\n",
       "      <th>4</th>\n",
       "      <td>Allie Judy</td>\n",
       "      <td>Los Gatos Woods</td>\n",
       "      <td>FALSE</td>\n",
       "    </tr>\n",
       "  </tbody>\n",
       "</table>\n",
       "</div>"
      ],
      "text/plain": [
       "         Name Nextdoor Neighborhood Unknown Neighborhood\n",
       "0  Allie Judy             San Tomas                FALSE\n",
       "1  Allie Judy    Newport Apartments                FALSE\n",
       "2  Allie Judy              Hacienda                FALSE\n",
       "3  Allie Judy          Pollard Road                FALSE\n",
       "4  Allie Judy       Los Gatos Woods                FALSE"
      ]
     },
     "execution_count": 45,
     "metadata": {},
     "output_type": "execute_result"
    }
   ],
   "source": [
    "df_contact_neighborhood.head()"
   ]
  },
  {
   "cell_type": "code",
   "execution_count": 46,
   "metadata": {},
   "outputs": [
    {
     "data": {
      "text/html": [
       "<div>\n",
       "<style scoped>\n",
       "    .dataframe tbody tr th:only-of-type {\n",
       "        vertical-align: middle;\n",
       "    }\n",
       "\n",
       "    .dataframe tbody tr th {\n",
       "        vertical-align: top;\n",
       "    }\n",
       "\n",
       "    .dataframe thead th {\n",
       "        text-align: right;\n",
       "    }\n",
       "</style>\n",
       "<table border=\"1\" class=\"dataframe\">\n",
       "  <thead>\n",
       "    <tr style=\"text-align: right;\">\n",
       "      <th></th>\n",
       "      <th>0</th>\n",
       "      <th>1</th>\n",
       "      <th>2</th>\n",
       "      <th>3</th>\n",
       "      <th>4</th>\n",
       "    </tr>\n",
       "  </thead>\n",
       "  <tbody>\n",
       "    <tr>\n",
       "      <th>0</th>\n",
       "      <td>State</td>\n",
       "      <td>County</td>\n",
       "      <td>City</td>\n",
       "      <td>Neighborhood</td>\n",
       "      <td>link</td>\n",
       "    </tr>\n",
       "    <tr>\n",
       "      <th>1</th>\n",
       "      <td>CA</td>\n",
       "      <td>Santa Clara</td>\n",
       "      <td>San Jose</td>\n",
       "      <td>Albanese Circle</td>\n",
       "      <td>https://nextdoor.com/neighborhood/albanesecirc...</td>\n",
       "    </tr>\n",
       "    <tr>\n",
       "      <th>2</th>\n",
       "      <td>CA</td>\n",
       "      <td>Santa Clara</td>\n",
       "      <td>San Jose</td>\n",
       "      <td>Almaden</td>\n",
       "      <td>https://nextdoor.com/neighborhood/almadenca--s...</td>\n",
       "    </tr>\n",
       "    <tr>\n",
       "      <th>3</th>\n",
       "      <td>CA</td>\n",
       "      <td>Santa Clara</td>\n",
       "      <td>San Jose</td>\n",
       "      <td>Alvin/Burdette</td>\n",
       "      <td>https://nextdoor.com/neighborhood/7alvinburdet...</td>\n",
       "    </tr>\n",
       "    <tr>\n",
       "      <th>4</th>\n",
       "      <td>CA</td>\n",
       "      <td>Santa Clara</td>\n",
       "      <td>San Jose</td>\n",
       "      <td>Alviso</td>\n",
       "      <td>https://nextdoor.com/neighborhood/4alviso--san...</td>\n",
       "    </tr>\n",
       "  </tbody>\n",
       "</table>\n",
       "</div>"
      ],
      "text/plain": [
       "       0            1         2                3  \\\n",
       "0  State       County      City     Neighborhood   \n",
       "1     CA  Santa Clara  San Jose  Albanese Circle   \n",
       "2     CA  Santa Clara  San Jose          Almaden   \n",
       "3     CA  Santa Clara  San Jose   Alvin/Burdette   \n",
       "4     CA  Santa Clara  San Jose           Alviso   \n",
       "\n",
       "                                                   4  \n",
       "0                                               link  \n",
       "1  https://nextdoor.com/neighborhood/albanesecirc...  \n",
       "2  https://nextdoor.com/neighborhood/almadenca--s...  \n",
       "3  https://nextdoor.com/neighborhood/7alvinburdet...  \n",
       "4  https://nextdoor.com/neighborhood/4alviso--san...  "
      ]
     },
     "execution_count": 46,
     "metadata": {},
     "output_type": "execute_result"
    }
   ],
   "source": [
    "df_nextdoor_neighborhoods.head()"
   ]
  },
  {
   "cell_type": "code",
   "execution_count": 47,
   "metadata": {},
   "outputs": [],
   "source": [
    "df_nextdoor_neighborhoods.reset_index()\n",
    "df_nextdoor_neighborhoods.columns = ['State', 'County', 'City', 'Neighborhood', 'Link']"
   ]
  },
  {
   "cell_type": "code",
   "execution_count": 48,
   "metadata": {},
   "outputs": [],
   "source": [
    "df_nextdoor_neighborhoods = df_nextdoor_neighborhoods[df_nextdoor_neighborhoods['Neighborhood'] != 'Neighborhood']"
   ]
  },
  {
   "cell_type": "code",
   "execution_count": 49,
   "metadata": {},
   "outputs": [
    {
     "data": {
      "text/html": [
       "<div>\n",
       "<style scoped>\n",
       "    .dataframe tbody tr th:only-of-type {\n",
       "        vertical-align: middle;\n",
       "    }\n",
       "\n",
       "    .dataframe tbody tr th {\n",
       "        vertical-align: top;\n",
       "    }\n",
       "\n",
       "    .dataframe thead th {\n",
       "        text-align: right;\n",
       "    }\n",
       "</style>\n",
       "<table border=\"1\" class=\"dataframe\">\n",
       "  <thead>\n",
       "    <tr style=\"text-align: right;\">\n",
       "      <th></th>\n",
       "      <th>State</th>\n",
       "      <th>County</th>\n",
       "      <th>City</th>\n",
       "      <th>Neighborhood</th>\n",
       "      <th>Link</th>\n",
       "    </tr>\n",
       "  </thead>\n",
       "  <tbody>\n",
       "    <tr>\n",
       "      <th>1</th>\n",
       "      <td>CA</td>\n",
       "      <td>Santa Clara</td>\n",
       "      <td>San Jose</td>\n",
       "      <td>Albanese Circle</td>\n",
       "      <td>https://nextdoor.com/neighborhood/albanesecirc...</td>\n",
       "    </tr>\n",
       "    <tr>\n",
       "      <th>2</th>\n",
       "      <td>CA</td>\n",
       "      <td>Santa Clara</td>\n",
       "      <td>San Jose</td>\n",
       "      <td>Almaden</td>\n",
       "      <td>https://nextdoor.com/neighborhood/almadenca--s...</td>\n",
       "    </tr>\n",
       "    <tr>\n",
       "      <th>3</th>\n",
       "      <td>CA</td>\n",
       "      <td>Santa Clara</td>\n",
       "      <td>San Jose</td>\n",
       "      <td>Alvin/Burdette</td>\n",
       "      <td>https://nextdoor.com/neighborhood/7alvinburdet...</td>\n",
       "    </tr>\n",
       "    <tr>\n",
       "      <th>4</th>\n",
       "      <td>CA</td>\n",
       "      <td>Santa Clara</td>\n",
       "      <td>San Jose</td>\n",
       "      <td>Alviso</td>\n",
       "      <td>https://nextdoor.com/neighborhood/4alviso--san...</td>\n",
       "    </tr>\n",
       "    <tr>\n",
       "      <th>5</th>\n",
       "      <td>CA</td>\n",
       "      <td>Santa Clara</td>\n",
       "      <td>San Jose</td>\n",
       "      <td>Anne Darling - Little Portugal North</td>\n",
       "      <td>https://nextdoor.com/neighborhood/3littleportu...</td>\n",
       "    </tr>\n",
       "  </tbody>\n",
       "</table>\n",
       "</div>"
      ],
      "text/plain": [
       "  State       County      City                          Neighborhood  \\\n",
       "1    CA  Santa Clara  San Jose                       Albanese Circle   \n",
       "2    CA  Santa Clara  San Jose                               Almaden   \n",
       "3    CA  Santa Clara  San Jose                        Alvin/Burdette   \n",
       "4    CA  Santa Clara  San Jose                                Alviso   \n",
       "5    CA  Santa Clara  San Jose  Anne Darling - Little Portugal North   \n",
       "\n",
       "                                                Link  \n",
       "1  https://nextdoor.com/neighborhood/albanesecirc...  \n",
       "2  https://nextdoor.com/neighborhood/almadenca--s...  \n",
       "3  https://nextdoor.com/neighborhood/7alvinburdet...  \n",
       "4  https://nextdoor.com/neighborhood/4alviso--san...  \n",
       "5  https://nextdoor.com/neighborhood/3littleportu...  "
      ]
     },
     "execution_count": 49,
     "metadata": {},
     "output_type": "execute_result"
    }
   ],
   "source": [
    "df_nextdoor_neighborhoods.head()"
   ]
  },
  {
   "cell_type": "code",
   "execution_count": 61,
   "metadata": {},
   "outputs": [
    {
     "data": {
      "text/html": [
       "<div>\n",
       "<style scoped>\n",
       "    .dataframe tbody tr th:only-of-type {\n",
       "        vertical-align: middle;\n",
       "    }\n",
       "\n",
       "    .dataframe tbody tr th {\n",
       "        vertical-align: top;\n",
       "    }\n",
       "\n",
       "    .dataframe thead th {\n",
       "        text-align: right;\n",
       "    }\n",
       "</style>\n",
       "<table border=\"1\" class=\"dataframe\">\n",
       "  <thead>\n",
       "    <tr style=\"text-align: right;\">\n",
       "      <th></th>\n",
       "      <th>Name</th>\n",
       "      <th>Nextdoor Neighborhood</th>\n",
       "      <th>Unknown Neighborhood</th>\n",
       "      <th>Similar Google Neighborhood</th>\n",
       "    </tr>\n",
       "  </thead>\n",
       "  <tbody>\n",
       "    <tr>\n",
       "      <th>1</th>\n",
       "      <td>Allie Judy</td>\n",
       "      <td>San Tomas</td>\n",
       "      <td>FALSE</td>\n",
       "      <td>[San Tomas]</td>\n",
       "    </tr>\n",
       "    <tr>\n",
       "      <th>2</th>\n",
       "      <td>Allie Judy</td>\n",
       "      <td>Newport Apartments</td>\n",
       "      <td>FALSE</td>\n",
       "      <td>[]</td>\n",
       "    </tr>\n",
       "    <tr>\n",
       "      <th>3</th>\n",
       "      <td>Allie Judy</td>\n",
       "      <td>Hacienda</td>\n",
       "      <td>FALSE</td>\n",
       "      <td>[]</td>\n",
       "    </tr>\n",
       "    <tr>\n",
       "      <th>4</th>\n",
       "      <td>Allie Judy</td>\n",
       "      <td>Pollard Road</td>\n",
       "      <td>FALSE</td>\n",
       "      <td>[]</td>\n",
       "    </tr>\n",
       "    <tr>\n",
       "      <th>5</th>\n",
       "      <td>Allie Judy</td>\n",
       "      <td>Los Gatos Woods</td>\n",
       "      <td>FALSE</td>\n",
       "      <td>[]</td>\n",
       "    </tr>\n",
       "  </tbody>\n",
       "</table>\n",
       "</div>"
      ],
      "text/plain": [
       "         Name Nextdoor Neighborhood Unknown Neighborhood  \\\n",
       "1  Allie Judy             San Tomas                FALSE   \n",
       "2  Allie Judy    Newport Apartments                FALSE   \n",
       "3  Allie Judy              Hacienda                FALSE   \n",
       "4  Allie Judy          Pollard Road                FALSE   \n",
       "5  Allie Judy       Los Gatos Woods                FALSE   \n",
       "\n",
       "  Similar Google Neighborhood  \n",
       "1                 [San Tomas]  \n",
       "2                          []  \n",
       "3                          []  \n",
       "4                          []  \n",
       "5                          []  "
      ]
     },
     "execution_count": 61,
     "metadata": {},
     "output_type": "execute_result"
    }
   ],
   "source": [
    "df_contact_neighborhood.head()"
   ]
  },
  {
   "cell_type": "code",
   "execution_count": 50,
   "metadata": {
    "scrolled": true
   },
   "outputs": [
    {
     "data": {
      "text/html": [
       "<div>\n",
       "<style scoped>\n",
       "    .dataframe tbody tr th:only-of-type {\n",
       "        vertical-align: middle;\n",
       "    }\n",
       "\n",
       "    .dataframe tbody tr th {\n",
       "        vertical-align: top;\n",
       "    }\n",
       "\n",
       "    .dataframe thead th {\n",
       "        text-align: right;\n",
       "    }\n",
       "</style>\n",
       "<table border=\"1\" class=\"dataframe\">\n",
       "  <thead>\n",
       "    <tr style=\"text-align: right;\">\n",
       "      <th></th>\n",
       "      <th>0</th>\n",
       "      <th>1</th>\n",
       "      <th>2</th>\n",
       "      <th>3</th>\n",
       "      <th>4</th>\n",
       "      <th>5</th>\n",
       "    </tr>\n",
       "  </thead>\n",
       "  <tbody>\n",
       "    <tr>\n",
       "      <th>0</th>\n",
       "      <td>State</td>\n",
       "      <td>County</td>\n",
       "      <td>City</td>\n",
       "      <td>Neighborhood</td>\n",
       "      <td>RegionID</td>\n",
       "      <td>geometry</td>\n",
       "    </tr>\n",
       "    <tr>\n",
       "      <th>1</th>\n",
       "      <td>CA</td>\n",
       "      <td>Santa Clara</td>\n",
       "      <td>San Jose</td>\n",
       "      <td>Alviso</td>\n",
       "      <td>8075</td>\n",
       "      <td>POLYGON ((-121.9423569999999 37.46496300000007...</td>\n",
       "    </tr>\n",
       "    <tr>\n",
       "      <th>2</th>\n",
       "      <td>CA</td>\n",
       "      <td>Santa Clara</td>\n",
       "      <td>San Jose</td>\n",
       "      <td>Cambrian Park</td>\n",
       "      <td>114074</td>\n",
       "      <td>POLYGON ((-121.878978755 37.27530488000008, -1...</td>\n",
       "    </tr>\n",
       "    <tr>\n",
       "      <th>3</th>\n",
       "      <td>CA</td>\n",
       "      <td>Santa Clara</td>\n",
       "      <td>Cupertino</td>\n",
       "      <td>Rancho Rinconada</td>\n",
       "      <td>117559</td>\n",
       "      <td>POLYGON ((-122.00649 37.32295, -122.004603875 ...</td>\n",
       "    </tr>\n",
       "    <tr>\n",
       "      <th>4</th>\n",
       "      <td>CA</td>\n",
       "      <td>Santa Clara</td>\n",
       "      <td>Campbell</td>\n",
       "      <td>San Tomas</td>\n",
       "      <td>117891</td>\n",
       "      <td>POLYGON ((-121.9526834979999 37.27366922400006...</td>\n",
       "    </tr>\n",
       "  </tbody>\n",
       "</table>\n",
       "</div>"
      ],
      "text/plain": [
       "       0            1          2                 3         4  \\\n",
       "0  State       County       City      Neighborhood  RegionID   \n",
       "1     CA  Santa Clara   San Jose            Alviso      8075   \n",
       "2     CA  Santa Clara   San Jose     Cambrian Park    114074   \n",
       "3     CA  Santa Clara  Cupertino  Rancho Rinconada    117559   \n",
       "4     CA  Santa Clara   Campbell         San Tomas    117891   \n",
       "\n",
       "                                                   5  \n",
       "0                                           geometry  \n",
       "1  POLYGON ((-121.9423569999999 37.46496300000007...  \n",
       "2  POLYGON ((-121.878978755 37.27530488000008, -1...  \n",
       "3  POLYGON ((-122.00649 37.32295, -122.004603875 ...  \n",
       "4  POLYGON ((-121.9526834979999 37.27366922400006...  "
      ]
     },
     "execution_count": 50,
     "metadata": {},
     "output_type": "execute_result"
    }
   ],
   "source": [
    "df_zillow_neighborhoods.head()"
   ]
  },
  {
   "cell_type": "code",
   "execution_count": 51,
   "metadata": {},
   "outputs": [],
   "source": [
    "df_zillow_neighborhoods.reset_index()\n",
    "df_zillow_neighborhoods.columns = ['State', 'County', 'City', 'Neighborhood', 'RegionID', 'Geometry']"
   ]
  },
  {
   "cell_type": "code",
   "execution_count": 52,
   "metadata": {},
   "outputs": [],
   "source": [
    "df_zillow_neighborhoods = df_zillow_neighborhoods[df_zillow_neighborhoods['Neighborhood'] != 'Neighborhood']"
   ]
  },
  {
   "cell_type": "code",
   "execution_count": 53,
   "metadata": {},
   "outputs": [
    {
     "data": {
      "text/html": [
       "<div>\n",
       "<style scoped>\n",
       "    .dataframe tbody tr th:only-of-type {\n",
       "        vertical-align: middle;\n",
       "    }\n",
       "\n",
       "    .dataframe tbody tr th {\n",
       "        vertical-align: top;\n",
       "    }\n",
       "\n",
       "    .dataframe thead th {\n",
       "        text-align: right;\n",
       "    }\n",
       "</style>\n",
       "<table border=\"1\" class=\"dataframe\">\n",
       "  <thead>\n",
       "    <tr style=\"text-align: right;\">\n",
       "      <th></th>\n",
       "      <th>State</th>\n",
       "      <th>County</th>\n",
       "      <th>City</th>\n",
       "      <th>Neighborhood</th>\n",
       "      <th>RegionID</th>\n",
       "      <th>Geometry</th>\n",
       "    </tr>\n",
       "  </thead>\n",
       "  <tbody>\n",
       "    <tr>\n",
       "      <th>1</th>\n",
       "      <td>CA</td>\n",
       "      <td>Santa Clara</td>\n",
       "      <td>San Jose</td>\n",
       "      <td>Alviso</td>\n",
       "      <td>8075</td>\n",
       "      <td>POLYGON ((-121.9423569999999 37.46496300000007...</td>\n",
       "    </tr>\n",
       "    <tr>\n",
       "      <th>2</th>\n",
       "      <td>CA</td>\n",
       "      <td>Santa Clara</td>\n",
       "      <td>San Jose</td>\n",
       "      <td>Cambrian Park</td>\n",
       "      <td>114074</td>\n",
       "      <td>POLYGON ((-121.878978755 37.27530488000008, -1...</td>\n",
       "    </tr>\n",
       "    <tr>\n",
       "      <th>3</th>\n",
       "      <td>CA</td>\n",
       "      <td>Santa Clara</td>\n",
       "      <td>Cupertino</td>\n",
       "      <td>Rancho Rinconada</td>\n",
       "      <td>117559</td>\n",
       "      <td>POLYGON ((-122.00649 37.32295, -122.004603875 ...</td>\n",
       "    </tr>\n",
       "    <tr>\n",
       "      <th>4</th>\n",
       "      <td>CA</td>\n",
       "      <td>Santa Clara</td>\n",
       "      <td>Campbell</td>\n",
       "      <td>San Tomas</td>\n",
       "      <td>117891</td>\n",
       "      <td>POLYGON ((-121.9526834979999 37.27366922400006...</td>\n",
       "    </tr>\n",
       "    <tr>\n",
       "      <th>5</th>\n",
       "      <td>CA</td>\n",
       "      <td>Santa Clara</td>\n",
       "      <td>San Jose</td>\n",
       "      <td>Berryessa</td>\n",
       "      <td>113736</td>\n",
       "      <td>POLYGON ((-121.8202519999999 37.43812700000007...</td>\n",
       "    </tr>\n",
       "  </tbody>\n",
       "</table>\n",
       "</div>"
      ],
      "text/plain": [
       "  State       County       City      Neighborhood RegionID  \\\n",
       "1    CA  Santa Clara   San Jose            Alviso     8075   \n",
       "2    CA  Santa Clara   San Jose     Cambrian Park   114074   \n",
       "3    CA  Santa Clara  Cupertino  Rancho Rinconada   117559   \n",
       "4    CA  Santa Clara   Campbell         San Tomas   117891   \n",
       "5    CA  Santa Clara   San Jose         Berryessa   113736   \n",
       "\n",
       "                                            Geometry  \n",
       "1  POLYGON ((-121.9423569999999 37.46496300000007...  \n",
       "2  POLYGON ((-121.878978755 37.27530488000008, -1...  \n",
       "3  POLYGON ((-122.00649 37.32295, -122.004603875 ...  \n",
       "4  POLYGON ((-121.9526834979999 37.27366922400006...  \n",
       "5  POLYGON ((-121.8202519999999 37.43812700000007...  "
      ]
     },
     "execution_count": 53,
     "metadata": {},
     "output_type": "execute_result"
    }
   ],
   "source": [
    "df_zillow_neighborhoods.head()"
   ]
  },
  {
   "cell_type": "code",
   "execution_count": 54,
   "metadata": {},
   "outputs": [],
   "source": [
    "df_contacts.to_csv('mg_contacts_master.csv', index=False)\n",
    "df_contact_neighborhood.to_csv('mg_contact_neighborhood_master.csv', index=False)"
   ]
  },
  {
   "cell_type": "markdown",
   "metadata": {},
   "source": [
    "## Scraping Nextdoor Neighborhoods"
   ]
  },
  {
   "cell_type": "code",
   "execution_count": 77,
   "metadata": {},
   "outputs": [],
   "source": [
    "state = 'CA'\n",
    "state_url = 'https://nextdoor.com/find-neighborhood/' + state + '/'"
   ]
  },
  {
   "cell_type": "code",
   "execution_count": 78,
   "metadata": {},
   "outputs": [
    {
     "data": {
      "text/plain": [
       "bs4.BeautifulSoup"
      ]
     },
     "execution_count": 78,
     "metadata": {},
     "output_type": "execute_result"
    }
   ],
   "source": [
    "from requests import get\n",
    "response = requests.get(state_url)\n",
    "html_soup = BeautifulSoup(response.text, 'html.parser')\n",
    "type(html_soup)"
   ]
  },
  {
   "cell_type": "code",
   "execution_count": 79,
   "metadata": {},
   "outputs": [
    {
     "name": "stdout",
     "output_type": "stream",
     "text": [
      "<class 'bs4.element.ResultSet'>\n",
      "24\n"
     ]
    }
   ],
   "source": [
    "hood_city_group = html_soup.find_all('div', class_ = 'hood_group')\n",
    "print(type(hood_city_group))\n",
    "print(len(hood_city_group))"
   ]
  },
  {
   "cell_type": "code",
   "execution_count": 80,
   "metadata": {},
   "outputs": [
    {
     "data": {
      "text/html": [
       "<div>\n",
       "<style scoped>\n",
       "    .dataframe tbody tr th:only-of-type {\n",
       "        vertical-align: middle;\n",
       "    }\n",
       "\n",
       "    .dataframe tbody tr th {\n",
       "        vertical-align: top;\n",
       "    }\n",
       "\n",
       "    .dataframe thead th {\n",
       "        text-align: right;\n",
       "    }\n",
       "</style>\n",
       "<table border=\"1\" class=\"dataframe\">\n",
       "  <thead>\n",
       "    <tr style=\"text-align: right;\">\n",
       "      <th></th>\n",
       "      <th>State</th>\n",
       "      <th>City</th>\n",
       "      <th>Link</th>\n",
       "    </tr>\n",
       "  </thead>\n",
       "  <tbody>\n",
       "    <tr>\n",
       "      <th>0</th>\n",
       "      <td>NaN</td>\n",
       "      <td>NaN</td>\n",
       "      <td>NaN</td>\n",
       "    </tr>\n",
       "  </tbody>\n",
       "</table>\n",
       "</div>"
      ],
      "text/plain": [
       "  State City Link\n",
       "0   NaN  NaN  NaN"
      ]
     },
     "execution_count": 80,
     "metadata": {},
     "output_type": "execute_result"
    }
   ],
   "source": [
    "df_cities = pd.DataFrame(index=range(5000), columns = ['State', 'City', 'Link'])\n",
    "df_loc = 0\n",
    "df_cities.head(1)"
   ]
  },
  {
   "cell_type": "markdown",
   "metadata": {
    "scrolled": false
   },
   "source": [
    "for div in hood_city_group:\n",
    "    city_links = div.findAll('a')\n",
    "    for a in city_links:\n",
    "        df_cities.iloc[df_loc, df_cities.columns.get_loc(\"State\")] = 'CA'\n",
    "        df_cities.iloc[df_loc, df_cities.columns.get_loc(\"City\")] = a.string\n",
    "        df_cities.iloc[df_loc, df_cities.columns.get_loc(\"Link\")] = a['href'].strip()\n",
    "        df_loc += 1\n",
    "\n",
    "df_cities.dropna(axis = 0, inplace=True)\n",
    "print(df_loc)"
   ]
  },
  {
   "cell_type": "markdown",
   "metadata": {},
   "source": [
    "df_cities.reindex(columns=['State','County','City', 'Link'])\n",
    "df_cities.head(1)"
   ]
  },
  {
   "cell_type": "markdown",
   "metadata": {},
   "source": [
    "df_cities.to_csv('mg_nextdoor_california_cities.csv', index=False)"
   ]
  },
  {
   "cell_type": "code",
   "execution_count": 84,
   "metadata": {},
   "outputs": [],
   "source": [
    "cities = ['San Jose','Santa Clara','Sunnyvale', 'Palo Alto','Mountain View',\\\n",
    "          'Cupertino','Milpitas','Los Gatos', 'Gilroy', 'Morgan Hill', 'Campbell',\\\n",
    "          'Los Altos','Saratoga', 'Stanford', 'Los Altos Hills',\\\n",
    "          'San Martin']"
   ]
  },
  {
   "cell_type": "markdown",
   "metadata": {},
   "source": [
    "df_nextdoor_neighborhoods = pd.DataFrame(index=range(7000), columns = ['State', 'County', 'City', 'Neighborhood', 'Link'])\n",
    "df_loc = 0\n",
    "df_nextdoor_neighborhoods.head(1)"
   ]
  },
  {
   "cell_type": "markdown",
   "metadata": {},
   "source": [
    "for city in cities:\n",
    "    print(city)\n",
    "    city_lookup = df_cities[df_cities['City'] == city][\"Link\"].values[0]\n",
    "    print(city_lookup)\n",
    "    response = requests.get(city_lookup)\n",
    "    responseTxt = response.text.encode('UTF-8')\n",
    "    html_soup = BeautifulSoup(responseTxt, 'html.parser')\n",
    "    type(html_soup) \n",
    "    hood_neighborhood_group = html_soup.find_all('div', class_ = 'hood_group')\n",
    "    print(type(hood_neighborhood_group))\n",
    "    print(len(hood_neighborhood_group))\n",
    "   \n",
    "    for div in hood_neighborhood_group:\n",
    "        neighborhood_links = div.findAll('a')\n",
    "        for a in neighborhood_links:\n",
    "            print(city + \" \" + a.string + \" \" +  a['href'])\n",
    "            df_nextdoor_neighborhoods.iloc[df_loc, df_nextdoor_neighborhoods.columns.get_loc(\"State\")] = 'CA'\n",
    "            df_nextdoor_neighborhoods.iloc[df_loc, df_nextdoor_neighborhoods.columns.get_loc(\"County\")] = 'Santa Clara'\n",
    "            df_nextdoor_neighborhoods.iloc[df_loc, df_nextdoor_neighborhoods.columns.get_loc(\"City\")] = city\n",
    "            df_nextdoor_neighborhoods.iloc[df_loc, df_nextdoor_neighborhoods.columns.get_loc(\"Neighborhood\")] = str(a.string.encode('UTF-8'))\n",
    "            df_nextdoor_neighborhoods.iloc[df_loc, df_nextdoor_neighborhoods.columns.get_loc(\"Link\")] = str(a['href'].strip())\n",
    "            df_loc += 1\n",
    "\n",
    "df_nextdoor_neighborhoods.dropna(axis = 0, inplace=True)\n",
    "print(df_loc)"
   ]
  },
  {
   "cell_type": "markdown",
   "metadata": {},
   "source": [
    "df_nextdoor_neighborhoods.head(3)"
   ]
  },
  {
   "cell_type": "markdown",
   "metadata": {},
   "source": [
    "df_nextdoor_neighborhoods.to_csv('mg_nextdoor_neighborhoods_master.csv', index=False)"
   ]
  },
  {
   "cell_type": "code",
   "execution_count": 55,
   "metadata": {},
   "outputs": [],
   "source": [
    "df_contact_neighborhood['Similar Nextdoor Neighborhood'] = 'None'\n",
    "df_contacts['Similar Nextdoor Neighborhood'] = 'None'"
   ]
  },
  {
   "cell_type": "code",
   "execution_count": 56,
   "metadata": {},
   "outputs": [],
   "source": [
    "neighborhoods = list(df_nextdoor_neighborhoods['Neighborhood'])\n",
    "for index, row in df_contact_neighborhood.iterrows():\n",
    "    row['Similar Nextdoor Neighborhood'] = difflib.get_close_matches(row['Nextdoor Neighborhood'].lower(), neighborhoods)"
   ]
  },
  {
   "cell_type": "code",
   "execution_count": 57,
   "metadata": {},
   "outputs": [],
   "source": [
    "for index, row in df_contacts.iterrows():\n",
    "    row['Similar Nextdoor Neighborhood'] = difflib.get_close_matches(row['Residence - Nextdoor Neighborhood'].lower(), neighborhoods)"
   ]
  },
  {
   "cell_type": "code",
   "execution_count": 58,
   "metadata": {},
   "outputs": [
    {
     "data": {
      "text/html": [
       "<div>\n",
       "<style scoped>\n",
       "    .dataframe tbody tr th:only-of-type {\n",
       "        vertical-align: middle;\n",
       "    }\n",
       "\n",
       "    .dataframe tbody tr th {\n",
       "        vertical-align: top;\n",
       "    }\n",
       "\n",
       "    .dataframe thead th {\n",
       "        text-align: right;\n",
       "    }\n",
       "</style>\n",
       "<table border=\"1\" class=\"dataframe\">\n",
       "  <thead>\n",
       "    <tr style=\"text-align: right;\">\n",
       "      <th></th>\n",
       "      <th>Name</th>\n",
       "      <th>email</th>\n",
       "      <th>Residence - Nextdoor Neighborhood</th>\n",
       "      <th>Unknown Neighborhood</th>\n",
       "      <th>Notes</th>\n",
       "      <th>Similar Nextdoor Neighborhood</th>\n",
       "    </tr>\n",
       "  </thead>\n",
       "  <tbody>\n",
       "    <tr>\n",
       "      <th>1</th>\n",
       "      <td>Anita Rosen</td>\n",
       "      <td>anita@readygo.com</td>\n",
       "      <td>Gemello</td>\n",
       "      <td>FALSE</td>\n",
       "      <td></td>\n",
       "      <td>[Gemello]</td>\n",
       "    </tr>\n",
       "  </tbody>\n",
       "</table>\n",
       "</div>"
      ],
      "text/plain": [
       "          Name              email Residence - Nextdoor Neighborhood  \\\n",
       "1  Anita Rosen  anita@readygo.com                           Gemello   \n",
       "\n",
       "  Unknown Neighborhood Notes Similar Nextdoor Neighborhood  \n",
       "1                FALSE                           [Gemello]  "
      ]
     },
     "execution_count": 58,
     "metadata": {},
     "output_type": "execute_result"
    }
   ],
   "source": [
    "df_contacts.head(1)"
   ]
  },
  {
   "cell_type": "code",
   "execution_count": 59,
   "metadata": {},
   "outputs": [
    {
     "data": {
      "text/html": [
       "<div>\n",
       "<style scoped>\n",
       "    .dataframe tbody tr th:only-of-type {\n",
       "        vertical-align: middle;\n",
       "    }\n",
       "\n",
       "    .dataframe tbody tr th {\n",
       "        vertical-align: top;\n",
       "    }\n",
       "\n",
       "    .dataframe thead th {\n",
       "        text-align: right;\n",
       "    }\n",
       "</style>\n",
       "<table border=\"1\" class=\"dataframe\">\n",
       "  <thead>\n",
       "    <tr style=\"text-align: right;\">\n",
       "      <th></th>\n",
       "      <th>Name</th>\n",
       "      <th>Nextdoor Neighborhood</th>\n",
       "      <th>Unknown Neighborhood</th>\n",
       "      <th>Similar Nextdoor Neighborhood</th>\n",
       "    </tr>\n",
       "  </thead>\n",
       "  <tbody>\n",
       "    <tr>\n",
       "      <th>0</th>\n",
       "      <td>Allie Judy</td>\n",
       "      <td>San Tomas</td>\n",
       "      <td>FALSE</td>\n",
       "      <td>[San Tomas]</td>\n",
       "    </tr>\n",
       "  </tbody>\n",
       "</table>\n",
       "</div>"
      ],
      "text/plain": [
       "         Name Nextdoor Neighborhood Unknown Neighborhood  \\\n",
       "0  Allie Judy             San Tomas                FALSE   \n",
       "\n",
       "  Similar Nextdoor Neighborhood  \n",
       "0                   [San Tomas]  "
      ]
     },
     "execution_count": 59,
     "metadata": {},
     "output_type": "execute_result"
    }
   ],
   "source": [
    "df_contact_neighborhood.head(1)"
   ]
  },
  {
   "cell_type": "code",
   "execution_count": 60,
   "metadata": {},
   "outputs": [
    {
     "data": {
      "text/plain": [
       "319"
      ]
     },
     "execution_count": 60,
     "metadata": {},
     "output_type": "execute_result"
    }
   ],
   "source": [
    "df_contact_neighborhood['Nextdoor Neighborhood'].nunique()"
   ]
  },
  {
   "cell_type": "code",
   "execution_count": 61,
   "metadata": {
    "collapsed": true
   },
   "outputs": [
    {
     "data": {
      "text/plain": [
       "Upper Sierra                        3\n",
       "Mccollam                            2\n",
       "Woodland Acres                      2\n",
       "Summerdale                          2\n",
       "Sunshine                            2\n",
       "Pollard Road                        2\n",
       "Piedmont                            2\n",
       "Old Mountain View                   2\n",
       "Remington                           2\n",
       "Cumberland South                    2\n",
       "Cuesta Park                         2\n",
       "Coyote Creek                        2\n",
       "Village Green                       2\n",
       "Varsity Park                        2\n",
       "Lowlanders                          2\n",
       "Somerset Knolls                     2\n",
       "Sunnyvale                           2\n",
       "North Los Gatos                     2\n",
       "Boulder                             2\n",
       "Rinconada Hills                     2\n",
       "Saratoga Village                    2\n",
       "Westgate Village                    2\n",
       "San Tomas                           2\n",
       "Los Gatos Woods                     2\n",
       "Rinconada                           2\n",
       "Los Altos Hills Town Hall Circle    2\n",
       "Sobrato                             2\n",
       "Noble                               2\n",
       "Knights Bridge                      2\n",
       "Penitencia                          2\n",
       "                                   ..\n",
       "Egan                                1\n",
       "South Clark                         1\n",
       "Primrose                            1\n",
       "Old Oak                             1\n",
       "North Village                       1\n",
       "Country Lane                        1\n",
       "Almond-Edith-Jardin                 1\n",
       "Paradise                            1\n",
       "Saratoga Place                      1\n",
       "Stonegate                           1\n",
       "St. John Vianney                    1\n",
       "Good Sam                            1\n",
       "Meadowlands                         1\n",
       "East Quimby Road Hill               1\n",
       "Piercy                              1\n",
       "Sepana Oaks                         1\n",
       "Hellyer-Christopher                 1\n",
       "Santa Rita Court                    1\n",
       "Starbird                            1\n",
       "Highland Park                       1\n",
       "Loyola Country Club-Zone 38         1\n",
       "Bellgrove                           1\n",
       "Country Club                        1\n",
       "Foothill/Main                       1\n",
       "Vasona                              1\n",
       "Hidden Glen                         1\n",
       "Sylvan Park                         1\n",
       "Americana                           1\n",
       "Evergreen                           1\n",
       "Rengstorff Park                     1\n",
       "Name: Nextdoor Neighborhood, Length: 319, dtype: int64"
      ]
     },
     "execution_count": 61,
     "metadata": {},
     "output_type": "execute_result"
    }
   ],
   "source": [
    "df_contact_neighborhood['Nextdoor Neighborhood'].value_counts()"
   ]
  },
  {
   "cell_type": "code",
   "execution_count": 62,
   "metadata": {},
   "outputs": [],
   "source": [
    "df_contacts.to_csv('mg_contacts_master.csv', index=False)\n",
    "df_contact_neighborhood.to_csv('mg_contact_neighborhood_master.csv', index=False)"
   ]
  },
  {
   "cell_type": "code",
   "execution_count": 65,
   "metadata": {},
   "outputs": [],
   "source": [
    "_GM_API_KEY = '#####'"
   ]
  },
  {
   "cell_type": "markdown",
   "metadata": {},
   "source": [
    "df_nextdoor_neighborhoods['Similar Google Neighborhood'] = 'None'\n",
    "df_nextdoor_neighborhoods['Google Place ID'] = 'None'\n",
    "#df_nextdoor_neighborhoods[Google Location = 'None'"
   ]
  },
  {
   "cell_type": "markdown",
   "metadata": {},
   "source": [
    "import six.moves.urllib as urllib\n",
    "\n",
    "for index, row in df_nextdoor_neighborhoods.iterrows():\n",
    "    neighborhoodquery = urllib.parse.quote(row[\"Neighborhood\"] + ', ' +  row[\"City\"] + ', ' +  row[\"State\"], safe='')\n",
    "    print(neighborhoodquery)\n",
    "    response = requests.get('https://maps.googleapis.com/maps/api/place/findplacefromtext/json?input=' + neighborhoodquery + '&inputtype=textquery&fields=name,id,place_id,plus_code,types,geometry&key=' + _GM_API_KEY)\n",
    "    resp_json_payload = response.json()\n",
    "    print(resp_json_payload)                                           \n",
    "    for k, v in resp_json_payload.items():\n",
    "        print(k)\n",
    "        if ((k == 'candidates') & (len(v) > 0)):\n",
    "            for pair in v:\n",
    "                if (('neighborhood' == pair['types'][0]) or ('locality' in pair['types'][0])):\n",
    "                    if ('political' == pair['types'][1]):\n",
    "                        print(pair['name'])\n",
    "                        print(pair['place_id'])\n",
    "                        row[\"Similar Google Neighborhood\"] = pair['name']\n",
    "                        row[\"Google Place ID\"] = pair['place_id']"
   ]
  },
  {
   "cell_type": "code",
   "execution_count": 91,
   "metadata": {},
   "outputs": [
    {
     "data": {
      "text/html": [
       "<div>\n",
       "<style scoped>\n",
       "    .dataframe tbody tr th:only-of-type {\n",
       "        vertical-align: middle;\n",
       "    }\n",
       "\n",
       "    .dataframe tbody tr th {\n",
       "        vertical-align: top;\n",
       "    }\n",
       "\n",
       "    .dataframe thead th {\n",
       "        text-align: right;\n",
       "    }\n",
       "</style>\n",
       "<table border=\"1\" class=\"dataframe\">\n",
       "  <thead>\n",
       "    <tr style=\"text-align: right;\">\n",
       "      <th></th>\n",
       "      <th>State</th>\n",
       "      <th>County</th>\n",
       "      <th>City</th>\n",
       "      <th>Neighborhood</th>\n",
       "      <th>Link</th>\n",
       "      <th>Similar Google Neighborhood</th>\n",
       "      <th>Google Place ID</th>\n",
       "      <th>Hood Name</th>\n",
       "      <th>Hood ID</th>\n",
       "      <th>GeoJSON</th>\n",
       "      <th>Interests</th>\n",
       "      <th>Homeowners</th>\n",
       "      <th>Population</th>\n",
       "      <th>Average Age</th>\n",
       "      <th>Attributes</th>\n",
       "    </tr>\n",
       "  </thead>\n",
       "  <tbody>\n",
       "    <tr>\n",
       "      <th>1</th>\n",
       "      <td>CA</td>\n",
       "      <td>Santa Clara</td>\n",
       "      <td>San Jose</td>\n",
       "      <td>Albanese Circle</td>\n",
       "      <td>https://nextdoor.com/neighborhood/albanesecirc...</td>\n",
       "      <td>None</td>\n",
       "      <td>None</td>\n",
       "      <td>None</td>\n",
       "      <td>None</td>\n",
       "      <td>None</td>\n",
       "      <td>None</td>\n",
       "      <td>None</td>\n",
       "      <td>None</td>\n",
       "      <td>None</td>\n",
       "      <td>None</td>\n",
       "    </tr>\n",
       "    <tr>\n",
       "      <th>2</th>\n",
       "      <td>CA</td>\n",
       "      <td>Santa Clara</td>\n",
       "      <td>San Jose</td>\n",
       "      <td>Almaden</td>\n",
       "      <td>https://nextdoor.com/neighborhood/almadenca--s...</td>\n",
       "      <td>Almaden</td>\n",
       "      <td>ChIJ8RtyWWkwjoARKOALmJ4lSgU</td>\n",
       "      <td>None</td>\n",
       "      <td>None</td>\n",
       "      <td>None</td>\n",
       "      <td>None</td>\n",
       "      <td>None</td>\n",
       "      <td>None</td>\n",
       "      <td>None</td>\n",
       "      <td>None</td>\n",
       "    </tr>\n",
       "    <tr>\n",
       "      <th>3</th>\n",
       "      <td>CA</td>\n",
       "      <td>Santa Clara</td>\n",
       "      <td>San Jose</td>\n",
       "      <td>Alvin/Burdette</td>\n",
       "      <td>https://nextdoor.com/neighborhood/7alvinburdet...</td>\n",
       "      <td>Alvin - Burdette</td>\n",
       "      <td>ChIJn5Y5-ZUyjoARiM0tE09NqXY</td>\n",
       "      <td>None</td>\n",
       "      <td>None</td>\n",
       "      <td>None</td>\n",
       "      <td>None</td>\n",
       "      <td>None</td>\n",
       "      <td>None</td>\n",
       "      <td>None</td>\n",
       "      <td>None</td>\n",
       "    </tr>\n",
       "  </tbody>\n",
       "</table>\n",
       "</div>"
      ],
      "text/plain": [
       "  State       County      City     Neighborhood  \\\n",
       "1    CA  Santa Clara  San Jose  Albanese Circle   \n",
       "2    CA  Santa Clara  San Jose          Almaden   \n",
       "3    CA  Santa Clara  San Jose   Alvin/Burdette   \n",
       "\n",
       "                                                Link  \\\n",
       "1  https://nextdoor.com/neighborhood/albanesecirc...   \n",
       "2  https://nextdoor.com/neighborhood/almadenca--s...   \n",
       "3  https://nextdoor.com/neighborhood/7alvinburdet...   \n",
       "\n",
       "  Similar Google Neighborhood              Google Place ID Hood Name Hood ID  \\\n",
       "1                        None                         None      None    None   \n",
       "2                     Almaden  ChIJ8RtyWWkwjoARKOALmJ4lSgU      None    None   \n",
       "3            Alvin - Burdette  ChIJn5Y5-ZUyjoARiM0tE09NqXY      None    None   \n",
       "\n",
       "  GeoJSON Interests Homeowners Population Average Age Attributes  \n",
       "1    None      None       None       None        None       None  \n",
       "2    None      None       None       None        None       None  \n",
       "3    None      None       None       None        None       None  "
      ]
     },
     "execution_count": 91,
     "metadata": {},
     "output_type": "execute_result"
    }
   ],
   "source": [
    "df_nextdoor_neighborhoods.head(3)"
   ]
  },
  {
   "cell_type": "code",
   "execution_count": 69,
   "metadata": {},
   "outputs": [],
   "source": [
    "df_nextdoor_neighborhoods.to_csv('mg_nextdoor_with_google_master.csv', index=False)"
   ]
  },
  {
   "cell_type": "markdown",
   "metadata": {},
   "source": [
    "## Parsing geoJSON"
   ]
  },
  {
   "cell_type": "code",
   "execution_count": 75,
   "metadata": {},
   "outputs": [],
   "source": [
    "df_nextdoor_neighborhoods[\"Hood Name\"] = 'None'\n",
    "df_nextdoor_neighborhoods[\"Hood ID\"] = 'None'\n",
    "df_nextdoor_neighborhoods[\"GeoJSON\"] = 'None'\n",
    "df_nextdoor_neighborhoods[\"Interests\"] = 'None'\n",
    "df_nextdoor_neighborhoods[\"Gardening Interest\"] = 0\n",
    "df_nextdoor_neighborhoods[\"Homeowners\"] = 'None'\n",
    "df_nextdoor_neighborhoods[\"Population\"] = 'None'\n",
    "df_nextdoor_neighborhoods[\"Average Age\"] = 'None'\n",
    "df_nextdoor_neighborhoods['Attributes'] = 'None'"
   ]
  },
  {
   "cell_type": "code",
   "execution_count": 183,
   "metadata": {},
   "outputs": [
    {
     "name": "stdout",
     "output_type": "stream",
     "text": [
      "State                                                                         CA\n",
      "County                                                               Santa Clara\n",
      "City                                                                    San Jose\n",
      "Neighborhood                                                             Almaden\n",
      "Link                           https://nextdoor.com/neighborhood/almadenca--s...\n",
      "Similar Google Neighborhood                                              Almaden\n",
      "Google Place ID                                      ChIJ8RtyWWkwjoARKOALmJ4lSgU\n",
      "Hood Name                                                                   None\n",
      "Hood ID                                                                     None\n",
      "GeoJSON                                                                     None\n",
      "Interests                                                                   None\n",
      "Homeowners                                                                  None\n",
      "Population                                                                  None\n",
      "Average Age                                                                 None\n",
      "Attributes                                                                  None\n",
      "Name: 2, dtype: object\n",
      "https://nextdoor.com/neighborhood/almadenca--san-jose--ca/\n"
     ]
    }
   ],
   "source": [
    "#for index, row in df_nextdoor_neighborhoods.iterrows():\n",
    "row = df_nextdoor_neighborhoods.iloc[1]\n",
    "print(row)\n",
    "neighborhood_lookup = row[\"Link\"]\n",
    "print(neighborhood_lookup)\n",
    "response = requests.get(neighborhood_lookup)\n",
    "responseTxt = response.text.encode('UTF-8')\n",
    "html_soup = BeautifulSoup(responseTxt, 'html.parser')"
   ]
  },
  {
   "cell_type": "code",
   "execution_count": 184,
   "metadata": {},
   "outputs": [
    {
     "name": "stdout",
     "output_type": "stream",
     "text": [
      "[{\"agencyName\": \"Santa Clara Valley Water District\", \"hostname\": \"almadenca\", \"subject\": \"Temporary Bay Trail Closure in East Palo Alto\", \"postId\": \"101458364\", \"urlSlug\": \"santa-clara-valley-water-district-1\", \"avatarPhoto\": \"https://d3926qxcw0e1bh.cloudfront.net/pages_avatar_photos/01/03/010310b823d05ffa89499baf1d1221f8.jpg\", \"groupId\": \"1458946\"}, {\"agencyName\": \"San Jos\\u00e9 City Council\", \"hostname\": \"almadenca\", \"subject\": \"Join CM Carrasco tomorrow! 1st Pancake Breakfast of the year!\", \"postId\": \"101447625\", \"urlSlug\": \"san-jose-city-council\", \"avatarPhoto\": \"https://d3926qxcw0e1bh.cloudfront.net/pages_avatar_photos/fc/92/fc923118a79f09820c9a021fc54a6087.jpg\", \"groupId\": \"533104\"}, {\"agencyName\": \"San Jos\\u00e9 City Council\", \"hostname\": \"almadenca\", \"subject\": \"Join me tomorrow! 1st Pancake Breakfast of the year!\", \"postId\": \"101447354\", \"urlSlug\": \"san-jose-city-council\", \"avatarPhoto\": \"https://d3926qxcw0e1bh.cloudfront.net/pages_avatar_photos/fc/92/fc923118a79f09820c9a021fc54a6087.jpg\", \"groupId\": \"533104\"}, {\"agencyName\": \"San Jos\\u00e9 City Council\", \"hostname\": \"almadenca\", \"subject\": \"Santa Clara County 2016 Measure B update\", \"postId\": \"101446036\", \"urlSlug\": \"san-jose-city-council\", \"avatarPhoto\": \"https://d3926qxcw0e1bh.cloudfront.net/pages_avatar_photos/fc/92/fc923118a79f09820c9a021fc54a6087.jpg\", \"groupId\": \"533104\"}, {\"agencyName\": \"City of San Jos\\u00e9\", \"hostname\": \"almadenca\", \"subject\": \"Learn About Constructing ADUs (Granny Flats) on February 2\", \"postId\": \"101445204\", \"urlSlug\": \"city-of-san-jose\", \"avatarPhoto\": \"https://d3926qxcw0e1bh.cloudfront.net/pages_avatar_photos/4e/06/4e0614dadf896a3bfdd2429416f80731.jpg\", \"groupId\": \"542761\"}],\n",
      "          agencyInfo: [{\"hostname\": \"almadenca\", \"postCount\": \"32160\", \"agencyName\": \"City of San Jos\\u00e9\", \"urlSlug\": \"city-of-san-jose\", \"avatarPhoto\": \"https://d3926qxcw0e1bh.cloudfront.net/pages_avatar_photos/4e/06/4e0614dadf896a3bfdd2429416f80731.jpg\", \"groupId\": \"542761\"}, {\"hostname\": \"almadenca\", \"postCount\": \"19514\", \"agencyName\": \"San Jos\\u00e9 City Council\", \"urlSlug\": \"san-jose-city-council\", \"avatarPhoto\": \"https://d3926qxcw0e1bh.cloudfront.net/pages_avatar_photos/fc/92/fc923118a79f09820c9a021fc54a6087.jpg\", \"groupId\": \"533104\"}, {\"hostname\": \"almadenca\", \"postCount\": \"9168\", \"agencyName\": \"San Jos\\u00e9 Police Department\", \"urlSlug\": \"san-jose-police-department\", \"avatarPhoto\": \"https://d3926qxcw0e1bh.cloudfront.net/pages_avatar_photos/c6/bf/c6bf1ff992743dcd771b3492ab5cf519.jpg\", \"groupId\": \"533084\"}, {\"hostname\": \"almadenca\", \"postCount\": \"4410\", \"agencyName\": \"Valley Transportation Authority\", \"urlSlug\": \"valley-transportation-authority\", \"avatarPhoto\": \"https://d3926qxcw0e1bh.cloudfront.net/pages_avatar_photos/82/d5/82d5f6e0d2a18453e7011e25c71d5582.png\", \"groupId\": \"618410\"}, {\"hostname\": \"almadenca\", \"postCount\": \"4168\", \"agencyName\": \"County of Santa Clara\", \"urlSlug\": \"county-of-santa-clara-office-of-public-affairs\", \"avatarPhoto\": \"https://d3926qxcw0e1bh.cloudfront.net/pages_avatar_photos/a5/c4/a5c47d514be1dc1984f98c77247cd237.jpg\", \"groupId\": \"691024\"}, {\"hostname\": \"almadenca\", \"postCount\": \"1693\", \"agencyName\": \"Santa Clara Valley Water District\", \"urlSlug\": \"santa-clara-valley-water-district-1\", \"avatarPhoto\": \"https://d3926qxcw0e1bh.cloudfront.net/pages_avatar_photos/01/03/010310b823d05ffa89499baf1d1221f8.jpg\", \"groupId\": \"1458946\"}, {\"hostname\": \"almadenca\", \"postCount\": \"667\", \"agencyName\": \"California Office of Emergency Services\", \"urlSlug\": \"state-of-california-4\", \"avatarPhoto\": \"https://d3926qxcw0e1bh.cloudfront.net/pages_avatar_photos/77/42/774237c0b3b3724ceeb88eeba6be92c6.png\", \"groupId\": \"16715694\"}, {\"hostname\": \"almadenca\", \"postCount\": \"216\", \"agencyName\": \"Santa Clara County District 1\", \"urlSlug\": \"santa-clara-county-district-1\", \"avatarPhoto\": \"https://d3926qxcw0e1bh.cloudfront.net/pages_avatar_photos/d0/64/d0642ae916aa90c3c4aa72ae95b9a87b.jpg\", \"groupId\": \"1430691\"}, {\"hostname\": \"almadenca\", \"postCount\": \"27\", \"agencyName\": \"Super Bowl 50 Host Committee\", \"urlSlug\": \"super-bowl-committee\", \"avatarPhoto\": \"https://d3926qxcw0e1bh.cloudfront.net/pages_avatar_photos/03/c8/03c8e05d3115b4645096257a38c2cbc6\", \"groupId\": \"1457782\"}, {\"hostname\": \"almadenca\", \"postCount\": \"25\", \"agencyName\": \"Santa Clara County Office of Emergency Services\", \"urlSlug\": \"santa-clara-county-office-of-emergency-services\", \"avatarPhoto\": \"https://d3926qxcw0e1bh.cloudfront.net/pages_avatar_photos/ba/d3/bad3352c2df1d39cd93db1b444138213.jpg\", \"groupId\": \"18951930\"}],\n",
      "          attributes: [\"Family Friendly\", \"Friendly\", \"Neighbors\", \"Beautiful\", \"Community\", \"Clean\", \"Safe\", \"Walking\", \"Dog Friendly\", \"Quiet\"],\n",
      "          census: {\"homeowners\": \"92\", \"population\": \"3267\", \"age\": \"57\"},\n",
      "          city: \"San Jose\",\n",
      "          countryCodeToUrls: {\"US\": \"https://nextdoor.com?noredirect=True\", \"NL\": \"https://nextdoor.nl\", \"GB\": \"https://nextdoor.co.uk\", \"DE\": \"https://nextdoor.de\", \"FR\": \"https://fr.nextdoor.com\", \"IT\": \"https://it.nextdoor.com\", \"ES\": \"https://es.nextdoor.com\", \"AU\": \"https://au.nextdoor.com\", \"DK\": \"https://dk.nextdoor.com\", \"SE\": \"https://se.nextdoor.com\"},\n",
      "          currentCountry: CURRENT_COUNTRY,\n",
      "          events: [{\"city\": \"San Jose\", \"eventId\": \"2695619\", \"startTime\": \"2019-03-13 16:00:00.000\", \"title\": \"School-Day Open House (Last one until Fall 2019)\", \"state\": \"CA\", \"isUpcoming\": true}],\n",
      "          favoritesInfo: {\"hasFavorites\": true, \"numTotalWinners\": 39, \"sampleWinners\": [{\"topicName\": \"Italian\", \"pageName\": \"Aldo's Ristorante & Bar\", \"pageAddress\": \"14109 Winchester Blvd\", \"pageUrl\": \"aldos-ristorante-bar-los-gatos-ca\"}, {\"topicName\": \"Italian\", \"pageName\": \"Maggiano's Little Italy\", \"pageAddress\": \"3055 Olin Ave 1000\", \"pageUrl\": \"maggianos-little-italy-san-jose-ca\"}, {\"topicName\": \"Dry cleaner\", \"pageName\": \"Bensons Cleaners\", \"pageAddress\": \"5965 Almaden Expy 160\", \"pageUrl\": \"bensons-cleaners-san-jose-ca\"}, {\"topicName\": \"Dry cleaner\", \"pageName\": \"Bret Harte Cleaners\", \"pageAddress\": \"6934 Almaden Expy\", \"pageUrl\": \"bret-harte-cleaners-san-jose-ca\"}], \"surveyYear\": 2018},\n",
      "          hostName: \"almadenca\",\n",
      "          interests: [\"Hiking & Trails\", \"Gardening & Landscape\", \"Walking\", \"Cooking\", \"Seeing Live Music\", \"Home Improvement & DIY\", \"Books\", \"Dogs\", \"Family Activities\", \"Volunteering\"],\n",
      "          iosUrl: \"https://itunes.apple.com/us/app/nextdoor/id640360962?ls=1&amp;mt=8\",\n",
      "          nearbyNeighborhoods: [{\"shortName\": \"Almaden - Williams\", \"hostname\": \"10almaden-williams\", \"city\": \"San Jose\", \"state\": \"CA\"}, {\"shortName\": \"Almaden Hills Estates\", \"hostname\": \"10almadenhillsestates\", \"city\": \"San Jose\", \"state\": \"CA\"}, {\"shortName\": \"Almaden Meadows\", \"hostname\": \"10almadenmeadows\", \"city\": \"San Jose\", \"state\": \"CA\"}, {\"shortName\": \"Almaden Mockingbird\", \"hostname\": \"10almadenmockingbird\", \"city\": \"San Jose\", \"state\": \"CA\"}, {\"shortName\": \"Cahalan\", \"hostname\": \"10cahalan\", \"city\": \"San Jose\", \"state\": \"CA\"}, {\"shortName\": \"Campton Chase\", \"hostname\": \"10camptonchase\", \"city\": \"San Jose\", \"state\": \"CA\"}, {\"shortName\": \"Canoas East\", \"hostname\": \"10canoaseast\", \"city\": \"San Jose\", \"state\": \"CA\"}, {\"shortName\": \"Canoas West\", \"hostname\": \"10canoaswest\", \"city\": \"San Jose\", \"state\": \"CA\"}, {\"shortName\": \"Country Club\", \"hostname\": \"10countryclubsanjose\", \"city\": \"San Jose\", \"state\": \"CA\"}, {\"shortName\": \"Country View Estates\", \"hostname\": \"10countryviewestates\", \"city\": \"San Jose\", \"state\": \"CA\"}, {\"shortName\": \"Crossgate\", \"hostname\": \"10crossgate\", \"city\": \"San Jose\", \"state\": \"CA\"}, {\"shortName\": \"Crossgates Almaden\", \"hostname\": \"10crossgatesalmaden\", \"city\": \"San Jose\", \"state\": \"CA\"}, {\"shortName\": \"Glenview Serenity\", \"hostname\": \"10glenviewserenity\", \"city\": \"San Jose\", \"state\": \"CA\"}, {\"shortName\": \"Graystone\", \"hostname\": \"10graystone\", \"city\": \"San Jose\", \"state\": \"CA\"}, {\"shortName\": \"Jeffrey Fontana Park\", \"hostname\": \"10jeffreyfontanaparkarea\", \"city\": \"San Jose\", \"state\": \"CA\"}, {\"shortName\": \"Lake Calero\", \"hostname\": \"10lakecalero\", \"city\": \"San Jose\", \"state\": \"CA\"}, {\"shortName\": \"Los Alamitos\", \"hostname\": \"10losalamitos\", \"city\": \"San Jose\", \"state\": \"CA\"}, {\"shortName\": \"Mountain Shadows\", \"hostname\": \"10mountainshadowssanjose\", \"city\": \"San Jose\", \"state\": \"CA\"}, {\"shortName\": \"New Almaden\", \"hostname\": \"10newalmaden\", \"city\": \"San Jose\", \"state\": \"CA\"}, {\"shortName\": \"Pierce Ranch\", \"hostname\": \"10pierceranch\", \"city\": \"San Jose\", \"state\": \"CA\"}, {\"shortName\": \"Sunrise Almaden\", \"hostname\": \"10sunrisealmaden\", \"city\": \"San Jose\", \"state\": \"CA\"}, {\"shortName\": \"TJMPNA\", \"hostname\": \"10tjmpna\", \"city\": \"San Jose\", \"state\": \"CA\"}, {\"shortName\": \"Country View Custom Estates\", \"hostname\": \"cvce\", \"city\": \"San Jose\", \"state\": \"CA\"}, {\"shortName\": \"East Santa Teresa Foothills\", \"hostname\": \"eastsantateresafoothills\", \"city\": \"San Jose\", \"state\": \"CA\"}, {\"shortName\": \"Graystone of Almaden\", \"hostname\": \"graystonealmadensj\", \"city\": \"San Jose\", \"state\": \"CA\"}, {\"shortName\": \"Graystone Hill\", \"hostname\": \"graystonehill\", \"city\": \"San Jose\", \"state\": \"CA\"}, {\"shortName\": \"Singer Park\", \"hostname\": \"singerpark\", \"city\": \"San Jose\", \"state\": \"CA\"}, {\"shortName\": \"Vista De Graystone\", \"hostname\": \"vistadegraystone\", \"city\": \"San Jose\", \"state\": \"CA\"}, {\"shortName\": \"West Santa Teresa Foothills\", \"hostname\": \"westsantateresafoothills\", \"city\": \"San Jose\", \"state\": \"CA\"}],\n",
      "          neighborhoodGeometriesJSON: {\"type\": \"FeatureCollection\", \"features\": [{\"type\": \"Feature\", \"geometry\": {\"type\": \"MultiPolygon\", \"coordinates\": [[[[-121.85795724071465, 37.218492584366864], [-121.8539393634257, 37.215703469208464], [-121.85037209725124, 37.2132047591771], [-121.8478080490637, 37.21104394753386], [-121.84628484160459, 37.2093710662332], [-121.84488851446633, 37.21011881240138], [-121.84439183110669, 37.21064020050304], [-121.84234703845357, 37.21600636715215], [-121.84184651304736, 37.216690495024956], [-121.84267636331253, 37.21749423079948], [-121.84462201252785, 37.22014338908703], [-121.84576919959142, 37.22069262441465], [-121.8478172953595, 37.22090684104555], [-121.84908107417584, 37.22171118215209], [-121.85102724600131, 37.22252342844158], [-121.852823214122, 37.222840158971614], [-121.8548916556428, 37.223661565781796], [-121.85812286877808, 37.22464051574562], [-121.85795724071465, 37.218492584366864]]]]}, \"properties\": {\"hood_id\": 154788, \"hood_name\": \"Almaden\", \"fill\": \"#00b246\", \"stroke\": \"#00b246\", \"fill-opacity\": 0.45}}, {\"type\": \"Feature\", \"geometry\": {\"type\": \"MultiPolygon\", \"coordinates\": [[[[-121.85495805577602, 37.21454105921658], [-121.85510103793627, 37.21482774312355], [-121.85470262545425, 37.21500967066689], [-121.85393936492187, 37.215706929834184], [-121.85192928005301, 37.21432033146968], [-121.85046795112311, 37.21326888191252], [-121.84790558520899, 37.21114667130711], [-121.84752959506454, 37.21077429335414], [-121.84629641013748, 37.209392083220884], [-121.84760478825513, 37.208814455390794], [-121.84786174043887, 37.20874951577553], [-121.84819048524776, 37.20870399395073], [-121.84906210581414, 37.208598210177115], [-121.84935869906934, 37.20856133201511], [-121.84988596229994, 37.208550088610856], [-121.85281111937081, 37.20819624675287], [-121.85320286615394, 37.21053283957841], [-121.85353096898797, 37.211023589157094], [-121.8537334454544, 37.21148023551247], [-121.85394626465984, 37.21166878800347], [-121.85452386429137, 37.21207095328498], [-121.85477696821528, 37.2124296002994], [-121.85495701939539, 37.21272169553949], [-121.8549987034906, 37.213075619239845], [-121.85500819956337, 37.21350512882055], [-121.85493960475816, 37.21390509673087], [-121.85496034123753, 37.21453627615102], [-121.85495805577602, 37.21454105921658], [-121.85495805577602, 37.21454105921658]]]]}, \"properties\": {\"hood_id\": 164785, \"hood_name\": \"Almaden - Williams\", \"fill\": \"#67C2A5\", \"stroke\": \"#67C2A5\", \"fill-opacity\": 0.45}}, {\"type\": \"Feature\", \"geometry\": {\"type\": \"MultiPolygon\", \"coordinates\": [[[[-121.87028188451666, 37.23709372128228], [-121.86983624561356, 37.23577940546306], [-121.86931489686015, 37.235344540774506], [-121.86846610564317, 37.23491708355241], [-121.8657937833944, 37.23458004054181], [-121.86448494871121, 37.234570035070654], [-121.86321902937232, 37.23474795170745], [-121.86314860730454, 37.233498906190356], [-121.86314861799292, 37.2334984650407], [-121.86314892160948, 37.23349814481543], [-121.8636389195691, 37.23281763227032], [-121.8690856397883, 37.231368311734194], [-121.87047000627604, 37.23315484446162], [-121.87167232918682, 37.23286684510802], [-121.87188759918007, 37.233518475207276], [-121.87201703848484, 37.2338113361282], [-121.87220346691925, 37.234257273201976], [-121.87272749323427, 37.23528795898236], [-121.87316568886081, 37.236386964444335], [-121.87028188451666, 37.23709372128228]]]]}, \"properties\": {\"hood_id\": 164638, \"hood_name\": \"Almaden Hills Estates\", \"fill\": \"#67C2A5\", \"stroke\": \"#67C2A5\", \"fill-opacity\": 0.45}}, {\"type\": \"Feature\", \"geometry\": {\"type\": \"MultiPolygon\", \"coordinates\": [[[[-121.89473459850296, 37.22925687092096], [-121.8942930692894, 37.229076150478946], [-121.89336874245316, 37.22886126059521], [-121.89273233459778, 37.2287969228329], [-121.89035785530075, 37.22877529795784], [-121.88559189142688, 37.22821620038667], [-121.88443081646903, 37.228169660549796], [-121.88500084271385, 37.22511828174797], [-121.8849438188559, 37.224697967596484], [-121.88478444235739, 37.224419434502714], [-121.88201529247624, 37.22174303534723], [-121.8852374258031, 37.22019835355142], [-121.88568477296877, 37.22006962966], [-121.8863258533051, 37.21997179320096], [-121.88691701536112, 37.220012699374834], [-121.88720780896739, 37.21947430486121], [-121.8934032179597, 37.21846939823191], [-121.89432106412664, 37.218436038100116], [-121.89471646371305, 37.21895626462161], [-121.89507259559463, 37.219721439741875], [-121.89483990602872, 37.221354438713156], [-121.89473459850296, 37.22925687092096], [-121.89473459850296, 37.22925687092096]]]]}, \"properties\": {\"hood_id\": 164624, \"hood_name\": \"Almaden Meadows\", \"fill\": \"#67C2A5\", \"stroke\": \"#67C2A5\", \"fill-opacity\": 0.45}}, {\"type\": \"Feature\", \"geometry\": {\"type\": \"MultiPolygon\", \"coordinates\": [[[[-121.85381999999998, 37.203083], [-121.85267199999998, 37.205529], [-121.85284300000001, 37.205743], [-121.85236199999997, 37.206072], [-121.85221899999999, 37.206192], [-121.852101, 37.206325], [-121.85204399999998, 37.206425], [-121.85200800000001, 37.206614], [-121.852011, 37.206754], [-121.852058, 37.206897], [-121.85252300000002, 37.207625], [-121.85265900000002, 37.207908], [-121.85280999999998, 37.208198], [-121.849872, 37.208556], [-121.84938299999999, 37.208554], [-121.847868, 37.208747], [-121.84760699999998, 37.208821], [-121.84632299999998, 37.209381], [-121.84452899999997, 37.207274], [-121.84259600000001, 37.205394], [-121.84152, 37.204743], [-121.840285, 37.204325], [-121.84040700000003, 37.204007], [-121.84044699999998, 37.203696], [-121.84039899999999, 37.203475], [-121.83914700000003, 37.20216], [-121.8347, 37.198954], [-121.83313299999998, 37.198054], [-121.83395777777099, 37.197243859703896], [-121.8334386864139, 37.19693844292133], [-121.83420705538379, 37.1961800738802], [-121.83379114516072, 37.19591108331823], [-121.83482614218906, 37.19494577997451], [-121.8366547374344, 37.19477999465046], [-121.83952099999999, 37.193079], [-121.83953500000001, 37.191169], [-121.84024099999999, 37.19119], [-121.84134899999998, 37.191052], [-121.84217799999999, 37.191119], [-121.84288700000002, 37.191848], [-121.843392, 37.192503], [-121.843638, 37.193066], [-121.848683, 37.193059], [-121.84887000000003, 37.196769], [-121.848638, 37.196787], [-121.84864500000003, 37.198241], [-121.84888699999999, 37.198858], [-121.84889299999998, 37.199228], [-121.84952499999997, 37.19994], [-121.849896, 37.199709], [-121.85017900000003, 37.199953], [-121.85063000000002, 37.200344], [-121.85381999999998, 37.203083], [-121.85381999999998, 37.203083], [-121.85381999999998, 37.203083]]]]}, \"properties\": {\"hood_id\": 164783, \"hood_name\": \"Almaden Mockingbird\", \"fill\": \"#67C2A5\", \"stroke\": \"#67C2A5\", \"fill-opacity\": 0.45}}, {\"type\": \"Feature\", \"geometry\": {\"type\": \"MultiPolygon\", \"coordinates\": [[[[-121.85576630691014, 37.24654330333634], [-121.85219271838866, 37.24572490523696], [-121.85208031165962, 37.24596312726058], [-121.84853876730449, 37.24512660486785], [-121.84918999009892, 37.243305049877144], [-121.85081753697472, 37.23875891095432], [-121.8579671425482, 37.240478428658065], [-121.85577245038507, 37.2465410217722], [-121.85576630691014, 37.24654330333634], [-121.85576630691014, 37.24654330333634]]]]}, \"properties\": {\"hood_id\": 170218, \"hood_name\": \"Cahalan\", \"fill\": \"#67C2A5\", \"stroke\": \"#67C2A5\", \"fill-opacity\": 0.45}}, {\"type\": \"Feature\", \"geometry\": {\"type\": \"MultiPolygon\", \"coordinates\": [[[[-121.88022629675356, 37.24292721719025], [-121.87876405279621, 37.24395407970102], [-121.87703358793732, 37.24440015540205], [-121.874736055894, 37.24451216198377], [-121.87494568493753, 37.24264284901987], [-121.87490029575446, 37.2418021273545], [-121.87472739745806, 37.24092908060488], [-121.87422092044801, 37.23977774833407], [-121.87382173179867, 37.23867764724324], [-121.87313064286059, 37.23627239563784], [-121.87456619368953, 37.23580678344439], [-121.87489667440434, 37.235640132049234], [-121.87513500194234, 37.23549307666657], [-121.87534114297216, 37.23529476996597], [-121.87553655516581, 37.235062295280215], [-121.87566759434327, 37.23482127798315], [-121.87575801132107, 37.234441744404045], [-121.87576259761045, 37.23408783485337], [-121.8758235102892, 37.233738194650144], [-121.87602389783655, 37.23340563693849], [-121.87632084490849, 37.23309016194423], [-121.87652123245596, 37.23276614350268], [-121.87663752842968, 37.23234834353112], [-121.87929483732671, 37.232443838318076], [-121.87924141719043, 37.23820298873238], [-121.8781829091979, 37.23918911606537], [-121.87843479454801, 37.239282530908774], [-121.8786758503922, 37.239399812745766], [-121.87889980731393, 37.239535258781665], [-121.87915950557942, 37.239720872330224], [-121.87921527820367, 37.23980296998245], [-121.87929836933694, 37.239851737711525], [-121.88136667562901, 37.24216511410475], [-121.88022629675356, 37.24292721719025]]]]}, \"properties\": {\"hood_id\": 162709, \"hood_name\": \"Campton Chase\", \"fill\": \"#67C2A5\", \"stroke\": \"#67C2A5\", \"fill-opacity\": 0.45}}, {\"type\": \"Feature\", \"geometry\": {\"type\": \"MultiPolygon\", \"coordinates\": [[[[-121.84483816347256, 37.240377759232686], [-121.84355260485165, 37.24264314060623], [-121.8422241308865, 37.24516475202507], [-121.84178509160807, 37.250618111606755], [-121.83969268171444, 37.25067784696856], [-121.83981041204925, 37.249934809973865], [-121.8397907744801, 37.24752751572144], [-121.83961020437005, 37.23679305281799], [-121.84160618645905, 37.23682715160869], [-121.84308697805352, 37.237015052171884], [-121.84487667731764, 37.23739284863447], [-121.84483816347256, 37.24038630049771], [-121.84483816347256, 37.240377759232686], [-121.84483816347256, 37.240377759232686]]]]}, \"properties\": {\"hood_id\": 35447, \"hood_name\": \"Canoas East\", \"fill\": \"#67C2A5\", \"stroke\": \"#67C2A5\", \"fill-opacity\": 0.45}}, {\"type\": \"Feature\", \"geometry\": {\"type\": \"MultiPolygon\", \"coordinates\": [[[[-121.84678487640355, 37.24998370608111], [-121.84676103949897, 37.250564711164486], [-121.8417634386347, 37.2505983826597], [-121.8422161025656, 37.24517886227831], [-121.8435582038573, 37.242647232982], [-121.84483593213258, 37.240371833717084], [-121.8448783907885, 37.23738189532192], [-121.85081480323004, 37.238758589400724], [-121.84853161891533, 37.24512700557749], [-121.84678487640355, 37.24999224625746], [-121.84678487640355, 37.24998370608111], [-121.84678487640355, 37.24998370608111]]]]}, \"properties\": {\"hood_id\": 35448, \"hood_name\": \"Canoas West\", \"fill\": \"#67C2A5\", \"stroke\": \"#67C2A5\", \"fill-opacity\": 0.45}}, {\"type\": \"Feature\", \"geometry\": {\"type\": \"MultiPolygon\", \"coordinates\": [[[[-121.87634800000001, 37.219773], [-121.876352, 37.218478], [-121.87612999999999, 37.203871], [-121.8638875952148, 37.20383637253186], [-121.86278748809809, 37.20134085021642], [-121.85782500000005, 37.199665654019086], [-121.85783400000003, 37.201758], [-121.857146, 37.201788], [-121.85724199999999, 37.2024], [-121.85725300000001, 37.202717], [-121.85709500000002, 37.203354], [-121.85749399999997, 37.203333], [-121.85785099999998, 37.203354], [-121.857957, 37.207549], [-121.85760500000004, 37.207605], [-121.85778399999998, 37.210284], [-121.85823800000003, 37.210281], [-121.85822300000001, 37.209602], [-121.85833600000001, 37.2094], [-121.85861299999999, 37.209278], [-121.85921100000002, 37.209225], [-121.85934900000001, 37.209513], [-121.85937799999999, 37.209801], [-121.85932100000002, 37.20995], [-121.85942, 37.210249], [-121.859467, 37.210422], [-121.85967599999998, 37.210544], [-121.859734, 37.210743], [-121.86011400000001, 37.211155], [-121.860118, 37.211493], [-121.86031500000001, 37.211924], [-121.86017400000003, 37.212121], [-121.860183, 37.212249], [-121.86043899999999, 37.212458], [-121.860545, 37.212642], [-121.86053800000002, 37.213244], [-121.86034699999999, 37.213439], [-121.86034899999999, 37.213607], [-121.86040100000002, 37.213842], [-121.86044300000003, 37.214359], [-121.86022600000001, 37.214534], [-121.86020400000001, 37.214769], [-121.86052699999999, 37.215444], [-121.860883, 37.215701], [-121.86058700000001, 37.21594], [-121.86279100000002, 37.217692], [-121.85997900000001, 37.21997], [-121.86226699999997, 37.221665], [-121.862842, 37.221264], [-121.86330099999998, 37.22103], [-121.86373900000001, 37.220864], [-121.86447199999998, 37.220744], [-121.865249, 37.220726], [-121.86604599999998, 37.220896], [-121.866917, 37.221212], [-121.86883999999998, 37.221989], [-121.86947700000002, 37.222156], [-121.87641000000002, 37.222024], [-121.87634800000001, 37.219773], [-121.87634800000001, 37.219773]]]]}, \"properties\": {\"hood_id\": 1771, \"hood_name\": \"Country Club\", \"fill\": \"#67C2A5\", \"stroke\": \"#67C2A5\", \"fill-opacity\": 0.45}}, {\"type\": \"Feature\", \"geometry\": {\"type\": \"MultiPolygon\", \"coordinates\": [[[[-121.85795753154093, 37.20755067225197], [-121.85761384967265, 37.20760967249746], [-121.85760404275379, 37.20750226808218], [-121.85551997092125, 37.20772939078328], [-121.85553875095638, 37.20789669821081], [-121.85481779446002, 37.20799325919231], [-121.85468692394699, 37.20742331311715], [-121.85317911416075, 37.20755617644204], [-121.85251888242317, 37.207629224731065], [-121.85205687189915, 37.20689717971693], [-121.85201394724317, 37.20675995473431], [-121.85200393795878, 37.20662043196176], [-121.85204195446954, 37.20644384843966], [-121.852098589827, 37.20632591560612], [-121.85220886936474, 37.20619943745184], [-121.85236226968334, 37.20607501049377], [-121.85284458272906, 37.20574034091702], [-121.85267243677515, 37.205533848150495], [-121.85380872424349, 37.203087061848294], [-121.85056473802962, 37.200283511597206], [-121.85074698427326, 37.200165319640014], [-121.851000521316, 37.200236726930626], [-121.85110385465384, 37.20022267606515], [-121.85170748826386, 37.200399673652754], [-121.8521716470051, 37.200469848579495], [-121.85237153986753, 37.200543392026425], [-121.85275043603633, 37.20078953487665], [-121.85298279946494, 37.20088269592028], [-121.85336536659838, 37.2009502196593], [-121.85383001136967, 37.201028059457336], [-121.8537828263066, 37.2006492925564], [-121.85458870142395, 37.20063840276041], [-121.85460702397967, 37.20003315380441], [-121.85482126435392, 37.199598316253784], [-121.85511060893629, 37.19913242043136], [-121.85530708016995, 37.19894378540081], [-121.85581456145758, 37.19869651041588], [-121.85573411459666, 37.1989043140299], [-121.8556703136286, 37.1992815187493], [-121.85571174597544, 37.19940987275195], [-121.85589030283091, 37.199953800281314], [-121.85564521774711, 37.20103489677072], [-121.85615261635513, 37.20131437786237], [-121.85627050469293, 37.201509551132304], [-121.85620063839974, 37.20163636055875], [-121.85628479633351, 37.201795116871644], [-121.85687866557203, 37.20165896481431], [-121.8571506697287, 37.20180481897915], [-121.85724804508868, 37.202393048180085], [-121.85724349650616, 37.20272063455485], [-121.8571056533084, 37.20335016666449], [-121.85750588358462, 37.203335952149835], [-121.85785573302246, 37.203350250422616], [-121.85787596189948, 37.204205757462844], [-121.85786126189367, 37.20423462477518], [-121.85788585965781, 37.20476219194567], [-121.85795753154093, 37.20755067225197], [-121.85795753154093, 37.20755067225197]]]]}, \"properties\": {\"hood_id\": 1773, \"hood_name\": \"Country View Estates\", \"fill\": \"#67C2A5\", \"stroke\": \"#67C2A5\", \"fill-opacity\": 0.45}}, {\"type\": \"Feature\", \"geometry\": {\"type\": \"MultiPolygon\", \"coordinates\": [[[[-121.87038476982514, 37.22930581785897], [-121.86944417721486, 37.22756240884005], [-121.86892023672942, 37.22692134490094], [-121.86827566612516, 37.2262422010823], [-121.86586023022147, 37.22433646081293], [-121.86230408964093, 37.22165395607313], [-121.86286172572113, 37.22125507461647], [-121.86326272767286, 37.221054344861585], [-121.86372810264095, 37.22087070152564], [-121.86445842723953, 37.22073983551413], [-121.86525312485435, 37.22072857825288], [-121.86614561119217, 37.22093600206213], [-121.86695226684151, 37.22122031626318], [-121.86879961958863, 37.221974515132324], [-121.86949025098613, 37.222150142450815], [-121.87622150356947, 37.22203654297219], [-121.8761844102441, 37.222146452942425], [-121.87605075739418, 37.22235888250554], [-121.8758263670386, 37.22252744163713], [-121.8755707053765, 37.22259117428566], [-121.87467314395423, 37.222616120157426], [-121.87417059717842, 37.22276344647948], [-121.87353930436984, 37.22304746430087], [-121.87309211029321, 37.22330794218258], [-121.87297019833636, 37.223470082496036], [-121.8721540901247, 37.22438548782868], [-121.87159547397857, 37.2251300223836], [-121.87157258296418, 37.22520949025096], [-121.87154825860773, 37.22543676943167], [-121.87205750936977, 37.22631846986812], [-121.87223759947244, 37.22649960637384], [-121.87326105326088, 37.22739319598478], [-121.87338328482042, 37.22746667754679], [-121.87338810499244, 37.227465159303804], [-121.87651694350711, 37.22746910183797], [-121.87651417453549, 37.2286976199163], [-121.87659723625245, 37.22929397405195], [-121.87038476982514, 37.22930581785897]]]]}, \"properties\": {\"hood_id\": 170209, \"hood_name\": \"Crossgate\", \"fill\": \"#67C2A5\", \"stroke\": \"#67C2A5\", \"fill-opacity\": 0.45}}, {\"type\": \"Feature\", \"geometry\": {\"type\": \"MultiPolygon\", \"coordinates\": [[[[-121.87649535669766, 37.22746372375508], [-121.8733862283633, 37.22747333035989], [-121.87338578144426, 37.22747328945492], [-121.87338537887109, 37.22747309109998], [-121.87325344692283, 37.22738488892255], [-121.87222029274562, 37.22649366409332], [-121.87221985099927, 37.226493223426], [-121.87205375641588, 37.2263054163329], [-121.87205313298495, 37.22630453495546], [-121.87155316040668, 37.22544269891966], [-121.87159438709534, 37.2251259633671], [-121.87215306470438, 37.22438604822175], [-121.87308147184137, 37.22330943961121], [-121.87355460777746, 37.22304003170958], [-121.8741886762545, 37.22276207958509], [-121.87468433701213, 37.222611979072305], [-121.87558269246551, 37.222599031218486], [-121.87583445097971, 37.22252187579081], [-121.8760590182705, 37.22235902139227], [-121.87617914754452, 37.22214519156296], [-121.87621555820766, 37.222033634467785], [-121.87656732927132, 37.22202410370605], [-121.87649032752961, 37.22284155093297], [-121.87647769880425, 37.22361627348994], [-121.87649535669766, 37.22746372375508]]]]}, \"properties\": {\"hood_id\": 165659, \"hood_name\": \"Crossgates Almaden\", \"fill\": \"#67C2A5\", \"stroke\": \"#67C2A5\", \"fill-opacity\": 0.45}}, {\"type\": \"Feature\", \"geometry\": {\"type\": \"MultiPolygon\", \"coordinates\": [[[[-121.86277004900995, 37.217700913489566], [-121.85997937791223, 37.219982421353805], [-121.85797049515435, 37.218492445175485], [-121.85392313354515, 37.21570375351674], [-121.85470359420742, 37.21501315726901], [-121.85510854560766, 37.21483520767891], [-121.85496339286192, 37.21454719806786], [-121.85493641837905, 37.21389315397765], [-121.8550006390027, 37.213503980599114], [-121.85500048660992, 37.213063541352845], [-121.85495404520509, 37.212725121128535], [-121.8547806207979, 37.21242774499436], [-121.85452136570223, 37.21207910226114], [-121.85394397756136, 37.211660157896496], [-121.8537383803648, 37.21148366393912], [-121.85352034578392, 37.21101046795325], [-121.85320135183497, 37.21053792475349], [-121.85281039317692, 37.208198241199376], [-121.85251163417479, 37.20762959245191], [-121.85314899631999, 37.20755429641963], [-121.85469076470338, 37.207422653450415], [-121.85481632672696, 37.207991698097274], [-121.85553908334361, 37.20788810066264], [-121.85551082143616, 37.20773323364107], [-121.85551100041783, 37.2077288715437], [-121.85551527509608, 37.20772798438299], [-121.85760011421712, 37.20749408534318], [-121.85778283439811, 37.210279406068324], [-121.85824310077112, 37.210280382601354], [-121.85822405691363, 37.20960986512225], [-121.85833255218154, 37.2093942325716], [-121.85863416649852, 37.20928113728898], [-121.85919447978824, 37.209242928325395], [-121.85935601578274, 37.2095025357044], [-121.85936168192762, 37.20979468959822], [-121.85932443272827, 37.209950127751846], [-121.859411470324, 37.21024718043094], [-121.85947376255052, 37.21042271012075], [-121.85967571302695, 37.210541448933746], [-121.85972745979859, 37.21074563461055], [-121.86010990307932, 37.21115400617229], [-121.86010328240747, 37.211496128498744], [-121.86031660287483, 37.211915151640596], [-121.86016962614576, 37.21212850988], [-121.8601914102959, 37.21225930889102], [-121.86043850000328, 37.212467007939566], [-121.8605369493672, 37.21265239268029], [-121.86053304219979, 37.21312248223263], [-121.86053129527733, 37.21312652821275], [-121.86053714644873, 37.21324429453252], [-121.8603391497349, 37.21344323202696], [-121.86034864762036, 37.21361493753619], [-121.86040642526802, 37.21385499740813], [-121.86044567660235, 37.21435660489288], [-121.860229878783, 37.214537517945644], [-121.86020280331434, 37.21477610052658], [-121.86051905059958, 37.215446164590404], [-121.86088697672142, 37.21569346730927], [-121.86058992936262, 37.21593144501007], [-121.86278828441084, 37.21769782208606], [-121.86277004900995, 37.217700913489566], [-121.86277004900995, 37.217700913489566], [-121.86277004900995, 37.217700913489566]]]]}, \"properties\": {\"hood_id\": 1838, \"hood_name\": \"Glenview Serenity\", \"fill\": \"#67C2A5\", \"stroke\": \"#67C2A5\", \"fill-opacity\": 0.45}}, {\"type\": \"Feature\", \"geometry\": {\"type\": \"MultiPolygon\", \"coordinates\": [[[[-121.84486454107548, 37.21013239991907], [-121.84440302833934, 37.210624081809236], [-121.8424981421827, 37.215638685106065], [-121.84235098563897, 37.216010338732175], [-121.8418284068843, 37.21670288237501], [-121.83753698969628, 37.21481989707074], [-121.83479046628293, 37.213365729006206], [-121.83166679396459, 37.212981825671925], [-121.83038848144867, 37.212529565053856], [-121.82984034314188, 37.212228707928375], [-121.8290061828169, 37.21132959979171], [-121.82851032559194, 37.211079923157236], [-121.82810038045022, 37.210903731748544], [-121.82624755908529, 37.209181052776664], [-121.82561961907521, 37.208672619476445], [-121.82459131898395, 37.20752944243383], [-121.82414610032629, 37.20686055602325], [-121.8252809476163, 37.20618531148348], [-121.8261480514659, 37.20567009440108], [-121.82666431223032, 37.205353924826774], [-121.82698815981371, 37.20498824247842], [-121.82715601683617, 37.20448044690929], [-121.82775839278031, 37.20299838463234], [-121.82975645923318, 37.20353820897793], [-121.8307140776883, 37.203746962781516], [-121.8315068835492, 37.203896355966165], [-121.8323158602638, 37.203974999646185], [-121.83297181190596, 37.20400211556385], [-121.83936903145542, 37.20420604686674], [-121.84019262067193, 37.20428179744883], [-121.84149904968882, 37.2047294138981], [-121.84258376446053, 37.205392112359654], [-121.84330369880627, 37.20608045043598], [-121.84448247882392, 37.207215224865244], [-121.8463049890052, 37.209366817705046], [-121.84486454107548, 37.21013239991907]]]]}, \"properties\": {\"hood_id\": 164743, \"hood_name\": \"Graystone\", \"fill\": \"#67C2A5\", \"stroke\": \"#67C2A5\", \"fill-opacity\": 0.45}}, {\"type\": \"Feature\", \"geometry\": {\"type\": \"MultiPolygon\", \"coordinates\": [[[[-121.88421470619392, 37.2295097206676], [-121.88409594229068, 37.23237446516879], [-121.88025888120615, 37.23247693132266], [-121.87662566800668, 37.23234021679166], [-121.87652655651016, 37.23276203635657], [-121.87632552107107, 37.233081348524486], [-121.87603329052547, 37.23339211728344], [-121.87583761950441, 37.23372851082269], [-121.87577091583478, 37.23408794845441], [-121.87576438609011, 37.234434234621176], [-121.87565919727524, 37.23482092478897], [-121.87554222985148, 37.235069791284616], [-121.87533943173912, 37.235310115119695], [-121.87516310905562, 37.2354908408977], [-121.87489629437715, 37.23564728819653], [-121.87457724174135, 37.235806429874486], [-121.87314520260145, 37.23627846351909], [-121.87272827263507, 37.235305457507536], [-121.87231595976675, 37.23445164739706], [-121.87190364689843, 37.23359782761712], [-121.87166940609649, 37.23288508671796], [-121.87155942893412, 37.23246159084084], [-121.87209318193544, 37.23248228621915], [-121.87464447738648, 37.232488866186095], [-121.87465572324697, 37.22929708613667], [-121.87989168891642, 37.229284566021704], [-121.8804879553121, 37.22919795859061], [-121.88342538218069, 37.228334566816066], [-121.88442088972238, 37.22816312293489], [-121.88421470619392, 37.2295097206676], [-121.88421470619392, 37.2295097206676]]]]}, \"properties\": {\"hood_id\": 164738, \"hood_name\": \"Jeffrey Fontana Park\", \"fill\": \"#67C2A5\", \"stroke\": \"#67C2A5\", \"fill-opacity\": 0.45}}, {\"type\": \"Feature\", \"geometry\": {\"type\": \"MultiPolygon\", \"coordinates\": [[[[-121.8153787172878, 37.18818773675418], [-121.8163699744218, 37.19007033305374], [-121.8162710944943, 37.19245083319708], [-121.8192632795534, 37.19459826363993], [-121.8193020265589, 37.19456969947051], [-121.8207355222523, 37.19558379583039], [-121.8206842702306, 37.19564631696628], [-121.8218263111702, 37.19645506139654], [-121.824582305655, 37.19841206366293], [-121.8251067022393, 37.1981299831421], [-121.8252971885232, 37.19884772522623], [-121.8275235208933, 37.19958242950745], [-121.8294227226514, 37.20118854801068], [-121.8284823225013, 37.20178691970951], [-121.8280228512623, 37.20234247142647], [-121.827836030987, 37.2026886100586], [-121.8277350414002, 37.20300056511429], [-121.826980479842, 37.204983906928], [-121.8266798205799, 37.20534432561057], [-121.8241368345815, 37.20684978974876], [-121.8232780239921, 37.20721171748435], [-121.8171615800288, 37.22032471414061], [-121.8171570461225, 37.22033057832839], [-121.8171515080338, 37.22033550525221], [-121.8171451559442, 37.22033932571842], [-121.8171382079884, 37.22034190852982], [-121.8171309027636, 37.22034316499104], [-121.8171234911357, 37.2203430519544], [-121.8147826695807, 37.22008916264886], [-121.8147733448424, 37.22008699916242], [-121.8125178422241, 37.21926897671014], [-121.8125156916093, 37.21926812559703], [-121.8053410448226, 37.21618593896486], [-121.8053379893025, 37.21618446995689], [-121.7930287888905, 37.20771675219157], [-121.7790029747089, 37.20211946002057], [-121.7789954346856, 37.20211424146586], [-121.7785764989567, 37.20174659239373], [-121.7757144755239, 37.19923477214304], [-121.7731687857486, 37.19700038629712], [-121.7724874148801, 37.19640228157046], [-121.770167300643, 37.19436554669564], [-121.7701672679872, 37.19436551799699], [-121.7654565862555, 37.19022112612694], [-121.7654510341212, 37.19021512952156], [-121.7654468165955, 37.19020812966807], [-121.7654441097218, 37.19020041874679], [-121.7654430264876, 37.19019231861866], [-121.7654436121081, 37.19018416739049], [-121.7658828816008, 37.1876859312947], [-121.7658851047318, 37.18767808655755], [-121.7658888724319, 37.18767085560685], [-121.7658940281481, 37.18766453889863], [-121.7674687031404, 37.18609377347941], [-121.7674743514077, 37.18608908981413], [-121.7674807601879, 37.18608551669483], [-121.7674877138268, 37.18608317435618], [-121.7674949783361, 37.18608214161737], [-121.7956774322631, 37.18715191485756], [-121.8153986039503, 37.18382347404316], [-121.8154710726877, 37.18402076308409], [-121.816058525556, 37.18478219277343], [-121.8157957672606, 37.18505710000162], [-121.815635031096, 37.1864274639386], [-121.8158070852253, 37.18780057442292], [-121.8153787172878, 37.18818773675418]]]]}, \"properties\": {\"hood_id\": 176847, \"hood_name\": \"Lake Calero\", \"fill\": \"#67C2A5\", \"stroke\": \"#67C2A5\", \"fill-opacity\": 0.45}}, {\"type\": \"Feature\", \"geometry\": {\"type\": \"MultiPolygon\", \"coordinates\": [[[[-121.88477848049558, 37.224421869428056], [-121.88393351930932, 37.223569392035316], [-121.88203367059276, 37.221738334478125], [-121.88157644154137, 37.22187082852797], [-121.88111921249003, 37.22193497564331], [-121.87656443478, 37.22202722535555], [-121.87648732761818, 37.22284105154604], [-121.87649705379954, 37.228600107627436], [-121.87659261066932, 37.22930185975885], [-121.87993342577994, 37.2292804906285], [-121.88048474351507, 37.22920786639301], [-121.88353803641098, 37.22831284072883], [-121.8844241044228, 37.22816956484871], [-121.88499679031884, 37.2251156403301], [-121.8849867775138, 37.22489663843551], [-121.8849194857637, 37.224656751074086], [-121.88477848049558, 37.224421869428056], [-121.88477848049558, 37.224421869428056]]]]}, \"properties\": {\"hood_id\": 164657, \"hood_name\": \"Los Alamitos\", \"fill\": \"#67C2A5\", \"stroke\": \"#67C2A5\", \"fill-opacity\": 0.45}}, {\"type\": \"Feature\", \"geometry\": {\"type\": \"MultiPolygon\", \"coordinates\": [[[[-121.84040250240878, 37.20400349320246], [-121.84029020782589, 37.204331971306594], [-121.84022082858723, 37.20429299870272], [-121.83935005768058, 37.2042048249161], [-121.83231921888114, 37.20398521574029], [-121.83151143979256, 37.20389709874868], [-121.82976488754878, 37.20354834627054], [-121.82773938556744, 37.20299022771239], [-121.82783531474445, 37.20269821119835], [-121.82800129652958, 37.20239410967792], [-121.82819694020077, 37.202122420172465], [-121.82846768572438, 37.201799455895326], [-121.82940901646884, 37.20118418366757], [-121.82751257007567, 37.19957331712982], [-121.82698124345131, 37.19940243121892], [-121.82531261095477, 37.19885276658275], [-121.82512113329415, 37.19813894383847], [-121.82555356951332, 37.19700184872249], [-121.828800243557, 37.19558224584839], [-121.83035832705696, 37.19646921201278], [-121.83468222887404, 37.19893551820853], [-121.83916148781236, 37.20216992118075], [-121.84040063826069, 37.203481484982554], [-121.840451327545, 37.20370106371013], [-121.84040250240878, 37.20400349320246]]]]}, \"properties\": {\"hood_id\": 1919, \"hood_name\": \"Mountain Shadows\", \"fill\": \"#67C2A5\", \"stroke\": \"#67C2A5\", \"fill-opacity\": 0.45}}, {\"type\": \"Feature\", \"geometry\": {\"type\": \"MultiPolygon\", \"coordinates\": [[[[-121.84471100000002, 37.156245], [-121.844697, 37.156557], [-121.84459600000002, 37.156692], [-121.842064, 37.160648], [-121.837558, 37.163064], [-121.837534, 37.163178], [-121.837781, 37.163532], [-121.82493199999999, 37.174465], [-121.82485400000002, 37.174669], [-121.824861, 37.174746], [-121.82525099999998, 37.175076], [-121.82265899999999, 37.177498], [-121.82233500000001, 37.177984], [-121.82171299999999, 37.178734], [-121.81917099999998, 37.180173], [-121.819795, 37.183206], [-121.82082000000003, 37.184927], [-121.82081399999998, 37.185258], [-121.82445899999999, 37.188939], [-121.82559800000001, 37.189733], [-121.831414, 37.193282], [-121.83447799999999, 37.194986], [-121.83481899999998, 37.194939], [-121.83380899999997, 37.195919], [-121.83419800000001, 37.19618], [-121.83343400000001, 37.196941], [-121.833958, 37.197241], [-121.83312799999999, 37.198059], [-121.82878499999998, 37.195555], [-121.82861000000003, 37.195576], [-121.82823300000001, 37.195922], [-121.82322099999999, 37.197418], [-121.821731, 37.196377], [-121.81813, 37.193765], [-121.81710800000002, 37.19304], [-121.81626599999998, 37.192434], [-121.81638599999997, 37.190069], [-121.81534499999998, 37.188148], [-121.81434999999999, 37.184003], [-121.81399099999999, 37.183352], [-121.813625, 37.182127], [-121.81304, 37.181467], [-121.81394899999998, 37.178339], [-121.812297, 37.176906], [-121.81193300000001, 37.176361], [-121.81129299999998, 37.176036], [-121.81057499999997, 37.173656], [-121.80740800000001, 37.171154], [-121.80714544047544, 37.16809985724337], [-121.81357300000002, 37.166595], [-121.813624, 37.166537], [-121.81420500000002, 37.164805], [-121.839313, 37.155191], [-121.84297600000002, 37.156963], [-121.84306700000002, 37.156942], [-121.84411799999998, 37.156032], [-121.84434599999997, 37.155975], [-121.84450099999998, 37.156014], [-121.844629, 37.156108], [-121.84471100000002, 37.156245], [-121.84471100000002, 37.156245]]]]}, \"properties\": {\"hood_id\": 154126, \"hood_name\": \"New Almaden\", \"fill\": \"#67C2A5\", \"stroke\": \"#67C2A5\", \"fill-opacity\": 0.45}}, {\"type\": \"Feature\", \"geometry\": {\"type\": \"MultiPolygon\", \"coordinates\": [[[[-121.88691416648248, 37.218656889547255], [-121.8866623296746, 37.21810111025411], [-121.88641994601363, 37.21763208541077], [-121.88327441540764, 37.21413001911947], [-121.87624817527922, 37.21238477222212], [-121.87631753971402, 37.21722992836965], [-121.87640836182078, 37.2220235132924], [-121.88073980718423, 37.22194614765599], [-121.88113258970702, 37.221941638232586], [-121.88159720186991, 37.22187958001592], [-121.88200816985261, 37.22175344645925], [-121.88528354954985, 37.22018373013781], [-121.88571079195799, 37.22005507907262], [-121.88632138009632, 37.21999075345774], [-121.88692123939848, 37.220003319991065], [-121.88722573620248, 37.21948030825132], [-121.88691416648248, 37.218656889547255], [-121.88691416648248, 37.218656889547255]]]]}, \"properties\": {\"hood_id\": 164667, \"hood_name\": \"Pierce Ranch\", \"fill\": \"#67C2A5\", \"stroke\": \"#67C2A5\", \"fill-opacity\": 0.45}}, {\"type\": \"Feature\", \"geometry\": {\"type\": \"MultiPolygon\", \"coordinates\": [[[[-121.87464348709182, 37.232507777045576], [-121.87158653657184, 37.23246289863226], [-121.87166738672073, 37.232876108872624], [-121.87047399564835, 37.23316813401596], [-121.86907284962001, 37.23139036760507], [-121.86824349615432, 37.23158899786254], [-121.86305914356973, 37.22895633756674], [-121.86180807178494, 37.228964081172435], [-121.8589192283797, 37.227721950574356], [-121.85821906753063, 37.226770255520854], [-121.85812766383185, 37.22478139910524], [-121.8579565470701, 37.21849164864526], [-121.86397561246417, 37.222921507265646], [-121.86620199427603, 37.22462775912024], [-121.86831035889134, 37.22625712072651], [-121.86893550926447, 37.22691333001388], [-121.8694855577852, 37.2276635034162], [-121.87037481232358, 37.22929403929505], [-121.8746560915688, 37.22930601613117], [-121.87464348709182, 37.232507777045576], [-121.87464348709182, 37.232507777045576]]]]}, \"properties\": {\"hood_id\": 2016, \"hood_name\": \"Sunrise Almaden\", \"fill\": \"#67C2A5\", \"stroke\": \"#67C2A5\", \"fill-opacity\": 0.45}}, {\"type\": \"Feature\", \"geometry\": {\"type\": \"MultiPolygon\", \"coordinates\": [[[[-121.8933970146769, 37.23383522874086], [-121.8935416182149, 37.234750673000896], [-121.89342872968746, 37.234726502358676], [-121.89177601743677, 37.23544692914926], [-121.89100259824545, 37.23596525704958], [-121.8901745918788, 37.23673711060511], [-121.8886795116864, 37.237802468316], [-121.88680227865478, 37.23856343018795], [-121.88667099525003, 37.237877527111394], [-121.88672696508917, 37.23740489373496], [-121.88680747547699, 37.237191836113894], [-121.88704300032873, 37.236852952715836], [-121.88718947630298, 37.23650393237537], [-121.88724125661804, 37.23614577430484], [-121.88717595166906, 37.23580867180753], [-121.88705163812182, 37.23542031685697], [-121.88668028120617, 37.23474740917089], [-121.88636409465983, 37.23441165522491], [-121.88612245641065, 37.23425673322318], [-121.88493668058828, 37.233632000725606], [-121.88470016731935, 37.23346736816421], [-121.88438895123636, 37.23313841357278], [-121.88421188552275, 37.232815906641726], [-121.88409919282549, 37.23239943452544], [-121.88421031364715, 37.22949893391408], [-121.8844287228294, 37.22817018545818], [-121.8855985694401, 37.22821395227309], [-121.89038403380289, 37.22877881822411], [-121.89267359058863, 37.22879586902613], [-121.89338277244485, 37.22887274359772], [-121.89428507335015, 37.22907775638734], [-121.89536011430852, 37.22952195028413], [-121.89671847763611, 37.23030771835557], [-121.895076072488, 37.23187578367161], [-121.89479533628855, 37.23205627030459], [-121.89451281111099, 37.23232803495103], [-121.89434562029203, 37.23256468362594], [-121.89403895460441, 37.23319426823652], [-121.89390395029375, 37.233413830085446], [-121.89369160885155, 37.23363892825067], [-121.89353291158966, 37.23377860566003], [-121.8933970146769, 37.23383522874086]]]]}, \"properties\": {\"hood_id\": 154651, \"hood_name\": \"TJMPNA\", \"fill\": \"#67C2A5\", \"stroke\": \"#67C2A5\", \"fill-opacity\": 0.45}}, {\"type\": \"Feature\", \"geometry\": {\"type\": \"MultiPolygon\", \"coordinates\": [[[[-121.85783620600876, 37.201067568573514], [-121.8578346091304, 37.201749411204545], [-121.85714885076845, 37.20180291805604], [-121.85688030795438, 37.20165720858158], [-121.85628701097119, 37.20179445410654], [-121.85620682514775, 37.201648181667615], [-121.85627416082013, 37.20149977443242], [-121.85615551752011, 37.20131579148229], [-121.85565063612188, 37.2010378069567], [-121.85589097007528, 37.19998550811859], [-121.8557100491443, 37.19942136669252], [-121.85566884005817, 37.1992886342284], [-121.85573469274675, 37.198900893303744], [-121.85578985222571, 37.19873416086869], [-121.85577994828543, 37.19872119440873], [-121.85530784748909, 37.19894355643827], [-121.85512242489642, 37.19911691003841], [-121.85479393448577, 37.19965390653173], [-121.85460762864102, 37.20003330627066], [-121.85458526968989, 37.20064155334249], [-121.8537778664795, 37.20065288313662], [-121.85383494859565, 37.201032127706455], [-121.85298549297443, 37.20088500775156], [-121.85274537659342, 37.20078614000357], [-121.8523765141797, 37.20054199404761], [-121.85216450231928, 37.20047244441373], [-121.85170829209022, 37.2003931655382], [-121.85111260699233, 37.20022842849732], [-121.85101044835318, 37.200234607537325], [-121.85074175805858, 37.20016150745801], [-121.85056962728845, 37.20028496111658], [-121.84988956504338, 37.19970924774243], [-121.84952671797816, 37.199953546648516], [-121.84888374670379, 37.19922682876471], [-121.84888731936263, 37.19885628351361], [-121.84864688448744, 37.19826243959523], [-121.84862298210305, 37.19676405255388], [-121.85781603814542, 37.19675074582529], [-121.85781720406453, 37.19960342013058], [-121.85783620600876, 37.201067568573514], [-121.85783620600876, 37.201067568573514]]]]}, \"properties\": {\"hood_id\": 250198, \"hood_name\": \"Country View Custom Estates\", \"fill\": \"#67C2A5\", \"stroke\": \"#67C2A5\", \"fill-opacity\": 0.45}}, {\"type\": \"Feature\", \"geometry\": {\"type\": \"MultiPolygon\", \"coordinates\": [[[[-121.83060278459999, 37.23688576166315], [-121.82892638808369, 37.23693294960412], [-121.82821224596296, 37.23704297554735], [-121.82672562764594, 37.237375083406306], [-121.82591961589594, 37.23747555161582], [-121.82121498951972, 37.23760409305699], [-121.8202386019102, 37.2375536788311], [-121.81940162564126, 37.23741868388271], [-121.8168339830828, 37.236951135913486], [-121.8038800398424, 37.23697282760095], [-121.80372976081765, 37.22660172461597], [-121.80097046242128, 37.22657134305201], [-121.80085801260356, 37.226368999499805], [-121.80091950375925, 37.22610582264814], [-121.80240951602093, 37.22551342423838], [-121.80369098421119, 37.224552308804924], [-121.80546597886018, 37.224103769422015], [-121.80642994850996, 37.22489901885744], [-121.80739391815968, 37.22472890273876], [-121.80833027248758, 37.224750187695655], [-121.80840363486107, 37.22667295859241], [-121.80952842316833, 37.226784627426575], [-121.8132852551077, 37.22675479585], [-121.81739021309966, 37.227864948642384], [-121.81783518823579, 37.227856310712795], [-121.81963754061758, 37.22852329887867], [-121.82456558669935, 37.228418979956025], [-121.8257247491988, 37.22873306747674], [-121.82645076595873, 37.22812063228063], [-121.8278312417184, 37.22754236299747], [-121.82795289956698, 37.22700089387524], [-121.82739704562954, 37.226456127858306], [-121.8272918028066, 37.22611638733609], [-121.82751824199005, 37.22588702734527], [-121.82863145868384, 37.22612912637019], [-121.82883401544075, 37.226361232769236], [-121.82906403985191, 37.22648582854085], [-121.82933697960732, 37.22647373877761], [-121.82963222250407, 37.22632576347258], [-121.82970772416684, 37.226354441154726], [-121.82964375096083, 37.226921316523445], [-121.82970852378753, 37.22712939228997], [-121.83046114155309, 37.22714158861843], [-121.83060278459999, 37.23688576166315], [-121.83060278459999, 37.23688576166315]]]]}, \"properties\": {\"hood_id\": 170010, \"hood_name\": \"East Santa Teresa Foothills\", \"fill\": \"#67C2A5\", \"stroke\": \"#67C2A5\", \"fill-opacity\": 0.45}}, {\"type\": \"Feature\", \"geometry\": {\"type\": \"MultiPolygon\", \"coordinates\": [[[[-121.85815488885345, 37.228833612121115], [-121.85815056292927, 37.2288347258107], [-121.85814662673442, 37.228832613869514], [-121.85627886030494, 37.2275941580431], [-121.85626193970535, 37.22758514367035], [-121.85624360980046, 37.22757952404447], [-121.85622454433462, 37.22757750572357], [-121.85414221632891, 37.2275578013006], [-121.85412320952776, 37.22755944126651], [-121.85275791478, 37.227810144005694], [-121.85275249867703, 37.22781052968569], [-121.85274712977753, 37.22780971861303], [-121.8514213953249, 37.22750754947969], [-121.84945193070871, 37.22614606971202], [-121.8494477991253, 37.22614703183797], [-121.84944749499277, 37.226142800624174], [-121.84728813104476, 37.224355075835305], [-121.8490824081174, 37.221706336396636], [-121.85099579271275, 37.22249939515917], [-121.85283224956737, 37.222827575413646], [-121.85483628851955, 37.22363555233044], [-121.8581235500763, 37.224629010281824], [-121.8582210343792, 37.22675367693281], [-121.85890277785813, 37.22771347547625], [-121.85999868389587, 37.2281881194608], [-121.85815488885345, 37.228833612121115]]]]}, \"properties\": {\"hood_id\": 170245, \"hood_name\": \"Graystone of Almaden\", \"fill\": \"#67C2A5\", \"stroke\": \"#67C2A5\", \"fill-opacity\": 0.45}}, {\"type\": \"Feature\", \"geometry\": {\"type\": \"MultiPolygon\", \"coordinates\": [[[[-121.84052500000001, 37.22532], [-121.84078099999999, 37.22514], [-121.84015, 37.229562], [-121.83860700000002, 37.229554], [-121.83849099999998, 37.229463], [-121.83833600000003, 37.229168], [-121.83818500000001, 37.228994], [-121.83797400000003, 37.228929], [-121.83750099999997, 37.229009], [-121.83728200000002, 37.229004], [-121.837061, 37.228912], [-121.83659599999999, 37.228327], [-121.83630499999998, 37.228271], [-121.83593952513127, 37.22827691472885], [-121.83456319577027, 37.226995352809006], [-121.8297424827881, 37.227101402496174], [-121.82965251057061, 37.22689747703541], [-121.82970201322178, 37.226331109168335], [-121.82905, 37.226479], [-121.82882699999999, 37.226366], [-121.82862899999998, 37.226112], [-121.82804699999997, 37.226005], [-121.82752900000003, 37.22589], [-121.82741199999998, 37.22599], [-121.82147900000001, 37.226019], [-121.821393, 37.224713], [-121.82136713801407, 37.22232196129178], [-121.8208124008001, 37.22260043457941], [-121.8196874541444, 37.22238325100928], [-121.81906060780022, 37.22273981740524], [-121.81779768263686, 37.22256772199965], [-121.81715702996496, 37.221284068983245], [-121.81717203151538, 37.22033187543405], [-121.81758400000001, 37.219428], [-121.81814400000002, 37.218352], [-121.81881799999996, 37.218534], [-121.81951400000003, 37.218614], [-121.82033999999999, 37.218873], [-121.82077300000003, 37.219068], [-121.821256, 37.218806], [-121.82204000000002, 37.218424], [-121.82237299999997, 37.217906], [-121.82240100000001, 37.21778], [-121.82235700000001, 37.217667], [-121.82230199999998, 37.217621], [-121.822183, 37.217594], [-121.82212800000002, 37.217547], [-121.82205399999998, 37.216647], [-121.82209799999998, 37.216488], [-121.823038, 37.216356], [-121.823376, 37.215979], [-121.82545900000002, 37.214654], [-121.825853, 37.214952], [-121.82636000000002, 37.215254], [-121.82646899999997, 37.215266], [-121.82656700000001, 37.215314], [-121.827339, 37.21545], [-121.829183, 37.215842], [-121.82965999999999, 37.215906], [-121.829771, 37.215851], [-121.830082, 37.215817], [-121.83148, 37.215816], [-121.83195799999999, 37.215859], [-121.83230500000002, 37.215936], [-121.832492, 37.216029], [-121.83273400000002, 37.216251], [-121.83419400000002, 37.217747], [-121.83567600000003, 37.217108], [-121.83653600000002, 37.216306], [-121.83684, 37.216191], [-121.83787000000001, 37.215182], [-121.83923199999998, 37.215932], [-121.83965999999998, 37.216053], [-121.83966900000001, 37.216096], [-121.841745, 37.217], [-121.842356, 37.217785], [-121.84112800000003, 37.218993], [-121.84023200000001, 37.219817], [-121.84015999999997, 37.219933], [-121.84006499999998, 37.220127], [-121.83872400000001, 37.22071], [-121.83818600000001, 37.221269], [-121.83839699999999, 37.221455], [-121.83732800000001, 37.2222], [-121.83965799999999, 37.223204], [-121.83831600000002, 37.22389], [-121.83808899999997, 37.224405], [-121.84049600000003, 37.225334], [-121.84052500000001, 37.22532]]]]}, \"properties\": {\"hood_id\": 177828, \"hood_name\": \"Graystone Hill\", \"fill\": \"#67C2A5\", \"stroke\": \"#67C2A5\", \"fill-opacity\": 0.45}}, {\"type\": \"Feature\", \"geometry\": {\"type\": \"MultiPolygon\", \"coordinates\": [[[[-121.83787250607747, 37.21516710784651], [-121.83685927401075, 37.21618281733145], [-121.83650694131882, 37.216328161703544], [-121.83570404648714, 37.217106407758955], [-121.83510474007318, 37.21730528940221], [-121.83418573785195, 37.217770456783136], [-121.83309435524984, 37.2165779354277], [-121.8327003977314, 37.21600514321242], [-121.83261541806536, 37.2159331070222], [-121.83244073409674, 37.21583515751921], [-121.83218652468787, 37.21576106197162], [-121.83199633678174, 37.21572491076859], [-121.83155008215283, 37.215681675450355], [-121.83074136778475, 37.21566929671483], [-121.82980076899969, 37.215703674887], [-121.82977511892511, 37.21569171998981], [-121.82921315090346, 37.21570679708665], [-121.82750382763078, 37.21533943803401], [-121.82659112885108, 37.21517266078296], [-121.82637774051204, 37.21510048583233], [-121.82616879919777, 37.21498234013641], [-121.82571494457773, 37.214662394422305], [-121.82556136323353, 37.21462457209886], [-121.82544665776055, 37.214661119683335], [-121.82346651181717, 37.215921429700096], [-121.8226274659886, 37.215743276700195], [-121.8225376566678, 37.215607550360154], [-121.82249795043907, 37.215591166177276], [-121.8217406402926, 37.215742474197434], [-121.82170959881205, 37.21576335584268], [-121.8216980939684, 37.21582148531456], [-121.82191351521897, 37.21639270028894], [-121.82184767473416, 37.216432322930885], [-121.82181884086287, 37.21650125952112], [-121.82187263519688, 37.2166302739346], [-121.82188751186504, 37.21671018707106], [-121.82193518425493, 37.217239282980486], [-121.82195255228231, 37.21753901097169], [-121.82194203640063, 37.21756901260956], [-121.82190243470131, 37.21759299338799], [-121.8215984951762, 37.21765659424791], [-121.82115332961115, 37.21781534198037], [-121.82102317694023, 37.21787200518398], [-121.8210256217597, 37.217944316945356], [-121.82088137742875, 37.21800495614937], [-121.82078274354251, 37.218026584603564], [-121.82034713325993, 37.21799496810497], [-121.82031229326071, 37.218039620511284], [-121.82064746470991, 37.218095045427404], [-121.82079945635212, 37.21809126637194], [-121.82093637853609, 37.218060380239834], [-121.82166554665031, 37.21778322638202], [-121.82196519231121, 37.21772683369441], [-121.82247456787223, 37.2177472277224], [-121.82204572016843, 37.21842123316204], [-121.82125690683057, 37.21880611267209], [-121.82077526968902, 37.21907062217872], [-121.82033767533778, 37.21887251799536], [-121.81951702343059, 37.218614665541715], [-121.81881914672005, 37.21853382874188], [-121.81814408246032, 37.218351559578295], [-121.81947050856382, 37.2156495745723], [-121.8198988066448, 37.21470143148709], [-121.82012486163012, 37.2143296324756], [-121.82281188190774, 37.20894274060466], [-121.82346179005089, 37.20963548441287], [-121.82362490637786, 37.209834359039505], [-121.82371279167353, 37.20988967832633], [-121.82378828595529, 37.20989861378585], [-121.82385562520699, 37.20987866654228], [-121.82401516982264, 37.20975935477465], [-121.82408590209434, 37.209669004534014], [-121.82409845225715, 37.20959123268698], [-121.82405928214575, 37.20948590412873], [-121.82397176190858, 37.20941959049591], [-121.8233984086146, 37.20882410869521], [-121.8230131905932, 37.20854371893254], [-121.82365071496054, 37.207288297448315], [-121.82389666929151, 37.20780175375656], [-121.82435863156991, 37.20832522359252], [-121.82470911037404, 37.20856650198405], [-121.82489324403753, 37.20890421513256], [-121.82485437049218, 37.208960097415485], [-121.8248210742625, 37.2090592147264], [-121.82482288387206, 37.209123290111386], [-121.82487364712023, 37.20921821096948], [-121.82493941511916, 37.209262530739124], [-121.82504970269355, 37.20927233143681], [-121.82540372876605, 37.209204483929675], [-121.8261128018118, 37.20976081254007], [-121.82735991159007, 37.2107972375026], [-121.82883074957283, 37.21164833087859], [-121.82978399636244, 37.2127025799615], [-121.83255031814821, 37.21372193156233], [-121.8330452295574, 37.21379665329467], [-121.83416949405489, 37.21401672883526], [-121.83433501864249, 37.214058100663905], [-121.83441488743273, 37.214115175392756], [-121.83455222618761, 37.21416114177163], [-121.83469650943863, 37.21415405919474], [-121.83482871104763, 37.21409657640893], [-121.8350696577051, 37.21412279299415], [-121.83619578067123, 37.214702628625545], [-121.83738984478225, 37.214891971233136], [-121.83787250607747, 37.21516710784651]]]]}, \"properties\": {\"hood_id\": 188552, \"hood_name\": \"Singer Park\", \"fill\": \"#67C2A5\", \"stroke\": \"#67C2A5\", \"fill-opacity\": 0.45}}, {\"type\": \"Feature\", \"geometry\": {\"type\": \"MultiPolygon\", \"coordinates\": [[[[-121.84823699999998, 37.228201], [-121.84700399999997, 37.227718], [-121.84594900000002, 37.227153], [-121.84441800000002, 37.22692], [-121.843863, 37.226888], [-121.84107699999998, 37.225029], [-121.84047399999997, 37.225308], [-121.83809200000002, 37.224395], [-121.83832999999998, 37.223894], [-121.83964000000003, 37.223209], [-121.83964500000002, 37.223193], [-121.83788199999998, 37.22241], [-121.83732800000001, 37.222199], [-121.83835299999998, 37.221481], [-121.83837199999999, 37.22143], [-121.83835899999997, 37.22139], [-121.83820000000003, 37.22126], [-121.83860800000002, 37.220825], [-121.83869700000002, 37.220754], [-121.83873, 37.220681], [-121.83994100000001, 37.220196], [-121.840105, 37.220113], [-121.84019, 37.219941], [-121.84018900000001, 37.219861], [-121.841114, 37.218985], [-121.8424087632294, 37.2177516630205], [-121.8440341580581, 37.219843383724495], [-121.84793676025765, 37.22083796146761], [-121.848728, 37.222123], [-121.84721100000002, 37.224402], [-121.84765299999998, 37.225884], [-121.84823699999998, 37.228201], [-121.84823699999998, 37.228201]]]]}, \"properties\": {\"hood_id\": 243237, \"hood_name\": \"Vista De Graystone\", \"fill\": \"#67C2A5\", \"stroke\": \"#67C2A5\", \"fill-opacity\": 0.45}}, {\"type\": \"Feature\", \"geometry\": {\"type\": \"MultiPolygon\", \"coordinates\": [[[[-121.84164486804139, 37.23682452677933], [-121.83963812783117, 37.23678177949079], [-121.8305936701467, 37.236883832607326], [-121.83046308487167, 37.227145234859314], [-121.83453912295317, 37.22701685584501], [-121.83729153202574, 37.22954039794633], [-121.84014831593822, 37.22956348633663], [-121.84082568937026, 37.230642834153585], [-121.8443722980681, 37.23084080919918], [-121.8453731262207, 37.23149504624876], [-121.8463563379197, 37.2315231838306], [-121.84716258138229, 37.2326339791175], [-121.85000730369615, 37.23258303476772], [-121.85029856302782, 37.233215459643525], [-121.85103427867693, 37.233693968700415], [-121.85211331708001, 37.23365995486192], [-121.85353584647225, 37.235010817057464], [-121.85258523542257, 37.235488272381275], [-121.85538384326497, 37.23668816645467], [-121.85884763894308, 37.237460962839506], [-121.86220951067855, 37.23883592524124], [-121.86516146852699, 37.23883392714713], [-121.86813964871772, 37.238625380120794], [-121.86974010165898, 37.238131410696056], [-121.86924843156868, 37.239166364633505], [-121.86905716888793, 37.239714449516256], [-121.86455848321634, 37.240164346241144], [-121.86465916485179, 37.24114954346358], [-121.86436700166388, 37.241872909567846], [-121.86277416469864, 37.24161141516939], [-121.86229215745493, 37.241686304226086], [-121.86158563503318, 37.241853164314705], [-121.8602798785501, 37.24232354022742], [-121.85995422980835, 37.241790031512686], [-121.85943546201759, 37.24129068367741], [-121.85873430401381, 37.240851121040464], [-121.85796877299367, 37.240496968408294], [-121.85082720263551, 37.238776551759386], [-121.84488726191609, 37.237389219140326], [-121.84291699053853, 37.23699269879121], [-121.84164486804139, 37.23682452677933], [-121.84164486804139, 37.23682452677933], [-121.84164486804139, 37.23682452677933]]]]}, \"properties\": {\"hood_id\": 258541, \"hood_name\": \"West Santa Teresa Foothills\", \"fill\": \"#67C2A5\", \"stroke\": \"#67C2A5\", \"fill-opacity\": 0.45}}]},\n",
      "          neighborhoodMapOptions:{\n",
      "            tileServerHosts: [\"https://tiles-0.nextdoor.com\", \"https://tiles-1.nextdoor.com\", \"https://tiles-2.nextdoor.com\", \"https://tiles-3.nextdoor.com\"],\n",
      "            domSelector: 'neighborhood-map',\n",
      "            mapBounds: '37.2093710662332,-121.85812286877808,37.22464051574562,-121.84184651304736',\n",
      "            hoodFeatures: [{\"type\": \"MULTIPOLYGON\", \"name\": \"Nextdoor New Almaden\", \"info\": \"\", \"id\": 154126, \"geometry\": \"{\\\"type\\\": \\\"MultiPolygon\\\", \\\"coordinates\\\": [[[[-121.84471100000002, 37.156245], [-121.844697, 37.156557], [-121.84459600000002, 37.156692], [-121.842064, 37.160648], [-121.837558, 37.163064], [-121.837534, 37.163178], [-121.837781, 37.163532], [-121.82493199999999, 37.174465], [-121.82485400000002, 37.174669], [-121.824861, 37.174746], [-121.82525099999998, 37.175076], [-121.82265899999999, 37.177498], [-121.82233500000001, 37.177984], [-121.82171299999999, 37.178734], [-121.81917099999998, 37.180173], [-121.819795, 37.183206], [-121.82082000000003, 37.184927], [-121.82081399999998, 37.185258], [-121.82445899999999, 37.188939], [-121.82559800000001, 37.189733], [-121.831414, 37.193282], [-121.83447799999999, 37.194986], [-121.83481899999998, 37.194939], [-121.83380899999997, 37.195919], [-121.83419800000001, 37.19618], [-121.83343400000001, 37.196941], [-121.833958, 37.197241], [-121.83312799999999, 37.198059], [-121.82878499999998, 37.195555], [-121.82861000000003, 37.195576], [-121.82823300000001, 37.195922], [-121.82322099999999, 37.197418], [-121.821731, 37.196377], [-121.81813, 37.193765], [-121.81710800000002, 37.19304], [-121.81626599999998, 37.192434], [-121.81638599999997, 37.190069], [-121.81534499999998, 37.188148], [-121.81434999999999, 37.184003], [-121.81399099999999, 37.183352], [-121.813625, 37.182127], [-121.81304, 37.181467], [-121.81394899999998, 37.178339], [-121.812297, 37.176906], [-121.81193300000001, 37.176361], [-121.81129299999998, 37.176036], [-121.81057499999997, 37.173656], [-121.80740800000001, 37.171154], [-121.80714544047544, 37.16809985724337], [-121.81357300000002, 37.166595], [-121.813624, 37.166537], [-121.81420500000002, 37.164805], [-121.839313, 37.155191], [-121.84297600000002, 37.156963], [-121.84306700000002, 37.156942], [-121.84411799999998, 37.156032], [-121.84434599999997, 37.155975], [-121.84450099999998, 37.156014], [-121.844629, 37.156108], [-121.84471100000002, 37.156245], [-121.84471100000002, 37.156245]]]]}\", \"centroid\": [-121.82345566446807, 37.17392271858063], \"page_url\": \"https://nextdoor.com/neighborhood/10newalmaden--san-jose--ca\", \"short_name\": \"New Almaden\", \"stroke_color\": \"#67C2A5\", \"fill_color\": \"#67C2A5\", \"stroke_weight\": 1, \"fill_opacity\": 0.35}, {\"type\": \"MULTIPOLYGON\", \"name\": \"Nextdoor East Santa Teresa Foothills\", \"info\": \"\", \"id\": 170010, \"geometry\": \"{\\\"type\\\": \\\"MultiPolygon\\\", \\\"coordinates\\\": [[[[-121.83060278459999, 37.23688576166315], [-121.82892638808369, 37.23693294960412], [-121.82821224596296, 37.23704297554735], [-121.82672562764594, 37.237375083406306], [-121.82591961589594, 37.23747555161582], [-121.82121498951972, 37.23760409305699], [-121.8202386019102, 37.2375536788311], [-121.81940162564126, 37.23741868388271], [-121.8168339830828, 37.236951135913486], [-121.8038800398424, 37.23697282760095], [-121.80372976081765, 37.22660172461597], [-121.80097046242128, 37.22657134305201], [-121.80085801260356, 37.226368999499805], [-121.80091950375925, 37.22610582264814], [-121.80240951602093, 37.22551342423838], [-121.80369098421119, 37.224552308804924], [-121.80546597886018, 37.224103769422015], [-121.80642994850996, 37.22489901885744], [-121.80739391815968, 37.22472890273876], [-121.80833027248758, 37.224750187695655], [-121.80840363486107, 37.22667295859241], [-121.80952842316833, 37.226784627426575], [-121.8132852551077, 37.22675479585], [-121.81739021309966, 37.227864948642384], [-121.81783518823579, 37.227856310712795], [-121.81963754061758, 37.22852329887867], [-121.82456558669935, 37.228418979956025], [-121.8257247491988, 37.22873306747674], [-121.82645076595873, 37.22812063228063], [-121.8278312417184, 37.22754236299747], [-121.82795289956698, 37.22700089387524], [-121.82739704562954, 37.226456127858306], [-121.8272918028066, 37.22611638733609], [-121.82751824199005, 37.22588702734527], [-121.82863145868384, 37.22612912637019], [-121.82883401544075, 37.226361232769236], [-121.82906403985191, 37.22648582854085], [-121.82933697960732, 37.22647373877761], [-121.82963222250407, 37.22632576347258], [-121.82970772416684, 37.226354441154726], [-121.82964375096083, 37.226921316523445], [-121.82970852378753, 37.22712939228997], [-121.83046114155309, 37.22714158861843], [-121.83060278459999, 37.23688576166315], [-121.83060278459999, 37.23688576166315]]]]}\", \"centroid\": [-121.81639969237031, 37.231930895397795], \"page_url\": \"https://nextdoor.com/neighborhood/eastsantateresafoothills--san-jose--ca\", \"short_name\": \"East Santa Teresa Foothills\", \"stroke_color\": \"#67C2A5\", \"fill_color\": \"#67C2A5\", \"stroke_weight\": 1, \"fill_opacity\": 0.35}, {\"type\": \"MULTIPOLYGON\", \"name\": \"Nextdoor Cahalan\", \"info\": \"\", \"id\": 170218, \"geometry\": \"{\\\"type\\\": \\\"MultiPolygon\\\", \\\"coordinates\\\": [[[[-121.85576630691014, 37.24654330333634], [-121.85219271838866, 37.24572490523696], [-121.85208031165962, 37.24596312726058], [-121.84853876730449, 37.24512660486785], [-121.84918999009892, 37.243305049877144], [-121.85081753697472, 37.23875891095432], [-121.8579671425482, 37.240478428658065], [-121.85577245038507, 37.2465410217722], [-121.85576630691014, 37.24654330333634], [-121.85576630691014, 37.24654330333634]]]]}\", \"centroid\": [-121.8532326523027, 37.24271993027913], \"page_url\": \"https://nextdoor.com/neighborhood/10cahalan--san-jose--ca\", \"short_name\": \"Cahalan\", \"stroke_color\": \"#67C2A5\", \"fill_color\": \"#67C2A5\", \"stroke_weight\": 1, \"fill_opacity\": 0.35}, {\"type\": \"MULTIPOLYGON\", \"name\": \"Nextdoor Los Alamitos\", \"info\": \"\", \"id\": 164657, \"geometry\": \"{\\\"type\\\": \\\"MultiPolygon\\\", \\\"coordinates\\\": [[[[-121.88477848049558, 37.224421869428056], [-121.88393351930932, 37.223569392035316], [-121.88203367059276, 37.221738334478125], [-121.88157644154137, 37.22187082852797], [-121.88111921249003, 37.22193497564331], [-121.87656443478, 37.22202722535555], [-121.87648732761818, 37.22284105154604], [-121.87649705379954, 37.228600107627436], [-121.87659261066932, 37.22930185975885], [-121.87993342577994, 37.2292804906285], [-121.88048474351507, 37.22920786639301], [-121.88353803641098, 37.22831284072883], [-121.8844241044228, 37.22816956484871], [-121.88499679031884, 37.2251156403301], [-121.8849867775138, 37.22489663843551], [-121.8849194857637, 37.224656751074086], [-121.88477848049558, 37.224421869428056], [-121.88477848049558, 37.224421869428056]]]]}\", \"centroid\": [-121.88031680500903, 37.225592386644145], \"page_url\": \"https://nextdoor.com/neighborhood/10losalamitos--san-jose--ca\", \"short_name\": \"Los Alamitos\", \"stroke_color\": \"#67C2A5\", \"fill_color\": \"#67C2A5\", \"stroke_weight\": 1, \"fill_opacity\": 0.35}, {\"type\": \"MULTIPOLYGON\", \"name\": \"Nextdoor Lake Calero\", \"info\": \"\", \"id\": 176847, \"geometry\": \"{\\\"type\\\": \\\"MultiPolygon\\\", \\\"coordinates\\\": [[[[-121.8153787172878, 37.18818773675418], [-121.8163699744218, 37.19007033305374], [-121.8162710944943, 37.19245083319708], [-121.8192632795534, 37.19459826363993], [-121.8193020265589, 37.19456969947051], [-121.8207355222523, 37.19558379583039], [-121.8206842702306, 37.19564631696628], [-121.8218263111702, 37.19645506139654], [-121.824582305655, 37.19841206366293], [-121.8251067022393, 37.1981299831421], [-121.8252971885232, 37.19884772522623], [-121.8275235208933, 37.19958242950745], [-121.8294227226514, 37.20118854801068], [-121.8284823225013, 37.20178691970951], [-121.8280228512623, 37.20234247142647], [-121.827836030987, 37.2026886100586], [-121.8277350414002, 37.20300056511429], [-121.826980479842, 37.204983906928], [-121.8266798205799, 37.20534432561057], [-121.8241368345815, 37.20684978974876], [-121.8232780239921, 37.20721171748435], [-121.8171615800288, 37.22032471414061], [-121.8171570461225, 37.22033057832839], [-121.8171515080338, 37.22033550525221], [-121.8171451559442, 37.22033932571842], [-121.8171382079884, 37.22034190852982], [-121.8171309027636, 37.22034316499104], [-121.8171234911357, 37.2203430519544], [-121.8147826695807, 37.22008916264886], [-121.8147733448424, 37.22008699916242], [-121.8125178422241, 37.21926897671014], [-121.8125156916093, 37.21926812559703], [-121.8053410448226, 37.21618593896486], [-121.8053379893025, 37.21618446995689], [-121.7930287888905, 37.20771675219157], [-121.7790029747089, 37.20211946002057], [-121.7789954346856, 37.20211424146586], [-121.7785764989567, 37.20174659239373], [-121.7757144755239, 37.19923477214304], [-121.7731687857486, 37.19700038629712], [-121.7724874148801, 37.19640228157046], [-121.770167300643, 37.19436554669564], [-121.7701672679872, 37.19436551799699], [-121.7654565862555, 37.19022112612694], [-121.7654510341212, 37.19021512952156], [-121.7654468165955, 37.19020812966807], [-121.7654441097218, 37.19020041874679], [-121.7654430264876, 37.19019231861866], [-121.7654436121081, 37.19018416739049], [-121.7658828816008, 37.1876859312947], [-121.7658851047318, 37.18767808655755], [-121.7658888724319, 37.18767085560685], [-121.7658940281481, 37.18766453889863], [-121.7674687031404, 37.18609377347941], [-121.7674743514077, 37.18608908981413], [-121.7674807601879, 37.18608551669483], [-121.7674877138268, 37.18608317435618], [-121.7674949783361, 37.18608214161737], [-121.7956774322631, 37.18715191485756], [-121.8153986039503, 37.18382347404316], [-121.8154710726877, 37.18402076308409], [-121.816058525556, 37.18478219277343], [-121.8157957672606, 37.18505710000162], [-121.815635031096, 37.1864274639386], [-121.8158070852253, 37.18780057442292], [-121.8153787172878, 37.18818773675418]]]]}\", \"centroid\": [-121.800365807665, 37.19926766913856], \"page_url\": \"https://nextdoor.com/neighborhood/10lakecalero--san-jose--ca\", \"short_name\": \"Lake Calero\", \"stroke_color\": \"#67C2A5\", \"fill_color\": \"#67C2A5\", \"stroke_weight\": 1, \"fill_opacity\": 0.35}, {\"type\": \"MULTIPOLYGON\", \"name\": \"Nextdoor Almaden Hills Estates\", \"info\": \"\", \"id\": 164638, \"geometry\": \"{\\\"type\\\": \\\"MultiPolygon\\\", \\\"coordinates\\\": [[[[-121.87028188451666, 37.23709372128228], [-121.86983624561356, 37.23577940546306], [-121.86931489686015, 37.235344540774506], [-121.86846610564317, 37.23491708355241], [-121.8657937833944, 37.23458004054181], [-121.86448494871121, 37.234570035070654], [-121.86321902937232, 37.23474795170745], [-121.86314860730454, 37.233498906190356], [-121.86314861799292, 37.2334984650407], [-121.86314892160948, 37.23349814481543], [-121.8636389195691, 37.23281763227032], [-121.8690856397883, 37.231368311734194], [-121.87047000627604, 37.23315484446162], [-121.87167232918682, 37.23286684510802], [-121.87188759918007, 37.233518475207276], [-121.87201703848484, 37.2338113361282], [-121.87220346691925, 37.234257273201976], [-121.87272749323427, 37.23528795898236], [-121.87316568886081, 37.236386964444335], [-121.87028188451666, 37.23709372128228]]]]}\", \"centroid\": [-121.86848575776867, 37.23400844378523], \"page_url\": \"https://nextdoor.com/neighborhood/10almadenhillsestates--san-jose--ca\", \"short_name\": \"Almaden Hills Estates\", \"stroke_color\": \"#67C2A5\", \"fill_color\": \"#67C2A5\", \"stroke_weight\": 1, \"fill_opacity\": 0.35}, {\"type\": \"MULTIPOLYGON\", \"name\": \"Nextdoor West Santa Teresa Foothills\", \"info\": \"\", \"id\": 258541, \"geometry\": \"{\\\"type\\\": \\\"MultiPolygon\\\", \\\"coordinates\\\": [[[[-121.84164486804139, 37.23682452677933], [-121.83963812783117, 37.23678177949079], [-121.8305936701467, 37.236883832607326], [-121.83046308487167, 37.227145234859314], [-121.83453912295317, 37.22701685584501], [-121.83729153202574, 37.22954039794633], [-121.84014831593822, 37.22956348633663], [-121.84082568937026, 37.230642834153585], [-121.8443722980681, 37.23084080919918], [-121.8453731262207, 37.23149504624876], [-121.8463563379197, 37.2315231838306], [-121.84716258138229, 37.2326339791175], [-121.85000730369615, 37.23258303476772], [-121.85029856302782, 37.233215459643525], [-121.85103427867693, 37.233693968700415], [-121.85211331708001, 37.23365995486192], [-121.85353584647225, 37.235010817057464], [-121.85258523542257, 37.235488272381275], [-121.85538384326497, 37.23668816645467], [-121.85884763894308, 37.237460962839506], [-121.86220951067855, 37.23883592524124], [-121.86516146852699, 37.23883392714713], [-121.86813964871772, 37.238625380120794], [-121.86974010165898, 37.238131410696056], [-121.86924843156868, 37.239166364633505], [-121.86905716888793, 37.239714449516256], [-121.86455848321634, 37.240164346241144], [-121.86465916485179, 37.24114954346358], [-121.86436700166388, 37.241872909567846], [-121.86277416469864, 37.24161141516939], [-121.86229215745493, 37.241686304226086], [-121.86158563503318, 37.241853164314705], [-121.8602798785501, 37.24232354022742], [-121.85995422980835, 37.241790031512686], [-121.85943546201759, 37.24129068367741], [-121.85873430401381, 37.240851121040464], [-121.85796877299367, 37.240496968408294], [-121.85082720263551, 37.238776551759386], [-121.84488726191609, 37.237389219140326], [-121.84291699053853, 37.23699269879121], [-121.84164486804139, 37.23682452677933], [-121.84164486804139, 37.23682452677933], [-121.84164486804139, 37.23682452677933]]]]}\", \"centroid\": [-121.84462584623736, 37.234797707899055], \"page_url\": \"https://nextdoor.com/neighborhood/westsantateresafoothills--san-jose--ca\", \"short_name\": \"West Santa Teresa Foothills\", \"stroke_color\": \"#67C2A5\", \"fill_color\": \"#67C2A5\", \"stroke_weight\": 1, \"fill_opacity\": 0.35}, {\"type\": \"MULTIPOLYGON\", \"name\": \"Nextdoor Canoas West\", \"info\": \"\", \"id\": 35448, \"geometry\": \"{\\\"type\\\": \\\"MultiPolygon\\\", \\\"coordinates\\\": [[[[-121.84678487640355, 37.24998370608111], [-121.84676103949897, 37.250564711164486], [-121.8417634386347, 37.2505983826597], [-121.8422161025656, 37.24517886227831], [-121.8435582038573, 37.242647232982], [-121.84483593213258, 37.240371833717084], [-121.8448783907885, 37.23738189532192], [-121.85081480323004, 37.238758589400724], [-121.84853161891533, 37.24512700557749], [-121.84678487640355, 37.24999224625746], [-121.84678487640355, 37.24998370608111], [-121.84678487640355, 37.24998370608111]]]]}\", \"centroid\": [-121.84592161135255, 37.244226516914935], \"page_url\": \"https://nextdoor.com/neighborhood/10canoaswest--san-jose--ca\", \"short_name\": \"Canoas West\", \"stroke_color\": \"#67C2A5\", \"fill_color\": \"#67C2A5\", \"stroke_weight\": 1, \"fill_opacity\": 0.35}, {\"type\": \"MULTIPOLYGON\", \"name\": \"Nextdoor Canoas East\", \"info\": \"\", \"id\": 35447, \"geometry\": \"{\\\"type\\\": \\\"MultiPolygon\\\", \\\"coordinates\\\": [[[[-121.84483816347256, 37.240377759232686], [-121.84355260485165, 37.24264314060623], [-121.8422241308865, 37.24516475202507], [-121.84178509160807, 37.250618111606755], [-121.83969268171444, 37.25067784696856], [-121.83981041204925, 37.249934809973865], [-121.8397907744801, 37.24752751572144], [-121.83961020437005, 37.23679305281799], [-121.84160618645905, 37.23682715160869], [-121.84308697805352, 37.237015052171884], [-121.84487667731764, 37.23739284863447], [-121.84483816347256, 37.24038630049771], [-121.84483816347256, 37.240377759232686], [-121.84483816347256, 37.240377759232686]]]]}\", \"centroid\": [-121.8416642452149, 37.24242560294229], \"page_url\": \"https://nextdoor.com/neighborhood/10canoaseast--san-jose--ca\", \"short_name\": \"Canoas East\", \"stroke_color\": \"#67C2A5\", \"fill_color\": \"#67C2A5\", \"stroke_weight\": 1, \"fill_opacity\": 0.35}, {\"type\": \"MULTIPOLYGON\", \"name\": \"Nextdoor Mountain Shadows\", \"info\": \"\", \"id\": 1919, \"geometry\": \"{\\\"type\\\": \\\"MultiPolygon\\\", \\\"coordinates\\\": [[[[-121.84040250240878, 37.20400349320246], [-121.84029020782589, 37.204331971306594], [-121.84022082858723, 37.20429299870272], [-121.83935005768058, 37.2042048249161], [-121.83231921888114, 37.20398521574029], [-121.83151143979256, 37.20389709874868], [-121.82976488754878, 37.20354834627054], [-121.82773938556744, 37.20299022771239], [-121.82783531474445, 37.20269821119835], [-121.82800129652958, 37.20239410967792], [-121.82819694020077, 37.202122420172465], [-121.82846768572438, 37.201799455895326], [-121.82940901646884, 37.20118418366757], [-121.82751257007567, 37.19957331712982], [-121.82698124345131, 37.19940243121892], [-121.82531261095477, 37.19885276658275], [-121.82512113329415, 37.19813894383847], [-121.82555356951332, 37.19700184872249], [-121.828800243557, 37.19558224584839], [-121.83035832705696, 37.19646921201278], [-121.83468222887404, 37.19893551820853], [-121.83916148781236, 37.20216992118075], [-121.84040063826069, 37.203481484982554], [-121.840451327545, 37.20370106371013], [-121.84040250240878, 37.20400349320246]]]]}\", \"centroid\": [-121.83220876154178, 37.20057810764912], \"page_url\": \"https://nextdoor.com/neighborhood/10mountainshadowssanjose--san-jose--ca\", \"short_name\": \"Mountain Shadows\", \"stroke_color\": \"#67C2A5\", \"fill_color\": \"#67C2A5\", \"stroke_weight\": 1, \"fill_opacity\": 0.35}, {\"type\": \"MULTIPOLYGON\", \"name\": \"Nextdoor Crossgates Almaden\", \"info\": \"\", \"id\": 165659, \"geometry\": \"{\\\"type\\\": \\\"MultiPolygon\\\", \\\"coordinates\\\": [[[[-121.87649535669766, 37.22746372375508], [-121.8733862283633, 37.22747333035989], [-121.87338578144426, 37.22747328945492], [-121.87338537887109, 37.22747309109998], [-121.87325344692283, 37.22738488892255], [-121.87222029274562, 37.22649366409332], [-121.87221985099927, 37.226493223426], [-121.87205375641588, 37.2263054163329], [-121.87205313298495, 37.22630453495546], [-121.87155316040668, 37.22544269891966], [-121.87159438709534, 37.2251259633671], [-121.87215306470438, 37.22438604822175], [-121.87308147184137, 37.22330943961121], [-121.87355460777746, 37.22304003170958], [-121.8741886762545, 37.22276207958509], [-121.87468433701213, 37.222611979072305], [-121.87558269246551, 37.222599031218486], [-121.87583445097971, 37.22252187579081], [-121.8760590182705, 37.22235902139227], [-121.87617914754452, 37.22214519156296], [-121.87621555820766, 37.222033634467785], [-121.87656732927132, 37.22202410370605], [-121.87649032752961, 37.22284155093297], [-121.87647769880425, 37.22361627348994], [-121.87649535669766, 37.22746372375508]]]]}\", \"centroid\": [-121.87444145652252, 37.22510335082971], \"page_url\": \"https://nextdoor.com/neighborhood/10crossgatesalmaden--san-jose--ca\", \"short_name\": \"Crossgates Almaden\", \"stroke_color\": \"#67C2A5\", \"fill_color\": \"#67C2A5\", \"stroke_weight\": 1, \"fill_opacity\": 0.35}, {\"type\": \"MULTIPOLYGON\", \"name\": \"Nextdoor Jeffrey Fontana Park\", \"info\": \"\", \"id\": 164738, \"geometry\": \"{\\\"type\\\": \\\"MultiPolygon\\\", \\\"coordinates\\\": [[[[-121.88421470619392, 37.2295097206676], [-121.88409594229068, 37.23237446516879], [-121.88025888120615, 37.23247693132266], [-121.87662566800668, 37.23234021679166], [-121.87652655651016, 37.23276203635657], [-121.87632552107107, 37.233081348524486], [-121.87603329052547, 37.23339211728344], [-121.87583761950441, 37.23372851082269], [-121.87577091583478, 37.23408794845441], [-121.87576438609011, 37.234434234621176], [-121.87565919727524, 37.23482092478897], [-121.87554222985148, 37.235069791284616], [-121.87533943173912, 37.235310115119695], [-121.87516310905562, 37.2354908408977], [-121.87489629437715, 37.23564728819653], [-121.87457724174135, 37.235806429874486], [-121.87314520260145, 37.23627846351909], [-121.87272827263507, 37.235305457507536], [-121.87231595976675, 37.23445164739706], [-121.87190364689843, 37.23359782761712], [-121.87166940609649, 37.23288508671796], [-121.87155942893412, 37.23246159084084], [-121.87209318193544, 37.23248228621915], [-121.87464447738648, 37.232488866186095], [-121.87465572324697, 37.22929708613667], [-121.87989168891642, 37.229284566021704], [-121.8804879553121, 37.22919795859061], [-121.88342538218069, 37.228334566816066], [-121.88442088972238, 37.22816312293489], [-121.88421470619392, 37.2295097206676], [-121.88421470619392, 37.2295097206676]]]]}\", \"centroid\": [-121.87809757494287, 37.23161018148442], \"page_url\": \"https://nextdoor.com/neighborhood/10jeffreyfontanaparkarea--san-jose--ca\", \"short_name\": \"Jeffrey Fontana Park\", \"stroke_color\": \"#67C2A5\", \"fill_color\": \"#67C2A5\", \"stroke_weight\": 1, \"fill_opacity\": 0.35}, {\"type\": \"MULTIPOLYGON\", \"name\": \"Nextdoor Pierce Ranch\", \"info\": \"\", \"id\": 164667, \"geometry\": \"{\\\"type\\\": \\\"MultiPolygon\\\", \\\"coordinates\\\": [[[[-121.88691416648248, 37.218656889547255], [-121.8866623296746, 37.21810111025411], [-121.88641994601363, 37.21763208541077], [-121.88327441540764, 37.21413001911947], [-121.87624817527922, 37.21238477222212], [-121.87631753971402, 37.21722992836965], [-121.87640836182078, 37.2220235132924], [-121.88073980718423, 37.22194614765599], [-121.88113258970702, 37.221941638232586], [-121.88159720186991, 37.22187958001592], [-121.88200816985261, 37.22175344645925], [-121.88528354954985, 37.22018373013781], [-121.88571079195799, 37.22005507907262], [-121.88632138009632, 37.21999075345774], [-121.88692123939848, 37.220003319991065], [-121.88722573620248, 37.21948030825132], [-121.88691416648248, 37.218656889547255], [-121.88691416648248, 37.218656889547255]]]]}\", \"centroid\": [-121.8806895654363, 37.21766094528002], \"page_url\": \"https://nextdoor.com/neighborhood/10pierceranch--san-jose--ca\", \"short_name\": \"Pierce Ranch\", \"stroke_color\": \"#67C2A5\", \"fill_color\": \"#67C2A5\", \"stroke_weight\": 1, \"fill_opacity\": 0.35}, {\"type\": \"MULTIPOLYGON\", \"name\": \"Nextdoor Campton Chase\", \"info\": \"\", \"id\": 162709, \"geometry\": \"{\\\"type\\\": \\\"MultiPolygon\\\", \\\"coordinates\\\": [[[[-121.88022629675356, 37.24292721719025], [-121.87876405279621, 37.24395407970102], [-121.87703358793732, 37.24440015540205], [-121.874736055894, 37.24451216198377], [-121.87494568493753, 37.24264284901987], [-121.87490029575446, 37.2418021273545], [-121.87472739745806, 37.24092908060488], [-121.87422092044801, 37.23977774833407], [-121.87382173179867, 37.23867764724324], [-121.87313064286059, 37.23627239563784], [-121.87456619368953, 37.23580678344439], [-121.87489667440434, 37.235640132049234], [-121.87513500194234, 37.23549307666657], [-121.87534114297216, 37.23529476996597], [-121.87553655516581, 37.235062295280215], [-121.87566759434327, 37.23482127798315], [-121.87575801132107, 37.234441744404045], [-121.87576259761045, 37.23408783485337], [-121.8758235102892, 37.233738194650144], [-121.87602389783655, 37.23340563693849], [-121.87632084490849, 37.23309016194423], [-121.87652123245596, 37.23276614350268], [-121.87663752842968, 37.23234834353112], [-121.87929483732671, 37.232443838318076], [-121.87924141719043, 37.23820298873238], [-121.8781829091979, 37.23918911606537], [-121.87843479454801, 37.239282530908774], [-121.8786758503922, 37.239399812745766], [-121.87889980731393, 37.239535258781665], [-121.87915950557942, 37.239720872330224], [-121.87921527820367, 37.23980296998245], [-121.87929836933694, 37.239851737711525], [-121.88136667562901, 37.24216511410475], [-121.88022629675356, 37.24292721719025]]]]}\", \"centroid\": [-121.87705196120858, 37.238788594943415], \"page_url\": \"https://nextdoor.com/neighborhood/10camptonchase--san-jose--ca\", \"short_name\": \"Campton Chase\", \"stroke_color\": \"#67C2A5\", \"fill_color\": \"#67C2A5\", \"stroke_weight\": 1, \"fill_opacity\": 0.35}, {\"type\": \"MULTIPOLYGON\", \"name\": \"Nextdoor Almaden Meadows\", \"info\": \"\", \"id\": 164624, \"geometry\": \"{\\\"type\\\": \\\"MultiPolygon\\\", \\\"coordinates\\\": [[[[-121.89473459850296, 37.22925687092096], [-121.8942930692894, 37.229076150478946], [-121.89336874245316, 37.22886126059521], [-121.89273233459778, 37.2287969228329], [-121.89035785530075, 37.22877529795784], [-121.88559189142688, 37.22821620038667], [-121.88443081646903, 37.228169660549796], [-121.88500084271385, 37.22511828174797], [-121.8849438188559, 37.224697967596484], [-121.88478444235739, 37.224419434502714], [-121.88201529247624, 37.22174303534723], [-121.8852374258031, 37.22019835355142], [-121.88568477296877, 37.22006962966], [-121.8863258533051, 37.21997179320096], [-121.88691701536112, 37.220012699374834], [-121.88720780896739, 37.21947430486121], [-121.8934032179597, 37.21846939823191], [-121.89432106412664, 37.218436038100116], [-121.89471646371305, 37.21895626462161], [-121.89507259559463, 37.219721439741875], [-121.89483990602872, 37.221354438713156], [-121.89473459850296, 37.22925687092096], [-121.89473459850296, 37.22925687092096]]]]}\", \"centroid\": [-121.88970361002265, 37.22379058679413], \"page_url\": \"https://nextdoor.com/neighborhood/10almadenmeadows--san-jose--ca\", \"short_name\": \"Almaden Meadows\", \"stroke_color\": \"#67C2A5\", \"fill_color\": \"#67C2A5\", \"stroke_weight\": 1, \"fill_opacity\": 0.35}, {\"type\": \"MULTIPOLYGON\", \"name\": \"Nextdoor TJMPNA\", \"info\": \"\", \"id\": 154651, \"geometry\": \"{\\\"type\\\": \\\"MultiPolygon\\\", \\\"coordinates\\\": [[[[-121.8933970146769, 37.23383522874086], [-121.8935416182149, 37.234750673000896], [-121.89342872968746, 37.234726502358676], [-121.89177601743677, 37.23544692914926], [-121.89100259824545, 37.23596525704958], [-121.8901745918788, 37.23673711060511], [-121.8886795116864, 37.237802468316], [-121.88680227865478, 37.23856343018795], [-121.88667099525003, 37.237877527111394], [-121.88672696508917, 37.23740489373496], [-121.88680747547699, 37.237191836113894], [-121.88704300032873, 37.236852952715836], [-121.88718947630298, 37.23650393237537], [-121.88724125661804, 37.23614577430484], [-121.88717595166906, 37.23580867180753], [-121.88705163812182, 37.23542031685697], [-121.88668028120617, 37.23474740917089], [-121.88636409465983, 37.23441165522491], [-121.88612245641065, 37.23425673322318], [-121.88493668058828, 37.233632000725606], [-121.88470016731935, 37.23346736816421], [-121.88438895123636, 37.23313841357278], [-121.88421188552275, 37.232815906641726], [-121.88409919282549, 37.23239943452544], [-121.88421031364715, 37.22949893391408], [-121.8844287228294, 37.22817018545818], [-121.8855985694401, 37.22821395227309], [-121.89038403380289, 37.22877881822411], [-121.89267359058863, 37.22879586902613], [-121.89338277244485, 37.22887274359772], [-121.89428507335015, 37.22907775638734], [-121.89536011430852, 37.22952195028413], [-121.89671847763611, 37.23030771835557], [-121.895076072488, 37.23187578367161], [-121.89479533628855, 37.23205627030459], [-121.89451281111099, 37.23232803495103], [-121.89434562029203, 37.23256468362594], [-121.89403895460441, 37.23319426823652], [-121.89390395029375, 37.233413830085446], [-121.89369160885155, 37.23363892825067], [-121.89353291158966, 37.23377860566003], [-121.8933970146769, 37.23383522874086]]]]}\", \"centroid\": [-121.88949382368192, 37.23222950355499], \"page_url\": \"https://nextdoor.com/neighborhood/10tjmpna--san-jose--ca\", \"short_name\": \"TJMPNA\", \"stroke_color\": \"#67C2A5\", \"fill_color\": \"#67C2A5\", \"stroke_weight\": 1, \"fill_opacity\": 0.35}, {\"type\": \"MULTIPOLYGON\", \"name\": \"Nextdoor Country View Estates\", \"info\": \"\", \"id\": 1773, \"geometry\": \"{\\\"type\\\": \\\"MultiPolygon\\\", \\\"coordinates\\\": [[[[-121.85795753154093, 37.20755067225197], [-121.85761384967265, 37.20760967249746], [-121.85760404275379, 37.20750226808218], [-121.85551997092125, 37.20772939078328], [-121.85553875095638, 37.20789669821081], [-121.85481779446002, 37.20799325919231], [-121.85468692394699, 37.20742331311715], [-121.85317911416075, 37.20755617644204], [-121.85251888242317, 37.207629224731065], [-121.85205687189915, 37.20689717971693], [-121.85201394724317, 37.20675995473431], [-121.85200393795878, 37.20662043196176], [-121.85204195446954, 37.20644384843966], [-121.852098589827, 37.20632591560612], [-121.85220886936474, 37.20619943745184], [-121.85236226968334, 37.20607501049377], [-121.85284458272906, 37.20574034091702], [-121.85267243677515, 37.205533848150495], [-121.85380872424349, 37.203087061848294], [-121.85056473802962, 37.200283511597206], [-121.85074698427326, 37.200165319640014], [-121.851000521316, 37.200236726930626], [-121.85110385465384, 37.20022267606515], [-121.85170748826386, 37.200399673652754], [-121.8521716470051, 37.200469848579495], [-121.85237153986753, 37.200543392026425], [-121.85275043603633, 37.20078953487665], [-121.85298279946494, 37.20088269592028], [-121.85336536659838, 37.2009502196593], [-121.85383001136967, 37.201028059457336], [-121.8537828263066, 37.2006492925564], [-121.85458870142395, 37.20063840276041], [-121.85460702397967, 37.20003315380441], [-121.85482126435392, 37.199598316253784], [-121.85511060893629, 37.19913242043136], [-121.85530708016995, 37.19894378540081], [-121.85581456145758, 37.19869651041588], [-121.85573411459666, 37.1989043140299], [-121.8556703136286, 37.1992815187493], [-121.85571174597544, 37.19940987275195], [-121.85589030283091, 37.199953800281314], [-121.85564521774711, 37.20103489677072], [-121.85615261635513, 37.20131437786237], [-121.85627050469293, 37.201509551132304], [-121.85620063839974, 37.20163636055875], [-121.85628479633351, 37.201795116871644], [-121.85687866557203, 37.20165896481431], [-121.8571506697287, 37.20180481897915], [-121.85724804508868, 37.202393048180085], [-121.85724349650616, 37.20272063455485], [-121.8571056533084, 37.20335016666449], [-121.85750588358462, 37.203335952149835], [-121.85785573302246, 37.203350250422616], [-121.85787596189948, 37.204205757462844], [-121.85786126189367, 37.20423462477518], [-121.85788585965781, 37.20476219194567], [-121.85795753154093, 37.20755067225197], [-121.85795753154093, 37.20755067225197]]]]}\", \"centroid\": [-121.85503317029665, 37.20412477571036], \"page_url\": \"https://nextdoor.com/neighborhood/10countryviewestates--san-jose--ca\", \"short_name\": \"Country View Estates\", \"stroke_color\": \"#67C2A5\", \"fill_color\": \"#67C2A5\", \"stroke_weight\": 1, \"fill_opacity\": 0.35}, {\"type\": \"MULTIPOLYGON\", \"name\": \"Nextdoor Graystone\", \"info\": \"\", \"id\": 164743, \"geometry\": \"{\\\"type\\\": \\\"MultiPolygon\\\", \\\"coordinates\\\": [[[[-121.84486454107548, 37.21013239991907], [-121.84440302833934, 37.210624081809236], [-121.8424981421827, 37.215638685106065], [-121.84235098563897, 37.216010338732175], [-121.8418284068843, 37.21670288237501], [-121.83753698969628, 37.21481989707074], [-121.83479046628293, 37.213365729006206], [-121.83166679396459, 37.212981825671925], [-121.83038848144867, 37.212529565053856], [-121.82984034314188, 37.212228707928375], [-121.8290061828169, 37.21132959979171], [-121.82851032559194, 37.211079923157236], [-121.82810038045022, 37.210903731748544], [-121.82624755908529, 37.209181052776664], [-121.82561961907521, 37.208672619476445], [-121.82459131898395, 37.20752944243383], [-121.82414610032629, 37.20686055602325], [-121.8252809476163, 37.20618531148348], [-121.8261480514659, 37.20567009440108], [-121.82666431223032, 37.205353924826774], [-121.82698815981371, 37.20498824247842], [-121.82715601683617, 37.20448044690929], [-121.82775839278031, 37.20299838463234], [-121.82975645923318, 37.20353820897793], [-121.8307140776883, 37.203746962781516], [-121.8315068835492, 37.203896355966165], [-121.8323158602638, 37.203974999646185], [-121.83297181190596, 37.20400211556385], [-121.83936903145542, 37.20420604686674], [-121.84019262067193, 37.20428179744883], [-121.84149904968882, 37.2047294138981], [-121.84258376446053, 37.205392112359654], [-121.84330369880627, 37.20608045043598], [-121.84448247882392, 37.207215224865244], [-121.8463049890052, 37.209366817705046], [-121.84486454107548, 37.21013239991907]]]]}\", \"centroid\": [-121.83577364149117, 37.20902251102654], \"page_url\": \"https://nextdoor.com/neighborhood/10graystone--san-jose--ca\", \"short_name\": \"Graystone\", \"stroke_color\": \"#67C2A5\", \"fill_color\": \"#67C2A5\", \"stroke_weight\": 1, \"fill_opacity\": 0.35}, {\"type\": \"MULTIPOLYGON\", \"name\": \"Nextdoor Almaden Mockingbird\", \"info\": \"\", \"id\": 164783, \"geometry\": \"{\\\"type\\\": \\\"MultiPolygon\\\", \\\"coordinates\\\": [[[[-121.85381999999998, 37.203083], [-121.85267199999998, 37.205529], [-121.85284300000001, 37.205743], [-121.85236199999997, 37.206072], [-121.85221899999999, 37.206192], [-121.852101, 37.206325], [-121.85204399999998, 37.206425], [-121.85200800000001, 37.206614], [-121.852011, 37.206754], [-121.852058, 37.206897], [-121.85252300000002, 37.207625], [-121.85265900000002, 37.207908], [-121.85280999999998, 37.208198], [-121.849872, 37.208556], [-121.84938299999999, 37.208554], [-121.847868, 37.208747], [-121.84760699999998, 37.208821], [-121.84632299999998, 37.209381], [-121.84452899999997, 37.207274], [-121.84259600000001, 37.205394], [-121.84152, 37.204743], [-121.840285, 37.204325], [-121.84040700000003, 37.204007], [-121.84044699999998, 37.203696], [-121.84039899999999, 37.203475], [-121.83914700000003, 37.20216], [-121.8347, 37.198954], [-121.83313299999998, 37.198054], [-121.83395777777099, 37.197243859703896], [-121.8334386864139, 37.19693844292133], [-121.83420705538379, 37.1961800738802], [-121.83379114516072, 37.19591108331823], [-121.83482614218906, 37.19494577997451], [-121.8366547374344, 37.19477999465046], [-121.83952099999999, 37.193079], [-121.83953500000001, 37.191169], [-121.84024099999999, 37.19119], [-121.84134899999998, 37.191052], [-121.84217799999999, 37.191119], [-121.84288700000002, 37.191848], [-121.843392, 37.192503], [-121.843638, 37.193066], [-121.848683, 37.193059], [-121.84887000000003, 37.196769], [-121.848638, 37.196787], [-121.84864500000003, 37.198241], [-121.84888699999999, 37.198858], [-121.84889299999998, 37.199228], [-121.84952499999997, 37.19994], [-121.849896, 37.199709], [-121.85017900000003, 37.199953], [-121.85063000000002, 37.200344], [-121.85381999999998, 37.203083], [-121.85381999999998, 37.203083], [-121.85381999999998, 37.203083]]]]}\", \"centroid\": [-121.8441505370296, 37.20004090612706], \"page_url\": \"https://nextdoor.com/neighborhood/10almadenmockingbird--san-jose--ca\", \"short_name\": \"Almaden Mockingbird\", \"stroke_color\": \"#67C2A5\", \"fill_color\": \"#67C2A5\", \"stroke_weight\": 1, \"fill_opacity\": 0.35}, {\"type\": \"MULTIPOLYGON\", \"name\": \"Nextdoor Glenview Serenity\", \"info\": \"\", \"id\": 1838, \"geometry\": \"{\\\"type\\\": \\\"MultiPolygon\\\", \\\"coordinates\\\": [[[[-121.86277004900995, 37.217700913489566], [-121.85997937791223, 37.219982421353805], [-121.85797049515435, 37.218492445175485], [-121.85392313354515, 37.21570375351674], [-121.85470359420742, 37.21501315726901], [-121.85510854560766, 37.21483520767891], [-121.85496339286192, 37.21454719806786], [-121.85493641837905, 37.21389315397765], [-121.8550006390027, 37.213503980599114], [-121.85500048660992, 37.213063541352845], [-121.85495404520509, 37.212725121128535], [-121.8547806207979, 37.21242774499436], [-121.85452136570223, 37.21207910226114], [-121.85394397756136, 37.211660157896496], [-121.8537383803648, 37.21148366393912], [-121.85352034578392, 37.21101046795325], [-121.85320135183497, 37.21053792475349], [-121.85281039317692, 37.208198241199376], [-121.85251163417479, 37.20762959245191], [-121.85314899631999, 37.20755429641963], [-121.85469076470338, 37.207422653450415], [-121.85481632672696, 37.207991698097274], [-121.85553908334361, 37.20788810066264], [-121.85551082143616, 37.20773323364107], [-121.85551100041783, 37.2077288715437], [-121.85551527509608, 37.20772798438299], [-121.85760011421712, 37.20749408534318], [-121.85778283439811, 37.210279406068324], [-121.85824310077112, 37.210280382601354], [-121.85822405691363, 37.20960986512225], [-121.85833255218154, 37.2093942325716], [-121.85863416649852, 37.20928113728898], [-121.85919447978824, 37.209242928325395], [-121.85935601578274, 37.2095025357044], [-121.85936168192762, 37.20979468959822], [-121.85932443272827, 37.209950127751846], [-121.859411470324, 37.21024718043094], [-121.85947376255052, 37.21042271012075], [-121.85967571302695, 37.210541448933746], [-121.85972745979859, 37.21074563461055], [-121.86010990307932, 37.21115400617229], [-121.86010328240747, 37.211496128498744], [-121.86031660287483, 37.211915151640596], [-121.86016962614576, 37.21212850988], [-121.8601914102959, 37.21225930889102], [-121.86043850000328, 37.212467007939566], [-121.8605369493672, 37.21265239268029], [-121.86053304219979, 37.21312248223263], [-121.86053129527733, 37.21312652821275], [-121.86053714644873, 37.21324429453252], [-121.8603391497349, 37.21344323202696], [-121.86034864762036, 37.21361493753619], [-121.86040642526802, 37.21385499740813], [-121.86044567660235, 37.21435660489288], [-121.860229878783, 37.214537517945644], [-121.86020280331434, 37.21477610052658], [-121.86051905059958, 37.215446164590404], [-121.86088697672142, 37.21569346730927], [-121.86058992936262, 37.21593144501007], [-121.86278828441084, 37.21769782208606], [-121.86277004900995, 37.217700913489566], [-121.86277004900995, 37.217700913489566], [-121.86277004900995, 37.217700913489566]]]]}\", \"centroid\": [-121.8574283242949, 37.21338719385155], \"page_url\": \"https://nextdoor.com/neighborhood/10glenviewserenity--san-jose--ca\", \"short_name\": \"Glenview Serenity\", \"stroke_color\": \"#67C2A5\", \"fill_color\": \"#67C2A5\", \"stroke_weight\": 1, \"fill_opacity\": 0.35}, {\"type\": \"MULTIPOLYGON\", \"name\": \"Nextdoor Crossgate\", \"info\": \"\", \"id\": 170209, \"geometry\": \"{\\\"type\\\": \\\"MultiPolygon\\\", \\\"coordinates\\\": [[[[-121.87038476982514, 37.22930581785897], [-121.86944417721486, 37.22756240884005], [-121.86892023672942, 37.22692134490094], [-121.86827566612516, 37.2262422010823], [-121.86586023022147, 37.22433646081293], [-121.86230408964093, 37.22165395607313], [-121.86286172572113, 37.22125507461647], [-121.86326272767286, 37.221054344861585], [-121.86372810264095, 37.22087070152564], [-121.86445842723953, 37.22073983551413], [-121.86525312485435, 37.22072857825288], [-121.86614561119217, 37.22093600206213], [-121.86695226684151, 37.22122031626318], [-121.86879961958863, 37.221974515132324], [-121.86949025098613, 37.222150142450815], [-121.87622150356947, 37.22203654297219], [-121.8761844102441, 37.222146452942425], [-121.87605075739418, 37.22235888250554], [-121.8758263670386, 37.22252744163713], [-121.8755707053765, 37.22259117428566], [-121.87467314395423, 37.222616120157426], [-121.87417059717842, 37.22276344647948], [-121.87353930436984, 37.22304746430087], [-121.87309211029321, 37.22330794218258], [-121.87297019833636, 37.223470082496036], [-121.8721540901247, 37.22438548782868], [-121.87159547397857, 37.2251300223836], [-121.87157258296418, 37.22520949025096], [-121.87154825860773, 37.22543676943167], [-121.87205750936977, 37.22631846986812], [-121.87223759947244, 37.22649960637384], [-121.87326105326088, 37.22739319598478], [-121.87338328482042, 37.22746667754679], [-121.87338810499244, 37.227465159303804], [-121.87651694350711, 37.22746910183797], [-121.87651417453549, 37.2286976199163], [-121.87659723625245, 37.22929397405195], [-121.87038476982514, 37.22930581785897]]]]}\", \"centroid\": [-121.86981635230745, 37.22480853982167], \"page_url\": \"https://nextdoor.com/neighborhood/10crossgate--san-jose--ca\", \"short_name\": \"Crossgate\", \"stroke_color\": \"#67C2A5\", \"fill_color\": \"#67C2A5\", \"stroke_weight\": 1, \"fill_opacity\": 0.35}, {\"type\": \"MULTIPOLYGON\", \"name\": \"Nextdoor Sunrise Almaden\", \"info\": \"\", \"id\": 2016, \"geometry\": \"{\\\"type\\\": \\\"MultiPolygon\\\", \\\"coordinates\\\": [[[[-121.87464348709182, 37.232507777045576], [-121.87158653657184, 37.23246289863226], [-121.87166738672073, 37.232876108872624], [-121.87047399564835, 37.23316813401596], [-121.86907284962001, 37.23139036760507], [-121.86824349615432, 37.23158899786254], [-121.86305914356973, 37.22895633756674], [-121.86180807178494, 37.228964081172435], [-121.8589192283797, 37.227721950574356], [-121.85821906753063, 37.226770255520854], [-121.85812766383185, 37.22478139910524], [-121.8579565470701, 37.21849164864526], [-121.86397561246417, 37.222921507265646], [-121.86620199427603, 37.22462775912024], [-121.86831035889134, 37.22625712072651], [-121.86893550926447, 37.22691333001388], [-121.8694855577852, 37.2276635034162], [-121.87037481232358, 37.22929403929505], [-121.8746560915688, 37.22930601613117], [-121.87464348709182, 37.232507777045576], [-121.87464348709182, 37.232507777045576]]]]}\", \"centroid\": [-121.86485328927628, 37.22679423743011], \"page_url\": \"https://nextdoor.com/neighborhood/10sunrisealmaden--san-jose--ca\", \"short_name\": \"Sunrise Almaden\", \"stroke_color\": \"#67C2A5\", \"fill_color\": \"#67C2A5\", \"stroke_weight\": 1, \"fill_opacity\": 0.35}, {\"type\": \"MULTIPOLYGON\", \"name\": \"Nextdoor Graystone Hill\", \"info\": \"\", \"id\": 177828, \"geometry\": \"{\\\"type\\\": \\\"MultiPolygon\\\", \\\"coordinates\\\": [[[[-121.84052500000001, 37.22532], [-121.84078099999999, 37.22514], [-121.84015, 37.229562], [-121.83860700000002, 37.229554], [-121.83849099999998, 37.229463], [-121.83833600000003, 37.229168], [-121.83818500000001, 37.228994], [-121.83797400000003, 37.228929], [-121.83750099999997, 37.229009], [-121.83728200000002, 37.229004], [-121.837061, 37.228912], [-121.83659599999999, 37.228327], [-121.83630499999998, 37.228271], [-121.83593952513127, 37.22827691472885], [-121.83456319577027, 37.226995352809006], [-121.8297424827881, 37.227101402496174], [-121.82965251057061, 37.22689747703541], [-121.82970201322178, 37.226331109168335], [-121.82905, 37.226479], [-121.82882699999999, 37.226366], [-121.82862899999998, 37.226112], [-121.82804699999997, 37.226005], [-121.82752900000003, 37.22589], [-121.82741199999998, 37.22599], [-121.82147900000001, 37.226019], [-121.821393, 37.224713], [-121.82136713801407, 37.22232196129178], [-121.8208124008001, 37.22260043457941], [-121.8196874541444, 37.22238325100928], [-121.81906060780022, 37.22273981740524], [-121.81779768263686, 37.22256772199965], [-121.81715702996496, 37.221284068983245], [-121.81717203151538, 37.22033187543405], [-121.81758400000001, 37.219428], [-121.81814400000002, 37.218352], [-121.81881799999996, 37.218534], [-121.81951400000003, 37.218614], [-121.82033999999999, 37.218873], [-121.82077300000003, 37.219068], [-121.821256, 37.218806], [-121.82204000000002, 37.218424], [-121.82237299999997, 37.217906], [-121.82240100000001, 37.21778], [-121.82235700000001, 37.217667], [-121.82230199999998, 37.217621], [-121.822183, 37.217594], [-121.82212800000002, 37.217547], [-121.82205399999998, 37.216647], [-121.82209799999998, 37.216488], [-121.823038, 37.216356], [-121.823376, 37.215979], [-121.82545900000002, 37.214654], [-121.825853, 37.214952], [-121.82636000000002, 37.215254], [-121.82646899999997, 37.215266], [-121.82656700000001, 37.215314], [-121.827339, 37.21545], [-121.829183, 37.215842], [-121.82965999999999, 37.215906], [-121.829771, 37.215851], [-121.830082, 37.215817], [-121.83148, 37.215816], [-121.83195799999999, 37.215859], [-121.83230500000002, 37.215936], [-121.832492, 37.216029], [-121.83273400000002, 37.216251], [-121.83419400000002, 37.217747], [-121.83567600000003, 37.217108], [-121.83653600000002, 37.216306], [-121.83684, 37.216191], [-121.83787000000001, 37.215182], [-121.83923199999998, 37.215932], [-121.83965999999998, 37.216053], [-121.83966900000001, 37.216096], [-121.841745, 37.217], [-121.842356, 37.217785], [-121.84112800000003, 37.218993], [-121.84023200000001, 37.219817], [-121.84015999999997, 37.219933], [-121.84006499999998, 37.220127], [-121.83872400000001, 37.22071], [-121.83818600000001, 37.221269], [-121.83839699999999, 37.221455], [-121.83732800000001, 37.2222], [-121.83965799999999, 37.223204], [-121.83831600000002, 37.22389], [-121.83808899999997, 37.224405], [-121.84049600000003, 37.225334], [-121.84052500000001, 37.22532]]]]}\", \"centroid\": [-121.83042261613494, 37.22148319869746], \"page_url\": \"https://nextdoor.com/neighborhood/graystonehill--san-jose--ca\", \"short_name\": \"Graystone Hill\", \"stroke_color\": \"#67C2A5\", \"fill_color\": \"#67C2A5\", \"stroke_weight\": 1, \"fill_opacity\": 0.35}, {\"type\": \"MULTIPOLYGON\", \"name\": \"Nextdoor Graystone of Almaden\", \"info\": \"\", \"id\": 170245, \"geometry\": \"{\\\"type\\\": \\\"MultiPolygon\\\", \\\"coordinates\\\": [[[[-121.85815488885345, 37.228833612121115], [-121.85815056292927, 37.2288347258107], [-121.85814662673442, 37.228832613869514], [-121.85627886030494, 37.2275941580431], [-121.85626193970535, 37.22758514367035], [-121.85624360980046, 37.22757952404447], [-121.85622454433462, 37.22757750572357], [-121.85414221632891, 37.2275578013006], [-121.85412320952776, 37.22755944126651], [-121.85275791478, 37.227810144005694], [-121.85275249867703, 37.22781052968569], [-121.85274712977753, 37.22780971861303], [-121.8514213953249, 37.22750754947969], [-121.84945193070871, 37.22614606971202], [-121.8494477991253, 37.22614703183797], [-121.84944749499277, 37.226142800624174], [-121.84728813104476, 37.224355075835305], [-121.8490824081174, 37.221706336396636], [-121.85099579271275, 37.22249939515917], [-121.85283224956737, 37.222827575413646], [-121.85483628851955, 37.22363555233044], [-121.8581235500763, 37.224629010281824], [-121.8582210343792, 37.22675367693281], [-121.85890277785813, 37.22771347547625], [-121.85999868389587, 37.2281881194608], [-121.85815488885345, 37.228833612121115]]]]}\", \"centroid\": [-121.85320717958058, 37.2253058783495], \"page_url\": \"https://nextdoor.com/neighborhood/graystonealmadensj--san-jose--ca\", \"short_name\": \"Graystone of Almaden\", \"stroke_color\": \"#67C2A5\", \"fill_color\": \"#67C2A5\", \"stroke_weight\": 1, \"fill_opacity\": 0.35}, {\"type\": \"MULTIPOLYGON\", \"name\": \"Nextdoor Almaden - Williams\", \"info\": \"\", \"id\": 164785, \"geometry\": \"{\\\"type\\\": \\\"MultiPolygon\\\", \\\"coordinates\\\": [[[[-121.85495805577602, 37.21454105921658], [-121.85510103793627, 37.21482774312355], [-121.85470262545425, 37.21500967066689], [-121.85393936492187, 37.215706929834184], [-121.85192928005301, 37.21432033146968], [-121.85046795112311, 37.21326888191252], [-121.84790558520899, 37.21114667130711], [-121.84752959506454, 37.21077429335414], [-121.84629641013748, 37.209392083220884], [-121.84760478825513, 37.208814455390794], [-121.84786174043887, 37.20874951577553], [-121.84819048524776, 37.20870399395073], [-121.84906210581414, 37.208598210177115], [-121.84935869906934, 37.20856133201511], [-121.84988596229994, 37.208550088610856], [-121.85281111937081, 37.20819624675287], [-121.85320286615394, 37.21053283957841], [-121.85353096898797, 37.211023589157094], [-121.8537334454544, 37.21148023551247], [-121.85394626465984, 37.21166878800347], [-121.85452386429137, 37.21207095328498], [-121.85477696821528, 37.2124296002994], [-121.85495701939539, 37.21272169553949], [-121.8549987034906, 37.213075619239845], [-121.85500819956337, 37.21350512882055], [-121.85493960475816, 37.21390509673087], [-121.85496034123753, 37.21453627615102], [-121.85495805577602, 37.21454105921658], [-121.85495805577602, 37.21454105921658]]]]}\", \"centroid\": [-121.85131583567652, 37.21142977989261], \"page_url\": \"https://nextdoor.com/neighborhood/10almaden-williams--san-jose--ca\", \"short_name\": \"Almaden - Williams\", \"stroke_color\": \"#67C2A5\", \"fill_color\": \"#67C2A5\", \"stroke_weight\": 1, \"fill_opacity\": 0.35}, {\"type\": \"MULTIPOLYGON\", \"name\": \"Nextdoor Country Club\", \"info\": \"\", \"id\": 1771, \"geometry\": \"{\\\"type\\\": \\\"MultiPolygon\\\", \\\"coordinates\\\": [[[[-121.87634800000001, 37.219773], [-121.876352, 37.218478], [-121.87612999999999, 37.203871], [-121.8638875952148, 37.20383637253186], [-121.86278748809809, 37.20134085021642], [-121.85782500000005, 37.199665654019086], [-121.85783400000003, 37.201758], [-121.857146, 37.201788], [-121.85724199999999, 37.2024], [-121.85725300000001, 37.202717], [-121.85709500000002, 37.203354], [-121.85749399999997, 37.203333], [-121.85785099999998, 37.203354], [-121.857957, 37.207549], [-121.85760500000004, 37.207605], [-121.85778399999998, 37.210284], [-121.85823800000003, 37.210281], [-121.85822300000001, 37.209602], [-121.85833600000001, 37.2094], [-121.85861299999999, 37.209278], [-121.85921100000002, 37.209225], [-121.85934900000001, 37.209513], [-121.85937799999999, 37.209801], [-121.85932100000002, 37.20995], [-121.85942, 37.210249], [-121.859467, 37.210422], [-121.85967599999998, 37.210544], [-121.859734, 37.210743], [-121.86011400000001, 37.211155], [-121.860118, 37.211493], [-121.86031500000001, 37.211924], [-121.86017400000003, 37.212121], [-121.860183, 37.212249], [-121.86043899999999, 37.212458], [-121.860545, 37.212642], [-121.86053800000002, 37.213244], [-121.86034699999999, 37.213439], [-121.86034899999999, 37.213607], [-121.86040100000002, 37.213842], [-121.86044300000003, 37.214359], [-121.86022600000001, 37.214534], [-121.86020400000001, 37.214769], [-121.86052699999999, 37.215444], [-121.860883, 37.215701], [-121.86058700000001, 37.21594], [-121.86279100000002, 37.217692], [-121.85997900000001, 37.21997], [-121.86226699999997, 37.221665], [-121.862842, 37.221264], [-121.86330099999998, 37.22103], [-121.86373900000001, 37.220864], [-121.86447199999998, 37.220744], [-121.865249, 37.220726], [-121.86604599999998, 37.220896], [-121.866917, 37.221212], [-121.86883999999998, 37.221989], [-121.86947700000002, 37.222156], [-121.87641000000002, 37.222024], [-121.87634800000001, 37.219773], [-121.87634800000001, 37.219773]]]]}\", \"centroid\": [-121.86757197007009, 37.21174250736343], \"page_url\": \"https://nextdoor.com/neighborhood/10countryclubsanjose--san-jose--ca\", \"short_name\": \"Country Club\", \"stroke_color\": \"#67C2A5\", \"fill_color\": \"#67C2A5\", \"stroke_weight\": 1, \"fill_opacity\": 0.35}, {\"type\": \"MULTIPOLYGON\", \"name\": \"Nextdoor Vista De Graystone\", \"info\": \"\", \"id\": 243237, \"geometry\": \"{\\\"type\\\": \\\"MultiPolygon\\\", \\\"coordinates\\\": [[[[-121.84823699999998, 37.228201], [-121.84700399999997, 37.227718], [-121.84594900000002, 37.227153], [-121.84441800000002, 37.22692], [-121.843863, 37.226888], [-121.84107699999998, 37.225029], [-121.84047399999997, 37.225308], [-121.83809200000002, 37.224395], [-121.83832999999998, 37.223894], [-121.83964000000003, 37.223209], [-121.83964500000002, 37.223193], [-121.83788199999998, 37.22241], [-121.83732800000001, 37.222199], [-121.83835299999998, 37.221481], [-121.83837199999999, 37.22143], [-121.83835899999997, 37.22139], [-121.83820000000003, 37.22126], [-121.83860800000002, 37.220825], [-121.83869700000002, 37.220754], [-121.83873, 37.220681], [-121.83994100000001, 37.220196], [-121.840105, 37.220113], [-121.84019, 37.219941], [-121.84018900000001, 37.219861], [-121.841114, 37.218985], [-121.8424087632294, 37.2177516630205], [-121.8440341580581, 37.219843383724495], [-121.84793676025765, 37.22083796146761], [-121.848728, 37.222123], [-121.84721100000002, 37.224402], [-121.84765299999998, 37.225884], [-121.84823699999998, 37.228201], [-121.84823699999998, 37.228201]]]]}\", \"centroid\": [-121.84350500344136, 37.222977562311456], \"page_url\": \"https://nextdoor.com/neighborhood/vistadegraystone--san-jose--ca\", \"short_name\": \"Vista De Graystone\", \"stroke_color\": \"#67C2A5\", \"fill_color\": \"#67C2A5\", \"stroke_weight\": 1, \"fill_opacity\": 0.35}, {\"type\": \"MULTIPOLYGON\", \"name\": \"Nextdoor Singer Park\", \"info\": \"\", \"id\": 188552, \"geometry\": \"{\\\"type\\\": \\\"MultiPolygon\\\", \\\"coordinates\\\": [[[[-121.83787250607747, 37.21516710784651], [-121.83685927401075, 37.21618281733145], [-121.83650694131882, 37.216328161703544], [-121.83570404648714, 37.217106407758955], [-121.83510474007318, 37.21730528940221], [-121.83418573785195, 37.217770456783136], [-121.83309435524984, 37.2165779354277], [-121.8327003977314, 37.21600514321242], [-121.83261541806536, 37.2159331070222], [-121.83244073409674, 37.21583515751921], [-121.83218652468787, 37.21576106197162], [-121.83199633678174, 37.21572491076859], [-121.83155008215283, 37.215681675450355], [-121.83074136778475, 37.21566929671483], [-121.82980076899969, 37.215703674887], [-121.82977511892511, 37.21569171998981], [-121.82921315090346, 37.21570679708665], [-121.82750382763078, 37.21533943803401], [-121.82659112885108, 37.21517266078296], [-121.82637774051204, 37.21510048583233], [-121.82616879919777, 37.21498234013641], [-121.82571494457773, 37.214662394422305], [-121.82556136323353, 37.21462457209886], [-121.82544665776055, 37.214661119683335], [-121.82346651181717, 37.215921429700096], [-121.8226274659886, 37.215743276700195], [-121.8225376566678, 37.215607550360154], [-121.82249795043907, 37.215591166177276], [-121.8217406402926, 37.215742474197434], [-121.82170959881205, 37.21576335584268], [-121.8216980939684, 37.21582148531456], [-121.82191351521897, 37.21639270028894], [-121.82184767473416, 37.216432322930885], [-121.82181884086287, 37.21650125952112], [-121.82187263519688, 37.2166302739346], [-121.82188751186504, 37.21671018707106], [-121.82193518425493, 37.217239282980486], [-121.82195255228231, 37.21753901097169], [-121.82194203640063, 37.21756901260956], [-121.82190243470131, 37.21759299338799], [-121.8215984951762, 37.21765659424791], [-121.82115332961115, 37.21781534198037], [-121.82102317694023, 37.21787200518398], [-121.8210256217597, 37.217944316945356], [-121.82088137742875, 37.21800495614937], [-121.82078274354251, 37.218026584603564], [-121.82034713325993, 37.21799496810497], [-121.82031229326071, 37.218039620511284], [-121.82064746470991, 37.218095045427404], [-121.82079945635212, 37.21809126637194], [-121.82093637853609, 37.218060380239834], [-121.82166554665031, 37.21778322638202], [-121.82196519231121, 37.21772683369441], [-121.82247456787223, 37.2177472277224], [-121.82204572016843, 37.21842123316204], [-121.82125690683057, 37.21880611267209], [-121.82077526968902, 37.21907062217872], [-121.82033767533778, 37.21887251799536], [-121.81951702343059, 37.218614665541715], [-121.81881914672005, 37.21853382874188], [-121.81814408246032, 37.218351559578295], [-121.81947050856382, 37.2156495745723], [-121.8198988066448, 37.21470143148709], [-121.82012486163012, 37.2143296324756], [-121.82281188190774, 37.20894274060466], [-121.82346179005089, 37.20963548441287], [-121.82362490637786, 37.209834359039505], [-121.82371279167353, 37.20988967832633], [-121.82378828595529, 37.20989861378585], [-121.82385562520699, 37.20987866654228], [-121.82401516982264, 37.20975935477465], [-121.82408590209434, 37.209669004534014], [-121.82409845225715, 37.20959123268698], [-121.82405928214575, 37.20948590412873], [-121.82397176190858, 37.20941959049591], [-121.8233984086146, 37.20882410869521], [-121.8230131905932, 37.20854371893254], [-121.82365071496054, 37.207288297448315], [-121.82389666929151, 37.20780175375656], [-121.82435863156991, 37.20832522359252], [-121.82470911037404, 37.20856650198405], [-121.82489324403753, 37.20890421513256], [-121.82485437049218, 37.208960097415485], [-121.8248210742625, 37.2090592147264], [-121.82482288387206, 37.209123290111386], [-121.82487364712023, 37.20921821096948], [-121.82493941511916, 37.209262530739124], [-121.82504970269355, 37.20927233143681], [-121.82540372876605, 37.209204483929675], [-121.8261128018118, 37.20976081254007], [-121.82735991159007, 37.2107972375026], [-121.82883074957283, 37.21164833087859], [-121.82978399636244, 37.2127025799615], [-121.83255031814821, 37.21372193156233], [-121.8330452295574, 37.21379665329467], [-121.83416949405489, 37.21401672883526], [-121.83433501864249, 37.214058100663905], [-121.83441488743273, 37.214115175392756], [-121.83455222618761, 37.21416114177163], [-121.83469650943863, 37.21415405919474], [-121.83482871104763, 37.21409657640893], [-121.8350696577051, 37.21412279299415], [-121.83619578067123, 37.214702628625545], [-121.83738984478225, 37.214891971233136], [-121.83787250607747, 37.21516710784651]]]]}\", \"centroid\": [-121.82646523446343, 37.21392786795149], \"page_url\": \"https://nextdoor.com/neighborhood/singerpark--san-jose--ca\", \"short_name\": \"Singer Park\", \"stroke_color\": \"#67C2A5\", \"fill_color\": \"#67C2A5\", \"stroke_weight\": 1, \"fill_opacity\": 0.35}, {\"type\": \"MULTIPOLYGON\", \"name\": \"Nextdoor Country View Custom Estates\", \"info\": \"\", \"id\": 250198, \"geometry\": \"{\\\"type\\\": \\\"MultiPolygon\\\", \\\"coordinates\\\": [[[[-121.85783620600876, 37.201067568573514], [-121.8578346091304, 37.201749411204545], [-121.85714885076845, 37.20180291805604], [-121.85688030795438, 37.20165720858158], [-121.85628701097119, 37.20179445410654], [-121.85620682514775, 37.201648181667615], [-121.85627416082013, 37.20149977443242], [-121.85615551752011, 37.20131579148229], [-121.85565063612188, 37.2010378069567], [-121.85589097007528, 37.19998550811859], [-121.8557100491443, 37.19942136669252], [-121.85566884005817, 37.1992886342284], [-121.85573469274675, 37.198900893303744], [-121.85578985222571, 37.19873416086869], [-121.85577994828543, 37.19872119440873], [-121.85530784748909, 37.19894355643827], [-121.85512242489642, 37.19911691003841], [-121.85479393448577, 37.19965390653173], [-121.85460762864102, 37.20003330627066], [-121.85458526968989, 37.20064155334249], [-121.8537778664795, 37.20065288313662], [-121.85383494859565, 37.201032127706455], [-121.85298549297443, 37.20088500775156], [-121.85274537659342, 37.20078614000357], [-121.8523765141797, 37.20054199404761], [-121.85216450231928, 37.20047244441373], [-121.85170829209022, 37.2003931655382], [-121.85111260699233, 37.20022842849732], [-121.85101044835318, 37.200234607537325], [-121.85074175805858, 37.20016150745801], [-121.85056962728845, 37.20028496111658], [-121.84988956504338, 37.19970924774243], [-121.84952671797816, 37.199953546648516], [-121.84888374670379, 37.19922682876471], [-121.84888731936263, 37.19885628351361], [-121.84864688448744, 37.19826243959523], [-121.84862298210305, 37.19676405255388], [-121.85781603814542, 37.19675074582529], [-121.85781720406453, 37.19960342013058], [-121.85783620600876, 37.201067568573514], [-121.85783620600876, 37.201067568573514]]]]}\", \"centroid\": [-121.8536033617286, 37.19870594315523], \"page_url\": \"https://nextdoor.com/neighborhood/cvce--san-jose--ca\", \"short_name\": \"Country View Custom Estates\", \"stroke_color\": \"#67C2A5\", \"fill_color\": \"#67C2A5\", \"stroke_weight\": 1, \"fill_opacity\": 0.35}, {\"type\": \"MULTIPOLYGON\", \"name\": \"Nextdoor Almaden\", \"info\": \"\", \"id\": 154788, \"geometry\": \"{\\\"type\\\": \\\"MultiPolygon\\\", \\\"coordinates\\\": [[[[-121.85795724071465, 37.218492584366864], [-121.8539393634257, 37.215703469208464], [-121.85037209725124, 37.2132047591771], [-121.8478080490637, 37.21104394753386], [-121.84628484160459, 37.2093710662332], [-121.84488851446633, 37.21011881240138], [-121.84439183110669, 37.21064020050304], [-121.84234703845357, 37.21600636715215], [-121.84184651304736, 37.216690495024956], [-121.84267636331253, 37.21749423079948], [-121.84462201252785, 37.22014338908703], [-121.84576919959142, 37.22069262441465], [-121.8478172953595, 37.22090684104555], [-121.84908107417584, 37.22171118215209], [-121.85102724600131, 37.22252342844158], [-121.852823214122, 37.222840158971614], [-121.8548916556428, 37.223661565781796], [-121.85812286877808, 37.22464051574562], [-121.85795724071465, 37.218492584366864]]]]}\", \"centroid\": [-121.8499711384771, 37.217532381992676], \"page_url\": null, \"short_name\": \"Almaden\", \"stroke_color\": \"#00b246\", \"fill_color\": \"#00b246\", \"stroke_weight\": 1, \"fill_opacity\": 0.45}],\n",
      "            hoodId: 154788\n",
      "          },\n",
      "          realestateUrl: \"https://realestate.nextdoor.com\",\n",
      "          shortName: \"Almaden\",\n",
      "          snippets: [{\"subject\": \"Easiest way to and from Levi\\u2019s Stadium?\", \"commentCount\": \"12\", \"postId\": \"100173961\", \"category\": \"General\"}, {\"subject\": \"Property Tax Exemption from new roof?\", \"commentCount\": \"0\", \"postId\": \"100081508\", \"category\": \"General\"}, {\"subject\": \"Property Tax Exemption from new roof?\", \"commentCount\": \"12\", \"postId\": \"100081508\", \"category\": \"General\"}, {\"subject\": \"Looking for someone to run out door speaker wire\", \"commentCount\": \"6\", \"postId\": \"100107430\", \"category\": \"Recommendations\"}, {\"subject\": \"Looking for male caregiver\", \"commentCount\": \"0\", \"postId\": \"100110921\", \"category\": \"General\"}, {\"subject\": \"Dog on the loose in Quicksilver\", \"commentCount\": \"12\", \"postId\": \"100227607\", \"category\": \"General\"}, {\"subject\": \"Leland / Bret Harte \\u2013 Proposed Relocation Update - December 2018\", \"commentCount\": \"45\", \"postId\": \"100253055\", \"category\": \"General\"}, {\"subject\": \"Adopting a pet\", \"commentCount\": \"3\", \"postId\": \"100349683\", \"category\": \"Recommendations\"}, {\"subject\": \"Sonoma Chicken Coop closed?\", \"commentCount\": \"27\", \"postId\": \"100525403\", \"category\": \"General\"}, {\"subject\": \"Warming Shelter\", \"commentCount\": \"0\", \"postId\": \"100700060\", \"category\": \"General\"}, {\"subject\": \"To attract teachers, pricey school districts are becoming their landlords \\u2013 Davis Enterprise\", \"commentCount\": \"0\", \"postId\": \"101160576\", \"category\": \"General\"}, {\"subject\": \"LAUSD built affordable housing for teachers who earn 'too much' to live there - Curbed LA\", \"commentCount\": \"3\", \"postId\": \"101163187\", \"category\": \"General\"}, {\"subject\": \"Babysitter\", \"commentCount\": \"0\", \"postId\": \"101191741\", \"category\": \"General\"}, {\"subject\": \"Home Depot - A+?\", \"commentCount\": \"15\", \"postId\": \"101228827\", \"category\": \"Recommendations\"}, {\"subject\": \"Home Depot - A+?\", \"commentCount\": \"69\", \"postId\": \"101228827\", \"category\": \"Recommendations\"}, {\"subject\": \"Wonderful handyman available\", \"commentCount\": \"0\", \"postId\": \"101422876\", \"category\": \"Recommendations\"}, {\"subject\": \"Anakin is up for adoption\", \"commentCount\": \"0\", \"postId\": \"101538187\", \"category\": \"General\"}, {\"subject\": \"Looking for a Gas Fireplace Insert Installer\", \"commentCount\": \"18\", \"postId\": \"101559531\", \"category\": \"Recommendations\"}, {\"subject\": \"Almaden expressway northbound @camden\", \"commentCount\": \"3\", \"postId\": \"101608912\", \"category\": \"General\"}, {\"subject\": \"Handyman\", \"commentCount\": \"0\", \"postId\": \"101634950\", \"category\": \"Recommendations\"}, {\"subject\": \"Thousands eligible for compensation following construction noise lawsuit | CTV News Montreal\", \"commentCount\": \"6\", \"postId\": \"101652882\", \"category\": \"General\"}, {\"subject\": \"Coyote on Summerleaf Place shadowbrook 1\", \"commentCount\": \"0\", \"postId\": \"101657383\", \"category\": \"General\"}, {\"subject\": \"Low cost housing in Almaden\", \"commentCount\": \"0\", \"postId\": \"101684705\", \"category\": \"Recommendations\"}, {\"subject\": \"Bill would revive California\\u2019s redevelopment agencies | CalWatchdog.com\", \"commentCount\": \"3\", \"postId\": \"101753380\", \"category\": \"General\"}, {\"subject\": \"Help/Suggestions needed\", \"commentCount\": \"3\", \"postId\": \"101944995\", \"category\": \"Recommendations\"}, {\"subject\": \"NH House Rep. Anne Cartwright gives intro testimony on Banning ICLEI in NH - YouTube\", \"commentCount\": \"3\", \"postId\": \"102049360\", \"category\": \"General\"}, {\"subject\": \"UGG Boots Black Suede Elsey Lace Up, Size 8\", \"commentCount\": \"0\", \"postId\": \"1a70e6aa-32d6-4cd3-84fe-5a73e9308eea\", \"category\": \"Classifieds\"}, {\"subject\": \"Women\\u2019s Spyder ski jacket and pants\", \"commentCount\": \"0\", \"postId\": \"33790dc3-9f13-40d2-94dc-808afc2be39b\", \"category\": \"Classifieds\"}, {\"subject\": \"High chair\", \"commentCount\": \"0\", \"postId\": \"351d342f-8e05-4452-bc6e-0240bee95156\", \"category\": \"Classifieds\"}, {\"subject\": \"For sale, full-size mattress and bed frame\", \"commentCount\": \"0\", \"postId\": \"3ddb07bd-33c8-47f6-ac9d-5f2fac366e42\", \"category\": \"Classifieds\"}, {\"subject\": \"Couch\", \"commentCount\": \"0\", \"postId\": \"6c8d5f69-09cd-410c-a1a2-e547add0f999\", \"category\": \"Classifieds\"}, {\"subject\": \"Wooden Futon  with mattress\", \"commentCount\": \"0\", \"postId\": \"7206951f-3b20-40c1-878d-664d87009324\", \"category\": \"Classifieds\"}, {\"subject\": \"Elliptical Machine Diamondback 3603f\", \"commentCount\": \"0\", \"postId\": \"7b1cd9c0-9e5d-41b7-9071-cfbcc4704ea9\", \"category\": \"Classifieds\"}, {\"subject\": \"Kids snow boot size 13 for sale\", \"commentCount\": \"0\", \"postId\": \"96049b1c-8aa3-400a-b719-3fe118119eb3\", \"category\": \"Classifieds\"}, {\"subject\": \"Looking for two tickets to Willow Glen Holiday Cable Car event\", \"commentCount\": \"0\", \"postId\": \"97238942\", \"category\": \"General\"}, {\"subject\": \"Electronics Pick-up\", \"commentCount\": \"0\", \"postId\": \"97314940\", \"category\": \"General\"}, {\"subject\": \"Appliance Installation Service\", \"commentCount\": \"0\", \"postId\": \"97324923\", \"category\": \"Recommendations\"}, {\"subject\": \"Christmas lights\", \"commentCount\": \"3\", \"postId\": \"97342895\", \"category\": \"General\"}, {\"subject\": \"kitchen faucet install\", \"commentCount\": \"0\", \"postId\": \"97366456\", \"category\": \"Recommendations\"}, {\"subject\": \"Gutter cleaning\", \"commentCount\": \"0\", \"postId\": \"97544344\", \"category\": \"Recommendations\"}, {\"subject\": \"Gutter cleaning\", \"commentCount\": \"12\", \"postId\": \"97544344\", \"category\": \"Recommendations\"}, {\"subject\": \"Recommnedation for vocal instructor\", \"commentCount\": \"0\", \"postId\": \"97779575\", \"category\": \"Recommendations\"}, {\"subject\": \"Lexus Mechanic Recommendations ?\", \"commentCount\": \"15\", \"postId\": \"97781842\", \"category\": \"Recommendations\"}, {\"subject\": \"Popcorn machine....\", \"commentCount\": \"12\", \"postId\": \"97789615\", \"category\": \"Recommendations\"}, {\"subject\": \"Popcorn machine....\", \"commentCount\": \"18\", \"postId\": \"97789615\", \"category\": \"Recommendations\"}, {\"subject\": \"Looking for reliable house cleaning service\", \"commentCount\": \"3\", \"postId\": \"98014978\", \"category\": \"Recommendations\"}, {\"subject\": \"Clothing, Shoes and Blanket Drive: Change to Leland end date\", \"commentCount\": \"0\", \"postId\": \"98035631\", \"category\": \"General\"}, {\"subject\": \"Coyote\", \"commentCount\": \"3\", \"postId\": \"98125503\", \"category\": \"General\"}, {\"subject\": \"Childcare and Mommy\\u2019s Helper\", \"commentCount\": \"0\", \"postId\": \"98152851\", \"category\": \"General\"}, {\"subject\": \"Part time nanny needed\", \"commentCount\": \"0\", \"postId\": \"98210239\", \"category\": \"Recommendations\"}, {\"subject\": \"Any recommendations for Christmas light neighborhoods/streets\", \"commentCount\": \"3\", \"postId\": \"98741662\", \"category\": \"Recommendations\"}, {\"subject\": \"Stranger at door asking for donation\", \"commentCount\": \"3\", \"postId\": \"98812859\", \"category\": \"General\"}, {\"subject\": \"Gas Line\", \"commentCount\": \"6\", \"postId\": \"98868042\", \"category\": \"Recommendations\"}, {\"subject\": \"Styrofoam\", \"commentCount\": \"0\", \"postId\": \"99493311\", \"category\": \"Recommendations\"}, {\"subject\": \"Styrofoam\", \"commentCount\": \"12\", \"postId\": \"99493311\", \"category\": \"Recommendations\"}, {\"subject\": \"Redbox Bowl 12/31 Tickets?\", \"commentCount\": \"0\", \"postId\": \"99541432\", \"category\": \"General\"}, {\"subject\": \"Ford Dealer Service recommendation\", \"commentCount\": \"12\", \"postId\": \"99930449\", \"category\": \"Recommendations\"}, {\"subject\": \"Volunteer opportunity\", \"commentCount\": \"0\", \"postId\": \"99968826\", \"category\": \"General\"}, {\"subject\": \"Teeter HangUps Inversion ztable\", \"commentCount\": \"0\", \"postId\": \"bbb7cdc9-fed5-4ddb-8ee5-6f9384e26a9d\", \"category\": \"Classifieds\"}, {\"subject\": \"Center table plus coffee table\", \"commentCount\": \"0\", \"postId\": \"cd1016fc-cbe3-4491-a472-0a15f2e0663e\", \"category\": \"Classifieds\"}, {\"subject\": \"Full size bed frame and mattress for sale.\", \"commentCount\": \"0\", \"postId\": \"d577e035-823c-4809-a948-9d9b37d3f071\", \"category\": \"Classifieds\"}, {\"subject\": \"SF Giants Cap\", \"commentCount\": \"0\", \"postId\": \"dd05dbdf-b55c-4334-b072-f3f41bcc23cf\", \"category\": \"Classifieds\"}, {\"subject\": \"Baby crib\", \"commentCount\": \"0\", \"postId\": \"f4c3ffda-19f7-4d3f-85b9-e839400f2ada\", \"category\": \"Classifieds\"}, {\"subject\": \"Bakers Rack\", \"commentCount\": \"0\", \"postId\": \"fa3553f0-217c-4194-ad03-269427f75452\", \"category\": \"Classifieds\"}],\n",
      "          stateName: \"California\",\n",
      "          stateAbbreviation: \"CA\"\n",
      "        }\n"
     ]
    }
   ],
   "source": [
    "scripts = html_soup.findAll('script')\n",
    "neighborhood_info = scripts[5].string.strip()\n",
    "neighborhood_info = neighborhood_info[neighborhood_info.index('['):-1]\n",
    "print(neighborhood_info)"
   ]
  },
  {
   "cell_type": "code",
   "execution_count": 185,
   "metadata": {},
   "outputs": [],
   "source": [
    "neighborhoodGeometries = neighborhood_info[neighborhood_info.index('neighborhoodGeometriesJSON: '): neighborhood_info.index('neighborhoodMapOptions:{')]\n",
    "neighborhoodGeometries = neighborhoodGeometries.lstrip()\n",
    "neighborhoodGeometries = neighborhoodGeometries.rstrip()\n",
    "begIndex = len('neighborhoodGeometriesJSON: ')\n",
    "neighborhoodGeometries = neighborhoodGeometries[begIndex: -1]\n",
    "neighborhood_json = json.loads(neighborhoodGeometries)"
   ]
  },
  {
   "cell_type": "code",
   "execution_count": 186,
   "metadata": {},
   "outputs": [],
   "source": [
    "def find_all(a_str, sub):\n",
    "    start = 0\n",
    "    while True:\n",
    "        start = a_str.find(sub, start)\n",
    "        if start == -1: return\n",
    "        yield start\n",
    "        start += len(sub) # use start += 1 to find overlapping matches"
   ]
  },
  {
   "cell_type": "code",
   "execution_count": 187,
   "metadata": {},
   "outputs": [
    {
     "name": "stdout",
     "output_type": "stream",
     "text": [
      "[64146, 66460, 67307, 68461, 71558, 72814, 75074, 76006, 77000, 78456, 79930, 81663, 82847, 84688, 86065, 88233, 91076, 93015, 95229, 98305, 100315, 101603, 104979, 106484, 108132, 110499, 112009, 116840, 118981]\n",
      "[64219, 66545, 67377, 68535, 71631, 72896, 75159, 76079, 77073, 78541, 80010, 81748, 82921, 84763, 86142, 88302, 91157, 93087, 95310, 98384, 100387, 101680, 105053, 106563, 108211, 110580, 112086, 116911, 119046]\n",
      "787250607747, 37.21516710784651]]]]}\", \"centroid\": [-121.82\n"
     ]
    }
   ],
   "source": [
    "begIndexes = list(find_all(neighborhood_info, \"\\\"page_url\\\": \\\"\")) \n",
    "endIndexes = list(find_all(neighborhood_info, \"\\\", \\\"short_name\\\": \")) \n",
    "print(begIndexes)\n",
    "print(endIndexes)\n",
    "print(neighborhood_info[116734 + len (\"\\\"page_url\\\": \\\"\"): 116806]) "
   ]
  },
  {
   "cell_type": "code",
   "execution_count": 188,
   "metadata": {},
   "outputs": [
    {
     "name": "stdout",
     "output_type": "stream",
     "text": [
      "{   'geometry': {   'coordinates': [   [   [   [   -121.89473459850296,\n",
      "                                                   37.22925687092096],\n",
      "                                               [   -121.8942930692894,\n",
      "                                                   37.229076150478946],\n",
      "                                               [   -121.89336874245316,\n",
      "                                                   37.22886126059521],\n",
      "                                               [   -121.89273233459778,\n",
      "                                                   37.2287969228329],\n",
      "                                               [   -121.89035785530075,\n",
      "                                                   37.22877529795784],\n",
      "                                               [   -121.88559189142688,\n",
      "                                                   37.22821620038667],\n",
      "                                               [   -121.88443081646903,\n",
      "                                                   37.228169660549796],\n",
      "                                               [   -121.88500084271385,\n",
      "                                                   37.22511828174797],\n",
      "                                               [   -121.8849438188559,\n",
      "                                                   37.224697967596484],\n",
      "                                               [   -121.88478444235739,\n",
      "                                                   37.224419434502714],\n",
      "                                               [   -121.88201529247624,\n",
      "                                                   37.22174303534723],\n",
      "                                               [   -121.8852374258031,\n",
      "                                                   37.22019835355142],\n",
      "                                               [   -121.88568477296877,\n",
      "                                                   37.22006962966],\n",
      "                                               [   -121.8863258533051,\n",
      "                                                   37.21997179320096],\n",
      "                                               [   -121.88691701536112,\n",
      "                                                   37.220012699374834],\n",
      "                                               [   -121.88720780896739,\n",
      "                                                   37.21947430486121],\n",
      "                                               [   -121.8934032179597,\n",
      "                                                   37.21846939823191],\n",
      "                                               [   -121.89432106412664,\n",
      "                                                   37.218436038100116],\n",
      "                                               [   -121.89471646371305,\n",
      "                                                   37.21895626462161],\n",
      "                                               [   -121.89507259559463,\n",
      "                                                   37.219721439741875],\n",
      "                                               [   -121.89483990602872,\n",
      "                                                   37.221354438713156],\n",
      "                                               [   -121.89473459850296,\n",
      "                                                   37.22925687092096],\n",
      "                                               [   -121.89473459850296,\n",
      "                                                   37.22925687092096]]]],\n",
      "                    'type': 'MultiPolygon'},\n",
      "    'properties': {   'City': 'San Jose',\n",
      "                      'County': 'Santa Clara',\n",
      "                      'State': 'CA',\n",
      "                      'fill': '#67C2A5',\n",
      "                      'fill-opacity': 0.45,\n",
      "                      'hood_id': 164624,\n",
      "                      'hood_name': 'Almaden Meadows',\n",
      "                      'stroke': '#67C2A5'},\n",
      "    'type': 'Feature'}\n"
     ]
    }
   ],
   "source": [
    "feature = neighborhood_json[\"features\"][3]\n",
    "feature['properties']['State'] = 'CA'\n",
    "feature['properties']['City'] = 'San Jose'\n",
    "feature['properties']['County'] = 'Santa Clara'\n",
    "pp.pprint(feature)"
   ]
  },
  {
   "cell_type": "code",
   "execution_count": 189,
   "metadata": {},
   "outputs": [
    {
     "name": "stdout",
     "output_type": "stream",
     "text": [
      "30\n"
     ]
    }
   ],
   "source": [
    "print(len(neighborhood_json[\"features\"]))"
   ]
  },
  {
   "cell_type": "code",
   "execution_count": 190,
   "metadata": {},
   "outputs": [
    {
     "name": "stdout",
     "output_type": "stream",
     "text": [
      "92\n",
      "3267\n",
      "57\n"
     ]
    }
   ],
   "source": [
    "try:\n",
    "    begCensusIndex = neighborhood_info.index('census: {')\n",
    "    endCensusIndex = neighborhood_info.index('city: ')\n",
    "    if ((begCensusIndex > 0) and (endCensusIndex > 0)):\n",
    "        census = neighborhood_info[begCensusIndex: endCensusIndex]\n",
    "        census = census[census.index('{'): census.index('}')+1]\n",
    "        census = json.loads(census)\n",
    "        print(census['homeowners'])\n",
    "        print(census['population'])\n",
    "        print(census['age'])\n",
    "except:\n",
    "    print(\"No census found for: %s\", row[\"Hood Name\"])"
   ]
  },
  {
   "cell_type": "code",
   "execution_count": 208,
   "metadata": {},
   "outputs": [
    {
     "name": "stdout",
     "output_type": "stream",
     "text": [
      "Interests: Hiking & Trails, Gardening & Landscape, Walking, Cooking, Seeing Live Music, Home Improvement & DIY, Books, Dogs, Family Activities, Volunteering\n",
      "\n",
      "1\n"
     ]
    }
   ],
   "source": [
    "try:\n",
    "    begInterestIndex = neighborhood_info.index('interests: [')\n",
    "    endInterestIndex = neighborhood_info.index('iosUrl: \"https://')\n",
    "    if ((begInterestIndex > 0) and (endInterestIndex > 0)):\n",
    "        interests = neighborhood_info[begInterestIndex: endInterestIndex]\n",
    "        interests = interests[interests.index('[') +1: interests.index(']')]\n",
    "        interests = interests.replace('\"', \"\")\n",
    "        interest_list = interests.split(\", \")\n",
    "        print(\"Interests: %s\\n\" % interests)\n",
    "        print(interest_list.index('Gardening & Landscape'))\n",
    "except:\n",
    "    print(\"No interests found for: %s\", row[\"Hood Name\"])"
   ]
  },
  {
   "cell_type": "code",
   "execution_count": 207,
   "metadata": {},
   "outputs": [
    {
     "name": "stdout",
     "output_type": "stream",
     "text": [
      "Hiking & Trails, Gardening & Landscape, Walking, Cooking, Seeing Live Music, Home Improvement & DIY, Books, Dogs, Family Activities, Volunteering\n",
      "['Hiking & Trails', 'Gardening & Landscape', 'Walking', 'Cooking', 'Seeing Live Music', 'Home Improvement & DIY', 'Books', 'Dogs', 'Family Activities', 'Volunteering']\n",
      "1\n"
     ]
    }
   ],
   "source": [
    "interests = interests.replace('\"', \"\")\n",
    "print(interests)\n",
    "my_list = interests.split(\", \")\n",
    "print(my_list)\n",
    "print(my_list.index('Gardening & Landscape'))"
   ]
  },
  {
   "cell_type": "code",
   "execution_count": 209,
   "metadata": {},
   "outputs": [
    {
     "name": "stdout",
     "output_type": "stream",
     "text": [
      "Attributes: ['Family Friendly', 'Friendly', 'Neighbors', 'Beautiful', 'Community', 'Clean', 'Safe', 'Walking', 'Dog Friendly', 'Quiet']\n",
      "\n"
     ]
    }
   ],
   "source": [
    "try:\n",
    "    begAttrIndex = neighborhood_info.index('attributes: [')\n",
    "    endAttrIndex = neighborhood_info.index('census:')\n",
    "    if ((begAttrIndex > 0) and (endAttrIndex > 0)):\n",
    "        attributes = neighborhood_info[begAttrIndex: endAttrIndex]\n",
    "        attributes = attributes[attributes.index('[') + 1: attributes.index(']')]\n",
    "        attributes = attributes.replace('\"', \"\")\n",
    "        attributes_list = attributes.split(\", \")\n",
    "        print(\"Attributes: %s\\n\" % attributes_list)\n",
    "except:\n",
    "    print(\"No attributes found for: %s\", row[\"Hood Name\"])"
   ]
  },
  {
   "cell_type": "code",
   "execution_count": 174,
   "metadata": {},
   "outputs": [],
   "source": [
    "def findAllTheNeighborhoods(row, neighborhoodInfo, neighborhood_json):\n",
    "    # Iterate over each feature \n",
    "    # Check if we have the info already for that row\n",
    "    # if not save the geojson for that neighborhood without the featurecollection part\n",
    "    feature = neighborhood_json[\"features\"][0]\n",
    "    print(feature)\n",
    "    row[\"GeoJSON\"] = feature  \n",
    "\n",
    "    props = feature[\"properties\"]\n",
    "    print(\"Name %s, id %s \\n\" % (props[\"hood_name\"], props[\"hood_id\"]))   \n",
    "        \n",
    "    # Find the row and update the info if it isn't already set for \n",
    "    row[\"Hood Name\"] = props[\"hood_name\"]\n",
    "    row[\"Hood ID\"] = props[\"hood_id\"] \n",
    "        \n",
    "    # Collect any additional neighborhoods that we haven't seen before from the neighborhood map\n",
    "    # if they are in the same city as one of the cities we care about then add it and what ever info we can \n",
    "    # find to the list\n",
    "    # nearby neighborhoods\n",
    "    # short name\n",
    "    # city\n",
    "    # state\n",
    "    # geometry\n",
    "    \n",
    "    \n",
    "    # url is in neighborhood map\n",
    "    # id is in "
   ]
  },
  {
   "cell_type": "code",
   "execution_count": 82,
   "metadata": {},
   "outputs": [
    {
     "name": "stdout",
     "output_type": "stream",
     "text": [
      "[{\"agencyName\": \"Santa Clara Valley Water District\", \"hostname\": \"avanaskyway\", \"subject\": \"Temporary Bay Trail Closure in East Palo Alto\", \"postId\": \"101458364\", \"urlSlug\": \"santa-clara-valley-water-district-1\", \"avatarPhoto\": \"https://d3926qxcw0e1bh.cloudfront.net/pages_avatar_photos/01/03/010310b823d05ffa89499baf1d1221f8.jpg\", \"groupId\": \"1458946\"}, {\"agencyName\": \"San Jos\\u00e9 City Council\", \"hostname\": \"avanaskyway\", \"subject\": \"Join CM Carrasco tomorrow! 1st Pancake Breakfast of the year!\", \"postId\": \"101447625\", \"urlSlug\": \"san-jose-city-council\", \"avatarPhoto\": \"https://d3926qxcw0e1bh.cloudfront.net/pages_avatar_photos/fc/92/fc923118a79f09820c9a021fc54a6087.jpg\", \"groupId\": \"533104\"}, {\"agencyName\": \"San Jos\\u00e9 City Council\", \"hostname\": \"avanaskyway\", \"subject\": \"Join me tomorrow! 1st Pancake Breakfast of the year!\", \"postId\": \"101447354\", \"urlSlug\": \"san-jose-city-council\", \"avatarPhoto\": \"https://d3926qxcw0e1bh.cloudfront.net/pages_avatar_photos/fc/92/fc923118a79f09820c9a021fc54a6087.jpg\", \"groupId\": \"533104\"}, {\"agencyName\": \"San Jos\\u00e9 City Council\", \"hostname\": \"avanaskyway\", \"subject\": \"Santa Clara County 2016 Measure B update\", \"postId\": \"101446036\", \"urlSlug\": \"san-jose-city-council\", \"avatarPhoto\": \"https://d3926qxcw0e1bh.cloudfront.net/pages_avatar_photos/fc/92/fc923118a79f09820c9a021fc54a6087.jpg\", \"groupId\": \"533104\"}, {\"agencyName\": \"City of San Jos\\u00e9\", \"hostname\": \"avanaskyway\", \"subject\": \"Learn About Constructing ADUs (Granny Flats) on February 2\", \"postId\": \"101445204\", \"urlSlug\": \"city-of-san-jose\", \"avatarPhoto\": \"https://d3926qxcw0e1bh.cloudfront.net/pages_avatar_photos/4e/06/4e0614dadf896a3bfdd2429416f80731.jpg\", \"groupId\": \"542761\"}],\n",
      "          agencyInfo: [{\"hostname\": \"avanaskyway\", \"postCount\": \"32160\", \"agencyName\": \"City of San Jos\\u00e9\", \"urlSlug\": \"city-of-san-jose\", \"avatarPhoto\": \"https://d3926qxcw0e1bh.cloudfront.net/pages_avatar_photos/4e/06/4e0614dadf896a3bfdd2429416f80731.jpg\", \"groupId\": \"542761\"}, {\"hostname\": \"avanaskyway\", \"postCount\": \"19514\", \"agencyName\": \"San Jos\\u00e9 City Council\", \"urlSlug\": \"san-jose-city-council\", \"avatarPhoto\": \"https://d3926qxcw0e1bh.cloudfront.net/pages_avatar_photos/fc/92/fc923118a79f09820c9a021fc54a6087.jpg\", \"groupId\": \"533104\"}, {\"hostname\": \"avanaskyway\", \"postCount\": \"9168\", \"agencyName\": \"San Jos\\u00e9 Police Department\", \"urlSlug\": \"san-jose-police-department\", \"avatarPhoto\": \"https://d3926qxcw0e1bh.cloudfront.net/pages_avatar_photos/c6/bf/c6bf1ff992743dcd771b3492ab5cf519.jpg\", \"groupId\": \"533084\"}, {\"hostname\": \"avanaskyway\", \"postCount\": \"8471\", \"agencyName\": \"Santa Clara County Sheriff\", \"urlSlug\": \"santa-clara-county-sheriff\", \"avatarPhoto\": \"https://d3926qxcw0e1bh.cloudfront.net/pages_avatar_photos/46/5d/465de869c4404e0ec10fc03dda5024f0.jpg\", \"groupId\": \"533171\"}, {\"hostname\": \"avanaskyway\", \"postCount\": \"4410\", \"agencyName\": \"Valley Transportation Authority\", \"urlSlug\": \"valley-transportation-authority\", \"avatarPhoto\": \"https://d3926qxcw0e1bh.cloudfront.net/pages_avatar_photos/82/d5/82d5f6e0d2a18453e7011e25c71d5582.png\", \"groupId\": \"618410\"}, {\"hostname\": \"avanaskyway\", \"postCount\": \"4168\", \"agencyName\": \"County of Santa Clara\", \"urlSlug\": \"county-of-santa-clara-office-of-public-affairs\", \"avatarPhoto\": \"https://d3926qxcw0e1bh.cloudfront.net/pages_avatar_photos/a5/c4/a5c47d514be1dc1984f98c77247cd237.jpg\", \"groupId\": \"691024\"}, {\"hostname\": \"avanaskyway\", \"postCount\": \"1693\", \"agencyName\": \"Santa Clara Valley Water District\", \"urlSlug\": \"santa-clara-valley-water-district-1\", \"avatarPhoto\": \"https://d3926qxcw0e1bh.cloudfront.net/pages_avatar_photos/01/03/010310b823d05ffa89499baf1d1221f8.jpg\", \"groupId\": \"1458946\"}, {\"hostname\": \"avanaskyway\", \"postCount\": \"667\", \"agencyName\": \"California Office of Emergency Services\", \"urlSlug\": \"state-of-california-4\", \"avatarPhoto\": \"https://d3926qxcw0e1bh.cloudfront.net/pages_avatar_photos/77/42/774237c0b3b3724ceeb88eeba6be92c6.png\", \"groupId\": \"16715694\"}, {\"hostname\": \"avanaskyway\", \"postCount\": \"216\", \"agencyName\": \"Santa Clara County District 1\", \"urlSlug\": \"santa-clara-county-district-1\", \"avatarPhoto\": \"https://d3926qxcw0e1bh.cloudfront.net/pages_avatar_photos/d0/64/d0642ae916aa90c3c4aa72ae95b9a87b.jpg\", \"groupId\": \"1430691\"}, {\"hostname\": \"avanaskyway\", \"postCount\": \"27\", \"agencyName\": \"Super Bowl 50 Host Committee\", \"urlSlug\": \"super-bowl-committee\", \"avatarPhoto\": \"https://d3926qxcw0e1bh.cloudfront.net/pages_avatar_photos/03/c8/03c8e05d3115b4645096257a38c2cbc6\", \"groupId\": \"1457782\"}, {\"hostname\": \"avanaskyway\", \"postCount\": \"25\", \"agencyName\": \"Santa Clara County Office of Emergency Services\", \"urlSlug\": \"santa-clara-county-office-of-emergency-services\", \"avatarPhoto\": \"https://d3926qxcw0e1bh.cloudfront.net/pages_avatar_photos/ba/d3/bad3352c2df1d39cd93db1b444138213.jpg\", \"groupId\": \"18951930\"}],\n",
      "          attributes: [\"Dog Friendly\", \"Friendly\", \"Clean\", \"Family Friendly\", \"Neighbors\", \"Walking\", \"Atmosphere\", \"Community\", \"Creek\", \"Diversity\"],\n",
      "          census: {\"homeowners\": \"47\", \"population\": \"2114\", \"age\": \"43\"},\n",
      "          city: \"San Jose\",\n",
      "          countryCodeToUrls: {\"US\": \"https://nextdoor.com?noredirect=True\", \"NL\": \"https://nextdoor.nl\", \"GB\": \"https://nextdoor.co.uk\", \"DE\": \"https://nextdoor.de\", \"FR\": \"https://fr.nextdoor.com\", \"IT\": \"https://it.nextdoor.com\", \"ES\": \"https://es.nextdoor.com\", \"AU\": \"https://au.nextdoor.com\", \"DK\": \"https://dk.nextdoor.com\", \"SE\": \"https://se.nextdoor.com\"},\n",
      "          currentCountry: CURRENT_COUNTRY,\n",
      "          events: null,\n",
      "          favoritesInfo: {\"hasFavorites\": false},\n",
      "          hostName: \"avanaskyway\",\n",
      "          interests: [\"Walking\", \"Hiking & Trails\", \"Dogs\", \"Seeing Live Music\", \"Volunteering\", \"Wine Tasting\", \"Cooking\", \"Family Activities\", \"Photography\", \"Baking\"],\n",
      "          iosUrl: \"https://itunes.apple.com/us/app/nextdoor/id640360962?ls=1&amp;mt=8\",\n",
      "          nearbyNeighborhoods: [{\"shortName\": \"Berry Park\", \"hostname\": \"10berrypark2\", \"city\": \"San Jose\", \"state\": \"CA\"}, {\"shortName\": \"Blossom Hill Homes\", \"hostname\": \"10blossomhillhomes\", \"city\": \"San Jose\", \"state\": \"CA\"}, {\"shortName\": \"Blossom Village\", \"hostname\": \"10blossomvillage\", \"city\": \"San Jose\", \"state\": \"CA\"}, {\"shortName\": \"Carson\", \"hostname\": \"10carsonsj\", \"city\": \"San Jose\", \"state\": \"CA\"}, {\"shortName\": \"Colony  Green\", \"hostname\": \"10colonygreen\", \"city\": \"San Jose\", \"state\": \"CA\"}, {\"shortName\": \"Del Robles\", \"hostname\": \"10delrobles\", \"city\": \"San Jose\", \"state\": \"CA\"}, {\"shortName\": \"Park Place\", \"hostname\": \"10parkplace\", \"city\": \"San Jose\", \"state\": \"CA\"}, {\"shortName\": \"Parkview\", \"hostname\": \"10parkview\", \"city\": \"San Jose\", \"state\": \"CA\"}, {\"shortName\": \"Playa Del Rey\", \"hostname\": \"10playadelreysanjose\", \"city\": \"San Jose\", \"state\": \"CA\"}, {\"shortName\": \"Vista  Park\", \"hostname\": \"10vistapark\", \"city\": \"San Jose\", \"state\": \"CA\"}, {\"shortName\": \"Hayes\", \"hostname\": \"2hayes\", \"city\": \"San Jose\", \"state\": \"CA\"}, {\"shortName\": \"Oak Grove\", \"hostname\": \"2oakgrovesanjose\", \"city\": \"San Jose\", \"state\": \"CA\"}, {\"shortName\": \"San  Ramon\", \"hostname\": \"2sanramon\", \"city\": \"San Jose\", \"state\": \"CA\"}, {\"shortName\": \"Rancho\", \"hostname\": \"7ranchosanjose\", \"city\": \"San Jose\", \"state\": \"CA\"}, {\"shortName\": \"Seven Trees\", \"hostname\": \"7seventrees\", \"city\": \"San Jose\", \"state\": \"CA\"}, {\"shortName\": \"Bella Villagio\", \"hostname\": \"bellavillagio\", \"city\": \"San Jose\", \"state\": \"CA\"}, {\"shortName\": \"California Hawaiian Estates\", \"hostname\": \"californiahawaiianestates\", \"city\": \"San Jose\", \"state\": \"CA\"}, {\"shortName\": \"Capitol Village - Baroni\", \"hostname\": \"capitolvillagebaroni\", \"city\": \"San Jose\", \"state\": \"CA\"}, {\"shortName\": \"Dolce Hayes\", \"hostname\": \"dolcehayes\", \"city\": \"San Jose\", \"state\": \"CA\"}, {\"shortName\": \"Eden Hill\", \"hostname\": \"edenhill\", \"city\": \"San Jose\", \"state\": \"CA\"}, {\"shortName\": \"Edenvale\", \"hostname\": \"edenvaleca\", \"city\": \"San Jose\", \"state\": \"CA\"}, {\"shortName\": \"Ellmar Oaks\", \"hostname\": \"ellmaroaks\", \"city\": \"San Jose\", \"state\": \"CA\"}, {\"shortName\": \"Frontier Village\", \"hostname\": \"frontiervillage\", \"city\": \"San Jose\", \"state\": \"CA\"}, {\"shortName\": \"Havens-Monterey-Edenvale\", \"hostname\": \"havensmontereyedenvale\", \"city\": \"San Jose\", \"state\": \"CA\"}, {\"shortName\": \"River View Skyway\", \"hostname\": \"riverviewskyway\", \"city\": \"San Jose\", \"state\": \"CA\"}, {\"shortName\": \"The Woods\", \"hostname\": \"thewoodsca\", \"city\": \"San Jose\", \"state\": \"CA\"}, {\"shortName\": \"Vistapark-Martial Cottle\", \"hostname\": \"vistaparkmartialcottle\", \"city\": \"San Jose\", \"state\": \"CA\"}],\n",
      "          neighborhoodGeometriesJSON: {\"type\": \"FeatureCollection\", \"features\": [{\"type\": \"Feature\", \"geometry\": {\"type\": \"MultiPolygon\", \"coordinates\": [[[[-121.8360515683695, 37.26602677202032], [-121.83610459616466, 37.268594418464495], [-121.83564294802147, 37.269459849542486], [-121.83517055787303, 37.26970890275868], [-121.8350307616426, 37.26954813424238], [-121.83474044034551, 37.26933759003701], [-121.83429927262011, 37.26907872226406], [-121.8331883202012, 37.268711473979835], [-121.83260308074921, 37.26847229522604], [-121.83218950267411, 37.268207501384175], [-121.8318325099317, 37.26790007233028], [-121.83162719147037, 37.26766951382514], [-121.83143906919531, 37.267377073816505], [-121.83124021808413, 37.26704194146938], [-121.83115365210756, 37.2666619745875], [-121.83111072948645, 37.26599701818959], [-121.83099270501282, 37.263684119568765], [-121.83831246442287, 37.26350892516025], [-121.83830308219552, 37.265999957023055], [-121.8360515683695, 37.26602677202032]]]]}, \"properties\": {\"hood_id\": 322348, \"hood_name\": \"Avana Skyway\", \"fill\": \"#00b246\", \"stroke\": \"#00b246\", \"fill-opacity\": 0.45}}, {\"type\": \"Feature\", \"geometry\": {\"type\": \"MultiPolygon\", \"coordinates\": [[[[-121.83699970441677, 37.27342245329562], [-121.83038285666015, 37.27344147165533], [-121.82896005955195, 37.27246012434002], [-121.83124295873398, 37.27041192773851], [-121.83170601776925, 37.27011396438045], [-121.83153071105897, 37.269909916997925], [-121.83149879572295, 37.26833972957125], [-121.83167585541446, 37.26800897836], [-121.83185291510603, 37.267908755956775], [-121.83218551749803, 37.2682049474521], [-121.83260395057846, 37.268475523545504], [-121.83316722294569, 37.26870767743262], [-121.83383778367352, 37.268914216516414], [-121.83383795315603, 37.26891258565532], [-121.83431401199527, 37.269076294775545], [-121.83472569781821, 37.269325383429425], [-121.8350193664445, 37.26954885738726], [-121.8352915773986, 37.26984063411841], [-121.83758372298132, 37.27315543556455], [-121.83699970441677, 37.27342245329562], [-121.83699970441677, 37.27342245329562], [-121.83699970441677, 37.27342245329562]]]]}, \"properties\": {\"hood_id\": 182946, \"hood_name\": \"Berry Park\", \"fill\": \"#67C2A5\", \"stroke\": \"#67C2A5\", \"fill-opacity\": 0.45}}, {\"type\": \"Feature\", \"geometry\": {\"type\": \"MultiPolygon\", \"coordinates\": [[[[-121.84278227477262, 37.254974003832274], [-121.83996227134372, 37.25500861488878], [-121.83997537408851, 37.25405862058821], [-121.83578174179507, 37.25410417152173], [-121.83575006156235, 37.25098132701665], [-121.83694901367448, 37.25076956253645], [-121.84245131069872, 37.25344219984745], [-121.84278227477262, 37.254974003832274], [-121.84278227477262, 37.254974003832274], [-121.84278227477262, 37.254974003832274]]]]}, \"properties\": {\"hood_id\": 170220, \"hood_name\": \"Blossom Hill Homes\", \"fill\": \"#67C2A5\", \"stroke\": \"#67C2A5\", \"fill-opacity\": 0.45}}, {\"type\": \"Feature\", \"geometry\": {\"type\": \"MultiPolygon\", \"coordinates\": [[[[-121.83413810188654, 37.25401763215795], [-121.83411907692044, 37.25311610929816], [-121.8351407490523, 37.253115532242745], [-121.83514909451105, 37.25400615500221], [-121.83413810188654, 37.25401763215795]]]]}, \"properties\": {\"hood_id\": 155750, \"hood_name\": \"Blossom Village\", \"fill\": \"#67C2A5\", \"stroke\": \"#67C2A5\", \"fill-opacity\": 0.45}}, {\"type\": \"Feature\", \"geometry\": {\"type\": \"MultiPolygon\", \"coordinates\": [[[[-121.86314216615165, 37.27461073664113], [-121.86188527989805, 37.27447944592068], [-121.86110046243107, 37.274442073042565], [-121.86035543212898, 37.27443043561924], [-121.85927496610032, 37.274437535435375], [-121.85465398417193, 37.2745470840692], [-121.84982952449866, 37.274594217498866], [-121.84979293972526, 37.27242727288935], [-121.84971694693803, 37.272134673030315], [-121.849611286955, 37.271875523869525], [-121.84656916581679, 37.26590334653383], [-121.84731367750061, 37.26587099856733], [-121.84799844413646, 37.265837228775666], [-121.84853291681839, 37.26581091680343], [-121.84958237363128, 37.265613837851944], [-121.85035287388632, 37.265521253353214], [-121.85146669689527, 37.26552259241172], [-121.8536351199715, 37.26582316760373], [-121.85447316737645, 37.26593589829198], [-121.8551706795298, 37.26598239360709], [-121.85580701993968, 37.26597330187408], [-121.85906160517379, 37.26596210278129], [-121.85948145859686, 37.26758662567601], [-121.85976733198663, 37.268321041818744], [-121.86010688624305, 37.26898407439269], [-121.86045361390961, 37.26948834692667], [-121.8609037648622, 37.270042643664176], [-121.86137187690281, 37.270683684636914], [-121.86189364808985, 37.27143502172705], [-121.86227642254335, 37.272054760664666], [-121.86256367691601, 37.27259135828711], [-121.86280858014084, 37.27330355819361], [-121.86297301597625, 37.27389234217862], [-121.86313745181178, 37.27460065064306], [-121.86314216615165, 37.27461073664113], [-121.86314216615165, 37.27461073664113]]]]}, \"properties\": {\"hood_id\": 1740, \"hood_name\": \"Carson\", \"fill\": \"#67C2A5\", \"stroke\": \"#67C2A5\", \"fill-opacity\": 0.45}}, {\"type\": \"Feature\", \"geometry\": {\"type\": \"MultiPolygon\", \"coordinates\": [[[[-121.84296843665373, 37.25901123574521], [-121.84031487434032, 37.259015986016465], [-121.8402988671279, 37.25828534029487], [-121.84045534482834, 37.25774533117827], [-121.84043470595458, 37.25594295965149], [-121.8405748695236, 37.25536042105384], [-121.8405849407244, 37.255000716271816], [-121.84278227477262, 37.254974003832274], [-121.84325974530651, 37.257106653628135], [-121.84354562789844, 37.25755150430286], [-121.84296061046746, 37.25868357844244], [-121.84296843665373, 37.25901123574521], [-121.84296843665373, 37.25901123574521]]]]}, \"properties\": {\"hood_id\": 170221, \"hood_name\": \"Colony  Green\", \"fill\": \"#67C2A5\", \"stroke\": \"#67C2A5\", \"fill-opacity\": 0.45}}, {\"type\": \"Feature\", \"geometry\": {\"type\": \"MultiPolygon\", \"coordinates\": [[[[-121.84031487434032, 37.259015986016465], [-121.8326404809477, 37.25901031101274], [-121.83181479832024, 37.2587509767178], [-121.83094112468126, 37.25874303961868], [-121.83082572156428, 37.251273755778136], [-121.83349173944845, 37.251266317178285], [-121.83464235817746, 37.25116865746883], [-121.83575410934492, 37.25099172673684], [-121.83575006156235, 37.251241798511096], [-121.83576871045665, 37.253093207163076], [-121.83514171245724, 37.25311998885189], [-121.83412311194161, 37.253121151071916], [-121.8341371618967, 37.25401685423951], [-121.83515269746385, 37.2540078281574], [-121.83514548111657, 37.253123718695726], [-121.83576858388773, 37.2530978560447], [-121.83578174179507, 37.25410417152173], [-121.83997537408851, 37.25405862058821], [-121.83996227134372, 37.25500861488878], [-121.8405849407244, 37.255000716271816], [-121.8405748695236, 37.25536042105384], [-121.84043470595458, 37.25594295965149], [-121.84045534482834, 37.25774533117827], [-121.8402988671279, 37.25828534029487], [-121.84031487434032, 37.259015986016465], [-121.84031487434032, 37.259015986016465], [-121.84031487434032, 37.259015986016465], [-121.84031487434032, 37.259015986016465]]]]}, \"properties\": {\"hood_id\": 170222, \"hood_name\": \"Del Robles\", \"fill\": \"#67C2A5\", \"stroke\": \"#67C2A5\", \"fill-opacity\": 0.45}}, {\"type\": \"Feature\", \"geometry\": {\"type\": \"MultiPolygon\", \"coordinates\": [[[[-121.83165928559964, 37.26801537939611], [-121.8316591278857, 37.26801581677803], [-121.83150089788398, 37.26834787322138], [-121.8315001580209, 37.26835003035562], [-121.83149992612005, 37.26835229902208], [-121.831519022566, 37.269891296052194], [-121.8315192403872, 37.26989325140972], [-121.83151983683388, 37.269895126275166], [-121.83152078881847, 37.26989684807495], [-121.83169900320286, 37.270134131526156], [-121.83133294677941, 37.27034139463027], [-121.82895984599168, 37.27246115712966], [-121.8246832839339, 37.26938333683985], [-121.82466440329677, 37.26617061979949], [-121.8253405412404, 37.26604584811916], [-121.8311231513909, 37.26600077898902], [-121.83115504526569, 37.266683445383364], [-121.83124609405547, 37.26704185274775], [-121.8314096356471, 37.26734059081326], [-121.83163088131164, 37.26766072305232], [-121.83183806366844, 37.26790617016012], [-121.83165900792716, 37.268015006469064], [-121.83165928559964, 37.26801537939611], [-121.83165928559964, 37.26801537939611], [-121.83165928559964, 37.26801537939611]]]]}, \"properties\": {\"hood_id\": 170042, \"hood_name\": \"Park Place\", \"fill\": \"#67C2A5\", \"stroke\": \"#67C2A5\", \"fill-opacity\": 0.45}}, {\"type\": \"Feature\", \"geometry\": {\"type\": \"MultiPolygon\", \"coordinates\": [[[[-121.84733042075891, 37.27323730912491], [-121.84732616808958, 37.27323825271329], [-121.84732420444891, 37.27323436431117], [-121.8464685780225, 37.27344502914228], [-121.84602333045063, 37.273490598778075], [-121.84530449755937, 37.273493480841466], [-121.84465003680907, 37.27378098229641], [-121.8440733601202, 37.274179469372754], [-121.84406925710778, 37.27418127569801], [-121.84406539175995, 37.274179004881496], [-121.84298624298049, 37.27339918360302], [-121.84296801623645, 37.27338873529427], [-121.84294800879081, 37.27338232565509], [-121.84292710373501, 37.273380237595006], [-121.83797756954266, 37.27340838448702], [-121.83797295335103, 37.273407962156405], [-121.83796995227772, 37.27340442928968], [-121.83774095351902, 37.273430038922605], [-121.83757632777667, 37.27316537245267], [-121.83556634223214, 37.270245471266705], [-121.83517641093255, 37.26970757999306], [-121.83562733416579, 37.26947978102128], [-121.83609971507116, 37.2685860150065], [-121.83604878426223, 37.26602740296853], [-121.84657296082037, 37.26590509870344], [-121.84973281307975, 37.2721215743719], [-121.84978111801848, 37.272265480572955], [-121.84980260086718, 37.27244780584407], [-121.84733042075891, 37.27323730912491], [-121.84733042075891, 37.27323730912491], [-121.84733042075891, 37.27323730912491]]]]}, \"properties\": {\"hood_id\": 170041, \"hood_name\": \"Parkview\", \"fill\": \"#67C2A5\", \"stroke\": \"#67C2A5\", \"fill-opacity\": 0.45}}, {\"type\": \"Feature\", \"geometry\": {\"type\": \"MultiPolygon\", \"coordinates\": [[[[-121.85891236721955, 37.25033001567477], [-121.85295669926325, 37.2503281235563], [-121.84889963336792, 37.25055662046267], [-121.84179557803168, 37.25058015433331], [-121.83867149417705, 37.25065418202774], [-121.83694215901, 37.25076237001149], [-121.8424527956218, 37.253455323384166], [-121.84403235550087, 37.25421621467454], [-121.84501110056067, 37.25463551307222], [-121.84590401493199, 37.25489682633306], [-121.8467969293032, 37.25508982193402], [-121.84764692833028, 37.25524011914755], [-121.84841109666883, 37.25527086207059], [-121.85890180848969, 37.255482646796935], [-121.85891236721955, 37.25033001567477], [-121.85891236721955, 37.25033001567477]]]]}, \"properties\": {\"hood_id\": 35469, \"hood_name\": \"Playa Del Rey\", \"fill\": \"#67C2A5\", \"stroke\": \"#67C2A5\", \"fill-opacity\": 0.45}}, {\"type\": \"Feature\", \"geometry\": {\"type\": \"MultiPolygon\", \"coordinates\": [[[[-121.85851571273525, 37.265590315769025], [-121.8585152652205, 37.26559039801272], [-121.85671771895252, 37.265738104754575], [-121.85671730361729, 37.265738103694986], [-121.85671691215451, 37.26573796490989], [-121.85666507613577, 37.265714489650385], [-121.85666472835253, 37.26571429717649], [-121.85666441578934, 37.2657140516086], [-121.8565065938483, 37.26556815164067], [-121.8565051309944, 37.26556703058186], [-121.85650348725102, 37.26556619702204], [-121.85638829226453, 37.26552058183343], [-121.85638656209873, 37.265520071694446], [-121.85638476843611, 37.26551988067112], [-121.85638296963738, 37.265520014978804], [-121.85628294497226, 37.265536654017936], [-121.8562810625959, 37.265537159713766], [-121.8562793140729, 37.26553802095499], [-121.85627776583091, 37.26553920502247], [-121.85620338898116, 37.2656085644982], [-121.85620219007727, 37.2656099033433], [-121.85620125017685, 37.265611435160494], [-121.85620059963753, 37.265613110474], [-121.8561663744761, 37.265731949971695], [-121.8561660405289, 37.26573365476969], [-121.85616600665858, 37.265735391637484], [-121.85616895664327, 37.265779047429184], [-121.85616894580578, 37.265779492789854], [-121.85616870348181, 37.265779866611666], [-121.85614928436271, 37.26580453287294], [-121.85614897169408, 37.26580486205262], [-121.8561485609572, 37.26580505548525], [-121.85610967401465, 37.265819135176756], [-121.85610923092523, 37.2658192505288], [-121.85610877416502, 37.265819282223276], [-121.85553285487448, 37.265805789864224], [-121.85553236195892, 37.26580572773901], [-121.85553193410482, 37.2658054752193], [-121.85549485937231, 37.265778150816104], [-121.85549452092141, 37.26577784931505], [-121.85549431454552, 37.26577744575499], [-121.85545880152286, 37.265688565605664], [-121.85545789748794, 37.26568682257824], [-121.8554566702861, 37.26568528980318], [-121.85545516723117, 37.26568402637546], [-121.85545344627228, 37.26568308100558], [-121.85537511719264, 37.265649594782154], [-121.85537348297304, 37.2656490570877], [-121.85537178077588, 37.265648807460195], [-121.85537006098264, 37.26564885328808], [-121.85536837449553, 37.26564919321495], [-121.85529123641322, 37.265671794541255], [-121.85528945952078, 37.26567250604806], [-121.85528785073822, 37.26567354306659], [-121.85528646900477, 37.26567486760475], [-121.85528536494141, 37.26567643113692], [-121.85523409447987, 37.26576618869227], [-121.85523386412787, 37.26576652413844], [-121.85523353724965, 37.26576676649513], [-121.85518345391256, 37.26579783427475], [-121.85518301209696, 37.265798050088605], [-121.8551825210283, 37.26579807515248], [-121.85463447836842, 37.26577073182552], [-121.85463406931352, 37.26577067674705], [-121.85463370128649, 37.26577048988975], [-121.85459554841162, 37.26574689811594], [-121.85459518570835, 37.2657466237289], [-121.85459502547478, 37.26574619809165], [-121.85458482737755, 37.265708796891055], [-121.8545847438703, 37.26570827570688], [-121.85458477329031, 37.265707748695625], [-121.85462128947822, 37.265485831607585], [-121.85462138975895, 37.265485432547955], [-121.85462155468241, 37.26548505557943], [-121.8546635507276, 37.26540735651862], [-121.85466412896544, 37.265406508752754], [-121.85475660169536, 37.265297092125905], [-121.854757305618, 37.26529640870736], [-121.85483070240248, 37.26523800717795], [-121.85483200057503, 37.26523676850705], [-121.85483305648987, 37.265235317782604], [-121.8548338361512, 37.26523370171151], [-121.85483431445739, 37.265231972324116], [-121.85484781898948, 37.2651577566172], [-121.85484798003796, 37.26515586601059], [-121.85484778107158, 37.26515397901764], [-121.85484722925379, 37.265152163576346], [-121.85484634445184, 37.26515048504857], [-121.85481815922873, 37.26510747750057], [-121.8548169032204, 37.26510592479224], [-121.85481536371624, 37.265104652633816], [-121.85481360211877, 37.265103711764844], [-121.85469396134432, 37.26505445847626], [-121.85469357657409, 37.265054259059], [-121.8546932324693, 37.26505399560659], [-121.85448931413009, 37.2648674065063], [-121.85448899925076, 37.26486709148161], [-121.85443856732344, 37.26481192465292], [-121.85443786259899, 37.26481093383247], [-121.85439629806902, 37.26473410122737], [-121.85439493924419, 37.26473217382097], [-121.85439316684541, 37.264730618217236], [-121.8543614492064, 37.26470881827006], [-121.85435970086287, 37.26470785800973], [-121.85435779671339, 37.264707263855115], [-121.85430157984874, 37.26469571839], [-121.85429936805116, 37.26469551594455], [-121.85429716612205, 37.264695806703656], [-121.85421522770197, 37.26471608170084], [-121.85421355228712, 37.264716657956505], [-121.8542120048651, 37.26471752084157], [-121.85421063401083, 37.26471864326934], [-121.85418151061741, 37.26474715530266], [-121.85418028084561, 37.26474861396007], [-121.85417935048152, 37.264750279625936], [-121.85417875339054, 37.26475209166967], [-121.85416911211215, 37.264794652753984], [-121.85416886637441, 37.26479669674353], [-121.85416904440677, 37.264798747739576], [-121.85416963866375, 37.26480071881516], [-121.85419339247048, 37.264857543965675], [-121.85419422268, 37.2648591190522], [-121.85419531905917, 37.26486052194139], [-121.85419664685121, 37.264861708159614], [-121.85419816396318, 37.26486264010204], [-121.85431247743242, 37.26491952110156], [-121.85431281310508, 37.26491972264295], [-121.85431311288285, 37.264919974493], [-121.85459147694294, 37.265194105627025], [-121.85459176661514, 37.26519445006958], [-121.85459174352647, 37.2651948995332], [-121.85458489539187, 37.2652417491756], [-121.85458474485479, 37.26524230785235], [-121.85458446780515, 37.26524281581366], [-121.85446562498231, 37.26541021164233], [-121.85446460531469, 37.265412020208714], [-121.85446398109116, 37.26541400035502], [-121.85440840641586, 37.26568622545927], [-121.85440825465798, 37.26568670726444], [-121.85440792151049, 37.26568708697435], [-121.85437038597546, 37.265721835813935], [-121.85436996359587, 37.265722148400215], [-121.85436943825036, 37.26572213714126], [-121.8536837644331, 37.265631667813814], [-121.85368328742531, 37.26563155464936], [-121.85368296145256, 37.265631188474075], [-121.85365403813022, 37.26559115320908], [-121.85365378760085, 37.26559071455263], [-121.85365395357428, 37.265590237439156], [-121.85369285255413, 37.26550792889515], [-121.85369309747269, 37.265507518746524], [-121.85369341674689, 37.265507163400216], [-121.85379324232609, 37.26541564927893], [-121.85379451412298, 37.26541423869003], [-121.85379549628333, 37.265412613085694], [-121.85379615337835, 37.26541083110519], [-121.85381034230942, 37.265357097555466], [-121.85381066470194, 37.2653549689652], [-121.85381052402893, 37.265352820699725], [-121.85380992681033, 37.265350752327564], [-121.85380890072622, 37.26534885971432], [-121.85375972793733, 37.265277696429244], [-121.85375824390223, 37.26527599657448], [-121.85375641652386, 37.2652746727336], [-121.8537543388499, 37.265273792314794], [-121.85370356103165, 37.2652587640902], [-121.85370183411962, 37.265258414856966], [-121.85370007271973, 37.265258374120855], [-121.85369833150916, 37.26525864314641], [-121.85369666453838, 37.26525921358256], [-121.85357445809832, 37.26531348250187], [-121.85357271755615, 37.26531447507122], [-121.85357120982987, 37.26531579470846], [-121.85356999544986, 37.26531738843434], [-121.85356912316963, 37.26531919226587], [-121.85355623631143, 37.26535448869735], [-121.85355576453888, 37.26535628232607], [-121.85355563209947, 37.26535813222691], [-121.85355584354866, 37.265359974769325], [-121.8535672486821, 37.26541424913477], [-121.85356730071284, 37.26541476231747], [-121.85356713684797, 37.26541525141059], [-121.85349122207367, 37.26558105712762], [-121.85349098326506, 37.265581467870156], [-121.85349060649531, 37.2655817573239], [-121.8534376357095, 37.265614805927896], [-121.85343725895387, 37.26561499776731], [-121.8534368366985, 37.265614976610756], [-121.85166497405828, 37.265370880679725], [-121.85166458413211, 37.265370794503326], [-121.85166421309566, 37.26537064685254], [-121.85152880945532, 37.26530367247182], [-121.8515266074525, 37.26530288809708], [-121.85152428351549, 37.265302636349396], [-121.8514626310383, 37.26530320585387], [-121.85146074939284, 37.26530340219996], [-121.85145893840016, 37.26530394941743], [-121.85138578683204, 37.26533386287281], [-121.85138531792845, 37.26533400173188], [-121.85138483202444, 37.265333946508484], [-121.85123555805342, 37.26530159367584], [-121.85123407504345, 37.26530138696148], [-121.85123257779293, 37.26530140399936], [-121.85115428679548, 37.26530817863298], [-121.85115212895265, 37.265308608303876], [-121.85105081746023, 37.26534070218916], [-121.8510504238997, 37.26534079237422], [-121.85105002091954, 37.265340817480556], [-121.8506024101685, 37.265332177799245], [-121.85060202952357, 37.2653321409777], [-121.85060165905716, 37.265332046103865], [-121.8505533388281, 37.26531561174836], [-121.85055284406143, 37.26531537835075], [-121.85055250081754, 37.26531495237866], [-121.85053395884643, 37.265285724283686], [-121.85053376823886, 37.26528535957861], [-121.85053370810023, 37.26528495248602], [-121.85052383552892, 37.26512829088094], [-121.85052395118988, 37.26512686773414], [-121.85055108877873, 37.26500836457304], [-121.85055132800501, 37.26500664408556], [-121.85055126589604, 37.26500490815674], [-121.85055090432581, 37.265003209164874], [-121.85055025420401, 37.26500159837376], [-121.85052526345068, 37.264952470166385], [-121.85052430673136, 37.26495094639042], [-121.85052309244782, 37.26494961871556], [-121.8505216599089, 37.26494853012136], [-121.85052005548886, 37.264947715847846], [-121.85042704279425, 37.26491061266037], [-121.85042529617591, 37.26491009459611], [-121.85042348455316, 37.264909902010615], [-121.85042166805493, 37.264910041295934], [-121.85034456378324, 37.26492309793678], [-121.85034225727655, 37.26492378203271], [-121.85034018090566, 37.26492499720524], [-121.85029757426081, 37.264957392193054], [-121.85029604911269, 37.264958827263115], [-121.8502948562818, 37.26496054850027], [-121.85027739651177, 37.26499242367464], [-121.85027672130175, 37.264993944553815], [-121.8502763076407, 37.26499555634368], [-121.85027616698282, 37.26499721441406], [-121.85027609764491, 37.26504926729612], [-121.85027630222518, 37.265051293059656], [-121.85027691288117, 37.265053235395946], [-121.85031824269399, 37.26514922158965], [-121.8503183858396, 37.26514966513071], [-121.85031844319072, 37.26515012765654], [-121.85032295369083, 37.26530584211663], [-121.85032292716171, 37.26530627517808], [-121.85032262131463, 37.26530658291747], [-121.8502772516342, 37.26534466876692], [-121.85027685485069, 37.26534494014399], [-121.85027638430125, 37.26534503845958], [-121.84966273328673, 37.2654112621501], [-121.84966214823555, 37.26541125516614], [-121.84966158144978, 37.26541110995086], [-121.84959429619184, 37.265384993004346], [-121.84959260921974, 37.265384503680856], [-121.84959086265398, 37.265384317078556], [-121.84952021053859, 37.26538301006206], [-121.8495181424744, 37.26538318725547], [-121.84951615553966, 37.26538378756989], [-121.8494102781731, 37.265428225165536], [-121.84940885410279, 37.265428962290706], [-121.84940756616146, 37.26542991755864], [-121.84937347593268, 37.265459722550524], [-121.84937312397786, 37.26545997896898], [-121.84937270481764, 37.26546009698334], [-121.84917005143474, 37.265498157364846], [-121.84916958366462, 37.265498198320806], [-121.84916922427878, 37.26549789611537], [-121.8475894294136, 37.26387939912663], [-121.84758863369666, 37.26387866755034], [-121.84748439132856, 37.263792745602785], [-121.8474825291127, 37.26379153096556], [-121.84748044454332, 37.26379075781485], [-121.8474127001027, 37.26377390883123], [-121.84740990163847, 37.26377362059426], [-121.84733042339874, 37.263776681633146], [-121.84732777407744, 37.26377714564842], [-121.84705596985665, 37.26386369607218], [-121.84705484393136, 37.263863916018], [-121.84700133001328, 37.26386807474306], [-121.84700078731959, 37.26386805685115], [-121.84700026175067, 37.26386792041845], [-121.84693058861514, 37.26384133682756], [-121.84692878534517, 37.26384083622789], [-121.84692692037946, 37.2638406803897], [-121.84686101757951, 37.263841362056475], [-121.84685934503639, 37.26384152048907], [-121.84685772262011, 37.26384195668495], [-121.84685619612343, 37.26384265833248], [-121.84674332380378, 37.26390652954918], [-121.84674285224055, 37.26390673476975], [-121.84674234836461, 37.26390683770873], [-121.84636668856461, 37.263943408902236], [-121.8463649004606, 37.263943749424286], [-121.84591127604637, 37.26407385828547], [-121.84590957451928, 37.264074519668306], [-121.84590802157945, 37.264075479355505], [-121.84578680697574, 37.264166663227726], [-121.84578568480251, 37.26416764668913], [-121.8457847214585, 37.26416878617911], [-121.84574001538824, 37.264230470113624], [-121.84573921172019, 37.26423178026803], [-121.84573861832096, 37.26423319810592], [-121.8456912481381, 37.26437640766975], [-121.84569081709428, 37.264378326752166], [-121.84569077002189, 37.26438029308384], [-121.84570190707008, 37.2645293677033], [-121.84570223835357, 37.264531278362014], [-121.84572511866058, 37.26461434142198], [-121.84572586384208, 37.26461625366187], [-121.84618238459929, 37.26550530358231], [-121.8461825640261, 37.26550575938206], [-121.8461826499394, 37.26550624163331], [-121.84618899514959, 37.265588548429754], [-121.84618897461064, 37.2655891004782], [-121.84618871282133, 37.26558958694063], [-121.84614559053988, 37.26565157192232], [-121.84614520871635, 37.2656520026797], [-121.84614473713927, 37.265652332764496], [-121.84608491574693, 37.26568449288978], [-121.846084543271, 37.26568465532049], [-121.84608414926274, 37.26568475471662], [-121.84602728161029, 37.26569422742927], [-121.84602650256463, 37.265694295111224], [-121.84504364730495, 37.26570241531519], [-121.84504319687308, 37.26570237298607], [-121.84504326639492, 37.26570192594312], [-121.8454588821284, 37.26411560376959], [-121.8454590481281, 37.26411515493847], [-121.84545937301627, 37.26411480357967], [-121.84553555735818, 37.264047101569865], [-121.84553740986806, 37.26404490220218], [-121.84561739843399, 37.26391609754919], [-121.84561825869153, 37.26391435404626], [-121.84561876532746, 37.26391247703652], [-121.84564294780816, 37.26376837976061], [-121.84564308492342, 37.2637665984463], [-121.845642902876, 37.263764821161864], [-121.84561620632671, 37.26362713850104], [-121.8456161626735, 37.263626589107936], [-121.84561624240136, 37.263626043780675], [-121.84625645334246, 37.26119404842661], [-121.84625695058111, 37.261192836540005], [-121.84631264383171, 37.261095859964264], [-121.84631339796987, 37.26109421953847], [-121.84631384485196, 37.2610924702479], [-121.84631396991091, 37.26109066911454], [-121.8463117339625, 37.26098458665782], [-121.84631175497799, 37.26098420790069], [-121.84631183347416, 37.26098383677129], [-121.84641056152577, 37.26064677450388], [-121.84641079977622, 37.26064612950078], [-121.8464828407363, 37.26048598524567], [-121.8464834334615, 37.26048426355294], [-121.84648370416564, 37.260482462922965], [-121.84649267686396, 37.260328072296936], [-121.84649286687126, 37.26032696921641], [-121.84665845857208, 37.25975776449256], [-121.84665859482207, 37.259757361081746], [-121.84685190662469, 37.25925647647934], [-121.84685238770679, 37.259255539131466], [-121.84693642661091, 37.25912727824064], [-121.84693730380603, 37.25912561769259], [-121.84693785505893, 37.25912382241786], [-121.84696813959096, 37.25897734565169], [-121.84696840055197, 37.25897648432948], [-121.84813549818811, 37.25609212742162], [-121.8481359745502, 37.25609122735125], [-121.84817836023458, 37.256027793434946], [-121.84817931254986, 37.2560259957532], [-121.84817988134517, 37.2560240425415], [-121.84819737639981, 37.255928701056156], [-121.84819772061668, 37.25592758437759], [-121.84833101113234, 37.25562631274324], [-121.8483312480887, 37.255625897363025], [-121.84833172603268, 37.25562588128292], [-121.85256007335585, 37.255914887363886], [-121.85256046555767, 37.255914952679746], [-121.85256020238442, 37.255915250720385], [-121.85223931786732, 37.256214586574686], [-121.85223894298746, 37.25621487188613], [-121.85223850054753, 37.25621471007015], [-121.85213924234012, 37.25616667212132], [-121.85213755686776, 37.2561660366378], [-121.85213578473532, 37.256165713833], [-121.85213398344239, 37.25616571418081], [-121.8520447488428, 37.25617380123105], [-121.85204257480171, 37.256174245455995], [-121.85204055224648, 37.25617515817765], [-121.85198886061578, 37.25620579952728], [-121.85198720299145, 37.25620702980632], [-121.85198583329456, 37.25620857422703], [-121.85195984603023, 37.25624481339689], [-121.85195872154247, 37.256246843638586], [-121.85195809534498, 37.25624907841615], [-121.85194765800469, 37.25631505609365], [-121.85194755403838, 37.25631547290306], [-121.85194731337984, 37.25631582874377], [-121.85188329255462, 37.256394642426635], [-121.8518827733287, 37.25639519100733], [-121.85135417449168, 37.2568751103656], [-121.8513538192763, 37.25687544914055], [-121.85117805787567, 37.25705151322993], [-121.85117642493442, 37.25705366554094], [-121.85112011365591, 37.25715350457605], [-121.85111929545403, 37.257155382175895], [-121.85111887694832, 37.25715738709197], [-121.8511188756944, 37.25715943522134], [-121.8511299973284, 37.25726812023862], [-121.851130315029, 37.25726979602391], [-121.8511309128948, 37.25727139344261], [-121.85113177353276, 37.25727286602277], [-121.85119607033148, 37.25736402591186], [-121.85119718615461, 37.257365348232824], [-121.85119851320644, 37.25736645842533], [-121.8512996227595, 37.25743713126253], [-121.85129991956532, 37.25743737498498], [-121.85130017520456, 37.25743766159074], [-121.85138940143426, 37.2575548181322], [-121.85139066850199, 37.25755619328437], [-121.85139216943078, 37.25755730850496], [-121.85139385174055, 37.25755812480022], [-121.8515513166277, 37.25761705814999], [-121.85155238060565, 37.25761761035127], [-121.8519766133499, 37.25790742900738], [-121.85197738766698, 37.25790808267158], [-121.85209059862332, 37.25802532247968], [-121.85209202331112, 37.25802654431118], [-121.85209365121464, 37.258027478408415], [-121.85222343687877, 37.258086522952894], [-121.85222429541527, 37.25808702216145], [-121.85251309737932, 37.25829600567648], [-121.8525134283049, 37.25829629886779], [-121.8525131328325, 37.258296627758355], [-121.85216089310516, 37.25861842464306], [-121.8521595965266, 37.25861986315776], [-121.85215860153619, 37.258621524613325], [-121.85215794545044, 37.258623346697846], [-121.85214774264824, 37.25866353217255], [-121.8521474371669, 37.25866579121838], [-121.85214765124043, 37.25866806075124], [-121.85214837374424, 37.25867022283244], [-121.85216808374264, 37.258712446943505], [-121.85216915073455, 37.258714224601974], [-121.85217056136881, 37.25871574402699], [-121.85217225500871, 37.25871693990544], [-121.85230638335418, 37.25879213433108], [-121.85230828685962, 37.25879295515177], [-121.8523103187023, 37.25879336587674], [-121.85231239157227, 37.25879334885683], [-121.8523144163967, 37.25879290482338], [-121.85231630616722, 37.258792052856876], [-121.85231797967894, 37.25879082956698], [-121.85271146820244, 37.258435098603655], [-121.85271182791803, 37.25843483129998], [-121.85271221846635, 37.25843505111494], [-121.85284321011899, 37.2585263351181], [-121.8528458164362, 37.25852763450298], [-121.85293401987614, 37.25855650788482], [-121.85293561744804, 37.25855688893551], [-121.85293725584509, 37.25855700334995], [-121.853006658335, 37.25855613633138], [-121.853009078891, 37.25855580771502], [-121.85301134755663, 37.258554902046015], [-121.85317834846026, 37.25846317684141], [-121.85317877829803, 37.258462993543574], [-121.85317916691679, 37.258463253031685], [-121.8532073678618, 37.25848642948448], [-121.85320773102562, 37.25848680061173], [-121.85320779554239, 37.25848731584075], [-121.8532085020336, 37.25853081299841], [-121.85320845975825, 37.25853130964544], [-121.85320831854987, 37.25853178766826], [-121.85317809556499, 37.258605651101966], [-121.85317754624532, 37.258607470504806], [-121.85317735106285, 37.25860936097633], [-121.85317681970994, 37.2586782659311], [-121.8531769968707, 37.25868021858802], [-121.85317755163503, 37.25868209914419], [-121.8532047079552, 37.2587491044519], [-121.85320537390723, 37.25875044821285], [-121.85320623333028, 37.258751677268435], [-121.85325908104687, 37.25881632786004], [-121.85326109816275, 37.25881819778906], [-121.85461400856252, 37.2597629403606], [-121.8546144073809, 37.25976328817425], [-121.85461472272318, 37.259763713132664], [-121.85465017537116, 37.25982411135358], [-121.85465040945031, 37.259824648076105], [-121.85465050977676, 37.25982522496351], [-121.85465392195252, 37.259889970063234], [-121.85465385552642, 37.25989108422391], [-121.85462620217041, 37.26005050570952], [-121.85462606070911, 37.26005255148696], [-121.85462633953107, 37.26005458310575], [-121.8546628996636, 37.26020456351884], [-121.85466336203268, 37.260205987227515], [-121.85466403173979, 37.2602073259672], [-121.8547003054278, 37.260268009525646], [-121.8547011597001, 37.260269223849974], [-121.85470218435128, 37.26027029830551], [-121.8548148552083, 37.260372110926184], [-121.8548162608091, 37.26037317204579], [-121.85481783076553, 37.260373970121776], [-121.85497191720577, 37.260435894604186], [-121.85497429192874, 37.26043652374825], [-121.85650450217389, 37.26064567590956], [-121.85650594593506, 37.260645767629796], [-121.85692517055062, 37.26064201404933], [-121.85692644672321, 37.26064192075365], [-121.85719729670903, 37.260604580766014], [-121.85719830049769, 37.260604389682456], [-121.85747296186624, 37.26053740113825], [-121.85747345033421, 37.260537333266704], [-121.85747392607536, 37.260537463181606], [-121.85752904027431, 37.26055869678837], [-121.85752947422898, 37.26055891647028], [-121.85752970608883, 37.26055934404225], [-121.85756163611103, 37.26063571400256], [-121.8575624398309, 37.26063724770246], [-121.85756349607, 37.26063861976658], [-121.85756477316019, 37.260639789057684], [-121.8575662328117, 37.26064072051807], [-121.85764071964348, 37.260679622963714], [-121.85764245008592, 37.26068032964494], [-121.85764428181221, 37.26068070194612], [-121.85764615082498, 37.26068072685968], [-121.85771489115868, 37.26067519743207], [-121.85771672486047, 37.26067487608424], [-121.85771846722285, 37.26067422041661], [-121.85772005786029, 37.26067325315283], [-121.85776303152429, 37.260641286086475], [-121.85776430533942, 37.260640158125454], [-121.85776536949655, 37.2606388305447], [-121.85776619318936, 37.260637341776345], [-121.85779766899593, 37.26056689206455], [-121.85779832885314, 37.26056485132045], [-121.85779853836436, 37.260562716805744], [-121.85779828789201, 37.26056058670912], [-121.85779758895792, 37.26055855901606], [-121.85775927843456, 37.26047705247536], [-121.85775912643925, 37.26047663265204], [-121.85775921722261, 37.2604761954878], [-121.8577724733751, 37.260432847101505], [-121.85777265492297, 37.260432411044796], [-121.85777304744884, 37.26043214831199], [-121.85811433018054, 37.26024918550559], [-121.8581147165124, 37.26024902312596], [-121.85811482940153, 37.2602494267043], [-121.85816724715924, 37.260539907199046], [-121.85816730472335, 37.260540327663875], [-121.85835077913887, 37.262495019827234], [-121.85835079262725, 37.26249519750945], [-121.85842155693578, 37.263715044641394], [-121.85842156329285, 37.263715191577795], [-121.85846041780147, 37.26507676941293], [-121.85846047135867, 37.26507755617554], [-121.85851570925725, 37.26558986077303], [-121.85851571273525, 37.265590315769025]]]]}, \"properties\": {\"hood_id\": 170223, \"hood_name\": \"Vista  Park\", \"fill\": \"#67C2A5\", \"stroke\": \"#67C2A5\", \"fill-opacity\": 0.45}}, {\"type\": \"Feature\", \"geometry\": {\"type\": \"MultiPolygon\", \"coordinates\": [[[[-121.82537500000001, 37.266041], [-121.82471299999997, 37.26613], [-121.82469800000001, 37.262985], [-121.824637, 37.262983], [-121.82461899999998, 37.262657], [-121.82374400000003, 37.262598], [-121.823712, 37.261688], [-121.821778, 37.261693], [-121.82095800000002, 37.261457], [-121.82074, 37.261431], [-121.82046500000001, 37.261425], [-121.81997000000001, 37.261535], [-121.81957899999998, 37.261666], [-121.81942400000003, 37.26168], [-121.819432, 37.258885], [-121.83095600000001, 37.258765], [-121.83107060185245, 37.2606413480703], [-121.83103499999999, 37.264584], [-121.83111100000002, 37.265994], [-121.82537500000001, 37.266041], [-121.82537500000001, 37.266041]]]]}, \"properties\": {\"hood_id\": 170018, \"hood_name\": \"Hayes\", \"fill\": \"#67C2A5\", \"stroke\": \"#67C2A5\", \"fill-opacity\": 0.45}}, {\"type\": \"Feature\", \"geometry\": {\"type\": \"MultiPolygon\", \"coordinates\": [[[[-121.83097065459589, 37.258750608587555], [-121.81938373741264, 37.25888918280493], [-121.81281791550532, 37.258882591049556], [-121.8122368225919, 37.258943198582145], [-121.81174156036701, 37.259106275848715], [-121.81144067850931, 37.259215374472475], [-121.8110498840984, 37.25939798157055], [-121.810723462704, 37.25964036182506], [-121.81014309405072, 37.26025932729414], [-121.8025146814723, 37.2557487687562], [-121.80761652315232, 37.25188547620086], [-121.80842930251725, 37.25152169469035], [-121.8091347935216, 37.25131163205396], [-121.8098080980177, 37.25123820951014], [-121.81033584014972, 37.25126682405036], [-121.81168970265838, 37.25146623894921], [-121.8127130004143, 37.25150638783897], [-121.82833896854004, 37.2513940422519], [-121.82918893800019, 37.25131224932116], [-121.83085429900086, 37.251298776554805], [-121.83086956145411, 37.254768596111944], [-121.83097065459589, 37.258750608587555], [-121.83097065459589, 37.258750608587555], [-121.83097065459589, 37.258750608587555], [-121.83097065459589, 37.258750608587555], [-121.83097065459589, 37.258750608587555]]]]}, \"properties\": {\"hood_id\": 170016, \"hood_name\": \"Oak Grove\", \"fill\": \"#67C2A5\", \"stroke\": \"#67C2A5\", \"fill-opacity\": 0.45}}, {\"type\": \"Feature\", \"geometry\": {\"type\": \"MultiPolygon\", \"coordinates\": [[[[-121.82460686490413, 37.27811530245245], [-121.82329109039637, 37.27812509096151], [-121.82326277621564, 37.27753728814342], [-121.82251843040933, 37.277282622760936], [-121.82218178037317, 37.277079179163266], [-121.82213075279242, 37.2729926883377], [-121.82474531432297, 37.273970318464265], [-121.82719465885498, 37.27464081931172], [-121.82794390081443, 37.27458185172144], [-121.82975574689283, 37.27301189681796], [-121.82992204255544, 37.2731272842364], [-121.8304145246035, 37.27345687719502], [-121.83176531353627, 37.27460606215782], [-121.83519471922273, 37.27795608234067], [-121.83469918687388, 37.27810002001433], [-121.82460686490413, 37.27811530245245], [-121.82460686490413, 37.27811530245245]]]]}, \"properties\": {\"hood_id\": 169869, \"hood_name\": \"San  Ramon\", \"fill\": \"#67C2A5\", \"stroke\": \"#67C2A5\", \"fill-opacity\": 0.45}}, {\"type\": \"Feature\", \"geometry\": {\"type\": \"MultiPolygon\", \"coordinates\": [[[[-121.83400926554617, 37.28427314126671], [-121.83399160222893, 37.28366444886438], [-121.83414963730183, 37.28271591451669], [-121.83445332410656, 37.28215491837067], [-121.83490501548295, 37.281295970783304], [-121.83564638543294, 37.28101750838301], [-121.8372385742174, 37.279963405946], [-121.83991101733238, 37.28254121603021], [-121.83589584732033, 37.284260012231925], [-121.83400926554617, 37.28427314126671], [-121.83400926554617, 37.28427314126671], [-121.83400926554617, 37.28427314126671]]]]}, \"properties\": {\"hood_id\": 169868, \"hood_name\": \"Rancho\", \"fill\": \"#67C2A5\", \"stroke\": \"#67C2A5\", \"fill-opacity\": 0.45}}, {\"type\": \"Feature\", \"geometry\": {\"type\": \"MultiPolygon\", \"coordinates\": [[[[-121.82726086128412, 37.28713246473534], [-121.82374692452555, 37.28312352386413], [-121.8234520605368, 37.28255446314101], [-121.82328818979602, 37.27811529147252], [-121.83216047936014, 37.27805145419698], [-121.83470827234822, 37.27810206923897], [-121.83519612881287, 37.27794779637539], [-121.83726174921486, 37.27997302069957], [-121.83495083000048, 37.28166408943609], [-121.83445336935029, 37.28239835238626], [-121.83420267192946, 37.283098462492404], [-121.83410897285808, 37.28383283168717], [-121.83411469376438, 37.28478937650506], [-121.83222943908794, 37.284377257425525], [-121.82726086128412, 37.28713246473534], [-121.82726086128412, 37.28713246473534]]]]}, \"properties\": {\"hood_id\": 169964, \"hood_name\": \"Seven Trees\", \"fill\": \"#67C2A5\", \"stroke\": \"#67C2A5\", \"fill-opacity\": 0.45}}, {\"type\": \"Feature\", \"geometry\": {\"type\": \"MultiPolygon\", \"coordinates\": [[[[-121.84387937936151, 37.27569507950239], [-121.84440003209164, 37.27533468239675], [-121.84526400757568, 37.27497428356594], [-121.84609073631492, 37.274748649764106], [-121.84695025992488, 37.27463887616797], [-121.84982802143918, 37.27459007643061], [-121.84989875768633, 37.275090573604636], [-121.85003068533445, 37.27543473120655], [-121.85025758169951, 37.2757434056419], [-121.85063925078344, 37.276059949746944], [-121.8510875773909, 37.2762779816936], [-121.85087237109536, 37.27650734006765], [-121.84750462126112, 37.276092673664294], [-121.84387937936151, 37.27569507950239], [-121.84387937936151, 37.27569507950239]]]]}, \"properties\": {\"hood_id\": 179040, \"hood_name\": \"Bella Villagio\", \"fill\": \"#67C2A5\", \"stroke\": \"#67C2A5\", \"fill-opacity\": 0.45}}, {\"type\": \"Feature\", \"geometry\": {\"type\": \"MultiPolygon\", \"coordinates\": [[[[-121.84915473875498, 37.27809387709783], [-121.8491546185752, 37.27809399317341], [-121.8489350897035, 37.2783095988191], [-121.8489345235123, 37.27831020293482], [-121.84877577675257, 37.278494299060334], [-121.84877524524887, 37.278494971708255], [-121.84863533174621, 37.278688554042944], [-121.84863484420435, 37.27868929585905], [-121.84851437834823, 37.27889161886075], [-121.8485142100692, 37.27889191269178], [-121.84765225053007, 37.280458807977986], [-121.84694310448924, 37.28037603183146], [-121.84630906030088, 37.28028471885342], [-121.84560960023526, 37.280085019039134], [-121.84492951212007, 37.27978805946143], [-121.84423452372539, 37.27935633704971], [-121.8433273445587, 37.27845873701185], [-121.84489026395147, 37.27579905179336], [-121.84489053086168, 37.275798682528745], [-121.84489098641188, 37.275798690983606], [-121.85090133681899, 37.276498092661484], [-121.84915473875498, 37.27809387709783]]]]}, \"properties\": {\"hood_id\": 178007, \"hood_name\": \"California Hawaiian Estates\", \"fill\": \"#67C2A5\", \"stroke\": \"#67C2A5\", \"fill-opacity\": 0.45}}, {\"type\": \"Feature\", \"geometry\": {\"type\": \"MultiPolygon\", \"coordinates\": [[[[-121.83966666788069, 37.27460532490846], [-121.8391531890432, 37.27428546040314], [-121.83841174471746, 37.27397987214029], [-121.83796592070212, 37.273664865370414], [-121.83774540224397, 37.273418157473486], [-121.84295459074093, 37.273386760831634], [-121.84358266016642, 37.27382772246036], [-121.84406465305824, 37.27419036552828], [-121.844437169235, 37.27393003739412], [-121.84492233763768, 37.274437099031644], [-121.8452680311716, 37.27497403796228], [-121.84441209506684, 37.275323152610646], [-121.84196829122527, 37.277004067097316], [-121.84082820838898, 37.275796168307565], [-121.83966666788069, 37.27460532490846], [-121.83966666788069, 37.27460532490846], [-121.83966666788069, 37.27460532490846]]]]}, \"properties\": {\"hood_id\": 223440, \"hood_name\": \"Capitol Village - Baroni\", \"fill\": \"#67C2A5\", \"stroke\": \"#67C2A5\", \"fill-opacity\": 0.45}}, {\"type\": \"Feature\", \"geometry\": {\"type\": \"MultiPolygon\", \"coordinates\": [[[[-121.8192858497996, 37.26486924583863], [-121.8190423693906, 37.26488345588419], [-121.8142900953402, 37.2622801058678], [-121.8142900411739, 37.26228051019572], [-121.8142896726769, 37.26228033519562], [-121.8105495841442, 37.26005152076979], [-121.8105492248492, 37.26005125457472], [-121.8105495026663, 37.26005090418877], [-121.8107670465804, 37.25982682975575], [-121.810767455393, 37.25982649083934], [-121.8107679273408, 37.25982624741098], [-121.810974806241, 37.25967509961789], [-121.8109746747848, 37.2596746019806], [-121.8109748683188, 37.25967412504448], [-121.8109967425489, 37.25963338774283], [-121.8109969758877, 37.25963303126489], [-121.810997316605, 37.25963277546145], [-121.8112864200841, 37.25945264971749], [-121.8112870481454, 37.25945231792615], [-121.8116282386206, 37.25930206168515], [-121.811628662719, 37.25930191988952], [-121.8116290980814, 37.25930202199213], [-121.8118900780369, 37.2592169833969], [-121.8118902250817, 37.25921654001632], [-121.8118905909105, 37.25921624953784], [-121.8119244731733, 37.25919431587182], [-121.811924841447, 37.25919411935681], [-121.8119252374838, 37.25919398745377], [-121.8121765659341, 37.25913323746486], [-121.8121770111098, 37.25913315102741], [-121.8142778403768, 37.25902927019872], [-121.8142782704253, 37.25902930270277], [-121.8142784361863, 37.25902970085042], [-121.8143044680855, 37.26072029509102], [-121.8167973370495, 37.26073351796582], [-121.8193838195821, 37.26070421085791], [-121.8193125157643, 37.26321049911281], [-121.8192858497996, 37.26486924583863]]]]}, \"properties\": {\"hood_id\": 347256, \"hood_name\": \"Dolce Hayes\", \"fill\": \"#67C2A5\", \"stroke\": \"#67C2A5\", \"fill-opacity\": 0.45}}, {\"type\": \"Feature\", \"geometry\": {\"type\": \"MultiPolygon\", \"coordinates\": [[[[-121.81364692411847, 37.269661398391094], [-121.81362708711015, 37.27298687217585], [-121.8107117458552, 37.27297234024629], [-121.81068152995243, 37.27164558242695], [-121.80975507306346, 37.27154376907664], [-121.80961182120683, 37.270946764803476], [-121.81136379634495, 37.27067483345809], [-121.81133795955748, 37.269695534031555], [-121.81147320241234, 37.26967846621313], [-121.81364692411847, 37.269661398391094]]]]}, \"properties\": {\"hood_id\": 169870, \"hood_name\": \"Eden Hill\", \"fill\": \"#67C2A5\", \"stroke\": \"#67C2A5\", \"fill-opacity\": 0.45}}, {\"type\": \"Feature\", \"geometry\": {\"type\": \"MultiPolygon\", \"coordinates\": [[[[-121.81675628165516, 37.26072292816119], [-121.8167559978034, 37.26072333837757], [-121.81675550277714, 37.260723400007876], [-121.81430770670545, 37.260733224954976], [-121.8142689482155, 37.25889250528281], [-121.81944089637295, 37.258903008972254], [-121.81942510334085, 37.260683254757545], [-121.81675495240859, 37.26068601353658], [-121.81675628165516, 37.26072292816119]]]]}, \"properties\": {\"hood_id\": 267261, \"hood_name\": \"Edenvale\", \"fill\": \"#67C2A5\", \"stroke\": \"#67C2A5\", \"fill-opacity\": 0.45}}, {\"type\": \"Feature\", \"geometry\": {\"type\": \"MultiPolygon\", \"coordinates\": [[[[-121.849626, 37.272495], [-121.849626, 37.272496], [-121.84978899999999, 37.272446], [-121.849828, 37.274591], [-121.84696600000001, 37.274644], [-121.84609, 37.274749], [-121.84527200000002, 37.274967], [-121.84492399999999, 37.27444], [-121.84442100000001, 37.273935], [-121.84465399999999, 37.273769], [-121.84465499999999, 37.273769], [-121.84531400000003, 37.273496], [-121.84531400000003, 37.273496], [-121.84531500000003, 37.273496], [-121.84603199999998, 37.273493], [-121.84648099999998, 37.273448], [-121.84732600000001, 37.273239], [-121.84732600000001, 37.273239], [-121.849626, 37.272495], [-121.849626, 37.272495], [-121.849626, 37.272495], [-121.849626, 37.272495], [-121.849626, 37.272495]]]]}, \"properties\": {\"hood_id\": 257800, \"hood_name\": \"Ellmar Oaks\", \"fill\": \"#67C2A5\", \"stroke\": \"#67C2A5\", \"fill-opacity\": 0.45}}, {\"type\": \"Feature\", \"geometry\": {\"type\": \"MultiPolygon\", \"coordinates\": [[[[-121.8247250233552, 37.26611237329981], [-121.82467886112295, 37.2661616995813], [-121.8246830961831, 37.26938531658402], [-121.82374499253763, 37.26869418738375], [-121.82199149735169, 37.26744807108217], [-121.81935354270058, 37.265826696492375], [-121.81942887177968, 37.26166389484042], [-121.81957239836538, 37.26165586141937], [-121.81999487468852, 37.2615282839382], [-121.82047504690877, 37.26142682831831], [-121.82094449029313, 37.26145772525838], [-121.82177086002605, 37.26169955539019], [-121.82371595121964, 37.26170607315902], [-121.82375253498935, 37.26259704050595], [-121.82460987471768, 37.26264693598788], [-121.82463991785482, 37.26299513389762], [-121.82470214750003, 37.26299751357733], [-121.8247250233552, 37.26611237329981], [-121.8247250233552, 37.26611237329981]]]]}, \"properties\": {\"hood_id\": 176961, \"hood_name\": \"Frontier Village\", \"fill\": \"#67C2A5\", \"stroke\": \"#67C2A5\", \"fill-opacity\": 0.45}}, {\"type\": \"Feature\", \"geometry\": {\"type\": \"MultiPolygon\", \"coordinates\": [[[[-121.82672285217467, 37.27451139803789], [-121.82524686536487, 37.27410062974259], [-121.82524228449728, 37.27409885768063], [-121.82524048708001, 37.274094286702386], [-121.82470053083875, 37.27396036619833], [-121.82216501109042, 37.2730068435217], [-121.82207215152539, 37.272995125881295], [-121.81817635902996, 37.272963918137904], [-121.81363683637096, 37.27298393581455], [-121.8136323020974, 37.27298347775662], [-121.8136319809472, 37.27297893173458], [-121.81365329496248, 37.26919586192734], [-121.8152453035986, 37.26916844975757], [-121.8152714689819, 37.26625681923488], [-121.81383381375122, 37.26623534649336], [-121.81385238171845, 37.26245402785914], [-121.82201120656532, 37.267457894107906], [-121.82976233564199, 37.273016697386424], [-121.82796364417078, 37.27458364511259], [-121.82721450214001, 37.2746328954544], [-121.82672285217467, 37.27451139803789]]]]}, \"properties\": {\"hood_id\": 169867, \"hood_name\": \"Havens-Monterey-Edenvale\", \"fill\": \"#67C2A5\", \"stroke\": \"#67C2A5\", \"fill-opacity\": 0.45}}, {\"type\": \"Feature\", \"geometry\": {\"type\": \"MultiPolygon\", \"coordinates\": [[[[-121.8221687083037, 37.277060591173864], [-121.8221683366811, 37.27706476938372], [-121.82216467651017, 37.27706272031324], [-121.82131956875116, 37.27647404998017], [-121.82031352845132, 37.27644883078688], [-121.82030911988318, 37.2764483172023], [-121.82030487395707, 37.27644702439393], [-121.81988639486337, 37.27630673599994], [-121.81936062740897, 37.27606400077543], [-121.81934352079554, 37.27605878729342], [-121.81932575911719, 37.27605670417187], [-121.81696227601947, 37.275988671137554], [-121.81694840801879, 37.27635603582799], [-121.81694753380566, 37.27636021559519], [-121.81694327565083, 37.276360536249555], [-121.81422828809235, 37.27630170688398], [-121.81436825040453, 37.2767913785766], [-121.81397404788686, 37.27687157007556], [-121.81357984536919, 37.277011521300274], [-121.81330102118841, 37.2765486182489], [-121.8132855729175, 37.27623861576188], [-121.81261059557232, 37.276200921005234], [-121.81219264062935, 37.27632720599097], [-121.81134553224388, 37.2766669198562], [-121.8113203624003, 37.27668062666917], [-121.81085180700222, 37.27703128317058], [-121.81084714885685, 37.27703401892426], [-121.8107773933906, 37.2770857018918], [-121.81053368762315, 37.27705554932702], [-121.81001103211827, 37.27706808229264], [-121.80972746846862, 37.27710168532031], [-121.80902086630056, 37.27733963302932], [-121.80899559180165, 37.275729813372195], [-121.80899595362075, 37.27572535684342], [-121.80900039037743, 37.275724802990524], [-121.8089419535861, 37.27294609249894], [-121.81243743361239, 37.27299097371896], [-121.81243732938003, 37.272986709986725], [-121.81244157576697, 37.27298631189771], [-121.82211940879569, 37.27299004463313], [-121.82212385595352, 37.27299048120109], [-121.82212433931147, 37.27299492351699], [-121.8221687083037, 37.277060591173864], [-121.8221687083037, 37.277060591173864]]]]}, \"properties\": {\"hood_id\": 234689, \"hood_name\": \"River View Skyway\", \"fill\": \"#67C2A5\", \"stroke\": \"#67C2A5\", \"fill-opacity\": 0.45}}, {\"type\": \"Feature\", \"geometry\": {\"type\": \"MultiPolygon\", \"coordinates\": [[[[-121.84196844863874, 37.27698961714544], [-121.83726508712277, 37.279979574524575], [-121.83186813936402, 37.27468123748597], [-121.83038721676706, 37.27343795766438], [-121.83700424676078, 37.273413010695094], [-121.83753802670867, 37.273174625330384], [-121.83794367411195, 37.27364304709147], [-121.83839223685953, 37.27397486675258], [-121.83914120701684, 37.27426399784286], [-121.83965414278077, 37.27458727738021], [-121.84009656042758, 37.275026652730986], [-121.84196844863874, 37.27698961714544], [-121.84196844863874, 37.27698961714544]]]]}, \"properties\": {\"hood_id\": 257380, \"hood_name\": \"The Woods\", \"fill\": \"#67C2A5\", \"stroke\": \"#67C2A5\", \"fill-opacity\": 0.45}}, {\"type\": \"Feature\", \"geometry\": {\"type\": \"MultiPolygon\", \"coordinates\": [[[[-121.84854493907164, 37.26581092138027], [-121.84654773354936, 37.265905631464385], [-121.84575903715995, 37.26426483568457], [-121.8457821921022, 37.264207094969244], [-121.84590190656911, 37.26413227706593], [-121.84636664106011, 37.264033872558194], [-121.84686159218165, 37.26398648862079], [-121.84710584031865, 37.26395149083424], [-121.84732594857451, 37.26389514653482], [-121.84752996357616, 37.26381318637041], [-121.84933823416128, 37.26566273208048], [-121.84854493907164, 37.26581092138027], [-121.84854493907164, 37.26581092138027]]]]}, \"properties\": {\"hood_id\": 253069, \"hood_name\": \"Vistapark-Martial Cottle\", \"fill\": \"#67C2A5\", \"stroke\": \"#67C2A5\", \"fill-opacity\": 0.45}}]},\n",
      "          neighborhoodMapOptions:{\n",
      "            tileServerHosts: [\"https://tiles-0.nextdoor.com\", \"https://tiles-1.nextdoor.com\", \"https://tiles-2.nextdoor.com\", \"https://tiles-3.nextdoor.com\"],\n",
      "            domSelector: 'neighborhood-map',\n",
      "            mapBounds: '37.26350892516025,-121.83831246442287,37.26970890275868,-121.83099270501282',\n",
      "            hoodFeatures: [{\"type\": \"MULTIPOLYGON\", \"name\": \"Nextdoor Edenvale\", \"info\": \"\", \"id\": 267261, \"geometry\": \"{\\\"type\\\": \\\"MultiPolygon\\\", \\\"coordinates\\\": [[[[-121.81675628165516, 37.26072292816119], [-121.8167559978034, 37.26072333837757], [-121.81675550277714, 37.260723400007876], [-121.81430770670545, 37.260733224954976], [-121.8142689482155, 37.25889250528281], [-121.81944089637295, 37.258903008972254], [-121.81942510334085, 37.260683254757545], [-121.81675495240859, 37.26068601353658], [-121.81675628165516, 37.26072292816119]]]]}\", \"centroid\": [-121.8168419312562, 37.25980018874453], \"page_url\": \"https://nextdoor.com/neighborhood/edenvaleca--san-jose--ca\", \"short_name\": \"Edenvale\", \"stroke_color\": \"#67C2A5\", \"fill_color\": \"#67C2A5\", \"stroke_weight\": 1, \"fill_opacity\": 0.35}, {\"type\": \"MULTIPOLYGON\", \"name\": \"Nextdoor Dolce Hayes\", \"info\": \"\", \"id\": 347256, \"geometry\": \"{\\\"type\\\": \\\"MultiPolygon\\\", \\\"coordinates\\\": [[[[-121.8192858497996, 37.26486924583863], [-121.8190423693906, 37.26488345588419], [-121.8142900953402, 37.2622801058678], [-121.8142900411739, 37.26228051019572], [-121.8142896726769, 37.26228033519562], [-121.8105495841442, 37.26005152076979], [-121.8105492248492, 37.26005125457472], [-121.8105495026663, 37.26005090418877], [-121.8107670465804, 37.25982682975575], [-121.810767455393, 37.25982649083934], [-121.8107679273408, 37.25982624741098], [-121.810974806241, 37.25967509961789], [-121.8109746747848, 37.2596746019806], [-121.8109748683188, 37.25967412504448], [-121.8109967425489, 37.25963338774283], [-121.8109969758877, 37.25963303126489], [-121.810997316605, 37.25963277546145], [-121.8112864200841, 37.25945264971749], [-121.8112870481454, 37.25945231792615], [-121.8116282386206, 37.25930206168515], [-121.811628662719, 37.25930191988952], [-121.8116290980814, 37.25930202199213], [-121.8118900780369, 37.2592169833969], [-121.8118902250817, 37.25921654001632], [-121.8118905909105, 37.25921624953784], [-121.8119244731733, 37.25919431587182], [-121.811924841447, 37.25919411935681], [-121.8119252374838, 37.25919398745377], [-121.8121765659341, 37.25913323746486], [-121.8121770111098, 37.25913315102741], [-121.8142778403768, 37.25902927019872], [-121.8142782704253, 37.25902930270277], [-121.8142784361863, 37.25902970085042], [-121.8143044680855, 37.26072029509102], [-121.8167973370495, 37.26073351796582], [-121.8193838195821, 37.26070421085791], [-121.8193125157643, 37.26321049911281], [-121.8192858497996, 37.26486924583863]]]]}\", \"centroid\": [-121.8158025611938, 37.26163781609426], \"page_url\": \"https://nextdoor.com/neighborhood/dolcehayes--san-jose--ca\", \"short_name\": \"Dolce Hayes\", \"stroke_color\": \"#67C2A5\", \"fill_color\": \"#67C2A5\", \"stroke_weight\": 1, \"fill_opacity\": 0.35}, {\"type\": \"MULTIPOLYGON\", \"name\": \"Nextdoor California Hawaiian Estates\", \"info\": \"\", \"id\": 178007, \"geometry\": \"{\\\"type\\\": \\\"MultiPolygon\\\", \\\"coordinates\\\": [[[[-121.84915473875498, 37.27809387709783], [-121.8491546185752, 37.27809399317341], [-121.8489350897035, 37.2783095988191], [-121.8489345235123, 37.27831020293482], [-121.84877577675257, 37.278494299060334], [-121.84877524524887, 37.278494971708255], [-121.84863533174621, 37.278688554042944], [-121.84863484420435, 37.27868929585905], [-121.84851437834823, 37.27889161886075], [-121.8485142100692, 37.27889191269178], [-121.84765225053007, 37.280458807977986], [-121.84694310448924, 37.28037603183146], [-121.84630906030088, 37.28028471885342], [-121.84560960023526, 37.280085019039134], [-121.84492951212007, 37.27978805946143], [-121.84423452372539, 37.27935633704971], [-121.8433273445587, 37.27845873701185], [-121.84489026395147, 37.27579905179336], [-121.84489053086168, 37.275798682528745], [-121.84489098641188, 37.275798690983606], [-121.85090133681899, 37.276498092661484], [-121.84915473875498, 37.27809387709783]]]]}\", \"centroid\": [-121.8466757899503, 37.277929664771065], \"page_url\": \"https://nextdoor.com/neighborhood/californiahawaiianestates--san-jose--ca\", \"short_name\": \"California Hawaiian Estates\", \"stroke_color\": \"#67C2A5\", \"fill_color\": \"#67C2A5\", \"stroke_weight\": 1, \"fill_opacity\": 0.35}, {\"type\": \"MULTIPOLYGON\", \"name\": \"Nextdoor Vistapark-Martial Cottle\", \"info\": \"\", \"id\": 253069, \"geometry\": \"{\\\"type\\\": \\\"MultiPolygon\\\", \\\"coordinates\\\": [[[[-121.84854493907164, 37.26581092138027], [-121.84654773354936, 37.265905631464385], [-121.84575903715995, 37.26426483568457], [-121.8457821921022, 37.264207094969244], [-121.84590190656911, 37.26413227706593], [-121.84636664106011, 37.264033872558194], [-121.84686159218165, 37.26398648862079], [-121.84710584031865, 37.26395149083424], [-121.84732594857451, 37.26389514653482], [-121.84752996357616, 37.26381318637041], [-121.84933823416128, 37.26566273208048], [-121.84854493907164, 37.26581092138027], [-121.84854493907164, 37.26581092138027]]]]}\", \"centroid\": [-121.84736811694883, 37.26496657611789], \"page_url\": \"https://nextdoor.com/neighborhood/vistaparkmartialcottle--san-jose--ca\", \"short_name\": \"Vistapark-Martial Cottle\", \"stroke_color\": \"#67C2A5\", \"fill_color\": \"#67C2A5\", \"stroke_weight\": 1, \"fill_opacity\": 0.35}, {\"type\": \"MULTIPOLYGON\", \"name\": \"Nextdoor Vista  Park\", \"info\": \"\", \"id\": 170223, \"geometry\": \"{\\\"type\\\": \\\"MultiPolygon\\\", \\\"coordinates\\\": [[[[-121.85851571273525, 37.265590315769025], [-121.8585152652205, 37.26559039801272], [-121.85671771895252, 37.265738104754575], [-121.85671730361729, 37.265738103694986], [-121.85671691215451, 37.26573796490989], [-121.85666507613577, 37.265714489650385], [-121.85666472835253, 37.26571429717649], [-121.85666441578934, 37.2657140516086], [-121.8565065938483, 37.26556815164067], [-121.8565051309944, 37.26556703058186], [-121.85650348725102, 37.26556619702204], [-121.85638829226453, 37.26552058183343], [-121.85638656209873, 37.265520071694446], [-121.85638476843611, 37.26551988067112], [-121.85638296963738, 37.265520014978804], [-121.85628294497226, 37.265536654017936], [-121.8562810625959, 37.265537159713766], [-121.8562793140729, 37.26553802095499], [-121.85627776583091, 37.26553920502247], [-121.85620338898116, 37.2656085644982], [-121.85620219007727, 37.2656099033433], [-121.85620125017685, 37.265611435160494], [-121.85620059963753, 37.265613110474], [-121.8561663744761, 37.265731949971695], [-121.8561660405289, 37.26573365476969], [-121.85616600665858, 37.265735391637484], [-121.85616895664327, 37.265779047429184], [-121.85616894580578, 37.265779492789854], [-121.85616870348181, 37.265779866611666], [-121.85614928436271, 37.26580453287294], [-121.85614897169408, 37.26580486205262], [-121.8561485609572, 37.26580505548525], [-121.85610967401465, 37.265819135176756], [-121.85610923092523, 37.2658192505288], [-121.85610877416502, 37.265819282223276], [-121.85553285487448, 37.265805789864224], [-121.85553236195892, 37.26580572773901], [-121.85553193410482, 37.2658054752193], [-121.85549485937231, 37.265778150816104], [-121.85549452092141, 37.26577784931505], [-121.85549431454552, 37.26577744575499], [-121.85545880152286, 37.265688565605664], [-121.85545789748794, 37.26568682257824], [-121.8554566702861, 37.26568528980318], [-121.85545516723117, 37.26568402637546], [-121.85545344627228, 37.26568308100558], [-121.85537511719264, 37.265649594782154], [-121.85537348297304, 37.2656490570877], [-121.85537178077588, 37.265648807460195], [-121.85537006098264, 37.26564885328808], [-121.85536837449553, 37.26564919321495], [-121.85529123641322, 37.265671794541255], [-121.85528945952078, 37.26567250604806], [-121.85528785073822, 37.26567354306659], [-121.85528646900477, 37.26567486760475], [-121.85528536494141, 37.26567643113692], [-121.85523409447987, 37.26576618869227], [-121.85523386412787, 37.26576652413844], [-121.85523353724965, 37.26576676649513], [-121.85518345391256, 37.26579783427475], [-121.85518301209696, 37.265798050088605], [-121.8551825210283, 37.26579807515248], [-121.85463447836842, 37.26577073182552], [-121.85463406931352, 37.26577067674705], [-121.85463370128649, 37.26577048988975], [-121.85459554841162, 37.26574689811594], [-121.85459518570835, 37.2657466237289], [-121.85459502547478, 37.26574619809165], [-121.85458482737755, 37.265708796891055], [-121.8545847438703, 37.26570827570688], [-121.85458477329031, 37.265707748695625], [-121.85462128947822, 37.265485831607585], [-121.85462138975895, 37.265485432547955], [-121.85462155468241, 37.26548505557943], [-121.8546635507276, 37.26540735651862], [-121.85466412896544, 37.265406508752754], [-121.85475660169536, 37.265297092125905], [-121.854757305618, 37.26529640870736], [-121.85483070240248, 37.26523800717795], [-121.85483200057503, 37.26523676850705], [-121.85483305648987, 37.265235317782604], [-121.8548338361512, 37.26523370171151], [-121.85483431445739, 37.265231972324116], [-121.85484781898948, 37.2651577566172], [-121.85484798003796, 37.26515586601059], [-121.85484778107158, 37.26515397901764], [-121.85484722925379, 37.265152163576346], [-121.85484634445184, 37.26515048504857], [-121.85481815922873, 37.26510747750057], [-121.8548169032204, 37.26510592479224], [-121.85481536371624, 37.265104652633816], [-121.85481360211877, 37.265103711764844], [-121.85469396134432, 37.26505445847626], [-121.85469357657409, 37.265054259059], [-121.8546932324693, 37.26505399560659], [-121.85448931413009, 37.2648674065063], [-121.85448899925076, 37.26486709148161], [-121.85443856732344, 37.26481192465292], [-121.85443786259899, 37.26481093383247], [-121.85439629806902, 37.26473410122737], [-121.85439493924419, 37.26473217382097], [-121.85439316684541, 37.264730618217236], [-121.8543614492064, 37.26470881827006], [-121.85435970086287, 37.26470785800973], [-121.85435779671339, 37.264707263855115], [-121.85430157984874, 37.26469571839], [-121.85429936805116, 37.26469551594455], [-121.85429716612205, 37.264695806703656], [-121.85421522770197, 37.26471608170084], [-121.85421355228712, 37.264716657956505], [-121.8542120048651, 37.26471752084157], [-121.85421063401083, 37.26471864326934], [-121.85418151061741, 37.26474715530266], [-121.85418028084561, 37.26474861396007], [-121.85417935048152, 37.264750279625936], [-121.85417875339054, 37.26475209166967], [-121.85416911211215, 37.264794652753984], [-121.85416886637441, 37.26479669674353], [-121.85416904440677, 37.264798747739576], [-121.85416963866375, 37.26480071881516], [-121.85419339247048, 37.264857543965675], [-121.85419422268, 37.2648591190522], [-121.85419531905917, 37.26486052194139], [-121.85419664685121, 37.264861708159614], [-121.85419816396318, 37.26486264010204], [-121.85431247743242, 37.26491952110156], [-121.85431281310508, 37.26491972264295], [-121.85431311288285, 37.264919974493], [-121.85459147694294, 37.265194105627025], [-121.85459176661514, 37.26519445006958], [-121.85459174352647, 37.2651948995332], [-121.85458489539187, 37.2652417491756], [-121.85458474485479, 37.26524230785235], [-121.85458446780515, 37.26524281581366], [-121.85446562498231, 37.26541021164233], [-121.85446460531469, 37.265412020208714], [-121.85446398109116, 37.26541400035502], [-121.85440840641586, 37.26568622545927], [-121.85440825465798, 37.26568670726444], [-121.85440792151049, 37.26568708697435], [-121.85437038597546, 37.265721835813935], [-121.85436996359587, 37.265722148400215], [-121.85436943825036, 37.26572213714126], [-121.8536837644331, 37.265631667813814], [-121.85368328742531, 37.26563155464936], [-121.85368296145256, 37.265631188474075], [-121.85365403813022, 37.26559115320908], [-121.85365378760085, 37.26559071455263], [-121.85365395357428, 37.265590237439156], [-121.85369285255413, 37.26550792889515], [-121.85369309747269, 37.265507518746524], [-121.85369341674689, 37.265507163400216], [-121.85379324232609, 37.26541564927893], [-121.85379451412298, 37.26541423869003], [-121.85379549628333, 37.265412613085694], [-121.85379615337835, 37.26541083110519], [-121.85381034230942, 37.265357097555466], [-121.85381066470194, 37.2653549689652], [-121.85381052402893, 37.265352820699725], [-121.85380992681033, 37.265350752327564], [-121.85380890072622, 37.26534885971432], [-121.85375972793733, 37.265277696429244], [-121.85375824390223, 37.26527599657448], [-121.85375641652386, 37.2652746727336], [-121.8537543388499, 37.265273792314794], [-121.85370356103165, 37.2652587640902], [-121.85370183411962, 37.265258414856966], [-121.85370007271973, 37.265258374120855], [-121.85369833150916, 37.26525864314641], [-121.85369666453838, 37.26525921358256], [-121.85357445809832, 37.26531348250187], [-121.85357271755615, 37.26531447507122], [-121.85357120982987, 37.26531579470846], [-121.85356999544986, 37.26531738843434], [-121.85356912316963, 37.26531919226587], [-121.85355623631143, 37.26535448869735], [-121.85355576453888, 37.26535628232607], [-121.85355563209947, 37.26535813222691], [-121.85355584354866, 37.265359974769325], [-121.8535672486821, 37.26541424913477], [-121.85356730071284, 37.26541476231747], [-121.85356713684797, 37.26541525141059], [-121.85349122207367, 37.26558105712762], [-121.85349098326506, 37.265581467870156], [-121.85349060649531, 37.2655817573239], [-121.8534376357095, 37.265614805927896], [-121.85343725895387, 37.26561499776731], [-121.8534368366985, 37.265614976610756], [-121.85166497405828, 37.265370880679725], [-121.85166458413211, 37.265370794503326], [-121.85166421309566, 37.26537064685254], [-121.85152880945532, 37.26530367247182], [-121.8515266074525, 37.26530288809708], [-121.85152428351549, 37.265302636349396], [-121.8514626310383, 37.26530320585387], [-121.85146074939284, 37.26530340219996], [-121.85145893840016, 37.26530394941743], [-121.85138578683204, 37.26533386287281], [-121.85138531792845, 37.26533400173188], [-121.85138483202444, 37.265333946508484], [-121.85123555805342, 37.26530159367584], [-121.85123407504345, 37.26530138696148], [-121.85123257779293, 37.26530140399936], [-121.85115428679548, 37.26530817863298], [-121.85115212895265, 37.265308608303876], [-121.85105081746023, 37.26534070218916], [-121.8510504238997, 37.26534079237422], [-121.85105002091954, 37.265340817480556], [-121.8506024101685, 37.265332177799245], [-121.85060202952357, 37.2653321409777], [-121.85060165905716, 37.265332046103865], [-121.8505533388281, 37.26531561174836], [-121.85055284406143, 37.26531537835075], [-121.85055250081754, 37.26531495237866], [-121.85053395884643, 37.265285724283686], [-121.85053376823886, 37.26528535957861], [-121.85053370810023, 37.26528495248602], [-121.85052383552892, 37.26512829088094], [-121.85052395118988, 37.26512686773414], [-121.85055108877873, 37.26500836457304], [-121.85055132800501, 37.26500664408556], [-121.85055126589604, 37.26500490815674], [-121.85055090432581, 37.265003209164874], [-121.85055025420401, 37.26500159837376], [-121.85052526345068, 37.264952470166385], [-121.85052430673136, 37.26495094639042], [-121.85052309244782, 37.26494961871556], [-121.8505216599089, 37.26494853012136], [-121.85052005548886, 37.264947715847846], [-121.85042704279425, 37.26491061266037], [-121.85042529617591, 37.26491009459611], [-121.85042348455316, 37.264909902010615], [-121.85042166805493, 37.264910041295934], [-121.85034456378324, 37.26492309793678], [-121.85034225727655, 37.26492378203271], [-121.85034018090566, 37.26492499720524], [-121.85029757426081, 37.264957392193054], [-121.85029604911269, 37.264958827263115], [-121.8502948562818, 37.26496054850027], [-121.85027739651177, 37.26499242367464], [-121.85027672130175, 37.264993944553815], [-121.8502763076407, 37.26499555634368], [-121.85027616698282, 37.26499721441406], [-121.85027609764491, 37.26504926729612], [-121.85027630222518, 37.265051293059656], [-121.85027691288117, 37.265053235395946], [-121.85031824269399, 37.26514922158965], [-121.8503183858396, 37.26514966513071], [-121.85031844319072, 37.26515012765654], [-121.85032295369083, 37.26530584211663], [-121.85032292716171, 37.26530627517808], [-121.85032262131463, 37.26530658291747], [-121.8502772516342, 37.26534466876692], [-121.85027685485069, 37.26534494014399], [-121.85027638430125, 37.26534503845958], [-121.84966273328673, 37.2654112621501], [-121.84966214823555, 37.26541125516614], [-121.84966158144978, 37.26541110995086], [-121.84959429619184, 37.265384993004346], [-121.84959260921974, 37.265384503680856], [-121.84959086265398, 37.265384317078556], [-121.84952021053859, 37.26538301006206], [-121.8495181424744, 37.26538318725547], [-121.84951615553966, 37.26538378756989], [-121.8494102781731, 37.265428225165536], [-121.84940885410279, 37.265428962290706], [-121.84940756616146, 37.26542991755864], [-121.84937347593268, 37.265459722550524], [-121.84937312397786, 37.26545997896898], [-121.84937270481764, 37.26546009698334], [-121.84917005143474, 37.265498157364846], [-121.84916958366462, 37.265498198320806], [-121.84916922427878, 37.26549789611537], [-121.8475894294136, 37.26387939912663], [-121.84758863369666, 37.26387866755034], [-121.84748439132856, 37.263792745602785], [-121.8474825291127, 37.26379153096556], [-121.84748044454332, 37.26379075781485], [-121.8474127001027, 37.26377390883123], [-121.84740990163847, 37.26377362059426], [-121.84733042339874, 37.263776681633146], [-121.84732777407744, 37.26377714564842], [-121.84705596985665, 37.26386369607218], [-121.84705484393136, 37.263863916018], [-121.84700133001328, 37.26386807474306], [-121.84700078731959, 37.26386805685115], [-121.84700026175067, 37.26386792041845], [-121.84693058861514, 37.26384133682756], [-121.84692878534517, 37.26384083622789], [-121.84692692037946, 37.2638406803897], [-121.84686101757951, 37.263841362056475], [-121.84685934503639, 37.26384152048907], [-121.84685772262011, 37.26384195668495], [-121.84685619612343, 37.26384265833248], [-121.84674332380378, 37.26390652954918], [-121.84674285224055, 37.26390673476975], [-121.84674234836461, 37.26390683770873], [-121.84636668856461, 37.263943408902236], [-121.8463649004606, 37.263943749424286], [-121.84591127604637, 37.26407385828547], [-121.84590957451928, 37.264074519668306], [-121.84590802157945, 37.264075479355505], [-121.84578680697574, 37.264166663227726], [-121.84578568480251, 37.26416764668913], [-121.8457847214585, 37.26416878617911], [-121.84574001538824, 37.264230470113624], [-121.84573921172019, 37.26423178026803], [-121.84573861832096, 37.26423319810592], [-121.8456912481381, 37.26437640766975], [-121.84569081709428, 37.264378326752166], [-121.84569077002189, 37.26438029308384], [-121.84570190707008, 37.2645293677033], [-121.84570223835357, 37.264531278362014], [-121.84572511866058, 37.26461434142198], [-121.84572586384208, 37.26461625366187], [-121.84618238459929, 37.26550530358231], [-121.8461825640261, 37.26550575938206], [-121.8461826499394, 37.26550624163331], [-121.84618899514959, 37.265588548429754], [-121.84618897461064, 37.2655891004782], [-121.84618871282133, 37.26558958694063], [-121.84614559053988, 37.26565157192232], [-121.84614520871635, 37.2656520026797], [-121.84614473713927, 37.265652332764496], [-121.84608491574693, 37.26568449288978], [-121.846084543271, 37.26568465532049], [-121.84608414926274, 37.26568475471662], [-121.84602728161029, 37.26569422742927], [-121.84602650256463, 37.265694295111224], [-121.84504364730495, 37.26570241531519], [-121.84504319687308, 37.26570237298607], [-121.84504326639492, 37.26570192594312], [-121.8454588821284, 37.26411560376959], [-121.8454590481281, 37.26411515493847], [-121.84545937301627, 37.26411480357967], [-121.84553555735818, 37.264047101569865], [-121.84553740986806, 37.26404490220218], [-121.84561739843399, 37.26391609754919], [-121.84561825869153, 37.26391435404626], [-121.84561876532746, 37.26391247703652], [-121.84564294780816, 37.26376837976061], [-121.84564308492342, 37.2637665984463], [-121.845642902876, 37.263764821161864], [-121.84561620632671, 37.26362713850104], [-121.8456161626735, 37.263626589107936], [-121.84561624240136, 37.263626043780675], [-121.84625645334246, 37.26119404842661], [-121.84625695058111, 37.261192836540005], [-121.84631264383171, 37.261095859964264], [-121.84631339796987, 37.26109421953847], [-121.84631384485196, 37.2610924702479], [-121.84631396991091, 37.26109066911454], [-121.8463117339625, 37.26098458665782], [-121.84631175497799, 37.26098420790069], [-121.84631183347416, 37.26098383677129], [-121.84641056152577, 37.26064677450388], [-121.84641079977622, 37.26064612950078], [-121.8464828407363, 37.26048598524567], [-121.8464834334615, 37.26048426355294], [-121.84648370416564, 37.260482462922965], [-121.84649267686396, 37.260328072296936], [-121.84649286687126, 37.26032696921641], [-121.84665845857208, 37.25975776449256], [-121.84665859482207, 37.259757361081746], [-121.84685190662469, 37.25925647647934], [-121.84685238770679, 37.259255539131466], [-121.84693642661091, 37.25912727824064], [-121.84693730380603, 37.25912561769259], [-121.84693785505893, 37.25912382241786], [-121.84696813959096, 37.25897734565169], [-121.84696840055197, 37.25897648432948], [-121.84813549818811, 37.25609212742162], [-121.8481359745502, 37.25609122735125], [-121.84817836023458, 37.256027793434946], [-121.84817931254986, 37.2560259957532], [-121.84817988134517, 37.2560240425415], [-121.84819737639981, 37.255928701056156], [-121.84819772061668, 37.25592758437759], [-121.84833101113234, 37.25562631274324], [-121.8483312480887, 37.255625897363025], [-121.84833172603268, 37.25562588128292], [-121.85256007335585, 37.255914887363886], [-121.85256046555767, 37.255914952679746], [-121.85256020238442, 37.255915250720385], [-121.85223931786732, 37.256214586574686], [-121.85223894298746, 37.25621487188613], [-121.85223850054753, 37.25621471007015], [-121.85213924234012, 37.25616667212132], [-121.85213755686776, 37.2561660366378], [-121.85213578473532, 37.256165713833], [-121.85213398344239, 37.25616571418081], [-121.8520447488428, 37.25617380123105], [-121.85204257480171, 37.256174245455995], [-121.85204055224648, 37.25617515817765], [-121.85198886061578, 37.25620579952728], [-121.85198720299145, 37.25620702980632], [-121.85198583329456, 37.25620857422703], [-121.85195984603023, 37.25624481339689], [-121.85195872154247, 37.256246843638586], [-121.85195809534498, 37.25624907841615], [-121.85194765800469, 37.25631505609365], [-121.85194755403838, 37.25631547290306], [-121.85194731337984, 37.25631582874377], [-121.85188329255462, 37.256394642426635], [-121.8518827733287, 37.25639519100733], [-121.85135417449168, 37.2568751103656], [-121.8513538192763, 37.25687544914055], [-121.85117805787567, 37.25705151322993], [-121.85117642493442, 37.25705366554094], [-121.85112011365591, 37.25715350457605], [-121.85111929545403, 37.257155382175895], [-121.85111887694832, 37.25715738709197], [-121.8511188756944, 37.25715943522134], [-121.8511299973284, 37.25726812023862], [-121.851130315029, 37.25726979602391], [-121.8511309128948, 37.25727139344261], [-121.85113177353276, 37.25727286602277], [-121.85119607033148, 37.25736402591186], [-121.85119718615461, 37.257365348232824], [-121.85119851320644, 37.25736645842533], [-121.8512996227595, 37.25743713126253], [-121.85129991956532, 37.25743737498498], [-121.85130017520456, 37.25743766159074], [-121.85138940143426, 37.2575548181322], [-121.85139066850199, 37.25755619328437], [-121.85139216943078, 37.25755730850496], [-121.85139385174055, 37.25755812480022], [-121.8515513166277, 37.25761705814999], [-121.85155238060565, 37.25761761035127], [-121.8519766133499, 37.25790742900738], [-121.85197738766698, 37.25790808267158], [-121.85209059862332, 37.25802532247968], [-121.85209202331112, 37.25802654431118], [-121.85209365121464, 37.258027478408415], [-121.85222343687877, 37.258086522952894], [-121.85222429541527, 37.25808702216145], [-121.85251309737932, 37.25829600567648], [-121.8525134283049, 37.25829629886779], [-121.8525131328325, 37.258296627758355], [-121.85216089310516, 37.25861842464306], [-121.8521595965266, 37.25861986315776], [-121.85215860153619, 37.258621524613325], [-121.85215794545044, 37.258623346697846], [-121.85214774264824, 37.25866353217255], [-121.8521474371669, 37.25866579121838], [-121.85214765124043, 37.25866806075124], [-121.85214837374424, 37.25867022283244], [-121.85216808374264, 37.258712446943505], [-121.85216915073455, 37.258714224601974], [-121.85217056136881, 37.25871574402699], [-121.85217225500871, 37.25871693990544], [-121.85230638335418, 37.25879213433108], [-121.85230828685962, 37.25879295515177], [-121.8523103187023, 37.25879336587674], [-121.85231239157227, 37.25879334885683], [-121.8523144163967, 37.25879290482338], [-121.85231630616722, 37.258792052856876], [-121.85231797967894, 37.25879082956698], [-121.85271146820244, 37.258435098603655], [-121.85271182791803, 37.25843483129998], [-121.85271221846635, 37.25843505111494], [-121.85284321011899, 37.2585263351181], [-121.8528458164362, 37.25852763450298], [-121.85293401987614, 37.25855650788482], [-121.85293561744804, 37.25855688893551], [-121.85293725584509, 37.25855700334995], [-121.853006658335, 37.25855613633138], [-121.853009078891, 37.25855580771502], [-121.85301134755663, 37.258554902046015], [-121.85317834846026, 37.25846317684141], [-121.85317877829803, 37.258462993543574], [-121.85317916691679, 37.258463253031685], [-121.8532073678618, 37.25848642948448], [-121.85320773102562, 37.25848680061173], [-121.85320779554239, 37.25848731584075], [-121.8532085020336, 37.25853081299841], [-121.85320845975825, 37.25853130964544], [-121.85320831854987, 37.25853178766826], [-121.85317809556499, 37.258605651101966], [-121.85317754624532, 37.258607470504806], [-121.85317735106285, 37.25860936097633], [-121.85317681970994, 37.2586782659311], [-121.8531769968707, 37.25868021858802], [-121.85317755163503, 37.25868209914419], [-121.8532047079552, 37.2587491044519], [-121.85320537390723, 37.25875044821285], [-121.85320623333028, 37.258751677268435], [-121.85325908104687, 37.25881632786004], [-121.85326109816275, 37.25881819778906], [-121.85461400856252, 37.2597629403606], [-121.8546144073809, 37.25976328817425], [-121.85461472272318, 37.259763713132664], [-121.85465017537116, 37.25982411135358], [-121.85465040945031, 37.259824648076105], [-121.85465050977676, 37.25982522496351], [-121.85465392195252, 37.259889970063234], [-121.85465385552642, 37.25989108422391], [-121.85462620217041, 37.26005050570952], [-121.85462606070911, 37.26005255148696], [-121.85462633953107, 37.26005458310575], [-121.8546628996636, 37.26020456351884], [-121.85466336203268, 37.260205987227515], [-121.85466403173979, 37.2602073259672], [-121.8547003054278, 37.260268009525646], [-121.8547011597001, 37.260269223849974], [-121.85470218435128, 37.26027029830551], [-121.8548148552083, 37.260372110926184], [-121.8548162608091, 37.26037317204579], [-121.85481783076553, 37.260373970121776], [-121.85497191720577, 37.260435894604186], [-121.85497429192874, 37.26043652374825], [-121.85650450217389, 37.26064567590956], [-121.85650594593506, 37.260645767629796], [-121.85692517055062, 37.26064201404933], [-121.85692644672321, 37.26064192075365], [-121.85719729670903, 37.260604580766014], [-121.85719830049769, 37.260604389682456], [-121.85747296186624, 37.26053740113825], [-121.85747345033421, 37.260537333266704], [-121.85747392607536, 37.260537463181606], [-121.85752904027431, 37.26055869678837], [-121.85752947422898, 37.26055891647028], [-121.85752970608883, 37.26055934404225], [-121.85756163611103, 37.26063571400256], [-121.8575624398309, 37.26063724770246], [-121.85756349607, 37.26063861976658], [-121.85756477316019, 37.260639789057684], [-121.8575662328117, 37.26064072051807], [-121.85764071964348, 37.260679622963714], [-121.85764245008592, 37.26068032964494], [-121.85764428181221, 37.26068070194612], [-121.85764615082498, 37.26068072685968], [-121.85771489115868, 37.26067519743207], [-121.85771672486047, 37.26067487608424], [-121.85771846722285, 37.26067422041661], [-121.85772005786029, 37.26067325315283], [-121.85776303152429, 37.260641286086475], [-121.85776430533942, 37.260640158125454], [-121.85776536949655, 37.2606388305447], [-121.85776619318936, 37.260637341776345], [-121.85779766899593, 37.26056689206455], [-121.85779832885314, 37.26056485132045], [-121.85779853836436, 37.260562716805744], [-121.85779828789201, 37.26056058670912], [-121.85779758895792, 37.26055855901606], [-121.85775927843456, 37.26047705247536], [-121.85775912643925, 37.26047663265204], [-121.85775921722261, 37.2604761954878], [-121.8577724733751, 37.260432847101505], [-121.85777265492297, 37.260432411044796], [-121.85777304744884, 37.26043214831199], [-121.85811433018054, 37.26024918550559], [-121.8581147165124, 37.26024902312596], [-121.85811482940153, 37.2602494267043], [-121.85816724715924, 37.260539907199046], [-121.85816730472335, 37.260540327663875], [-121.85835077913887, 37.262495019827234], [-121.85835079262725, 37.26249519750945], [-121.85842155693578, 37.263715044641394], [-121.85842156329285, 37.263715191577795], [-121.85846041780147, 37.26507676941293], [-121.85846047135867, 37.26507755617554], [-121.85851570925725, 37.26558986077303], [-121.85851571273525, 37.265590315769025]]]]}\", \"centroid\": [-121.85173107097286, 37.26162122320782], \"page_url\": \"https://nextdoor.com/neighborhood/10vistapark--san-jose--ca\", \"short_name\": \"Vista  Park\", \"stroke_color\": \"#67C2A5\", \"fill_color\": \"#67C2A5\", \"stroke_weight\": 1, \"fill_opacity\": 0.35}, {\"type\": \"MULTIPOLYGON\", \"name\": \"Nextdoor Eden Hill\", \"info\": \"\", \"id\": 169870, \"geometry\": \"{\\\"type\\\": \\\"MultiPolygon\\\", \\\"coordinates\\\": [[[[-121.81364692411847, 37.269661398391094], [-121.81362708711015, 37.27298687217585], [-121.8107117458552, 37.27297234024629], [-121.81068152995243, 37.27164558242695], [-121.80975507306346, 37.27154376907664], [-121.80961182120683, 37.270946764803476], [-121.81136379634495, 37.27067483345809], [-121.81133795955748, 37.269695534031555], [-121.81147320241234, 37.26967846621313], [-121.81364692411847, 37.269661398391094]]]]}\", \"centroid\": [-121.81210168890888, 37.27139405609792], \"page_url\": \"https://nextdoor.com/neighborhood/edenhill--san-jose--ca\", \"short_name\": \"Eden Hill\", \"stroke_color\": \"#67C2A5\", \"fill_color\": \"#67C2A5\", \"stroke_weight\": 1, \"fill_opacity\": 0.35}, {\"type\": \"MULTIPOLYGON\", \"name\": \"Nextdoor Playa Del Rey\", \"info\": \"\", \"id\": 35469, \"geometry\": \"{\\\"type\\\": \\\"MultiPolygon\\\", \\\"coordinates\\\": [[[[-121.85891236721955, 37.25033001567477], [-121.85295669926325, 37.2503281235563], [-121.84889963336792, 37.25055662046267], [-121.84179557803168, 37.25058015433331], [-121.83867149417705, 37.25065418202774], [-121.83694215901, 37.25076237001149], [-121.8424527956218, 37.253455323384166], [-121.84403235550087, 37.25421621467454], [-121.84501110056067, 37.25463551307222], [-121.84590401493199, 37.25489682633306], [-121.8467969293032, 37.25508982193402], [-121.84764692833028, 37.25524011914755], [-121.84841109666883, 37.25527086207059], [-121.85890180848969, 37.255482646796935], [-121.85891236721955, 37.25033001567477], [-121.85891236721955, 37.25033001567477]]]]}\", \"centroid\": [-121.85017893726186, 37.25268422886372], \"page_url\": \"https://nextdoor.com/neighborhood/10playadelreysanjose--san-jose--ca\", \"short_name\": \"Playa Del Rey\", \"stroke_color\": \"#67C2A5\", \"fill_color\": \"#67C2A5\", \"stroke_weight\": 1, \"fill_opacity\": 0.35}, {\"type\": \"MULTIPOLYGON\", \"name\": \"Nextdoor Carson\", \"info\": \"\", \"id\": 1740, \"geometry\": \"{\\\"type\\\": \\\"MultiPolygon\\\", \\\"coordinates\\\": [[[[-121.86314216615165, 37.27461073664113], [-121.86188527989805, 37.27447944592068], [-121.86110046243107, 37.274442073042565], [-121.86035543212898, 37.27443043561924], [-121.85927496610032, 37.274437535435375], [-121.85465398417193, 37.2745470840692], [-121.84982952449866, 37.274594217498866], [-121.84979293972526, 37.27242727288935], [-121.84971694693803, 37.272134673030315], [-121.849611286955, 37.271875523869525], [-121.84656916581679, 37.26590334653383], [-121.84731367750061, 37.26587099856733], [-121.84799844413646, 37.265837228775666], [-121.84853291681839, 37.26581091680343], [-121.84958237363128, 37.265613837851944], [-121.85035287388632, 37.265521253353214], [-121.85146669689527, 37.26552259241172], [-121.8536351199715, 37.26582316760373], [-121.85447316737645, 37.26593589829198], [-121.8551706795298, 37.26598239360709], [-121.85580701993968, 37.26597330187408], [-121.85906160517379, 37.26596210278129], [-121.85948145859686, 37.26758662567601], [-121.85976733198663, 37.268321041818744], [-121.86010688624305, 37.26898407439269], [-121.86045361390961, 37.26948834692667], [-121.8609037648622, 37.270042643664176], [-121.86137187690281, 37.270683684636914], [-121.86189364808985, 37.27143502172705], [-121.86227642254335, 37.272054760664666], [-121.86256367691601, 37.27259135828711], [-121.86280858014084, 37.27330355819361], [-121.86297301597625, 37.27389234217862], [-121.86313745181178, 37.27460065064306], [-121.86314216615165, 37.27461073664113], [-121.86314216615165, 37.27461073664113]]]]}\", \"centroid\": [-121.85478123854439, 37.270223451892285], \"page_url\": \"https://nextdoor.com/neighborhood/10carsonsj--san-jose--ca\", \"short_name\": \"Carson\", \"stroke_color\": \"#67C2A5\", \"fill_color\": \"#67C2A5\", \"stroke_weight\": 1, \"fill_opacity\": 0.35}, {\"type\": \"MULTIPOLYGON\", \"name\": \"Nextdoor Blossom Hill Homes\", \"info\": \"\", \"id\": 170220, \"geometry\": \"{\\\"type\\\": \\\"MultiPolygon\\\", \\\"coordinates\\\": [[[[-121.84278227477262, 37.254974003832274], [-121.83996227134372, 37.25500861488878], [-121.83997537408851, 37.25405862058821], [-121.83578174179507, 37.25410417152173], [-121.83575006156235, 37.25098132701665], [-121.83694901367448, 37.25076956253645], [-121.84245131069872, 37.25344219984745], [-121.84278227477262, 37.254974003832274], [-121.84278227477262, 37.254974003832274], [-121.84278227477262, 37.254974003832274]]]]}\", \"centroid\": [-121.83880732849286, 37.25307128678868], \"page_url\": \"https://nextdoor.com/neighborhood/10blossomhillhomes--san-jose--ca\", \"short_name\": \"Blossom Hill Homes\", \"stroke_color\": \"#67C2A5\", \"fill_color\": \"#67C2A5\", \"stroke_weight\": 1, \"fill_opacity\": 0.35}, {\"type\": \"MULTIPOLYGON\", \"name\": \"Nextdoor Ellmar Oaks\", \"info\": \"\", \"id\": 257800, \"geometry\": \"{\\\"type\\\": \\\"MultiPolygon\\\", \\\"coordinates\\\": [[[[-121.849626, 37.272495], [-121.849626, 37.272496], [-121.84978899999999, 37.272446], [-121.849828, 37.274591], [-121.84696600000001, 37.274644], [-121.84609, 37.274749], [-121.84527200000002, 37.274967], [-121.84492399999999, 37.27444], [-121.84442100000001, 37.273935], [-121.84465399999999, 37.273769], [-121.84465499999999, 37.273769], [-121.84531400000003, 37.273496], [-121.84531400000003, 37.273496], [-121.84531500000003, 37.273496], [-121.84603199999998, 37.273493], [-121.84648099999998, 37.273448], [-121.84732600000001, 37.273239], [-121.84732600000001, 37.273239], [-121.849626, 37.272495], [-121.849626, 37.272495], [-121.849626, 37.272495], [-121.849626, 37.272495], [-121.849626, 37.272495]]]]}\", \"centroid\": [-121.84753996609894, 37.27387654110272], \"page_url\": \"https://nextdoor.com/neighborhood/ellmaroaks--san-jose--ca\", \"short_name\": \"Ellmar Oaks\", \"stroke_color\": \"#67C2A5\", \"fill_color\": \"#67C2A5\", \"stroke_weight\": 1, \"fill_opacity\": 0.35}, {\"type\": \"MULTIPOLYGON\", \"name\": \"Nextdoor Bella Villagio\", \"info\": \"\", \"id\": 179040, \"geometry\": \"{\\\"type\\\": \\\"MultiPolygon\\\", \\\"coordinates\\\": [[[[-121.84387937936151, 37.27569507950239], [-121.84440003209164, 37.27533468239675], [-121.84526400757568, 37.27497428356594], [-121.84609073631492, 37.274748649764106], [-121.84695025992488, 37.27463887616797], [-121.84982802143918, 37.27459007643061], [-121.84989875768633, 37.275090573604636], [-121.85003068533445, 37.27543473120655], [-121.85025758169951, 37.2757434056419], [-121.85063925078344, 37.276059949746944], [-121.8510875773909, 37.2762779816936], [-121.85087237109536, 37.27650734006765], [-121.84750462126112, 37.276092673664294], [-121.84387937936151, 37.27569507950239], [-121.84387937936151, 37.27569507950239]]]]}\", \"centroid\": [-121.84775876582309, 37.275462331769106], \"page_url\": \"https://nextdoor.com/neighborhood/bellavillagio--san-jose--ca\", \"short_name\": \"Bella Villagio\", \"stroke_color\": \"#67C2A5\", \"fill_color\": \"#67C2A5\", \"stroke_weight\": 1, \"fill_opacity\": 0.35}, {\"type\": \"MULTIPOLYGON\", \"name\": \"Nextdoor Blossom Village\", \"info\": \"\", \"id\": 155750, \"geometry\": \"{\\\"type\\\": \\\"MultiPolygon\\\", \\\"coordinates\\\": [[[[-121.83413810188654, 37.25401763215795], [-121.83411907692044, 37.25311610929816], [-121.8351407490523, 37.253115532242745], [-121.83514909451105, 37.25400615500221], [-121.83413810188654, 37.25401763215795]]]]}\", \"centroid\": [-121.83463570765691, 37.2535630909681], \"page_url\": \"https://nextdoor.com/neighborhood/10blossomvillage--san-jose--ca\", \"short_name\": \"Blossom Village\", \"stroke_color\": \"#67C2A5\", \"fill_color\": \"#67C2A5\", \"stroke_weight\": 1, \"fill_opacity\": 0.35}, {\"type\": \"MULTIPOLYGON\", \"name\": \"Nextdoor San  Ramon\", \"info\": \"\", \"id\": 169869, \"geometry\": \"{\\\"type\\\": \\\"MultiPolygon\\\", \\\"coordinates\\\": [[[[-121.82460686490413, 37.27811530245245], [-121.82329109039637, 37.27812509096151], [-121.82326277621564, 37.27753728814342], [-121.82251843040933, 37.277282622760936], [-121.82218178037317, 37.277079179163266], [-121.82213075279242, 37.2729926883377], [-121.82474531432297, 37.273970318464265], [-121.82719465885498, 37.27464081931172], [-121.82794390081443, 37.27458185172144], [-121.82975574689283, 37.27301189681796], [-121.82992204255544, 37.2731272842364], [-121.8304145246035, 37.27345687719502], [-121.83176531353627, 37.27460606215782], [-121.83519471922273, 37.27795608234067], [-121.83469918687388, 37.27810002001433], [-121.82460686490413, 37.27811530245245], [-121.82460686490413, 37.27811530245245]]]]}\", \"centroid\": [-121.82779111834789, 37.27607120521887], \"page_url\": \"https://nextdoor.com/neighborhood/2sanramon--san-jose--ca\", \"short_name\": \"San  Ramon\", \"stroke_color\": \"#67C2A5\", \"fill_color\": \"#67C2A5\", \"stroke_weight\": 1, \"fill_opacity\": 0.35}, {\"type\": \"MULTIPOLYGON\", \"name\": \"Nextdoor Rancho\", \"info\": \"\", \"id\": 169868, \"geometry\": \"{\\\"type\\\": \\\"MultiPolygon\\\", \\\"coordinates\\\": [[[[-121.83400926554617, 37.28427314126671], [-121.83399160222893, 37.28366444886438], [-121.83414963730183, 37.28271591451669], [-121.83445332410656, 37.28215491837067], [-121.83490501548295, 37.281295970783304], [-121.83564638543294, 37.28101750838301], [-121.8372385742174, 37.279963405946], [-121.83991101733238, 37.28254121603021], [-121.83589584732033, 37.284260012231925], [-121.83400926554617, 37.28427314126671], [-121.83400926554617, 37.28427314126671], [-121.83400926554617, 37.28427314126671]]]]}\", \"centroid\": [-121.83659221963752, 37.28237188228939], \"page_url\": \"https://nextdoor.com/neighborhood/7ranchosanjose--san-jose--ca\", \"short_name\": \"Rancho\", \"stroke_color\": \"#67C2A5\", \"fill_color\": \"#67C2A5\", \"stroke_weight\": 1, \"fill_opacity\": 0.35}, {\"type\": \"MULTIPOLYGON\", \"name\": \"Nextdoor River View Skyway\", \"info\": \"\", \"id\": 234689, \"geometry\": \"{\\\"type\\\": \\\"MultiPolygon\\\", \\\"coordinates\\\": [[[[-121.8221687083037, 37.277060591173864], [-121.8221683366811, 37.27706476938372], [-121.82216467651017, 37.27706272031324], [-121.82131956875116, 37.27647404998017], [-121.82031352845132, 37.27644883078688], [-121.82030911988318, 37.2764483172023], [-121.82030487395707, 37.27644702439393], [-121.81988639486337, 37.27630673599994], [-121.81936062740897, 37.27606400077543], [-121.81934352079554, 37.27605878729342], [-121.81932575911719, 37.27605670417187], [-121.81696227601947, 37.275988671137554], [-121.81694840801879, 37.27635603582799], [-121.81694753380566, 37.27636021559519], [-121.81694327565083, 37.276360536249555], [-121.81422828809235, 37.27630170688398], [-121.81436825040453, 37.2767913785766], [-121.81397404788686, 37.27687157007556], [-121.81357984536919, 37.277011521300274], [-121.81330102118841, 37.2765486182489], [-121.8132855729175, 37.27623861576188], [-121.81261059557232, 37.276200921005234], [-121.81219264062935, 37.27632720599097], [-121.81134553224388, 37.2766669198562], [-121.8113203624003, 37.27668062666917], [-121.81085180700222, 37.27703128317058], [-121.81084714885685, 37.27703401892426], [-121.8107773933906, 37.2770857018918], [-121.81053368762315, 37.27705554932702], [-121.81001103211827, 37.27706808229264], [-121.80972746846862, 37.27710168532031], [-121.80902086630056, 37.27733963302932], [-121.80899559180165, 37.275729813372195], [-121.80899595362075, 37.27572535684342], [-121.80900039037743, 37.275724802990524], [-121.8089419535861, 37.27294609249894], [-121.81243743361239, 37.27299097371896], [-121.81243732938003, 37.272986709986725], [-121.81244157576697, 37.27298631189771], [-121.82211940879569, 37.27299004463313], [-121.82212385595352, 37.27299048120109], [-121.82212433931147, 37.27299492351699], [-121.8221687083037, 37.277060591173864], [-121.8221687083037, 37.277060591173864]]]]}\", \"centroid\": [-121.81533967150412, 37.27475184732709], \"page_url\": \"https://nextdoor.com/neighborhood/riverviewskyway--san-jose--ca\", \"short_name\": \"River View Skyway\", \"stroke_color\": \"#67C2A5\", \"fill_color\": \"#67C2A5\", \"stroke_weight\": 1, \"fill_opacity\": 0.35}, {\"type\": \"MULTIPOLYGON\", \"name\": \"Nextdoor The Woods\", \"info\": \"\", \"id\": 257380, \"geometry\": \"{\\\"type\\\": \\\"MultiPolygon\\\", \\\"coordinates\\\": [[[[-121.84196844863874, 37.27698961714544], [-121.83726508712277, 37.279979574524575], [-121.83186813936402, 37.27468123748597], [-121.83038721676706, 37.27343795766438], [-121.83700424676078, 37.273413010695094], [-121.83753802670867, 37.273174625330384], [-121.83794367411195, 37.27364304709147], [-121.83839223685953, 37.27397486675258], [-121.83914120701684, 37.27426399784286], [-121.83965414278077, 37.27458727738021], [-121.84009656042758, 37.275026652730986], [-121.84196844863874, 37.27698961714544], [-121.84196844863874, 37.27698961714544]]]]}\", \"centroid\": [-121.8367183729801, 37.276033854252645], \"page_url\": \"https://nextdoor.com/neighborhood/thewoodsca--san-jose--ca\", \"short_name\": \"The Woods\", \"stroke_color\": \"#67C2A5\", \"fill_color\": \"#67C2A5\", \"stroke_weight\": 1, \"fill_opacity\": 0.35}, {\"type\": \"MULTIPOLYGON\", \"name\": \"Nextdoor Havens-Monterey-Edenvale\", \"info\": \"\", \"id\": 169867, \"geometry\": \"{\\\"type\\\": \\\"MultiPolygon\\\", \\\"coordinates\\\": [[[[-121.82672285217467, 37.27451139803789], [-121.82524686536487, 37.27410062974259], [-121.82524228449728, 37.27409885768063], [-121.82524048708001, 37.274094286702386], [-121.82470053083875, 37.27396036619833], [-121.82216501109042, 37.2730068435217], [-121.82207215152539, 37.272995125881295], [-121.81817635902996, 37.272963918137904], [-121.81363683637096, 37.27298393581455], [-121.8136323020974, 37.27298347775662], [-121.8136319809472, 37.27297893173458], [-121.81365329496248, 37.26919586192734], [-121.8152453035986, 37.26916844975757], [-121.8152714689819, 37.26625681923488], [-121.81383381375122, 37.26623534649336], [-121.81385238171845, 37.26245402785914], [-121.82201120656532, 37.267457894107906], [-121.82976233564199, 37.273016697386424], [-121.82796364417078, 37.27458364511259], [-121.82721450214001, 37.2746328954544], [-121.82672285217467, 37.27451139803789]]]]}\", \"centroid\": [-121.81998311213086, 37.26982761251733], \"page_url\": \"https://nextdoor.com/neighborhood/havensmontereyedenvale--san-jose--ca\", \"short_name\": \"Havens-Monterey-Edenvale\", \"stroke_color\": \"#67C2A5\", \"fill_color\": \"#67C2A5\", \"stroke_weight\": 1, \"fill_opacity\": 0.35}, {\"type\": \"MULTIPOLYGON\", \"name\": \"Nextdoor Park Place\", \"info\": \"\", \"id\": 170042, \"geometry\": \"{\\\"type\\\": \\\"MultiPolygon\\\", \\\"coordinates\\\": [[[[-121.83165928559964, 37.26801537939611], [-121.8316591278857, 37.26801581677803], [-121.83150089788398, 37.26834787322138], [-121.8315001580209, 37.26835003035562], [-121.83149992612005, 37.26835229902208], [-121.831519022566, 37.269891296052194], [-121.8315192403872, 37.26989325140972], [-121.83151983683388, 37.269895126275166], [-121.83152078881847, 37.26989684807495], [-121.83169900320286, 37.270134131526156], [-121.83133294677941, 37.27034139463027], [-121.82895984599168, 37.27246115712966], [-121.8246832839339, 37.26938333683985], [-121.82466440329677, 37.26617061979949], [-121.8253405412404, 37.26604584811916], [-121.8311231513909, 37.26600077898902], [-121.83115504526569, 37.266683445383364], [-121.83124609405547, 37.26704185274775], [-121.8314096356471, 37.26734059081326], [-121.83163088131164, 37.26766072305232], [-121.83183806366844, 37.26790617016012], [-121.83165900792716, 37.268015006469064], [-121.83165928559964, 37.26801537939611], [-121.83165928559964, 37.26801537939611], [-121.83165928559964, 37.26801537939611]]]]}\", \"centroid\": [-121.82824331341612, 37.2686428372683], \"page_url\": \"https://nextdoor.com/neighborhood/10parkplace--san-jose--ca\", \"short_name\": \"Park Place\", \"stroke_color\": \"#67C2A5\", \"fill_color\": \"#67C2A5\", \"stroke_weight\": 1, \"fill_opacity\": 0.35}, {\"type\": \"MULTIPOLYGON\", \"name\": \"Nextdoor Hayes\", \"info\": \"\", \"id\": 170018, \"geometry\": \"{\\\"type\\\": \\\"MultiPolygon\\\", \\\"coordinates\\\": [[[[-121.82537500000001, 37.266041], [-121.82471299999997, 37.26613], [-121.82469800000001, 37.262985], [-121.824637, 37.262983], [-121.82461899999998, 37.262657], [-121.82374400000003, 37.262598], [-121.823712, 37.261688], [-121.821778, 37.261693], [-121.82095800000002, 37.261457], [-121.82074, 37.261431], [-121.82046500000001, 37.261425], [-121.81997000000001, 37.261535], [-121.81957899999998, 37.261666], [-121.81942400000003, 37.26168], [-121.819432, 37.258885], [-121.83095600000001, 37.258765], [-121.83107060185245, 37.2606413480703], [-121.83103499999999, 37.264584], [-121.83111100000002, 37.265994], [-121.82537500000001, 37.266041], [-121.82537500000001, 37.266041]]]]}\", \"centroid\": [-121.82644906103155, 37.26189606709322], \"page_url\": \"https://nextdoor.com/neighborhood/2hayes--san-jose--ca\", \"short_name\": \"Hayes\", \"stroke_color\": \"#67C2A5\", \"fill_color\": \"#67C2A5\", \"stroke_weight\": 1, \"fill_opacity\": 0.35}, {\"type\": \"MULTIPOLYGON\", \"name\": \"Nextdoor Capitol Village - Baroni\", \"info\": \"\", \"id\": 223440, \"geometry\": \"{\\\"type\\\": \\\"MultiPolygon\\\", \\\"coordinates\\\": [[[[-121.83966666788069, 37.27460532490846], [-121.8391531890432, 37.27428546040314], [-121.83841174471746, 37.27397987214029], [-121.83796592070212, 37.273664865370414], [-121.83774540224397, 37.273418157473486], [-121.84295459074093, 37.273386760831634], [-121.84358266016642, 37.27382772246036], [-121.84406465305824, 37.27419036552828], [-121.844437169235, 37.27393003739412], [-121.84492233763768, 37.274437099031644], [-121.8452680311716, 37.27497403796228], [-121.84441209506684, 37.275323152610646], [-121.84196829122527, 37.277004067097316], [-121.84082820838898, 37.275796168307565], [-121.83966666788069, 37.27460532490846], [-121.83966666788069, 37.27460532490846], [-121.83966666788069, 37.27460532490846]]]]}\", \"centroid\": [-121.84188208644096, 37.27472624279541], \"page_url\": \"https://nextdoor.com/neighborhood/capitolvillagebaroni--san-jose--ca\", \"short_name\": \"Capitol Village - Baroni\", \"stroke_color\": \"#67C2A5\", \"fill_color\": \"#67C2A5\", \"stroke_weight\": 1, \"fill_opacity\": 0.35}, {\"type\": \"MULTIPOLYGON\", \"name\": \"Nextdoor Frontier Village\", \"info\": \"\", \"id\": 176961, \"geometry\": \"{\\\"type\\\": \\\"MultiPolygon\\\", \\\"coordinates\\\": [[[[-121.8247250233552, 37.26611237329981], [-121.82467886112295, 37.2661616995813], [-121.8246830961831, 37.26938531658402], [-121.82374499253763, 37.26869418738375], [-121.82199149735169, 37.26744807108217], [-121.81935354270058, 37.265826696492375], [-121.81942887177968, 37.26166389484042], [-121.81957239836538, 37.26165586141937], [-121.81999487468852, 37.2615282839382], [-121.82047504690877, 37.26142682831831], [-121.82094449029313, 37.26145772525838], [-121.82177086002605, 37.26169955539019], [-121.82371595121964, 37.26170607315902], [-121.82375253498935, 37.26259704050595], [-121.82460987471768, 37.26264693598788], [-121.82463991785482, 37.26299513389762], [-121.82470214750003, 37.26299751357733], [-121.8247250233552, 37.26611237329981], [-121.8247250233552, 37.26611237329981]]]]}\", \"centroid\": [-121.82223200749688, 37.26475017410156], \"page_url\": \"https://nextdoor.com/neighborhood/frontiervillage--san-jose--ca\", \"short_name\": \"Frontier Village\", \"stroke_color\": \"#67C2A5\", \"fill_color\": \"#67C2A5\", \"stroke_weight\": 1, \"fill_opacity\": 0.35}, {\"type\": \"MULTIPOLYGON\", \"name\": \"Nextdoor Parkview\", \"info\": \"\", \"id\": 170041, \"geometry\": \"{\\\"type\\\": \\\"MultiPolygon\\\", \\\"coordinates\\\": [[[[-121.84733042075891, 37.27323730912491], [-121.84732616808958, 37.27323825271329], [-121.84732420444891, 37.27323436431117], [-121.8464685780225, 37.27344502914228], [-121.84602333045063, 37.273490598778075], [-121.84530449755937, 37.273493480841466], [-121.84465003680907, 37.27378098229641], [-121.8440733601202, 37.274179469372754], [-121.84406925710778, 37.27418127569801], [-121.84406539175995, 37.274179004881496], [-121.84298624298049, 37.27339918360302], [-121.84296801623645, 37.27338873529427], [-121.84294800879081, 37.27338232565509], [-121.84292710373501, 37.273380237595006], [-121.83797756954266, 37.27340838448702], [-121.83797295335103, 37.273407962156405], [-121.83796995227772, 37.27340442928968], [-121.83774095351902, 37.273430038922605], [-121.83757632777667, 37.27316537245267], [-121.83556634223214, 37.270245471266705], [-121.83517641093255, 37.26970757999306], [-121.83562733416579, 37.26947978102128], [-121.83609971507116, 37.2685860150065], [-121.83604878426223, 37.26602740296853], [-121.84657296082037, 37.26590509870344], [-121.84973281307975, 37.2721215743719], [-121.84978111801848, 37.272265480572955], [-121.84980260086718, 37.27244780584407], [-121.84733042075891, 37.27323730912491], [-121.84733042075891, 37.27323730912491], [-121.84733042075891, 37.27323730912491]]]]}\", \"centroid\": [-121.84229644489677, 37.269789156611104], \"page_url\": \"https://nextdoor.com/neighborhood/10parkview--san-jose--ca\", \"short_name\": \"Parkview\", \"stroke_color\": \"#67C2A5\", \"fill_color\": \"#67C2A5\", \"stroke_weight\": 1, \"fill_opacity\": 0.35}, {\"type\": \"MULTIPOLYGON\", \"name\": \"Nextdoor Colony  Green\", \"info\": \"\", \"id\": 170221, \"geometry\": \"{\\\"type\\\": \\\"MultiPolygon\\\", \\\"coordinates\\\": [[[[-121.84296843665373, 37.25901123574521], [-121.84031487434032, 37.259015986016465], [-121.8402988671279, 37.25828534029487], [-121.84045534482834, 37.25774533117827], [-121.84043470595458, 37.25594295965149], [-121.8405748695236, 37.25536042105384], [-121.8405849407244, 37.255000716271816], [-121.84278227477262, 37.254974003832274], [-121.84325974530651, 37.257106653628135], [-121.84354562789844, 37.25755150430286], [-121.84296061046746, 37.25868357844244], [-121.84296843665373, 37.25901123574521], [-121.84296843665373, 37.25901123574521]]]]}\", \"centroid\": [-121.84178516581903, 37.257072011784565], \"page_url\": \"https://nextdoor.com/neighborhood/10colonygreen--san-jose--ca\", \"short_name\": \"Colony  Green\", \"stroke_color\": \"#67C2A5\", \"fill_color\": \"#67C2A5\", \"stroke_weight\": 1, \"fill_opacity\": 0.35}, {\"type\": \"MULTIPOLYGON\", \"name\": \"Nextdoor Del Robles\", \"info\": \"\", \"id\": 170222, \"geometry\": \"{\\\"type\\\": \\\"MultiPolygon\\\", \\\"coordinates\\\": [[[[-121.84031487434032, 37.259015986016465], [-121.8326404809477, 37.25901031101274], [-121.83181479832024, 37.2587509767178], [-121.83094112468126, 37.25874303961868], [-121.83082572156428, 37.251273755778136], [-121.83349173944845, 37.251266317178285], [-121.83464235817746, 37.25116865746883], [-121.83575410934492, 37.25099172673684], [-121.83575006156235, 37.251241798511096], [-121.83576871045665, 37.253093207163076], [-121.83514171245724, 37.25311998885189], [-121.83412311194161, 37.253121151071916], [-121.8341371618967, 37.25401685423951], [-121.83515269746385, 37.2540078281574], [-121.83514548111657, 37.253123718695726], [-121.83576858388773, 37.2530978560447], [-121.83578174179507, 37.25410417152173], [-121.83997537408851, 37.25405862058821], [-121.83996227134372, 37.25500861488878], [-121.8405849407244, 37.255000716271816], [-121.8405748695236, 37.25536042105384], [-121.84043470595458, 37.25594295965149], [-121.84045534482834, 37.25774533117827], [-121.8402988671279, 37.25828534029487], [-121.84031487434032, 37.259015986016465], [-121.84031487434032, 37.259015986016465], [-121.84031487434032, 37.259015986016465], [-121.84031487434032, 37.259015986016465]]]]}\", \"centroid\": [-121.83512477709799, 37.25565975827236], \"page_url\": \"https://nextdoor.com/neighborhood/10delrobles--san-jose--ca\", \"short_name\": \"Del Robles\", \"stroke_color\": \"#67C2A5\", \"fill_color\": \"#67C2A5\", \"stroke_weight\": 1, \"fill_opacity\": 0.35}, {\"type\": \"MULTIPOLYGON\", \"name\": \"Nextdoor Berry Park\", \"info\": \"\", \"id\": 182946, \"geometry\": \"{\\\"type\\\": \\\"MultiPolygon\\\", \\\"coordinates\\\": [[[[-121.83699970441677, 37.27342245329562], [-121.83038285666015, 37.27344147165533], [-121.82896005955195, 37.27246012434002], [-121.83124295873398, 37.27041192773851], [-121.83170601776925, 37.27011396438045], [-121.83153071105897, 37.269909916997925], [-121.83149879572295, 37.26833972957125], [-121.83167585541446, 37.26800897836], [-121.83185291510603, 37.267908755956775], [-121.83218551749803, 37.2682049474521], [-121.83260395057846, 37.268475523545504], [-121.83316722294569, 37.26870767743262], [-121.83383778367352, 37.268914216516414], [-121.83383795315603, 37.26891258565532], [-121.83431401199527, 37.269076294775545], [-121.83472569781821, 37.269325383429425], [-121.8350193664445, 37.26954885738726], [-121.8352915773986, 37.26984063411841], [-121.83758372298132, 37.27315543556455], [-121.83699970441677, 37.27342245329562], [-121.83699970441677, 37.27342245329562], [-121.83699970441677, 37.27342245329562]]]]}\", \"centroid\": [-121.8332721182949, 37.27145124812787], \"page_url\": \"https://nextdoor.com/neighborhood/10berrypark2--san-jose--ca\", \"short_name\": \"Berry Park\", \"stroke_color\": \"#67C2A5\", \"fill_color\": \"#67C2A5\", \"stroke_weight\": 1, \"fill_opacity\": 0.35}, {\"type\": \"MULTIPOLYGON\", \"name\": \"Nextdoor Oak Grove\", \"info\": \"\", \"id\": 170016, \"geometry\": \"{\\\"type\\\": \\\"MultiPolygon\\\", \\\"coordinates\\\": [[[[-121.83097065459589, 37.258750608587555], [-121.81938373741264, 37.25888918280493], [-121.81281791550532, 37.258882591049556], [-121.8122368225919, 37.258943198582145], [-121.81174156036701, 37.259106275848715], [-121.81144067850931, 37.259215374472475], [-121.8110498840984, 37.25939798157055], [-121.810723462704, 37.25964036182506], [-121.81014309405072, 37.26025932729414], [-121.8025146814723, 37.2557487687562], [-121.80761652315232, 37.25188547620086], [-121.80842930251725, 37.25152169469035], [-121.8091347935216, 37.25131163205396], [-121.8098080980177, 37.25123820951014], [-121.81033584014972, 37.25126682405036], [-121.81168970265838, 37.25146623894921], [-121.8127130004143, 37.25150638783897], [-121.82833896854004, 37.2513940422519], [-121.82918893800019, 37.25131224932116], [-121.83085429900086, 37.251298776554805], [-121.83086956145411, 37.254768596111944], [-121.83097065459589, 37.258750608587555], [-121.83097065459589, 37.258750608587555], [-121.83097065459589, 37.258750608587555], [-121.83097065459589, 37.258750608587555], [-121.83097065459589, 37.258750608587555]]]]}\", \"centroid\": [-121.81790595736643, 37.25523352398664], \"page_url\": \"https://nextdoor.com/neighborhood/2oakgrovesanjose--san-jose--ca\", \"short_name\": \"Oak Grove\", \"stroke_color\": \"#67C2A5\", \"fill_color\": \"#67C2A5\", \"stroke_weight\": 1, \"fill_opacity\": 0.35}, {\"type\": \"MULTIPOLYGON\", \"name\": \"Nextdoor Seven Trees\", \"info\": \"\", \"id\": 169964, \"geometry\": \"{\\\"type\\\": \\\"MultiPolygon\\\", \\\"coordinates\\\": [[[[-121.82726086128412, 37.28713246473534], [-121.82374692452555, 37.28312352386413], [-121.8234520605368, 37.28255446314101], [-121.82328818979602, 37.27811529147252], [-121.83216047936014, 37.27805145419698], [-121.83470827234822, 37.27810206923897], [-121.83519612881287, 37.27794779637539], [-121.83726174921486, 37.27997302069957], [-121.83495083000048, 37.28166408943609], [-121.83445336935029, 37.28239835238626], [-121.83420267192946, 37.283098462492404], [-121.83410897285808, 37.28383283168717], [-121.83411469376438, 37.28478937650506], [-121.83222943908794, 37.284377257425525], [-121.82726086128412, 37.28713246473534], [-121.82726086128412, 37.28713246473534]]]]}\", \"centroid\": [-121.82938496050137, 37.28157164493533], \"page_url\": \"https://nextdoor.com/neighborhood/7seventrees--san-jose--ca\", \"short_name\": \"Seven Trees\", \"stroke_color\": \"#67C2A5\", \"fill_color\": \"#67C2A5\", \"stroke_weight\": 1, \"fill_opacity\": 0.35}, {\"type\": \"MULTIPOLYGON\", \"name\": \"Nextdoor Avana Skyway\", \"info\": \"\", \"id\": 322348, \"geometry\": \"{\\\"type\\\": \\\"MultiPolygon\\\", \\\"coordinates\\\": [[[[-121.8360515683695, 37.26602677202032], [-121.83610459616466, 37.268594418464495], [-121.83564294802147, 37.269459849542486], [-121.83517055787303, 37.26970890275868], [-121.8350307616426, 37.26954813424238], [-121.83474044034551, 37.26933759003701], [-121.83429927262011, 37.26907872226406], [-121.8331883202012, 37.268711473979835], [-121.83260308074921, 37.26847229522604], [-121.83218950267411, 37.268207501384175], [-121.8318325099317, 37.26790007233028], [-121.83162719147037, 37.26766951382514], [-121.83143906919531, 37.267377073816505], [-121.83124021808413, 37.26704194146938], [-121.83115365210756, 37.2666619745875], [-121.83111072948645, 37.26599701818959], [-121.83099270501282, 37.263684119568765], [-121.83831246442287, 37.26350892516025], [-121.83830308219552, 37.265999957023055], [-121.8360515683695, 37.26602677202032]]]]}\", \"centroid\": [-121.83438410511644, 37.2659425090514], \"page_url\": null, \"short_name\": \"Avana Skyway\", \"stroke_color\": \"#00b246\", \"fill_color\": \"#00b246\", \"stroke_weight\": 1, \"fill_opacity\": 0.45}],\n",
      "            hoodId: 322348\n",
      "          },\n",
      "          realestateUrl: \"https://realestate.nextdoor.com\",\n",
      "          shortName: \"Avana Skyway\",\n",
      "          snippets: [{\"subject\": \"Water Bill\", \"commentCount\": \"0\", \"postId\": \"100452153\", \"category\": \"General\"}, {\"subject\": \"Fantasy of Lights\", \"commentCount\": \"0\", \"postId\": \"97754465\", \"category\": \"General\"}],\n",
      "          stateName: \"California\",\n",
      "          stateAbbreviation: \"CA\"\n",
      "        }\n",
      "b\"{'type': 'MultiPolygon', 'coordinates': [[[[-121.8360515683695, 37.26602677202032], [-121.83610459616466, 37.268594418464495], [-121.83564294802147, 37.269459849542486], [-121.83517055787303, 37.26970890275868], [-121.8350307616426, 37.26954813424238], [-121.83474044034551, 37.26933759003701], [-121.83429927262011, 37.26907872226406], [-121.8331883202012, 37.268711473979835], [-121.83260308074921, 37.26847229522604], [-121.83218950267411, 37.268207501384175], [-121.8318325099317, 37.26790007233028], [-121.83162719147037, 37.26766951382514], [-121.83143906919531, 37.267377073816505], [-121.83124021808413, 37.26704194146938], [-121.83115365210756, 37.2666619745875], [-121.83111072948645, 37.26599701818959], [-121.83099270501282, 37.263684119568765], [-121.83831246442287, 37.26350892516025], [-121.83830308219552, 37.265999957023055], [-121.8360515683695, 37.26602677202032]]]]}\"\n",
      "Error parsing\n"
     ]
    }
   ],
   "source": [
    "for index, row in df_nextdoor_neighborhoods.iterrows():\n",
    "    row = df_nextdoor_neighborhoods.iloc[10]\n",
    "    print(row)\n",
    "    neighborhood_lookup = row[\"Link\"]\n",
    "    print(neighborhood_lookup)\n",
    "    response = requests.get(neighborhood_lookup)\n",
    "    responseTxt = response.text.encode('UTF-8')\n",
    "    html_soup = BeautifulSoup(responseTxt, 'html.parser')\n",
    "     \n",
    "    try:\n",
    "        scripts = html_soup.findAll('script')\n",
    "        neighborhood_info = scripts[5].string.strip()\n",
    "        neighborhood_info = neighborhood_info[neighborhood_info.index('['):-1]\n",
    "        print(neighborhood_info)\n",
    "\n",
    "        neighborhoodGeometries = neighborhood_info[neighborhood_info.index('neighborhoodGeometriesJSON: '): neighborhood_info.index('neighborhoodMapOptions:{')]\n",
    "        neighborhoodGeometries = neighborhoodGeometries.lstrip()\n",
    "        neighborhoodGeometries = neighborhoodGeometries.rstrip()\n",
    "        begIndex = len('neighborhoodGeometriesJSON: ')\n",
    "        neighborhoodGeometries = neighborhoodGeometries[begIndex: -1]\n",
    "        neighborhood_json = json.loads(neighborhoodGeometries)\n",
    "\n",
    "        findAllTheNeighborhoods(row, neighborhoodInfo, neighborhood_json)\n",
    "\n",
    "        # Update with the interest info\n",
    "        try:\n",
    "            begInterestIndex = neighborhood_info.index('interests: [')\n",
    "            endInterestIndex = neighborhood_info.index('iosUrl: \"https://')\n",
    "            if ((begInterestIndex > 0) and (endInterestIndex > 0)):\n",
    "                interests = neighborhood_info[begInterestIndex: endInterestIndex]\n",
    "                interests = interests[interests.index('[') +1: interests.index(']')]\n",
    "                print(\"Interests: %s\\n\" % interests)\n",
    "                interests = interests.replace('\"', \"\")\n",
    "                interest_list = interests.split(\", \")\n",
    "                row[\"Interests\"] = interest_list\n",
    "                row[\"Gardening Interest\"] = interest_list.index('Gardening & Landscape')\n",
    "        except:\n",
    "            print(\"No interests found for: %s\", row[\"Hood Name\"])\n",
    "        \n",
    "        # Update with the attribute info\n",
    "        try:\n",
    "            begAttrIndex = neighborhood_info.index('attributes: [')\n",
    "            endAttrIndex = neighborhood_info.index('census:')\n",
    "            if ((begAttrIndex > 0) and (endAttrIndex > 0)):\n",
    "            attributes = neighborhood_info[begAttrIndex: endAttrIndex]\n",
    "            attributes = attributes[attributes.index('[') + 1: attributes.index(']')]\n",
    "            print(\"Attributes: %s\\n\" % attributes)\n",
    "            attributes = attributes.replace('\"', \"\")\n",
    "            attributes_list = attributes.split(\", \")\n",
    "            row[\"Attributes\"] = attributes_list\n",
    "        except:\n",
    "            print(\"No attributes found for: %s\", row[\"Hood Name\"])\n",
    "           \n",
    "        # Update with the census info\n",
    "        try:\n",
    "        begCensusIndex = neighborhood_info.index('census: {')\n",
    "        endCensusIndex = neighborhood_info.index('city: ')\n",
    "        if ((begCensusIndex > 0) and (endCensusIndex > 0)):\n",
    "            census = neighborhood_info[begCensusIndex: endCensusIndex]\n",
    "            census = census[census.index('{'): census.index('}')+1]\n",
    "            census = json.loads(census)\n",
    "            row[\"Homeowners\"] = census['homeowners']\n",
    "            row[\"Population\"] = census['population']\n",
    "            row[\"Average Age\"] = census['age']\n",
    "    except:\n",
    "        print(\"No census found for: %s\", row[\"Hood Name\"])\n",
    "        \n",
    "    except:\n",
    "        print(\"Error parsing\")"
   ]
  },
  {
   "cell_type": "code",
   "execution_count": 78,
   "metadata": {},
   "outputs": [
    {
     "name": "stdout",
     "output_type": "stream",
     "text": [
      "State                                                                         CA\n",
      "County                                                               Santa Clara\n",
      "City                                                                    San Jose\n",
      "Neighborhood                                                        Avana Skyway\n",
      "Link                           https://nextdoor.com/neighborhood/avanaskyway-...\n",
      "Similar Google Neighborhood                                                 None\n",
      "Google Place ID                                                             None\n",
      "Hood Name                                                                   None\n",
      "Hood ID                                                                     None\n",
      "GeoJSON                                                                     None\n",
      "Interests                                                                   None\n",
      "Homeowners                                                                  None\n",
      "Population                                                                  None\n",
      "Average Age                                                                 None\n",
      "Attributes                                                                  None\n",
      "Name: 11, dtype: object\n"
     ]
    }
   ],
   "source": [
    "print(row)"
   ]
  },
  {
   "cell_type": "code",
   "execution_count": 241,
   "metadata": {},
   "outputs": [
    {
     "data": {
      "text/html": [
       "<div>\n",
       "<style scoped>\n",
       "    .dataframe tbody tr th:only-of-type {\n",
       "        vertical-align: middle;\n",
       "    }\n",
       "\n",
       "    .dataframe tbody tr th {\n",
       "        vertical-align: top;\n",
       "    }\n",
       "\n",
       "    .dataframe thead th {\n",
       "        text-align: right;\n",
       "    }\n",
       "</style>\n",
       "<table border=\"1\" class=\"dataframe\">\n",
       "  <thead>\n",
       "    <tr style=\"text-align: right;\">\n",
       "      <th></th>\n",
       "      <th>State</th>\n",
       "      <th>County</th>\n",
       "      <th>City</th>\n",
       "      <th>Neighborhood</th>\n",
       "      <th>Link</th>\n",
       "      <th>Similar Google Neighborhood</th>\n",
       "      <th>Google Place ID</th>\n",
       "      <th>Hood Name</th>\n",
       "      <th>Hood ID</th>\n",
       "      <th>Geometry</th>\n",
       "      <th>Interests</th>\n",
       "      <th>encoded</th>\n",
       "    </tr>\n",
       "  </thead>\n",
       "  <tbody>\n",
       "    <tr>\n",
       "      <th>0</th>\n",
       "      <td>CA</td>\n",
       "      <td>Santa Clara</td>\n",
       "      <td>San Jose</td>\n",
       "      <td>Albanese Circle</td>\n",
       "      <td>https://nextdoor.com/neighborhood/albanesecirc...</td>\n",
       "      <td>None</td>\n",
       "      <td>None</td>\n",
       "      <td>Albanese Circle</td>\n",
       "      <td>374270</td>\n",
       "      <td>{u'type': u'MultiPolygon', u'coordinates': [[[...</td>\n",
       "      <td>\"Hiking &amp; Trails\", \"Walking\", \"Travel\", \"Campi...</td>\n",
       "      <td>{u'type': u'MultiPolygon', u'coordinates': [[[...</td>\n",
       "    </tr>\n",
       "    <tr>\n",
       "      <th>1</th>\n",
       "      <td>CA</td>\n",
       "      <td>Santa Clara</td>\n",
       "      <td>San Jose</td>\n",
       "      <td>Almaden</td>\n",
       "      <td>https://nextdoor.com/neighborhood/almadenca--s...</td>\n",
       "      <td>Almaden</td>\n",
       "      <td>ChIJ8RtyWWkwjoARKOALmJ4lSgU</td>\n",
       "      <td>Almaden</td>\n",
       "      <td>154788</td>\n",
       "      <td>{u'type': u'MultiPolygon', u'coordinates': [[[...</td>\n",
       "      <td>\"Hiking &amp; Trails\", \"Gardening &amp; Landscape\", \"W...</td>\n",
       "      <td>{u'type': u'MultiPolygon', u'coordinates': [[[...</td>\n",
       "    </tr>\n",
       "    <tr>\n",
       "      <th>2</th>\n",
       "      <td>CA</td>\n",
       "      <td>Santa Clara</td>\n",
       "      <td>San Jose</td>\n",
       "      <td>Alvin/Burdette</td>\n",
       "      <td>https://nextdoor.com/neighborhood/7alvinburdet...</td>\n",
       "      <td>Alvin - Burdette</td>\n",
       "      <td>ChIJn5Y5-ZUyjoARiM0tE09NqXY</td>\n",
       "      <td>Alvin/Burdette</td>\n",
       "      <td>169900</td>\n",
       "      <td>{u'type': u'MultiPolygon', u'coordinates': [[[...</td>\n",
       "      <td>\"Cards &amp; Board Games\", \"Home Improvement &amp; DIY...</td>\n",
       "      <td>{u'type': u'MultiPolygon', u'coordinates': [[[...</td>\n",
       "    </tr>\n",
       "  </tbody>\n",
       "</table>\n",
       "</div>"
      ],
      "text/plain": [
       "  State       County      City     Neighborhood  \\\n",
       "0    CA  Santa Clara  San Jose  Albanese Circle   \n",
       "1    CA  Santa Clara  San Jose          Almaden   \n",
       "2    CA  Santa Clara  San Jose   Alvin/Burdette   \n",
       "\n",
       "                                                Link  \\\n",
       "0  https://nextdoor.com/neighborhood/albanesecirc...   \n",
       "1  https://nextdoor.com/neighborhood/almadenca--s...   \n",
       "2  https://nextdoor.com/neighborhood/7alvinburdet...   \n",
       "\n",
       "  Similar Google Neighborhood              Google Place ID        Hood Name  \\\n",
       "0                        None                         None  Albanese Circle   \n",
       "1                     Almaden  ChIJ8RtyWWkwjoARKOALmJ4lSgU          Almaden   \n",
       "2            Alvin - Burdette  ChIJn5Y5-ZUyjoARiM0tE09NqXY   Alvin/Burdette   \n",
       "\n",
       "  Hood ID                                           Geometry  \\\n",
       "0  374270  {u'type': u'MultiPolygon', u'coordinates': [[[...   \n",
       "1  154788  {u'type': u'MultiPolygon', u'coordinates': [[[...   \n",
       "2  169900  {u'type': u'MultiPolygon', u'coordinates': [[[...   \n",
       "\n",
       "                                           Interests  \\\n",
       "0  \"Hiking & Trails\", \"Walking\", \"Travel\", \"Campi...   \n",
       "1  \"Hiking & Trails\", \"Gardening & Landscape\", \"W...   \n",
       "2  \"Cards & Board Games\", \"Home Improvement & DIY...   \n",
       "\n",
       "                                             encoded  \n",
       "0  {u'type': u'MultiPolygon', u'coordinates': [[[...  \n",
       "1  {u'type': u'MultiPolygon', u'coordinates': [[[...  \n",
       "2  {u'type': u'MultiPolygon', u'coordinates': [[[...  "
      ]
     },
     "execution_count": 241,
     "metadata": {},
     "output_type": "execute_result"
    }
   ],
   "source": [
    "df_nextdoor_neighborhoods.head(3)"
   ]
  },
  {
   "cell_type": "code",
   "execution_count": 175,
   "metadata": {},
   "outputs": [],
   "source": [
    "df_nextdoor_neighborhoods.to_csv('mg_nextdoor_withprops_master.csv', index=False)"
   ]
  },
  {
   "cell_type": "code",
   "execution_count": null,
   "metadata": {},
   "outputs": [],
   "source": [
    "#Explode the Interests field\n",
    "df_nextdoor_explode_interests_neighborhoods = df_nextdoor_neighborhoods.drop('Interests', axis=1).join(df_nextdoor_neighborhoods['Interests'].str.split(',', expand=True).stack().reset_index(level=1, drop=True).rename('Interests'))\n",
    "df_nextdoor_explode_interests_neighborhoods.reset_index(drop=True, inplace=True)\n",
    "\n",
    "# List a row to verify data was exploded correctly\n",
    "df_nextdoor_explode_interests_neighborhoods.head(1)"
   ]
  },
  {
   "cell_type": "markdown",
   "metadata": {},
   "source": [
    "### Quality\n",
    "\n",
    "##### Data Quality Dimensions\n",
    "Completeness: Do we have all of the records that we should? Do we have missing records or not? Are there specific rows, columns, or cells missing? \n",
    "\n",
    "Validity: We have the records, but they're not valid, i.e., they don't conform to a defined schema. A schema is a defined set of rules for data. These rules can be real-world constraints (e.g. negative height is impossible) and table-specific constraints (e.g. unique key constraints in tables). \n",
    "\n",
    "Accuracy: Inaccurate data is wrong data that is valid. It adheres to the defined schema, but it is still incorrect. Example: a patient's weight that is 5 lbs too heavy because the scale was faulty. \n",
    "\n",
    "Consistency: Inconsistent data is both valid and accurate, but there are multiple correct ways of referring to the same thing. Consistency, i.e., a standard format, in columns that represent the same data across tables and/or within tables is desired. \n",
    "\n",
    "##### `df_tweets` Table Actions \n",
    "- Blah Blah\n",
    "##### `df_tweet_additional_info` Table Actions\n",
    "- Remove retweets.\n",
    "- \n",
    "\n",
    "### Tidiness\n",
    "##### Tidiness Criteria:\n",
    "- Each variable you measure should be in one column.\n",
    "- Each different observation of that variable should be in a different row.\n",
    "- There should be one table for each “kind” of variable.\n",
    "- Related tables should each include a column that allows them to be linked.\n",
    "##### Tidiness Actions\n",
    "- "
   ]
  },
  {
   "cell_type": "markdown",
   "metadata": {},
   "source": [
    "## Clean"
   ]
  },
  {
   "cell_type": "markdown",
   "metadata": {},
   "source": [
    "##### Define\n",
    "Remove tweets from the df_tweets and df_tweet_additional_info tables that do not have images in the df_image_predict table.\n",
    "\n",
    "##### Code"
   ]
  },
  {
   "cell_type": "code",
   "execution_count": null,
   "metadata": {},
   "outputs": [],
   "source": []
  },
  {
   "cell_type": "markdown",
   "metadata": {},
   "source": [
    "##### Test"
   ]
  },
  {
   "cell_type": "code",
   "execution_count": null,
   "metadata": {},
   "outputs": [],
   "source": []
  },
  {
   "cell_type": "markdown",
   "metadata": {},
   "source": [
    "## Storing\n",
    "\n",
    "Store the clean DataFrame in a CSV file named SantaClaraMasterGardener_master.csv."
   ]
  },
  {
   "cell_type": "code",
   "execution_count": null,
   "metadata": {},
   "outputs": [],
   "source": []
  },
  {
   "cell_type": "markdown",
   "metadata": {},
   "source": [
    "## Analysis and Visualization"
   ]
  },
  {
   "cell_type": "markdown",
   "metadata": {},
   "source": [
    "### Viz 1:"
   ]
  },
  {
   "cell_type": "code",
   "execution_count": null,
   "metadata": {},
   "outputs": [],
   "source": []
  }
 ],
 "metadata": {
  "kernelspec": {
   "display_name": "Python 3",
   "language": "python",
   "name": "python3"
  },
  "language_info": {
   "codemirror_mode": {
    "name": "ipython",
    "version": 3
   },
   "file_extension": ".py",
   "mimetype": "text/x-python",
   "name": "python",
   "nbconvert_exporter": "python",
   "pygments_lexer": "ipython3",
   "version": "3.6.7"
  }
 },
 "nbformat": 4,
 "nbformat_minor": 2
}
